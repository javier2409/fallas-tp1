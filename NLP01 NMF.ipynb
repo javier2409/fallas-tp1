{
 "cells": [
  {
   "cell_type": "code",
   "execution_count": 1,
   "id": "592c7b5c",
   "metadata": {},
   "outputs": [],
   "source": [
    "import warnings\n",
    "warnings.filterwarnings('ignore')"
   ]
  },
  {
   "cell_type": "code",
   "execution_count": 2,
   "id": "6a6cf55d",
   "metadata": {},
   "outputs": [],
   "source": [
    "import pandas as pd"
   ]
  },
  {
   "cell_type": "code",
   "execution_count": 3,
   "id": "2c27f2e4",
   "metadata": {},
   "outputs": [],
   "source": [
    "import numpy as np"
   ]
  },
  {
   "cell_type": "code",
   "execution_count": 4,
   "id": "b172c4ce",
   "metadata": {},
   "outputs": [],
   "source": [
    "import pycaret as pc"
   ]
  },
  {
   "cell_type": "code",
   "execution_count": 5,
   "id": "e26aed0b",
   "metadata": {},
   "outputs": [],
   "source": [
    "import sklearn as sk"
   ]
  },
  {
   "cell_type": "code",
   "execution_count": 6,
   "id": "d88eab67",
   "metadata": {},
   "outputs": [],
   "source": [
    "from pycaret.nlp import *"
   ]
  },
  {
   "cell_type": "code",
   "execution_count": 7,
   "id": "b9783cf9",
   "metadata": {},
   "outputs": [
    {
     "data": {
      "text/plain": [
       "'1.22.3'"
      ]
     },
     "execution_count": 7,
     "metadata": {},
     "output_type": "execute_result"
    }
   ],
   "source": [
    "np.__version__"
   ]
  },
  {
   "cell_type": "code",
   "execution_count": 8,
   "id": "9213a461",
   "metadata": {},
   "outputs": [
    {
     "data": {
      "text/plain": [
       "'1.3.5'"
      ]
     },
     "execution_count": 8,
     "metadata": {},
     "output_type": "execute_result"
    }
   ],
   "source": [
    "pd.__version__"
   ]
  },
  {
   "cell_type": "code",
   "execution_count": 9,
   "id": "6cc964b0",
   "metadata": {},
   "outputs": [
    {
     "data": {
      "text/plain": [
       "'2.3.10'"
      ]
     },
     "execution_count": 9,
     "metadata": {},
     "output_type": "execute_result"
    }
   ],
   "source": [
    "pc.__version__"
   ]
  },
  {
   "cell_type": "code",
   "execution_count": 10,
   "id": "d87e11de",
   "metadata": {},
   "outputs": [
    {
     "data": {
      "text/plain": [
       "'0.23.2'"
      ]
     },
     "execution_count": 10,
     "metadata": {},
     "output_type": "execute_result"
    }
   ],
   "source": [
    "sk.__version__"
   ]
  },
  {
   "cell_type": "code",
   "execution_count": 11,
   "id": "b0da1c9a",
   "metadata": {},
   "outputs": [],
   "source": [
    "pd.set_option('display.max_columns', None)"
   ]
  },
  {
   "cell_type": "code",
   "execution_count": 12,
   "id": "2144cf21",
   "metadata": {},
   "outputs": [
    {
     "name": "stdout",
     "output_type": "stream",
     "text": [
      "Tokenization took: 21.84 ms\n",
      "Type conversion took: 28.86 ms\n",
      "Parser memory cleanup took: 0.00 ms\n"
     ]
    }
   ],
   "source": [
    "data = pd.read_csv(\"./kiva.csv\", sep=',', decimal='.', verbose= True, engine='c') "
   ]
  },
  {
   "cell_type": "code",
   "execution_count": 13,
   "id": "29221518",
   "metadata": {},
   "outputs": [
    {
     "data": {
      "text/plain": [
       "(6818, 7)"
      ]
     },
     "execution_count": 13,
     "metadata": {},
     "output_type": "execute_result"
    }
   ],
   "source": [
    "data.shape"
   ]
  },
  {
   "cell_type": "code",
   "execution_count": 14,
   "id": "623b9caa",
   "metadata": {},
   "outputs": [
    {
     "data": {
      "text/html": [
       "<div>\n",
       "<style scoped>\n",
       "    .dataframe tbody tr th:only-of-type {\n",
       "        vertical-align: middle;\n",
       "    }\n",
       "\n",
       "    .dataframe tbody tr th {\n",
       "        vertical-align: top;\n",
       "    }\n",
       "\n",
       "    .dataframe thead th {\n",
       "        text-align: right;\n",
       "    }\n",
       "</style>\n",
       "<table border=\"1\" class=\"dataframe\">\n",
       "  <thead>\n",
       "    <tr style=\"text-align: right;\">\n",
       "      <th></th>\n",
       "      <th>country</th>\n",
       "      <th>en</th>\n",
       "      <th>gender</th>\n",
       "      <th>loan_amount</th>\n",
       "      <th>nonpayment</th>\n",
       "      <th>sector</th>\n",
       "      <th>status</th>\n",
       "    </tr>\n",
       "  </thead>\n",
       "  <tbody>\n",
       "    <tr>\n",
       "      <th>0</th>\n",
       "      <td>Dominican Republic</td>\n",
       "      <td>\"Banco Esperanza\" is a group of 10 women looki...</td>\n",
       "      <td>F</td>\n",
       "      <td>1225</td>\n",
       "      <td>partner</td>\n",
       "      <td>Retail</td>\n",
       "      <td>0</td>\n",
       "    </tr>\n",
       "    <tr>\n",
       "      <th>1</th>\n",
       "      <td>Dominican Republic</td>\n",
       "      <td>\"Caminemos Hacia Adelante\" or \"Walking Forward...</td>\n",
       "      <td>F</td>\n",
       "      <td>1975</td>\n",
       "      <td>lender</td>\n",
       "      <td>Clothing</td>\n",
       "      <td>0</td>\n",
       "    </tr>\n",
       "    <tr>\n",
       "      <th>2</th>\n",
       "      <td>Dominican Republic</td>\n",
       "      <td>\"Creciendo Por La Union\" is a group of 10 peop...</td>\n",
       "      <td>F</td>\n",
       "      <td>2175</td>\n",
       "      <td>partner</td>\n",
       "      <td>Clothing</td>\n",
       "      <td>0</td>\n",
       "    </tr>\n",
       "    <tr>\n",
       "      <th>3</th>\n",
       "      <td>Dominican Republic</td>\n",
       "      <td>\"Cristo Vive\" (\"Christ lives\" is a group of 10...</td>\n",
       "      <td>F</td>\n",
       "      <td>1425</td>\n",
       "      <td>partner</td>\n",
       "      <td>Clothing</td>\n",
       "      <td>0</td>\n",
       "    </tr>\n",
       "    <tr>\n",
       "      <th>4</th>\n",
       "      <td>Dominican Republic</td>\n",
       "      <td>\"Cristo Vive\" is a large group of 35 people, 2...</td>\n",
       "      <td>F</td>\n",
       "      <td>4025</td>\n",
       "      <td>partner</td>\n",
       "      <td>Food</td>\n",
       "      <td>0</td>\n",
       "    </tr>\n",
       "  </tbody>\n",
       "</table>\n",
       "</div>"
      ],
      "text/plain": [
       "              country                                                 en  \\\n",
       "0  Dominican Republic  \"Banco Esperanza\" is a group of 10 women looki...   \n",
       "1  Dominican Republic  \"Caminemos Hacia Adelante\" or \"Walking Forward...   \n",
       "2  Dominican Republic  \"Creciendo Por La Union\" is a group of 10 peop...   \n",
       "3  Dominican Republic  \"Cristo Vive\" (\"Christ lives\" is a group of 10...   \n",
       "4  Dominican Republic  \"Cristo Vive\" is a large group of 35 people, 2...   \n",
       "\n",
       "  gender  loan_amount nonpayment    sector  status  \n",
       "0      F         1225    partner    Retail       0  \n",
       "1      F         1975     lender  Clothing       0  \n",
       "2      F         2175    partner  Clothing       0  \n",
       "3      F         1425    partner  Clothing       0  \n",
       "4      F         4025    partner      Food       0  "
      ]
     },
     "execution_count": 14,
     "metadata": {},
     "output_type": "execute_result"
    }
   ],
   "source": [
    "data.head()"
   ]
  },
  {
   "cell_type": "code",
   "execution_count": 15,
   "id": "289bc422",
   "metadata": {},
   "outputs": [],
   "source": [
    "data = data.sample(1000, random_state=786).reset_index(drop=True)"
   ]
  },
  {
   "cell_type": "code",
   "execution_count": 16,
   "id": "7662b5b7",
   "metadata": {},
   "outputs": [
    {
     "data": {
      "text/plain": [
       "(1000, 7)"
      ]
     },
     "execution_count": 16,
     "metadata": {},
     "output_type": "execute_result"
    }
   ],
   "source": [
    "data.shape"
   ]
  },
  {
   "cell_type": "code",
   "execution_count": 17,
   "id": "34e732d7",
   "metadata": {},
   "outputs": [
    {
     "data": {
      "text/html": [
       "<style type=\"text/css\">\n",
       "</style>\n",
       "<table id=\"T_cd4d1_\">\n",
       "  <thead>\n",
       "    <tr>\n",
       "      <th class=\"col_heading level0 col0\" >Description</th>\n",
       "      <th class=\"col_heading level0 col1\" >Value</th>\n",
       "    </tr>\n",
       "  </thead>\n",
       "  <tbody>\n",
       "    <tr>\n",
       "      <td id=\"T_cd4d1_row0_col0\" class=\"data row0 col0\" >session_id</td>\n",
       "      <td id=\"T_cd4d1_row0_col1\" class=\"data row0 col1\" >101</td>\n",
       "    </tr>\n",
       "    <tr>\n",
       "      <td id=\"T_cd4d1_row1_col0\" class=\"data row1 col0\" >Documents</td>\n",
       "      <td id=\"T_cd4d1_row1_col1\" class=\"data row1 col1\" >1000</td>\n",
       "    </tr>\n",
       "    <tr>\n",
       "      <td id=\"T_cd4d1_row2_col0\" class=\"data row2 col0\" >Vocab Size</td>\n",
       "      <td id=\"T_cd4d1_row2_col1\" class=\"data row2 col1\" >4636</td>\n",
       "    </tr>\n",
       "    <tr>\n",
       "      <td id=\"T_cd4d1_row3_col0\" class=\"data row3 col0\" >Custom Stopwords</td>\n",
       "      <td id=\"T_cd4d1_row3_col1\" class=\"data row3 col1\" >True</td>\n",
       "    </tr>\n",
       "  </tbody>\n",
       "</table>\n"
      ],
      "text/plain": [
       "<pandas.io.formats.style.Styler at 0x7f42b9ff9670>"
      ]
     },
     "metadata": {},
     "output_type": "display_data"
    }
   ],
   "source": [
    "exp_nlp101 = setup(data = data, \n",
    "                   target = 'en', \n",
    "                   custom_stopwords = ['loan', 'income', 'usd', 'many', 'also', 'make', 'business', 'buy', \n",
    "                                       'sell', 'purchase','year', 'people', 'able', 'enable', 'old', 'woman',\n",
    "                                       'child', 'school'],\n",
    "                   session_id = 101,\n",
    "                   log_experiment = True,\n",
    "                   experiment_name = 'EX001')"
   ]
  },
  {
   "cell_type": "raw",
   "id": "04563699",
   "metadata": {},
   "source": [
    "data: pandas.Dataframe\n",
    "target: str - name of column containing text\n",
    "custom_stopwords: list\n",
    "html: bool, default = True - prevents runtime display of monitor\n",
    "session_id: int\n",
    "log_experiment: bool - MLFlow \n",
    "experiment_name: str \n",
    "experiment_custom_tags: dict - passed to the mlflow.set_tags to add new custom tags for the experiment\n",
    "log_plots: bool - certain plots are logged automatically in the MLFlow   \n",
    "log_data: bool - dataset is logged on the MLflow\n",
    "verbose: bool, default = True\n",
    "    Returns: Global variables that can be changed using the set_config function    "
   ]
  },
  {
   "cell_type": "markdown",
   "id": "bc035586",
   "metadata": {},
   "source": [
    "### [Evaluate Topic Models: Latent Dirichlet Allocation (LDA)](https://towardsdatascience.com/evaluate-topic-model-in-python-latent-dirichlet-allocation-lda-7d57484bb5d0)"
   ]
  },
  {
   "cell_type": "markdown",
   "id": "05ef2547",
   "metadata": {},
   "source": [
    "### [Evaluating Topic Models](https://www.youtube.com/watch?v=UkmIljRIG_M)"
   ]
  },
  {
   "cell_type": "markdown",
   "id": "878c2ac3",
   "metadata": {},
   "source": [
    "### [Latent Dirichlet Allocation](https://radimrehurek.com/gensim/models/ldamodel.html)"
   ]
  },
  {
   "cell_type": "code",
   "execution_count": 18,
   "id": "56a5ccec",
   "metadata": {},
   "outputs": [],
   "source": [
    "lda = create_model('nmf', num_topics = 4, multi_core = True)"
   ]
  },
  {
   "cell_type": "raw",
   "id": "8b0c3ccc",
   "metadata": {},
   "source": [
    "Models available in the model library (ID - Name):\n",
    "'lda' - Latent Dirichlet Allocation\n",
    "'lsi' - Latent Semantic Indexing\n",
    "'hdp' - Hierarchical Dirichlet Process\n",
    "'rp'  - Random Projections\n",
    "'nmf' - Non-Negative Matrix Factorization"
   ]
  },
  {
   "cell_type": "raw",
   "id": "20314d7b",
   "metadata": {},
   "source": [
    "multi_core: bool\n",
    "topic_num: str - Topic number to be passed as a string\n",
    "save: string - Plot is saved as png file in the specified directory when the path to the directory is specified\n",
    "system: bool - Must remain True all times\n",
    "display_format: str - To display plots in Streamlit (https://www.streamlit.io/), set this to ‘streamlit’.    "
   ]
  },
  {
   "cell_type": "code",
   "execution_count": 19,
   "id": "60bb22d8",
   "metadata": {},
   "outputs": [
    {
     "name": "stdout",
     "output_type": "stream",
     "text": [
      "NMF(alpha=0.0, beta_loss='frobenius', init='nndsvd', l1_ratio=0.0, max_iter=200,\n",
      "    n_components=4, random_state=101, shuffle=False, solver='cd', tol=0.0001,\n",
      "    verbose=0)\n"
     ]
    }
   ],
   "source": [
    "print(lda)"
   ]
  },
  {
   "cell_type": "code",
   "execution_count": 20,
   "id": "4d32dc82",
   "metadata": {},
   "outputs": [],
   "source": [
    "lda_results = assign_model(lda)"
   ]
  },
  {
   "cell_type": "code",
   "execution_count": 21,
   "id": "1d931907",
   "metadata": {},
   "outputs": [
    {
     "data": {
      "text/html": [
       "<div>\n",
       "<style scoped>\n",
       "    .dataframe tbody tr th:only-of-type {\n",
       "        vertical-align: middle;\n",
       "    }\n",
       "\n",
       "    .dataframe tbody tr th {\n",
       "        vertical-align: top;\n",
       "    }\n",
       "\n",
       "    .dataframe thead th {\n",
       "        text-align: right;\n",
       "    }\n",
       "</style>\n",
       "<table border=\"1\" class=\"dataframe\">\n",
       "  <thead>\n",
       "    <tr style=\"text-align: right;\">\n",
       "      <th></th>\n",
       "      <th>country</th>\n",
       "      <th>en</th>\n",
       "      <th>gender</th>\n",
       "      <th>loan_amount</th>\n",
       "      <th>nonpayment</th>\n",
       "      <th>sector</th>\n",
       "      <th>status</th>\n",
       "      <th>Topic_0</th>\n",
       "      <th>Topic_1</th>\n",
       "      <th>Topic_2</th>\n",
       "      <th>Topic_3</th>\n",
       "      <th>Dominant_Topic</th>\n",
       "      <th>Perc_Dominant_Topic</th>\n",
       "    </tr>\n",
       "  </thead>\n",
       "  <tbody>\n",
       "    <tr>\n",
       "      <th>0</th>\n",
       "      <td>Kenya</td>\n",
       "      <td>praxide marry primary train tailor operate sma...</td>\n",
       "      <td>F</td>\n",
       "      <td>75</td>\n",
       "      <td>partner</td>\n",
       "      <td>Services</td>\n",
       "      <td>0</td>\n",
       "      <td>0.027596</td>\n",
       "      <td>0.005362</td>\n",
       "      <td>0.003764</td>\n",
       "      <td>0.006882</td>\n",
       "      <td>Topic 0</td>\n",
       "      <td>0.63</td>\n",
       "    </tr>\n",
       "    <tr>\n",
       "      <th>1</th>\n",
       "      <td>Kenya</td>\n",
       "      <td>gynaecology practitioner run live wife biologi...</td>\n",
       "      <td>M</td>\n",
       "      <td>1200</td>\n",
       "      <td>partner</td>\n",
       "      <td>Health</td>\n",
       "      <td>0</td>\n",
       "      <td>0.015862</td>\n",
       "      <td>0.003528</td>\n",
       "      <td>0.006168</td>\n",
       "      <td>0.010608</td>\n",
       "      <td>Topic 0</td>\n",
       "      <td>0.44</td>\n",
       "    </tr>\n",
       "    <tr>\n",
       "      <th>2</th>\n",
       "      <td>Dominican Republic</td>\n",
       "      <td>live boy girl range new use clothing support f...</td>\n",
       "      <td>F</td>\n",
       "      <td>150</td>\n",
       "      <td>partner</td>\n",
       "      <td>Clothing</td>\n",
       "      <td>0</td>\n",
       "      <td>0.036466</td>\n",
       "      <td>0.001185</td>\n",
       "      <td>0.030735</td>\n",
       "      <td>0.000000</td>\n",
       "      <td>Topic 0</td>\n",
       "      <td>0.53</td>\n",
       "    </tr>\n",
       "    <tr>\n",
       "      <th>3</th>\n",
       "      <td>Kenya</td>\n",
       "      <td>phanice marry daughter secondary boy primary f...</td>\n",
       "      <td>F</td>\n",
       "      <td>150</td>\n",
       "      <td>lender</td>\n",
       "      <td>Services</td>\n",
       "      <td>1</td>\n",
       "      <td>0.033217</td>\n",
       "      <td>0.000000</td>\n",
       "      <td>0.000000</td>\n",
       "      <td>0.000000</td>\n",
       "      <td>Topic 0</td>\n",
       "      <td>1.00</td>\n",
       "    </tr>\n",
       "    <tr>\n",
       "      <th>4</th>\n",
       "      <td>Kenya</td>\n",
       "      <td>hotel last get good return competition increas...</td>\n",
       "      <td>F</td>\n",
       "      <td>300</td>\n",
       "      <td>lender</td>\n",
       "      <td>Food</td>\n",
       "      <td>1</td>\n",
       "      <td>0.017980</td>\n",
       "      <td>0.012159</td>\n",
       "      <td>0.000333</td>\n",
       "      <td>0.003836</td>\n",
       "      <td>Topic 0</td>\n",
       "      <td>0.52</td>\n",
       "    </tr>\n",
       "  </tbody>\n",
       "</table>\n",
       "</div>"
      ],
      "text/plain": [
       "              country                                                 en  \\\n",
       "0               Kenya  praxide marry primary train tailor operate sma...   \n",
       "1               Kenya  gynaecology practitioner run live wife biologi...   \n",
       "2  Dominican Republic  live boy girl range new use clothing support f...   \n",
       "3               Kenya  phanice marry daughter secondary boy primary f...   \n",
       "4               Kenya  hotel last get good return competition increas...   \n",
       "\n",
       "  gender  loan_amount nonpayment    sector  status   Topic_0   Topic_1  \\\n",
       "0      F           75    partner  Services       0  0.027596  0.005362   \n",
       "1      M         1200    partner    Health       0  0.015862  0.003528   \n",
       "2      F          150    partner  Clothing       0  0.036466  0.001185   \n",
       "3      F          150     lender  Services       1  0.033217  0.000000   \n",
       "4      F          300     lender      Food       1  0.017980  0.012159   \n",
       "\n",
       "    Topic_2   Topic_3 Dominant_Topic  Perc_Dominant_Topic  \n",
       "0  0.003764  0.006882        Topic 0                 0.63  \n",
       "1  0.006168  0.010608        Topic 0                 0.44  \n",
       "2  0.030735  0.000000        Topic 0                 0.53  \n",
       "3  0.000000  0.000000        Topic 0                 1.00  \n",
       "4  0.000333  0.003836        Topic 0                 0.52  "
      ]
     },
     "execution_count": 21,
     "metadata": {},
     "output_type": "execute_result"
    }
   ],
   "source": [
    "lda_results.head()"
   ]
  },
  {
   "cell_type": "code",
   "execution_count": 22,
   "id": "36a71f3e",
   "metadata": {
    "scrolled": true
   },
   "outputs": [
    {
     "data": {
      "text/html": [
       "        <script type=\"text/javascript\">\n",
       "        window.PlotlyConfig = {MathJaxConfig: 'local'};\n",
       "        if (window.MathJax) {MathJax.Hub.Config({SVG: {font: \"STIX-Web\"}});}\n",
       "        if (typeof require !== 'undefined') {\n",
       "        require.undef(\"plotly\");\n",
       "        requirejs.config({\n",
       "            paths: {\n",
       "                'plotly': ['https://cdn.plot.ly/plotly-2.11.1.min']\n",
       "            }\n",
       "        });\n",
       "        require(['plotly'], function(Plotly) {\n",
       "            window._Plotly = Plotly;\n",
       "        });\n",
       "        }\n",
       "        </script>\n",
       "        "
      ]
     },
     "metadata": {},
     "output_type": "display_data"
    },
    {
     "data": {
      "application/vnd.plotly.v1+json": {
       "config": {
        "linkText": "Export to plot.ly",
        "plotlyServerURL": "https://plot.ly",
        "showLink": true
       },
       "data": [
        {
         "marker": {
          "color": "rgba(255, 153, 51, 0.6)",
          "line": {
           "color": "rgba(255, 153, 51, 1.0)",
           "width": 1
          }
         },
         "name": "count",
         "orientation": "v",
         "text": "",
         "type": "bar",
         "x": [
          "work",
          "use",
          "family",
          "start",
          "small",
          "help",
          "group",
          "live",
          "husband",
          "product",
          "well",
          "increase",
          "home",
          "customer",
          "marry",
          "good",
          "community",
          "need",
          "order",
          "request",
          "member",
          "pay",
          "hope",
          "grow",
          "expand",
          "stock",
          "want",
          "new",
          "time",
          "provide",
          "store",
          "area",
          "go",
          "money",
          "get",
          "rice",
          "support",
          "improve",
          "give",
          "market",
          "entrepreneur",
          "farmer",
          "hard",
          "sale",
          "life",
          "repay",
          "ago",
          "clothing",
          "run",
          "shop",
          "mother",
          "profit",
          "first",
          "client",
          "plan",
          "take",
          "clothe",
          "food",
          "high",
          "capital",
          "service",
          "education",
          "continue",
          "farm",
          "invest",
          "house",
          "item",
          "local",
          "fee",
          "demand",
          "young",
          "large",
          "wife",
          "operate",
          "meet",
          "say",
          "day",
          "receive",
          "month",
          "still",
          "supply",
          "offer",
          "part",
          "age",
          "currently",
          "open",
          "enough",
          "keep",
          "intend",
          "allow",
          "milk",
          "earn",
          "begin",
          "son",
          "land",
          "save",
          "primary",
          "experience",
          "attend",
          "second"
         ],
         "y": [
          602,
          583,
          560,
          483,
          470,
          469,
          465,
          425,
          423,
          390,
          373,
          350,
          320,
          316,
          313,
          313,
          310,
          296,
          285,
          272,
          269,
          266,
          262,
          260,
          256,
          255,
          245,
          243,
          240,
          234,
          233,
          214,
          212,
          211,
          210,
          202,
          202,
          201,
          200,
          200,
          197,
          193,
          191,
          187,
          186,
          185,
          181,
          180,
          177,
          175,
          173,
          172,
          171,
          170,
          170,
          170,
          167,
          167,
          165,
          164,
          163,
          161,
          158,
          151,
          149,
          144,
          142,
          141,
          139,
          139,
          136,
          136,
          135,
          133,
          132,
          132,
          131,
          129,
          127,
          126,
          125,
          125,
          124,
          123,
          117,
          116,
          116,
          115,
          115,
          114,
          114,
          114,
          112,
          112,
          112,
          111,
          107,
          106,
          105,
          105
         ]
        }
       ],
       "layout": {
        "legend": {
         "bgcolor": "#F5F6F9",
         "font": {
          "color": "#4D5663"
         }
        },
        "paper_bgcolor": "#F5F6F9",
        "plot_bgcolor": "#F5F6F9",
        "template": {
         "data": {
          "bar": [
           {
            "error_x": {
             "color": "#2a3f5f"
            },
            "error_y": {
             "color": "#2a3f5f"
            },
            "marker": {
             "line": {
              "color": "#E5ECF6",
              "width": 0.5
             },
             "pattern": {
              "fillmode": "overlay",
              "size": 10,
              "solidity": 0.2
             }
            },
            "type": "bar"
           }
          ],
          "barpolar": [
           {
            "marker": {
             "line": {
              "color": "#E5ECF6",
              "width": 0.5
             },
             "pattern": {
              "fillmode": "overlay",
              "size": 10,
              "solidity": 0.2
             }
            },
            "type": "barpolar"
           }
          ],
          "carpet": [
           {
            "aaxis": {
             "endlinecolor": "#2a3f5f",
             "gridcolor": "white",
             "linecolor": "white",
             "minorgridcolor": "white",
             "startlinecolor": "#2a3f5f"
            },
            "baxis": {
             "endlinecolor": "#2a3f5f",
             "gridcolor": "white",
             "linecolor": "white",
             "minorgridcolor": "white",
             "startlinecolor": "#2a3f5f"
            },
            "type": "carpet"
           }
          ],
          "choropleth": [
           {
            "colorbar": {
             "outlinewidth": 0,
             "ticks": ""
            },
            "type": "choropleth"
           }
          ],
          "contour": [
           {
            "colorbar": {
             "outlinewidth": 0,
             "ticks": ""
            },
            "colorscale": [
             [
              0,
              "#0d0887"
             ],
             [
              0.1111111111111111,
              "#46039f"
             ],
             [
              0.2222222222222222,
              "#7201a8"
             ],
             [
              0.3333333333333333,
              "#9c179e"
             ],
             [
              0.4444444444444444,
              "#bd3786"
             ],
             [
              0.5555555555555556,
              "#d8576b"
             ],
             [
              0.6666666666666666,
              "#ed7953"
             ],
             [
              0.7777777777777778,
              "#fb9f3a"
             ],
             [
              0.8888888888888888,
              "#fdca26"
             ],
             [
              1,
              "#f0f921"
             ]
            ],
            "type": "contour"
           }
          ],
          "contourcarpet": [
           {
            "colorbar": {
             "outlinewidth": 0,
             "ticks": ""
            },
            "type": "contourcarpet"
           }
          ],
          "heatmap": [
           {
            "colorbar": {
             "outlinewidth": 0,
             "ticks": ""
            },
            "colorscale": [
             [
              0,
              "#0d0887"
             ],
             [
              0.1111111111111111,
              "#46039f"
             ],
             [
              0.2222222222222222,
              "#7201a8"
             ],
             [
              0.3333333333333333,
              "#9c179e"
             ],
             [
              0.4444444444444444,
              "#bd3786"
             ],
             [
              0.5555555555555556,
              "#d8576b"
             ],
             [
              0.6666666666666666,
              "#ed7953"
             ],
             [
              0.7777777777777778,
              "#fb9f3a"
             ],
             [
              0.8888888888888888,
              "#fdca26"
             ],
             [
              1,
              "#f0f921"
             ]
            ],
            "type": "heatmap"
           }
          ],
          "heatmapgl": [
           {
            "colorbar": {
             "outlinewidth": 0,
             "ticks": ""
            },
            "colorscale": [
             [
              0,
              "#0d0887"
             ],
             [
              0.1111111111111111,
              "#46039f"
             ],
             [
              0.2222222222222222,
              "#7201a8"
             ],
             [
              0.3333333333333333,
              "#9c179e"
             ],
             [
              0.4444444444444444,
              "#bd3786"
             ],
             [
              0.5555555555555556,
              "#d8576b"
             ],
             [
              0.6666666666666666,
              "#ed7953"
             ],
             [
              0.7777777777777778,
              "#fb9f3a"
             ],
             [
              0.8888888888888888,
              "#fdca26"
             ],
             [
              1,
              "#f0f921"
             ]
            ],
            "type": "heatmapgl"
           }
          ],
          "histogram": [
           {
            "marker": {
             "pattern": {
              "fillmode": "overlay",
              "size": 10,
              "solidity": 0.2
             }
            },
            "type": "histogram"
           }
          ],
          "histogram2d": [
           {
            "colorbar": {
             "outlinewidth": 0,
             "ticks": ""
            },
            "colorscale": [
             [
              0,
              "#0d0887"
             ],
             [
              0.1111111111111111,
              "#46039f"
             ],
             [
              0.2222222222222222,
              "#7201a8"
             ],
             [
              0.3333333333333333,
              "#9c179e"
             ],
             [
              0.4444444444444444,
              "#bd3786"
             ],
             [
              0.5555555555555556,
              "#d8576b"
             ],
             [
              0.6666666666666666,
              "#ed7953"
             ],
             [
              0.7777777777777778,
              "#fb9f3a"
             ],
             [
              0.8888888888888888,
              "#fdca26"
             ],
             [
              1,
              "#f0f921"
             ]
            ],
            "type": "histogram2d"
           }
          ],
          "histogram2dcontour": [
           {
            "colorbar": {
             "outlinewidth": 0,
             "ticks": ""
            },
            "colorscale": [
             [
              0,
              "#0d0887"
             ],
             [
              0.1111111111111111,
              "#46039f"
             ],
             [
              0.2222222222222222,
              "#7201a8"
             ],
             [
              0.3333333333333333,
              "#9c179e"
             ],
             [
              0.4444444444444444,
              "#bd3786"
             ],
             [
              0.5555555555555556,
              "#d8576b"
             ],
             [
              0.6666666666666666,
              "#ed7953"
             ],
             [
              0.7777777777777778,
              "#fb9f3a"
             ],
             [
              0.8888888888888888,
              "#fdca26"
             ],
             [
              1,
              "#f0f921"
             ]
            ],
            "type": "histogram2dcontour"
           }
          ],
          "mesh3d": [
           {
            "colorbar": {
             "outlinewidth": 0,
             "ticks": ""
            },
            "type": "mesh3d"
           }
          ],
          "parcoords": [
           {
            "line": {
             "colorbar": {
              "outlinewidth": 0,
              "ticks": ""
             }
            },
            "type": "parcoords"
           }
          ],
          "pie": [
           {
            "automargin": true,
            "type": "pie"
           }
          ],
          "scatter": [
           {
            "fillpattern": {
             "fillmode": "overlay",
             "size": 10,
             "solidity": 0.2
            },
            "type": "scatter"
           }
          ],
          "scatter3d": [
           {
            "line": {
             "colorbar": {
              "outlinewidth": 0,
              "ticks": ""
             }
            },
            "marker": {
             "colorbar": {
              "outlinewidth": 0,
              "ticks": ""
             }
            },
            "type": "scatter3d"
           }
          ],
          "scattercarpet": [
           {
            "marker": {
             "colorbar": {
              "outlinewidth": 0,
              "ticks": ""
             }
            },
            "type": "scattercarpet"
           }
          ],
          "scattergeo": [
           {
            "marker": {
             "colorbar": {
              "outlinewidth": 0,
              "ticks": ""
             }
            },
            "type": "scattergeo"
           }
          ],
          "scattergl": [
           {
            "marker": {
             "colorbar": {
              "outlinewidth": 0,
              "ticks": ""
             }
            },
            "type": "scattergl"
           }
          ],
          "scattermapbox": [
           {
            "marker": {
             "colorbar": {
              "outlinewidth": 0,
              "ticks": ""
             }
            },
            "type": "scattermapbox"
           }
          ],
          "scatterpolar": [
           {
            "marker": {
             "colorbar": {
              "outlinewidth": 0,
              "ticks": ""
             }
            },
            "type": "scatterpolar"
           }
          ],
          "scatterpolargl": [
           {
            "marker": {
             "colorbar": {
              "outlinewidth": 0,
              "ticks": ""
             }
            },
            "type": "scatterpolargl"
           }
          ],
          "scatterternary": [
           {
            "marker": {
             "colorbar": {
              "outlinewidth": 0,
              "ticks": ""
             }
            },
            "type": "scatterternary"
           }
          ],
          "surface": [
           {
            "colorbar": {
             "outlinewidth": 0,
             "ticks": ""
            },
            "colorscale": [
             [
              0,
              "#0d0887"
             ],
             [
              0.1111111111111111,
              "#46039f"
             ],
             [
              0.2222222222222222,
              "#7201a8"
             ],
             [
              0.3333333333333333,
              "#9c179e"
             ],
             [
              0.4444444444444444,
              "#bd3786"
             ],
             [
              0.5555555555555556,
              "#d8576b"
             ],
             [
              0.6666666666666666,
              "#ed7953"
             ],
             [
              0.7777777777777778,
              "#fb9f3a"
             ],
             [
              0.8888888888888888,
              "#fdca26"
             ],
             [
              1,
              "#f0f921"
             ]
            ],
            "type": "surface"
           }
          ],
          "table": [
           {
            "cells": {
             "fill": {
              "color": "#EBF0F8"
             },
             "line": {
              "color": "white"
             }
            },
            "header": {
             "fill": {
              "color": "#C8D4E3"
             },
             "line": {
              "color": "white"
             }
            },
            "type": "table"
           }
          ]
         },
         "layout": {
          "annotationdefaults": {
           "arrowcolor": "#2a3f5f",
           "arrowhead": 0,
           "arrowwidth": 1
          },
          "autotypenumbers": "strict",
          "coloraxis": {
           "colorbar": {
            "outlinewidth": 0,
            "ticks": ""
           }
          },
          "colorscale": {
           "diverging": [
            [
             0,
             "#8e0152"
            ],
            [
             0.1,
             "#c51b7d"
            ],
            [
             0.2,
             "#de77ae"
            ],
            [
             0.3,
             "#f1b6da"
            ],
            [
             0.4,
             "#fde0ef"
            ],
            [
             0.5,
             "#f7f7f7"
            ],
            [
             0.6,
             "#e6f5d0"
            ],
            [
             0.7,
             "#b8e186"
            ],
            [
             0.8,
             "#7fbc41"
            ],
            [
             0.9,
             "#4d9221"
            ],
            [
             1,
             "#276419"
            ]
           ],
           "sequential": [
            [
             0,
             "#0d0887"
            ],
            [
             0.1111111111111111,
             "#46039f"
            ],
            [
             0.2222222222222222,
             "#7201a8"
            ],
            [
             0.3333333333333333,
             "#9c179e"
            ],
            [
             0.4444444444444444,
             "#bd3786"
            ],
            [
             0.5555555555555556,
             "#d8576b"
            ],
            [
             0.6666666666666666,
             "#ed7953"
            ],
            [
             0.7777777777777778,
             "#fb9f3a"
            ],
            [
             0.8888888888888888,
             "#fdca26"
            ],
            [
             1,
             "#f0f921"
            ]
           ],
           "sequentialminus": [
            [
             0,
             "#0d0887"
            ],
            [
             0.1111111111111111,
             "#46039f"
            ],
            [
             0.2222222222222222,
             "#7201a8"
            ],
            [
             0.3333333333333333,
             "#9c179e"
            ],
            [
             0.4444444444444444,
             "#bd3786"
            ],
            [
             0.5555555555555556,
             "#d8576b"
            ],
            [
             0.6666666666666666,
             "#ed7953"
            ],
            [
             0.7777777777777778,
             "#fb9f3a"
            ],
            [
             0.8888888888888888,
             "#fdca26"
            ],
            [
             1,
             "#f0f921"
            ]
           ]
          },
          "colorway": [
           "#636efa",
           "#EF553B",
           "#00cc96",
           "#ab63fa",
           "#FFA15A",
           "#19d3f3",
           "#FF6692",
           "#B6E880",
           "#FF97FF",
           "#FECB52"
          ],
          "font": {
           "color": "#2a3f5f"
          },
          "geo": {
           "bgcolor": "white",
           "lakecolor": "white",
           "landcolor": "#E5ECF6",
           "showlakes": true,
           "showland": true,
           "subunitcolor": "white"
          },
          "hoverlabel": {
           "align": "left"
          },
          "hovermode": "closest",
          "mapbox": {
           "style": "light"
          },
          "paper_bgcolor": "white",
          "plot_bgcolor": "#E5ECF6",
          "polar": {
           "angularaxis": {
            "gridcolor": "white",
            "linecolor": "white",
            "ticks": ""
           },
           "bgcolor": "#E5ECF6",
           "radialaxis": {
            "gridcolor": "white",
            "linecolor": "white",
            "ticks": ""
           }
          },
          "scene": {
           "xaxis": {
            "backgroundcolor": "#E5ECF6",
            "gridcolor": "white",
            "gridwidth": 2,
            "linecolor": "white",
            "showbackground": true,
            "ticks": "",
            "zerolinecolor": "white"
           },
           "yaxis": {
            "backgroundcolor": "#E5ECF6",
            "gridcolor": "white",
            "gridwidth": 2,
            "linecolor": "white",
            "showbackground": true,
            "ticks": "",
            "zerolinecolor": "white"
           },
           "zaxis": {
            "backgroundcolor": "#E5ECF6",
            "gridcolor": "white",
            "gridwidth": 2,
            "linecolor": "white",
            "showbackground": true,
            "ticks": "",
            "zerolinecolor": "white"
           }
          },
          "shapedefaults": {
           "line": {
            "color": "#2a3f5f"
           }
          },
          "ternary": {
           "aaxis": {
            "gridcolor": "white",
            "linecolor": "white",
            "ticks": ""
           },
           "baxis": {
            "gridcolor": "white",
            "linecolor": "white",
            "ticks": ""
           },
           "bgcolor": "#E5ECF6",
           "caxis": {
            "gridcolor": "white",
            "linecolor": "white",
            "ticks": ""
           }
          },
          "title": {
           "x": 0.05
          },
          "xaxis": {
           "automargin": true,
           "gridcolor": "white",
           "linecolor": "white",
           "ticks": "",
           "title": {
            "standoff": 15
           },
           "zerolinecolor": "white",
           "zerolinewidth": 2
          },
          "yaxis": {
           "automargin": true,
           "gridcolor": "white",
           "linecolor": "white",
           "ticks": "",
           "title": {
            "standoff": 15
           },
           "zerolinecolor": "white",
           "zerolinewidth": 2
          }
         }
        },
        "title": {
         "font": {
          "color": "#4D5663"
         },
         "text": "Top 100 words after removing stop words"
        },
        "xaxis": {
         "gridcolor": "#E1E5ED",
         "linecolor": "black",
         "showgrid": true,
         "tickfont": {
          "color": "#4D5663"
         },
         "title": {
          "font": {
           "color": "#4D5663"
          },
          "text": ""
         },
         "zerolinecolor": "#E1E5ED"
        },
        "yaxis": {
         "gridcolor": "#E1E5ED",
         "linecolor": "black",
         "showgrid": true,
         "tickfont": {
          "color": "#4D5663"
         },
         "title": {
          "font": {
           "color": "#4D5663"
          },
          "text": "Count"
         },
         "zerolinecolor": "#E1E5ED"
        }
       }
      },
      "text/html": [
       "<div>                            <div id=\"d42e2911-dddd-4140-8c2a-a6ac940ada46\" class=\"plotly-graph-div\" style=\"height:525px; width:100%;\"></div>            <script type=\"text/javascript\">                require([\"plotly\"], function(Plotly) {                    window.PLOTLYENV=window.PLOTLYENV || {};\n",
       "                    window.PLOTLYENV.BASE_URL='https://plot.ly';                                    if (document.getElementById(\"d42e2911-dddd-4140-8c2a-a6ac940ada46\")) {                    Plotly.newPlot(                        \"d42e2911-dddd-4140-8c2a-a6ac940ada46\",                        [{\"marker\":{\"color\":\"rgba(255, 153, 51, 0.6)\",\"line\":{\"color\":\"rgba(255, 153, 51, 1.0)\",\"width\":1}},\"name\":\"count\",\"orientation\":\"v\",\"text\":\"\",\"x\":[\"work\",\"use\",\"family\",\"start\",\"small\",\"help\",\"group\",\"live\",\"husband\",\"product\",\"well\",\"increase\",\"home\",\"customer\",\"marry\",\"good\",\"community\",\"need\",\"order\",\"request\",\"member\",\"pay\",\"hope\",\"grow\",\"expand\",\"stock\",\"want\",\"new\",\"time\",\"provide\",\"store\",\"area\",\"go\",\"money\",\"get\",\"rice\",\"support\",\"improve\",\"give\",\"market\",\"entrepreneur\",\"farmer\",\"hard\",\"sale\",\"life\",\"repay\",\"ago\",\"clothing\",\"run\",\"shop\",\"mother\",\"profit\",\"first\",\"client\",\"plan\",\"take\",\"clothe\",\"food\",\"high\",\"capital\",\"service\",\"education\",\"continue\",\"farm\",\"invest\",\"house\",\"item\",\"local\",\"fee\",\"demand\",\"young\",\"large\",\"wife\",\"operate\",\"meet\",\"say\",\"day\",\"receive\",\"month\",\"still\",\"supply\",\"offer\",\"part\",\"age\",\"currently\",\"open\",\"enough\",\"keep\",\"intend\",\"allow\",\"milk\",\"earn\",\"begin\",\"son\",\"land\",\"save\",\"primary\",\"experience\",\"attend\",\"second\"],\"y\":[602,583,560,483,470,469,465,425,423,390,373,350,320,316,313,313,310,296,285,272,269,266,262,260,256,255,245,243,240,234,233,214,212,211,210,202,202,201,200,200,197,193,191,187,186,185,181,180,177,175,173,172,171,170,170,170,167,167,165,164,163,161,158,151,149,144,142,141,139,139,136,136,135,133,132,132,131,129,127,126,125,125,124,123,117,116,116,115,115,114,114,114,112,112,112,111,107,106,105,105],\"type\":\"bar\"}],                        {\"legend\":{\"bgcolor\":\"#F5F6F9\",\"font\":{\"color\":\"#4D5663\"}},\"paper_bgcolor\":\"#F5F6F9\",\"plot_bgcolor\":\"#F5F6F9\",\"template\":{\"data\":{\"barpolar\":[{\"marker\":{\"line\":{\"color\":\"#E5ECF6\",\"width\":0.5},\"pattern\":{\"fillmode\":\"overlay\",\"size\":10,\"solidity\":0.2}},\"type\":\"barpolar\"}],\"bar\":[{\"error_x\":{\"color\":\"#2a3f5f\"},\"error_y\":{\"color\":\"#2a3f5f\"},\"marker\":{\"line\":{\"color\":\"#E5ECF6\",\"width\":0.5},\"pattern\":{\"fillmode\":\"overlay\",\"size\":10,\"solidity\":0.2}},\"type\":\"bar\"}],\"carpet\":[{\"aaxis\":{\"endlinecolor\":\"#2a3f5f\",\"gridcolor\":\"white\",\"linecolor\":\"white\",\"minorgridcolor\":\"white\",\"startlinecolor\":\"#2a3f5f\"},\"baxis\":{\"endlinecolor\":\"#2a3f5f\",\"gridcolor\":\"white\",\"linecolor\":\"white\",\"minorgridcolor\":\"white\",\"startlinecolor\":\"#2a3f5f\"},\"type\":\"carpet\"}],\"choropleth\":[{\"colorbar\":{\"outlinewidth\":0,\"ticks\":\"\"},\"type\":\"choropleth\"}],\"contourcarpet\":[{\"colorbar\":{\"outlinewidth\":0,\"ticks\":\"\"},\"type\":\"contourcarpet\"}],\"contour\":[{\"colorbar\":{\"outlinewidth\":0,\"ticks\":\"\"},\"colorscale\":[[0.0,\"#0d0887\"],[0.1111111111111111,\"#46039f\"],[0.2222222222222222,\"#7201a8\"],[0.3333333333333333,\"#9c179e\"],[0.4444444444444444,\"#bd3786\"],[0.5555555555555556,\"#d8576b\"],[0.6666666666666666,\"#ed7953\"],[0.7777777777777778,\"#fb9f3a\"],[0.8888888888888888,\"#fdca26\"],[1.0,\"#f0f921\"]],\"type\":\"contour\"}],\"heatmapgl\":[{\"colorbar\":{\"outlinewidth\":0,\"ticks\":\"\"},\"colorscale\":[[0.0,\"#0d0887\"],[0.1111111111111111,\"#46039f\"],[0.2222222222222222,\"#7201a8\"],[0.3333333333333333,\"#9c179e\"],[0.4444444444444444,\"#bd3786\"],[0.5555555555555556,\"#d8576b\"],[0.6666666666666666,\"#ed7953\"],[0.7777777777777778,\"#fb9f3a\"],[0.8888888888888888,\"#fdca26\"],[1.0,\"#f0f921\"]],\"type\":\"heatmapgl\"}],\"heatmap\":[{\"colorbar\":{\"outlinewidth\":0,\"ticks\":\"\"},\"colorscale\":[[0.0,\"#0d0887\"],[0.1111111111111111,\"#46039f\"],[0.2222222222222222,\"#7201a8\"],[0.3333333333333333,\"#9c179e\"],[0.4444444444444444,\"#bd3786\"],[0.5555555555555556,\"#d8576b\"],[0.6666666666666666,\"#ed7953\"],[0.7777777777777778,\"#fb9f3a\"],[0.8888888888888888,\"#fdca26\"],[1.0,\"#f0f921\"]],\"type\":\"heatmap\"}],\"histogram2dcontour\":[{\"colorbar\":{\"outlinewidth\":0,\"ticks\":\"\"},\"colorscale\":[[0.0,\"#0d0887\"],[0.1111111111111111,\"#46039f\"],[0.2222222222222222,\"#7201a8\"],[0.3333333333333333,\"#9c179e\"],[0.4444444444444444,\"#bd3786\"],[0.5555555555555556,\"#d8576b\"],[0.6666666666666666,\"#ed7953\"],[0.7777777777777778,\"#fb9f3a\"],[0.8888888888888888,\"#fdca26\"],[1.0,\"#f0f921\"]],\"type\":\"histogram2dcontour\"}],\"histogram2d\":[{\"colorbar\":{\"outlinewidth\":0,\"ticks\":\"\"},\"colorscale\":[[0.0,\"#0d0887\"],[0.1111111111111111,\"#46039f\"],[0.2222222222222222,\"#7201a8\"],[0.3333333333333333,\"#9c179e\"],[0.4444444444444444,\"#bd3786\"],[0.5555555555555556,\"#d8576b\"],[0.6666666666666666,\"#ed7953\"],[0.7777777777777778,\"#fb9f3a\"],[0.8888888888888888,\"#fdca26\"],[1.0,\"#f0f921\"]],\"type\":\"histogram2d\"}],\"histogram\":[{\"marker\":{\"pattern\":{\"fillmode\":\"overlay\",\"size\":10,\"solidity\":0.2}},\"type\":\"histogram\"}],\"mesh3d\":[{\"colorbar\":{\"outlinewidth\":0,\"ticks\":\"\"},\"type\":\"mesh3d\"}],\"parcoords\":[{\"line\":{\"colorbar\":{\"outlinewidth\":0,\"ticks\":\"\"}},\"type\":\"parcoords\"}],\"pie\":[{\"automargin\":true,\"type\":\"pie\"}],\"scatter3d\":[{\"line\":{\"colorbar\":{\"outlinewidth\":0,\"ticks\":\"\"}},\"marker\":{\"colorbar\":{\"outlinewidth\":0,\"ticks\":\"\"}},\"type\":\"scatter3d\"}],\"scattercarpet\":[{\"marker\":{\"colorbar\":{\"outlinewidth\":0,\"ticks\":\"\"}},\"type\":\"scattercarpet\"}],\"scattergeo\":[{\"marker\":{\"colorbar\":{\"outlinewidth\":0,\"ticks\":\"\"}},\"type\":\"scattergeo\"}],\"scattergl\":[{\"marker\":{\"colorbar\":{\"outlinewidth\":0,\"ticks\":\"\"}},\"type\":\"scattergl\"}],\"scattermapbox\":[{\"marker\":{\"colorbar\":{\"outlinewidth\":0,\"ticks\":\"\"}},\"type\":\"scattermapbox\"}],\"scatterpolargl\":[{\"marker\":{\"colorbar\":{\"outlinewidth\":0,\"ticks\":\"\"}},\"type\":\"scatterpolargl\"}],\"scatterpolar\":[{\"marker\":{\"colorbar\":{\"outlinewidth\":0,\"ticks\":\"\"}},\"type\":\"scatterpolar\"}],\"scatter\":[{\"fillpattern\":{\"fillmode\":\"overlay\",\"size\":10,\"solidity\":0.2},\"type\":\"scatter\"}],\"scatterternary\":[{\"marker\":{\"colorbar\":{\"outlinewidth\":0,\"ticks\":\"\"}},\"type\":\"scatterternary\"}],\"surface\":[{\"colorbar\":{\"outlinewidth\":0,\"ticks\":\"\"},\"colorscale\":[[0.0,\"#0d0887\"],[0.1111111111111111,\"#46039f\"],[0.2222222222222222,\"#7201a8\"],[0.3333333333333333,\"#9c179e\"],[0.4444444444444444,\"#bd3786\"],[0.5555555555555556,\"#d8576b\"],[0.6666666666666666,\"#ed7953\"],[0.7777777777777778,\"#fb9f3a\"],[0.8888888888888888,\"#fdca26\"],[1.0,\"#f0f921\"]],\"type\":\"surface\"}],\"table\":[{\"cells\":{\"fill\":{\"color\":\"#EBF0F8\"},\"line\":{\"color\":\"white\"}},\"header\":{\"fill\":{\"color\":\"#C8D4E3\"},\"line\":{\"color\":\"white\"}},\"type\":\"table\"}]},\"layout\":{\"annotationdefaults\":{\"arrowcolor\":\"#2a3f5f\",\"arrowhead\":0,\"arrowwidth\":1},\"autotypenumbers\":\"strict\",\"coloraxis\":{\"colorbar\":{\"outlinewidth\":0,\"ticks\":\"\"}},\"colorscale\":{\"diverging\":[[0,\"#8e0152\"],[0.1,\"#c51b7d\"],[0.2,\"#de77ae\"],[0.3,\"#f1b6da\"],[0.4,\"#fde0ef\"],[0.5,\"#f7f7f7\"],[0.6,\"#e6f5d0\"],[0.7,\"#b8e186\"],[0.8,\"#7fbc41\"],[0.9,\"#4d9221\"],[1,\"#276419\"]],\"sequential\":[[0.0,\"#0d0887\"],[0.1111111111111111,\"#46039f\"],[0.2222222222222222,\"#7201a8\"],[0.3333333333333333,\"#9c179e\"],[0.4444444444444444,\"#bd3786\"],[0.5555555555555556,\"#d8576b\"],[0.6666666666666666,\"#ed7953\"],[0.7777777777777778,\"#fb9f3a\"],[0.8888888888888888,\"#fdca26\"],[1.0,\"#f0f921\"]],\"sequentialminus\":[[0.0,\"#0d0887\"],[0.1111111111111111,\"#46039f\"],[0.2222222222222222,\"#7201a8\"],[0.3333333333333333,\"#9c179e\"],[0.4444444444444444,\"#bd3786\"],[0.5555555555555556,\"#d8576b\"],[0.6666666666666666,\"#ed7953\"],[0.7777777777777778,\"#fb9f3a\"],[0.8888888888888888,\"#fdca26\"],[1.0,\"#f0f921\"]]},\"colorway\":[\"#636efa\",\"#EF553B\",\"#00cc96\",\"#ab63fa\",\"#FFA15A\",\"#19d3f3\",\"#FF6692\",\"#B6E880\",\"#FF97FF\",\"#FECB52\"],\"font\":{\"color\":\"#2a3f5f\"},\"geo\":{\"bgcolor\":\"white\",\"lakecolor\":\"white\",\"landcolor\":\"#E5ECF6\",\"showlakes\":true,\"showland\":true,\"subunitcolor\":\"white\"},\"hoverlabel\":{\"align\":\"left\"},\"hovermode\":\"closest\",\"mapbox\":{\"style\":\"light\"},\"paper_bgcolor\":\"white\",\"plot_bgcolor\":\"#E5ECF6\",\"polar\":{\"angularaxis\":{\"gridcolor\":\"white\",\"linecolor\":\"white\",\"ticks\":\"\"},\"bgcolor\":\"#E5ECF6\",\"radialaxis\":{\"gridcolor\":\"white\",\"linecolor\":\"white\",\"ticks\":\"\"}},\"scene\":{\"xaxis\":{\"backgroundcolor\":\"#E5ECF6\",\"gridcolor\":\"white\",\"gridwidth\":2,\"linecolor\":\"white\",\"showbackground\":true,\"ticks\":\"\",\"zerolinecolor\":\"white\"},\"yaxis\":{\"backgroundcolor\":\"#E5ECF6\",\"gridcolor\":\"white\",\"gridwidth\":2,\"linecolor\":\"white\",\"showbackground\":true,\"ticks\":\"\",\"zerolinecolor\":\"white\"},\"zaxis\":{\"backgroundcolor\":\"#E5ECF6\",\"gridcolor\":\"white\",\"gridwidth\":2,\"linecolor\":\"white\",\"showbackground\":true,\"ticks\":\"\",\"zerolinecolor\":\"white\"}},\"shapedefaults\":{\"line\":{\"color\":\"#2a3f5f\"}},\"ternary\":{\"aaxis\":{\"gridcolor\":\"white\",\"linecolor\":\"white\",\"ticks\":\"\"},\"baxis\":{\"gridcolor\":\"white\",\"linecolor\":\"white\",\"ticks\":\"\"},\"bgcolor\":\"#E5ECF6\",\"caxis\":{\"gridcolor\":\"white\",\"linecolor\":\"white\",\"ticks\":\"\"}},\"title\":{\"x\":0.05},\"xaxis\":{\"automargin\":true,\"gridcolor\":\"white\",\"linecolor\":\"white\",\"ticks\":\"\",\"title\":{\"standoff\":15},\"zerolinecolor\":\"white\",\"zerolinewidth\":2},\"yaxis\":{\"automargin\":true,\"gridcolor\":\"white\",\"linecolor\":\"white\",\"ticks\":\"\",\"title\":{\"standoff\":15},\"zerolinecolor\":\"white\",\"zerolinewidth\":2}}},\"title\":{\"font\":{\"color\":\"#4D5663\"},\"text\":\"Top 100 words after removing stop words\"},\"xaxis\":{\"gridcolor\":\"#E1E5ED\",\"linecolor\":\"black\",\"showgrid\":true,\"tickfont\":{\"color\":\"#4D5663\"},\"title\":{\"font\":{\"color\":\"#4D5663\"},\"text\":\"\"},\"zerolinecolor\":\"#E1E5ED\"},\"yaxis\":{\"gridcolor\":\"#E1E5ED\",\"linecolor\":\"black\",\"showgrid\":true,\"tickfont\":{\"color\":\"#4D5663\"},\"title\":{\"font\":{\"color\":\"#4D5663\"},\"text\":\"Count\"},\"zerolinecolor\":\"#E1E5ED\"}},                        {\"showLink\": true, \"linkText\": \"Export to plot.ly\", \"plotlyServerURL\": \"https://plot.ly\", \"responsive\": true}                    ).then(function(){\n",
       "                            \n",
       "var gd = document.getElementById('d42e2911-dddd-4140-8c2a-a6ac940ada46');\n",
       "var x = new MutationObserver(function (mutations, observer) {{\n",
       "        var display = window.getComputedStyle(gd).display;\n",
       "        if (!display || display === 'none') {{\n",
       "            console.log([gd, 'removed!']);\n",
       "            Plotly.purge(gd);\n",
       "            observer.disconnect();\n",
       "        }}\n",
       "}});\n",
       "\n",
       "// Listen for the removal of the full notebook cells\n",
       "var notebookContainer = gd.closest('#notebook-container');\n",
       "if (notebookContainer) {{\n",
       "    x.observe(notebookContainer, {childList: true});\n",
       "}}\n",
       "\n",
       "// Listen for the clearing of the current output cell\n",
       "var outputEl = gd.closest('.output');\n",
       "if (outputEl) {{\n",
       "    x.observe(outputEl, {childList: true});\n",
       "}}\n",
       "\n",
       "                        })                };                });            </script>        </div>"
      ]
     },
     "metadata": {},
     "output_type": "display_data"
    }
   ],
   "source": [
    "plot_model()"
   ]
  },
  {
   "cell_type": "raw",
   "id": "ba224c76",
   "metadata": {},
   "source": [
    "List of available plots (ID - Name):\n",
    "Word Token Frequency - 'frequency'\n",
    "Word Distribution Plot - 'distribution'\n",
    "Bigram Frequency Plot - 'bigram'\n",
    "Trigram Frequency Plot - 'trigram'\n",
    "Sentiment Polarity Plot - 'sentiment'\n",
    "Part of Speech Frequency - 'pos'\n",
    "t-SNE (3d) Dimension Plot - 'tsne'\n",
    "Topic Model (pyLDAvis) - 'topic_model'\n",
    "Topic Infer Distribution - 'topic_distribution'\n",
    "Wordcloud - 'wordcloud'\n",
    "UMAP Dimensionality Plot - 'umap'"
   ]
  },
  {
   "cell_type": "code",
   "execution_count": 23,
   "id": "02305ba3",
   "metadata": {},
   "outputs": [
    {
     "data": {
      "text/html": [
       "        <script type=\"text/javascript\">\n",
       "        window.PlotlyConfig = {MathJaxConfig: 'local'};\n",
       "        if (window.MathJax) {MathJax.Hub.Config({SVG: {font: \"STIX-Web\"}});}\n",
       "        if (typeof require !== 'undefined') {\n",
       "        require.undef(\"plotly\");\n",
       "        requirejs.config({\n",
       "            paths: {\n",
       "                'plotly': ['https://cdn.plot.ly/plotly-2.11.1.min']\n",
       "            }\n",
       "        });\n",
       "        require(['plotly'], function(Plotly) {\n",
       "            window._Plotly = Plotly;\n",
       "        });\n",
       "        }\n",
       "        </script>\n",
       "        "
      ]
     },
     "metadata": {},
     "output_type": "display_data"
    },
    {
     "data": {
      "application/vnd.plotly.v1+json": {
       "config": {
        "linkText": "Export to plot.ly",
        "plotlyServerURL": "https://plot.ly",
        "showLink": true
       },
       "data": [
        {
         "marker": {
          "color": "rgba(255, 153, 51, 0.6)",
          "line": {
           "color": "rgba(255, 153, 51, 1.0)",
           "width": 1
          }
         },
         "name": "count",
         "orientation": "v",
         "text": "",
         "type": "bar",
         "x": [
          "work hard",
          "pay fee",
          "hard work",
          "increase stock",
          "start small",
          "group member",
          "support family",
          "husband work",
          "start ago",
          "provide family",
          "programs_information_microfinance_ecuador services_please_visit_href",
          "live husband",
          "member group",
          "mifex_offers_client microinsurance_access_training_educational",
          "rice farmer",
          "risk_willing_accept_additional risk_making",
          "may_represent_higher_default risk_willing_accept_additional",
          "kenya_security_situation_communitie businesses_lenders_entrepreneur_aware",
          "person group",
          "businesses_lenders_entrepreneur_aware may_represent_higher_default",
          "microinsurance_access_training_educational programs_information_microfinance_ecuador",
          "plan use",
          "run small",
          "well life",
          "high demand",
          "provide well",
          "capital first_months_r",
          "customer need",
          "group promoting_savings_often_forgotten",
          "marry primary",
          "operate small",
          "order farm",
          "pay back",
          "land order",
          "intend use",
          "enough money",
          "first_months_r debt_must_paid_seventh",
          "beauty product",
          "help husband",
          "small store",
          "mifex_rural_finance program",
          "therefore request",
          "want expand",
          "group cannot_fully_repay_borrower",
          "small farmers_produce_sack",
          "boleo_spanish_hand_sowe rice",
          "pay capital",
          "request budget",
          "area small",
          "rice grow",
          "debt_must_paid_seventh final_month",
          "husband help",
          "crop boleo_spanish_hand_sowe",
          "farmers_produce_sack land",
          "grow farmers_rent_machinery",
          "add stock",
          "local community",
          "save money",
          "quality life",
          "large quantity",
          "local market",
          "family need",
          "promoting_savings_often_forgotten micro_finance_program",
          "farmers_rent_machinery helps_gather_production",
          "rural area",
          "attract new",
          "micro_finance_program mifex_believes_imperative",
          "sector rice",
          "micro entrepreneur",
          "increase revenue",
          "communal_bank_others_guarantor person",
          "farmer association_works_cooperatively",
          "meet customer",
          "need order",
          "store home",
          "use clothe",
          "sale increase",
          "rural sector",
          "capital_reserved_future_investment team_evaluating_potential_sector",
          "start help",
          "rice production",
          "program rice",
          "family member",
          "improve family",
          "repay time",
          "increase profit",
          "use money",
          "familys need",
          "mifex_believes_imperative capital_reserved_future_investment",
          "boy girl",
          "loans_prepare_land part",
          "good education",
          "improve quality",
          "part communal_bank_others_guarantor",
          "increase sale",
          "request second",
          "small shop",
          "use clothing",
          "meet need",
          "continue grow"
         ],
         "y": [
          70,
          66,
          64,
          54,
          48,
          47,
          46,
          46,
          40,
          39,
          38,
          38,
          38,
          34,
          33,
          32,
          32,
          32,
          32,
          32,
          32,
          29,
          29,
          28,
          28,
          27,
          25,
          25,
          25,
          25,
          25,
          25,
          25,
          25,
          25,
          24,
          24,
          24,
          24,
          24,
          24,
          23,
          23,
          23,
          22,
          22,
          22,
          22,
          22,
          22,
          22,
          22,
          22,
          22,
          22,
          21,
          21,
          21,
          21,
          20,
          20,
          20,
          19,
          19,
          19,
          19,
          19,
          19,
          19,
          19,
          18,
          18,
          18,
          18,
          18,
          18,
          18,
          18,
          18,
          18,
          18,
          18,
          18,
          18,
          18,
          18,
          17,
          17,
          17,
          17,
          17,
          17,
          17,
          17,
          17,
          17,
          16,
          16,
          16,
          16
         ]
        }
       ],
       "layout": {
        "legend": {
         "bgcolor": "#F5F6F9",
         "font": {
          "color": "#4D5663"
         }
        },
        "paper_bgcolor": "#F5F6F9",
        "plot_bgcolor": "#F5F6F9",
        "template": {
         "data": {
          "bar": [
           {
            "error_x": {
             "color": "#2a3f5f"
            },
            "error_y": {
             "color": "#2a3f5f"
            },
            "marker": {
             "line": {
              "color": "#E5ECF6",
              "width": 0.5
             },
             "pattern": {
              "fillmode": "overlay",
              "size": 10,
              "solidity": 0.2
             }
            },
            "type": "bar"
           }
          ],
          "barpolar": [
           {
            "marker": {
             "line": {
              "color": "#E5ECF6",
              "width": 0.5
             },
             "pattern": {
              "fillmode": "overlay",
              "size": 10,
              "solidity": 0.2
             }
            },
            "type": "barpolar"
           }
          ],
          "carpet": [
           {
            "aaxis": {
             "endlinecolor": "#2a3f5f",
             "gridcolor": "white",
             "linecolor": "white",
             "minorgridcolor": "white",
             "startlinecolor": "#2a3f5f"
            },
            "baxis": {
             "endlinecolor": "#2a3f5f",
             "gridcolor": "white",
             "linecolor": "white",
             "minorgridcolor": "white",
             "startlinecolor": "#2a3f5f"
            },
            "type": "carpet"
           }
          ],
          "choropleth": [
           {
            "colorbar": {
             "outlinewidth": 0,
             "ticks": ""
            },
            "type": "choropleth"
           }
          ],
          "contour": [
           {
            "colorbar": {
             "outlinewidth": 0,
             "ticks": ""
            },
            "colorscale": [
             [
              0,
              "#0d0887"
             ],
             [
              0.1111111111111111,
              "#46039f"
             ],
             [
              0.2222222222222222,
              "#7201a8"
             ],
             [
              0.3333333333333333,
              "#9c179e"
             ],
             [
              0.4444444444444444,
              "#bd3786"
             ],
             [
              0.5555555555555556,
              "#d8576b"
             ],
             [
              0.6666666666666666,
              "#ed7953"
             ],
             [
              0.7777777777777778,
              "#fb9f3a"
             ],
             [
              0.8888888888888888,
              "#fdca26"
             ],
             [
              1,
              "#f0f921"
             ]
            ],
            "type": "contour"
           }
          ],
          "contourcarpet": [
           {
            "colorbar": {
             "outlinewidth": 0,
             "ticks": ""
            },
            "type": "contourcarpet"
           }
          ],
          "heatmap": [
           {
            "colorbar": {
             "outlinewidth": 0,
             "ticks": ""
            },
            "colorscale": [
             [
              0,
              "#0d0887"
             ],
             [
              0.1111111111111111,
              "#46039f"
             ],
             [
              0.2222222222222222,
              "#7201a8"
             ],
             [
              0.3333333333333333,
              "#9c179e"
             ],
             [
              0.4444444444444444,
              "#bd3786"
             ],
             [
              0.5555555555555556,
              "#d8576b"
             ],
             [
              0.6666666666666666,
              "#ed7953"
             ],
             [
              0.7777777777777778,
              "#fb9f3a"
             ],
             [
              0.8888888888888888,
              "#fdca26"
             ],
             [
              1,
              "#f0f921"
             ]
            ],
            "type": "heatmap"
           }
          ],
          "heatmapgl": [
           {
            "colorbar": {
             "outlinewidth": 0,
             "ticks": ""
            },
            "colorscale": [
             [
              0,
              "#0d0887"
             ],
             [
              0.1111111111111111,
              "#46039f"
             ],
             [
              0.2222222222222222,
              "#7201a8"
             ],
             [
              0.3333333333333333,
              "#9c179e"
             ],
             [
              0.4444444444444444,
              "#bd3786"
             ],
             [
              0.5555555555555556,
              "#d8576b"
             ],
             [
              0.6666666666666666,
              "#ed7953"
             ],
             [
              0.7777777777777778,
              "#fb9f3a"
             ],
             [
              0.8888888888888888,
              "#fdca26"
             ],
             [
              1,
              "#f0f921"
             ]
            ],
            "type": "heatmapgl"
           }
          ],
          "histogram": [
           {
            "marker": {
             "pattern": {
              "fillmode": "overlay",
              "size": 10,
              "solidity": 0.2
             }
            },
            "type": "histogram"
           }
          ],
          "histogram2d": [
           {
            "colorbar": {
             "outlinewidth": 0,
             "ticks": ""
            },
            "colorscale": [
             [
              0,
              "#0d0887"
             ],
             [
              0.1111111111111111,
              "#46039f"
             ],
             [
              0.2222222222222222,
              "#7201a8"
             ],
             [
              0.3333333333333333,
              "#9c179e"
             ],
             [
              0.4444444444444444,
              "#bd3786"
             ],
             [
              0.5555555555555556,
              "#d8576b"
             ],
             [
              0.6666666666666666,
              "#ed7953"
             ],
             [
              0.7777777777777778,
              "#fb9f3a"
             ],
             [
              0.8888888888888888,
              "#fdca26"
             ],
             [
              1,
              "#f0f921"
             ]
            ],
            "type": "histogram2d"
           }
          ],
          "histogram2dcontour": [
           {
            "colorbar": {
             "outlinewidth": 0,
             "ticks": ""
            },
            "colorscale": [
             [
              0,
              "#0d0887"
             ],
             [
              0.1111111111111111,
              "#46039f"
             ],
             [
              0.2222222222222222,
              "#7201a8"
             ],
             [
              0.3333333333333333,
              "#9c179e"
             ],
             [
              0.4444444444444444,
              "#bd3786"
             ],
             [
              0.5555555555555556,
              "#d8576b"
             ],
             [
              0.6666666666666666,
              "#ed7953"
             ],
             [
              0.7777777777777778,
              "#fb9f3a"
             ],
             [
              0.8888888888888888,
              "#fdca26"
             ],
             [
              1,
              "#f0f921"
             ]
            ],
            "type": "histogram2dcontour"
           }
          ],
          "mesh3d": [
           {
            "colorbar": {
             "outlinewidth": 0,
             "ticks": ""
            },
            "type": "mesh3d"
           }
          ],
          "parcoords": [
           {
            "line": {
             "colorbar": {
              "outlinewidth": 0,
              "ticks": ""
             }
            },
            "type": "parcoords"
           }
          ],
          "pie": [
           {
            "automargin": true,
            "type": "pie"
           }
          ],
          "scatter": [
           {
            "fillpattern": {
             "fillmode": "overlay",
             "size": 10,
             "solidity": 0.2
            },
            "type": "scatter"
           }
          ],
          "scatter3d": [
           {
            "line": {
             "colorbar": {
              "outlinewidth": 0,
              "ticks": ""
             }
            },
            "marker": {
             "colorbar": {
              "outlinewidth": 0,
              "ticks": ""
             }
            },
            "type": "scatter3d"
           }
          ],
          "scattercarpet": [
           {
            "marker": {
             "colorbar": {
              "outlinewidth": 0,
              "ticks": ""
             }
            },
            "type": "scattercarpet"
           }
          ],
          "scattergeo": [
           {
            "marker": {
             "colorbar": {
              "outlinewidth": 0,
              "ticks": ""
             }
            },
            "type": "scattergeo"
           }
          ],
          "scattergl": [
           {
            "marker": {
             "colorbar": {
              "outlinewidth": 0,
              "ticks": ""
             }
            },
            "type": "scattergl"
           }
          ],
          "scattermapbox": [
           {
            "marker": {
             "colorbar": {
              "outlinewidth": 0,
              "ticks": ""
             }
            },
            "type": "scattermapbox"
           }
          ],
          "scatterpolar": [
           {
            "marker": {
             "colorbar": {
              "outlinewidth": 0,
              "ticks": ""
             }
            },
            "type": "scatterpolar"
           }
          ],
          "scatterpolargl": [
           {
            "marker": {
             "colorbar": {
              "outlinewidth": 0,
              "ticks": ""
             }
            },
            "type": "scatterpolargl"
           }
          ],
          "scatterternary": [
           {
            "marker": {
             "colorbar": {
              "outlinewidth": 0,
              "ticks": ""
             }
            },
            "type": "scatterternary"
           }
          ],
          "surface": [
           {
            "colorbar": {
             "outlinewidth": 0,
             "ticks": ""
            },
            "colorscale": [
             [
              0,
              "#0d0887"
             ],
             [
              0.1111111111111111,
              "#46039f"
             ],
             [
              0.2222222222222222,
              "#7201a8"
             ],
             [
              0.3333333333333333,
              "#9c179e"
             ],
             [
              0.4444444444444444,
              "#bd3786"
             ],
             [
              0.5555555555555556,
              "#d8576b"
             ],
             [
              0.6666666666666666,
              "#ed7953"
             ],
             [
              0.7777777777777778,
              "#fb9f3a"
             ],
             [
              0.8888888888888888,
              "#fdca26"
             ],
             [
              1,
              "#f0f921"
             ]
            ],
            "type": "surface"
           }
          ],
          "table": [
           {
            "cells": {
             "fill": {
              "color": "#EBF0F8"
             },
             "line": {
              "color": "white"
             }
            },
            "header": {
             "fill": {
              "color": "#C8D4E3"
             },
             "line": {
              "color": "white"
             }
            },
            "type": "table"
           }
          ]
         },
         "layout": {
          "annotationdefaults": {
           "arrowcolor": "#2a3f5f",
           "arrowhead": 0,
           "arrowwidth": 1
          },
          "autotypenumbers": "strict",
          "coloraxis": {
           "colorbar": {
            "outlinewidth": 0,
            "ticks": ""
           }
          },
          "colorscale": {
           "diverging": [
            [
             0,
             "#8e0152"
            ],
            [
             0.1,
             "#c51b7d"
            ],
            [
             0.2,
             "#de77ae"
            ],
            [
             0.3,
             "#f1b6da"
            ],
            [
             0.4,
             "#fde0ef"
            ],
            [
             0.5,
             "#f7f7f7"
            ],
            [
             0.6,
             "#e6f5d0"
            ],
            [
             0.7,
             "#b8e186"
            ],
            [
             0.8,
             "#7fbc41"
            ],
            [
             0.9,
             "#4d9221"
            ],
            [
             1,
             "#276419"
            ]
           ],
           "sequential": [
            [
             0,
             "#0d0887"
            ],
            [
             0.1111111111111111,
             "#46039f"
            ],
            [
             0.2222222222222222,
             "#7201a8"
            ],
            [
             0.3333333333333333,
             "#9c179e"
            ],
            [
             0.4444444444444444,
             "#bd3786"
            ],
            [
             0.5555555555555556,
             "#d8576b"
            ],
            [
             0.6666666666666666,
             "#ed7953"
            ],
            [
             0.7777777777777778,
             "#fb9f3a"
            ],
            [
             0.8888888888888888,
             "#fdca26"
            ],
            [
             1,
             "#f0f921"
            ]
           ],
           "sequentialminus": [
            [
             0,
             "#0d0887"
            ],
            [
             0.1111111111111111,
             "#46039f"
            ],
            [
             0.2222222222222222,
             "#7201a8"
            ],
            [
             0.3333333333333333,
             "#9c179e"
            ],
            [
             0.4444444444444444,
             "#bd3786"
            ],
            [
             0.5555555555555556,
             "#d8576b"
            ],
            [
             0.6666666666666666,
             "#ed7953"
            ],
            [
             0.7777777777777778,
             "#fb9f3a"
            ],
            [
             0.8888888888888888,
             "#fdca26"
            ],
            [
             1,
             "#f0f921"
            ]
           ]
          },
          "colorway": [
           "#636efa",
           "#EF553B",
           "#00cc96",
           "#ab63fa",
           "#FFA15A",
           "#19d3f3",
           "#FF6692",
           "#B6E880",
           "#FF97FF",
           "#FECB52"
          ],
          "font": {
           "color": "#2a3f5f"
          },
          "geo": {
           "bgcolor": "white",
           "lakecolor": "white",
           "landcolor": "#E5ECF6",
           "showlakes": true,
           "showland": true,
           "subunitcolor": "white"
          },
          "hoverlabel": {
           "align": "left"
          },
          "hovermode": "closest",
          "mapbox": {
           "style": "light"
          },
          "paper_bgcolor": "white",
          "plot_bgcolor": "#E5ECF6",
          "polar": {
           "angularaxis": {
            "gridcolor": "white",
            "linecolor": "white",
            "ticks": ""
           },
           "bgcolor": "#E5ECF6",
           "radialaxis": {
            "gridcolor": "white",
            "linecolor": "white",
            "ticks": ""
           }
          },
          "scene": {
           "xaxis": {
            "backgroundcolor": "#E5ECF6",
            "gridcolor": "white",
            "gridwidth": 2,
            "linecolor": "white",
            "showbackground": true,
            "ticks": "",
            "zerolinecolor": "white"
           },
           "yaxis": {
            "backgroundcolor": "#E5ECF6",
            "gridcolor": "white",
            "gridwidth": 2,
            "linecolor": "white",
            "showbackground": true,
            "ticks": "",
            "zerolinecolor": "white"
           },
           "zaxis": {
            "backgroundcolor": "#E5ECF6",
            "gridcolor": "white",
            "gridwidth": 2,
            "linecolor": "white",
            "showbackground": true,
            "ticks": "",
            "zerolinecolor": "white"
           }
          },
          "shapedefaults": {
           "line": {
            "color": "#2a3f5f"
           }
          },
          "ternary": {
           "aaxis": {
            "gridcolor": "white",
            "linecolor": "white",
            "ticks": ""
           },
           "baxis": {
            "gridcolor": "white",
            "linecolor": "white",
            "ticks": ""
           },
           "bgcolor": "#E5ECF6",
           "caxis": {
            "gridcolor": "white",
            "linecolor": "white",
            "ticks": ""
           }
          },
          "title": {
           "x": 0.05
          },
          "xaxis": {
           "automargin": true,
           "gridcolor": "white",
           "linecolor": "white",
           "ticks": "",
           "title": {
            "standoff": 15
           },
           "zerolinecolor": "white",
           "zerolinewidth": 2
          },
          "yaxis": {
           "automargin": true,
           "gridcolor": "white",
           "linecolor": "white",
           "ticks": "",
           "title": {
            "standoff": 15
           },
           "zerolinecolor": "white",
           "zerolinewidth": 2
          }
         }
        },
        "title": {
         "font": {
          "color": "#4D5663"
         },
         "text": "Top 100 bigrams after removing stop words"
        },
        "xaxis": {
         "gridcolor": "#E1E5ED",
         "linecolor": "black",
         "showgrid": true,
         "tickfont": {
          "color": "#4D5663"
         },
         "title": {
          "font": {
           "color": "#4D5663"
          },
          "text": ""
         },
         "zerolinecolor": "#E1E5ED"
        },
        "yaxis": {
         "gridcolor": "#E1E5ED",
         "linecolor": "black",
         "showgrid": true,
         "tickfont": {
          "color": "#4D5663"
         },
         "title": {
          "font": {
           "color": "#4D5663"
          },
          "text": "Count"
         },
         "zerolinecolor": "#E1E5ED"
        }
       }
      },
      "text/html": [
       "<div>                            <div id=\"a5d29783-9b2c-40d0-b424-6480bc5b3178\" class=\"plotly-graph-div\" style=\"height:525px; width:100%;\"></div>            <script type=\"text/javascript\">                require([\"plotly\"], function(Plotly) {                    window.PLOTLYENV=window.PLOTLYENV || {};\n",
       "                    window.PLOTLYENV.BASE_URL='https://plot.ly';                                    if (document.getElementById(\"a5d29783-9b2c-40d0-b424-6480bc5b3178\")) {                    Plotly.newPlot(                        \"a5d29783-9b2c-40d0-b424-6480bc5b3178\",                        [{\"marker\":{\"color\":\"rgba(255, 153, 51, 0.6)\",\"line\":{\"color\":\"rgba(255, 153, 51, 1.0)\",\"width\":1}},\"name\":\"count\",\"orientation\":\"v\",\"text\":\"\",\"x\":[\"work hard\",\"pay fee\",\"hard work\",\"increase stock\",\"start small\",\"group member\",\"support family\",\"husband work\",\"start ago\",\"provide family\",\"programs_information_microfinance_ecuador services_please_visit_href\",\"live husband\",\"member group\",\"mifex_offers_client microinsurance_access_training_educational\",\"rice farmer\",\"risk_willing_accept_additional risk_making\",\"may_represent_higher_default risk_willing_accept_additional\",\"kenya_security_situation_communitie businesses_lenders_entrepreneur_aware\",\"person group\",\"businesses_lenders_entrepreneur_aware may_represent_higher_default\",\"microinsurance_access_training_educational programs_information_microfinance_ecuador\",\"plan use\",\"run small\",\"well life\",\"high demand\",\"provide well\",\"capital first_months_r\",\"customer need\",\"group promoting_savings_often_forgotten\",\"marry primary\",\"operate small\",\"order farm\",\"pay back\",\"land order\",\"intend use\",\"enough money\",\"first_months_r debt_must_paid_seventh\",\"beauty product\",\"help husband\",\"small store\",\"mifex_rural_finance program\",\"therefore request\",\"want expand\",\"group cannot_fully_repay_borrower\",\"small farmers_produce_sack\",\"boleo_spanish_hand_sowe rice\",\"pay capital\",\"request budget\",\"area small\",\"rice grow\",\"debt_must_paid_seventh final_month\",\"husband help\",\"crop boleo_spanish_hand_sowe\",\"farmers_produce_sack land\",\"grow farmers_rent_machinery\",\"add stock\",\"local community\",\"save money\",\"quality life\",\"large quantity\",\"local market\",\"family need\",\"promoting_savings_often_forgotten micro_finance_program\",\"farmers_rent_machinery helps_gather_production\",\"rural area\",\"attract new\",\"micro_finance_program mifex_believes_imperative\",\"sector rice\",\"micro entrepreneur\",\"increase revenue\",\"communal_bank_others_guarantor person\",\"farmer association_works_cooperatively\",\"meet customer\",\"need order\",\"store home\",\"use clothe\",\"sale increase\",\"rural sector\",\"capital_reserved_future_investment team_evaluating_potential_sector\",\"start help\",\"rice production\",\"program rice\",\"family member\",\"improve family\",\"repay time\",\"increase profit\",\"use money\",\"familys need\",\"mifex_believes_imperative capital_reserved_future_investment\",\"boy girl\",\"loans_prepare_land part\",\"good education\",\"improve quality\",\"part communal_bank_others_guarantor\",\"increase sale\",\"request second\",\"small shop\",\"use clothing\",\"meet need\",\"continue grow\"],\"y\":[70,66,64,54,48,47,46,46,40,39,38,38,38,34,33,32,32,32,32,32,32,29,29,28,28,27,25,25,25,25,25,25,25,25,25,24,24,24,24,24,24,23,23,23,22,22,22,22,22,22,22,22,22,22,22,21,21,21,21,20,20,20,19,19,19,19,19,19,19,19,18,18,18,18,18,18,18,18,18,18,18,18,18,18,18,18,17,17,17,17,17,17,17,17,17,17,16,16,16,16],\"type\":\"bar\"}],                        {\"legend\":{\"bgcolor\":\"#F5F6F9\",\"font\":{\"color\":\"#4D5663\"}},\"paper_bgcolor\":\"#F5F6F9\",\"plot_bgcolor\":\"#F5F6F9\",\"template\":{\"data\":{\"barpolar\":[{\"marker\":{\"line\":{\"color\":\"#E5ECF6\",\"width\":0.5},\"pattern\":{\"fillmode\":\"overlay\",\"size\":10,\"solidity\":0.2}},\"type\":\"barpolar\"}],\"bar\":[{\"error_x\":{\"color\":\"#2a3f5f\"},\"error_y\":{\"color\":\"#2a3f5f\"},\"marker\":{\"line\":{\"color\":\"#E5ECF6\",\"width\":0.5},\"pattern\":{\"fillmode\":\"overlay\",\"size\":10,\"solidity\":0.2}},\"type\":\"bar\"}],\"carpet\":[{\"aaxis\":{\"endlinecolor\":\"#2a3f5f\",\"gridcolor\":\"white\",\"linecolor\":\"white\",\"minorgridcolor\":\"white\",\"startlinecolor\":\"#2a3f5f\"},\"baxis\":{\"endlinecolor\":\"#2a3f5f\",\"gridcolor\":\"white\",\"linecolor\":\"white\",\"minorgridcolor\":\"white\",\"startlinecolor\":\"#2a3f5f\"},\"type\":\"carpet\"}],\"choropleth\":[{\"colorbar\":{\"outlinewidth\":0,\"ticks\":\"\"},\"type\":\"choropleth\"}],\"contourcarpet\":[{\"colorbar\":{\"outlinewidth\":0,\"ticks\":\"\"},\"type\":\"contourcarpet\"}],\"contour\":[{\"colorbar\":{\"outlinewidth\":0,\"ticks\":\"\"},\"colorscale\":[[0.0,\"#0d0887\"],[0.1111111111111111,\"#46039f\"],[0.2222222222222222,\"#7201a8\"],[0.3333333333333333,\"#9c179e\"],[0.4444444444444444,\"#bd3786\"],[0.5555555555555556,\"#d8576b\"],[0.6666666666666666,\"#ed7953\"],[0.7777777777777778,\"#fb9f3a\"],[0.8888888888888888,\"#fdca26\"],[1.0,\"#f0f921\"]],\"type\":\"contour\"}],\"heatmapgl\":[{\"colorbar\":{\"outlinewidth\":0,\"ticks\":\"\"},\"colorscale\":[[0.0,\"#0d0887\"],[0.1111111111111111,\"#46039f\"],[0.2222222222222222,\"#7201a8\"],[0.3333333333333333,\"#9c179e\"],[0.4444444444444444,\"#bd3786\"],[0.5555555555555556,\"#d8576b\"],[0.6666666666666666,\"#ed7953\"],[0.7777777777777778,\"#fb9f3a\"],[0.8888888888888888,\"#fdca26\"],[1.0,\"#f0f921\"]],\"type\":\"heatmapgl\"}],\"heatmap\":[{\"colorbar\":{\"outlinewidth\":0,\"ticks\":\"\"},\"colorscale\":[[0.0,\"#0d0887\"],[0.1111111111111111,\"#46039f\"],[0.2222222222222222,\"#7201a8\"],[0.3333333333333333,\"#9c179e\"],[0.4444444444444444,\"#bd3786\"],[0.5555555555555556,\"#d8576b\"],[0.6666666666666666,\"#ed7953\"],[0.7777777777777778,\"#fb9f3a\"],[0.8888888888888888,\"#fdca26\"],[1.0,\"#f0f921\"]],\"type\":\"heatmap\"}],\"histogram2dcontour\":[{\"colorbar\":{\"outlinewidth\":0,\"ticks\":\"\"},\"colorscale\":[[0.0,\"#0d0887\"],[0.1111111111111111,\"#46039f\"],[0.2222222222222222,\"#7201a8\"],[0.3333333333333333,\"#9c179e\"],[0.4444444444444444,\"#bd3786\"],[0.5555555555555556,\"#d8576b\"],[0.6666666666666666,\"#ed7953\"],[0.7777777777777778,\"#fb9f3a\"],[0.8888888888888888,\"#fdca26\"],[1.0,\"#f0f921\"]],\"type\":\"histogram2dcontour\"}],\"histogram2d\":[{\"colorbar\":{\"outlinewidth\":0,\"ticks\":\"\"},\"colorscale\":[[0.0,\"#0d0887\"],[0.1111111111111111,\"#46039f\"],[0.2222222222222222,\"#7201a8\"],[0.3333333333333333,\"#9c179e\"],[0.4444444444444444,\"#bd3786\"],[0.5555555555555556,\"#d8576b\"],[0.6666666666666666,\"#ed7953\"],[0.7777777777777778,\"#fb9f3a\"],[0.8888888888888888,\"#fdca26\"],[1.0,\"#f0f921\"]],\"type\":\"histogram2d\"}],\"histogram\":[{\"marker\":{\"pattern\":{\"fillmode\":\"overlay\",\"size\":10,\"solidity\":0.2}},\"type\":\"histogram\"}],\"mesh3d\":[{\"colorbar\":{\"outlinewidth\":0,\"ticks\":\"\"},\"type\":\"mesh3d\"}],\"parcoords\":[{\"line\":{\"colorbar\":{\"outlinewidth\":0,\"ticks\":\"\"}},\"type\":\"parcoords\"}],\"pie\":[{\"automargin\":true,\"type\":\"pie\"}],\"scatter3d\":[{\"line\":{\"colorbar\":{\"outlinewidth\":0,\"ticks\":\"\"}},\"marker\":{\"colorbar\":{\"outlinewidth\":0,\"ticks\":\"\"}},\"type\":\"scatter3d\"}],\"scattercarpet\":[{\"marker\":{\"colorbar\":{\"outlinewidth\":0,\"ticks\":\"\"}},\"type\":\"scattercarpet\"}],\"scattergeo\":[{\"marker\":{\"colorbar\":{\"outlinewidth\":0,\"ticks\":\"\"}},\"type\":\"scattergeo\"}],\"scattergl\":[{\"marker\":{\"colorbar\":{\"outlinewidth\":0,\"ticks\":\"\"}},\"type\":\"scattergl\"}],\"scattermapbox\":[{\"marker\":{\"colorbar\":{\"outlinewidth\":0,\"ticks\":\"\"}},\"type\":\"scattermapbox\"}],\"scatterpolargl\":[{\"marker\":{\"colorbar\":{\"outlinewidth\":0,\"ticks\":\"\"}},\"type\":\"scatterpolargl\"}],\"scatterpolar\":[{\"marker\":{\"colorbar\":{\"outlinewidth\":0,\"ticks\":\"\"}},\"type\":\"scatterpolar\"}],\"scatter\":[{\"fillpattern\":{\"fillmode\":\"overlay\",\"size\":10,\"solidity\":0.2},\"type\":\"scatter\"}],\"scatterternary\":[{\"marker\":{\"colorbar\":{\"outlinewidth\":0,\"ticks\":\"\"}},\"type\":\"scatterternary\"}],\"surface\":[{\"colorbar\":{\"outlinewidth\":0,\"ticks\":\"\"},\"colorscale\":[[0.0,\"#0d0887\"],[0.1111111111111111,\"#46039f\"],[0.2222222222222222,\"#7201a8\"],[0.3333333333333333,\"#9c179e\"],[0.4444444444444444,\"#bd3786\"],[0.5555555555555556,\"#d8576b\"],[0.6666666666666666,\"#ed7953\"],[0.7777777777777778,\"#fb9f3a\"],[0.8888888888888888,\"#fdca26\"],[1.0,\"#f0f921\"]],\"type\":\"surface\"}],\"table\":[{\"cells\":{\"fill\":{\"color\":\"#EBF0F8\"},\"line\":{\"color\":\"white\"}},\"header\":{\"fill\":{\"color\":\"#C8D4E3\"},\"line\":{\"color\":\"white\"}},\"type\":\"table\"}]},\"layout\":{\"annotationdefaults\":{\"arrowcolor\":\"#2a3f5f\",\"arrowhead\":0,\"arrowwidth\":1},\"autotypenumbers\":\"strict\",\"coloraxis\":{\"colorbar\":{\"outlinewidth\":0,\"ticks\":\"\"}},\"colorscale\":{\"diverging\":[[0,\"#8e0152\"],[0.1,\"#c51b7d\"],[0.2,\"#de77ae\"],[0.3,\"#f1b6da\"],[0.4,\"#fde0ef\"],[0.5,\"#f7f7f7\"],[0.6,\"#e6f5d0\"],[0.7,\"#b8e186\"],[0.8,\"#7fbc41\"],[0.9,\"#4d9221\"],[1,\"#276419\"]],\"sequential\":[[0.0,\"#0d0887\"],[0.1111111111111111,\"#46039f\"],[0.2222222222222222,\"#7201a8\"],[0.3333333333333333,\"#9c179e\"],[0.4444444444444444,\"#bd3786\"],[0.5555555555555556,\"#d8576b\"],[0.6666666666666666,\"#ed7953\"],[0.7777777777777778,\"#fb9f3a\"],[0.8888888888888888,\"#fdca26\"],[1.0,\"#f0f921\"]],\"sequentialminus\":[[0.0,\"#0d0887\"],[0.1111111111111111,\"#46039f\"],[0.2222222222222222,\"#7201a8\"],[0.3333333333333333,\"#9c179e\"],[0.4444444444444444,\"#bd3786\"],[0.5555555555555556,\"#d8576b\"],[0.6666666666666666,\"#ed7953\"],[0.7777777777777778,\"#fb9f3a\"],[0.8888888888888888,\"#fdca26\"],[1.0,\"#f0f921\"]]},\"colorway\":[\"#636efa\",\"#EF553B\",\"#00cc96\",\"#ab63fa\",\"#FFA15A\",\"#19d3f3\",\"#FF6692\",\"#B6E880\",\"#FF97FF\",\"#FECB52\"],\"font\":{\"color\":\"#2a3f5f\"},\"geo\":{\"bgcolor\":\"white\",\"lakecolor\":\"white\",\"landcolor\":\"#E5ECF6\",\"showlakes\":true,\"showland\":true,\"subunitcolor\":\"white\"},\"hoverlabel\":{\"align\":\"left\"},\"hovermode\":\"closest\",\"mapbox\":{\"style\":\"light\"},\"paper_bgcolor\":\"white\",\"plot_bgcolor\":\"#E5ECF6\",\"polar\":{\"angularaxis\":{\"gridcolor\":\"white\",\"linecolor\":\"white\",\"ticks\":\"\"},\"bgcolor\":\"#E5ECF6\",\"radialaxis\":{\"gridcolor\":\"white\",\"linecolor\":\"white\",\"ticks\":\"\"}},\"scene\":{\"xaxis\":{\"backgroundcolor\":\"#E5ECF6\",\"gridcolor\":\"white\",\"gridwidth\":2,\"linecolor\":\"white\",\"showbackground\":true,\"ticks\":\"\",\"zerolinecolor\":\"white\"},\"yaxis\":{\"backgroundcolor\":\"#E5ECF6\",\"gridcolor\":\"white\",\"gridwidth\":2,\"linecolor\":\"white\",\"showbackground\":true,\"ticks\":\"\",\"zerolinecolor\":\"white\"},\"zaxis\":{\"backgroundcolor\":\"#E5ECF6\",\"gridcolor\":\"white\",\"gridwidth\":2,\"linecolor\":\"white\",\"showbackground\":true,\"ticks\":\"\",\"zerolinecolor\":\"white\"}},\"shapedefaults\":{\"line\":{\"color\":\"#2a3f5f\"}},\"ternary\":{\"aaxis\":{\"gridcolor\":\"white\",\"linecolor\":\"white\",\"ticks\":\"\"},\"baxis\":{\"gridcolor\":\"white\",\"linecolor\":\"white\",\"ticks\":\"\"},\"bgcolor\":\"#E5ECF6\",\"caxis\":{\"gridcolor\":\"white\",\"linecolor\":\"white\",\"ticks\":\"\"}},\"title\":{\"x\":0.05},\"xaxis\":{\"automargin\":true,\"gridcolor\":\"white\",\"linecolor\":\"white\",\"ticks\":\"\",\"title\":{\"standoff\":15},\"zerolinecolor\":\"white\",\"zerolinewidth\":2},\"yaxis\":{\"automargin\":true,\"gridcolor\":\"white\",\"linecolor\":\"white\",\"ticks\":\"\",\"title\":{\"standoff\":15},\"zerolinecolor\":\"white\",\"zerolinewidth\":2}}},\"title\":{\"font\":{\"color\":\"#4D5663\"},\"text\":\"Top 100 bigrams after removing stop words\"},\"xaxis\":{\"gridcolor\":\"#E1E5ED\",\"linecolor\":\"black\",\"showgrid\":true,\"tickfont\":{\"color\":\"#4D5663\"},\"title\":{\"font\":{\"color\":\"#4D5663\"},\"text\":\"\"},\"zerolinecolor\":\"#E1E5ED\"},\"yaxis\":{\"gridcolor\":\"#E1E5ED\",\"linecolor\":\"black\",\"showgrid\":true,\"tickfont\":{\"color\":\"#4D5663\"},\"title\":{\"font\":{\"color\":\"#4D5663\"},\"text\":\"Count\"},\"zerolinecolor\":\"#E1E5ED\"}},                        {\"showLink\": true, \"linkText\": \"Export to plot.ly\", \"plotlyServerURL\": \"https://plot.ly\", \"responsive\": true}                    ).then(function(){\n",
       "                            \n",
       "var gd = document.getElementById('a5d29783-9b2c-40d0-b424-6480bc5b3178');\n",
       "var x = new MutationObserver(function (mutations, observer) {{\n",
       "        var display = window.getComputedStyle(gd).display;\n",
       "        if (!display || display === 'none') {{\n",
       "            console.log([gd, 'removed!']);\n",
       "            Plotly.purge(gd);\n",
       "            observer.disconnect();\n",
       "        }}\n",
       "}});\n",
       "\n",
       "// Listen for the removal of the full notebook cells\n",
       "var notebookContainer = gd.closest('#notebook-container');\n",
       "if (notebookContainer) {{\n",
       "    x.observe(notebookContainer, {childList: true});\n",
       "}}\n",
       "\n",
       "// Listen for the clearing of the current output cell\n",
       "var outputEl = gd.closest('.output');\n",
       "if (outputEl) {{\n",
       "    x.observe(outputEl, {childList: true});\n",
       "}}\n",
       "\n",
       "                        })                };                });            </script>        </div>"
      ]
     },
     "metadata": {},
     "output_type": "display_data"
    }
   ],
   "source": [
    "plot_model(plot = 'bigram')"
   ]
  },
  {
   "cell_type": "code",
   "execution_count": 24,
   "id": "2fb4fa3d",
   "metadata": {},
   "outputs": [
    {
     "data": {
      "text/html": [
       "        <script type=\"text/javascript\">\n",
       "        window.PlotlyConfig = {MathJaxConfig: 'local'};\n",
       "        if (window.MathJax) {MathJax.Hub.Config({SVG: {font: \"STIX-Web\"}});}\n",
       "        if (typeof require !== 'undefined') {\n",
       "        require.undef(\"plotly\");\n",
       "        requirejs.config({\n",
       "            paths: {\n",
       "                'plotly': ['https://cdn.plot.ly/plotly-2.11.1.min']\n",
       "            }\n",
       "        });\n",
       "        require(['plotly'], function(Plotly) {\n",
       "            window._Plotly = Plotly;\n",
       "        });\n",
       "        }\n",
       "        </script>\n",
       "        "
      ]
     },
     "metadata": {},
     "output_type": "display_data"
    },
    {
     "data": {
      "application/vnd.plotly.v1+json": {
       "config": {
        "linkText": "Export to plot.ly",
        "plotlyServerURL": "https://plot.ly",
        "showLink": true
       },
       "data": [
        {
         "marker": {
          "color": "rgba(255, 153, 51, 0.6)",
          "line": {
           "color": "rgba(255, 153, 51, 1.0)",
           "width": 1
          }
         },
         "name": "count",
         "orientation": "v",
         "text": "",
         "type": "bar",
         "x": [
          "food",
          "expand",
          "use",
          "need",
          "familys",
          "meet",
          "ease",
          "money",
          "cook",
          "single_mother",
          "small",
          "premise",
          "live",
          "demand",
          "serve",
          "area",
          "cater",
          "pay",
          "request",
          "help",
          "good",
          "fund",
          "fry",
          "marry",
          "increase",
          "want",
          "amount",
          "high",
          "customer",
          "charcoal",
          "earn_living",
          "shoe",
          "client",
          "improve",
          "stock",
          "clothe",
          "mother",
          "operate",
          "potato",
          "necessary",
          "add",
          "renovate",
          "rent",
          "run",
          "sized",
          "supply",
          "tabitha",
          "time",
          "town",
          "traditional",
          "utensil",
          "well",
          "menu",
          "married",
          "work",
          "medium",
          "hard",
          "enough",
          "cafe",
          "budget",
          "junior",
          "employ",
          "last",
          "believe",
          "due",
          "life",
          "financial",
          "currently",
          "stove",
          "delivery",
          "depend",
          "choir",
          "therefore",
          "commit",
          "space",
          "candy",
          "variety",
          "vendor",
          "bale",
          "women",
          "spacious",
          "member",
          "dependant",
          "determine",
          "mini",
          "month",
          "mostly",
          "move",
          "kiosk",
          "new",
          "inventory",
          "intend",
          "permanent",
          "include",
          "profit",
          "group",
          "ewpay",
          "secondary",
          "dish",
          "shepherd"
         ],
         "y": [
          16,
          13,
          12,
          12,
          9,
          8,
          8,
          8,
          6,
          6,
          5,
          5,
          5,
          5,
          4,
          4,
          4,
          3,
          3,
          3,
          3,
          3,
          3,
          3,
          3,
          3,
          3,
          3,
          3,
          3,
          3,
          3,
          3,
          3,
          3,
          3,
          3,
          2,
          2,
          2,
          2,
          2,
          2,
          2,
          2,
          2,
          2,
          2,
          2,
          2,
          2,
          2,
          2,
          2,
          2,
          2,
          2,
          2,
          2,
          2,
          2,
          2,
          2,
          2,
          2,
          2,
          2,
          1,
          1,
          1,
          1,
          1,
          1,
          1,
          1,
          1,
          1,
          1,
          1,
          1,
          1,
          1,
          1,
          1,
          1,
          1,
          1,
          1,
          1,
          1,
          1,
          1,
          1,
          1,
          1,
          1,
          1,
          1,
          1,
          1
         ]
        }
       ],
       "layout": {
        "legend": {
         "bgcolor": "#F5F6F9",
         "font": {
          "color": "#4D5663"
         }
        },
        "paper_bgcolor": "#F5F6F9",
        "plot_bgcolor": "#F5F6F9",
        "template": {
         "data": {
          "bar": [
           {
            "error_x": {
             "color": "#2a3f5f"
            },
            "error_y": {
             "color": "#2a3f5f"
            },
            "marker": {
             "line": {
              "color": "#E5ECF6",
              "width": 0.5
             },
             "pattern": {
              "fillmode": "overlay",
              "size": 10,
              "solidity": 0.2
             }
            },
            "type": "bar"
           }
          ],
          "barpolar": [
           {
            "marker": {
             "line": {
              "color": "#E5ECF6",
              "width": 0.5
             },
             "pattern": {
              "fillmode": "overlay",
              "size": 10,
              "solidity": 0.2
             }
            },
            "type": "barpolar"
           }
          ],
          "carpet": [
           {
            "aaxis": {
             "endlinecolor": "#2a3f5f",
             "gridcolor": "white",
             "linecolor": "white",
             "minorgridcolor": "white",
             "startlinecolor": "#2a3f5f"
            },
            "baxis": {
             "endlinecolor": "#2a3f5f",
             "gridcolor": "white",
             "linecolor": "white",
             "minorgridcolor": "white",
             "startlinecolor": "#2a3f5f"
            },
            "type": "carpet"
           }
          ],
          "choropleth": [
           {
            "colorbar": {
             "outlinewidth": 0,
             "ticks": ""
            },
            "type": "choropleth"
           }
          ],
          "contour": [
           {
            "colorbar": {
             "outlinewidth": 0,
             "ticks": ""
            },
            "colorscale": [
             [
              0,
              "#0d0887"
             ],
             [
              0.1111111111111111,
              "#46039f"
             ],
             [
              0.2222222222222222,
              "#7201a8"
             ],
             [
              0.3333333333333333,
              "#9c179e"
             ],
             [
              0.4444444444444444,
              "#bd3786"
             ],
             [
              0.5555555555555556,
              "#d8576b"
             ],
             [
              0.6666666666666666,
              "#ed7953"
             ],
             [
              0.7777777777777778,
              "#fb9f3a"
             ],
             [
              0.8888888888888888,
              "#fdca26"
             ],
             [
              1,
              "#f0f921"
             ]
            ],
            "type": "contour"
           }
          ],
          "contourcarpet": [
           {
            "colorbar": {
             "outlinewidth": 0,
             "ticks": ""
            },
            "type": "contourcarpet"
           }
          ],
          "heatmap": [
           {
            "colorbar": {
             "outlinewidth": 0,
             "ticks": ""
            },
            "colorscale": [
             [
              0,
              "#0d0887"
             ],
             [
              0.1111111111111111,
              "#46039f"
             ],
             [
              0.2222222222222222,
              "#7201a8"
             ],
             [
              0.3333333333333333,
              "#9c179e"
             ],
             [
              0.4444444444444444,
              "#bd3786"
             ],
             [
              0.5555555555555556,
              "#d8576b"
             ],
             [
              0.6666666666666666,
              "#ed7953"
             ],
             [
              0.7777777777777778,
              "#fb9f3a"
             ],
             [
              0.8888888888888888,
              "#fdca26"
             ],
             [
              1,
              "#f0f921"
             ]
            ],
            "type": "heatmap"
           }
          ],
          "heatmapgl": [
           {
            "colorbar": {
             "outlinewidth": 0,
             "ticks": ""
            },
            "colorscale": [
             [
              0,
              "#0d0887"
             ],
             [
              0.1111111111111111,
              "#46039f"
             ],
             [
              0.2222222222222222,
              "#7201a8"
             ],
             [
              0.3333333333333333,
              "#9c179e"
             ],
             [
              0.4444444444444444,
              "#bd3786"
             ],
             [
              0.5555555555555556,
              "#d8576b"
             ],
             [
              0.6666666666666666,
              "#ed7953"
             ],
             [
              0.7777777777777778,
              "#fb9f3a"
             ],
             [
              0.8888888888888888,
              "#fdca26"
             ],
             [
              1,
              "#f0f921"
             ]
            ],
            "type": "heatmapgl"
           }
          ],
          "histogram": [
           {
            "marker": {
             "pattern": {
              "fillmode": "overlay",
              "size": 10,
              "solidity": 0.2
             }
            },
            "type": "histogram"
           }
          ],
          "histogram2d": [
           {
            "colorbar": {
             "outlinewidth": 0,
             "ticks": ""
            },
            "colorscale": [
             [
              0,
              "#0d0887"
             ],
             [
              0.1111111111111111,
              "#46039f"
             ],
             [
              0.2222222222222222,
              "#7201a8"
             ],
             [
              0.3333333333333333,
              "#9c179e"
             ],
             [
              0.4444444444444444,
              "#bd3786"
             ],
             [
              0.5555555555555556,
              "#d8576b"
             ],
             [
              0.6666666666666666,
              "#ed7953"
             ],
             [
              0.7777777777777778,
              "#fb9f3a"
             ],
             [
              0.8888888888888888,
              "#fdca26"
             ],
             [
              1,
              "#f0f921"
             ]
            ],
            "type": "histogram2d"
           }
          ],
          "histogram2dcontour": [
           {
            "colorbar": {
             "outlinewidth": 0,
             "ticks": ""
            },
            "colorscale": [
             [
              0,
              "#0d0887"
             ],
             [
              0.1111111111111111,
              "#46039f"
             ],
             [
              0.2222222222222222,
              "#7201a8"
             ],
             [
              0.3333333333333333,
              "#9c179e"
             ],
             [
              0.4444444444444444,
              "#bd3786"
             ],
             [
              0.5555555555555556,
              "#d8576b"
             ],
             [
              0.6666666666666666,
              "#ed7953"
             ],
             [
              0.7777777777777778,
              "#fb9f3a"
             ],
             [
              0.8888888888888888,
              "#fdca26"
             ],
             [
              1,
              "#f0f921"
             ]
            ],
            "type": "histogram2dcontour"
           }
          ],
          "mesh3d": [
           {
            "colorbar": {
             "outlinewidth": 0,
             "ticks": ""
            },
            "type": "mesh3d"
           }
          ],
          "parcoords": [
           {
            "line": {
             "colorbar": {
              "outlinewidth": 0,
              "ticks": ""
             }
            },
            "type": "parcoords"
           }
          ],
          "pie": [
           {
            "automargin": true,
            "type": "pie"
           }
          ],
          "scatter": [
           {
            "fillpattern": {
             "fillmode": "overlay",
             "size": 10,
             "solidity": 0.2
            },
            "type": "scatter"
           }
          ],
          "scatter3d": [
           {
            "line": {
             "colorbar": {
              "outlinewidth": 0,
              "ticks": ""
             }
            },
            "marker": {
             "colorbar": {
              "outlinewidth": 0,
              "ticks": ""
             }
            },
            "type": "scatter3d"
           }
          ],
          "scattercarpet": [
           {
            "marker": {
             "colorbar": {
              "outlinewidth": 0,
              "ticks": ""
             }
            },
            "type": "scattercarpet"
           }
          ],
          "scattergeo": [
           {
            "marker": {
             "colorbar": {
              "outlinewidth": 0,
              "ticks": ""
             }
            },
            "type": "scattergeo"
           }
          ],
          "scattergl": [
           {
            "marker": {
             "colorbar": {
              "outlinewidth": 0,
              "ticks": ""
             }
            },
            "type": "scattergl"
           }
          ],
          "scattermapbox": [
           {
            "marker": {
             "colorbar": {
              "outlinewidth": 0,
              "ticks": ""
             }
            },
            "type": "scattermapbox"
           }
          ],
          "scatterpolar": [
           {
            "marker": {
             "colorbar": {
              "outlinewidth": 0,
              "ticks": ""
             }
            },
            "type": "scatterpolar"
           }
          ],
          "scatterpolargl": [
           {
            "marker": {
             "colorbar": {
              "outlinewidth": 0,
              "ticks": ""
             }
            },
            "type": "scatterpolargl"
           }
          ],
          "scatterternary": [
           {
            "marker": {
             "colorbar": {
              "outlinewidth": 0,
              "ticks": ""
             }
            },
            "type": "scatterternary"
           }
          ],
          "surface": [
           {
            "colorbar": {
             "outlinewidth": 0,
             "ticks": ""
            },
            "colorscale": [
             [
              0,
              "#0d0887"
             ],
             [
              0.1111111111111111,
              "#46039f"
             ],
             [
              0.2222222222222222,
              "#7201a8"
             ],
             [
              0.3333333333333333,
              "#9c179e"
             ],
             [
              0.4444444444444444,
              "#bd3786"
             ],
             [
              0.5555555555555556,
              "#d8576b"
             ],
             [
              0.6666666666666666,
              "#ed7953"
             ],
             [
              0.7777777777777778,
              "#fb9f3a"
             ],
             [
              0.8888888888888888,
              "#fdca26"
             ],
             [
              1,
              "#f0f921"
             ]
            ],
            "type": "surface"
           }
          ],
          "table": [
           {
            "cells": {
             "fill": {
              "color": "#EBF0F8"
             },
             "line": {
              "color": "white"
             }
            },
            "header": {
             "fill": {
              "color": "#C8D4E3"
             },
             "line": {
              "color": "white"
             }
            },
            "type": "table"
           }
          ]
         },
         "layout": {
          "annotationdefaults": {
           "arrowcolor": "#2a3f5f",
           "arrowhead": 0,
           "arrowwidth": 1
          },
          "autotypenumbers": "strict",
          "coloraxis": {
           "colorbar": {
            "outlinewidth": 0,
            "ticks": ""
           }
          },
          "colorscale": {
           "diverging": [
            [
             0,
             "#8e0152"
            ],
            [
             0.1,
             "#c51b7d"
            ],
            [
             0.2,
             "#de77ae"
            ],
            [
             0.3,
             "#f1b6da"
            ],
            [
             0.4,
             "#fde0ef"
            ],
            [
             0.5,
             "#f7f7f7"
            ],
            [
             0.6,
             "#e6f5d0"
            ],
            [
             0.7,
             "#b8e186"
            ],
            [
             0.8,
             "#7fbc41"
            ],
            [
             0.9,
             "#4d9221"
            ],
            [
             1,
             "#276419"
            ]
           ],
           "sequential": [
            [
             0,
             "#0d0887"
            ],
            [
             0.1111111111111111,
             "#46039f"
            ],
            [
             0.2222222222222222,
             "#7201a8"
            ],
            [
             0.3333333333333333,
             "#9c179e"
            ],
            [
             0.4444444444444444,
             "#bd3786"
            ],
            [
             0.5555555555555556,
             "#d8576b"
            ],
            [
             0.6666666666666666,
             "#ed7953"
            ],
            [
             0.7777777777777778,
             "#fb9f3a"
            ],
            [
             0.8888888888888888,
             "#fdca26"
            ],
            [
             1,
             "#f0f921"
            ]
           ],
           "sequentialminus": [
            [
             0,
             "#0d0887"
            ],
            [
             0.1111111111111111,
             "#46039f"
            ],
            [
             0.2222222222222222,
             "#7201a8"
            ],
            [
             0.3333333333333333,
             "#9c179e"
            ],
            [
             0.4444444444444444,
             "#bd3786"
            ],
            [
             0.5555555555555556,
             "#d8576b"
            ],
            [
             0.6666666666666666,
             "#ed7953"
            ],
            [
             0.7777777777777778,
             "#fb9f3a"
            ],
            [
             0.8888888888888888,
             "#fdca26"
            ],
            [
             1,
             "#f0f921"
            ]
           ]
          },
          "colorway": [
           "#636efa",
           "#EF553B",
           "#00cc96",
           "#ab63fa",
           "#FFA15A",
           "#19d3f3",
           "#FF6692",
           "#B6E880",
           "#FF97FF",
           "#FECB52"
          ],
          "font": {
           "color": "#2a3f5f"
          },
          "geo": {
           "bgcolor": "white",
           "lakecolor": "white",
           "landcolor": "#E5ECF6",
           "showlakes": true,
           "showland": true,
           "subunitcolor": "white"
          },
          "hoverlabel": {
           "align": "left"
          },
          "hovermode": "closest",
          "mapbox": {
           "style": "light"
          },
          "paper_bgcolor": "white",
          "plot_bgcolor": "#E5ECF6",
          "polar": {
           "angularaxis": {
            "gridcolor": "white",
            "linecolor": "white",
            "ticks": ""
           },
           "bgcolor": "#E5ECF6",
           "radialaxis": {
            "gridcolor": "white",
            "linecolor": "white",
            "ticks": ""
           }
          },
          "scene": {
           "xaxis": {
            "backgroundcolor": "#E5ECF6",
            "gridcolor": "white",
            "gridwidth": 2,
            "linecolor": "white",
            "showbackground": true,
            "ticks": "",
            "zerolinecolor": "white"
           },
           "yaxis": {
            "backgroundcolor": "#E5ECF6",
            "gridcolor": "white",
            "gridwidth": 2,
            "linecolor": "white",
            "showbackground": true,
            "ticks": "",
            "zerolinecolor": "white"
           },
           "zaxis": {
            "backgroundcolor": "#E5ECF6",
            "gridcolor": "white",
            "gridwidth": 2,
            "linecolor": "white",
            "showbackground": true,
            "ticks": "",
            "zerolinecolor": "white"
           }
          },
          "shapedefaults": {
           "line": {
            "color": "#2a3f5f"
           }
          },
          "ternary": {
           "aaxis": {
            "gridcolor": "white",
            "linecolor": "white",
            "ticks": ""
           },
           "baxis": {
            "gridcolor": "white",
            "linecolor": "white",
            "ticks": ""
           },
           "bgcolor": "#E5ECF6",
           "caxis": {
            "gridcolor": "white",
            "linecolor": "white",
            "ticks": ""
           }
          },
          "title": {
           "x": 0.05
          },
          "xaxis": {
           "automargin": true,
           "gridcolor": "white",
           "linecolor": "white",
           "ticks": "",
           "title": {
            "standoff": 15
           },
           "zerolinecolor": "white",
           "zerolinewidth": 2
          },
          "yaxis": {
           "automargin": true,
           "gridcolor": "white",
           "linecolor": "white",
           "ticks": "",
           "title": {
            "standoff": 15
           },
           "zerolinecolor": "white",
           "zerolinewidth": 2
          }
         }
        },
        "title": {
         "font": {
          "color": "#4D5663"
         },
         "text": "Topic 1: Top 100 words after removing stop words"
        },
        "xaxis": {
         "gridcolor": "#E1E5ED",
         "linecolor": "black",
         "showgrid": true,
         "tickfont": {
          "color": "#4D5663"
         },
         "title": {
          "font": {
           "color": "#4D5663"
          },
          "text": ""
         },
         "zerolinecolor": "#E1E5ED"
        },
        "yaxis": {
         "gridcolor": "#E1E5ED",
         "linecolor": "black",
         "showgrid": true,
         "tickfont": {
          "color": "#4D5663"
         },
         "title": {
          "font": {
           "color": "#4D5663"
          },
          "text": "Count"
         },
         "zerolinecolor": "#E1E5ED"
        }
       }
      },
      "text/html": [
       "<div>                            <div id=\"bcdc5a7e-abcd-4f96-aaaf-bb05ab139f8d\" class=\"plotly-graph-div\" style=\"height:525px; width:100%;\"></div>            <script type=\"text/javascript\">                require([\"plotly\"], function(Plotly) {                    window.PLOTLYENV=window.PLOTLYENV || {};\n",
       "                    window.PLOTLYENV.BASE_URL='https://plot.ly';                                    if (document.getElementById(\"bcdc5a7e-abcd-4f96-aaaf-bb05ab139f8d\")) {                    Plotly.newPlot(                        \"bcdc5a7e-abcd-4f96-aaaf-bb05ab139f8d\",                        [{\"marker\":{\"color\":\"rgba(255, 153, 51, 0.6)\",\"line\":{\"color\":\"rgba(255, 153, 51, 1.0)\",\"width\":1}},\"name\":\"count\",\"orientation\":\"v\",\"text\":\"\",\"x\":[\"food\",\"expand\",\"use\",\"need\",\"familys\",\"meet\",\"ease\",\"money\",\"cook\",\"single_mother\",\"small\",\"premise\",\"live\",\"demand\",\"serve\",\"area\",\"cater\",\"pay\",\"request\",\"help\",\"good\",\"fund\",\"fry\",\"marry\",\"increase\",\"want\",\"amount\",\"high\",\"customer\",\"charcoal\",\"earn_living\",\"shoe\",\"client\",\"improve\",\"stock\",\"clothe\",\"mother\",\"operate\",\"potato\",\"necessary\",\"add\",\"renovate\",\"rent\",\"run\",\"sized\",\"supply\",\"tabitha\",\"time\",\"town\",\"traditional\",\"utensil\",\"well\",\"menu\",\"married\",\"work\",\"medium\",\"hard\",\"enough\",\"cafe\",\"budget\",\"junior\",\"employ\",\"last\",\"believe\",\"due\",\"life\",\"financial\",\"currently\",\"stove\",\"delivery\",\"depend\",\"choir\",\"therefore\",\"commit\",\"space\",\"candy\",\"variety\",\"vendor\",\"bale\",\"women\",\"spacious\",\"member\",\"dependant\",\"determine\",\"mini\",\"month\",\"mostly\",\"move\",\"kiosk\",\"new\",\"inventory\",\"intend\",\"permanent\",\"include\",\"profit\",\"group\",\"ewpay\",\"secondary\",\"dish\",\"shepherd\"],\"y\":[16,13,12,12,9,8,8,8,6,6,5,5,5,5,4,4,4,3,3,3,3,3,3,3,3,3,3,3,3,3,3,3,3,3,3,3,3,2,2,2,2,2,2,2,2,2,2,2,2,2,2,2,2,2,2,2,2,2,2,2,2,2,2,2,2,2,2,1,1,1,1,1,1,1,1,1,1,1,1,1,1,1,1,1,1,1,1,1,1,1,1,1,1,1,1,1,1,1,1,1],\"type\":\"bar\"}],                        {\"legend\":{\"bgcolor\":\"#F5F6F9\",\"font\":{\"color\":\"#4D5663\"}},\"paper_bgcolor\":\"#F5F6F9\",\"plot_bgcolor\":\"#F5F6F9\",\"template\":{\"data\":{\"barpolar\":[{\"marker\":{\"line\":{\"color\":\"#E5ECF6\",\"width\":0.5},\"pattern\":{\"fillmode\":\"overlay\",\"size\":10,\"solidity\":0.2}},\"type\":\"barpolar\"}],\"bar\":[{\"error_x\":{\"color\":\"#2a3f5f\"},\"error_y\":{\"color\":\"#2a3f5f\"},\"marker\":{\"line\":{\"color\":\"#E5ECF6\",\"width\":0.5},\"pattern\":{\"fillmode\":\"overlay\",\"size\":10,\"solidity\":0.2}},\"type\":\"bar\"}],\"carpet\":[{\"aaxis\":{\"endlinecolor\":\"#2a3f5f\",\"gridcolor\":\"white\",\"linecolor\":\"white\",\"minorgridcolor\":\"white\",\"startlinecolor\":\"#2a3f5f\"},\"baxis\":{\"endlinecolor\":\"#2a3f5f\",\"gridcolor\":\"white\",\"linecolor\":\"white\",\"minorgridcolor\":\"white\",\"startlinecolor\":\"#2a3f5f\"},\"type\":\"carpet\"}],\"choropleth\":[{\"colorbar\":{\"outlinewidth\":0,\"ticks\":\"\"},\"type\":\"choropleth\"}],\"contourcarpet\":[{\"colorbar\":{\"outlinewidth\":0,\"ticks\":\"\"},\"type\":\"contourcarpet\"}],\"contour\":[{\"colorbar\":{\"outlinewidth\":0,\"ticks\":\"\"},\"colorscale\":[[0.0,\"#0d0887\"],[0.1111111111111111,\"#46039f\"],[0.2222222222222222,\"#7201a8\"],[0.3333333333333333,\"#9c179e\"],[0.4444444444444444,\"#bd3786\"],[0.5555555555555556,\"#d8576b\"],[0.6666666666666666,\"#ed7953\"],[0.7777777777777778,\"#fb9f3a\"],[0.8888888888888888,\"#fdca26\"],[1.0,\"#f0f921\"]],\"type\":\"contour\"}],\"heatmapgl\":[{\"colorbar\":{\"outlinewidth\":0,\"ticks\":\"\"},\"colorscale\":[[0.0,\"#0d0887\"],[0.1111111111111111,\"#46039f\"],[0.2222222222222222,\"#7201a8\"],[0.3333333333333333,\"#9c179e\"],[0.4444444444444444,\"#bd3786\"],[0.5555555555555556,\"#d8576b\"],[0.6666666666666666,\"#ed7953\"],[0.7777777777777778,\"#fb9f3a\"],[0.8888888888888888,\"#fdca26\"],[1.0,\"#f0f921\"]],\"type\":\"heatmapgl\"}],\"heatmap\":[{\"colorbar\":{\"outlinewidth\":0,\"ticks\":\"\"},\"colorscale\":[[0.0,\"#0d0887\"],[0.1111111111111111,\"#46039f\"],[0.2222222222222222,\"#7201a8\"],[0.3333333333333333,\"#9c179e\"],[0.4444444444444444,\"#bd3786\"],[0.5555555555555556,\"#d8576b\"],[0.6666666666666666,\"#ed7953\"],[0.7777777777777778,\"#fb9f3a\"],[0.8888888888888888,\"#fdca26\"],[1.0,\"#f0f921\"]],\"type\":\"heatmap\"}],\"histogram2dcontour\":[{\"colorbar\":{\"outlinewidth\":0,\"ticks\":\"\"},\"colorscale\":[[0.0,\"#0d0887\"],[0.1111111111111111,\"#46039f\"],[0.2222222222222222,\"#7201a8\"],[0.3333333333333333,\"#9c179e\"],[0.4444444444444444,\"#bd3786\"],[0.5555555555555556,\"#d8576b\"],[0.6666666666666666,\"#ed7953\"],[0.7777777777777778,\"#fb9f3a\"],[0.8888888888888888,\"#fdca26\"],[1.0,\"#f0f921\"]],\"type\":\"histogram2dcontour\"}],\"histogram2d\":[{\"colorbar\":{\"outlinewidth\":0,\"ticks\":\"\"},\"colorscale\":[[0.0,\"#0d0887\"],[0.1111111111111111,\"#46039f\"],[0.2222222222222222,\"#7201a8\"],[0.3333333333333333,\"#9c179e\"],[0.4444444444444444,\"#bd3786\"],[0.5555555555555556,\"#d8576b\"],[0.6666666666666666,\"#ed7953\"],[0.7777777777777778,\"#fb9f3a\"],[0.8888888888888888,\"#fdca26\"],[1.0,\"#f0f921\"]],\"type\":\"histogram2d\"}],\"histogram\":[{\"marker\":{\"pattern\":{\"fillmode\":\"overlay\",\"size\":10,\"solidity\":0.2}},\"type\":\"histogram\"}],\"mesh3d\":[{\"colorbar\":{\"outlinewidth\":0,\"ticks\":\"\"},\"type\":\"mesh3d\"}],\"parcoords\":[{\"line\":{\"colorbar\":{\"outlinewidth\":0,\"ticks\":\"\"}},\"type\":\"parcoords\"}],\"pie\":[{\"automargin\":true,\"type\":\"pie\"}],\"scatter3d\":[{\"line\":{\"colorbar\":{\"outlinewidth\":0,\"ticks\":\"\"}},\"marker\":{\"colorbar\":{\"outlinewidth\":0,\"ticks\":\"\"}},\"type\":\"scatter3d\"}],\"scattercarpet\":[{\"marker\":{\"colorbar\":{\"outlinewidth\":0,\"ticks\":\"\"}},\"type\":\"scattercarpet\"}],\"scattergeo\":[{\"marker\":{\"colorbar\":{\"outlinewidth\":0,\"ticks\":\"\"}},\"type\":\"scattergeo\"}],\"scattergl\":[{\"marker\":{\"colorbar\":{\"outlinewidth\":0,\"ticks\":\"\"}},\"type\":\"scattergl\"}],\"scattermapbox\":[{\"marker\":{\"colorbar\":{\"outlinewidth\":0,\"ticks\":\"\"}},\"type\":\"scattermapbox\"}],\"scatterpolargl\":[{\"marker\":{\"colorbar\":{\"outlinewidth\":0,\"ticks\":\"\"}},\"type\":\"scatterpolargl\"}],\"scatterpolar\":[{\"marker\":{\"colorbar\":{\"outlinewidth\":0,\"ticks\":\"\"}},\"type\":\"scatterpolar\"}],\"scatter\":[{\"fillpattern\":{\"fillmode\":\"overlay\",\"size\":10,\"solidity\":0.2},\"type\":\"scatter\"}],\"scatterternary\":[{\"marker\":{\"colorbar\":{\"outlinewidth\":0,\"ticks\":\"\"}},\"type\":\"scatterternary\"}],\"surface\":[{\"colorbar\":{\"outlinewidth\":0,\"ticks\":\"\"},\"colorscale\":[[0.0,\"#0d0887\"],[0.1111111111111111,\"#46039f\"],[0.2222222222222222,\"#7201a8\"],[0.3333333333333333,\"#9c179e\"],[0.4444444444444444,\"#bd3786\"],[0.5555555555555556,\"#d8576b\"],[0.6666666666666666,\"#ed7953\"],[0.7777777777777778,\"#fb9f3a\"],[0.8888888888888888,\"#fdca26\"],[1.0,\"#f0f921\"]],\"type\":\"surface\"}],\"table\":[{\"cells\":{\"fill\":{\"color\":\"#EBF0F8\"},\"line\":{\"color\":\"white\"}},\"header\":{\"fill\":{\"color\":\"#C8D4E3\"},\"line\":{\"color\":\"white\"}},\"type\":\"table\"}]},\"layout\":{\"annotationdefaults\":{\"arrowcolor\":\"#2a3f5f\",\"arrowhead\":0,\"arrowwidth\":1},\"autotypenumbers\":\"strict\",\"coloraxis\":{\"colorbar\":{\"outlinewidth\":0,\"ticks\":\"\"}},\"colorscale\":{\"diverging\":[[0,\"#8e0152\"],[0.1,\"#c51b7d\"],[0.2,\"#de77ae\"],[0.3,\"#f1b6da\"],[0.4,\"#fde0ef\"],[0.5,\"#f7f7f7\"],[0.6,\"#e6f5d0\"],[0.7,\"#b8e186\"],[0.8,\"#7fbc41\"],[0.9,\"#4d9221\"],[1,\"#276419\"]],\"sequential\":[[0.0,\"#0d0887\"],[0.1111111111111111,\"#46039f\"],[0.2222222222222222,\"#7201a8\"],[0.3333333333333333,\"#9c179e\"],[0.4444444444444444,\"#bd3786\"],[0.5555555555555556,\"#d8576b\"],[0.6666666666666666,\"#ed7953\"],[0.7777777777777778,\"#fb9f3a\"],[0.8888888888888888,\"#fdca26\"],[1.0,\"#f0f921\"]],\"sequentialminus\":[[0.0,\"#0d0887\"],[0.1111111111111111,\"#46039f\"],[0.2222222222222222,\"#7201a8\"],[0.3333333333333333,\"#9c179e\"],[0.4444444444444444,\"#bd3786\"],[0.5555555555555556,\"#d8576b\"],[0.6666666666666666,\"#ed7953\"],[0.7777777777777778,\"#fb9f3a\"],[0.8888888888888888,\"#fdca26\"],[1.0,\"#f0f921\"]]},\"colorway\":[\"#636efa\",\"#EF553B\",\"#00cc96\",\"#ab63fa\",\"#FFA15A\",\"#19d3f3\",\"#FF6692\",\"#B6E880\",\"#FF97FF\",\"#FECB52\"],\"font\":{\"color\":\"#2a3f5f\"},\"geo\":{\"bgcolor\":\"white\",\"lakecolor\":\"white\",\"landcolor\":\"#E5ECF6\",\"showlakes\":true,\"showland\":true,\"subunitcolor\":\"white\"},\"hoverlabel\":{\"align\":\"left\"},\"hovermode\":\"closest\",\"mapbox\":{\"style\":\"light\"},\"paper_bgcolor\":\"white\",\"plot_bgcolor\":\"#E5ECF6\",\"polar\":{\"angularaxis\":{\"gridcolor\":\"white\",\"linecolor\":\"white\",\"ticks\":\"\"},\"bgcolor\":\"#E5ECF6\",\"radialaxis\":{\"gridcolor\":\"white\",\"linecolor\":\"white\",\"ticks\":\"\"}},\"scene\":{\"xaxis\":{\"backgroundcolor\":\"#E5ECF6\",\"gridcolor\":\"white\",\"gridwidth\":2,\"linecolor\":\"white\",\"showbackground\":true,\"ticks\":\"\",\"zerolinecolor\":\"white\"},\"yaxis\":{\"backgroundcolor\":\"#E5ECF6\",\"gridcolor\":\"white\",\"gridwidth\":2,\"linecolor\":\"white\",\"showbackground\":true,\"ticks\":\"\",\"zerolinecolor\":\"white\"},\"zaxis\":{\"backgroundcolor\":\"#E5ECF6\",\"gridcolor\":\"white\",\"gridwidth\":2,\"linecolor\":\"white\",\"showbackground\":true,\"ticks\":\"\",\"zerolinecolor\":\"white\"}},\"shapedefaults\":{\"line\":{\"color\":\"#2a3f5f\"}},\"ternary\":{\"aaxis\":{\"gridcolor\":\"white\",\"linecolor\":\"white\",\"ticks\":\"\"},\"baxis\":{\"gridcolor\":\"white\",\"linecolor\":\"white\",\"ticks\":\"\"},\"bgcolor\":\"#E5ECF6\",\"caxis\":{\"gridcolor\":\"white\",\"linecolor\":\"white\",\"ticks\":\"\"}},\"title\":{\"x\":0.05},\"xaxis\":{\"automargin\":true,\"gridcolor\":\"white\",\"linecolor\":\"white\",\"ticks\":\"\",\"title\":{\"standoff\":15},\"zerolinecolor\":\"white\",\"zerolinewidth\":2},\"yaxis\":{\"automargin\":true,\"gridcolor\":\"white\",\"linecolor\":\"white\",\"ticks\":\"\",\"title\":{\"standoff\":15},\"zerolinecolor\":\"white\",\"zerolinewidth\":2}}},\"title\":{\"font\":{\"color\":\"#4D5663\"},\"text\":\"Topic 1: Top 100 words after removing stop words\"},\"xaxis\":{\"gridcolor\":\"#E1E5ED\",\"linecolor\":\"black\",\"showgrid\":true,\"tickfont\":{\"color\":\"#4D5663\"},\"title\":{\"font\":{\"color\":\"#4D5663\"},\"text\":\"\"},\"zerolinecolor\":\"#E1E5ED\"},\"yaxis\":{\"gridcolor\":\"#E1E5ED\",\"linecolor\":\"black\",\"showgrid\":true,\"tickfont\":{\"color\":\"#4D5663\"},\"title\":{\"font\":{\"color\":\"#4D5663\"},\"text\":\"Count\"},\"zerolinecolor\":\"#E1E5ED\"}},                        {\"showLink\": true, \"linkText\": \"Export to plot.ly\", \"plotlyServerURL\": \"https://plot.ly\", \"responsive\": true}                    ).then(function(){\n",
       "                            \n",
       "var gd = document.getElementById('bcdc5a7e-abcd-4f96-aaaf-bb05ab139f8d');\n",
       "var x = new MutationObserver(function (mutations, observer) {{\n",
       "        var display = window.getComputedStyle(gd).display;\n",
       "        if (!display || display === 'none') {{\n",
       "            console.log([gd, 'removed!']);\n",
       "            Plotly.purge(gd);\n",
       "            observer.disconnect();\n",
       "        }}\n",
       "}});\n",
       "\n",
       "// Listen for the removal of the full notebook cells\n",
       "var notebookContainer = gd.closest('#notebook-container');\n",
       "if (notebookContainer) {{\n",
       "    x.observe(notebookContainer, {childList: true});\n",
       "}}\n",
       "\n",
       "// Listen for the clearing of the current output cell\n",
       "var outputEl = gd.closest('.output');\n",
       "if (outputEl) {{\n",
       "    x.observe(outputEl, {childList: true});\n",
       "}}\n",
       "\n",
       "                        })                };                });            </script>        </div>"
      ]
     },
     "metadata": {},
     "output_type": "display_data"
    }
   ],
   "source": [
    "plot_model(lda, plot = 'frequency', topic_num = 'Topic 1')"
   ]
  },
  {
   "cell_type": "code",
   "execution_count": 25,
   "id": "7bb2e0d1",
   "metadata": {},
   "outputs": [
    {
     "data": {
      "text/html": [
       "        <script type=\"text/javascript\">\n",
       "        window.PlotlyConfig = {MathJaxConfig: 'local'};\n",
       "        if (window.MathJax) {MathJax.Hub.Config({SVG: {font: \"STIX-Web\"}});}\n",
       "        if (typeof require !== 'undefined') {\n",
       "        require.undef(\"plotly\");\n",
       "        requirejs.config({\n",
       "            paths: {\n",
       "                'plotly': ['https://cdn.plot.ly/plotly-2.11.1.min']\n",
       "            }\n",
       "        });\n",
       "        require(['plotly'], function(Plotly) {\n",
       "            window._Plotly = Plotly;\n",
       "        });\n",
       "        }\n",
       "        </script>\n",
       "        "
      ]
     },
     "metadata": {},
     "output_type": "display_data"
    },
    {
     "data": {
      "application/vnd.plotly.v1+json": {
       "config": {
        "plotlyServerURL": "https://plot.ly"
       },
       "data": [
        {
         "alignmentgroup": "True",
         "customdata": [
          [
           "N, A"
          ],
          [
           "N, A"
          ],
          [
           "N, A"
          ],
          [
           "N, A"
          ]
         ],
         "hovertemplate": "Topic=%{x}<br>Documents=%{y}<br>Keyword=%{customdata[0]}<extra></extra>",
         "legendgroup": "",
         "marker": {
          "color": "#636efa",
          "pattern": {
           "shape": ""
          }
         },
         "name": "",
         "offsetgroup": "",
         "orientation": "v",
         "showlegend": false,
         "textposition": "auto",
         "type": "bar",
         "x": [
          "Topic 0",
          "Topic 1",
          "Topic 2",
          "Topic 3"
         ],
         "xaxis": "x",
         "y": [
          917,
          16,
          55,
          12
         ],
         "yaxis": "y"
        }
       ],
       "layout": {
        "barmode": "relative",
        "legend": {
         "tracegroupgap": 0
        },
        "template": {
         "data": {
          "bar": [
           {
            "error_x": {
             "color": "#2a3f5f"
            },
            "error_y": {
             "color": "#2a3f5f"
            },
            "marker": {
             "line": {
              "color": "#E5ECF6",
              "width": 0.5
             },
             "pattern": {
              "fillmode": "overlay",
              "size": 10,
              "solidity": 0.2
             }
            },
            "type": "bar"
           }
          ],
          "barpolar": [
           {
            "marker": {
             "line": {
              "color": "#E5ECF6",
              "width": 0.5
             },
             "pattern": {
              "fillmode": "overlay",
              "size": 10,
              "solidity": 0.2
             }
            },
            "type": "barpolar"
           }
          ],
          "carpet": [
           {
            "aaxis": {
             "endlinecolor": "#2a3f5f",
             "gridcolor": "white",
             "linecolor": "white",
             "minorgridcolor": "white",
             "startlinecolor": "#2a3f5f"
            },
            "baxis": {
             "endlinecolor": "#2a3f5f",
             "gridcolor": "white",
             "linecolor": "white",
             "minorgridcolor": "white",
             "startlinecolor": "#2a3f5f"
            },
            "type": "carpet"
           }
          ],
          "choropleth": [
           {
            "colorbar": {
             "outlinewidth": 0,
             "ticks": ""
            },
            "type": "choropleth"
           }
          ],
          "contour": [
           {
            "colorbar": {
             "outlinewidth": 0,
             "ticks": ""
            },
            "colorscale": [
             [
              0,
              "#0d0887"
             ],
             [
              0.1111111111111111,
              "#46039f"
             ],
             [
              0.2222222222222222,
              "#7201a8"
             ],
             [
              0.3333333333333333,
              "#9c179e"
             ],
             [
              0.4444444444444444,
              "#bd3786"
             ],
             [
              0.5555555555555556,
              "#d8576b"
             ],
             [
              0.6666666666666666,
              "#ed7953"
             ],
             [
              0.7777777777777778,
              "#fb9f3a"
             ],
             [
              0.8888888888888888,
              "#fdca26"
             ],
             [
              1,
              "#f0f921"
             ]
            ],
            "type": "contour"
           }
          ],
          "contourcarpet": [
           {
            "colorbar": {
             "outlinewidth": 0,
             "ticks": ""
            },
            "type": "contourcarpet"
           }
          ],
          "heatmap": [
           {
            "colorbar": {
             "outlinewidth": 0,
             "ticks": ""
            },
            "colorscale": [
             [
              0,
              "#0d0887"
             ],
             [
              0.1111111111111111,
              "#46039f"
             ],
             [
              0.2222222222222222,
              "#7201a8"
             ],
             [
              0.3333333333333333,
              "#9c179e"
             ],
             [
              0.4444444444444444,
              "#bd3786"
             ],
             [
              0.5555555555555556,
              "#d8576b"
             ],
             [
              0.6666666666666666,
              "#ed7953"
             ],
             [
              0.7777777777777778,
              "#fb9f3a"
             ],
             [
              0.8888888888888888,
              "#fdca26"
             ],
             [
              1,
              "#f0f921"
             ]
            ],
            "type": "heatmap"
           }
          ],
          "heatmapgl": [
           {
            "colorbar": {
             "outlinewidth": 0,
             "ticks": ""
            },
            "colorscale": [
             [
              0,
              "#0d0887"
             ],
             [
              0.1111111111111111,
              "#46039f"
             ],
             [
              0.2222222222222222,
              "#7201a8"
             ],
             [
              0.3333333333333333,
              "#9c179e"
             ],
             [
              0.4444444444444444,
              "#bd3786"
             ],
             [
              0.5555555555555556,
              "#d8576b"
             ],
             [
              0.6666666666666666,
              "#ed7953"
             ],
             [
              0.7777777777777778,
              "#fb9f3a"
             ],
             [
              0.8888888888888888,
              "#fdca26"
             ],
             [
              1,
              "#f0f921"
             ]
            ],
            "type": "heatmapgl"
           }
          ],
          "histogram": [
           {
            "marker": {
             "pattern": {
              "fillmode": "overlay",
              "size": 10,
              "solidity": 0.2
             }
            },
            "type": "histogram"
           }
          ],
          "histogram2d": [
           {
            "colorbar": {
             "outlinewidth": 0,
             "ticks": ""
            },
            "colorscale": [
             [
              0,
              "#0d0887"
             ],
             [
              0.1111111111111111,
              "#46039f"
             ],
             [
              0.2222222222222222,
              "#7201a8"
             ],
             [
              0.3333333333333333,
              "#9c179e"
             ],
             [
              0.4444444444444444,
              "#bd3786"
             ],
             [
              0.5555555555555556,
              "#d8576b"
             ],
             [
              0.6666666666666666,
              "#ed7953"
             ],
             [
              0.7777777777777778,
              "#fb9f3a"
             ],
             [
              0.8888888888888888,
              "#fdca26"
             ],
             [
              1,
              "#f0f921"
             ]
            ],
            "type": "histogram2d"
           }
          ],
          "histogram2dcontour": [
           {
            "colorbar": {
             "outlinewidth": 0,
             "ticks": ""
            },
            "colorscale": [
             [
              0,
              "#0d0887"
             ],
             [
              0.1111111111111111,
              "#46039f"
             ],
             [
              0.2222222222222222,
              "#7201a8"
             ],
             [
              0.3333333333333333,
              "#9c179e"
             ],
             [
              0.4444444444444444,
              "#bd3786"
             ],
             [
              0.5555555555555556,
              "#d8576b"
             ],
             [
              0.6666666666666666,
              "#ed7953"
             ],
             [
              0.7777777777777778,
              "#fb9f3a"
             ],
             [
              0.8888888888888888,
              "#fdca26"
             ],
             [
              1,
              "#f0f921"
             ]
            ],
            "type": "histogram2dcontour"
           }
          ],
          "mesh3d": [
           {
            "colorbar": {
             "outlinewidth": 0,
             "ticks": ""
            },
            "type": "mesh3d"
           }
          ],
          "parcoords": [
           {
            "line": {
             "colorbar": {
              "outlinewidth": 0,
              "ticks": ""
             }
            },
            "type": "parcoords"
           }
          ],
          "pie": [
           {
            "automargin": true,
            "type": "pie"
           }
          ],
          "scatter": [
           {
            "fillpattern": {
             "fillmode": "overlay",
             "size": 10,
             "solidity": 0.2
            },
            "type": "scatter"
           }
          ],
          "scatter3d": [
           {
            "line": {
             "colorbar": {
              "outlinewidth": 0,
              "ticks": ""
             }
            },
            "marker": {
             "colorbar": {
              "outlinewidth": 0,
              "ticks": ""
             }
            },
            "type": "scatter3d"
           }
          ],
          "scattercarpet": [
           {
            "marker": {
             "colorbar": {
              "outlinewidth": 0,
              "ticks": ""
             }
            },
            "type": "scattercarpet"
           }
          ],
          "scattergeo": [
           {
            "marker": {
             "colorbar": {
              "outlinewidth": 0,
              "ticks": ""
             }
            },
            "type": "scattergeo"
           }
          ],
          "scattergl": [
           {
            "marker": {
             "colorbar": {
              "outlinewidth": 0,
              "ticks": ""
             }
            },
            "type": "scattergl"
           }
          ],
          "scattermapbox": [
           {
            "marker": {
             "colorbar": {
              "outlinewidth": 0,
              "ticks": ""
             }
            },
            "type": "scattermapbox"
           }
          ],
          "scatterpolar": [
           {
            "marker": {
             "colorbar": {
              "outlinewidth": 0,
              "ticks": ""
             }
            },
            "type": "scatterpolar"
           }
          ],
          "scatterpolargl": [
           {
            "marker": {
             "colorbar": {
              "outlinewidth": 0,
              "ticks": ""
             }
            },
            "type": "scatterpolargl"
           }
          ],
          "scatterternary": [
           {
            "marker": {
             "colorbar": {
              "outlinewidth": 0,
              "ticks": ""
             }
            },
            "type": "scatterternary"
           }
          ],
          "surface": [
           {
            "colorbar": {
             "outlinewidth": 0,
             "ticks": ""
            },
            "colorscale": [
             [
              0,
              "#0d0887"
             ],
             [
              0.1111111111111111,
              "#46039f"
             ],
             [
              0.2222222222222222,
              "#7201a8"
             ],
             [
              0.3333333333333333,
              "#9c179e"
             ],
             [
              0.4444444444444444,
              "#bd3786"
             ],
             [
              0.5555555555555556,
              "#d8576b"
             ],
             [
              0.6666666666666666,
              "#ed7953"
             ],
             [
              0.7777777777777778,
              "#fb9f3a"
             ],
             [
              0.8888888888888888,
              "#fdca26"
             ],
             [
              1,
              "#f0f921"
             ]
            ],
            "type": "surface"
           }
          ],
          "table": [
           {
            "cells": {
             "fill": {
              "color": "#EBF0F8"
             },
             "line": {
              "color": "white"
             }
            },
            "header": {
             "fill": {
              "color": "#C8D4E3"
             },
             "line": {
              "color": "white"
             }
            },
            "type": "table"
           }
          ]
         },
         "layout": {
          "annotationdefaults": {
           "arrowcolor": "#2a3f5f",
           "arrowhead": 0,
           "arrowwidth": 1
          },
          "autotypenumbers": "strict",
          "coloraxis": {
           "colorbar": {
            "outlinewidth": 0,
            "ticks": ""
           }
          },
          "colorscale": {
           "diverging": [
            [
             0,
             "#8e0152"
            ],
            [
             0.1,
             "#c51b7d"
            ],
            [
             0.2,
             "#de77ae"
            ],
            [
             0.3,
             "#f1b6da"
            ],
            [
             0.4,
             "#fde0ef"
            ],
            [
             0.5,
             "#f7f7f7"
            ],
            [
             0.6,
             "#e6f5d0"
            ],
            [
             0.7,
             "#b8e186"
            ],
            [
             0.8,
             "#7fbc41"
            ],
            [
             0.9,
             "#4d9221"
            ],
            [
             1,
             "#276419"
            ]
           ],
           "sequential": [
            [
             0,
             "#0d0887"
            ],
            [
             0.1111111111111111,
             "#46039f"
            ],
            [
             0.2222222222222222,
             "#7201a8"
            ],
            [
             0.3333333333333333,
             "#9c179e"
            ],
            [
             0.4444444444444444,
             "#bd3786"
            ],
            [
             0.5555555555555556,
             "#d8576b"
            ],
            [
             0.6666666666666666,
             "#ed7953"
            ],
            [
             0.7777777777777778,
             "#fb9f3a"
            ],
            [
             0.8888888888888888,
             "#fdca26"
            ],
            [
             1,
             "#f0f921"
            ]
           ],
           "sequentialminus": [
            [
             0,
             "#0d0887"
            ],
            [
             0.1111111111111111,
             "#46039f"
            ],
            [
             0.2222222222222222,
             "#7201a8"
            ],
            [
             0.3333333333333333,
             "#9c179e"
            ],
            [
             0.4444444444444444,
             "#bd3786"
            ],
            [
             0.5555555555555556,
             "#d8576b"
            ],
            [
             0.6666666666666666,
             "#ed7953"
            ],
            [
             0.7777777777777778,
             "#fb9f3a"
            ],
            [
             0.8888888888888888,
             "#fdca26"
            ],
            [
             1,
             "#f0f921"
            ]
           ]
          },
          "colorway": [
           "#636efa",
           "#EF553B",
           "#00cc96",
           "#ab63fa",
           "#FFA15A",
           "#19d3f3",
           "#FF6692",
           "#B6E880",
           "#FF97FF",
           "#FECB52"
          ],
          "font": {
           "color": "#2a3f5f"
          },
          "geo": {
           "bgcolor": "white",
           "lakecolor": "white",
           "landcolor": "#E5ECF6",
           "showlakes": true,
           "showland": true,
           "subunitcolor": "white"
          },
          "hoverlabel": {
           "align": "left"
          },
          "hovermode": "closest",
          "mapbox": {
           "style": "light"
          },
          "paper_bgcolor": "white",
          "plot_bgcolor": "#E5ECF6",
          "polar": {
           "angularaxis": {
            "gridcolor": "white",
            "linecolor": "white",
            "ticks": ""
           },
           "bgcolor": "#E5ECF6",
           "radialaxis": {
            "gridcolor": "white",
            "linecolor": "white",
            "ticks": ""
           }
          },
          "scene": {
           "xaxis": {
            "backgroundcolor": "#E5ECF6",
            "gridcolor": "white",
            "gridwidth": 2,
            "linecolor": "white",
            "showbackground": true,
            "ticks": "",
            "zerolinecolor": "white"
           },
           "yaxis": {
            "backgroundcolor": "#E5ECF6",
            "gridcolor": "white",
            "gridwidth": 2,
            "linecolor": "white",
            "showbackground": true,
            "ticks": "",
            "zerolinecolor": "white"
           },
           "zaxis": {
            "backgroundcolor": "#E5ECF6",
            "gridcolor": "white",
            "gridwidth": 2,
            "linecolor": "white",
            "showbackground": true,
            "ticks": "",
            "zerolinecolor": "white"
           }
          },
          "shapedefaults": {
           "line": {
            "color": "#2a3f5f"
           }
          },
          "ternary": {
           "aaxis": {
            "gridcolor": "white",
            "linecolor": "white",
            "ticks": ""
           },
           "baxis": {
            "gridcolor": "white",
            "linecolor": "white",
            "ticks": ""
           },
           "bgcolor": "#E5ECF6",
           "caxis": {
            "gridcolor": "white",
            "linecolor": "white",
            "ticks": ""
           }
          },
          "title": {
           "x": 0.05
          },
          "xaxis": {
           "automargin": true,
           "gridcolor": "white",
           "linecolor": "white",
           "ticks": "",
           "title": {
            "standoff": 15
           },
           "zerolinecolor": "white",
           "zerolinewidth": 2
          },
          "yaxis": {
           "automargin": true,
           "gridcolor": "white",
           "linecolor": "white",
           "ticks": "",
           "title": {
            "standoff": 15
           },
           "zerolinecolor": "white",
           "zerolinewidth": 2
          }
         }
        },
        "title": {
         "text": "Document Distribution by Topics"
        },
        "xaxis": {
         "anchor": "y",
         "domain": [
          0,
          1
         ],
         "title": {
          "text": "Topic"
         }
        },
        "yaxis": {
         "anchor": "x",
         "domain": [
          0,
          1
         ],
         "title": {
          "text": "Documents"
         }
        }
       }
      },
      "text/html": [
       "<div>                            <div id=\"2e925a18-7f33-4cb5-af26-b71908e3417c\" class=\"plotly-graph-div\" style=\"height:525px; width:100%;\"></div>            <script type=\"text/javascript\">                require([\"plotly\"], function(Plotly) {                    window.PLOTLYENV=window.PLOTLYENV || {};                                    if (document.getElementById(\"2e925a18-7f33-4cb5-af26-b71908e3417c\")) {                    Plotly.newPlot(                        \"2e925a18-7f33-4cb5-af26-b71908e3417c\",                        [{\"alignmentgroup\":\"True\",\"customdata\":[[\"N, A\"],[\"N, A\"],[\"N, A\"],[\"N, A\"]],\"hovertemplate\":\"Topic=%{x}<br>Documents=%{y}<br>Keyword=%{customdata[0]}<extra></extra>\",\"legendgroup\":\"\",\"marker\":{\"color\":\"#636efa\",\"pattern\":{\"shape\":\"\"}},\"name\":\"\",\"offsetgroup\":\"\",\"orientation\":\"v\",\"showlegend\":false,\"textposition\":\"auto\",\"x\":[\"Topic 0\",\"Topic 1\",\"Topic 2\",\"Topic 3\"],\"xaxis\":\"x\",\"y\":[917,16,55,12],\"yaxis\":\"y\",\"type\":\"bar\"}],                        {\"template\":{\"data\":{\"histogram2dcontour\":[{\"type\":\"histogram2dcontour\",\"colorbar\":{\"outlinewidth\":0,\"ticks\":\"\"},\"colorscale\":[[0.0,\"#0d0887\"],[0.1111111111111111,\"#46039f\"],[0.2222222222222222,\"#7201a8\"],[0.3333333333333333,\"#9c179e\"],[0.4444444444444444,\"#bd3786\"],[0.5555555555555556,\"#d8576b\"],[0.6666666666666666,\"#ed7953\"],[0.7777777777777778,\"#fb9f3a\"],[0.8888888888888888,\"#fdca26\"],[1.0,\"#f0f921\"]]}],\"choropleth\":[{\"type\":\"choropleth\",\"colorbar\":{\"outlinewidth\":0,\"ticks\":\"\"}}],\"histogram2d\":[{\"type\":\"histogram2d\",\"colorbar\":{\"outlinewidth\":0,\"ticks\":\"\"},\"colorscale\":[[0.0,\"#0d0887\"],[0.1111111111111111,\"#46039f\"],[0.2222222222222222,\"#7201a8\"],[0.3333333333333333,\"#9c179e\"],[0.4444444444444444,\"#bd3786\"],[0.5555555555555556,\"#d8576b\"],[0.6666666666666666,\"#ed7953\"],[0.7777777777777778,\"#fb9f3a\"],[0.8888888888888888,\"#fdca26\"],[1.0,\"#f0f921\"]]}],\"heatmap\":[{\"type\":\"heatmap\",\"colorbar\":{\"outlinewidth\":0,\"ticks\":\"\"},\"colorscale\":[[0.0,\"#0d0887\"],[0.1111111111111111,\"#46039f\"],[0.2222222222222222,\"#7201a8\"],[0.3333333333333333,\"#9c179e\"],[0.4444444444444444,\"#bd3786\"],[0.5555555555555556,\"#d8576b\"],[0.6666666666666666,\"#ed7953\"],[0.7777777777777778,\"#fb9f3a\"],[0.8888888888888888,\"#fdca26\"],[1.0,\"#f0f921\"]]}],\"heatmapgl\":[{\"type\":\"heatmapgl\",\"colorbar\":{\"outlinewidth\":0,\"ticks\":\"\"},\"colorscale\":[[0.0,\"#0d0887\"],[0.1111111111111111,\"#46039f\"],[0.2222222222222222,\"#7201a8\"],[0.3333333333333333,\"#9c179e\"],[0.4444444444444444,\"#bd3786\"],[0.5555555555555556,\"#d8576b\"],[0.6666666666666666,\"#ed7953\"],[0.7777777777777778,\"#fb9f3a\"],[0.8888888888888888,\"#fdca26\"],[1.0,\"#f0f921\"]]}],\"contourcarpet\":[{\"type\":\"contourcarpet\",\"colorbar\":{\"outlinewidth\":0,\"ticks\":\"\"}}],\"contour\":[{\"type\":\"contour\",\"colorbar\":{\"outlinewidth\":0,\"ticks\":\"\"},\"colorscale\":[[0.0,\"#0d0887\"],[0.1111111111111111,\"#46039f\"],[0.2222222222222222,\"#7201a8\"],[0.3333333333333333,\"#9c179e\"],[0.4444444444444444,\"#bd3786\"],[0.5555555555555556,\"#d8576b\"],[0.6666666666666666,\"#ed7953\"],[0.7777777777777778,\"#fb9f3a\"],[0.8888888888888888,\"#fdca26\"],[1.0,\"#f0f921\"]]}],\"surface\":[{\"type\":\"surface\",\"colorbar\":{\"outlinewidth\":0,\"ticks\":\"\"},\"colorscale\":[[0.0,\"#0d0887\"],[0.1111111111111111,\"#46039f\"],[0.2222222222222222,\"#7201a8\"],[0.3333333333333333,\"#9c179e\"],[0.4444444444444444,\"#bd3786\"],[0.5555555555555556,\"#d8576b\"],[0.6666666666666666,\"#ed7953\"],[0.7777777777777778,\"#fb9f3a\"],[0.8888888888888888,\"#fdca26\"],[1.0,\"#f0f921\"]]}],\"mesh3d\":[{\"type\":\"mesh3d\",\"colorbar\":{\"outlinewidth\":0,\"ticks\":\"\"}}],\"scatter\":[{\"fillpattern\":{\"fillmode\":\"overlay\",\"size\":10,\"solidity\":0.2},\"type\":\"scatter\"}],\"parcoords\":[{\"type\":\"parcoords\",\"line\":{\"colorbar\":{\"outlinewidth\":0,\"ticks\":\"\"}}}],\"scatterpolargl\":[{\"type\":\"scatterpolargl\",\"marker\":{\"colorbar\":{\"outlinewidth\":0,\"ticks\":\"\"}}}],\"bar\":[{\"error_x\":{\"color\":\"#2a3f5f\"},\"error_y\":{\"color\":\"#2a3f5f\"},\"marker\":{\"line\":{\"color\":\"#E5ECF6\",\"width\":0.5},\"pattern\":{\"fillmode\":\"overlay\",\"size\":10,\"solidity\":0.2}},\"type\":\"bar\"}],\"scattergeo\":[{\"type\":\"scattergeo\",\"marker\":{\"colorbar\":{\"outlinewidth\":0,\"ticks\":\"\"}}}],\"scatterpolar\":[{\"type\":\"scatterpolar\",\"marker\":{\"colorbar\":{\"outlinewidth\":0,\"ticks\":\"\"}}}],\"histogram\":[{\"marker\":{\"pattern\":{\"fillmode\":\"overlay\",\"size\":10,\"solidity\":0.2}},\"type\":\"histogram\"}],\"scattergl\":[{\"type\":\"scattergl\",\"marker\":{\"colorbar\":{\"outlinewidth\":0,\"ticks\":\"\"}}}],\"scatter3d\":[{\"type\":\"scatter3d\",\"line\":{\"colorbar\":{\"outlinewidth\":0,\"ticks\":\"\"}},\"marker\":{\"colorbar\":{\"outlinewidth\":0,\"ticks\":\"\"}}}],\"scattermapbox\":[{\"type\":\"scattermapbox\",\"marker\":{\"colorbar\":{\"outlinewidth\":0,\"ticks\":\"\"}}}],\"scatterternary\":[{\"type\":\"scatterternary\",\"marker\":{\"colorbar\":{\"outlinewidth\":0,\"ticks\":\"\"}}}],\"scattercarpet\":[{\"type\":\"scattercarpet\",\"marker\":{\"colorbar\":{\"outlinewidth\":0,\"ticks\":\"\"}}}],\"carpet\":[{\"aaxis\":{\"endlinecolor\":\"#2a3f5f\",\"gridcolor\":\"white\",\"linecolor\":\"white\",\"minorgridcolor\":\"white\",\"startlinecolor\":\"#2a3f5f\"},\"baxis\":{\"endlinecolor\":\"#2a3f5f\",\"gridcolor\":\"white\",\"linecolor\":\"white\",\"minorgridcolor\":\"white\",\"startlinecolor\":\"#2a3f5f\"},\"type\":\"carpet\"}],\"table\":[{\"cells\":{\"fill\":{\"color\":\"#EBF0F8\"},\"line\":{\"color\":\"white\"}},\"header\":{\"fill\":{\"color\":\"#C8D4E3\"},\"line\":{\"color\":\"white\"}},\"type\":\"table\"}],\"barpolar\":[{\"marker\":{\"line\":{\"color\":\"#E5ECF6\",\"width\":0.5},\"pattern\":{\"fillmode\":\"overlay\",\"size\":10,\"solidity\":0.2}},\"type\":\"barpolar\"}],\"pie\":[{\"automargin\":true,\"type\":\"pie\"}]},\"layout\":{\"autotypenumbers\":\"strict\",\"colorway\":[\"#636efa\",\"#EF553B\",\"#00cc96\",\"#ab63fa\",\"#FFA15A\",\"#19d3f3\",\"#FF6692\",\"#B6E880\",\"#FF97FF\",\"#FECB52\"],\"font\":{\"color\":\"#2a3f5f\"},\"hovermode\":\"closest\",\"hoverlabel\":{\"align\":\"left\"},\"paper_bgcolor\":\"white\",\"plot_bgcolor\":\"#E5ECF6\",\"polar\":{\"bgcolor\":\"#E5ECF6\",\"angularaxis\":{\"gridcolor\":\"white\",\"linecolor\":\"white\",\"ticks\":\"\"},\"radialaxis\":{\"gridcolor\":\"white\",\"linecolor\":\"white\",\"ticks\":\"\"}},\"ternary\":{\"bgcolor\":\"#E5ECF6\",\"aaxis\":{\"gridcolor\":\"white\",\"linecolor\":\"white\",\"ticks\":\"\"},\"baxis\":{\"gridcolor\":\"white\",\"linecolor\":\"white\",\"ticks\":\"\"},\"caxis\":{\"gridcolor\":\"white\",\"linecolor\":\"white\",\"ticks\":\"\"}},\"coloraxis\":{\"colorbar\":{\"outlinewidth\":0,\"ticks\":\"\"}},\"colorscale\":{\"sequential\":[[0.0,\"#0d0887\"],[0.1111111111111111,\"#46039f\"],[0.2222222222222222,\"#7201a8\"],[0.3333333333333333,\"#9c179e\"],[0.4444444444444444,\"#bd3786\"],[0.5555555555555556,\"#d8576b\"],[0.6666666666666666,\"#ed7953\"],[0.7777777777777778,\"#fb9f3a\"],[0.8888888888888888,\"#fdca26\"],[1.0,\"#f0f921\"]],\"sequentialminus\":[[0.0,\"#0d0887\"],[0.1111111111111111,\"#46039f\"],[0.2222222222222222,\"#7201a8\"],[0.3333333333333333,\"#9c179e\"],[0.4444444444444444,\"#bd3786\"],[0.5555555555555556,\"#d8576b\"],[0.6666666666666666,\"#ed7953\"],[0.7777777777777778,\"#fb9f3a\"],[0.8888888888888888,\"#fdca26\"],[1.0,\"#f0f921\"]],\"diverging\":[[0,\"#8e0152\"],[0.1,\"#c51b7d\"],[0.2,\"#de77ae\"],[0.3,\"#f1b6da\"],[0.4,\"#fde0ef\"],[0.5,\"#f7f7f7\"],[0.6,\"#e6f5d0\"],[0.7,\"#b8e186\"],[0.8,\"#7fbc41\"],[0.9,\"#4d9221\"],[1,\"#276419\"]]},\"xaxis\":{\"gridcolor\":\"white\",\"linecolor\":\"white\",\"ticks\":\"\",\"title\":{\"standoff\":15},\"zerolinecolor\":\"white\",\"automargin\":true,\"zerolinewidth\":2},\"yaxis\":{\"gridcolor\":\"white\",\"linecolor\":\"white\",\"ticks\":\"\",\"title\":{\"standoff\":15},\"zerolinecolor\":\"white\",\"automargin\":true,\"zerolinewidth\":2},\"scene\":{\"xaxis\":{\"backgroundcolor\":\"#E5ECF6\",\"gridcolor\":\"white\",\"linecolor\":\"white\",\"showbackground\":true,\"ticks\":\"\",\"zerolinecolor\":\"white\",\"gridwidth\":2},\"yaxis\":{\"backgroundcolor\":\"#E5ECF6\",\"gridcolor\":\"white\",\"linecolor\":\"white\",\"showbackground\":true,\"ticks\":\"\",\"zerolinecolor\":\"white\",\"gridwidth\":2},\"zaxis\":{\"backgroundcolor\":\"#E5ECF6\",\"gridcolor\":\"white\",\"linecolor\":\"white\",\"showbackground\":true,\"ticks\":\"\",\"zerolinecolor\":\"white\",\"gridwidth\":2}},\"shapedefaults\":{\"line\":{\"color\":\"#2a3f5f\"}},\"annotationdefaults\":{\"arrowcolor\":\"#2a3f5f\",\"arrowhead\":0,\"arrowwidth\":1},\"geo\":{\"bgcolor\":\"white\",\"landcolor\":\"#E5ECF6\",\"subunitcolor\":\"white\",\"showland\":true,\"showlakes\":true,\"lakecolor\":\"white\"},\"title\":{\"x\":0.05},\"mapbox\":{\"style\":\"light\"}}},\"xaxis\":{\"anchor\":\"y\",\"domain\":[0.0,1.0],\"title\":{\"text\":\"Topic\"}},\"yaxis\":{\"anchor\":\"x\",\"domain\":[0.0,1.0],\"title\":{\"text\":\"Documents\"}},\"legend\":{\"tracegroupgap\":0},\"title\":{\"text\":\"Document Distribution by Topics\"},\"barmode\":\"relative\"},                        {\"responsive\": true}                    ).then(function(){\n",
       "                            \n",
       "var gd = document.getElementById('2e925a18-7f33-4cb5-af26-b71908e3417c');\n",
       "var x = new MutationObserver(function (mutations, observer) {{\n",
       "        var display = window.getComputedStyle(gd).display;\n",
       "        if (!display || display === 'none') {{\n",
       "            console.log([gd, 'removed!']);\n",
       "            Plotly.purge(gd);\n",
       "            observer.disconnect();\n",
       "        }}\n",
       "}});\n",
       "\n",
       "// Listen for the removal of the full notebook cells\n",
       "var notebookContainer = gd.closest('#notebook-container');\n",
       "if (notebookContainer) {{\n",
       "    x.observe(notebookContainer, {childList: true});\n",
       "}}\n",
       "\n",
       "// Listen for the clearing of the current output cell\n",
       "var outputEl = gd.closest('.output');\n",
       "if (outputEl) {{\n",
       "    x.observe(outputEl, {childList: true});\n",
       "}}\n",
       "\n",
       "                        })                };                });            </script>        </div>"
      ]
     },
     "metadata": {},
     "output_type": "display_data"
    }
   ],
   "source": [
    "plot_model(lda, plot = 'topic_distribution')"
   ]
  },
  {
   "cell_type": "code",
   "execution_count": 26,
   "id": "ef375231",
   "metadata": {
    "scrolled": true
   },
   "outputs": [
    {
     "data": {
      "text/html": [
       "        <script type=\"text/javascript\">\n",
       "        window.PlotlyConfig = {MathJaxConfig: 'local'};\n",
       "        if (window.MathJax) {MathJax.Hub.Config({SVG: {font: \"STIX-Web\"}});}\n",
       "        if (typeof require !== 'undefined') {\n",
       "        require.undef(\"plotly\");\n",
       "        requirejs.config({\n",
       "            paths: {\n",
       "                'plotly': ['https://cdn.plot.ly/plotly-2.11.1.min']\n",
       "            }\n",
       "        });\n",
       "        require(['plotly'], function(Plotly) {\n",
       "            window._Plotly = Plotly;\n",
       "        });\n",
       "        }\n",
       "        </script>\n",
       "        "
      ]
     },
     "metadata": {},
     "output_type": "display_data"
    },
    {
     "data": {
      "application/vnd.plotly.v1+json": {
       "config": {
        "plotlyServerURL": "https://plot.ly"
       },
       "data": [
        {
         "hovertemplate": "Dominant_Topic=Topic 0<br>0=%{x}<br>1=%{y}<br>2=%{z}<extra></extra>",
         "legendgroup": "Topic 0",
         "marker": {
          "color": "#636efa",
          "opacity": 0.7,
          "symbol": "circle"
         },
         "mode": "markers",
         "name": "Topic 0",
         "scene": "scene",
         "showlegend": true,
         "type": "scatter3d",
         "x": [
          -1.7794735431671143,
          -6.083308219909668,
          3.243929147720337,
          -4.461660861968994,
          8.507617950439453,
          3.6005892753601074,
          8.656596183776855,
          3.8005049228668213,
          4.536901473999023,
          1.454737663269043,
          -7.990017414093018,
          7.718565464019775,
          5.316295623779297,
          5.038461685180664,
          3.4723711013793945,
          -1.086412787437439,
          -10.7665433883667,
          -11.596658706665039,
          -0.7437067031860352,
          -1.4832783937454224,
          -10.884880065917969,
          -5.141992092132568,
          1.119207739830017,
          7.980067253112793,
          -8.338573455810547,
          11.57825756072998,
          -0.6003289222717285,
          -8.975434303283691,
          1.3382219076156616,
          -10.869938850402832,
          4.853649139404297,
          -4.136368751525879,
          5.608907222747803,
          -1.414812684059143,
          1.6978340148925781,
          -10.201836585998535,
          -6.423355579376221,
          7.0628581047058105,
          -5.746484756469727,
          7.025412559509277,
          2.7247061729431152,
          -7.573096752166748,
          2.932077646255493,
          -6.545670986175537,
          8.121475219726562,
          -5.064422607421875,
          -5.129460334777832,
          4.215167999267578,
          0.7156295776367188,
          -10.488792419433594,
          -11.793755531311035,
          1.8675087690353394,
          2.856083869934082,
          -4.015594959259033,
          -4.956880569458008,
          -0.08744154870510101,
          -0.4956856667995453,
          0.6781023740768433,
          -7.575992107391357,
          -3.2724344730377197,
          3.475187063217163,
          3.0129244327545166,
          4.996832370758057,
          1.6841614246368408,
          -3.345791816711426,
          -6.118722438812256,
          -6.508878707885742,
          -11.794641494750977,
          8.510875701904297,
          5.972702503204346,
          -5.197709560394287,
          -3.3364150524139404,
          6.284299850463867,
          -0.650630533695221,
          -7.273875713348389,
          10.099075317382812,
          7.913675785064697,
          2.560835123062134,
          1.571393370628357,
          2.128829002380371,
          -2.6967339515686035,
          1.526627540588379,
          2.3271141052246094,
          -4.360002517700195,
          -5.848090171813965,
          -7.366275310516357,
          1.981931447982788,
          -1.4871625900268555,
          -4.486416816711426,
          7.817202091217041,
          -11.30870246887207,
          8.107491493225098,
          -7.359992504119873,
          6.138513565063477,
          -8.77114486694336,
          3.9195311069488525,
          5.989505767822266,
          -0.09422800689935684,
          -2.5952470302581787,
          4.412580966949463,
          0.2793292701244354,
          4.680742263793945,
          8.064043045043945,
          0.7543797492980957,
          -3.162679433822632,
          1.4109389781951904,
          2.704420566558838,
          1.1692109107971191,
          -7.353529453277588,
          -0.050944238901138306,
          -1.4186562299728394,
          -3.433633804321289,
          -7.33776330947876,
          -3.1260128021240234,
          -5.687537670135498,
          3.280214309692383,
          10.500565528869629,
          -0.4332555830478668,
          -10.183796882629395,
          -11.373912811279297,
          3.866431951522827,
          1.6790595054626465,
          -7.847263813018799,
          -4.1698079109191895,
          -4.187345504760742,
          -2.3706612586975098,
          -11.070173263549805,
          5.876156806945801,
          -10.73889446258545,
          -1.4016759395599365,
          -1.5288052558898926,
          -2.1671178340911865,
          -5.256991386413574,
          1.8812880516052246,
          5.89249849319458,
          4.120251178741455,
          2.453563928604126,
          4.766879081726074,
          -10.505305290222168,
          6.0578436851501465,
          -5.168734550476074,
          -3.791666269302368,
          -3.212465763092041,
          -0.6001033782958984,
          -6.615009307861328,
          1.1253135204315186,
          10.058181762695312,
          3.097836494445801,
          3.4573137760162354,
          0.48836269974708557,
          1.2922108173370361,
          6.109660625457764,
          2.254685878753662,
          -0.4264296889305115,
          4.339149475097656,
          4.121065139770508,
          -4.402552604675293,
          -8.624459266662598,
          4.559685230255127,
          10.29271125793457,
          -6.66545295715332,
          6.533266067504883,
          -0.9250884056091309,
          3.6115434169769287,
          5.073033809661865,
          6.161652088165283,
          -1.5372995138168335,
          -0.4967350363731384,
          -6.870110988616943,
          -2.522035837173462,
          -9.299372673034668,
          5.062037944793701,
          -7.627071380615234,
          -6.997095584869385,
          -6.772341728210449,
          -3.741445541381836,
          3.4680821895599365,
          -4.715073108673096,
          -3.209705352783203,
          -7.421234607696533,
          6.0977864265441895,
          -3.9335670471191406,
          -3.026301145553589,
          -0.6873579621315002,
          -0.3096409738063812,
          2.7034623622894287,
          4.597354412078857,
          7.482725620269775,
          3.4076406955718994,
          -6.650780200958252,
          4.573859691619873,
          8.286572456359863,
          3.067706823348999,
          -2.828901767730713,
          -1.6225788593292236,
          -2.900430917739868,
          2.3680167198181152,
          9.218827247619629,
          2.8558385372161865,
          -3.317021608352661,
          0.3778182566165924,
          0.5654292702674866,
          4.569309234619141,
          -3.669368028640747,
          1.939835548400879,
          -1.368852972984314,
          -0.15000726282596588,
          1.913472294807434,
          1.8610954284667969,
          0.04007010534405708,
          -0.8834443688392639,
          -7.502586841583252,
          -1.0775325298309326,
          1.4724360704421997,
          -3.5353660583496094,
          1.2617501020431519,
          -1.9636070728302002,
          -5.300666809082031,
          8.062318801879883,
          4.373363494873047,
          8.4016695022583,
          -3.6830077171325684,
          -1.042073130607605,
          7.2334675788879395,
          0.3297036588191986,
          0.6678675413131714,
          -0.6966175436973572,
          -0.25600525736808777,
          6.7664875984191895,
          -6.927112102508545,
          2.622427463531494,
          -2.5131049156188965,
          3.160525321960449,
          -8.37090015411377,
          -6.119805335998535,
          -12.047139167785645,
          -6.279335021972656,
          -3.5084612369537354,
          -9.982358932495117,
          -0.8770714402198792,
          -10.810778617858887,
          -4.972757816314697,
          6.922501564025879,
          2.5087428092956543,
          -12.198190689086914,
          8.826851844787598,
          -12.877396583557129,
          2.0067789554595947,
          -10.75831127166748,
          1.643311858177185,
          6.549984931945801,
          -5.809085369110107,
          2.716341495513916,
          -2.9944074153900146,
          -9.468183517456055,
          -5.082493305206299,
          -11.963101387023926,
          6.920896530151367,
          1.6484724283218384,
          6.393749237060547,
          7.886096477508545,
          -2.2186899185180664,
          -3.0729970932006836,
          -6.932509422302246,
          -0.20843902230262756,
          -9.753645896911621,
          -3.3389153480529785,
          -7.7409868240356445,
          -5.666083335876465,
          4.17975378036499,
          5.903131008148193,
          3.745310068130493,
          -1.0573315620422363,
          2.9799206256866455,
          1.5242353677749634,
          -1.620191216468811,
          -6.085639953613281,
          0.02004195749759674,
          6.491265296936035,
          7.36421537399292,
          -7.022907733917236,
          -2.8405356407165527,
          1.2249032258987427,
          -8.646500587463379,
          -5.90346622467041,
          8.735485076904297,
          -7.353929042816162,
          1.2064738273620605,
          -0.2929671108722687,
          2.746615171432495,
          -4.692588806152344,
          -3.7975776195526123,
          2.9862418174743652,
          -4.459163188934326,
          -3.306610107421875,
          2.9955978393554688,
          2.8709263801574707,
          1.5294831991195679,
          -10.50698184967041,
          2.5894904136657715,
          -1.6966606378555298,
          1.7821587324142456,
          -7.080287933349609,
          -6.8941426277160645,
          -0.4539278447628021,
          9.563413619995117,
          -1.6402413845062256,
          -6.946109294891357,
          -0.9562926888465881,
          -2.631927490234375,
          -5.040806293487549,
          2.5861458778381348,
          -11.001561164855957,
          6.970944881439209,
          5.527695178985596,
          4.849105358123779,
          4.489901065826416,
          -8.29926586151123,
          -0.4862668514251709,
          -10.123212814331055,
          -4.927793502807617,
          3.0594146251678467,
          6.561529159545898,
          -6.69495964050293,
          1.342106819152832,
          7.549234867095947,
          -1.2202430963516235,
          5.35382604598999,
          1.8067705631256104,
          3.266338586807251,
          7.25145959854126,
          7.35479211807251,
          3.6774966716766357,
          4.145664215087891,
          5.4917497634887695,
          2.2278552055358887,
          3.9747745990753174,
          -11.250536918640137,
          -3.8345251083374023,
          4.342646598815918,
          5.170135498046875,
          -4.941780090332031,
          -3.974053144454956,
          4.4610772132873535,
          4.383471488952637,
          -0.7522913217544556,
          2.8682336807250977,
          2.715991735458374,
          -12.970593452453613,
          -1.7617275714874268,
          5.09056282043457,
          7.594664573669434,
          3.057992696762085,
          0.03813408687710762,
          -3.5109505653381348,
          -7.0755181312561035,
          -9.386701583862305,
          -4.267131805419922,
          -5.812082290649414,
          -2.372075080871582,
          5.292240142822266,
          8.585719108581543,
          -1.1302037239074707,
          1.580618143081665,
          -6.308387279510498,
          -0.6055613160133362,
          1.2314460277557373,
          5.921769142150879,
          3.956261157989502,
          -7.149808406829834,
          -12.311290740966797,
          5.330040454864502,
          2.1554105281829834,
          1.8902915716171265,
          -3.9337973594665527,
          6.700017929077148,
          -10.094334602355957,
          4.473167896270752,
          -5.551792621612549,
          3.909097909927368,
          6.948364734649658,
          2.593137264251709,
          3.011455774307251,
          8.66504192352295,
          6.789062023162842,
          -2.2238473892211914,
          6.8597822189331055,
          2.273649215698242,
          4.446966171264648,
          -1.8762388229370117,
          4.429219722747803,
          2.5176565647125244,
          1.9840551614761353,
          4.527497291564941,
          -5.488037586212158,
          3.1735455989837646,
          -3.4063477516174316,
          4.954239845275879,
          0.09577149152755737,
          -0.7868189811706543,
          2.530255079269409,
          -6.919624328613281,
          5.584593772888184,
          -5.657321929931641,
          0.10048570483922958,
          2.4368419647216797,
          -8.086983680725098,
          -0.11680363118648529,
          4.315755367279053,
          3.570563316345215,
          -8.596755981445312,
          2.5510618686676025,
          -7.819244384765625,
          3.5945191383361816,
          -3.999634027481079,
          -3.538405656814575,
          9.168334007263184,
          -4.132285118103027,
          -9.950660705566406,
          5.011600494384766,
          -0.11733909696340561,
          5.776278018951416,
          7.212370872497559,
          3.429142951965332,
          1.4766311645507812,
          1.3165980577468872,
          4.533963203430176,
          6.239345073699951,
          -6.2255659103393555,
          2.930513381958008,
          -8.702357292175293,
          7.901280879974365,
          0.21497219800949097,
          -4.015074729919434,
          -8.208925247192383,
          -7.271538734436035,
          6.599196910858154,
          6.506996154785156,
          7.3659772872924805,
          -5.829480171203613,
          0.8170624375343323,
          -4.219257831573486,
          2.189760446548462,
          -2.4057364463806152,
          7.016989231109619,
          4.578571319580078,
          4.470784664154053,
          3.9537582397460938,
          -4.281857013702393,
          -12.421917915344238,
          8.754959106445312,
          0.46231380105018616,
          -4.360760688781738,
          -0.146683469414711,
          1.7525185346603394,
          3.503596782684326,
          3.2298574447631836,
          -4.891133785247803,
          2.1287612915039062,
          2.1511666774749756,
          6.049439907073975,
          3.3059940338134766,
          5.941122055053711,
          -8.2467679977417,
          2.4293744564056396,
          -8.187255859375,
          -7.237236499786377,
          -6.498767852783203,
          3.655339479446411,
          -3.038989543914795,
          -1.7722468376159668,
          1.7094519138336182,
          2.243499994277954,
          -0.9430690407752991,
          -4.603025913238525,
          1.69999098777771,
          3.263796091079712,
          4.2515082359313965,
          2.2003564834594727,
          -2.578430652618408,
          -1.7233788967132568,
          7.361149787902832,
          1.0372236967086792,
          7.8901591300964355,
          0.6088102459907532,
          8.469895362854004,
          -5.815063953399658,
          7.6426777839660645,
          7.279885768890381,
          1.722564935684204,
          0.8559057116508484,
          5.061574459075928,
          -8.06252384185791,
          1.9032328128814697,
          -5.197567462921143,
          -4.0681915283203125,
          -3.459843158721924,
          -7.573986053466797,
          -0.9602945446968079,
          -1.3782854080200195,
          -5.3034987449646,
          4.282785892486572,
          -6.117442607879639,
          -1.595375418663025,
          -0.07955434918403625,
          2.274301528930664,
          -8.372591018676758,
          -7.320791244506836,
          6.453063011169434,
          -10.634842872619629,
          10.452098846435547,
          -0.7415221929550171,
          2.6265978813171387,
          -6.963964939117432,
          -5.796668529510498,
          -0.30075082182884216,
          -4.724279880523682,
          0.6300866603851318,
          1.0655922889709473,
          1.1433151960372925,
          2.5265209674835205,
          5.596783638000488,
          -8.875616073608398,
          -4.6229071617126465,
          1.81865656375885,
          -7.559968948364258,
          -2.6256532669067383,
          -4.837962627410889,
          -3.733074426651001,
          2.9089739322662354,
          2.068730115890503,
          6.216284275054932,
          -0.7706804275512695,
          -4.981930255889893,
          -3.00352144241333,
          -8.755438804626465,
          9.297074317932129,
          2.829200267791748,
          7.281163692474365,
          -10.618597030639648,
          -2.161409616470337,
          -7.986103057861328,
          7.567059516906738,
          -5.957879066467285,
          -4.493596076965332,
          7.95179557800293,
          0.96183842420578,
          -5.773006439208984,
          -4.930878639221191,
          -5.117068767547607,
          -0.07955802232027054,
          -0.5732821226119995,
          -9.223886489868164,
          2.548840284347534,
          6.104175090789795,
          -0.8124545216560364,
          -4.7145609855651855,
          9.688789367675781,
          0.5536249279975891,
          6.013154983520508,
          6.31337308883667,
          0.7849758863449097,
          -1.179410696029663,
          4.414147853851318,
          -3.7928473949432373,
          7.351348400115967,
          6.104894161224365,
          2.9628746509552,
          -0.3371961712837219,
          -1.8072500228881836,
          -7.078514575958252,
          -5.750758647918701,
          -0.9215467572212219,
          3.160874843597412,
          0.21038918197155,
          2.5561766624450684,
          5.466044902801514,
          5.201028347015381,
          6.6561737060546875,
          7.172482490539551,
          -2.5072262287139893,
          1.8186190128326416,
          3.2556533813476562,
          8.078841209411621,
          2.2480294704437256,
          -8.265303611755371,
          5.577798366546631,
          -4.496203899383545,
          -10.149473190307617,
          0.9615997076034546,
          4.192713260650635,
          -0.8052776455879211,
          2.0843734741210938,
          2.7054505348205566,
          4.7104573249816895,
          -1.2292444705963135,
          -3.4987289905548096,
          7.609886646270752,
          -0.8816170692443848,
          2.6890077590942383,
          0.19782179594039917,
          -1.746383786201477,
          -2.4132821559906006,
          0.51645427942276,
          6.39556884765625,
          2.854121208190918,
          -0.11819908767938614,
          2.8900492191314697,
          -6.8526716232299805,
          9.376410484313965,
          4.672826290130615,
          -9.312090873718262,
          10.48160171508789,
          -8.936175346374512,
          -5.069341659545898,
          -6.018313407897949,
          0.9123765230178833,
          3.115445852279663,
          6.613073348999023,
          4.1870245933532715,
          -4.13368558883667,
          -11.530227661132812,
          -6.914125919342041,
          9.888195991516113,
          5.391792297363281,
          -0.21226292848587036,
          7.202305793762207,
          2.9233477115631104,
          -4.043159008026123,
          -2.4050421714782715,
          4.724502086639404,
          -12.170626640319824,
          -3.785869598388672,
          4.772864818572998,
          3.4431021213531494,
          -8.912074089050293,
          10.697349548339844,
          -2.7768259048461914,
          -10.902440071105957,
          3.6855671405792236,
          -3.9529640674591064,
          -4.087388515472412,
          -11.304788589477539,
          9.296453475952148,
          -7.462409019470215,
          -11.633909225463867,
          3.0715413093566895,
          9.706202507019043,
          -0.07718075066804886,
          -2.944997787475586,
          6.464680194854736,
          4.93552827835083,
          -4.550518989562988,
          2.504000663757324,
          7.608654975891113,
          -8.37037467956543,
          3.6946306228637695,
          -4.808979034423828,
          -8.567397117614746,
          3.1880900859832764,
          2.2841320037841797,
          -1.710055947303772,
          -0.16221582889556885,
          -4.247855186462402,
          2.111691951751709,
          2.941279411315918,
          0.16284213960170746,
          5.325169563293457,
          -2.7216498851776123,
          -9.876906394958496,
          1.63630211353302,
          -8.218473434448242,
          5.80258321762085,
          1.653476357460022,
          3.7091312408447266,
          -9.817967414855957,
          1.4973523616790771,
          -5.641448497772217,
          2.399597406387329,
          -4.029202938079834,
          -1.2710676193237305,
          -5.721683979034424,
          0.5449740886688232,
          -4.331875324249268,
          -0.2792922854423523,
          6.912460803985596,
          7.214360237121582,
          -2.8320064544677734,
          7.2996745109558105,
          -4.303645133972168,
          4.887362480163574,
          -4.455052375793457,
          2.5480456352233887,
          8.374063491821289,
          -0.43816307187080383,
          -3.2197325229644775,
          -8.237605094909668,
          -9.332937240600586,
          -10.97909164428711,
          4.20212984085083,
          3.6486563682556152,
          4.263418197631836,
          2.515512704849243,
          4.6640238761901855,
          6.977773666381836,
          -0.0885157436132431,
          -1.022354245185852,
          -0.975352942943573,
          -5.558810234069824,
          5.8434953689575195,
          4.026193618774414,
          4.810206890106201,
          -4.780783176422119,
          -1.2255805730819702,
          5.455605506896973,
          5.025177955627441,
          -4.531386375427246,
          5.776706218719482,
          3.763756036758423,
          -2.630018472671509,
          -2.5480473041534424,
          -8.938163757324219,
          0.8098496794700623,
          -3.530954599380493,
          5.8184404373168945,
          -2.159419059753418,
          6.0397114753723145,
          2.808196783065796,
          1.0853383541107178,
          -10.716248512268066,
          3.0540552139282227,
          -2.515310764312744,
          -6.863890171051025,
          -6.067666530609131,
          4.9760918617248535,
          -2.2447125911712646,
          1.7310404777526855,
          5.014312267303467,
          5.56138277053833,
          3.1168129444122314,
          -3.5302579402923584,
          -5.345859527587891,
          3.01491117477417,
          -0.6785072684288025,
          3.5455338954925537,
          2.604525327682495,
          0.08243346959352493,
          2.798677921295166,
          -6.14248514175415,
          -0.5799605250358582,
          -2.94362211227417,
          6.277675628662109,
          5.166326522827148,
          2.4723970890045166,
          6.386281490325928,
          -6.2084832191467285,
          -2.414132833480835,
          0.9359928369522095,
          -6.240862846374512,
          5.674854755401611,
          0.7729011178016663,
          6.8638691902160645,
          4.840691566467285,
          3.5479671955108643,
          -7.094428539276123,
          3.0976102352142334,
          3.362387180328369,
          0.6898864507675171,
          -1.883043885231018,
          -8.14096736907959,
          6.1922173500061035,
          -7.158260345458984,
          2.2377190589904785,
          -2.9834036827087402,
          -0.46052616834640503,
          2.4927053451538086,
          2.5202670097351074,
          8.398216247558594,
          2.4226598739624023,
          -12.850573539733887,
          3.1821577548980713,
          -12.86345100402832,
          -5.476116180419922,
          -1.1480921506881714,
          0.7490521669387817,
          -8.203774452209473,
          2.6671841144561768,
          -4.891133785247803,
          -8.231270790100098,
          -4.205307483673096,
          -7.615574836730957,
          -10.697884559631348,
          8.902748107910156,
          5.916101455688477,
          -5.48859977722168,
          -6.964343547821045,
          -8.337068557739258,
          -4.912374973297119,
          -5.544300556182861,
          8.487975120544434,
          3.917459726333618,
          3.8735177516937256,
          7.97125768661499,
          -5.457516670227051,
          3.2192306518554688,
          4.980952739715576,
          -4.387372970581055,
          3.7460973262786865,
          -4.561660289764404,
          0.8818753361701965,
          -1.6601589918136597,
          8.726163864135742,
          -7.830698490142822,
          -0.8222806453704834,
          -8.72968578338623,
          2.995858669281006,
          -7.274816036224365,
          2.2327606678009033,
          -2.942239284515381,
          -7.285144329071045,
          5.268655776977539,
          5.522973537445068,
          1.1210728883743286,
          4.891837120056152,
          -0.3876255750656128,
          -6.086062908172607,
          3.686291217803955,
          -11.40101432800293,
          0.7324972748756409,
          -7.881298542022705,
          4.000479698181152,
          1.5495718717575073,
          -8.231821060180664,
          0.41320717334747314,
          -0.6837286949157715,
          6.984265327453613,
          -6.386075496673584,
          4.7755656242370605,
          -3.073753833770752,
          -0.3313840925693512,
          -7.731457233428955,
          -6.0320353507995605,
          1.6362826824188232,
          -4.479619979858398,
          7.442030906677246,
          -6.273223400115967,
          0.1682746857404709,
          0.9018368124961853,
          7.71302604675293,
          4.6141676902771,
          8.103799819946289,
          -5.871476173400879,
          1.5358847379684448,
          6.184320449829102,
          -1.2577327489852905,
          -0.4941546320915222,
          9.886914253234863,
          -8.066753387451172,
          8.107263565063477,
          -3.1836345195770264,
          6.24010705947876,
          -8.833797454833984,
          5.329309940338135,
          -1.3720418214797974,
          -4.335499286651611,
          3.8587305545806885,
          4.816906452178955,
          -4.93337345123291,
          0.560012936592102,
          -1.5096533298492432,
          -4.240981578826904,
          -7.010281085968018,
          5.54703950881958,
          7.2204461097717285,
          -6.792441368103027,
          -11.463704109191895,
          -0.9360328912734985,
          3.3155863285064697,
          -1.942916989326477,
          -7.957530975341797,
          -10.89185905456543,
          4.192260265350342,
          -0.6145773530006409,
          -9.807332992553711,
          6.4496636390686035,
          5.754458904266357,
          -6.777207851409912,
          -6.040779113769531,
          -5.030923366546631,
          -5.586493015289307,
          -8.398199081420898,
          -4.116790771484375,
          -5.111871242523193,
          9.755010604858398,
          7.0007829666137695,
          -1.2823721170425415,
          -3.5017476081848145,
          -0.8976504802703857,
          -6.800807952880859,
          -5.23953104019165,
          7.325466632843018,
          7.147662162780762,
          -3.962139368057251,
          -1.3149033784866333,
          -7.5456085205078125,
          -6.5897321701049805,
          3.939554452896118,
          -4.08315372467041,
          -6.595111846923828,
          6.186490535736084,
          -6.19249153137207,
          5.80233907699585,
          4.1086530685424805,
          -4.345068454742432,
          -12.043901443481445,
          -11.6990966796875,
          -9.190208435058594
         ],
         "y": [
          0.7466480731964111,
          -1.393047571182251,
          -3.228384494781494,
          -2.692617893218994,
          -1.8682926893234253,
          -2.7914397716522217,
          -0.7741633057594299,
          4.624967575073242,
          -6.8422465324401855,
          5.491948127746582,
          0.39474552869796753,
          -2.7093591690063477,
          -3.9828615188598633,
          -3.0964882373809814,
          6.2599196434021,
          -5.12095832824707,
          3.3212687969207764,
          4.948427677154541,
          -1.1458934545516968,
          -4.663488388061523,
          3.0988428592681885,
          -2.260519504547119,
          -7.417599678039551,
          -2.0154290199279785,
          1.8396598100662231,
          0.16618509590625763,
          -4.758983612060547,
          1.6862633228302002,
          2.0851805210113525,
          3.3894667625427246,
          -3.519240140914917,
          -2.9563419818878174,
          -5.084847927093506,
          1.3995692729949951,
          -7.06431770324707,
          4.765294075012207,
          -1.0633821487426758,
          -2.3599305152893066,
          0.06118542701005936,
          -1.884997010231018,
          7.729646682739258,
          1.1999353170394897,
          -3.611253023147583,
          3.2552921772003174,
          0.22288960218429565,
          -2.2957465648651123,
          3.7045207023620605,
          -6.7222580909729,
          -6.32999849319458,
          3.4547736644744873,
          3.8782706260681152,
          7.1494574546813965,
          -2.429250717163086,
          -2.909702777862549,
          4.66946268081665,
          -6.687043190002441,
          -4.921854496002197,
          -2.4276299476623535,
          2.256679058074951,
          -0.33091455698013306,
          -7.121165752410889,
          2.0711164474487305,
          -5.844781398773193,
          1.5124114751815796,
          2.0892834663391113,
          1.8289977312088013,
          1.4707140922546387,
          3.9722740650177,
          -2.4534170627593994,
          -0.3039731979370117,
          2.4390366077423096,
          -1.2820316553115845,
          1.4459675550460815,
          -1.9843010902404785,
          -0.32701975107192993,
          -0.9094461798667908,
          -1.3871660232543945,
          0.6186227798461914,
          0.5291629433631897,
          0.046904340386390686,
          -3.6989450454711914,
          -0.178232342004776,
          -3.2588119506835938,
          4.599673748016357,
          -0.651282548904419,
          2.233346462249756,
          3.8928213119506836,
          -2.9326159954071045,
          -2.630998134613037,
          1.7895399332046509,
          5.231739044189453,
          -2.3812503814697266,
          0.3676425516605377,
          0.9648097157478333,
          0.8684386610984802,
          -3.9900808334350586,
          -4.384204387664795,
          -6.678770065307617,
          -2.0178656578063965,
          -1.788687825202942,
          -6.935371398925781,
          -5.531390190124512,
          -2.123358726501465,
          -1.8991516828536987,
          -4.223382949829102,
          -7.257972240447998,
          -7.277101993560791,
          3.9566287994384766,
          0.6464533805847168,
          -1.143031358718872,
          -0.47009292244911194,
          -2.845064640045166,
          -0.2234971970319748,
          1.7858394384384155,
          -1.9202712774276733,
          3.9402828216552734,
          -0.5034223198890686,
          -2.97128963470459,
          3.886230230331421,
          4.256073951721191,
          -2.1438639163970947,
          2.3219118118286133,
          5.421930313110352,
          5.049560546875,
          3.3427109718322754,
          -0.15007594227790833,
          3.5295820236206055,
          -2.3611927032470703,
          5.310044288635254,
          -5.1758294105529785,
          0.5431570410728455,
          -2.7899792194366455,
          4.524415016174316,
          -4.463703155517578,
          -0.7085226774215698,
          5.087442874908447,
          -0.8699271082878113,
          -6.640138149261475,
          3.126230239868164,
          1.7541279792785645,
          -1.985815167427063,
          -2.366042375564575,
          1.6955089569091797,
          -1.1230460405349731,
          -0.9095659852027893,
          -6.990570068359375,
          -1.0587072372436523,
          2.054100275039673,
          -1.9700851440429688,
          -7.126415252685547,
          -7.3982954025268555,
          0.8132280707359314,
          -4.313992500305176,
          -6.039118766784668,
          -6.13164758682251,
          -6.658309459686279,
          3.9355194568634033,
          0.7386234402656555,
          0.48582926392555237,
          -0.730991005897522,
          -0.22300316393375397,
          -3.9488365650177,
          -3.148131847381592,
          2.0988898277282715,
          -6.337646007537842,
          -4.621094226837158,
          -2.0518441200256348,
          -5.055394172668457,
          -0.6904011964797974,
          -3.597073793411255,
          2.802643299102783,
          -5.241361618041992,
          -0.16657264530658722,
          0.12926346063613892,
          1.2252743244171143,
          -1.0611335039138794,
          4.707709789276123,
          4.771796226501465,
          -3.104787588119507,
          1.4165937900543213,
          -3.455631732940674,
          4.677292346954346,
          -4.298760414123535,
          3.279010772705078,
          3.474820375442505,
          -4.1829023361206055,
          2.4943156242370605,
          -2.6486101150512695,
          4.1163835525512695,
          2.5004312992095947,
          -3.8285021781921387,
          -1.927019715309143,
          2.2099599838256836,
          -3.52063250541687,
          -4.539175510406494,
          -0.26649120450019836,
          -3.3410515785217285,
          -1.6118673086166382,
          2.0467631816864014,
          2.1012189388275146,
          4.801808834075928,
          5.056957244873047,
          -6.588084697723389,
          -3.2116496562957764,
          -0.08092321455478668,
          1.9247190952301025,
          -5.514375686645508,
          3.196701765060425,
          -4.486854553222656,
          -6.829131603240967,
          -5.823348522186279,
          0.2631877362728119,
          0.20040273666381836,
          1.04385507106781,
          -0.337489515542984,
          -7.399406909942627,
          -2.624234437942505,
          -1.8207999467849731,
          0.9420485496520996,
          -3.9789328575134277,
          -0.8992717862129211,
          -3.802922487258911,
          -1.0788170099258423,
          -2.982612371444702,
          -6.66269588470459,
          0.48010796308517456,
          2.5548288822174072,
          -6.407498359680176,
          -0.057645998895168304,
          0.0601884163916111,
          -5.022694110870361,
          1.8363932371139526,
          -1.6708385944366455,
          1.7136449813842773,
          0.8948810696601868,
          4.074193000793457,
          1.579346776008606,
          -3.013291835784912,
          4.923454761505127,
          -2.5434727668762207,
          5.0655837059021,
          0.633025586605072,
          -3.1336114406585693,
          1.3650414943695068,
          4.112432956695557,
          -1.3344204425811768,
          4.57514762878418,
          1.3656344413757324,
          3.3394830226898193,
          -1.1188271045684814,
          -3.129470109939575,
          -1.7780674695968628,
          1.599592685699463,
          -3.50262713432312,
          2.87978458404541,
          4.776550769805908,
          3.802973747253418,
          -2.1428568363189697,
          3.5389413833618164,
          -2.8672406673431396,
          -0.11966922879219055,
          2.1092844009399414,
          0.5286895632743835,
          -0.6341677904129028,
          -6.496249198913574,
          2.691486358642578,
          -3.28155255317688,
          5.300233364105225,
          -0.052589237689971924,
          2.3829610347747803,
          -4.367486476898193,
          -2.4816462993621826,
          -1.1327615976333618,
          1.1952435970306396,
          0.3840530216693878,
          1.7052628993988037,
          -1.4837186336517334,
          -6.359981536865234,
          -2.159381151199341,
          -2.0431644916534424,
          5.383707523345947,
          2.364985466003418,
          -7.397088050842285,
          2.6911206245422363,
          -1.3618370294570923,
          -0.962976336479187,
          2.775362014770508,
          3.555110454559326,
          -1.4791061878204346,
          -1.5905449390411377,
          -2.4663937091827393,
          4.21189022064209,
          -3.8611719608306885,
          5.014842987060547,
          2.2728657722473145,
          -2.9469118118286133,
          3.183444023132324,
          3.758836030960083,
          3.2742161750793457,
          4.2517476081848145,
          -1.0678051710128784,
          -4.1383771896362305,
          4.167387008666992,
          1.502804160118103,
          -4.168193817138672,
          -0.709130048751831,
          2.361767530441284,
          -0.37711650133132935,
          3.249846935272217,
          0.2779717445373535,
          -2.2640416622161865,
          -1.4763871431350708,
          5.853087425231934,
          -2.8483188152313232,
          -5.270737648010254,
          -3.957542896270752,
          -4.063663482666016,
          1.5067346096038818,
          -2.1774275302886963,
          4.366512775421143,
          -2.2564117908477783,
          -3.973771095275879,
          -4.645192623138428,
          -0.12060698121786118,
          1.8488452434539795,
          -1.012553095817566,
          -1.2789525985717773,
          2.640394449234009,
          -4.601039409637451,
          -3.0471150875091553,
          -2.824458122253418,
          -2.8166232109069824,
          -3.092911958694458,
          -6.667262077331543,
          -2.943892002105713,
          5.591861724853516,
          -1.6365622282028198,
          3.644833564758301,
          0.1585198938846588,
          1.7851486206054688,
          -5.978888988494873,
          -2.5858025550842285,
          -2.916001796722412,
          -5.397984027862549,
          -5.950976848602295,
          -5.076290607452393,
          -1.9946519136428833,
          -1.1832857131958008,
          4.939699649810791,
          2.3222663402557373,
          -5.465351581573486,
          -1.319748044013977,
          -4.009064674377441,
          -0.740257203578949,
          1.559343695640564,
          3.1915948390960693,
          2.9042274951934814,
          0.05685248225927353,
          -1.4290690422058105,
          -2.6889078617095947,
          1.271669626235962,
          -2.1635687351226807,
          -5.073363780975342,
          0.3273322880268097,
          -1.160687804222107,
          -2.177320957183838,
          -0.04350234195590019,
          -2.4045774936676025,
          4.4504923820495605,
          1.8813011646270752,
          4.3520426750183105,
          0.29231512546539307,
          -6.0902886390686035,
          -7.05672550201416,
          -3.1520745754241943,
          -1.8499153852462769,
          4.1227240562438965,
          -3.9005515575408936,
          -1.9075082540512085,
          5.92860221862793,
          -0.9406134486198425,
          -7.295711994171143,
          -2.440354108810425,
          -0.9971479177474976,
          -2.387300729751587,
          -3.5662248134613037,
          -3.6603598594665527,
          -4.079742431640625,
          -6.878659725189209,
          -1.7443013191223145,
          -6.91359806060791,
          -4.997326850891113,
          1.9597790241241455,
          2.2110040187835693,
          3.6666502952575684,
          -3.851044178009033,
          2.2210185527801514,
          -5.501312732696533,
          4.035411834716797,
          -5.157165050506592,
          3.3226678371429443,
          2.8718390464782715,
          -5.6342058181762695,
          4.436729431152344,
          -6.879406929016113,
          -7.278787612915039,
          1.92489755153656,
          -4.528207778930664,
          -4.477080345153809,
          -6.766607284545898,
          2.969994306564331,
          -7.302135467529297,
          1.8655380010604858,
          5.227504730224609,
          0.9172475934028625,
          -3.9573476314544678,
          -0.8232460021972656,
          -2.834089756011963,
          3.675063371658325,
          1.4220948219299316,
          -1.8303014039993286,
          -4.946104049682617,
          -1.6943671703338623,
          2.352342367172241,
          0.4204119145870209,
          -4.55918550491333,
          1.6901178359985352,
          -4.512775421142578,
          1.5150377750396729,
          -4.1221113204956055,
          2.082427978515625,
          -2.5853688716888428,
          3.88667631149292,
          -0.5050085783004761,
          5.334545612335205,
          1.3432899713516235,
          2.108160972595215,
          0.9616052508354187,
          -3.335144281387329,
          4.015379905700684,
          -0.213713139295578,
          -0.17623275518417358,
          -6.317014694213867,
          -3.9540109634399414,
          1.3552110195159912,
          1.686995506286621,
          -6.888194561004639,
          5.714649200439453,
          -0.09194006770849228,
          4.191904544830322,
          -1.8732308149337769,
          -0.1621776521205902,
          5.049248695373535,
          0.537642776966095,
          1.7665534019470215,
          -6.41432523727417,
          -5.307585716247559,
          2.575889825820923,
          4.421856880187988,
          -4.588791370391846,
          -3.258437395095825,
          4.887782096862793,
          0.6802366971969604,
          0.7073313593864441,
          3.471696615219116,
          1.9548832178115845,
          2.0959110260009766,
          -1.129360556602478,
          -1.9914615154266357,
          -3.7033262252807617,
          1.7564479112625122,
          0.1484929472208023,
          -3.135345458984375,
          -4.524769306182861,
          -2.557812452316284,
          2.8523473739624023,
          -3.1258249282836914,
          -6.99893856048584,
          -6.17117977142334,
          -0.05184151977300644,
          -1.7026240825653076,
          -1.3402302265167236,
          -1.1223491430282593,
          -1.9263805150985718,
          -4.693437099456787,
          -2.142951488494873,
          0.1022009328007698,
          -0.5900041460990906,
          -3.1038990020751953,
          1.0313087701797485,
          0.1564413458108902,
          -1.403642177581787,
          5.379289627075195,
          -7.076268196105957,
          -1.7558941841125488,
          -3.000006675720215,
          0.5847280621528625,
          1.7583974599838257,
          2.8821771144866943,
          -4.754704475402832,
          -2.2163615226745605,
          1.444637656211853,
          0.9719352722167969,
          -5.00671911239624,
          4.132839202880859,
          2.9636993408203125,
          1.819068193435669,
          2.5611917972564697,
          -4.277308940887451,
          3.713247776031494,
          -0.5976116061210632,
          0.39166751503944397,
          -4.1424880027771,
          1.2802655696868896,
          -0.7565571069717407,
          -2.8058931827545166,
          2.802595853805542,
          -7.206699848175049,
          1.4918781518936157,
          -7.415783882141113,
          5.979342937469482,
          1.3745478391647339,
          1.5619585514068604,
          0.5603324770927429,
          3.8649001121520996,
          2.1409807205200195,
          -1.9822959899902344,
          0.3657377362251282,
          -3.0210819244384766,
          -1.8972015380859375,
          6.03345251083374,
          -4.52160120010376,
          0.19056744873523712,
          -2.414783000946045,
          -3.495948553085327,
          3.3984875679016113,
          -1.6198104619979858,
          -1.8262089490890503,
          1.3865960836410522,
          3.2159323692321777,
          -3.7891969680786133,
          0.3924582898616791,
          -2.5358636379241943,
          3.0674145221710205,
          4.469052314758301,
          -2.6439554691314697,
          -7.166447162628174,
          -1.0371484756469727,
          -1.9818000793457031,
          -1.7756946086883545,
          3.9735469818115234,
          -3.212313413619995,
          2.701780080795288,
          -3.466247797012329,
          -4.716980934143066,
          -5.142826080322266,
          4.799900531768799,
          -0.675704836845398,
          -5.114129543304443,
          -4.895152568817139,
          -3.0036768913269043,
          -6.910687446594238,
          -1.0044524669647217,
          -4.455278396606445,
          -3.11006498336792,
          -3.508021593093872,
          -2.561194896697998,
          4.572506427764893,
          -6.264024257659912,
          -4.85473108291626,
          3.1973657608032227,
          -0.9976584315299988,
          3.2276804447174072,
          -2.698495626449585,
          -0.43537357449531555,
          -0.7823898792266846,
          -3.8221046924591064,
          -6.529819965362549,
          -3.537971258163452,
          -3.6678855419158936,
          -3.9280943870544434,
          1.4715162515640259,
          -3.6005866527557373,
          -0.8998284339904785,
          7.506490707397461,
          5.168400764465332,
          0.7222046256065369,
          0.5473544597625732,
          3.682163953781128,
          -6.514065742492676,
          -7.017370223999023,
          1.657942533493042,
          -5.869634628295898,
          -2.891855001449585,
          -4.8290228843688965,
          0.5869910717010498,
          -4.010921478271484,
          -2.51621413230896,
          3.1409027576446533,
          -4.6601033210754395,
          0.4671354591846466,
          -4.436557769775391,
          -0.8738126158714294,
          0.8349140882492065,
          1.4167077541351318,
          -3.2478187084198,
          -6.322531223297119,
          1.806406855583191,
          3.201225757598877,
          -1.677384376525879,
          3.222104787826538,
          2.9687955379486084,
          0.7483773827552795,
          1.6365846395492554,
          3.7640914916992188,
          4.599444389343262,
          -7.376892566680908,
          2.960226058959961,
          1.6408292055130005,
          2.17685604095459,
          -0.057747580111026764,
          3.821383237838745,
          4.6274309158325195,
          -1.406558871269226,
          1.4415854215621948,
          -2.3468217849731445,
          -0.6489235758781433,
          7.522606372833252,
          -2.878919839859009,
          -0.5901877880096436,
          -1.7708609104156494,
          3.9760987758636475,
          4.704936981201172,
          4.00234842300415,
          -7.012137413024902,
          1.60673189163208,
          -0.15620337426662445,
          -4.2429327964782715,
          3.4117040634155273,
          -2.0841116905212402,
          -0.1492975503206253,
          -2.1327013969421387,
          5.341241359710693,
          -1.8219531774520874,
          -0.09441937506198883,
          3.8835527896881104,
          -7.200536251068115,
          -1.2681607007980347,
          3.9301388263702393,
          -0.17299425601959229,
          -4.30652379989624,
          -6.207574844360352,
          -2.556658983230591,
          -1.9323816299438477,
          -0.9757205247879028,
          1.1825268268585205,
          1.7135968208312988,
          -0.5619903802871704,
          2.6441709995269775,
          1.646838665008545,
          -7.332891464233398,
          -4.465229511260986,
          2.3392724990844727,
          -0.830488383769989,
          -6.178117275238037,
          2.3854050636291504,
          -6.924818515777588,
          -5.322835922241211,
          -3.0053787231445312,
          3.1893842220306396,
          2.575678825378418,
          0.6739445924758911,
          0.3246670365333557,
          -7.3712873458862305,
          -4.003050327301025,
          3.163031578063965,
          2.022670269012451,
          0.6180562376976013,
          0.49356094002723694,
          -0.16276925802230835,
          -2.96614146232605,
          -1.5859885215759277,
          -5.3380446434021,
          0.5310155153274536,
          -1.3188565969467163,
          1.3455417156219482,
          -0.9518775343894958,
          -0.9139002561569214,
          -1.1920020580291748,
          0.7130564451217651,
          -2.752760171890259,
          4.843168258666992,
          -3.712113618850708,
          -1.0498837232589722,
          -6.010894298553467,
          2.2922236919403076,
          1.6268138885498047,
          2.7943150997161865,
          5.7631072998046875,
          -7.0147199630737305,
          -7.092072486877441,
          -6.706925392150879,
          -7.307257175445557,
          -6.73262882232666,
          -1.3880939483642578,
          -2.315504789352417,
          -5.184333801269531,
          -1.9917702674865723,
          -2.0729010105133057,
          -5.167245864868164,
          -4.610570430755615,
          3.434527635574341,
          0.08903288841247559,
          -2.3276546001434326,
          1.8186430931091309,
          1.6026099920272827,
          0.4025803208351135,
          -4.9774041175842285,
          5.578946113586426,
          -3.745867967605591,
          -1.0988166332244873,
          2.5647709369659424,
          3.4701015949249268,
          -3.275322198867798,
          -5.171036243438721,
          -2.754399299621582,
          0.2946130037307739,
          7.315894603729248,
          -0.3508627712726593,
          5.24204683303833,
          -7.204145908355713,
          -3.689359188079834,
          2.2532031536102295,
          -0.13004116714000702,
          -3.509918451309204,
          -4.038020133972168,
          1.5923033952713013,
          -4.061459064483643,
          -3.9906609058380127,
          1.6105318069458008,
          4.4542341232299805,
          0.23447716236114502,
          -3.035154104232788,
          3.599229335784912,
          5.984692096710205,
          1.691170334815979,
          -6.865428924560547,
          2.102398157119751,
          1.9531506299972534,
          -2.1108739376068115,
          -3.7852253913879395,
          -0.8641963005065918,
          1.5776619911193848,
          -4.911160469055176,
          -4.9160895347595215,
          3.6810684204101562,
          -2.3485395908355713,
          -7.388190269470215,
          -0.48183587193489075,
          -5.48018217086792,
          -7.019805908203125,
          -2.1539456844329834,
          -6.571310520172119,
          6.286687850952148,
          0.23149949312210083,
          -2.1562252044677734,
          -1.8227955102920532,
          1.3939777612686157,
          -4.326934814453125,
          2.879877805709839,
          -3.182859420776367,
          0.2836040258407593,
          -3.728776693344116,
          1.9184107780456543,
          1.9567017555236816,
          -7.310222148895264,
          -4.653653621673584,
          -0.5904592871665955,
          -2.682699680328369,
          4.376917362213135,
          -1.1170883178710938,
          4.362011909484863,
          0.6679514050483704,
          3.209245443344116,
          0.42771321535110474,
          4.819012641906738,
          -0.5407776832580566,
          2.5758895874023438,
          2.7312824726104736,
          -0.05663171410560608,
          -0.150673046708107,
          3.3803815841674805,
          -2.0050346851348877,
          -4.40949821472168,
          0.36886274814605713,
          3.760469675064087,
          0.4217606484889984,
          2.2872211933135986,
          3.705394744873047,
          -1.989017128944397,
          4.652788162231445,
          4.678140163421631,
          0.789922833442688,
          -1.9190701246261597,
          3.6675305366516113,
          -5.814341068267822,
          4.98139762878418,
          4.599393367767334,
          -2.4870500564575195,
          -7.360592842102051,
          0.4868354797363281,
          -2.0497779846191406,
          0.023053579032421112,
          -2.0712406635284424,
          2.4311580657958984,
          -7.215798377990723,
          0.5409116744995117,
          -5.74302864074707,
          -4.064922332763672,
          -0.3081205189228058,
          -6.096408843994141,
          -5.516440391540527,
          -0.5152255296707153,
          -3.3355259895324707,
          -6.027845859527588,
          -1.4836052656173706,
          -2.9915363788604736,
          4.5517072677612305,
          3.087589979171753,
          0.04286820814013481,
          -7.055180072784424,
          5.234808444976807,
          0.7158865332603455,
          -7.0769476890563965,
          -5.283448219299316,
          -1.148652195930481,
          2.921564817428589,
          -5.068756103515625,
          2.149019479751587,
          3.5865275859832764,
          0.1224629208445549,
          -1.2858607769012451,
          1.1573081016540527,
          -0.10702495276927948,
          -2.5099310874938965,
          1.2373944520950317,
          0.2858625054359436,
          -1.240919828414917,
          0.9253899455070496,
          2.468130111694336,
          0.8401558995246887,
          4.734883785247803,
          -4.4277753829956055,
          -1.0274341106414795,
          -4.911514759063721,
          -0.17046067118644714,
          -1.1059234142303467,
          1.9284265041351318,
          -2.087782621383667,
          -4.228838920593262,
          -1.339253544807434,
          5.506360054016113,
          -4.44625997543335,
          0.5555634498596191,
          -0.18725775182247162,
          4.56654167175293,
          3.191695213317871,
          -0.26200437545776367,
          3.835251569747925,
          -0.7454844117164612,
          -2.680429458618164,
          1.6066863536834717,
          0.6225162744522095,
          -2.488442897796631,
          -0.5696340203285217,
          4.784478187561035,
          -1.5147475004196167,
          -4.032972812652588,
          -4.278177261352539,
          0.36262989044189453,
          3.8856019973754883,
          1.1511861085891724,
          -0.649625837802887,
          2.515512228012085,
          -4.329291343688965,
          0.41303545236587524,
          2.112448215484619,
          1.9764798879623413,
          -2.269315242767334,
          3.9960567951202393,
          0.9036431908607483,
          -0.8216875791549683,
          0.061860207468271255,
          -1.7462342977523804,
          -3.894199848175049,
          -3.1314022541046143,
          -2.425879716873169,
          -3.2664053440093994,
          2.22483491897583,
          -0.3182789981365204,
          -1.1973819732666016,
          -3.7517240047454834,
          -0.26006630063056946,
          -4.835947036743164,
          0.4558102786540985,
          1.1593300104141235,
          6.1843109130859375,
          3.1426494121551514,
          3.385823965072632,
          -0.05807816609740257,
          -1.1203320026397705,
          -5.370251178741455,
          5.798281192779541,
          -0.1121596172451973,
          4.073647975921631,
          3.921943426132202,
          4.693934440612793
         ],
         "z": [
          1.6971052885055542,
          -7.62023401260376,
          7.609348773956299,
          0.07474048435688019,
          -4.017084121704102,
          5.244034290313721,
          7.906167030334473,
          1.891014814376831,
          4.945676803588867,
          -2.251225709915161,
          -7.427865028381348,
          8.370466232299805,
          -2.5033633708953857,
          6.724324703216553,
          0.6042702794075012,
          -5.338474273681641,
          -6.107773303985596,
          -4.179403781890869,
          -5.14962100982666,
          -5.9432172775268555,
          -5.175039291381836,
          -7.509600639343262,
          0.05108925327658653,
          8.771453857421875,
          0.9361701011657715,
          -3.547478199005127,
          -3.574313163757324,
          -7.172043323516846,
          4.155933856964111,
          -6.017690181732178,
          -3.398268222808838,
          0.49823102355003357,
          -0.1909985989332199,
          -5.418258190155029,
          -1.5570964813232422,
          -2.1239302158355713,
          -7.613615036010742,
          0.12671910226345062,
          -0.7084917426109314,
          -2.3158445358276367,
          -0.1339855045080185,
          0.3115915358066559,
          -5.429457664489746,
          -5.293624401092529,
          9.060134887695312,
          -2.75127911567688,
          -0.44156384468078613,
          2.3919825553894043,
          -2.647322416305542,
          -6.48117733001709,
          -1.5642396211624146,
          0.30044567584991455,
          1.8976844549179077,
          -7.220410346984863,
          -4.056416034698486,
          -2.535667896270752,
          -5.8207478523254395,
          -2.716785430908203,
          -8.114559173583984,
          6.212291717529297,
          3.451840400695801,
          3.903988838195801,
          2.2336692810058594,
          5.669264316558838,
          -1.1787885427474976,
          4.913008213043213,
          -4.651789665222168,
          -4.970620632171631,
          -0.5225725173950195,
          6.54434871673584,
          4.387510299682617,
          5.2721171379089355,
          0.30737394094467163,
          5.449318885803223,
          -7.536452293395996,
          -3.96197509765625,
          8.645493507385254,
          4.32312536239624,
          -2.159026622772217,
          4.285796165466309,
          -6.772910118103027,
          -2.0712814331054688,
          -6.668567180633545,
          -4.4886040687561035,
          -0.5175182223320007,
          -6.261290550231934,
          -1.6668369770050049,
          1.211482286453247,
          -7.421771049499512,
          1.057826280593872,
          -4.3030242919921875,
          -2.2023940086364746,
          -0.943666934967041,
          -1.5208408832550049,
          -4.4981279373168945,
          -4.099424839019775,
          7.454475402832031,
          -2.553675889968872,
          5.545901775360107,
          3.294339656829834,
          0.7267128229141235,
          -0.5781266689300537,
          -2.8249590396881104,
          -2.9077279567718506,
          -0.5534738898277283,
          -0.842477560043335,
          2.4140214920043945,
          -3.0973448753356934,
          -0.8571968078613281,
          3.348428726196289,
          2.4681026935577393,
          -0.12345676124095917,
          -3.971707344055176,
          2.682711124420166,
          -7.622832775115967,
          0.7741267085075378,
          -3.637202262878418,
          0.13644038140773773,
          -2.014512538909912,
          -2.393636703491211,
          5.028231143951416,
          1.0036001205444336,
          -4.368732929229736,
          -2.8693923950195312,
          -1.890058994293213,
          6.292294025421143,
          -5.819727897644043,
          6.546668529510498,
          -5.757258892059326,
          2.2730917930603027,
          -5.160699844360352,
          5.2550764083862305,
          -4.5943284034729,
          6.406715393066406,
          2.608633041381836,
          2.410451889038086,
          -3.374783754348755,
          5.2162580490112305,
          -6.323174953460693,
          0.6339050531387329,
          -7.459030628204346,
          2.2627053260803223,
          -1.2383408546447754,
          -4.963708400726318,
          -7.606348514556885,
          0.02145114168524742,
          -3.0355732440948486,
          0.8398154973983765,
          3.3835489749908447,
          -1.211521863937378,
          0.3640980124473572,
          -1.5409917831420898,
          1.0813270807266235,
          -3.7391152381896973,
          5.990325927734375,
          1.416228175163269,
          -2.7973389625549316,
          -4.469393253326416,
          2.2868614196777344,
          -3.7651596069335938,
          -1.7408812046051025,
          3.1417038440704346,
          0.2877134382724762,
          1.4058529138565063,
          5.581901550292969,
          7.180652618408203,
          3.1632139682769775,
          -5.3651533126831055,
          -7.583516597747803,
          2.166649580001831,
          -0.6986740231513977,
          2.178354263305664,
          -5.369404315948486,
          1.383293628692627,
          1.0316087007522583,
          4.8529582023620605,
          0.6459223031997681,
          -3.8599493503570557,
          2.023322343826294,
          -0.4971644878387451,
          -2.457315444946289,
          -4.65913724899292,
          -0.44638481736183167,
          -2.1403777599334717,
          -1.3844189643859863,
          1.86426842212677,
          1.0223073959350586,
          8.536521911621094,
          1.0480461120605469,
          -2.384894371032715,
          8.046076774597168,
          -2.1746933460235596,
          4.2234039306640625,
          1.959484338760376,
          -6.059767246246338,
          -0.2753927409648895,
          -6.5378193855285645,
          -3.2946619987487793,
          3.2955989837646484,
          0.7606906890869141,
          4.118471145629883,
          4.200173854827881,
          2.696918487548828,
          1.0834101438522339,
          4.311809062957764,
          -5.356654644012451,
          -4.77972412109375,
          -1.721301794052124,
          6.471269130706787,
          -2.212070941925049,
          -2.0725433826446533,
          -4.108709812164307,
          -5.193826198577881,
          5.259044170379639,
          4.013892650604248,
          0.2816675007343292,
          1.9760217666625977,
          -7.461543560028076,
          0.6118015050888062,
          7.815045356750488,
          8.337540626525879,
          -0.7031145691871643,
          6.99160099029541,
          8.335007667541504,
          -2.6640498638153076,
          -4.207876205444336,
          -2.9816126823425293,
          -3.1088273525238037,
          1.0710138082504272,
          -0.8126354217529297,
          1.8287426233291626,
          1.4811077117919922,
          -3.5276007652282715,
          0.2749193608760834,
          -4.997500896453857,
          -4.623587608337402,
          4.941859245300293,
          1.4540568590164185,
          -3.590268135070801,
          -5.471680641174316,
          -3.6581339836120605,
          2.1782498359680176,
          -0.8745054006576538,
          -0.13317641615867615,
          -4.379786014556885,
          8.212903022766113,
          -2.8366353511810303,
          -2.0309131145477295,
          -3.1101484298706055,
          -3.2179532051086426,
          -3.03934645652771,
          -7.645859718322754,
          0.26613906025886536,
          -6.914101600646973,
          1.9944556951522827,
          -3.8884143829345703,
          -3.514559745788574,
          7.968677043914795,
          -3.282754898071289,
          -1.4770853519439697,
          8.73525333404541,
          2.0827019214630127,
          4.110422134399414,
          -7.577646255493164,
          -2.9314050674438477,
          -6.4364213943481445,
          -7.066594123840332,
          -4.308536052703857,
          -6.688756465911865,
          3.6840038299560547,
          6.603475570678711,
          6.507956027984619,
          7.044330596923828,
          4.290420055389404,
          5.133143901824951,
          -5.518179416656494,
          -7.637434482574463,
          -1.7353756427764893,
          -2.0070104598999023,
          8.427968978881836,
          -4.756166934967041,
          -1.522948145866394,
          -0.002239688066765666,
          -3.2404870986938477,
          -7.560654163360596,
          9.459224700927734,
          -4.234854221343994,
          -3.1675186157226562,
          3.1275057792663574,
          -3.5704751014709473,
          -0.4264731705188751,
          -5.101846694946289,
          -5.144152641296387,
          -3.6333796977996826,
          2.3836731910705566,
          6.256059646606445,
          0.13492253422737122,
          -1.0246531963348389,
          -3.0843002796173096,
          -0.14149980247020721,
          3.5344486236572266,
          4.889957427978516,
          -4.755051612854004,
          -0.9229104518890381,
          -3.9591987133026123,
          10.107847213745117,
          -2.0484068393707275,
          -3.2060561180114746,
          -2.9033288955688477,
          -0.29798683524131775,
          -7.528881072998047,
          1.1572810411453247,
          -3.7567782402038574,
          -2.974154472351074,
          0.11095035821199417,
          -3.0780367851257324,
          7.773647785186768,
          -0.10458499938249588,
          -3.984309434890747,
          -1.97329580783844,
          -1.064496397972107,
          -5.0992608070373535,
          6.000516414642334,
          -0.8363282084465027,
          2.4526424407958984,
          -1.3604601621627808,
          6.254426956176758,
          0.7280354499816895,
          6.335274696350098,
          2.5166616439819336,
          -2.5135295391082764,
          8.438431739807129,
          3.1440839767456055,
          4.667027473449707,
          5.993431568145752,
          -0.6303356289863586,
          6.730086326599121,
          -5.6303486824035645,
          4.409738540649414,
          -2.7789289951324463,
          5.647336483001709,
          -3.168208122253418,
          -7.290956497192383,
          -0.9975681304931641,
          -0.385272353887558,
          -5.520103931427002,
          7.149754524230957,
          1.3094788789749146,
          -2.4021122455596924,
          -5.463354110717773,
          -0.2852000594139099,
          8.62118911743164,
          -5.045443058013916,
          3.683133125305176,
          0.04281586408615112,
          0.6709688305854797,
          2.045910358428955,
          5.873326778411865,
          -7.556209564208984,
          4.82691764831543,
          -2.4129621982574463,
          -1.8537620306015015,
          -5.4166998863220215,
          -3.9856512546539307,
          -7.614333629608154,
          -4.861171245574951,
          -2.643446207046509,
          6.597127437591553,
          0.2245088517665863,
          -8.467352867126465,
          -2.5718657970428467,
          5.475841045379639,
          4.9568281173706055,
          -1.4637573957443237,
          0.4799264073371887,
          -2.1323442459106445,
          -1.975926399230957,
          7.927210807800293,
          -6.14077615737915,
          1.0413917303085327,
          2.596369504928589,
          2.2793097496032715,
          2.3539328575134277,
          9.393561363220215,
          7.817597389221191,
          2.5107481479644775,
          0.8998941779136658,
          1.2286620140075684,
          4.277057647705078,
          5.471670627593994,
          4.823976993560791,
          1.705289363861084,
          4.042006492614746,
          1.191949486732483,
          -0.3996244966983795,
          -5.1817402839660645,
          -1.5097249746322632,
          -0.5044272541999817,
          -4.430572986602783,
          -4.734338760375977,
          1.2304391860961914,
          -2.3495209217071533,
          6.260680675506592,
          -4.548274040222168,
          -2.072930097579956,
          2.274080276489258,
          -6.7400431632995605,
          -1.985597848892212,
          -2.85074782371521,
          4.561999797821045,
          2.314575672149658,
          2.2271742820739746,
          2.4225735664367676,
          0.4545086920261383,
          -0.4736517369747162,
          -0.714701235294342,
          9.799095153808594,
          -7.333878517150879,
          -1.6251544952392578,
          -2.398113250732422,
          2.698880195617676,
          2.3402042388916016,
          8.281824111938477,
          1.7670902013778687,
          5.2693328857421875,
          4.694004535675049,
          1.9374572038650513,
          7.237763404846191,
          4.86671781539917,
          -4.687058448791504,
          -7.179166316986084,
          3.4307966232299805,
          -4.061214447021484,
          -0.6086632013320923,
          -4.403100967407227,
          -8.227398872375488,
          0.1751401573419571,
          -1.4026681184768677,
          0.8040338158607483,
          -4.740476131439209,
          -3.2645556926727295,
          -3.0656275749206543,
          4.612401962280273,
          2.0819551944732666,
          -1.063186526298523,
          1.1118049621582031,
          4.870798587799072,
          1.1351165771484375,
          5.6845622062683105,
          -3.92360782623291,
          -3.09537935256958,
          -3.7364137172698975,
          -3.002309560775757,
          -4.423786640167236,
          4.640965938568115,
          2.8440604209899902,
          2.815540075302124,
          4.295473575592041,
          4.313889026641846,
          6.514551639556885,
          -3.3453617095947266,
          0.1820753514766693,
          -1.7207609415054321,
          -7.373989582061768,
          0.6974613070487976,
          -7.892857074737549,
          -8.467479705810547,
          -6.867151737213135,
          5.809004306793213,
          1.321988582611084,
          -5.51380729675293,
          -1.7395868301391602,
          -6.80361270904541,
          -5.104548454284668,
          -7.446783065795898,
          -2.169684410095215,
          5.296631336212158,
          4.596527576446533,
          4.85758113861084,
          -0.2539396286010742,
          2.9195823669433594,
          8.291955947875977,
          -2.7830045223236084,
          9.112739562988281,
          -1.6150920391082764,
          -2.25441837310791,
          -0.4727921783924103,
          8.64465618133545,
          8.219207763671875,
          -2.193241834640503,
          -3.22664475440979,
          3.2830564975738525,
          -4.5005011558532715,
          2.8428637981414795,
          -7.828843593597412,
          0.5862438678741455,
          6.721134185791016,
          2.698347806930542,
          -2.2498130798339844,
          -5.8602986335754395,
          -7.573305606842041,
          1.6698997020721436,
          -4.744200229644775,
          2.180060386657715,
          -4.685253620147705,
          -1.0180386304855347,
          0.7121317386627197,
          -6.008267879486084,
          0.17085513472557068,
          -5.510671615600586,
          -3.4398553371429443,
          -4.930179595947266,
          -4.572976589202881,
          0.6777282357215881,
          -8.282272338867188,
          -4.135596752166748,
          4.101443290710449,
          -0.911935031414032,
          2.217787265777588,
          0.09671647101640701,
          -0.02923763357102871,
          1.4014085531234741,
          -7.21047830581665,
          4.648280620574951,
          -2.017725944519043,
          -4.104432582855225,
          5.5314459800720215,
          5.156715393066406,
          1.3851016759872437,
          -3.7523562908172607,
          -0.5404531955718994,
          7.26910924911499,
          -4.983790874481201,
          -2.9887096881866455,
          -6.918360710144043,
          2.4490983486175537,
          -3.300903081893921,
          1.6985986232757568,
          -0.6993036866188049,
          -6.2314372062683105,
          -6.4643964767456055,
          -7.428544521331787,
          8.596736907958984,
          -0.7895560264587402,
          -4.865118503570557,
          3.577650785446167,
          -0.2378903180360794,
          1.206779956817627,
          -2.877199649810791,
          -3.011584997177124,
          -4.645745754241943,
          -0.12943848967552185,
          1.9441033601760864,
          -6.227543830871582,
          7.0857768058776855,
          -4.6310906410217285,
          -3.865370988845825,
          10.205513954162598,
          -1.5736167430877686,
          6.931020259857178,
          -2.018203020095825,
          -2.089729070663452,
          7.302613258361816,
          -2.7765262126922607,
          -6.9317498207092285,
          0.9657490849494934,
          6.862826347351074,
          3.759229898452759,
          -3.370349645614624,
          1.9807806015014648,
          0.879237711429596,
          1.0157783031463623,
          -2.957064151763916,
          5.895907402038574,
          3.898566722869873,
          -3.2228612899780273,
          -2.5935566425323486,
          4.297165870666504,
          0.1594107300043106,
          1.5349787473678589,
          1.9483857154846191,
          5.409512042999268,
          2.5221033096313477,
          8.682267189025879,
          -1.0871115922927856,
          -4.453028202056885,
          5.907088756561279,
          5.59709358215332,
          -1.941889762878418,
          -0.3030884861946106,
          4.515721321105957,
          -4.919754981994629,
          5.211513519287109,
          1.7105647325515747,
          7.192720890045166,
          -5.250166893005371,
          -0.7497785091400146,
          -2.765395402908325,
          -2.758162498474121,
          -4.374023914337158,
          -4.087295055389404,
          -6.1496429443359375,
          4.442233562469482,
          -3.66247820854187,
          0.4214897155761719,
          5.730467319488525,
          -1.8353514671325684,
          3.7999444007873535,
          1.145663857460022,
          -2.1847116947174072,
          0.8030267953872681,
          -6.32187032699585,
          -3.2446677684783936,
          -7.187385559082031,
          -0.5755923390388489,
          -4.486353874206543,
          -0.3396223187446594,
          0.6147225499153137,
          1.3845672607421875,
          3.848187208175659,
          5.952159404754639,
          -5.287051200866699,
          -4.188467979431152,
          -3.398711681365967,
          5.517007827758789,
          5.1935882568359375,
          2.093046188354492,
          0.07879813760519028,
          -7.310579776763916,
          6.838296890258789,
          3.526658058166504,
          -3.9270384311676025,
          -4.847501754760742,
          0.5072001218795776,
          3.3889665603637695,
          -7.1975932121276855,
          -3.461562395095825,
          0.5885918736457825,
          -5.988310813903809,
          3.386920213699341,
          3.9196815490722656,
          2.2214016914367676,
          -4.130893707275391,
          -1.1464799642562866,
          -7.476415157318115,
          -5.162300109863281,
          2.8816704750061035,
          -3.619767189025879,
          -4.158143997192383,
          4.312175750732422,
          0.21310746669769287,
          2.1954457759857178,
          0.2543570101261139,
          1.085334062576294,
          7.843174934387207,
          -7.462926864624023,
          1.2867846488952637,
          -0.003002822631970048,
          -3.396362066268921,
          3.94258713722229,
          1.8792893886566162,
          -6.12387752532959,
          -4.366053104400635,
          1.854240894317627,
          4.795375823974609,
          0.5107483863830566,
          -1.9301214218139648,
          -0.2484460473060608,
          -6.862051963806152,
          -6.162048816680908,
          -0.28378555178642273,
          -7.379773139953613,
          6.2617082595825195,
          0.9529520273208618,
          -4.32761812210083,
          -6.189936637878418,
          3.9377079010009766,
          4.528466701507568,
          4.504184722900391,
          5.957381725311279,
          0.42129969596862793,
          -3.152588367462158,
          -1.3216081857681274,
          1.4063642024993896,
          3.24585223197937,
          1.2582786083221436,
          8.206405639648438,
          3.9480395317077637,
          -1.2437636852264404,
          1.8926671743392944,
          6.21859073638916,
          -3.6003007888793945,
          1.5676376819610596,
          9.195549964904785,
          -3.765413522720337,
          2.1933345794677734,
          0.3665311932563782,
          1.98296320438385,
          -3.756704807281494,
          4.528911590576172,
          3.6807055473327637,
          2.4726498126983643,
          2.1818318367004395,
          5.087548732757568,
          7.697995662689209,
          5.306053638458252,
          -5.231417179107666,
          -5.475912570953369,
          -7.546501159667969,
          1.076215386390686,
          2.6365888118743896,
          3.803288459777832,
          -0.6780999898910522,
          0.14466127753257751,
          3.6088006496429443,
          -2.8233344554901123,
          1.7494653463363647,
          2.193480968475342,
          0.7789214253425598,
          -6.737188816070557,
          4.542454719543457,
          2.0807297229766846,
          -3.5586025714874268,
          1.241381049156189,
          0.9767410755157471,
          2.2409703731536865,
          1.9873220920562744,
          -0.2947025001049042,
          -2.853557825088501,
          -5.833545684814453,
          2.857861280441284,
          -6.73396635055542,
          -2.4195518493652344,
          -0.5471808910369873,
          -3.7580811977386475,
          -6.501016139984131,
          5.771191596984863,
          7.844696044921875,
          -2.1531825065612793,
          1.0608536005020142,
          -5.099689960479736,
          4.338174343109131,
          6.916338920593262,
          -0.9119559526443481,
          0.32170864939689636,
          3.996648073196411,
          -2.1136510372161865,
          0.31552377343177795,
          3.4956252574920654,
          -5.341353893280029,
          -6.287683963775635,
          7.051270484924316,
          -2.951047420501709,
          0.9825434684753418,
          5.213200569152832,
          -5.066662788391113,
          5.4383344650268555,
          -0.29243239760398865,
          -0.7528709769248962,
          6.39641809463501,
          0.07869123667478561,
          7.909438133239746,
          5.305704116821289,
          0.3820945620536804,
          -0.40955111384391785,
          2.660926103591919,
          6.834251880645752,
          1.9444180727005005,
          -6.2481865882873535,
          0.02510703168809414,
          -3.1847891807556152,
          -0.6498645544052124,
          1.0331228971481323,
          2.5441102981567383,
          -3.932260513305664,
          2.153672933578491,
          1.3327407836914062,
          7.708037853240967,
          1.1439883708953857,
          -3.109853744506836,
          2.053797960281372,
          -3.2871367931365967,
          1.9819235801696777,
          -2.787597894668579,
          -3.55224871635437,
          -4.604970455169678,
          1.0463422536849976,
          4.295473575592041,
          -6.264288902282715,
          3.956865072250366,
          -4.747225284576416,
          -5.332125663757324,
          -1.7201491594314575,
          7.444936752319336,
          4.394795894622803,
          -5.061431407928467,
          -4.662460803985596,
          4.420360565185547,
          -0.25446048378944397,
          8.100972175598145,
          2.928406000137329,
          1.985173225402832,
          0.7113115787506104,
          -4.604215145111084,
          1.083583950996399,
          5.344265460968018,
          -3.546523094177246,
          0.29667970538139343,
          0.5562787652015686,
          -0.4023199677467346,
          1.9073926210403442,
          -2.024541139602661,
          -4.612822532653809,
          -5.653807640075684,
          2.17341947555542,
          2.7813968658447266,
          -6.907741069793701,
          4.592921733856201,
          -5.448914527893066,
          -7.491005897521973,
          5.832772731781006,
          6.1378278732299805,
          -3.145313024520874,
          -3.4742674827575684,
          -3.579721450805664,
          -7.637902736663818,
          3.195894241333008,
          -4.868913173675537,
          -3.5822389125823975,
          -4.701844692230225,
          4.235235214233398,
          -2.270261287689209,
          -7.357922077178955,
          -1.3717155456542969,
          -2.075000286102295,
          2.5233967304229736,
          1.8035417795181274,
          5.049973011016846,
          1.7060205936431885,
          -1.0285969972610474,
          -7.471042633056641,
          -3.3746299743652344,
          2.0584492683410645,
          5.283295631408691,
          8.496708869934082,
          -5.143141269683838,
          -4.130331039428711,
          -2.97682785987854,
          0.8706737756729126,
          4.107664108276367,
          0.5669973492622375,
          -4.473068714141846,
          4.623007774353027,
          2.7175283432006836,
          -5.660823822021484,
          -4.8135223388671875,
          -3.7731306552886963,
          2.0799055099487305,
          -3.8043346405029297,
          -0.6153476238250732,
          2.8945741653442383,
          -4.257209777832031,
          7.477909088134766,
          -5.147067070007324,
          -2.7883193492889404,
          2.897676944732666,
          4.412468433380127,
          -1.2433470487594604,
          -3.8785400390625,
          2.597649574279785,
          -7.388679027557373,
          -4.190793514251709,
          5.8472185134887695,
          0.36046043038368225,
          -3.2860774993896484,
          -4.699636936187744,
          5.905972957611084,
          -4.726663589477539,
          -6.291667461395264,
          -7.433236122131348,
          -5.21065092086792,
          2.127516984939575,
          3.6766576766967773,
          -6.750802516937256,
          4.084654331207275,
          6.258326053619385,
          -1.72146475315094,
          3.128159999847412,
          -7.522368431091309,
          -0.69367915391922,
          -7.339019298553467,
          -0.5113216638565063,
          4.106008529663086,
          -3.282181978225708,
          0.950742781162262,
          0.4474531412124634,
          2.6996278762817383,
          -0.0005525335436686873,
          -1.9788668155670166,
          -0.8648889064788818,
          8.365706443786621,
          1.217037320137024,
          5.927770137786865,
          -5.763465881347656,
          -1.0772403478622437,
          1.3223248720169067,
          1.2023366689682007,
          -1.6569867134094238,
          0.3554230332374573,
          6.944273471832275,
          -3.267388343811035,
          6.338772773742676,
          1.647363305091858,
          1.4885656833648682,
          -4.6316986083984375,
          -5.085294246673584,
          -4.0888991355896
         ]
        },
        {
         "hovertemplate": "Dominant_Topic=Topic 1<br>0=%{x}<br>1=%{y}<br>2=%{z}<extra></extra>",
         "legendgroup": "Topic 1",
         "marker": {
          "color": "#EF553B",
          "opacity": 0.7,
          "symbol": "circle"
         },
         "mode": "markers",
         "name": "Topic 1",
         "scene": "scene",
         "showlegend": true,
         "type": "scatter3d",
         "x": [
          -6.820721626281738,
          -3.019883394241333,
          -3.648404598236084,
          -5.265652656555176,
          -2.655237913131714,
          -3.300791025161743,
          -3.300790786743164,
          -3.3839681148529053,
          -3.2464563846588135,
          -6.2370500564575195,
          1.1050400733947754,
          -3.300790786743164,
          -2.950890064239502,
          -7.123577117919922,
          -7.132740497589111,
          -2.8219287395477295
         ],
         "y": [
          2.2485973834991455,
          6.386808395385742,
          0.47172829508781433,
          2.589876413345337,
          6.596078395843506,
          6.238232135772705,
          6.238232135772705,
          0.9045679569244385,
          6.2674479484558105,
          2.910167694091797,
          7.502866744995117,
          6.238231658935547,
          6.424428462982178,
          2.3710622787475586,
          2.373250722885132,
          6.486010551452637
         ],
         "z": [
          5.060862064361572,
          5.283490180969238,
          6.7769317626953125,
          5.194591045379639,
          5.166041374206543,
          5.377896308898926,
          5.377895355224609,
          6.838958263397217,
          5.3597941398620605,
          5.12253999710083,
          3.633848190307617,
          5.377895832061768,
          5.260788440704346,
          5.152715682983398,
          5.223782062530518,
          5.215636730194092
         ]
        },
        {
         "hovertemplate": "Dominant_Topic=Topic 2<br>0=%{x}<br>1=%{y}<br>2=%{z}<extra></extra>",
         "legendgroup": "Topic 2",
         "marker": {
          "color": "#00cc96",
          "opacity": 0.7,
          "symbol": "circle"
         },
         "mode": "markers",
         "name": "Topic 2",
         "scene": "scene",
         "showlegend": true,
         "type": "scatter3d",
         "x": [
          4.354400157928467,
          1.629591941833496,
          3.0904030799865723,
          0.8692044615745544,
          1.8444575071334839,
          9.689834594726562,
          0.6858221292495728,
          2.3337693214416504,
          0.7067772746086121,
          1.878045678138733,
          7.699422359466553,
          4.073441505432129,
          2.9082884788513184,
          1.9771133661270142,
          3.4485690593719482,
          1.6073977947235107,
          1.2899214029312134,
          0.8338965177536011,
          7.648693561553955,
          0.964767336845398,
          4.209561824798584,
          5.164274215698242,
          1.4873069524765015,
          4.058959007263184,
          3.008657455444336,
          1.9627131223678589,
          1.4025808572769165,
          2.2390692234039307,
          3.0720953941345215,
          4.2318267822265625,
          0.7477536797523499,
          4.931751251220703,
          4.321453094482422,
          4.594929218292236,
          4.352147102355957,
          0.8641268014907837,
          7.706363201141357,
          4.387091159820557,
          1.770948052406311,
          0.8007609844207764,
          4.831471920013428,
          3.781865358352661,
          4.263562202453613,
          4.793264389038086,
          3.7015204429626465,
          4.231672763824463,
          3.3463618755340576,
          4.661896705627441,
          0.7567814588546753,
          3.882934093475342,
          1.6832175254821777,
          1.5676684379577637,
          1.8899976015090942,
          4.692982196807861,
          1.013594388961792
         ],
         "y": [
          6.530003070831299,
          9.523782730102539,
          8.105952262878418,
          10.303791999816895,
          9.267655372619629,
          -0.675410807132721,
          9.003751754760742,
          4.73293399810791,
          9.21428108215332,
          8.984272956848145,
          3.931006908416748,
          7.139753818511963,
          6.9466233253479,
          9.578312873840332,
          7.837157726287842,
          5.23420524597168,
          7.191831588745117,
          10.356983184814453,
          3.708268880844116,
          9.900534629821777,
          7.271336078643799,
          5.128661632537842,
          10.046034812927246,
          6.88585090637207,
          8.608036994934082,
          5.245965480804443,
          9.802234649658203,
          10.175132751464844,
          7.976642608642578,
          7.321456432342529,
          10.497105598449707,
          4.080501079559326,
          7.427818775177002,
          5.514752388000488,
          4.53411340713501,
          9.532581329345703,
          3.742604970932007,
          5.9386115074157715,
          5.083482265472412,
          10.266100883483887,
          3.4708268642425537,
          8.015170097351074,
          7.58441162109375,
          3.397486686706543,
          8.08024787902832,
          7.125338554382324,
          8.358442306518555,
          4.178572654724121,
          10.51810073852539,
          6.819148540496826,
          9.47326946258545,
          5.0624775886535645,
          9.154969215393066,
          4.189120292663574,
          8.87174129486084
         ],
         "z": [
          2.118983507156372,
          3.6855287551879883,
          0.7072381377220154,
          4.373888969421387,
          3.4868104457855225,
          10.20634651184082,
          4.131534576416016,
          4.2489495277404785,
          4.1747260093688965,
          3.3993523120880127,
          1.290516972541809,
          1.7077312469482422,
          1.1432615518569946,
          3.5093917846679688,
          1.1048907041549683,
          4.196747779846191,
          3.5075900554656982,
          4.410608291625977,
          1.2840445041656494,
          4.200381755828857,
          2.0720739364624023,
          1.9441293478012085,
          3.939143419265747,
          1.6078470945358276,
          2.5416555404663086,
          4.2253594398498535,
          3.906018018722534,
          3.5511815547943115,
          0.5614200234413147,
          2.167287588119507,
          4.503046989440918,
          4.383143424987793,
          2.4067821502685547,
          3.296637773513794,
          3.7207701206207275,
          4.16558837890625,
          1.2541730403900146,
          1.7598339319229126,
          4.265830039978027,
          4.405789375305176,
          4.241236209869385,
          2.3100109100341797,
          2.558025360107422,
          4.262599945068359,
          2.009809970855713,
          1.9928476810455322,
          1.9571423530578613,
          3.895191192626953,
          4.504142761230469,
          1.214066743850708,
          3.637484073638916,
          4.308714389801025,
          3.435865640640259,
          3.9511075019836426,
          3.910365343093872
         ]
        },
        {
         "hovertemplate": "Dominant_Topic=Topic 3<br>0=%{x}<br>1=%{y}<br>2=%{z}<extra></extra>",
         "legendgroup": "Topic 3",
         "marker": {
          "color": "#ab63fa",
          "opacity": 0.7,
          "symbol": "circle"
         },
         "mode": "markers",
         "name": "Topic 3",
         "scene": "scene",
         "showlegend": true,
         "type": "scatter3d",
         "x": [
          10.683083534240723,
          10.679938316345215,
          10.680112838745117,
          10.259330749511719,
          10.231474876403809,
          9.62120532989502,
          10.566886901855469,
          10.00512409210205,
          11.21682357788086,
          10.231481552124023,
          10.70777416229248,
          10.231477737426758
         ],
         "y": [
          -0.572762668132782,
          1.4670424461364746,
          1.4623218774795532,
          -0.985101580619812,
          2.585941791534424,
          -1.5340551137924194,
          0.516435444355011,
          -1.1640244722366333,
          -0.027355985715985298,
          2.5859522819519043,
          -0.5852172374725342,
          2.5859386920928955
         ],
         "z": [
          -2.073779344558716,
          -1.0446887016296387,
          -1.0433259010314941,
          -2.28202223777771,
          -1.6627050638198853,
          -1.328462839126587,
          -3.2317707538604736,
          -1.225661277770996,
          -3.3102431297302246,
          -1.662721037864685,
          -1.7123678922653198,
          -1.6627227067947388
         ]
        }
       ],
       "layout": {
        "height": 800,
        "legend": {
         "title": {
          "text": "Dominant_Topic"
         },
         "tracegroupgap": 0
        },
        "scene": {
         "domain": {
          "x": [
           0,
           1
          ],
          "y": [
           0,
           1
          ]
         },
         "xaxis": {
          "title": {
           "text": "0"
          }
         },
         "yaxis": {
          "title": {
           "text": "1"
          }
         },
         "zaxis": {
          "title": {
           "text": "2"
          }
         }
        },
        "template": {
         "data": {
          "bar": [
           {
            "error_x": {
             "color": "#2a3f5f"
            },
            "error_y": {
             "color": "#2a3f5f"
            },
            "marker": {
             "line": {
              "color": "#E5ECF6",
              "width": 0.5
             },
             "pattern": {
              "fillmode": "overlay",
              "size": 10,
              "solidity": 0.2
             }
            },
            "type": "bar"
           }
          ],
          "barpolar": [
           {
            "marker": {
             "line": {
              "color": "#E5ECF6",
              "width": 0.5
             },
             "pattern": {
              "fillmode": "overlay",
              "size": 10,
              "solidity": 0.2
             }
            },
            "type": "barpolar"
           }
          ],
          "carpet": [
           {
            "aaxis": {
             "endlinecolor": "#2a3f5f",
             "gridcolor": "white",
             "linecolor": "white",
             "minorgridcolor": "white",
             "startlinecolor": "#2a3f5f"
            },
            "baxis": {
             "endlinecolor": "#2a3f5f",
             "gridcolor": "white",
             "linecolor": "white",
             "minorgridcolor": "white",
             "startlinecolor": "#2a3f5f"
            },
            "type": "carpet"
           }
          ],
          "choropleth": [
           {
            "colorbar": {
             "outlinewidth": 0,
             "ticks": ""
            },
            "type": "choropleth"
           }
          ],
          "contour": [
           {
            "colorbar": {
             "outlinewidth": 0,
             "ticks": ""
            },
            "colorscale": [
             [
              0,
              "#0d0887"
             ],
             [
              0.1111111111111111,
              "#46039f"
             ],
             [
              0.2222222222222222,
              "#7201a8"
             ],
             [
              0.3333333333333333,
              "#9c179e"
             ],
             [
              0.4444444444444444,
              "#bd3786"
             ],
             [
              0.5555555555555556,
              "#d8576b"
             ],
             [
              0.6666666666666666,
              "#ed7953"
             ],
             [
              0.7777777777777778,
              "#fb9f3a"
             ],
             [
              0.8888888888888888,
              "#fdca26"
             ],
             [
              1,
              "#f0f921"
             ]
            ],
            "type": "contour"
           }
          ],
          "contourcarpet": [
           {
            "colorbar": {
             "outlinewidth": 0,
             "ticks": ""
            },
            "type": "contourcarpet"
           }
          ],
          "heatmap": [
           {
            "colorbar": {
             "outlinewidth": 0,
             "ticks": ""
            },
            "colorscale": [
             [
              0,
              "#0d0887"
             ],
             [
              0.1111111111111111,
              "#46039f"
             ],
             [
              0.2222222222222222,
              "#7201a8"
             ],
             [
              0.3333333333333333,
              "#9c179e"
             ],
             [
              0.4444444444444444,
              "#bd3786"
             ],
             [
              0.5555555555555556,
              "#d8576b"
             ],
             [
              0.6666666666666666,
              "#ed7953"
             ],
             [
              0.7777777777777778,
              "#fb9f3a"
             ],
             [
              0.8888888888888888,
              "#fdca26"
             ],
             [
              1,
              "#f0f921"
             ]
            ],
            "type": "heatmap"
           }
          ],
          "heatmapgl": [
           {
            "colorbar": {
             "outlinewidth": 0,
             "ticks": ""
            },
            "colorscale": [
             [
              0,
              "#0d0887"
             ],
             [
              0.1111111111111111,
              "#46039f"
             ],
             [
              0.2222222222222222,
              "#7201a8"
             ],
             [
              0.3333333333333333,
              "#9c179e"
             ],
             [
              0.4444444444444444,
              "#bd3786"
             ],
             [
              0.5555555555555556,
              "#d8576b"
             ],
             [
              0.6666666666666666,
              "#ed7953"
             ],
             [
              0.7777777777777778,
              "#fb9f3a"
             ],
             [
              0.8888888888888888,
              "#fdca26"
             ],
             [
              1,
              "#f0f921"
             ]
            ],
            "type": "heatmapgl"
           }
          ],
          "histogram": [
           {
            "marker": {
             "pattern": {
              "fillmode": "overlay",
              "size": 10,
              "solidity": 0.2
             }
            },
            "type": "histogram"
           }
          ],
          "histogram2d": [
           {
            "colorbar": {
             "outlinewidth": 0,
             "ticks": ""
            },
            "colorscale": [
             [
              0,
              "#0d0887"
             ],
             [
              0.1111111111111111,
              "#46039f"
             ],
             [
              0.2222222222222222,
              "#7201a8"
             ],
             [
              0.3333333333333333,
              "#9c179e"
             ],
             [
              0.4444444444444444,
              "#bd3786"
             ],
             [
              0.5555555555555556,
              "#d8576b"
             ],
             [
              0.6666666666666666,
              "#ed7953"
             ],
             [
              0.7777777777777778,
              "#fb9f3a"
             ],
             [
              0.8888888888888888,
              "#fdca26"
             ],
             [
              1,
              "#f0f921"
             ]
            ],
            "type": "histogram2d"
           }
          ],
          "histogram2dcontour": [
           {
            "colorbar": {
             "outlinewidth": 0,
             "ticks": ""
            },
            "colorscale": [
             [
              0,
              "#0d0887"
             ],
             [
              0.1111111111111111,
              "#46039f"
             ],
             [
              0.2222222222222222,
              "#7201a8"
             ],
             [
              0.3333333333333333,
              "#9c179e"
             ],
             [
              0.4444444444444444,
              "#bd3786"
             ],
             [
              0.5555555555555556,
              "#d8576b"
             ],
             [
              0.6666666666666666,
              "#ed7953"
             ],
             [
              0.7777777777777778,
              "#fb9f3a"
             ],
             [
              0.8888888888888888,
              "#fdca26"
             ],
             [
              1,
              "#f0f921"
             ]
            ],
            "type": "histogram2dcontour"
           }
          ],
          "mesh3d": [
           {
            "colorbar": {
             "outlinewidth": 0,
             "ticks": ""
            },
            "type": "mesh3d"
           }
          ],
          "parcoords": [
           {
            "line": {
             "colorbar": {
              "outlinewidth": 0,
              "ticks": ""
             }
            },
            "type": "parcoords"
           }
          ],
          "pie": [
           {
            "automargin": true,
            "type": "pie"
           }
          ],
          "scatter": [
           {
            "fillpattern": {
             "fillmode": "overlay",
             "size": 10,
             "solidity": 0.2
            },
            "type": "scatter"
           }
          ],
          "scatter3d": [
           {
            "line": {
             "colorbar": {
              "outlinewidth": 0,
              "ticks": ""
             }
            },
            "marker": {
             "colorbar": {
              "outlinewidth": 0,
              "ticks": ""
             }
            },
            "type": "scatter3d"
           }
          ],
          "scattercarpet": [
           {
            "marker": {
             "colorbar": {
              "outlinewidth": 0,
              "ticks": ""
             }
            },
            "type": "scattercarpet"
           }
          ],
          "scattergeo": [
           {
            "marker": {
             "colorbar": {
              "outlinewidth": 0,
              "ticks": ""
             }
            },
            "type": "scattergeo"
           }
          ],
          "scattergl": [
           {
            "marker": {
             "colorbar": {
              "outlinewidth": 0,
              "ticks": ""
             }
            },
            "type": "scattergl"
           }
          ],
          "scattermapbox": [
           {
            "marker": {
             "colorbar": {
              "outlinewidth": 0,
              "ticks": ""
             }
            },
            "type": "scattermapbox"
           }
          ],
          "scatterpolar": [
           {
            "marker": {
             "colorbar": {
              "outlinewidth": 0,
              "ticks": ""
             }
            },
            "type": "scatterpolar"
           }
          ],
          "scatterpolargl": [
           {
            "marker": {
             "colorbar": {
              "outlinewidth": 0,
              "ticks": ""
             }
            },
            "type": "scatterpolargl"
           }
          ],
          "scatterternary": [
           {
            "marker": {
             "colorbar": {
              "outlinewidth": 0,
              "ticks": ""
             }
            },
            "type": "scatterternary"
           }
          ],
          "surface": [
           {
            "colorbar": {
             "outlinewidth": 0,
             "ticks": ""
            },
            "colorscale": [
             [
              0,
              "#0d0887"
             ],
             [
              0.1111111111111111,
              "#46039f"
             ],
             [
              0.2222222222222222,
              "#7201a8"
             ],
             [
              0.3333333333333333,
              "#9c179e"
             ],
             [
              0.4444444444444444,
              "#bd3786"
             ],
             [
              0.5555555555555556,
              "#d8576b"
             ],
             [
              0.6666666666666666,
              "#ed7953"
             ],
             [
              0.7777777777777778,
              "#fb9f3a"
             ],
             [
              0.8888888888888888,
              "#fdca26"
             ],
             [
              1,
              "#f0f921"
             ]
            ],
            "type": "surface"
           }
          ],
          "table": [
           {
            "cells": {
             "fill": {
              "color": "#EBF0F8"
             },
             "line": {
              "color": "white"
             }
            },
            "header": {
             "fill": {
              "color": "#C8D4E3"
             },
             "line": {
              "color": "white"
             }
            },
            "type": "table"
           }
          ]
         },
         "layout": {
          "annotationdefaults": {
           "arrowcolor": "#2a3f5f",
           "arrowhead": 0,
           "arrowwidth": 1
          },
          "autotypenumbers": "strict",
          "coloraxis": {
           "colorbar": {
            "outlinewidth": 0,
            "ticks": ""
           }
          },
          "colorscale": {
           "diverging": [
            [
             0,
             "#8e0152"
            ],
            [
             0.1,
             "#c51b7d"
            ],
            [
             0.2,
             "#de77ae"
            ],
            [
             0.3,
             "#f1b6da"
            ],
            [
             0.4,
             "#fde0ef"
            ],
            [
             0.5,
             "#f7f7f7"
            ],
            [
             0.6,
             "#e6f5d0"
            ],
            [
             0.7,
             "#b8e186"
            ],
            [
             0.8,
             "#7fbc41"
            ],
            [
             0.9,
             "#4d9221"
            ],
            [
             1,
             "#276419"
            ]
           ],
           "sequential": [
            [
             0,
             "#0d0887"
            ],
            [
             0.1111111111111111,
             "#46039f"
            ],
            [
             0.2222222222222222,
             "#7201a8"
            ],
            [
             0.3333333333333333,
             "#9c179e"
            ],
            [
             0.4444444444444444,
             "#bd3786"
            ],
            [
             0.5555555555555556,
             "#d8576b"
            ],
            [
             0.6666666666666666,
             "#ed7953"
            ],
            [
             0.7777777777777778,
             "#fb9f3a"
            ],
            [
             0.8888888888888888,
             "#fdca26"
            ],
            [
             1,
             "#f0f921"
            ]
           ],
           "sequentialminus": [
            [
             0,
             "#0d0887"
            ],
            [
             0.1111111111111111,
             "#46039f"
            ],
            [
             0.2222222222222222,
             "#7201a8"
            ],
            [
             0.3333333333333333,
             "#9c179e"
            ],
            [
             0.4444444444444444,
             "#bd3786"
            ],
            [
             0.5555555555555556,
             "#d8576b"
            ],
            [
             0.6666666666666666,
             "#ed7953"
            ],
            [
             0.7777777777777778,
             "#fb9f3a"
            ],
            [
             0.8888888888888888,
             "#fdca26"
            ],
            [
             1,
             "#f0f921"
            ]
           ]
          },
          "colorway": [
           "#636efa",
           "#EF553B",
           "#00cc96",
           "#ab63fa",
           "#FFA15A",
           "#19d3f3",
           "#FF6692",
           "#B6E880",
           "#FF97FF",
           "#FECB52"
          ],
          "font": {
           "color": "#2a3f5f"
          },
          "geo": {
           "bgcolor": "white",
           "lakecolor": "white",
           "landcolor": "#E5ECF6",
           "showlakes": true,
           "showland": true,
           "subunitcolor": "white"
          },
          "hoverlabel": {
           "align": "left"
          },
          "hovermode": "closest",
          "mapbox": {
           "style": "light"
          },
          "paper_bgcolor": "white",
          "plot_bgcolor": "#E5ECF6",
          "polar": {
           "angularaxis": {
            "gridcolor": "white",
            "linecolor": "white",
            "ticks": ""
           },
           "bgcolor": "#E5ECF6",
           "radialaxis": {
            "gridcolor": "white",
            "linecolor": "white",
            "ticks": ""
           }
          },
          "scene": {
           "xaxis": {
            "backgroundcolor": "#E5ECF6",
            "gridcolor": "white",
            "gridwidth": 2,
            "linecolor": "white",
            "showbackground": true,
            "ticks": "",
            "zerolinecolor": "white"
           },
           "yaxis": {
            "backgroundcolor": "#E5ECF6",
            "gridcolor": "white",
            "gridwidth": 2,
            "linecolor": "white",
            "showbackground": true,
            "ticks": "",
            "zerolinecolor": "white"
           },
           "zaxis": {
            "backgroundcolor": "#E5ECF6",
            "gridcolor": "white",
            "gridwidth": 2,
            "linecolor": "white",
            "showbackground": true,
            "ticks": "",
            "zerolinecolor": "white"
           }
          },
          "shapedefaults": {
           "line": {
            "color": "#2a3f5f"
           }
          },
          "ternary": {
           "aaxis": {
            "gridcolor": "white",
            "linecolor": "white",
            "ticks": ""
           },
           "baxis": {
            "gridcolor": "white",
            "linecolor": "white",
            "ticks": ""
           },
           "bgcolor": "#E5ECF6",
           "caxis": {
            "gridcolor": "white",
            "linecolor": "white",
            "ticks": ""
           }
          },
          "title": {
           "x": 0.05
          },
          "xaxis": {
           "automargin": true,
           "gridcolor": "white",
           "linecolor": "white",
           "ticks": "",
           "title": {
            "standoff": 15
           },
           "zerolinecolor": "white",
           "zerolinewidth": 2
          },
          "yaxis": {
           "automargin": true,
           "gridcolor": "white",
           "linecolor": "white",
           "ticks": "",
           "title": {
            "standoff": 15
           },
           "zerolinecolor": "white",
           "zerolinewidth": 2
          }
         }
        },
        "title": {
         "text": "3d TSNE Plot for Topic Model"
        },
        "width": 900
       }
      },
      "text/html": [
       "<div>                            <div id=\"94a365ff-de42-4560-9d32-8e7ab8e6d314\" class=\"plotly-graph-div\" style=\"height:800px; width:900px;\"></div>            <script type=\"text/javascript\">                require([\"plotly\"], function(Plotly) {                    window.PLOTLYENV=window.PLOTLYENV || {};                                    if (document.getElementById(\"94a365ff-de42-4560-9d32-8e7ab8e6d314\")) {                    Plotly.newPlot(                        \"94a365ff-de42-4560-9d32-8e7ab8e6d314\",                        [{\"hovertemplate\":\"Dominant_Topic=Topic 0<br>0=%{x}<br>1=%{y}<br>2=%{z}<extra></extra>\",\"legendgroup\":\"Topic 0\",\"marker\":{\"color\":\"#636efa\",\"opacity\":0.7,\"symbol\":\"circle\"},\"mode\":\"markers\",\"name\":\"Topic 0\",\"scene\":\"scene\",\"showlegend\":true,\"x\":[-1.7794735431671143,-6.083308219909668,3.243929147720337,-4.461660861968994,8.507617950439453,3.6005892753601074,8.656596183776855,3.8005049228668213,4.536901473999023,1.454737663269043,-7.990017414093018,7.718565464019775,5.316295623779297,5.038461685180664,3.4723711013793945,-1.086412787437439,-10.7665433883667,-11.596658706665039,-0.7437067031860352,-1.4832783937454224,-10.884880065917969,-5.141992092132568,1.119207739830017,7.980067253112793,-8.338573455810547,11.57825756072998,-0.6003289222717285,-8.975434303283691,1.3382219076156616,-10.869938850402832,4.853649139404297,-4.136368751525879,5.608907222747803,-1.414812684059143,1.6978340148925781,-10.201836585998535,-6.423355579376221,7.0628581047058105,-5.746484756469727,7.025412559509277,2.7247061729431152,-7.573096752166748,2.932077646255493,-6.545670986175537,8.121475219726562,-5.064422607421875,-5.129460334777832,4.215167999267578,0.7156295776367188,-10.488792419433594,-11.793755531311035,1.8675087690353394,2.856083869934082,-4.015594959259033,-4.956880569458008,-0.08744154870510101,-0.4956856667995453,0.6781023740768433,-7.575992107391357,-3.2724344730377197,3.475187063217163,3.0129244327545166,4.996832370758057,1.6841614246368408,-3.345791816711426,-6.118722438812256,-6.508878707885742,-11.794641494750977,8.510875701904297,5.972702503204346,-5.197709560394287,-3.3364150524139404,6.284299850463867,-0.650630533695221,-7.273875713348389,10.099075317382812,7.913675785064697,2.560835123062134,1.571393370628357,2.128829002380371,-2.6967339515686035,1.526627540588379,2.3271141052246094,-4.360002517700195,-5.848090171813965,-7.366275310516357,1.981931447982788,-1.4871625900268555,-4.486416816711426,7.817202091217041,-11.30870246887207,8.107491493225098,-7.359992504119873,6.138513565063477,-8.77114486694336,3.9195311069488525,5.989505767822266,-0.09422800689935684,-2.5952470302581787,4.412580966949463,0.2793292701244354,4.680742263793945,8.064043045043945,0.7543797492980957,-3.162679433822632,1.4109389781951904,2.704420566558838,1.1692109107971191,-7.353529453277588,-0.050944238901138306,-1.4186562299728394,-3.433633804321289,-7.33776330947876,-3.1260128021240234,-5.687537670135498,3.280214309692383,10.500565528869629,-0.4332555830478668,-10.183796882629395,-11.373912811279297,3.866431951522827,1.6790595054626465,-7.847263813018799,-4.1698079109191895,-4.187345504760742,-2.3706612586975098,-11.070173263549805,5.876156806945801,-10.73889446258545,-1.4016759395599365,-1.5288052558898926,-2.1671178340911865,-5.256991386413574,1.8812880516052246,5.89249849319458,4.120251178741455,2.453563928604126,4.766879081726074,-10.505305290222168,6.0578436851501465,-5.168734550476074,-3.791666269302368,-3.212465763092041,-0.6001033782958984,-6.615009307861328,1.1253135204315186,10.058181762695312,3.097836494445801,3.4573137760162354,0.48836269974708557,1.2922108173370361,6.109660625457764,2.254685878753662,-0.4264296889305115,4.339149475097656,4.121065139770508,-4.402552604675293,-8.624459266662598,4.559685230255127,10.29271125793457,-6.66545295715332,6.533266067504883,-0.9250884056091309,3.6115434169769287,5.073033809661865,6.161652088165283,-1.5372995138168335,-0.4967350363731384,-6.870110988616943,-2.522035837173462,-9.299372673034668,5.062037944793701,-7.627071380615234,-6.997095584869385,-6.772341728210449,-3.741445541381836,3.4680821895599365,-4.715073108673096,-3.209705352783203,-7.421234607696533,6.0977864265441895,-3.9335670471191406,-3.026301145553589,-0.6873579621315002,-0.3096409738063812,2.7034623622894287,4.597354412078857,7.482725620269775,3.4076406955718994,-6.650780200958252,4.573859691619873,8.286572456359863,3.067706823348999,-2.828901767730713,-1.6225788593292236,-2.900430917739868,2.3680167198181152,9.218827247619629,2.8558385372161865,-3.317021608352661,0.3778182566165924,0.5654292702674866,4.569309234619141,-3.669368028640747,1.939835548400879,-1.368852972984314,-0.15000726282596588,1.913472294807434,1.8610954284667969,0.04007010534405708,-0.8834443688392639,-7.502586841583252,-1.0775325298309326,1.4724360704421997,-3.5353660583496094,1.2617501020431519,-1.9636070728302002,-5.300666809082031,8.062318801879883,4.373363494873047,8.4016695022583,-3.6830077171325684,-1.042073130607605,7.2334675788879395,0.3297036588191986,0.6678675413131714,-0.6966175436973572,-0.25600525736808777,6.7664875984191895,-6.927112102508545,2.622427463531494,-2.5131049156188965,3.160525321960449,-8.37090015411377,-6.119805335998535,-12.047139167785645,-6.279335021972656,-3.5084612369537354,-9.982358932495117,-0.8770714402198792,-10.810778617858887,-4.972757816314697,6.922501564025879,2.5087428092956543,-12.198190689086914,8.826851844787598,-12.877396583557129,2.0067789554595947,-10.75831127166748,1.643311858177185,6.549984931945801,-5.809085369110107,2.716341495513916,-2.9944074153900146,-9.468183517456055,-5.082493305206299,-11.963101387023926,6.920896530151367,1.6484724283218384,6.393749237060547,7.886096477508545,-2.2186899185180664,-3.0729970932006836,-6.932509422302246,-0.20843902230262756,-9.753645896911621,-3.3389153480529785,-7.7409868240356445,-5.666083335876465,4.17975378036499,5.903131008148193,3.745310068130493,-1.0573315620422363,2.9799206256866455,1.5242353677749634,-1.620191216468811,-6.085639953613281,0.02004195749759674,6.491265296936035,7.36421537399292,-7.022907733917236,-2.8405356407165527,1.2249032258987427,-8.646500587463379,-5.90346622467041,8.735485076904297,-7.353929042816162,1.2064738273620605,-0.2929671108722687,2.746615171432495,-4.692588806152344,-3.7975776195526123,2.9862418174743652,-4.459163188934326,-3.306610107421875,2.9955978393554688,2.8709263801574707,1.5294831991195679,-10.50698184967041,2.5894904136657715,-1.6966606378555298,1.7821587324142456,-7.080287933349609,-6.8941426277160645,-0.4539278447628021,9.563413619995117,-1.6402413845062256,-6.946109294891357,-0.9562926888465881,-2.631927490234375,-5.040806293487549,2.5861458778381348,-11.001561164855957,6.970944881439209,5.527695178985596,4.849105358123779,4.489901065826416,-8.29926586151123,-0.4862668514251709,-10.123212814331055,-4.927793502807617,3.0594146251678467,6.561529159545898,-6.69495964050293,1.342106819152832,7.549234867095947,-1.2202430963516235,5.35382604598999,1.8067705631256104,3.266338586807251,7.25145959854126,7.35479211807251,3.6774966716766357,4.145664215087891,5.4917497634887695,2.2278552055358887,3.9747745990753174,-11.250536918640137,-3.8345251083374023,4.342646598815918,5.170135498046875,-4.941780090332031,-3.974053144454956,4.4610772132873535,4.383471488952637,-0.7522913217544556,2.8682336807250977,2.715991735458374,-12.970593452453613,-1.7617275714874268,5.09056282043457,7.594664573669434,3.057992696762085,0.03813408687710762,-3.5109505653381348,-7.0755181312561035,-9.386701583862305,-4.267131805419922,-5.812082290649414,-2.372075080871582,5.292240142822266,8.585719108581543,-1.1302037239074707,1.580618143081665,-6.308387279510498,-0.6055613160133362,1.2314460277557373,5.921769142150879,3.956261157989502,-7.149808406829834,-12.311290740966797,5.330040454864502,2.1554105281829834,1.8902915716171265,-3.9337973594665527,6.700017929077148,-10.094334602355957,4.473167896270752,-5.551792621612549,3.909097909927368,6.948364734649658,2.593137264251709,3.011455774307251,8.66504192352295,6.789062023162842,-2.2238473892211914,6.8597822189331055,2.273649215698242,4.446966171264648,-1.8762388229370117,4.429219722747803,2.5176565647125244,1.9840551614761353,4.527497291564941,-5.488037586212158,3.1735455989837646,-3.4063477516174316,4.954239845275879,0.09577149152755737,-0.7868189811706543,2.530255079269409,-6.919624328613281,5.584593772888184,-5.657321929931641,0.10048570483922958,2.4368419647216797,-8.086983680725098,-0.11680363118648529,4.315755367279053,3.570563316345215,-8.596755981445312,2.5510618686676025,-7.819244384765625,3.5945191383361816,-3.999634027481079,-3.538405656814575,9.168334007263184,-4.132285118103027,-9.950660705566406,5.011600494384766,-0.11733909696340561,5.776278018951416,7.212370872497559,3.429142951965332,1.4766311645507812,1.3165980577468872,4.533963203430176,6.239345073699951,-6.2255659103393555,2.930513381958008,-8.702357292175293,7.901280879974365,0.21497219800949097,-4.015074729919434,-8.208925247192383,-7.271538734436035,6.599196910858154,6.506996154785156,7.3659772872924805,-5.829480171203613,0.8170624375343323,-4.219257831573486,2.189760446548462,-2.4057364463806152,7.016989231109619,4.578571319580078,4.470784664154053,3.9537582397460938,-4.281857013702393,-12.421917915344238,8.754959106445312,0.46231380105018616,-4.360760688781738,-0.146683469414711,1.7525185346603394,3.503596782684326,3.2298574447631836,-4.891133785247803,2.1287612915039062,2.1511666774749756,6.049439907073975,3.3059940338134766,5.941122055053711,-8.2467679977417,2.4293744564056396,-8.187255859375,-7.237236499786377,-6.498767852783203,3.655339479446411,-3.038989543914795,-1.7722468376159668,1.7094519138336182,2.243499994277954,-0.9430690407752991,-4.603025913238525,1.69999098777771,3.263796091079712,4.2515082359313965,2.2003564834594727,-2.578430652618408,-1.7233788967132568,7.361149787902832,1.0372236967086792,7.8901591300964355,0.6088102459907532,8.469895362854004,-5.815063953399658,7.6426777839660645,7.279885768890381,1.722564935684204,0.8559057116508484,5.061574459075928,-8.06252384185791,1.9032328128814697,-5.197567462921143,-4.0681915283203125,-3.459843158721924,-7.573986053466797,-0.9602945446968079,-1.3782854080200195,-5.3034987449646,4.282785892486572,-6.117442607879639,-1.595375418663025,-0.07955434918403625,2.274301528930664,-8.372591018676758,-7.320791244506836,6.453063011169434,-10.634842872619629,10.452098846435547,-0.7415221929550171,2.6265978813171387,-6.963964939117432,-5.796668529510498,-0.30075082182884216,-4.724279880523682,0.6300866603851318,1.0655922889709473,1.1433151960372925,2.5265209674835205,5.596783638000488,-8.875616073608398,-4.6229071617126465,1.81865656375885,-7.559968948364258,-2.6256532669067383,-4.837962627410889,-3.733074426651001,2.9089739322662354,2.068730115890503,6.216284275054932,-0.7706804275512695,-4.981930255889893,-3.00352144241333,-8.755438804626465,9.297074317932129,2.829200267791748,7.281163692474365,-10.618597030639648,-2.161409616470337,-7.986103057861328,7.567059516906738,-5.957879066467285,-4.493596076965332,7.95179557800293,0.96183842420578,-5.773006439208984,-4.930878639221191,-5.117068767547607,-0.07955802232027054,-0.5732821226119995,-9.223886489868164,2.548840284347534,6.104175090789795,-0.8124545216560364,-4.7145609855651855,9.688789367675781,0.5536249279975891,6.013154983520508,6.31337308883667,0.7849758863449097,-1.179410696029663,4.414147853851318,-3.7928473949432373,7.351348400115967,6.104894161224365,2.9628746509552,-0.3371961712837219,-1.8072500228881836,-7.078514575958252,-5.750758647918701,-0.9215467572212219,3.160874843597412,0.21038918197155,2.5561766624450684,5.466044902801514,5.201028347015381,6.6561737060546875,7.172482490539551,-2.5072262287139893,1.8186190128326416,3.2556533813476562,8.078841209411621,2.2480294704437256,-8.265303611755371,5.577798366546631,-4.496203899383545,-10.149473190307617,0.9615997076034546,4.192713260650635,-0.8052776455879211,2.0843734741210938,2.7054505348205566,4.7104573249816895,-1.2292444705963135,-3.4987289905548096,7.609886646270752,-0.8816170692443848,2.6890077590942383,0.19782179594039917,-1.746383786201477,-2.4132821559906006,0.51645427942276,6.39556884765625,2.854121208190918,-0.11819908767938614,2.8900492191314697,-6.8526716232299805,9.376410484313965,4.672826290130615,-9.312090873718262,10.48160171508789,-8.936175346374512,-5.069341659545898,-6.018313407897949,0.9123765230178833,3.115445852279663,6.613073348999023,4.1870245933532715,-4.13368558883667,-11.530227661132812,-6.914125919342041,9.888195991516113,5.391792297363281,-0.21226292848587036,7.202305793762207,2.9233477115631104,-4.043159008026123,-2.4050421714782715,4.724502086639404,-12.170626640319824,-3.785869598388672,4.772864818572998,3.4431021213531494,-8.912074089050293,10.697349548339844,-2.7768259048461914,-10.902440071105957,3.6855671405792236,-3.9529640674591064,-4.087388515472412,-11.304788589477539,9.296453475952148,-7.462409019470215,-11.633909225463867,3.0715413093566895,9.706202507019043,-0.07718075066804886,-2.944997787475586,6.464680194854736,4.93552827835083,-4.550518989562988,2.504000663757324,7.608654975891113,-8.37037467956543,3.6946306228637695,-4.808979034423828,-8.567397117614746,3.1880900859832764,2.2841320037841797,-1.710055947303772,-0.16221582889556885,-4.247855186462402,2.111691951751709,2.941279411315918,0.16284213960170746,5.325169563293457,-2.7216498851776123,-9.876906394958496,1.63630211353302,-8.218473434448242,5.80258321762085,1.653476357460022,3.7091312408447266,-9.817967414855957,1.4973523616790771,-5.641448497772217,2.399597406387329,-4.029202938079834,-1.2710676193237305,-5.721683979034424,0.5449740886688232,-4.331875324249268,-0.2792922854423523,6.912460803985596,7.214360237121582,-2.8320064544677734,7.2996745109558105,-4.303645133972168,4.887362480163574,-4.455052375793457,2.5480456352233887,8.374063491821289,-0.43816307187080383,-3.2197325229644775,-8.237605094909668,-9.332937240600586,-10.97909164428711,4.20212984085083,3.6486563682556152,4.263418197631836,2.515512704849243,4.6640238761901855,6.977773666381836,-0.0885157436132431,-1.022354245185852,-0.975352942943573,-5.558810234069824,5.8434953689575195,4.026193618774414,4.810206890106201,-4.780783176422119,-1.2255805730819702,5.455605506896973,5.025177955627441,-4.531386375427246,5.776706218719482,3.763756036758423,-2.630018472671509,-2.5480473041534424,-8.938163757324219,0.8098496794700623,-3.530954599380493,5.8184404373168945,-2.159419059753418,6.0397114753723145,2.808196783065796,1.0853383541107178,-10.716248512268066,3.0540552139282227,-2.515310764312744,-6.863890171051025,-6.067666530609131,4.9760918617248535,-2.2447125911712646,1.7310404777526855,5.014312267303467,5.56138277053833,3.1168129444122314,-3.5302579402923584,-5.345859527587891,3.01491117477417,-0.6785072684288025,3.5455338954925537,2.604525327682495,0.08243346959352493,2.798677921295166,-6.14248514175415,-0.5799605250358582,-2.94362211227417,6.277675628662109,5.166326522827148,2.4723970890045166,6.386281490325928,-6.2084832191467285,-2.414132833480835,0.9359928369522095,-6.240862846374512,5.674854755401611,0.7729011178016663,6.8638691902160645,4.840691566467285,3.5479671955108643,-7.094428539276123,3.0976102352142334,3.362387180328369,0.6898864507675171,-1.883043885231018,-8.14096736907959,6.1922173500061035,-7.158260345458984,2.2377190589904785,-2.9834036827087402,-0.46052616834640503,2.4927053451538086,2.5202670097351074,8.398216247558594,2.4226598739624023,-12.850573539733887,3.1821577548980713,-12.86345100402832,-5.476116180419922,-1.1480921506881714,0.7490521669387817,-8.203774452209473,2.6671841144561768,-4.891133785247803,-8.231270790100098,-4.205307483673096,-7.615574836730957,-10.697884559631348,8.902748107910156,5.916101455688477,-5.48859977722168,-6.964343547821045,-8.337068557739258,-4.912374973297119,-5.544300556182861,8.487975120544434,3.917459726333618,3.8735177516937256,7.97125768661499,-5.457516670227051,3.2192306518554688,4.980952739715576,-4.387372970581055,3.7460973262786865,-4.561660289764404,0.8818753361701965,-1.6601589918136597,8.726163864135742,-7.830698490142822,-0.8222806453704834,-8.72968578338623,2.995858669281006,-7.274816036224365,2.2327606678009033,-2.942239284515381,-7.285144329071045,5.268655776977539,5.522973537445068,1.1210728883743286,4.891837120056152,-0.3876255750656128,-6.086062908172607,3.686291217803955,-11.40101432800293,0.7324972748756409,-7.881298542022705,4.000479698181152,1.5495718717575073,-8.231821060180664,0.41320717334747314,-0.6837286949157715,6.984265327453613,-6.386075496673584,4.7755656242370605,-3.073753833770752,-0.3313840925693512,-7.731457233428955,-6.0320353507995605,1.6362826824188232,-4.479619979858398,7.442030906677246,-6.273223400115967,0.1682746857404709,0.9018368124961853,7.71302604675293,4.6141676902771,8.103799819946289,-5.871476173400879,1.5358847379684448,6.184320449829102,-1.2577327489852905,-0.4941546320915222,9.886914253234863,-8.066753387451172,8.107263565063477,-3.1836345195770264,6.24010705947876,-8.833797454833984,5.329309940338135,-1.3720418214797974,-4.335499286651611,3.8587305545806885,4.816906452178955,-4.93337345123291,0.560012936592102,-1.5096533298492432,-4.240981578826904,-7.010281085968018,5.54703950881958,7.2204461097717285,-6.792441368103027,-11.463704109191895,-0.9360328912734985,3.3155863285064697,-1.942916989326477,-7.957530975341797,-10.89185905456543,4.192260265350342,-0.6145773530006409,-9.807332992553711,6.4496636390686035,5.754458904266357,-6.777207851409912,-6.040779113769531,-5.030923366546631,-5.586493015289307,-8.398199081420898,-4.116790771484375,-5.111871242523193,9.755010604858398,7.0007829666137695,-1.2823721170425415,-3.5017476081848145,-0.8976504802703857,-6.800807952880859,-5.23953104019165,7.325466632843018,7.147662162780762,-3.962139368057251,-1.3149033784866333,-7.5456085205078125,-6.5897321701049805,3.939554452896118,-4.08315372467041,-6.595111846923828,6.186490535736084,-6.19249153137207,5.80233907699585,4.1086530685424805,-4.345068454742432,-12.043901443481445,-11.6990966796875,-9.190208435058594],\"y\":[0.7466480731964111,-1.393047571182251,-3.228384494781494,-2.692617893218994,-1.8682926893234253,-2.7914397716522217,-0.7741633057594299,4.624967575073242,-6.8422465324401855,5.491948127746582,0.39474552869796753,-2.7093591690063477,-3.9828615188598633,-3.0964882373809814,6.2599196434021,-5.12095832824707,3.3212687969207764,4.948427677154541,-1.1458934545516968,-4.663488388061523,3.0988428592681885,-2.260519504547119,-7.417599678039551,-2.0154290199279785,1.8396598100662231,0.16618509590625763,-4.758983612060547,1.6862633228302002,2.0851805210113525,3.3894667625427246,-3.519240140914917,-2.9563419818878174,-5.084847927093506,1.3995692729949951,-7.06431770324707,4.765294075012207,-1.0633821487426758,-2.3599305152893066,0.06118542701005936,-1.884997010231018,7.729646682739258,1.1999353170394897,-3.611253023147583,3.2552921772003174,0.22288960218429565,-2.2957465648651123,3.7045207023620605,-6.7222580909729,-6.32999849319458,3.4547736644744873,3.8782706260681152,7.1494574546813965,-2.429250717163086,-2.909702777862549,4.66946268081665,-6.687043190002441,-4.921854496002197,-2.4276299476623535,2.256679058074951,-0.33091455698013306,-7.121165752410889,2.0711164474487305,-5.844781398773193,1.5124114751815796,2.0892834663391113,1.8289977312088013,1.4707140922546387,3.9722740650177,-2.4534170627593994,-0.3039731979370117,2.4390366077423096,-1.2820316553115845,1.4459675550460815,-1.9843010902404785,-0.32701975107192993,-0.9094461798667908,-1.3871660232543945,0.6186227798461914,0.5291629433631897,0.046904340386390686,-3.6989450454711914,-0.178232342004776,-3.2588119506835938,4.599673748016357,-0.651282548904419,2.233346462249756,3.8928213119506836,-2.9326159954071045,-2.630998134613037,1.7895399332046509,5.231739044189453,-2.3812503814697266,0.3676425516605377,0.9648097157478333,0.8684386610984802,-3.9900808334350586,-4.384204387664795,-6.678770065307617,-2.0178656578063965,-1.788687825202942,-6.935371398925781,-5.531390190124512,-2.123358726501465,-1.8991516828536987,-4.223382949829102,-7.257972240447998,-7.277101993560791,3.9566287994384766,0.6464533805847168,-1.143031358718872,-0.47009292244911194,-2.845064640045166,-0.2234971970319748,1.7858394384384155,-1.9202712774276733,3.9402828216552734,-0.5034223198890686,-2.97128963470459,3.886230230331421,4.256073951721191,-2.1438639163970947,2.3219118118286133,5.421930313110352,5.049560546875,3.3427109718322754,-0.15007594227790833,3.5295820236206055,-2.3611927032470703,5.310044288635254,-5.1758294105529785,0.5431570410728455,-2.7899792194366455,4.524415016174316,-4.463703155517578,-0.7085226774215698,5.087442874908447,-0.8699271082878113,-6.640138149261475,3.126230239868164,1.7541279792785645,-1.985815167427063,-2.366042375564575,1.6955089569091797,-1.1230460405349731,-0.9095659852027893,-6.990570068359375,-1.0587072372436523,2.054100275039673,-1.9700851440429688,-7.126415252685547,-7.3982954025268555,0.8132280707359314,-4.313992500305176,-6.039118766784668,-6.13164758682251,-6.658309459686279,3.9355194568634033,0.7386234402656555,0.48582926392555237,-0.730991005897522,-0.22300316393375397,-3.9488365650177,-3.148131847381592,2.0988898277282715,-6.337646007537842,-4.621094226837158,-2.0518441200256348,-5.055394172668457,-0.6904011964797974,-3.597073793411255,2.802643299102783,-5.241361618041992,-0.16657264530658722,0.12926346063613892,1.2252743244171143,-1.0611335039138794,4.707709789276123,4.771796226501465,-3.104787588119507,1.4165937900543213,-3.455631732940674,4.677292346954346,-4.298760414123535,3.279010772705078,3.474820375442505,-4.1829023361206055,2.4943156242370605,-2.6486101150512695,4.1163835525512695,2.5004312992095947,-3.8285021781921387,-1.927019715309143,2.2099599838256836,-3.52063250541687,-4.539175510406494,-0.26649120450019836,-3.3410515785217285,-1.6118673086166382,2.0467631816864014,2.1012189388275146,4.801808834075928,5.056957244873047,-6.588084697723389,-3.2116496562957764,-0.08092321455478668,1.9247190952301025,-5.514375686645508,3.196701765060425,-4.486854553222656,-6.829131603240967,-5.823348522186279,0.2631877362728119,0.20040273666381836,1.04385507106781,-0.337489515542984,-7.399406909942627,-2.624234437942505,-1.8207999467849731,0.9420485496520996,-3.9789328575134277,-0.8992717862129211,-3.802922487258911,-1.0788170099258423,-2.982612371444702,-6.66269588470459,0.48010796308517456,2.5548288822174072,-6.407498359680176,-0.057645998895168304,0.0601884163916111,-5.022694110870361,1.8363932371139526,-1.6708385944366455,1.7136449813842773,0.8948810696601868,4.074193000793457,1.579346776008606,-3.013291835784912,4.923454761505127,-2.5434727668762207,5.0655837059021,0.633025586605072,-3.1336114406585693,1.3650414943695068,4.112432956695557,-1.3344204425811768,4.57514762878418,1.3656344413757324,3.3394830226898193,-1.1188271045684814,-3.129470109939575,-1.7780674695968628,1.599592685699463,-3.50262713432312,2.87978458404541,4.776550769805908,3.802973747253418,-2.1428568363189697,3.5389413833618164,-2.8672406673431396,-0.11966922879219055,2.1092844009399414,0.5286895632743835,-0.6341677904129028,-6.496249198913574,2.691486358642578,-3.28155255317688,5.300233364105225,-0.052589237689971924,2.3829610347747803,-4.367486476898193,-2.4816462993621826,-1.1327615976333618,1.1952435970306396,0.3840530216693878,1.7052628993988037,-1.4837186336517334,-6.359981536865234,-2.159381151199341,-2.0431644916534424,5.383707523345947,2.364985466003418,-7.397088050842285,2.6911206245422363,-1.3618370294570923,-0.962976336479187,2.775362014770508,3.555110454559326,-1.4791061878204346,-1.5905449390411377,-2.4663937091827393,4.21189022064209,-3.8611719608306885,5.014842987060547,2.2728657722473145,-2.9469118118286133,3.183444023132324,3.758836030960083,3.2742161750793457,4.2517476081848145,-1.0678051710128784,-4.1383771896362305,4.167387008666992,1.502804160118103,-4.168193817138672,-0.709130048751831,2.361767530441284,-0.37711650133132935,3.249846935272217,0.2779717445373535,-2.2640416622161865,-1.4763871431350708,5.853087425231934,-2.8483188152313232,-5.270737648010254,-3.957542896270752,-4.063663482666016,1.5067346096038818,-2.1774275302886963,4.366512775421143,-2.2564117908477783,-3.973771095275879,-4.645192623138428,-0.12060698121786118,1.8488452434539795,-1.012553095817566,-1.2789525985717773,2.640394449234009,-4.601039409637451,-3.0471150875091553,-2.824458122253418,-2.8166232109069824,-3.092911958694458,-6.667262077331543,-2.943892002105713,5.591861724853516,-1.6365622282028198,3.644833564758301,0.1585198938846588,1.7851486206054688,-5.978888988494873,-2.5858025550842285,-2.916001796722412,-5.397984027862549,-5.950976848602295,-5.076290607452393,-1.9946519136428833,-1.1832857131958008,4.939699649810791,2.3222663402557373,-5.465351581573486,-1.319748044013977,-4.009064674377441,-0.740257203578949,1.559343695640564,3.1915948390960693,2.9042274951934814,0.05685248225927353,-1.4290690422058105,-2.6889078617095947,1.271669626235962,-2.1635687351226807,-5.073363780975342,0.3273322880268097,-1.160687804222107,-2.177320957183838,-0.04350234195590019,-2.4045774936676025,4.4504923820495605,1.8813011646270752,4.3520426750183105,0.29231512546539307,-6.0902886390686035,-7.05672550201416,-3.1520745754241943,-1.8499153852462769,4.1227240562438965,-3.9005515575408936,-1.9075082540512085,5.92860221862793,-0.9406134486198425,-7.295711994171143,-2.440354108810425,-0.9971479177474976,-2.387300729751587,-3.5662248134613037,-3.6603598594665527,-4.079742431640625,-6.878659725189209,-1.7443013191223145,-6.91359806060791,-4.997326850891113,1.9597790241241455,2.2110040187835693,3.6666502952575684,-3.851044178009033,2.2210185527801514,-5.501312732696533,4.035411834716797,-5.157165050506592,3.3226678371429443,2.8718390464782715,-5.6342058181762695,4.436729431152344,-6.879406929016113,-7.278787612915039,1.92489755153656,-4.528207778930664,-4.477080345153809,-6.766607284545898,2.969994306564331,-7.302135467529297,1.8655380010604858,5.227504730224609,0.9172475934028625,-3.9573476314544678,-0.8232460021972656,-2.834089756011963,3.675063371658325,1.4220948219299316,-1.8303014039993286,-4.946104049682617,-1.6943671703338623,2.352342367172241,0.4204119145870209,-4.55918550491333,1.6901178359985352,-4.512775421142578,1.5150377750396729,-4.1221113204956055,2.082427978515625,-2.5853688716888428,3.88667631149292,-0.5050085783004761,5.334545612335205,1.3432899713516235,2.108160972595215,0.9616052508354187,-3.335144281387329,4.015379905700684,-0.213713139295578,-0.17623275518417358,-6.317014694213867,-3.9540109634399414,1.3552110195159912,1.686995506286621,-6.888194561004639,5.714649200439453,-0.09194006770849228,4.191904544830322,-1.8732308149337769,-0.1621776521205902,5.049248695373535,0.537642776966095,1.7665534019470215,-6.41432523727417,-5.307585716247559,2.575889825820923,4.421856880187988,-4.588791370391846,-3.258437395095825,4.887782096862793,0.6802366971969604,0.7073313593864441,3.471696615219116,1.9548832178115845,2.0959110260009766,-1.129360556602478,-1.9914615154266357,-3.7033262252807617,1.7564479112625122,0.1484929472208023,-3.135345458984375,-4.524769306182861,-2.557812452316284,2.8523473739624023,-3.1258249282836914,-6.99893856048584,-6.17117977142334,-0.05184151977300644,-1.7026240825653076,-1.3402302265167236,-1.1223491430282593,-1.9263805150985718,-4.693437099456787,-2.142951488494873,0.1022009328007698,-0.5900041460990906,-3.1038990020751953,1.0313087701797485,0.1564413458108902,-1.403642177581787,5.379289627075195,-7.076268196105957,-1.7558941841125488,-3.000006675720215,0.5847280621528625,1.7583974599838257,2.8821771144866943,-4.754704475402832,-2.2163615226745605,1.444637656211853,0.9719352722167969,-5.00671911239624,4.132839202880859,2.9636993408203125,1.819068193435669,2.5611917972564697,-4.277308940887451,3.713247776031494,-0.5976116061210632,0.39166751503944397,-4.1424880027771,1.2802655696868896,-0.7565571069717407,-2.8058931827545166,2.802595853805542,-7.206699848175049,1.4918781518936157,-7.415783882141113,5.979342937469482,1.3745478391647339,1.5619585514068604,0.5603324770927429,3.8649001121520996,2.1409807205200195,-1.9822959899902344,0.3657377362251282,-3.0210819244384766,-1.8972015380859375,6.03345251083374,-4.52160120010376,0.19056744873523712,-2.414783000946045,-3.495948553085327,3.3984875679016113,-1.6198104619979858,-1.8262089490890503,1.3865960836410522,3.2159323692321777,-3.7891969680786133,0.3924582898616791,-2.5358636379241943,3.0674145221710205,4.469052314758301,-2.6439554691314697,-7.166447162628174,-1.0371484756469727,-1.9818000793457031,-1.7756946086883545,3.9735469818115234,-3.212313413619995,2.701780080795288,-3.466247797012329,-4.716980934143066,-5.142826080322266,4.799900531768799,-0.675704836845398,-5.114129543304443,-4.895152568817139,-3.0036768913269043,-6.910687446594238,-1.0044524669647217,-4.455278396606445,-3.11006498336792,-3.508021593093872,-2.561194896697998,4.572506427764893,-6.264024257659912,-4.85473108291626,3.1973657608032227,-0.9976584315299988,3.2276804447174072,-2.698495626449585,-0.43537357449531555,-0.7823898792266846,-3.8221046924591064,-6.529819965362549,-3.537971258163452,-3.6678855419158936,-3.9280943870544434,1.4715162515640259,-3.6005866527557373,-0.8998284339904785,7.506490707397461,5.168400764465332,0.7222046256065369,0.5473544597625732,3.682163953781128,-6.514065742492676,-7.017370223999023,1.657942533493042,-5.869634628295898,-2.891855001449585,-4.8290228843688965,0.5869910717010498,-4.010921478271484,-2.51621413230896,3.1409027576446533,-4.6601033210754395,0.4671354591846466,-4.436557769775391,-0.8738126158714294,0.8349140882492065,1.4167077541351318,-3.2478187084198,-6.322531223297119,1.806406855583191,3.201225757598877,-1.677384376525879,3.222104787826538,2.9687955379486084,0.7483773827552795,1.6365846395492554,3.7640914916992188,4.599444389343262,-7.376892566680908,2.960226058959961,1.6408292055130005,2.17685604095459,-0.057747580111026764,3.821383237838745,4.6274309158325195,-1.406558871269226,1.4415854215621948,-2.3468217849731445,-0.6489235758781433,7.522606372833252,-2.878919839859009,-0.5901877880096436,-1.7708609104156494,3.9760987758636475,4.704936981201172,4.00234842300415,-7.012137413024902,1.60673189163208,-0.15620337426662445,-4.2429327964782715,3.4117040634155273,-2.0841116905212402,-0.1492975503206253,-2.1327013969421387,5.341241359710693,-1.8219531774520874,-0.09441937506198883,3.8835527896881104,-7.200536251068115,-1.2681607007980347,3.9301388263702393,-0.17299425601959229,-4.30652379989624,-6.207574844360352,-2.556658983230591,-1.9323816299438477,-0.9757205247879028,1.1825268268585205,1.7135968208312988,-0.5619903802871704,2.6441709995269775,1.646838665008545,-7.332891464233398,-4.465229511260986,2.3392724990844727,-0.830488383769989,-6.178117275238037,2.3854050636291504,-6.924818515777588,-5.322835922241211,-3.0053787231445312,3.1893842220306396,2.575678825378418,0.6739445924758911,0.3246670365333557,-7.3712873458862305,-4.003050327301025,3.163031578063965,2.022670269012451,0.6180562376976013,0.49356094002723694,-0.16276925802230835,-2.96614146232605,-1.5859885215759277,-5.3380446434021,0.5310155153274536,-1.3188565969467163,1.3455417156219482,-0.9518775343894958,-0.9139002561569214,-1.1920020580291748,0.7130564451217651,-2.752760171890259,4.843168258666992,-3.712113618850708,-1.0498837232589722,-6.010894298553467,2.2922236919403076,1.6268138885498047,2.7943150997161865,5.7631072998046875,-7.0147199630737305,-7.092072486877441,-6.706925392150879,-7.307257175445557,-6.73262882232666,-1.3880939483642578,-2.315504789352417,-5.184333801269531,-1.9917702674865723,-2.0729010105133057,-5.167245864868164,-4.610570430755615,3.434527635574341,0.08903288841247559,-2.3276546001434326,1.8186430931091309,1.6026099920272827,0.4025803208351135,-4.9774041175842285,5.578946113586426,-3.745867967605591,-1.0988166332244873,2.5647709369659424,3.4701015949249268,-3.275322198867798,-5.171036243438721,-2.754399299621582,0.2946130037307739,7.315894603729248,-0.3508627712726593,5.24204683303833,-7.204145908355713,-3.689359188079834,2.2532031536102295,-0.13004116714000702,-3.509918451309204,-4.038020133972168,1.5923033952713013,-4.061459064483643,-3.9906609058380127,1.6105318069458008,4.4542341232299805,0.23447716236114502,-3.035154104232788,3.599229335784912,5.984692096710205,1.691170334815979,-6.865428924560547,2.102398157119751,1.9531506299972534,-2.1108739376068115,-3.7852253913879395,-0.8641963005065918,1.5776619911193848,-4.911160469055176,-4.9160895347595215,3.6810684204101562,-2.3485395908355713,-7.388190269470215,-0.48183587193489075,-5.48018217086792,-7.019805908203125,-2.1539456844329834,-6.571310520172119,6.286687850952148,0.23149949312210083,-2.1562252044677734,-1.8227955102920532,1.3939777612686157,-4.326934814453125,2.879877805709839,-3.182859420776367,0.2836040258407593,-3.728776693344116,1.9184107780456543,1.9567017555236816,-7.310222148895264,-4.653653621673584,-0.5904592871665955,-2.682699680328369,4.376917362213135,-1.1170883178710938,4.362011909484863,0.6679514050483704,3.209245443344116,0.42771321535110474,4.819012641906738,-0.5407776832580566,2.5758895874023438,2.7312824726104736,-0.05663171410560608,-0.150673046708107,3.3803815841674805,-2.0050346851348877,-4.40949821472168,0.36886274814605713,3.760469675064087,0.4217606484889984,2.2872211933135986,3.705394744873047,-1.989017128944397,4.652788162231445,4.678140163421631,0.789922833442688,-1.9190701246261597,3.6675305366516113,-5.814341068267822,4.98139762878418,4.599393367767334,-2.4870500564575195,-7.360592842102051,0.4868354797363281,-2.0497779846191406,0.023053579032421112,-2.0712406635284424,2.4311580657958984,-7.215798377990723,0.5409116744995117,-5.74302864074707,-4.064922332763672,-0.3081205189228058,-6.096408843994141,-5.516440391540527,-0.5152255296707153,-3.3355259895324707,-6.027845859527588,-1.4836052656173706,-2.9915363788604736,4.5517072677612305,3.087589979171753,0.04286820814013481,-7.055180072784424,5.234808444976807,0.7158865332603455,-7.0769476890563965,-5.283448219299316,-1.148652195930481,2.921564817428589,-5.068756103515625,2.149019479751587,3.5865275859832764,0.1224629208445549,-1.2858607769012451,1.1573081016540527,-0.10702495276927948,-2.5099310874938965,1.2373944520950317,0.2858625054359436,-1.240919828414917,0.9253899455070496,2.468130111694336,0.8401558995246887,4.734883785247803,-4.4277753829956055,-1.0274341106414795,-4.911514759063721,-0.17046067118644714,-1.1059234142303467,1.9284265041351318,-2.087782621383667,-4.228838920593262,-1.339253544807434,5.506360054016113,-4.44625997543335,0.5555634498596191,-0.18725775182247162,4.56654167175293,3.191695213317871,-0.26200437545776367,3.835251569747925,-0.7454844117164612,-2.680429458618164,1.6066863536834717,0.6225162744522095,-2.488442897796631,-0.5696340203285217,4.784478187561035,-1.5147475004196167,-4.032972812652588,-4.278177261352539,0.36262989044189453,3.8856019973754883,1.1511861085891724,-0.649625837802887,2.515512228012085,-4.329291343688965,0.41303545236587524,2.112448215484619,1.9764798879623413,-2.269315242767334,3.9960567951202393,0.9036431908607483,-0.8216875791549683,0.061860207468271255,-1.7462342977523804,-3.894199848175049,-3.1314022541046143,-2.425879716873169,-3.2664053440093994,2.22483491897583,-0.3182789981365204,-1.1973819732666016,-3.7517240047454834,-0.26006630063056946,-4.835947036743164,0.4558102786540985,1.1593300104141235,6.1843109130859375,3.1426494121551514,3.385823965072632,-0.05807816609740257,-1.1203320026397705,-5.370251178741455,5.798281192779541,-0.1121596172451973,4.073647975921631,3.921943426132202,4.693934440612793],\"z\":[1.6971052885055542,-7.62023401260376,7.609348773956299,0.07474048435688019,-4.017084121704102,5.244034290313721,7.906167030334473,1.891014814376831,4.945676803588867,-2.251225709915161,-7.427865028381348,8.370466232299805,-2.5033633708953857,6.724324703216553,0.6042702794075012,-5.338474273681641,-6.107773303985596,-4.179403781890869,-5.14962100982666,-5.9432172775268555,-5.175039291381836,-7.509600639343262,0.05108925327658653,8.771453857421875,0.9361701011657715,-3.547478199005127,-3.574313163757324,-7.172043323516846,4.155933856964111,-6.017690181732178,-3.398268222808838,0.49823102355003357,-0.1909985989332199,-5.418258190155029,-1.5570964813232422,-2.1239302158355713,-7.613615036010742,0.12671910226345062,-0.7084917426109314,-2.3158445358276367,-0.1339855045080185,0.3115915358066559,-5.429457664489746,-5.293624401092529,9.060134887695312,-2.75127911567688,-0.44156384468078613,2.3919825553894043,-2.647322416305542,-6.48117733001709,-1.5642396211624146,0.30044567584991455,1.8976844549179077,-7.220410346984863,-4.056416034698486,-2.535667896270752,-5.8207478523254395,-2.716785430908203,-8.114559173583984,6.212291717529297,3.451840400695801,3.903988838195801,2.2336692810058594,5.669264316558838,-1.1787885427474976,4.913008213043213,-4.651789665222168,-4.970620632171631,-0.5225725173950195,6.54434871673584,4.387510299682617,5.2721171379089355,0.30737394094467163,5.449318885803223,-7.536452293395996,-3.96197509765625,8.645493507385254,4.32312536239624,-2.159026622772217,4.285796165466309,-6.772910118103027,-2.0712814331054688,-6.668567180633545,-4.4886040687561035,-0.5175182223320007,-6.261290550231934,-1.6668369770050049,1.211482286453247,-7.421771049499512,1.057826280593872,-4.3030242919921875,-2.2023940086364746,-0.943666934967041,-1.5208408832550049,-4.4981279373168945,-4.099424839019775,7.454475402832031,-2.553675889968872,5.545901775360107,3.294339656829834,0.7267128229141235,-0.5781266689300537,-2.8249590396881104,-2.9077279567718506,-0.5534738898277283,-0.842477560043335,2.4140214920043945,-3.0973448753356934,-0.8571968078613281,3.348428726196289,2.4681026935577393,-0.12345676124095917,-3.971707344055176,2.682711124420166,-7.622832775115967,0.7741267085075378,-3.637202262878418,0.13644038140773773,-2.014512538909912,-2.393636703491211,5.028231143951416,1.0036001205444336,-4.368732929229736,-2.8693923950195312,-1.890058994293213,6.292294025421143,-5.819727897644043,6.546668529510498,-5.757258892059326,2.2730917930603027,-5.160699844360352,5.2550764083862305,-4.5943284034729,6.406715393066406,2.608633041381836,2.410451889038086,-3.374783754348755,5.2162580490112305,-6.323174953460693,0.6339050531387329,-7.459030628204346,2.2627053260803223,-1.2383408546447754,-4.963708400726318,-7.606348514556885,0.02145114168524742,-3.0355732440948486,0.8398154973983765,3.3835489749908447,-1.211521863937378,0.3640980124473572,-1.5409917831420898,1.0813270807266235,-3.7391152381896973,5.990325927734375,1.416228175163269,-2.7973389625549316,-4.469393253326416,2.2868614196777344,-3.7651596069335938,-1.7408812046051025,3.1417038440704346,0.2877134382724762,1.4058529138565063,5.581901550292969,7.180652618408203,3.1632139682769775,-5.3651533126831055,-7.583516597747803,2.166649580001831,-0.6986740231513977,2.178354263305664,-5.369404315948486,1.383293628692627,1.0316087007522583,4.8529582023620605,0.6459223031997681,-3.8599493503570557,2.023322343826294,-0.4971644878387451,-2.457315444946289,-4.65913724899292,-0.44638481736183167,-2.1403777599334717,-1.3844189643859863,1.86426842212677,1.0223073959350586,8.536521911621094,1.0480461120605469,-2.384894371032715,8.046076774597168,-2.1746933460235596,4.2234039306640625,1.959484338760376,-6.059767246246338,-0.2753927409648895,-6.5378193855285645,-3.2946619987487793,3.2955989837646484,0.7606906890869141,4.118471145629883,4.200173854827881,2.696918487548828,1.0834101438522339,4.311809062957764,-5.356654644012451,-4.77972412109375,-1.721301794052124,6.471269130706787,-2.212070941925049,-2.0725433826446533,-4.108709812164307,-5.193826198577881,5.259044170379639,4.013892650604248,0.2816675007343292,1.9760217666625977,-7.461543560028076,0.6118015050888062,7.815045356750488,8.337540626525879,-0.7031145691871643,6.99160099029541,8.335007667541504,-2.6640498638153076,-4.207876205444336,-2.9816126823425293,-3.1088273525238037,1.0710138082504272,-0.8126354217529297,1.8287426233291626,1.4811077117919922,-3.5276007652282715,0.2749193608760834,-4.997500896453857,-4.623587608337402,4.941859245300293,1.4540568590164185,-3.590268135070801,-5.471680641174316,-3.6581339836120605,2.1782498359680176,-0.8745054006576538,-0.13317641615867615,-4.379786014556885,8.212903022766113,-2.8366353511810303,-2.0309131145477295,-3.1101484298706055,-3.2179532051086426,-3.03934645652771,-7.645859718322754,0.26613906025886536,-6.914101600646973,1.9944556951522827,-3.8884143829345703,-3.514559745788574,7.968677043914795,-3.282754898071289,-1.4770853519439697,8.73525333404541,2.0827019214630127,4.110422134399414,-7.577646255493164,-2.9314050674438477,-6.4364213943481445,-7.066594123840332,-4.308536052703857,-6.688756465911865,3.6840038299560547,6.603475570678711,6.507956027984619,7.044330596923828,4.290420055389404,5.133143901824951,-5.518179416656494,-7.637434482574463,-1.7353756427764893,-2.0070104598999023,8.427968978881836,-4.756166934967041,-1.522948145866394,-0.002239688066765666,-3.2404870986938477,-7.560654163360596,9.459224700927734,-4.234854221343994,-3.1675186157226562,3.1275057792663574,-3.5704751014709473,-0.4264731705188751,-5.101846694946289,-5.144152641296387,-3.6333796977996826,2.3836731910705566,6.256059646606445,0.13492253422737122,-1.0246531963348389,-3.0843002796173096,-0.14149980247020721,3.5344486236572266,4.889957427978516,-4.755051612854004,-0.9229104518890381,-3.9591987133026123,10.107847213745117,-2.0484068393707275,-3.2060561180114746,-2.9033288955688477,-0.29798683524131775,-7.528881072998047,1.1572810411453247,-3.7567782402038574,-2.974154472351074,0.11095035821199417,-3.0780367851257324,7.773647785186768,-0.10458499938249588,-3.984309434890747,-1.97329580783844,-1.064496397972107,-5.0992608070373535,6.000516414642334,-0.8363282084465027,2.4526424407958984,-1.3604601621627808,6.254426956176758,0.7280354499816895,6.335274696350098,2.5166616439819336,-2.5135295391082764,8.438431739807129,3.1440839767456055,4.667027473449707,5.993431568145752,-0.6303356289863586,6.730086326599121,-5.6303486824035645,4.409738540649414,-2.7789289951324463,5.647336483001709,-3.168208122253418,-7.290956497192383,-0.9975681304931641,-0.385272353887558,-5.520103931427002,7.149754524230957,1.3094788789749146,-2.4021122455596924,-5.463354110717773,-0.2852000594139099,8.62118911743164,-5.045443058013916,3.683133125305176,0.04281586408615112,0.6709688305854797,2.045910358428955,5.873326778411865,-7.556209564208984,4.82691764831543,-2.4129621982574463,-1.8537620306015015,-5.4166998863220215,-3.9856512546539307,-7.614333629608154,-4.861171245574951,-2.643446207046509,6.597127437591553,0.2245088517665863,-8.467352867126465,-2.5718657970428467,5.475841045379639,4.9568281173706055,-1.4637573957443237,0.4799264073371887,-2.1323442459106445,-1.975926399230957,7.927210807800293,-6.14077615737915,1.0413917303085327,2.596369504928589,2.2793097496032715,2.3539328575134277,9.393561363220215,7.817597389221191,2.5107481479644775,0.8998941779136658,1.2286620140075684,4.277057647705078,5.471670627593994,4.823976993560791,1.705289363861084,4.042006492614746,1.191949486732483,-0.3996244966983795,-5.1817402839660645,-1.5097249746322632,-0.5044272541999817,-4.430572986602783,-4.734338760375977,1.2304391860961914,-2.3495209217071533,6.260680675506592,-4.548274040222168,-2.072930097579956,2.274080276489258,-6.7400431632995605,-1.985597848892212,-2.85074782371521,4.561999797821045,2.314575672149658,2.2271742820739746,2.4225735664367676,0.4545086920261383,-0.4736517369747162,-0.714701235294342,9.799095153808594,-7.333878517150879,-1.6251544952392578,-2.398113250732422,2.698880195617676,2.3402042388916016,8.281824111938477,1.7670902013778687,5.2693328857421875,4.694004535675049,1.9374572038650513,7.237763404846191,4.86671781539917,-4.687058448791504,-7.179166316986084,3.4307966232299805,-4.061214447021484,-0.6086632013320923,-4.403100967407227,-8.227398872375488,0.1751401573419571,-1.4026681184768677,0.8040338158607483,-4.740476131439209,-3.2645556926727295,-3.0656275749206543,4.612401962280273,2.0819551944732666,-1.063186526298523,1.1118049621582031,4.870798587799072,1.1351165771484375,5.6845622062683105,-3.92360782623291,-3.09537935256958,-3.7364137172698975,-3.002309560775757,-4.423786640167236,4.640965938568115,2.8440604209899902,2.815540075302124,4.295473575592041,4.313889026641846,6.514551639556885,-3.3453617095947266,0.1820753514766693,-1.7207609415054321,-7.373989582061768,0.6974613070487976,-7.892857074737549,-8.467479705810547,-6.867151737213135,5.809004306793213,1.321988582611084,-5.51380729675293,-1.7395868301391602,-6.80361270904541,-5.104548454284668,-7.446783065795898,-2.169684410095215,5.296631336212158,4.596527576446533,4.85758113861084,-0.2539396286010742,2.9195823669433594,8.291955947875977,-2.7830045223236084,9.112739562988281,-1.6150920391082764,-2.25441837310791,-0.4727921783924103,8.64465618133545,8.219207763671875,-2.193241834640503,-3.22664475440979,3.2830564975738525,-4.5005011558532715,2.8428637981414795,-7.828843593597412,0.5862438678741455,6.721134185791016,2.698347806930542,-2.2498130798339844,-5.8602986335754395,-7.573305606842041,1.6698997020721436,-4.744200229644775,2.180060386657715,-4.685253620147705,-1.0180386304855347,0.7121317386627197,-6.008267879486084,0.17085513472557068,-5.510671615600586,-3.4398553371429443,-4.930179595947266,-4.572976589202881,0.6777282357215881,-8.282272338867188,-4.135596752166748,4.101443290710449,-0.911935031414032,2.217787265777588,0.09671647101640701,-0.02923763357102871,1.4014085531234741,-7.21047830581665,4.648280620574951,-2.017725944519043,-4.104432582855225,5.5314459800720215,5.156715393066406,1.3851016759872437,-3.7523562908172607,-0.5404531955718994,7.26910924911499,-4.983790874481201,-2.9887096881866455,-6.918360710144043,2.4490983486175537,-3.300903081893921,1.6985986232757568,-0.6993036866188049,-6.2314372062683105,-6.4643964767456055,-7.428544521331787,8.596736907958984,-0.7895560264587402,-4.865118503570557,3.577650785446167,-0.2378903180360794,1.206779956817627,-2.877199649810791,-3.011584997177124,-4.645745754241943,-0.12943848967552185,1.9441033601760864,-6.227543830871582,7.0857768058776855,-4.6310906410217285,-3.865370988845825,10.205513954162598,-1.5736167430877686,6.931020259857178,-2.018203020095825,-2.089729070663452,7.302613258361816,-2.7765262126922607,-6.9317498207092285,0.9657490849494934,6.862826347351074,3.759229898452759,-3.370349645614624,1.9807806015014648,0.879237711429596,1.0157783031463623,-2.957064151763916,5.895907402038574,3.898566722869873,-3.2228612899780273,-2.5935566425323486,4.297165870666504,0.1594107300043106,1.5349787473678589,1.9483857154846191,5.409512042999268,2.5221033096313477,8.682267189025879,-1.0871115922927856,-4.453028202056885,5.907088756561279,5.59709358215332,-1.941889762878418,-0.3030884861946106,4.515721321105957,-4.919754981994629,5.211513519287109,1.7105647325515747,7.192720890045166,-5.250166893005371,-0.7497785091400146,-2.765395402908325,-2.758162498474121,-4.374023914337158,-4.087295055389404,-6.1496429443359375,4.442233562469482,-3.66247820854187,0.4214897155761719,5.730467319488525,-1.8353514671325684,3.7999444007873535,1.145663857460022,-2.1847116947174072,0.8030267953872681,-6.32187032699585,-3.2446677684783936,-7.187385559082031,-0.5755923390388489,-4.486353874206543,-0.3396223187446594,0.6147225499153137,1.3845672607421875,3.848187208175659,5.952159404754639,-5.287051200866699,-4.188467979431152,-3.398711681365967,5.517007827758789,5.1935882568359375,2.093046188354492,0.07879813760519028,-7.310579776763916,6.838296890258789,3.526658058166504,-3.9270384311676025,-4.847501754760742,0.5072001218795776,3.3889665603637695,-7.1975932121276855,-3.461562395095825,0.5885918736457825,-5.988310813903809,3.386920213699341,3.9196815490722656,2.2214016914367676,-4.130893707275391,-1.1464799642562866,-7.476415157318115,-5.162300109863281,2.8816704750061035,-3.619767189025879,-4.158143997192383,4.312175750732422,0.21310746669769287,2.1954457759857178,0.2543570101261139,1.085334062576294,7.843174934387207,-7.462926864624023,1.2867846488952637,-0.003002822631970048,-3.396362066268921,3.94258713722229,1.8792893886566162,-6.12387752532959,-4.366053104400635,1.854240894317627,4.795375823974609,0.5107483863830566,-1.9301214218139648,-0.2484460473060608,-6.862051963806152,-6.162048816680908,-0.28378555178642273,-7.379773139953613,6.2617082595825195,0.9529520273208618,-4.32761812210083,-6.189936637878418,3.9377079010009766,4.528466701507568,4.504184722900391,5.957381725311279,0.42129969596862793,-3.152588367462158,-1.3216081857681274,1.4063642024993896,3.24585223197937,1.2582786083221436,8.206405639648438,3.9480395317077637,-1.2437636852264404,1.8926671743392944,6.21859073638916,-3.6003007888793945,1.5676376819610596,9.195549964904785,-3.765413522720337,2.1933345794677734,0.3665311932563782,1.98296320438385,-3.756704807281494,4.528911590576172,3.6807055473327637,2.4726498126983643,2.1818318367004395,5.087548732757568,7.697995662689209,5.306053638458252,-5.231417179107666,-5.475912570953369,-7.546501159667969,1.076215386390686,2.6365888118743896,3.803288459777832,-0.6780999898910522,0.14466127753257751,3.6088006496429443,-2.8233344554901123,1.7494653463363647,2.193480968475342,0.7789214253425598,-6.737188816070557,4.542454719543457,2.0807297229766846,-3.5586025714874268,1.241381049156189,0.9767410755157471,2.2409703731536865,1.9873220920562744,-0.2947025001049042,-2.853557825088501,-5.833545684814453,2.857861280441284,-6.73396635055542,-2.4195518493652344,-0.5471808910369873,-3.7580811977386475,-6.501016139984131,5.771191596984863,7.844696044921875,-2.1531825065612793,1.0608536005020142,-5.099689960479736,4.338174343109131,6.916338920593262,-0.9119559526443481,0.32170864939689636,3.996648073196411,-2.1136510372161865,0.31552377343177795,3.4956252574920654,-5.341353893280029,-6.287683963775635,7.051270484924316,-2.951047420501709,0.9825434684753418,5.213200569152832,-5.066662788391113,5.4383344650268555,-0.29243239760398865,-0.7528709769248962,6.39641809463501,0.07869123667478561,7.909438133239746,5.305704116821289,0.3820945620536804,-0.40955111384391785,2.660926103591919,6.834251880645752,1.9444180727005005,-6.2481865882873535,0.02510703168809414,-3.1847891807556152,-0.6498645544052124,1.0331228971481323,2.5441102981567383,-3.932260513305664,2.153672933578491,1.3327407836914062,7.708037853240967,1.1439883708953857,-3.109853744506836,2.053797960281372,-3.2871367931365967,1.9819235801696777,-2.787597894668579,-3.55224871635437,-4.604970455169678,1.0463422536849976,4.295473575592041,-6.264288902282715,3.956865072250366,-4.747225284576416,-5.332125663757324,-1.7201491594314575,7.444936752319336,4.394795894622803,-5.061431407928467,-4.662460803985596,4.420360565185547,-0.25446048378944397,8.100972175598145,2.928406000137329,1.985173225402832,0.7113115787506104,-4.604215145111084,1.083583950996399,5.344265460968018,-3.546523094177246,0.29667970538139343,0.5562787652015686,-0.4023199677467346,1.9073926210403442,-2.024541139602661,-4.612822532653809,-5.653807640075684,2.17341947555542,2.7813968658447266,-6.907741069793701,4.592921733856201,-5.448914527893066,-7.491005897521973,5.832772731781006,6.1378278732299805,-3.145313024520874,-3.4742674827575684,-3.579721450805664,-7.637902736663818,3.195894241333008,-4.868913173675537,-3.5822389125823975,-4.701844692230225,4.235235214233398,-2.270261287689209,-7.357922077178955,-1.3717155456542969,-2.075000286102295,2.5233967304229736,1.8035417795181274,5.049973011016846,1.7060205936431885,-1.0285969972610474,-7.471042633056641,-3.3746299743652344,2.0584492683410645,5.283295631408691,8.496708869934082,-5.143141269683838,-4.130331039428711,-2.97682785987854,0.8706737756729126,4.107664108276367,0.5669973492622375,-4.473068714141846,4.623007774353027,2.7175283432006836,-5.660823822021484,-4.8135223388671875,-3.7731306552886963,2.0799055099487305,-3.8043346405029297,-0.6153476238250732,2.8945741653442383,-4.257209777832031,7.477909088134766,-5.147067070007324,-2.7883193492889404,2.897676944732666,4.412468433380127,-1.2433470487594604,-3.8785400390625,2.597649574279785,-7.388679027557373,-4.190793514251709,5.8472185134887695,0.36046043038368225,-3.2860774993896484,-4.699636936187744,5.905972957611084,-4.726663589477539,-6.291667461395264,-7.433236122131348,-5.21065092086792,2.127516984939575,3.6766576766967773,-6.750802516937256,4.084654331207275,6.258326053619385,-1.72146475315094,3.128159999847412,-7.522368431091309,-0.69367915391922,-7.339019298553467,-0.5113216638565063,4.106008529663086,-3.282181978225708,0.950742781162262,0.4474531412124634,2.6996278762817383,-0.0005525335436686873,-1.9788668155670166,-0.8648889064788818,8.365706443786621,1.217037320137024,5.927770137786865,-5.763465881347656,-1.0772403478622437,1.3223248720169067,1.2023366689682007,-1.6569867134094238,0.3554230332374573,6.944273471832275,-3.267388343811035,6.338772773742676,1.647363305091858,1.4885656833648682,-4.6316986083984375,-5.085294246673584,-4.0888991355896],\"type\":\"scatter3d\"},{\"hovertemplate\":\"Dominant_Topic=Topic 1<br>0=%{x}<br>1=%{y}<br>2=%{z}<extra></extra>\",\"legendgroup\":\"Topic 1\",\"marker\":{\"color\":\"#EF553B\",\"opacity\":0.7,\"symbol\":\"circle\"},\"mode\":\"markers\",\"name\":\"Topic 1\",\"scene\":\"scene\",\"showlegend\":true,\"x\":[-6.820721626281738,-3.019883394241333,-3.648404598236084,-5.265652656555176,-2.655237913131714,-3.300791025161743,-3.300790786743164,-3.3839681148529053,-3.2464563846588135,-6.2370500564575195,1.1050400733947754,-3.300790786743164,-2.950890064239502,-7.123577117919922,-7.132740497589111,-2.8219287395477295],\"y\":[2.2485973834991455,6.386808395385742,0.47172829508781433,2.589876413345337,6.596078395843506,6.238232135772705,6.238232135772705,0.9045679569244385,6.2674479484558105,2.910167694091797,7.502866744995117,6.238231658935547,6.424428462982178,2.3710622787475586,2.373250722885132,6.486010551452637],\"z\":[5.060862064361572,5.283490180969238,6.7769317626953125,5.194591045379639,5.166041374206543,5.377896308898926,5.377895355224609,6.838958263397217,5.3597941398620605,5.12253999710083,3.633848190307617,5.377895832061768,5.260788440704346,5.152715682983398,5.223782062530518,5.215636730194092],\"type\":\"scatter3d\"},{\"hovertemplate\":\"Dominant_Topic=Topic 2<br>0=%{x}<br>1=%{y}<br>2=%{z}<extra></extra>\",\"legendgroup\":\"Topic 2\",\"marker\":{\"color\":\"#00cc96\",\"opacity\":0.7,\"symbol\":\"circle\"},\"mode\":\"markers\",\"name\":\"Topic 2\",\"scene\":\"scene\",\"showlegend\":true,\"x\":[4.354400157928467,1.629591941833496,3.0904030799865723,0.8692044615745544,1.8444575071334839,9.689834594726562,0.6858221292495728,2.3337693214416504,0.7067772746086121,1.878045678138733,7.699422359466553,4.073441505432129,2.9082884788513184,1.9771133661270142,3.4485690593719482,1.6073977947235107,1.2899214029312134,0.8338965177536011,7.648693561553955,0.964767336845398,4.209561824798584,5.164274215698242,1.4873069524765015,4.058959007263184,3.008657455444336,1.9627131223678589,1.4025808572769165,2.2390692234039307,3.0720953941345215,4.2318267822265625,0.7477536797523499,4.931751251220703,4.321453094482422,4.594929218292236,4.352147102355957,0.8641268014907837,7.706363201141357,4.387091159820557,1.770948052406311,0.8007609844207764,4.831471920013428,3.781865358352661,4.263562202453613,4.793264389038086,3.7015204429626465,4.231672763824463,3.3463618755340576,4.661896705627441,0.7567814588546753,3.882934093475342,1.6832175254821777,1.5676684379577637,1.8899976015090942,4.692982196807861,1.013594388961792],\"y\":[6.530003070831299,9.523782730102539,8.105952262878418,10.303791999816895,9.267655372619629,-0.675410807132721,9.003751754760742,4.73293399810791,9.21428108215332,8.984272956848145,3.931006908416748,7.139753818511963,6.9466233253479,9.578312873840332,7.837157726287842,5.23420524597168,7.191831588745117,10.356983184814453,3.708268880844116,9.900534629821777,7.271336078643799,5.128661632537842,10.046034812927246,6.88585090637207,8.608036994934082,5.245965480804443,9.802234649658203,10.175132751464844,7.976642608642578,7.321456432342529,10.497105598449707,4.080501079559326,7.427818775177002,5.514752388000488,4.53411340713501,9.532581329345703,3.742604970932007,5.9386115074157715,5.083482265472412,10.266100883483887,3.4708268642425537,8.015170097351074,7.58441162109375,3.397486686706543,8.08024787902832,7.125338554382324,8.358442306518555,4.178572654724121,10.51810073852539,6.819148540496826,9.47326946258545,5.0624775886535645,9.154969215393066,4.189120292663574,8.87174129486084],\"z\":[2.118983507156372,3.6855287551879883,0.7072381377220154,4.373888969421387,3.4868104457855225,10.20634651184082,4.131534576416016,4.2489495277404785,4.1747260093688965,3.3993523120880127,1.290516972541809,1.7077312469482422,1.1432615518569946,3.5093917846679688,1.1048907041549683,4.196747779846191,3.5075900554656982,4.410608291625977,1.2840445041656494,4.200381755828857,2.0720739364624023,1.9441293478012085,3.939143419265747,1.6078470945358276,2.5416555404663086,4.2253594398498535,3.906018018722534,3.5511815547943115,0.5614200234413147,2.167287588119507,4.503046989440918,4.383143424987793,2.4067821502685547,3.296637773513794,3.7207701206207275,4.16558837890625,1.2541730403900146,1.7598339319229126,4.265830039978027,4.405789375305176,4.241236209869385,2.3100109100341797,2.558025360107422,4.262599945068359,2.009809970855713,1.9928476810455322,1.9571423530578613,3.895191192626953,4.504142761230469,1.214066743850708,3.637484073638916,4.308714389801025,3.435865640640259,3.9511075019836426,3.910365343093872],\"type\":\"scatter3d\"},{\"hovertemplate\":\"Dominant_Topic=Topic 3<br>0=%{x}<br>1=%{y}<br>2=%{z}<extra></extra>\",\"legendgroup\":\"Topic 3\",\"marker\":{\"color\":\"#ab63fa\",\"opacity\":0.7,\"symbol\":\"circle\"},\"mode\":\"markers\",\"name\":\"Topic 3\",\"scene\":\"scene\",\"showlegend\":true,\"x\":[10.683083534240723,10.679938316345215,10.680112838745117,10.259330749511719,10.231474876403809,9.62120532989502,10.566886901855469,10.00512409210205,11.21682357788086,10.231481552124023,10.70777416229248,10.231477737426758],\"y\":[-0.572762668132782,1.4670424461364746,1.4623218774795532,-0.985101580619812,2.585941791534424,-1.5340551137924194,0.516435444355011,-1.1640244722366333,-0.027355985715985298,2.5859522819519043,-0.5852172374725342,2.5859386920928955],\"z\":[-2.073779344558716,-1.0446887016296387,-1.0433259010314941,-2.28202223777771,-1.6627050638198853,-1.328462839126587,-3.2317707538604736,-1.225661277770996,-3.3102431297302246,-1.662721037864685,-1.7123678922653198,-1.6627227067947388],\"type\":\"scatter3d\"}],                        {\"template\":{\"data\":{\"histogram2dcontour\":[{\"type\":\"histogram2dcontour\",\"colorbar\":{\"outlinewidth\":0,\"ticks\":\"\"},\"colorscale\":[[0.0,\"#0d0887\"],[0.1111111111111111,\"#46039f\"],[0.2222222222222222,\"#7201a8\"],[0.3333333333333333,\"#9c179e\"],[0.4444444444444444,\"#bd3786\"],[0.5555555555555556,\"#d8576b\"],[0.6666666666666666,\"#ed7953\"],[0.7777777777777778,\"#fb9f3a\"],[0.8888888888888888,\"#fdca26\"],[1.0,\"#f0f921\"]]}],\"choropleth\":[{\"type\":\"choropleth\",\"colorbar\":{\"outlinewidth\":0,\"ticks\":\"\"}}],\"histogram2d\":[{\"type\":\"histogram2d\",\"colorbar\":{\"outlinewidth\":0,\"ticks\":\"\"},\"colorscale\":[[0.0,\"#0d0887\"],[0.1111111111111111,\"#46039f\"],[0.2222222222222222,\"#7201a8\"],[0.3333333333333333,\"#9c179e\"],[0.4444444444444444,\"#bd3786\"],[0.5555555555555556,\"#d8576b\"],[0.6666666666666666,\"#ed7953\"],[0.7777777777777778,\"#fb9f3a\"],[0.8888888888888888,\"#fdca26\"],[1.0,\"#f0f921\"]]}],\"heatmap\":[{\"type\":\"heatmap\",\"colorbar\":{\"outlinewidth\":0,\"ticks\":\"\"},\"colorscale\":[[0.0,\"#0d0887\"],[0.1111111111111111,\"#46039f\"],[0.2222222222222222,\"#7201a8\"],[0.3333333333333333,\"#9c179e\"],[0.4444444444444444,\"#bd3786\"],[0.5555555555555556,\"#d8576b\"],[0.6666666666666666,\"#ed7953\"],[0.7777777777777778,\"#fb9f3a\"],[0.8888888888888888,\"#fdca26\"],[1.0,\"#f0f921\"]]}],\"heatmapgl\":[{\"type\":\"heatmapgl\",\"colorbar\":{\"outlinewidth\":0,\"ticks\":\"\"},\"colorscale\":[[0.0,\"#0d0887\"],[0.1111111111111111,\"#46039f\"],[0.2222222222222222,\"#7201a8\"],[0.3333333333333333,\"#9c179e\"],[0.4444444444444444,\"#bd3786\"],[0.5555555555555556,\"#d8576b\"],[0.6666666666666666,\"#ed7953\"],[0.7777777777777778,\"#fb9f3a\"],[0.8888888888888888,\"#fdca26\"],[1.0,\"#f0f921\"]]}],\"contourcarpet\":[{\"type\":\"contourcarpet\",\"colorbar\":{\"outlinewidth\":0,\"ticks\":\"\"}}],\"contour\":[{\"type\":\"contour\",\"colorbar\":{\"outlinewidth\":0,\"ticks\":\"\"},\"colorscale\":[[0.0,\"#0d0887\"],[0.1111111111111111,\"#46039f\"],[0.2222222222222222,\"#7201a8\"],[0.3333333333333333,\"#9c179e\"],[0.4444444444444444,\"#bd3786\"],[0.5555555555555556,\"#d8576b\"],[0.6666666666666666,\"#ed7953\"],[0.7777777777777778,\"#fb9f3a\"],[0.8888888888888888,\"#fdca26\"],[1.0,\"#f0f921\"]]}],\"surface\":[{\"type\":\"surface\",\"colorbar\":{\"outlinewidth\":0,\"ticks\":\"\"},\"colorscale\":[[0.0,\"#0d0887\"],[0.1111111111111111,\"#46039f\"],[0.2222222222222222,\"#7201a8\"],[0.3333333333333333,\"#9c179e\"],[0.4444444444444444,\"#bd3786\"],[0.5555555555555556,\"#d8576b\"],[0.6666666666666666,\"#ed7953\"],[0.7777777777777778,\"#fb9f3a\"],[0.8888888888888888,\"#fdca26\"],[1.0,\"#f0f921\"]]}],\"mesh3d\":[{\"type\":\"mesh3d\",\"colorbar\":{\"outlinewidth\":0,\"ticks\":\"\"}}],\"scatter\":[{\"fillpattern\":{\"fillmode\":\"overlay\",\"size\":10,\"solidity\":0.2},\"type\":\"scatter\"}],\"parcoords\":[{\"type\":\"parcoords\",\"line\":{\"colorbar\":{\"outlinewidth\":0,\"ticks\":\"\"}}}],\"scatterpolargl\":[{\"type\":\"scatterpolargl\",\"marker\":{\"colorbar\":{\"outlinewidth\":0,\"ticks\":\"\"}}}],\"bar\":[{\"error_x\":{\"color\":\"#2a3f5f\"},\"error_y\":{\"color\":\"#2a3f5f\"},\"marker\":{\"line\":{\"color\":\"#E5ECF6\",\"width\":0.5},\"pattern\":{\"fillmode\":\"overlay\",\"size\":10,\"solidity\":0.2}},\"type\":\"bar\"}],\"scattergeo\":[{\"type\":\"scattergeo\",\"marker\":{\"colorbar\":{\"outlinewidth\":0,\"ticks\":\"\"}}}],\"scatterpolar\":[{\"type\":\"scatterpolar\",\"marker\":{\"colorbar\":{\"outlinewidth\":0,\"ticks\":\"\"}}}],\"histogram\":[{\"marker\":{\"pattern\":{\"fillmode\":\"overlay\",\"size\":10,\"solidity\":0.2}},\"type\":\"histogram\"}],\"scattergl\":[{\"type\":\"scattergl\",\"marker\":{\"colorbar\":{\"outlinewidth\":0,\"ticks\":\"\"}}}],\"scatter3d\":[{\"type\":\"scatter3d\",\"line\":{\"colorbar\":{\"outlinewidth\":0,\"ticks\":\"\"}},\"marker\":{\"colorbar\":{\"outlinewidth\":0,\"ticks\":\"\"}}}],\"scattermapbox\":[{\"type\":\"scattermapbox\",\"marker\":{\"colorbar\":{\"outlinewidth\":0,\"ticks\":\"\"}}}],\"scatterternary\":[{\"type\":\"scatterternary\",\"marker\":{\"colorbar\":{\"outlinewidth\":0,\"ticks\":\"\"}}}],\"scattercarpet\":[{\"type\":\"scattercarpet\",\"marker\":{\"colorbar\":{\"outlinewidth\":0,\"ticks\":\"\"}}}],\"carpet\":[{\"aaxis\":{\"endlinecolor\":\"#2a3f5f\",\"gridcolor\":\"white\",\"linecolor\":\"white\",\"minorgridcolor\":\"white\",\"startlinecolor\":\"#2a3f5f\"},\"baxis\":{\"endlinecolor\":\"#2a3f5f\",\"gridcolor\":\"white\",\"linecolor\":\"white\",\"minorgridcolor\":\"white\",\"startlinecolor\":\"#2a3f5f\"},\"type\":\"carpet\"}],\"table\":[{\"cells\":{\"fill\":{\"color\":\"#EBF0F8\"},\"line\":{\"color\":\"white\"}},\"header\":{\"fill\":{\"color\":\"#C8D4E3\"},\"line\":{\"color\":\"white\"}},\"type\":\"table\"}],\"barpolar\":[{\"marker\":{\"line\":{\"color\":\"#E5ECF6\",\"width\":0.5},\"pattern\":{\"fillmode\":\"overlay\",\"size\":10,\"solidity\":0.2}},\"type\":\"barpolar\"}],\"pie\":[{\"automargin\":true,\"type\":\"pie\"}]},\"layout\":{\"autotypenumbers\":\"strict\",\"colorway\":[\"#636efa\",\"#EF553B\",\"#00cc96\",\"#ab63fa\",\"#FFA15A\",\"#19d3f3\",\"#FF6692\",\"#B6E880\",\"#FF97FF\",\"#FECB52\"],\"font\":{\"color\":\"#2a3f5f\"},\"hovermode\":\"closest\",\"hoverlabel\":{\"align\":\"left\"},\"paper_bgcolor\":\"white\",\"plot_bgcolor\":\"#E5ECF6\",\"polar\":{\"bgcolor\":\"#E5ECF6\",\"angularaxis\":{\"gridcolor\":\"white\",\"linecolor\":\"white\",\"ticks\":\"\"},\"radialaxis\":{\"gridcolor\":\"white\",\"linecolor\":\"white\",\"ticks\":\"\"}},\"ternary\":{\"bgcolor\":\"#E5ECF6\",\"aaxis\":{\"gridcolor\":\"white\",\"linecolor\":\"white\",\"ticks\":\"\"},\"baxis\":{\"gridcolor\":\"white\",\"linecolor\":\"white\",\"ticks\":\"\"},\"caxis\":{\"gridcolor\":\"white\",\"linecolor\":\"white\",\"ticks\":\"\"}},\"coloraxis\":{\"colorbar\":{\"outlinewidth\":0,\"ticks\":\"\"}},\"colorscale\":{\"sequential\":[[0.0,\"#0d0887\"],[0.1111111111111111,\"#46039f\"],[0.2222222222222222,\"#7201a8\"],[0.3333333333333333,\"#9c179e\"],[0.4444444444444444,\"#bd3786\"],[0.5555555555555556,\"#d8576b\"],[0.6666666666666666,\"#ed7953\"],[0.7777777777777778,\"#fb9f3a\"],[0.8888888888888888,\"#fdca26\"],[1.0,\"#f0f921\"]],\"sequentialminus\":[[0.0,\"#0d0887\"],[0.1111111111111111,\"#46039f\"],[0.2222222222222222,\"#7201a8\"],[0.3333333333333333,\"#9c179e\"],[0.4444444444444444,\"#bd3786\"],[0.5555555555555556,\"#d8576b\"],[0.6666666666666666,\"#ed7953\"],[0.7777777777777778,\"#fb9f3a\"],[0.8888888888888888,\"#fdca26\"],[1.0,\"#f0f921\"]],\"diverging\":[[0,\"#8e0152\"],[0.1,\"#c51b7d\"],[0.2,\"#de77ae\"],[0.3,\"#f1b6da\"],[0.4,\"#fde0ef\"],[0.5,\"#f7f7f7\"],[0.6,\"#e6f5d0\"],[0.7,\"#b8e186\"],[0.8,\"#7fbc41\"],[0.9,\"#4d9221\"],[1,\"#276419\"]]},\"xaxis\":{\"gridcolor\":\"white\",\"linecolor\":\"white\",\"ticks\":\"\",\"title\":{\"standoff\":15},\"zerolinecolor\":\"white\",\"automargin\":true,\"zerolinewidth\":2},\"yaxis\":{\"gridcolor\":\"white\",\"linecolor\":\"white\",\"ticks\":\"\",\"title\":{\"standoff\":15},\"zerolinecolor\":\"white\",\"automargin\":true,\"zerolinewidth\":2},\"scene\":{\"xaxis\":{\"backgroundcolor\":\"#E5ECF6\",\"gridcolor\":\"white\",\"linecolor\":\"white\",\"showbackground\":true,\"ticks\":\"\",\"zerolinecolor\":\"white\",\"gridwidth\":2},\"yaxis\":{\"backgroundcolor\":\"#E5ECF6\",\"gridcolor\":\"white\",\"linecolor\":\"white\",\"showbackground\":true,\"ticks\":\"\",\"zerolinecolor\":\"white\",\"gridwidth\":2},\"zaxis\":{\"backgroundcolor\":\"#E5ECF6\",\"gridcolor\":\"white\",\"linecolor\":\"white\",\"showbackground\":true,\"ticks\":\"\",\"zerolinecolor\":\"white\",\"gridwidth\":2}},\"shapedefaults\":{\"line\":{\"color\":\"#2a3f5f\"}},\"annotationdefaults\":{\"arrowcolor\":\"#2a3f5f\",\"arrowhead\":0,\"arrowwidth\":1},\"geo\":{\"bgcolor\":\"white\",\"landcolor\":\"#E5ECF6\",\"subunitcolor\":\"white\",\"showland\":true,\"showlakes\":true,\"lakecolor\":\"white\"},\"title\":{\"x\":0.05},\"mapbox\":{\"style\":\"light\"}}},\"scene\":{\"domain\":{\"x\":[0.0,1.0],\"y\":[0.0,1.0]},\"xaxis\":{\"title\":{\"text\":\"0\"}},\"yaxis\":{\"title\":{\"text\":\"1\"}},\"zaxis\":{\"title\":{\"text\":\"2\"}}},\"legend\":{\"title\":{\"text\":\"Dominant_Topic\"},\"tracegroupgap\":0},\"title\":{\"text\":\"3d TSNE Plot for Topic Model\"},\"height\":800,\"width\":900},                        {\"responsive\": true}                    ).then(function(){\n",
       "                            \n",
       "var gd = document.getElementById('94a365ff-de42-4560-9d32-8e7ab8e6d314');\n",
       "var x = new MutationObserver(function (mutations, observer) {{\n",
       "        var display = window.getComputedStyle(gd).display;\n",
       "        if (!display || display === 'none') {{\n",
       "            console.log([gd, 'removed!']);\n",
       "            Plotly.purge(gd);\n",
       "            observer.disconnect();\n",
       "        }}\n",
       "}});\n",
       "\n",
       "// Listen for the removal of the full notebook cells\n",
       "var notebookContainer = gd.closest('#notebook-container');\n",
       "if (notebookContainer) {{\n",
       "    x.observe(notebookContainer, {childList: true});\n",
       "}}\n",
       "\n",
       "// Listen for the clearing of the current output cell\n",
       "var outputEl = gd.closest('.output');\n",
       "if (outputEl) {{\n",
       "    x.observe(outputEl, {childList: true});\n",
       "}}\n",
       "\n",
       "                        })                };                });            </script>        </div>"
      ]
     },
     "metadata": {},
     "output_type": "display_data"
    }
   ],
   "source": [
    "plot_model(lda, plot = 'tsne')"
   ]
  },
  {
   "cell_type": "markdown",
   "id": "a9ace867",
   "metadata": {},
   "source": [
    "### [UMAP: Uniform Manifold Approximation and Projection for Dimension Reduction](https://umap-learn.readthedocs.io/en/latest/index.html)"
   ]
  },
  {
   "cell_type": "code",
   "execution_count": 27,
   "id": "b2bfa0ff",
   "metadata": {},
   "outputs": [
    {
     "data": {
      "text/html": [
       "        <script type=\"text/javascript\">\n",
       "        window.PlotlyConfig = {MathJaxConfig: 'local'};\n",
       "        if (window.MathJax) {MathJax.Hub.Config({SVG: {font: \"STIX-Web\"}});}\n",
       "        if (typeof require !== 'undefined') {\n",
       "        require.undef(\"plotly\");\n",
       "        requirejs.config({\n",
       "            paths: {\n",
       "                'plotly': ['https://cdn.plot.ly/plotly-2.11.1.min']\n",
       "            }\n",
       "        });\n",
       "        require(['plotly'], function(Plotly) {\n",
       "            window._Plotly = Plotly;\n",
       "        });\n",
       "        }\n",
       "        </script>\n",
       "        "
      ]
     },
     "metadata": {},
     "output_type": "display_data"
    },
    {
     "data": {
      "image/png": "[encoded data removed]",
      "text/plain": [
       "<Figure size 720x432 with 1 Axes>"
      ]
     },
     "metadata": {},
     "output_type": "display_data"
    }
   ],
   "source": [
    "plot_model(lda, plot = 'umap')"
   ]
  },
  {
   "cell_type": "code",
   "execution_count": 28,
   "id": "a7386533",
   "metadata": {},
   "outputs": [
    {
     "data": {
      "application/vnd.jupyter.widget-view+json": {
       "model_id": "5d1a8c364a2045a1810197f24d77db14",
       "version_major": 2,
       "version_minor": 0
      },
      "text/plain": [
       "interactive(children=(ToggleButtons(description='Plot Type:', icons=('',), options=(('Frequency Plot', 'freque…"
      ]
     },
     "metadata": {},
     "output_type": "display_data"
    }
   ],
   "source": [
    "evaluate_model(lda)"
   ]
  },
  {
   "cell_type": "code",
   "execution_count": 29,
   "id": "f45a40b0",
   "metadata": {},
   "outputs": [
    {
     "name": "stdout",
     "output_type": "stream",
     "text": [
      "Model Succesfully Saved\n"
     ]
    },
    {
     "data": {
      "text/plain": [
       "(NMF(alpha=0.0, beta_loss='frobenius', init='nndsvd', l1_ratio=0.0, max_iter=200,\n",
       "     n_components=4, random_state=101, shuffle=False, solver='cd', tol=0.0001,\n",
       "     verbose=0),\n",
       " './models/NLP01.pkl')"
      ]
     },
     "execution_count": 29,
     "metadata": {},
     "output_type": "execute_result"
    }
   ],
   "source": [
    "save_model(lda,'./models/NLP01')"
   ]
  },
  {
   "cell_type": "code",
   "execution_count": 30,
   "id": "392a103d",
   "metadata": {},
   "outputs": [
    {
     "name": "stdout",
     "output_type": "stream",
     "text": [
      "Model Sucessfully Loaded\n"
     ]
    }
   ],
   "source": [
    "saved_lda = load_model('./models/NLP01')"
   ]
  },
  {
   "cell_type": "code",
   "execution_count": 31,
   "id": "841c37bd",
   "metadata": {},
   "outputs": [
    {
     "name": "stdout",
     "output_type": "stream",
     "text": [
      "NMF(alpha=0.0, beta_loss='frobenius', init='nndsvd', l1_ratio=0.0, max_iter=200,\n",
      "    n_components=4, random_state=101, shuffle=False, solver='cd', tol=0.0001,\n",
      "    verbose=0)\n"
     ]
    }
   ],
   "source": [
    "print(saved_lda)"
   ]
  },
  {
   "cell_type": "code",
   "execution_count": 32,
   "id": "85ff8183",
   "metadata": {},
   "outputs": [
    {
     "name": "stdout",
     "output_type": "stream",
     "text": [
      "[2022-04-17 20:19:42 -0300] [39284] [INFO] Starting gunicorn 20.1.0\n",
      "[2022-04-17 20:19:42 -0300] [39284] [ERROR] Connection in use: ('127.0.0.1', 5000)\n",
      "[2022-04-17 20:19:42 -0300] [39284] [ERROR] Retrying in 1 second.\n",
      "[2022-04-17 20:19:43 -0300] [39284] [ERROR] Connection in use: ('127.0.0.1', 5000)\n",
      "[2022-04-17 20:19:43 -0300] [39284] [ERROR] Retrying in 1 second.\n",
      "[2022-04-17 20:19:44 -0300] [39284] [ERROR] Connection in use: ('127.0.0.1', 5000)\n",
      "[2022-04-17 20:19:44 -0300] [39284] [ERROR] Retrying in 1 second.\n",
      "[2022-04-17 20:19:45 -0300] [39284] [ERROR] Connection in use: ('127.0.0.1', 5000)\n",
      "[2022-04-17 20:19:45 -0300] [39284] [ERROR] Retrying in 1 second.\n",
      "[2022-04-17 20:19:46 -0300] [39284] [ERROR] Connection in use: ('127.0.0.1', 5000)\n",
      "[2022-04-17 20:19:46 -0300] [39284] [ERROR] Retrying in 1 second.\n",
      "[2022-04-17 20:19:47 -0300] [39284] [ERROR] Can't connect to ('127.0.0.1', 5000)\n",
      "Running the mlflow server failed. Please see the logs above for details.\n"
     ]
    }
   ],
   "source": [
    "!mlflow ui "
   ]
  },
  {
   "cell_type": "markdown",
   "id": "b85738f7",
   "metadata": {},
   "source": [
    "________________________________"
   ]
  }
 ],
 "metadata": {
  "kernelspec": {
   "display_name": "Python 3 (ipykernel)",
   "language": "python",
   "name": "python3"
  },
  "language_info": {
   "codemirror_mode": {
    "name": "ipython",
    "version": 3
   },
   "file_extension": ".py",
   "mimetype": "text/x-python",
   "name": "python",
   "nbconvert_exporter": "python",
   "pygments_lexer": "ipython3",
   "version": "3.9.12"
  }
 },
 "nbformat": 4,
 "nbformat_minor": 5
}
