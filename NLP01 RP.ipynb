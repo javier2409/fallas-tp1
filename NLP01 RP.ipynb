{
 "cells": [
  {
   "cell_type": "code",
   "execution_count": 27,
   "id": "592c7b5c",
   "metadata": {},
   "outputs": [],
   "source": [
    "import warnings\n",
    "warnings.filterwarnings('ignore')"
   ]
  },
  {
   "cell_type": "code",
   "execution_count": 28,
   "id": "6a6cf55d",
   "metadata": {},
   "outputs": [],
   "source": [
    "import pandas as pd"
   ]
  },
  {
   "cell_type": "code",
   "execution_count": 29,
   "id": "2c27f2e4",
   "metadata": {},
   "outputs": [],
   "source": [
    "import numpy as np"
   ]
  },
  {
   "cell_type": "code",
   "execution_count": 30,
   "id": "b172c4ce",
   "metadata": {},
   "outputs": [],
   "source": [
    "import pycaret as pc"
   ]
  },
  {
   "cell_type": "code",
   "execution_count": 31,
   "id": "e26aed0b",
   "metadata": {},
   "outputs": [],
   "source": [
    "import sklearn as sk"
   ]
  },
  {
   "cell_type": "code",
   "execution_count": 32,
   "id": "d88eab67",
   "metadata": {},
   "outputs": [],
   "source": [
    "from pycaret.nlp import *"
   ]
  },
  {
   "cell_type": "code",
   "execution_count": 33,
   "id": "b9783cf9",
   "metadata": {},
   "outputs": [
    {
     "data": {
      "text/plain": [
       "'1.22.3'"
      ]
     },
     "execution_count": 33,
     "metadata": {},
     "output_type": "execute_result"
    }
   ],
   "source": [
    "np.__version__"
   ]
  },
  {
   "cell_type": "code",
   "execution_count": 34,
   "id": "9213a461",
   "metadata": {},
   "outputs": [
    {
     "data": {
      "text/plain": [
       "'1.3.5'"
      ]
     },
     "execution_count": 34,
     "metadata": {},
     "output_type": "execute_result"
    }
   ],
   "source": [
    "pd.__version__"
   ]
  },
  {
   "cell_type": "code",
   "execution_count": 35,
   "id": "6cc964b0",
   "metadata": {},
   "outputs": [
    {
     "data": {
      "text/plain": [
       "'2.3.10'"
      ]
     },
     "execution_count": 35,
     "metadata": {},
     "output_type": "execute_result"
    }
   ],
   "source": [
    "pc.__version__"
   ]
  },
  {
   "cell_type": "code",
   "execution_count": 36,
   "id": "d87e11de",
   "metadata": {},
   "outputs": [
    {
     "data": {
      "text/plain": [
       "'0.23.2'"
      ]
     },
     "execution_count": 36,
     "metadata": {},
     "output_type": "execute_result"
    }
   ],
   "source": [
    "sk.__version__"
   ]
  },
  {
   "cell_type": "code",
   "execution_count": 37,
   "id": "b0da1c9a",
   "metadata": {},
   "outputs": [],
   "source": [
    "pd.set_option('display.max_columns', None)"
   ]
  },
  {
   "cell_type": "code",
   "execution_count": 38,
   "id": "2144cf21",
   "metadata": {},
   "outputs": [
    {
     "name": "stdout",
     "output_type": "stream",
     "text": [
      "Tokenization took: 23.62 ms\n",
      "Type conversion took: 31.74 ms\n",
      "Parser memory cleanup took: 0.00 ms\n"
     ]
    }
   ],
   "source": [
    "data = pd.read_csv(\"./kiva.csv\", sep=',', decimal='.', verbose= True, engine='c') "
   ]
  },
  {
   "cell_type": "code",
   "execution_count": 39,
   "id": "29221518",
   "metadata": {},
   "outputs": [
    {
     "data": {
      "text/plain": [
       "(6818, 7)"
      ]
     },
     "execution_count": 39,
     "metadata": {},
     "output_type": "execute_result"
    }
   ],
   "source": [
    "data.shape"
   ]
  },
  {
   "cell_type": "code",
   "execution_count": 40,
   "id": "623b9caa",
   "metadata": {},
   "outputs": [
    {
     "data": {
      "text/html": [
       "<div>\n",
       "<style scoped>\n",
       "    .dataframe tbody tr th:only-of-type {\n",
       "        vertical-align: middle;\n",
       "    }\n",
       "\n",
       "    .dataframe tbody tr th {\n",
       "        vertical-align: top;\n",
       "    }\n",
       "\n",
       "    .dataframe thead th {\n",
       "        text-align: right;\n",
       "    }\n",
       "</style>\n",
       "<table border=\"1\" class=\"dataframe\">\n",
       "  <thead>\n",
       "    <tr style=\"text-align: right;\">\n",
       "      <th></th>\n",
       "      <th>country</th>\n",
       "      <th>en</th>\n",
       "      <th>gender</th>\n",
       "      <th>loan_amount</th>\n",
       "      <th>nonpayment</th>\n",
       "      <th>sector</th>\n",
       "      <th>status</th>\n",
       "    </tr>\n",
       "  </thead>\n",
       "  <tbody>\n",
       "    <tr>\n",
       "      <th>0</th>\n",
       "      <td>Dominican Republic</td>\n",
       "      <td>\"Banco Esperanza\" is a group of 10 women looki...</td>\n",
       "      <td>F</td>\n",
       "      <td>1225</td>\n",
       "      <td>partner</td>\n",
       "      <td>Retail</td>\n",
       "      <td>0</td>\n",
       "    </tr>\n",
       "    <tr>\n",
       "      <th>1</th>\n",
       "      <td>Dominican Republic</td>\n",
       "      <td>\"Caminemos Hacia Adelante\" or \"Walking Forward...</td>\n",
       "      <td>F</td>\n",
       "      <td>1975</td>\n",
       "      <td>lender</td>\n",
       "      <td>Clothing</td>\n",
       "      <td>0</td>\n",
       "    </tr>\n",
       "    <tr>\n",
       "      <th>2</th>\n",
       "      <td>Dominican Republic</td>\n",
       "      <td>\"Creciendo Por La Union\" is a group of 10 peop...</td>\n",
       "      <td>F</td>\n",
       "      <td>2175</td>\n",
       "      <td>partner</td>\n",
       "      <td>Clothing</td>\n",
       "      <td>0</td>\n",
       "    </tr>\n",
       "    <tr>\n",
       "      <th>3</th>\n",
       "      <td>Dominican Republic</td>\n",
       "      <td>\"Cristo Vive\" (\"Christ lives\" is a group of 10...</td>\n",
       "      <td>F</td>\n",
       "      <td>1425</td>\n",
       "      <td>partner</td>\n",
       "      <td>Clothing</td>\n",
       "      <td>0</td>\n",
       "    </tr>\n",
       "    <tr>\n",
       "      <th>4</th>\n",
       "      <td>Dominican Republic</td>\n",
       "      <td>\"Cristo Vive\" is a large group of 35 people, 2...</td>\n",
       "      <td>F</td>\n",
       "      <td>4025</td>\n",
       "      <td>partner</td>\n",
       "      <td>Food</td>\n",
       "      <td>0</td>\n",
       "    </tr>\n",
       "  </tbody>\n",
       "</table>\n",
       "</div>"
      ],
      "text/plain": [
       "              country                                                 en  \\\n",
       "0  Dominican Republic  \"Banco Esperanza\" is a group of 10 women looki...   \n",
       "1  Dominican Republic  \"Caminemos Hacia Adelante\" or \"Walking Forward...   \n",
       "2  Dominican Republic  \"Creciendo Por La Union\" is a group of 10 peop...   \n",
       "3  Dominican Republic  \"Cristo Vive\" (\"Christ lives\" is a group of 10...   \n",
       "4  Dominican Republic  \"Cristo Vive\" is a large group of 35 people, 2...   \n",
       "\n",
       "  gender  loan_amount nonpayment    sector  status  \n",
       "0      F         1225    partner    Retail       0  \n",
       "1      F         1975     lender  Clothing       0  \n",
       "2      F         2175    partner  Clothing       0  \n",
       "3      F         1425    partner  Clothing       0  \n",
       "4      F         4025    partner      Food       0  "
      ]
     },
     "execution_count": 40,
     "metadata": {},
     "output_type": "execute_result"
    }
   ],
   "source": [
    "data.head()"
   ]
  },
  {
   "cell_type": "code",
   "execution_count": 41,
   "id": "289bc422",
   "metadata": {},
   "outputs": [],
   "source": [
    "data = data.sample(1000, random_state=786).reset_index(drop=True)"
   ]
  },
  {
   "cell_type": "code",
   "execution_count": 42,
   "id": "7662b5b7",
   "metadata": {},
   "outputs": [
    {
     "data": {
      "text/plain": [
       "(1000, 7)"
      ]
     },
     "execution_count": 42,
     "metadata": {},
     "output_type": "execute_result"
    }
   ],
   "source": [
    "data.shape"
   ]
  },
  {
   "cell_type": "code",
   "execution_count": 43,
   "id": "34e732d7",
   "metadata": {},
   "outputs": [
    {
     "data": {
      "text/html": [
       "<style type=\"text/css\">\n",
       "</style>\n",
       "<table id=\"T_b8100_\">\n",
       "  <thead>\n",
       "    <tr>\n",
       "      <th class=\"col_heading level0 col0\" >Description</th>\n",
       "      <th class=\"col_heading level0 col1\" >Value</th>\n",
       "    </tr>\n",
       "  </thead>\n",
       "  <tbody>\n",
       "    <tr>\n",
       "      <td id=\"T_b8100_row0_col0\" class=\"data row0 col0\" >session_id</td>\n",
       "      <td id=\"T_b8100_row0_col1\" class=\"data row0 col1\" >101</td>\n",
       "    </tr>\n",
       "    <tr>\n",
       "      <td id=\"T_b8100_row1_col0\" class=\"data row1 col0\" >Documents</td>\n",
       "      <td id=\"T_b8100_row1_col1\" class=\"data row1 col1\" >1000</td>\n",
       "    </tr>\n",
       "    <tr>\n",
       "      <td id=\"T_b8100_row2_col0\" class=\"data row2 col0\" >Vocab Size</td>\n",
       "      <td id=\"T_b8100_row2_col1\" class=\"data row2 col1\" >4636</td>\n",
       "    </tr>\n",
       "    <tr>\n",
       "      <td id=\"T_b8100_row3_col0\" class=\"data row3 col0\" >Custom Stopwords</td>\n",
       "      <td id=\"T_b8100_row3_col1\" class=\"data row3 col1\" >True</td>\n",
       "    </tr>\n",
       "  </tbody>\n",
       "</table>\n"
      ],
      "text/plain": [
       "<pandas.io.formats.style.Styler at 0x7fcd069224c0>"
      ]
     },
     "metadata": {},
     "output_type": "display_data"
    }
   ],
   "source": [
    "exp_nlp101 = setup(data = data, \n",
    "                   target = 'en', \n",
    "                   custom_stopwords = ['loan', 'income', 'usd', 'many', 'also', 'make', 'business', 'buy', \n",
    "                                       'sell', 'purchase','year', 'people', 'able', 'enable', 'old', 'woman',\n",
    "                                       'child', 'school'],\n",
    "                   session_id = 101,\n",
    "                   log_experiment = True,\n",
    "                   experiment_name = 'EX001')"
   ]
  },
  {
   "cell_type": "raw",
   "id": "04563699",
   "metadata": {},
   "source": [
    "data: pandas.Dataframe\n",
    "target: str - name of column containing text\n",
    "custom_stopwords: list\n",
    "html: bool, default = True - prevents runtime display of monitor\n",
    "session_id: int\n",
    "log_experiment: bool - MLFlow \n",
    "experiment_name: str \n",
    "experiment_custom_tags: dict - passed to the mlflow.set_tags to add new custom tags for the experiment\n",
    "log_plots: bool - certain plots are logged automatically in the MLFlow   \n",
    "log_data: bool - dataset is logged on the MLflow\n",
    "verbose: bool, default = True\n",
    "    Returns: Global variables that can be changed using the set_config function    "
   ]
  },
  {
   "cell_type": "markdown",
   "id": "bc035586",
   "metadata": {},
   "source": [
    "### [Evaluate Topic Models: Latent Dirichlet Allocation (LDA)](https://towardsdatascience.com/evaluate-topic-model-in-python-latent-dirichlet-allocation-lda-7d57484bb5d0)"
   ]
  },
  {
   "cell_type": "markdown",
   "id": "05ef2547",
   "metadata": {},
   "source": [
    "### [Evaluating Topic Models](https://www.youtube.com/watch?v=UkmIljRIG_M)"
   ]
  },
  {
   "cell_type": "markdown",
   "id": "878c2ac3",
   "metadata": {},
   "source": [
    "### [Latent Dirichlet Allocation](https://radimrehurek.com/gensim/models/ldamodel.html)"
   ]
  },
  {
   "cell_type": "code",
   "execution_count": 44,
   "id": "56a5ccec",
   "metadata": {},
   "outputs": [],
   "source": [
    "lda = create_model('rp', num_topics = 4, multi_core = True)"
   ]
  },
  {
   "cell_type": "raw",
   "id": "8b0c3ccc",
   "metadata": {},
   "source": [
    "Models available in the model library (ID - Name):\n",
    "'lda' - Latent Dirichlet Allocation\n",
    "'lsi' - Latent Semantic Indexing\n",
    "'hdp' - Hierarchical Dirichlet Process\n",
    "'rp'  - Random Projections\n",
    "'nmf' - Non-Negative Matrix Factorization"
   ]
  },
  {
   "cell_type": "raw",
   "id": "20314d7b",
   "metadata": {},
   "source": [
    "multi_core: bool\n",
    "topic_num: str - Topic number to be passed as a string\n",
    "save: string - Plot is saved as png file in the specified directory when the path to the directory is specified\n",
    "system: bool - Must remain True all times\n",
    "display_format: str - To display plots in Streamlit (https://www.streamlit.io/), set this to ‘streamlit’.    "
   ]
  },
  {
   "cell_type": "code",
   "execution_count": 45,
   "id": "60bb22d8",
   "metadata": {},
   "outputs": [
    {
     "name": "stdout",
     "output_type": "stream",
     "text": [
      "RpModel(num_terms=4636, num_topics=4)\n"
     ]
    }
   ],
   "source": [
    "print(lda)"
   ]
  },
  {
   "cell_type": "code",
   "execution_count": 46,
   "id": "4d32dc82",
   "metadata": {},
   "outputs": [],
   "source": [
    "lda_results = assign_model(lda)"
   ]
  },
  {
   "cell_type": "code",
   "execution_count": 47,
   "id": "1d931907",
   "metadata": {},
   "outputs": [
    {
     "data": {
      "text/html": [
       "<div>\n",
       "<style scoped>\n",
       "    .dataframe tbody tr th:only-of-type {\n",
       "        vertical-align: middle;\n",
       "    }\n",
       "\n",
       "    .dataframe tbody tr th {\n",
       "        vertical-align: top;\n",
       "    }\n",
       "\n",
       "    .dataframe thead th {\n",
       "        text-align: right;\n",
       "    }\n",
       "</style>\n",
       "<table border=\"1\" class=\"dataframe\">\n",
       "  <thead>\n",
       "    <tr style=\"text-align: right;\">\n",
       "      <th></th>\n",
       "      <th>country</th>\n",
       "      <th>en</th>\n",
       "      <th>gender</th>\n",
       "      <th>loan_amount</th>\n",
       "      <th>nonpayment</th>\n",
       "      <th>sector</th>\n",
       "      <th>status</th>\n",
       "      <th>Topic_0</th>\n",
       "      <th>Topic_1</th>\n",
       "      <th>Topic_2</th>\n",
       "      <th>Topic_3</th>\n",
       "      <th>Dominant_Topic</th>\n",
       "    </tr>\n",
       "  </thead>\n",
       "  <tbody>\n",
       "    <tr>\n",
       "      <th>0</th>\n",
       "      <td>Kenya</td>\n",
       "      <td>praxide marry primary train tailor operate sma...</td>\n",
       "      <td>F</td>\n",
       "      <td>75</td>\n",
       "      <td>partner</td>\n",
       "      <td>Services</td>\n",
       "      <td>0</td>\n",
       "      <td>1.5</td>\n",
       "      <td>-0.5</td>\n",
       "      <td>-7.5</td>\n",
       "      <td>-4.5</td>\n",
       "      <td>Topic 0</td>\n",
       "    </tr>\n",
       "    <tr>\n",
       "      <th>1</th>\n",
       "      <td>Kenya</td>\n",
       "      <td>gynaecology practitioner run live wife biologi...</td>\n",
       "      <td>M</td>\n",
       "      <td>1200</td>\n",
       "      <td>partner</td>\n",
       "      <td>Health</td>\n",
       "      <td>0</td>\n",
       "      <td>0.5</td>\n",
       "      <td>-2.5</td>\n",
       "      <td>-3.5</td>\n",
       "      <td>1.5</td>\n",
       "      <td>Topic 3</td>\n",
       "    </tr>\n",
       "    <tr>\n",
       "      <th>2</th>\n",
       "      <td>Dominican Republic</td>\n",
       "      <td>live boy girl range new use clothing support f...</td>\n",
       "      <td>F</td>\n",
       "      <td>150</td>\n",
       "      <td>partner</td>\n",
       "      <td>Clothing</td>\n",
       "      <td>0</td>\n",
       "      <td>-1.0</td>\n",
       "      <td>2.0</td>\n",
       "      <td>-2.0</td>\n",
       "      <td>1.0</td>\n",
       "      <td>Topic 1</td>\n",
       "    </tr>\n",
       "    <tr>\n",
       "      <th>3</th>\n",
       "      <td>Kenya</td>\n",
       "      <td>phanice marry daughter secondary boy primary f...</td>\n",
       "      <td>F</td>\n",
       "      <td>150</td>\n",
       "      <td>lender</td>\n",
       "      <td>Services</td>\n",
       "      <td>1</td>\n",
       "      <td>-3.5</td>\n",
       "      <td>-3.5</td>\n",
       "      <td>-1.5</td>\n",
       "      <td>-3.5</td>\n",
       "      <td>Topic 2</td>\n",
       "    </tr>\n",
       "    <tr>\n",
       "      <th>4</th>\n",
       "      <td>Kenya</td>\n",
       "      <td>hotel last get good return competition increas...</td>\n",
       "      <td>F</td>\n",
       "      <td>300</td>\n",
       "      <td>lender</td>\n",
       "      <td>Food</td>\n",
       "      <td>1</td>\n",
       "      <td>1.5</td>\n",
       "      <td>-0.5</td>\n",
       "      <td>0.5</td>\n",
       "      <td>-12.5</td>\n",
       "      <td>Topic 0</td>\n",
       "    </tr>\n",
       "  </tbody>\n",
       "</table>\n",
       "</div>"
      ],
      "text/plain": [
       "              country                                                 en  \\\n",
       "0               Kenya  praxide marry primary train tailor operate sma...   \n",
       "1               Kenya  gynaecology practitioner run live wife biologi...   \n",
       "2  Dominican Republic  live boy girl range new use clothing support f...   \n",
       "3               Kenya  phanice marry daughter secondary boy primary f...   \n",
       "4               Kenya  hotel last get good return competition increas...   \n",
       "\n",
       "  gender  loan_amount nonpayment    sector  status  Topic_0  Topic_1  Topic_2  \\\n",
       "0      F           75    partner  Services       0      1.5     -0.5     -7.5   \n",
       "1      M         1200    partner    Health       0      0.5     -2.5     -3.5   \n",
       "2      F          150    partner  Clothing       0     -1.0      2.0     -2.0   \n",
       "3      F          150     lender  Services       1     -3.5     -3.5     -1.5   \n",
       "4      F          300     lender      Food       1      1.5     -0.5      0.5   \n",
       "\n",
       "   Topic_3 Dominant_Topic  \n",
       "0     -4.5        Topic 0  \n",
       "1      1.5        Topic 3  \n",
       "2      1.0        Topic 1  \n",
       "3     -3.5        Topic 2  \n",
       "4    -12.5        Topic 0  "
      ]
     },
     "execution_count": 47,
     "metadata": {},
     "output_type": "execute_result"
    }
   ],
   "source": [
    "lda_results.head()"
   ]
  },
  {
   "cell_type": "code",
   "execution_count": 48,
   "id": "36a71f3e",
   "metadata": {
    "scrolled": true
   },
   "outputs": [
    {
     "data": {
      "text/html": [
       "        <script type=\"text/javascript\">\n",
       "        window.PlotlyConfig = {MathJaxConfig: 'local'};\n",
       "        if (window.MathJax) {MathJax.Hub.Config({SVG: {font: \"STIX-Web\"}});}\n",
       "        if (typeof require !== 'undefined') {\n",
       "        require.undef(\"plotly\");\n",
       "        requirejs.config({\n",
       "            paths: {\n",
       "                'plotly': ['https://cdn.plot.ly/plotly-2.11.1.min']\n",
       "            }\n",
       "        });\n",
       "        require(['plotly'], function(Plotly) {\n",
       "            window._Plotly = Plotly;\n",
       "        });\n",
       "        }\n",
       "        </script>\n",
       "        "
      ]
     },
     "metadata": {},
     "output_type": "display_data"
    },
    {
     "data": {
      "application/vnd.plotly.v1+json": {
       "config": {
        "linkText": "Export to plot.ly",
        "plotlyServerURL": "https://plot.ly",
        "showLink": true
       },
       "data": [
        {
         "marker": {
          "color": "rgba(255, 153, 51, 0.6)",
          "line": {
           "color": "rgba(255, 153, 51, 1.0)",
           "width": 1
          }
         },
         "name": "count",
         "orientation": "v",
         "text": "",
         "type": "bar",
         "x": [
          "work",
          "use",
          "family",
          "start",
          "small",
          "help",
          "group",
          "live",
          "husband",
          "product",
          "well",
          "increase",
          "home",
          "customer",
          "marry",
          "good",
          "community",
          "need",
          "order",
          "request",
          "member",
          "pay",
          "hope",
          "grow",
          "expand",
          "stock",
          "want",
          "new",
          "time",
          "provide",
          "store",
          "area",
          "go",
          "money",
          "get",
          "rice",
          "support",
          "improve",
          "give",
          "market",
          "entrepreneur",
          "farmer",
          "hard",
          "sale",
          "life",
          "repay",
          "ago",
          "clothing",
          "run",
          "shop",
          "mother",
          "profit",
          "first",
          "client",
          "plan",
          "take",
          "clothe",
          "food",
          "high",
          "capital",
          "service",
          "education",
          "continue",
          "farm",
          "invest",
          "house",
          "item",
          "local",
          "fee",
          "demand",
          "young",
          "large",
          "wife",
          "operate",
          "meet",
          "say",
          "day",
          "receive",
          "month",
          "still",
          "supply",
          "offer",
          "part",
          "age",
          "currently",
          "open",
          "enough",
          "keep",
          "intend",
          "allow",
          "milk",
          "earn",
          "begin",
          "son",
          "land",
          "save",
          "primary",
          "experience",
          "attend",
          "second"
         ],
         "y": [
          602,
          583,
          560,
          483,
          470,
          469,
          465,
          425,
          423,
          390,
          373,
          350,
          320,
          316,
          313,
          313,
          310,
          296,
          285,
          272,
          269,
          266,
          262,
          260,
          256,
          255,
          245,
          243,
          240,
          234,
          233,
          214,
          212,
          211,
          210,
          202,
          202,
          201,
          200,
          200,
          197,
          193,
          191,
          187,
          186,
          185,
          181,
          180,
          177,
          175,
          173,
          172,
          171,
          170,
          170,
          170,
          167,
          167,
          165,
          164,
          163,
          161,
          158,
          151,
          149,
          144,
          142,
          141,
          139,
          139,
          136,
          136,
          135,
          133,
          132,
          132,
          131,
          129,
          127,
          126,
          125,
          125,
          124,
          123,
          117,
          116,
          116,
          115,
          115,
          114,
          114,
          114,
          112,
          112,
          112,
          111,
          107,
          106,
          105,
          105
         ]
        }
       ],
       "layout": {
        "legend": {
         "bgcolor": "#F5F6F9",
         "font": {
          "color": "#4D5663"
         }
        },
        "paper_bgcolor": "#F5F6F9",
        "plot_bgcolor": "#F5F6F9",
        "template": {
         "data": {
          "bar": [
           {
            "error_x": {
             "color": "#2a3f5f"
            },
            "error_y": {
             "color": "#2a3f5f"
            },
            "marker": {
             "line": {
              "color": "#E5ECF6",
              "width": 0.5
             },
             "pattern": {
              "fillmode": "overlay",
              "size": 10,
              "solidity": 0.2
             }
            },
            "type": "bar"
           }
          ],
          "barpolar": [
           {
            "marker": {
             "line": {
              "color": "#E5ECF6",
              "width": 0.5
             },
             "pattern": {
              "fillmode": "overlay",
              "size": 10,
              "solidity": 0.2
             }
            },
            "type": "barpolar"
           }
          ],
          "carpet": [
           {
            "aaxis": {
             "endlinecolor": "#2a3f5f",
             "gridcolor": "white",
             "linecolor": "white",
             "minorgridcolor": "white",
             "startlinecolor": "#2a3f5f"
            },
            "baxis": {
             "endlinecolor": "#2a3f5f",
             "gridcolor": "white",
             "linecolor": "white",
             "minorgridcolor": "white",
             "startlinecolor": "#2a3f5f"
            },
            "type": "carpet"
           }
          ],
          "choropleth": [
           {
            "colorbar": {
             "outlinewidth": 0,
             "ticks": ""
            },
            "type": "choropleth"
           }
          ],
          "contour": [
           {
            "colorbar": {
             "outlinewidth": 0,
             "ticks": ""
            },
            "colorscale": [
             [
              0,
              "#0d0887"
             ],
             [
              0.1111111111111111,
              "#46039f"
             ],
             [
              0.2222222222222222,
              "#7201a8"
             ],
             [
              0.3333333333333333,
              "#9c179e"
             ],
             [
              0.4444444444444444,
              "#bd3786"
             ],
             [
              0.5555555555555556,
              "#d8576b"
             ],
             [
              0.6666666666666666,
              "#ed7953"
             ],
             [
              0.7777777777777778,
              "#fb9f3a"
             ],
             [
              0.8888888888888888,
              "#fdca26"
             ],
             [
              1,
              "#f0f921"
             ]
            ],
            "type": "contour"
           }
          ],
          "contourcarpet": [
           {
            "colorbar": {
             "outlinewidth": 0,
             "ticks": ""
            },
            "type": "contourcarpet"
           }
          ],
          "heatmap": [
           {
            "colorbar": {
             "outlinewidth": 0,
             "ticks": ""
            },
            "colorscale": [
             [
              0,
              "#0d0887"
             ],
             [
              0.1111111111111111,
              "#46039f"
             ],
             [
              0.2222222222222222,
              "#7201a8"
             ],
             [
              0.3333333333333333,
              "#9c179e"
             ],
             [
              0.4444444444444444,
              "#bd3786"
             ],
             [
              0.5555555555555556,
              "#d8576b"
             ],
             [
              0.6666666666666666,
              "#ed7953"
             ],
             [
              0.7777777777777778,
              "#fb9f3a"
             ],
             [
              0.8888888888888888,
              "#fdca26"
             ],
             [
              1,
              "#f0f921"
             ]
            ],
            "type": "heatmap"
           }
          ],
          "heatmapgl": [
           {
            "colorbar": {
             "outlinewidth": 0,
             "ticks": ""
            },
            "colorscale": [
             [
              0,
              "#0d0887"
             ],
             [
              0.1111111111111111,
              "#46039f"
             ],
             [
              0.2222222222222222,
              "#7201a8"
             ],
             [
              0.3333333333333333,
              "#9c179e"
             ],
             [
              0.4444444444444444,
              "#bd3786"
             ],
             [
              0.5555555555555556,
              "#d8576b"
             ],
             [
              0.6666666666666666,
              "#ed7953"
             ],
             [
              0.7777777777777778,
              "#fb9f3a"
             ],
             [
              0.8888888888888888,
              "#fdca26"
             ],
             [
              1,
              "#f0f921"
             ]
            ],
            "type": "heatmapgl"
           }
          ],
          "histogram": [
           {
            "marker": {
             "pattern": {
              "fillmode": "overlay",
              "size": 10,
              "solidity": 0.2
             }
            },
            "type": "histogram"
           }
          ],
          "histogram2d": [
           {
            "colorbar": {
             "outlinewidth": 0,
             "ticks": ""
            },
            "colorscale": [
             [
              0,
              "#0d0887"
             ],
             [
              0.1111111111111111,
              "#46039f"
             ],
             [
              0.2222222222222222,
              "#7201a8"
             ],
             [
              0.3333333333333333,
              "#9c179e"
             ],
             [
              0.4444444444444444,
              "#bd3786"
             ],
             [
              0.5555555555555556,
              "#d8576b"
             ],
             [
              0.6666666666666666,
              "#ed7953"
             ],
             [
              0.7777777777777778,
              "#fb9f3a"
             ],
             [
              0.8888888888888888,
              "#fdca26"
             ],
             [
              1,
              "#f0f921"
             ]
            ],
            "type": "histogram2d"
           }
          ],
          "histogram2dcontour": [
           {
            "colorbar": {
             "outlinewidth": 0,
             "ticks": ""
            },
            "colorscale": [
             [
              0,
              "#0d0887"
             ],
             [
              0.1111111111111111,
              "#46039f"
             ],
             [
              0.2222222222222222,
              "#7201a8"
             ],
             [
              0.3333333333333333,
              "#9c179e"
             ],
             [
              0.4444444444444444,
              "#bd3786"
             ],
             [
              0.5555555555555556,
              "#d8576b"
             ],
             [
              0.6666666666666666,
              "#ed7953"
             ],
             [
              0.7777777777777778,
              "#fb9f3a"
             ],
             [
              0.8888888888888888,
              "#fdca26"
             ],
             [
              1,
              "#f0f921"
             ]
            ],
            "type": "histogram2dcontour"
           }
          ],
          "mesh3d": [
           {
            "colorbar": {
             "outlinewidth": 0,
             "ticks": ""
            },
            "type": "mesh3d"
           }
          ],
          "parcoords": [
           {
            "line": {
             "colorbar": {
              "outlinewidth": 0,
              "ticks": ""
             }
            },
            "type": "parcoords"
           }
          ],
          "pie": [
           {
            "automargin": true,
            "type": "pie"
           }
          ],
          "scatter": [
           {
            "fillpattern": {
             "fillmode": "overlay",
             "size": 10,
             "solidity": 0.2
            },
            "type": "scatter"
           }
          ],
          "scatter3d": [
           {
            "line": {
             "colorbar": {
              "outlinewidth": 0,
              "ticks": ""
             }
            },
            "marker": {
             "colorbar": {
              "outlinewidth": 0,
              "ticks": ""
             }
            },
            "type": "scatter3d"
           }
          ],
          "scattercarpet": [
           {
            "marker": {
             "colorbar": {
              "outlinewidth": 0,
              "ticks": ""
             }
            },
            "type": "scattercarpet"
           }
          ],
          "scattergeo": [
           {
            "marker": {
             "colorbar": {
              "outlinewidth": 0,
              "ticks": ""
             }
            },
            "type": "scattergeo"
           }
          ],
          "scattergl": [
           {
            "marker": {
             "colorbar": {
              "outlinewidth": 0,
              "ticks": ""
             }
            },
            "type": "scattergl"
           }
          ],
          "scattermapbox": [
           {
            "marker": {
             "colorbar": {
              "outlinewidth": 0,
              "ticks": ""
             }
            },
            "type": "scattermapbox"
           }
          ],
          "scatterpolar": [
           {
            "marker": {
             "colorbar": {
              "outlinewidth": 0,
              "ticks": ""
             }
            },
            "type": "scatterpolar"
           }
          ],
          "scatterpolargl": [
           {
            "marker": {
             "colorbar": {
              "outlinewidth": 0,
              "ticks": ""
             }
            },
            "type": "scatterpolargl"
           }
          ],
          "scatterternary": [
           {
            "marker": {
             "colorbar": {
              "outlinewidth": 0,
              "ticks": ""
             }
            },
            "type": "scatterternary"
           }
          ],
          "surface": [
           {
            "colorbar": {
             "outlinewidth": 0,
             "ticks": ""
            },
            "colorscale": [
             [
              0,
              "#0d0887"
             ],
             [
              0.1111111111111111,
              "#46039f"
             ],
             [
              0.2222222222222222,
              "#7201a8"
             ],
             [
              0.3333333333333333,
              "#9c179e"
             ],
             [
              0.4444444444444444,
              "#bd3786"
             ],
             [
              0.5555555555555556,
              "#d8576b"
             ],
             [
              0.6666666666666666,
              "#ed7953"
             ],
             [
              0.7777777777777778,
              "#fb9f3a"
             ],
             [
              0.8888888888888888,
              "#fdca26"
             ],
             [
              1,
              "#f0f921"
             ]
            ],
            "type": "surface"
           }
          ],
          "table": [
           {
            "cells": {
             "fill": {
              "color": "#EBF0F8"
             },
             "line": {
              "color": "white"
             }
            },
            "header": {
             "fill": {
              "color": "#C8D4E3"
             },
             "line": {
              "color": "white"
             }
            },
            "type": "table"
           }
          ]
         },
         "layout": {
          "annotationdefaults": {
           "arrowcolor": "#2a3f5f",
           "arrowhead": 0,
           "arrowwidth": 1
          },
          "autotypenumbers": "strict",
          "coloraxis": {
           "colorbar": {
            "outlinewidth": 0,
            "ticks": ""
           }
          },
          "colorscale": {
           "diverging": [
            [
             0,
             "#8e0152"
            ],
            [
             0.1,
             "#c51b7d"
            ],
            [
             0.2,
             "#de77ae"
            ],
            [
             0.3,
             "#f1b6da"
            ],
            [
             0.4,
             "#fde0ef"
            ],
            [
             0.5,
             "#f7f7f7"
            ],
            [
             0.6,
             "#e6f5d0"
            ],
            [
             0.7,
             "#b8e186"
            ],
            [
             0.8,
             "#7fbc41"
            ],
            [
             0.9,
             "#4d9221"
            ],
            [
             1,
             "#276419"
            ]
           ],
           "sequential": [
            [
             0,
             "#0d0887"
            ],
            [
             0.1111111111111111,
             "#46039f"
            ],
            [
             0.2222222222222222,
             "#7201a8"
            ],
            [
             0.3333333333333333,
             "#9c179e"
            ],
            [
             0.4444444444444444,
             "#bd3786"
            ],
            [
             0.5555555555555556,
             "#d8576b"
            ],
            [
             0.6666666666666666,
             "#ed7953"
            ],
            [
             0.7777777777777778,
             "#fb9f3a"
            ],
            [
             0.8888888888888888,
             "#fdca26"
            ],
            [
             1,
             "#f0f921"
            ]
           ],
           "sequentialminus": [
            [
             0,
             "#0d0887"
            ],
            [
             0.1111111111111111,
             "#46039f"
            ],
            [
             0.2222222222222222,
             "#7201a8"
            ],
            [
             0.3333333333333333,
             "#9c179e"
            ],
            [
             0.4444444444444444,
             "#bd3786"
            ],
            [
             0.5555555555555556,
             "#d8576b"
            ],
            [
             0.6666666666666666,
             "#ed7953"
            ],
            [
             0.7777777777777778,
             "#fb9f3a"
            ],
            [
             0.8888888888888888,
             "#fdca26"
            ],
            [
             1,
             "#f0f921"
            ]
           ]
          },
          "colorway": [
           "#636efa",
           "#EF553B",
           "#00cc96",
           "#ab63fa",
           "#FFA15A",
           "#19d3f3",
           "#FF6692",
           "#B6E880",
           "#FF97FF",
           "#FECB52"
          ],
          "font": {
           "color": "#2a3f5f"
          },
          "geo": {
           "bgcolor": "white",
           "lakecolor": "white",
           "landcolor": "#E5ECF6",
           "showlakes": true,
           "showland": true,
           "subunitcolor": "white"
          },
          "hoverlabel": {
           "align": "left"
          },
          "hovermode": "closest",
          "mapbox": {
           "style": "light"
          },
          "paper_bgcolor": "white",
          "plot_bgcolor": "#E5ECF6",
          "polar": {
           "angularaxis": {
            "gridcolor": "white",
            "linecolor": "white",
            "ticks": ""
           },
           "bgcolor": "#E5ECF6",
           "radialaxis": {
            "gridcolor": "white",
            "linecolor": "white",
            "ticks": ""
           }
          },
          "scene": {
           "xaxis": {
            "backgroundcolor": "#E5ECF6",
            "gridcolor": "white",
            "gridwidth": 2,
            "linecolor": "white",
            "showbackground": true,
            "ticks": "",
            "zerolinecolor": "white"
           },
           "yaxis": {
            "backgroundcolor": "#E5ECF6",
            "gridcolor": "white",
            "gridwidth": 2,
            "linecolor": "white",
            "showbackground": true,
            "ticks": "",
            "zerolinecolor": "white"
           },
           "zaxis": {
            "backgroundcolor": "#E5ECF6",
            "gridcolor": "white",
            "gridwidth": 2,
            "linecolor": "white",
            "showbackground": true,
            "ticks": "",
            "zerolinecolor": "white"
           }
          },
          "shapedefaults": {
           "line": {
            "color": "#2a3f5f"
           }
          },
          "ternary": {
           "aaxis": {
            "gridcolor": "white",
            "linecolor": "white",
            "ticks": ""
           },
           "baxis": {
            "gridcolor": "white",
            "linecolor": "white",
            "ticks": ""
           },
           "bgcolor": "#E5ECF6",
           "caxis": {
            "gridcolor": "white",
            "linecolor": "white",
            "ticks": ""
           }
          },
          "title": {
           "x": 0.05
          },
          "xaxis": {
           "automargin": true,
           "gridcolor": "white",
           "linecolor": "white",
           "ticks": "",
           "title": {
            "standoff": 15
           },
           "zerolinecolor": "white",
           "zerolinewidth": 2
          },
          "yaxis": {
           "automargin": true,
           "gridcolor": "white",
           "linecolor": "white",
           "ticks": "",
           "title": {
            "standoff": 15
           },
           "zerolinecolor": "white",
           "zerolinewidth": 2
          }
         }
        },
        "title": {
         "font": {
          "color": "#4D5663"
         },
         "text": "Top 100 words after removing stop words"
        },
        "xaxis": {
         "gridcolor": "#E1E5ED",
         "linecolor": "black",
         "showgrid": true,
         "tickfont": {
          "color": "#4D5663"
         },
         "title": {
          "font": {
           "color": "#4D5663"
          },
          "text": ""
         },
         "zerolinecolor": "#E1E5ED"
        },
        "yaxis": {
         "gridcolor": "#E1E5ED",
         "linecolor": "black",
         "showgrid": true,
         "tickfont": {
          "color": "#4D5663"
         },
         "title": {
          "font": {
           "color": "#4D5663"
          },
          "text": "Count"
         },
         "zerolinecolor": "#E1E5ED"
        }
       }
      },
      "text/html": [
       "<div>                            <div id=\"cc544e0e-bc0e-4389-bd50-4b0ad4c443d1\" class=\"plotly-graph-div\" style=\"height:525px; width:100%;\"></div>            <script type=\"text/javascript\">                require([\"plotly\"], function(Plotly) {                    window.PLOTLYENV=window.PLOTLYENV || {};\n",
       "                    window.PLOTLYENV.BASE_URL='https://plot.ly';                                    if (document.getElementById(\"cc544e0e-bc0e-4389-bd50-4b0ad4c443d1\")) {                    Plotly.newPlot(                        \"cc544e0e-bc0e-4389-bd50-4b0ad4c443d1\",                        [{\"marker\":{\"color\":\"rgba(255, 153, 51, 0.6)\",\"line\":{\"color\":\"rgba(255, 153, 51, 1.0)\",\"width\":1}},\"name\":\"count\",\"orientation\":\"v\",\"text\":\"\",\"x\":[\"work\",\"use\",\"family\",\"start\",\"small\",\"help\",\"group\",\"live\",\"husband\",\"product\",\"well\",\"increase\",\"home\",\"customer\",\"marry\",\"good\",\"community\",\"need\",\"order\",\"request\",\"member\",\"pay\",\"hope\",\"grow\",\"expand\",\"stock\",\"want\",\"new\",\"time\",\"provide\",\"store\",\"area\",\"go\",\"money\",\"get\",\"rice\",\"support\",\"improve\",\"give\",\"market\",\"entrepreneur\",\"farmer\",\"hard\",\"sale\",\"life\",\"repay\",\"ago\",\"clothing\",\"run\",\"shop\",\"mother\",\"profit\",\"first\",\"client\",\"plan\",\"take\",\"clothe\",\"food\",\"high\",\"capital\",\"service\",\"education\",\"continue\",\"farm\",\"invest\",\"house\",\"item\",\"local\",\"fee\",\"demand\",\"young\",\"large\",\"wife\",\"operate\",\"meet\",\"say\",\"day\",\"receive\",\"month\",\"still\",\"supply\",\"offer\",\"part\",\"age\",\"currently\",\"open\",\"enough\",\"keep\",\"intend\",\"allow\",\"milk\",\"earn\",\"begin\",\"son\",\"land\",\"save\",\"primary\",\"experience\",\"attend\",\"second\"],\"y\":[602,583,560,483,470,469,465,425,423,390,373,350,320,316,313,313,310,296,285,272,269,266,262,260,256,255,245,243,240,234,233,214,212,211,210,202,202,201,200,200,197,193,191,187,186,185,181,180,177,175,173,172,171,170,170,170,167,167,165,164,163,161,158,151,149,144,142,141,139,139,136,136,135,133,132,132,131,129,127,126,125,125,124,123,117,116,116,115,115,114,114,114,112,112,112,111,107,106,105,105],\"type\":\"bar\"}],                        {\"legend\":{\"bgcolor\":\"#F5F6F9\",\"font\":{\"color\":\"#4D5663\"}},\"paper_bgcolor\":\"#F5F6F9\",\"plot_bgcolor\":\"#F5F6F9\",\"template\":{\"data\":{\"barpolar\":[{\"marker\":{\"line\":{\"color\":\"#E5ECF6\",\"width\":0.5},\"pattern\":{\"fillmode\":\"overlay\",\"size\":10,\"solidity\":0.2}},\"type\":\"barpolar\"}],\"bar\":[{\"error_x\":{\"color\":\"#2a3f5f\"},\"error_y\":{\"color\":\"#2a3f5f\"},\"marker\":{\"line\":{\"color\":\"#E5ECF6\",\"width\":0.5},\"pattern\":{\"fillmode\":\"overlay\",\"size\":10,\"solidity\":0.2}},\"type\":\"bar\"}],\"carpet\":[{\"aaxis\":{\"endlinecolor\":\"#2a3f5f\",\"gridcolor\":\"white\",\"linecolor\":\"white\",\"minorgridcolor\":\"white\",\"startlinecolor\":\"#2a3f5f\"},\"baxis\":{\"endlinecolor\":\"#2a3f5f\",\"gridcolor\":\"white\",\"linecolor\":\"white\",\"minorgridcolor\":\"white\",\"startlinecolor\":\"#2a3f5f\"},\"type\":\"carpet\"}],\"choropleth\":[{\"colorbar\":{\"outlinewidth\":0,\"ticks\":\"\"},\"type\":\"choropleth\"}],\"contourcarpet\":[{\"colorbar\":{\"outlinewidth\":0,\"ticks\":\"\"},\"type\":\"contourcarpet\"}],\"contour\":[{\"colorbar\":{\"outlinewidth\":0,\"ticks\":\"\"},\"colorscale\":[[0.0,\"#0d0887\"],[0.1111111111111111,\"#46039f\"],[0.2222222222222222,\"#7201a8\"],[0.3333333333333333,\"#9c179e\"],[0.4444444444444444,\"#bd3786\"],[0.5555555555555556,\"#d8576b\"],[0.6666666666666666,\"#ed7953\"],[0.7777777777777778,\"#fb9f3a\"],[0.8888888888888888,\"#fdca26\"],[1.0,\"#f0f921\"]],\"type\":\"contour\"}],\"heatmapgl\":[{\"colorbar\":{\"outlinewidth\":0,\"ticks\":\"\"},\"colorscale\":[[0.0,\"#0d0887\"],[0.1111111111111111,\"#46039f\"],[0.2222222222222222,\"#7201a8\"],[0.3333333333333333,\"#9c179e\"],[0.4444444444444444,\"#bd3786\"],[0.5555555555555556,\"#d8576b\"],[0.6666666666666666,\"#ed7953\"],[0.7777777777777778,\"#fb9f3a\"],[0.8888888888888888,\"#fdca26\"],[1.0,\"#f0f921\"]],\"type\":\"heatmapgl\"}],\"heatmap\":[{\"colorbar\":{\"outlinewidth\":0,\"ticks\":\"\"},\"colorscale\":[[0.0,\"#0d0887\"],[0.1111111111111111,\"#46039f\"],[0.2222222222222222,\"#7201a8\"],[0.3333333333333333,\"#9c179e\"],[0.4444444444444444,\"#bd3786\"],[0.5555555555555556,\"#d8576b\"],[0.6666666666666666,\"#ed7953\"],[0.7777777777777778,\"#fb9f3a\"],[0.8888888888888888,\"#fdca26\"],[1.0,\"#f0f921\"]],\"type\":\"heatmap\"}],\"histogram2dcontour\":[{\"colorbar\":{\"outlinewidth\":0,\"ticks\":\"\"},\"colorscale\":[[0.0,\"#0d0887\"],[0.1111111111111111,\"#46039f\"],[0.2222222222222222,\"#7201a8\"],[0.3333333333333333,\"#9c179e\"],[0.4444444444444444,\"#bd3786\"],[0.5555555555555556,\"#d8576b\"],[0.6666666666666666,\"#ed7953\"],[0.7777777777777778,\"#fb9f3a\"],[0.8888888888888888,\"#fdca26\"],[1.0,\"#f0f921\"]],\"type\":\"histogram2dcontour\"}],\"histogram2d\":[{\"colorbar\":{\"outlinewidth\":0,\"ticks\":\"\"},\"colorscale\":[[0.0,\"#0d0887\"],[0.1111111111111111,\"#46039f\"],[0.2222222222222222,\"#7201a8\"],[0.3333333333333333,\"#9c179e\"],[0.4444444444444444,\"#bd3786\"],[0.5555555555555556,\"#d8576b\"],[0.6666666666666666,\"#ed7953\"],[0.7777777777777778,\"#fb9f3a\"],[0.8888888888888888,\"#fdca26\"],[1.0,\"#f0f921\"]],\"type\":\"histogram2d\"}],\"histogram\":[{\"marker\":{\"pattern\":{\"fillmode\":\"overlay\",\"size\":10,\"solidity\":0.2}},\"type\":\"histogram\"}],\"mesh3d\":[{\"colorbar\":{\"outlinewidth\":0,\"ticks\":\"\"},\"type\":\"mesh3d\"}],\"parcoords\":[{\"line\":{\"colorbar\":{\"outlinewidth\":0,\"ticks\":\"\"}},\"type\":\"parcoords\"}],\"pie\":[{\"automargin\":true,\"type\":\"pie\"}],\"scatter3d\":[{\"line\":{\"colorbar\":{\"outlinewidth\":0,\"ticks\":\"\"}},\"marker\":{\"colorbar\":{\"outlinewidth\":0,\"ticks\":\"\"}},\"type\":\"scatter3d\"}],\"scattercarpet\":[{\"marker\":{\"colorbar\":{\"outlinewidth\":0,\"ticks\":\"\"}},\"type\":\"scattercarpet\"}],\"scattergeo\":[{\"marker\":{\"colorbar\":{\"outlinewidth\":0,\"ticks\":\"\"}},\"type\":\"scattergeo\"}],\"scattergl\":[{\"marker\":{\"colorbar\":{\"outlinewidth\":0,\"ticks\":\"\"}},\"type\":\"scattergl\"}],\"scattermapbox\":[{\"marker\":{\"colorbar\":{\"outlinewidth\":0,\"ticks\":\"\"}},\"type\":\"scattermapbox\"}],\"scatterpolargl\":[{\"marker\":{\"colorbar\":{\"outlinewidth\":0,\"ticks\":\"\"}},\"type\":\"scatterpolargl\"}],\"scatterpolar\":[{\"marker\":{\"colorbar\":{\"outlinewidth\":0,\"ticks\":\"\"}},\"type\":\"scatterpolar\"}],\"scatter\":[{\"fillpattern\":{\"fillmode\":\"overlay\",\"size\":10,\"solidity\":0.2},\"type\":\"scatter\"}],\"scatterternary\":[{\"marker\":{\"colorbar\":{\"outlinewidth\":0,\"ticks\":\"\"}},\"type\":\"scatterternary\"}],\"surface\":[{\"colorbar\":{\"outlinewidth\":0,\"ticks\":\"\"},\"colorscale\":[[0.0,\"#0d0887\"],[0.1111111111111111,\"#46039f\"],[0.2222222222222222,\"#7201a8\"],[0.3333333333333333,\"#9c179e\"],[0.4444444444444444,\"#bd3786\"],[0.5555555555555556,\"#d8576b\"],[0.6666666666666666,\"#ed7953\"],[0.7777777777777778,\"#fb9f3a\"],[0.8888888888888888,\"#fdca26\"],[1.0,\"#f0f921\"]],\"type\":\"surface\"}],\"table\":[{\"cells\":{\"fill\":{\"color\":\"#EBF0F8\"},\"line\":{\"color\":\"white\"}},\"header\":{\"fill\":{\"color\":\"#C8D4E3\"},\"line\":{\"color\":\"white\"}},\"type\":\"table\"}]},\"layout\":{\"annotationdefaults\":{\"arrowcolor\":\"#2a3f5f\",\"arrowhead\":0,\"arrowwidth\":1},\"autotypenumbers\":\"strict\",\"coloraxis\":{\"colorbar\":{\"outlinewidth\":0,\"ticks\":\"\"}},\"colorscale\":{\"diverging\":[[0,\"#8e0152\"],[0.1,\"#c51b7d\"],[0.2,\"#de77ae\"],[0.3,\"#f1b6da\"],[0.4,\"#fde0ef\"],[0.5,\"#f7f7f7\"],[0.6,\"#e6f5d0\"],[0.7,\"#b8e186\"],[0.8,\"#7fbc41\"],[0.9,\"#4d9221\"],[1,\"#276419\"]],\"sequential\":[[0.0,\"#0d0887\"],[0.1111111111111111,\"#46039f\"],[0.2222222222222222,\"#7201a8\"],[0.3333333333333333,\"#9c179e\"],[0.4444444444444444,\"#bd3786\"],[0.5555555555555556,\"#d8576b\"],[0.6666666666666666,\"#ed7953\"],[0.7777777777777778,\"#fb9f3a\"],[0.8888888888888888,\"#fdca26\"],[1.0,\"#f0f921\"]],\"sequentialminus\":[[0.0,\"#0d0887\"],[0.1111111111111111,\"#46039f\"],[0.2222222222222222,\"#7201a8\"],[0.3333333333333333,\"#9c179e\"],[0.4444444444444444,\"#bd3786\"],[0.5555555555555556,\"#d8576b\"],[0.6666666666666666,\"#ed7953\"],[0.7777777777777778,\"#fb9f3a\"],[0.8888888888888888,\"#fdca26\"],[1.0,\"#f0f921\"]]},\"colorway\":[\"#636efa\",\"#EF553B\",\"#00cc96\",\"#ab63fa\",\"#FFA15A\",\"#19d3f3\",\"#FF6692\",\"#B6E880\",\"#FF97FF\",\"#FECB52\"],\"font\":{\"color\":\"#2a3f5f\"},\"geo\":{\"bgcolor\":\"white\",\"lakecolor\":\"white\",\"landcolor\":\"#E5ECF6\",\"showlakes\":true,\"showland\":true,\"subunitcolor\":\"white\"},\"hoverlabel\":{\"align\":\"left\"},\"hovermode\":\"closest\",\"mapbox\":{\"style\":\"light\"},\"paper_bgcolor\":\"white\",\"plot_bgcolor\":\"#E5ECF6\",\"polar\":{\"angularaxis\":{\"gridcolor\":\"white\",\"linecolor\":\"white\",\"ticks\":\"\"},\"bgcolor\":\"#E5ECF6\",\"radialaxis\":{\"gridcolor\":\"white\",\"linecolor\":\"white\",\"ticks\":\"\"}},\"scene\":{\"xaxis\":{\"backgroundcolor\":\"#E5ECF6\",\"gridcolor\":\"white\",\"gridwidth\":2,\"linecolor\":\"white\",\"showbackground\":true,\"ticks\":\"\",\"zerolinecolor\":\"white\"},\"yaxis\":{\"backgroundcolor\":\"#E5ECF6\",\"gridcolor\":\"white\",\"gridwidth\":2,\"linecolor\":\"white\",\"showbackground\":true,\"ticks\":\"\",\"zerolinecolor\":\"white\"},\"zaxis\":{\"backgroundcolor\":\"#E5ECF6\",\"gridcolor\":\"white\",\"gridwidth\":2,\"linecolor\":\"white\",\"showbackground\":true,\"ticks\":\"\",\"zerolinecolor\":\"white\"}},\"shapedefaults\":{\"line\":{\"color\":\"#2a3f5f\"}},\"ternary\":{\"aaxis\":{\"gridcolor\":\"white\",\"linecolor\":\"white\",\"ticks\":\"\"},\"baxis\":{\"gridcolor\":\"white\",\"linecolor\":\"white\",\"ticks\":\"\"},\"bgcolor\":\"#E5ECF6\",\"caxis\":{\"gridcolor\":\"white\",\"linecolor\":\"white\",\"ticks\":\"\"}},\"title\":{\"x\":0.05},\"xaxis\":{\"automargin\":true,\"gridcolor\":\"white\",\"linecolor\":\"white\",\"ticks\":\"\",\"title\":{\"standoff\":15},\"zerolinecolor\":\"white\",\"zerolinewidth\":2},\"yaxis\":{\"automargin\":true,\"gridcolor\":\"white\",\"linecolor\":\"white\",\"ticks\":\"\",\"title\":{\"standoff\":15},\"zerolinecolor\":\"white\",\"zerolinewidth\":2}}},\"title\":{\"font\":{\"color\":\"#4D5663\"},\"text\":\"Top 100 words after removing stop words\"},\"xaxis\":{\"gridcolor\":\"#E1E5ED\",\"linecolor\":\"black\",\"showgrid\":true,\"tickfont\":{\"color\":\"#4D5663\"},\"title\":{\"font\":{\"color\":\"#4D5663\"},\"text\":\"\"},\"zerolinecolor\":\"#E1E5ED\"},\"yaxis\":{\"gridcolor\":\"#E1E5ED\",\"linecolor\":\"black\",\"showgrid\":true,\"tickfont\":{\"color\":\"#4D5663\"},\"title\":{\"font\":{\"color\":\"#4D5663\"},\"text\":\"Count\"},\"zerolinecolor\":\"#E1E5ED\"}},                        {\"showLink\": true, \"linkText\": \"Export to plot.ly\", \"plotlyServerURL\": \"https://plot.ly\", \"responsive\": true}                    ).then(function(){\n",
       "                            \n",
       "var gd = document.getElementById('cc544e0e-bc0e-4389-bd50-4b0ad4c443d1');\n",
       "var x = new MutationObserver(function (mutations, observer) {{\n",
       "        var display = window.getComputedStyle(gd).display;\n",
       "        if (!display || display === 'none') {{\n",
       "            console.log([gd, 'removed!']);\n",
       "            Plotly.purge(gd);\n",
       "            observer.disconnect();\n",
       "        }}\n",
       "}});\n",
       "\n",
       "// Listen for the removal of the full notebook cells\n",
       "var notebookContainer = gd.closest('#notebook-container');\n",
       "if (notebookContainer) {{\n",
       "    x.observe(notebookContainer, {childList: true});\n",
       "}}\n",
       "\n",
       "// Listen for the clearing of the current output cell\n",
       "var outputEl = gd.closest('.output');\n",
       "if (outputEl) {{\n",
       "    x.observe(outputEl, {childList: true});\n",
       "}}\n",
       "\n",
       "                        })                };                });            </script>        </div>"
      ]
     },
     "metadata": {},
     "output_type": "display_data"
    }
   ],
   "source": [
    "plot_model()"
   ]
  },
  {
   "cell_type": "raw",
   "id": "ba224c76",
   "metadata": {},
   "source": [
    "List of available plots (ID - Name):\n",
    "Word Token Frequency - 'frequency'\n",
    "Word Distribution Plot - 'distribution'\n",
    "Bigram Frequency Plot - 'bigram'\n",
    "Trigram Frequency Plot - 'trigram'\n",
    "Sentiment Polarity Plot - 'sentiment'\n",
    "Part of Speech Frequency - 'pos'\n",
    "t-SNE (3d) Dimension Plot - 'tsne'\n",
    "Topic Model (pyLDAvis) - 'topic_model'\n",
    "Topic Infer Distribution - 'topic_distribution'\n",
    "Wordcloud - 'wordcloud'\n",
    "UMAP Dimensionality Plot - 'umap'"
   ]
  },
  {
   "cell_type": "code",
   "execution_count": 49,
   "id": "02305ba3",
   "metadata": {},
   "outputs": [
    {
     "data": {
      "text/html": [
       "        <script type=\"text/javascript\">\n",
       "        window.PlotlyConfig = {MathJaxConfig: 'local'};\n",
       "        if (window.MathJax) {MathJax.Hub.Config({SVG: {font: \"STIX-Web\"}});}\n",
       "        if (typeof require !== 'undefined') {\n",
       "        require.undef(\"plotly\");\n",
       "        requirejs.config({\n",
       "            paths: {\n",
       "                'plotly': ['https://cdn.plot.ly/plotly-2.11.1.min']\n",
       "            }\n",
       "        });\n",
       "        require(['plotly'], function(Plotly) {\n",
       "            window._Plotly = Plotly;\n",
       "        });\n",
       "        }\n",
       "        </script>\n",
       "        "
      ]
     },
     "metadata": {},
     "output_type": "display_data"
    },
    {
     "data": {
      "application/vnd.plotly.v1+json": {
       "config": {
        "linkText": "Export to plot.ly",
        "plotlyServerURL": "https://plot.ly",
        "showLink": true
       },
       "data": [
        {
         "marker": {
          "color": "rgba(255, 153, 51, 0.6)",
          "line": {
           "color": "rgba(255, 153, 51, 1.0)",
           "width": 1
          }
         },
         "name": "count",
         "orientation": "v",
         "text": "",
         "type": "bar",
         "x": [
          "work hard",
          "pay fee",
          "hard work",
          "increase stock",
          "start small",
          "group member",
          "support family",
          "husband work",
          "start ago",
          "provide family",
          "programs_information_microfinance_ecuador services_please_visit_href",
          "live husband",
          "member group",
          "mifex_offers_client microinsurance_access_training_educational",
          "rice farmer",
          "risk_willing_accept_additional risk_making",
          "may_represent_higher_default risk_willing_accept_additional",
          "kenya_security_situation_communitie businesses_lenders_entrepreneur_aware",
          "person group",
          "businesses_lenders_entrepreneur_aware may_represent_higher_default",
          "microinsurance_access_training_educational programs_information_microfinance_ecuador",
          "plan use",
          "run small",
          "well life",
          "high demand",
          "provide well",
          "capital first_months_r",
          "customer need",
          "group promoting_savings_often_forgotten",
          "marry primary",
          "operate small",
          "order farm",
          "pay back",
          "land order",
          "intend use",
          "enough money",
          "first_months_r debt_must_paid_seventh",
          "beauty product",
          "help husband",
          "small store",
          "mifex_rural_finance program",
          "therefore request",
          "want expand",
          "group cannot_fully_repay_borrower",
          "small farmers_produce_sack",
          "boleo_spanish_hand_sowe rice",
          "pay capital",
          "request budget",
          "area small",
          "rice grow",
          "debt_must_paid_seventh final_month",
          "husband help",
          "crop boleo_spanish_hand_sowe",
          "farmers_produce_sack land",
          "grow farmers_rent_machinery",
          "add stock",
          "local community",
          "save money",
          "quality life",
          "large quantity",
          "local market",
          "family need",
          "promoting_savings_often_forgotten micro_finance_program",
          "farmers_rent_machinery helps_gather_production",
          "rural area",
          "attract new",
          "micro_finance_program mifex_believes_imperative",
          "sector rice",
          "micro entrepreneur",
          "increase revenue",
          "communal_bank_others_guarantor person",
          "farmer association_works_cooperatively",
          "meet customer",
          "need order",
          "store home",
          "use clothe",
          "sale increase",
          "rural sector",
          "capital_reserved_future_investment team_evaluating_potential_sector",
          "start help",
          "rice production",
          "program rice",
          "family member",
          "improve family",
          "repay time",
          "increase profit",
          "use money",
          "familys need",
          "mifex_believes_imperative capital_reserved_future_investment",
          "boy girl",
          "loans_prepare_land part",
          "good education",
          "improve quality",
          "part communal_bank_others_guarantor",
          "increase sale",
          "request second",
          "small shop",
          "use clothing",
          "meet need",
          "continue grow"
         ],
         "y": [
          70,
          66,
          64,
          54,
          48,
          47,
          46,
          46,
          40,
          39,
          38,
          38,
          38,
          34,
          33,
          32,
          32,
          32,
          32,
          32,
          32,
          29,
          29,
          28,
          28,
          27,
          25,
          25,
          25,
          25,
          25,
          25,
          25,
          25,
          25,
          24,
          24,
          24,
          24,
          24,
          24,
          23,
          23,
          23,
          22,
          22,
          22,
          22,
          22,
          22,
          22,
          22,
          22,
          22,
          22,
          21,
          21,
          21,
          21,
          20,
          20,
          20,
          19,
          19,
          19,
          19,
          19,
          19,
          19,
          19,
          18,
          18,
          18,
          18,
          18,
          18,
          18,
          18,
          18,
          18,
          18,
          18,
          18,
          18,
          18,
          18,
          17,
          17,
          17,
          17,
          17,
          17,
          17,
          17,
          17,
          17,
          16,
          16,
          16,
          16
         ]
        }
       ],
       "layout": {
        "legend": {
         "bgcolor": "#F5F6F9",
         "font": {
          "color": "#4D5663"
         }
        },
        "paper_bgcolor": "#F5F6F9",
        "plot_bgcolor": "#F5F6F9",
        "template": {
         "data": {
          "bar": [
           {
            "error_x": {
             "color": "#2a3f5f"
            },
            "error_y": {
             "color": "#2a3f5f"
            },
            "marker": {
             "line": {
              "color": "#E5ECF6",
              "width": 0.5
             },
             "pattern": {
              "fillmode": "overlay",
              "size": 10,
              "solidity": 0.2
             }
            },
            "type": "bar"
           }
          ],
          "barpolar": [
           {
            "marker": {
             "line": {
              "color": "#E5ECF6",
              "width": 0.5
             },
             "pattern": {
              "fillmode": "overlay",
              "size": 10,
              "solidity": 0.2
             }
            },
            "type": "barpolar"
           }
          ],
          "carpet": [
           {
            "aaxis": {
             "endlinecolor": "#2a3f5f",
             "gridcolor": "white",
             "linecolor": "white",
             "minorgridcolor": "white",
             "startlinecolor": "#2a3f5f"
            },
            "baxis": {
             "endlinecolor": "#2a3f5f",
             "gridcolor": "white",
             "linecolor": "white",
             "minorgridcolor": "white",
             "startlinecolor": "#2a3f5f"
            },
            "type": "carpet"
           }
          ],
          "choropleth": [
           {
            "colorbar": {
             "outlinewidth": 0,
             "ticks": ""
            },
            "type": "choropleth"
           }
          ],
          "contour": [
           {
            "colorbar": {
             "outlinewidth": 0,
             "ticks": ""
            },
            "colorscale": [
             [
              0,
              "#0d0887"
             ],
             [
              0.1111111111111111,
              "#46039f"
             ],
             [
              0.2222222222222222,
              "#7201a8"
             ],
             [
              0.3333333333333333,
              "#9c179e"
             ],
             [
              0.4444444444444444,
              "#bd3786"
             ],
             [
              0.5555555555555556,
              "#d8576b"
             ],
             [
              0.6666666666666666,
              "#ed7953"
             ],
             [
              0.7777777777777778,
              "#fb9f3a"
             ],
             [
              0.8888888888888888,
              "#fdca26"
             ],
             [
              1,
              "#f0f921"
             ]
            ],
            "type": "contour"
           }
          ],
          "contourcarpet": [
           {
            "colorbar": {
             "outlinewidth": 0,
             "ticks": ""
            },
            "type": "contourcarpet"
           }
          ],
          "heatmap": [
           {
            "colorbar": {
             "outlinewidth": 0,
             "ticks": ""
            },
            "colorscale": [
             [
              0,
              "#0d0887"
             ],
             [
              0.1111111111111111,
              "#46039f"
             ],
             [
              0.2222222222222222,
              "#7201a8"
             ],
             [
              0.3333333333333333,
              "#9c179e"
             ],
             [
              0.4444444444444444,
              "#bd3786"
             ],
             [
              0.5555555555555556,
              "#d8576b"
             ],
             [
              0.6666666666666666,
              "#ed7953"
             ],
             [
              0.7777777777777778,
              "#fb9f3a"
             ],
             [
              0.8888888888888888,
              "#fdca26"
             ],
             [
              1,
              "#f0f921"
             ]
            ],
            "type": "heatmap"
           }
          ],
          "heatmapgl": [
           {
            "colorbar": {
             "outlinewidth": 0,
             "ticks": ""
            },
            "colorscale": [
             [
              0,
              "#0d0887"
             ],
             [
              0.1111111111111111,
              "#46039f"
             ],
             [
              0.2222222222222222,
              "#7201a8"
             ],
             [
              0.3333333333333333,
              "#9c179e"
             ],
             [
              0.4444444444444444,
              "#bd3786"
             ],
             [
              0.5555555555555556,
              "#d8576b"
             ],
             [
              0.6666666666666666,
              "#ed7953"
             ],
             [
              0.7777777777777778,
              "#fb9f3a"
             ],
             [
              0.8888888888888888,
              "#fdca26"
             ],
             [
              1,
              "#f0f921"
             ]
            ],
            "type": "heatmapgl"
           }
          ],
          "histogram": [
           {
            "marker": {
             "pattern": {
              "fillmode": "overlay",
              "size": 10,
              "solidity": 0.2
             }
            },
            "type": "histogram"
           }
          ],
          "histogram2d": [
           {
            "colorbar": {
             "outlinewidth": 0,
             "ticks": ""
            },
            "colorscale": [
             [
              0,
              "#0d0887"
             ],
             [
              0.1111111111111111,
              "#46039f"
             ],
             [
              0.2222222222222222,
              "#7201a8"
             ],
             [
              0.3333333333333333,
              "#9c179e"
             ],
             [
              0.4444444444444444,
              "#bd3786"
             ],
             [
              0.5555555555555556,
              "#d8576b"
             ],
             [
              0.6666666666666666,
              "#ed7953"
             ],
             [
              0.7777777777777778,
              "#fb9f3a"
             ],
             [
              0.8888888888888888,
              "#fdca26"
             ],
             [
              1,
              "#f0f921"
             ]
            ],
            "type": "histogram2d"
           }
          ],
          "histogram2dcontour": [
           {
            "colorbar": {
             "outlinewidth": 0,
             "ticks": ""
            },
            "colorscale": [
             [
              0,
              "#0d0887"
             ],
             [
              0.1111111111111111,
              "#46039f"
             ],
             [
              0.2222222222222222,
              "#7201a8"
             ],
             [
              0.3333333333333333,
              "#9c179e"
             ],
             [
              0.4444444444444444,
              "#bd3786"
             ],
             [
              0.5555555555555556,
              "#d8576b"
             ],
             [
              0.6666666666666666,
              "#ed7953"
             ],
             [
              0.7777777777777778,
              "#fb9f3a"
             ],
             [
              0.8888888888888888,
              "#fdca26"
             ],
             [
              1,
              "#f0f921"
             ]
            ],
            "type": "histogram2dcontour"
           }
          ],
          "mesh3d": [
           {
            "colorbar": {
             "outlinewidth": 0,
             "ticks": ""
            },
            "type": "mesh3d"
           }
          ],
          "parcoords": [
           {
            "line": {
             "colorbar": {
              "outlinewidth": 0,
              "ticks": ""
             }
            },
            "type": "parcoords"
           }
          ],
          "pie": [
           {
            "automargin": true,
            "type": "pie"
           }
          ],
          "scatter": [
           {
            "fillpattern": {
             "fillmode": "overlay",
             "size": 10,
             "solidity": 0.2
            },
            "type": "scatter"
           }
          ],
          "scatter3d": [
           {
            "line": {
             "colorbar": {
              "outlinewidth": 0,
              "ticks": ""
             }
            },
            "marker": {
             "colorbar": {
              "outlinewidth": 0,
              "ticks": ""
             }
            },
            "type": "scatter3d"
           }
          ],
          "scattercarpet": [
           {
            "marker": {
             "colorbar": {
              "outlinewidth": 0,
              "ticks": ""
             }
            },
            "type": "scattercarpet"
           }
          ],
          "scattergeo": [
           {
            "marker": {
             "colorbar": {
              "outlinewidth": 0,
              "ticks": ""
             }
            },
            "type": "scattergeo"
           }
          ],
          "scattergl": [
           {
            "marker": {
             "colorbar": {
              "outlinewidth": 0,
              "ticks": ""
             }
            },
            "type": "scattergl"
           }
          ],
          "scattermapbox": [
           {
            "marker": {
             "colorbar": {
              "outlinewidth": 0,
              "ticks": ""
             }
            },
            "type": "scattermapbox"
           }
          ],
          "scatterpolar": [
           {
            "marker": {
             "colorbar": {
              "outlinewidth": 0,
              "ticks": ""
             }
            },
            "type": "scatterpolar"
           }
          ],
          "scatterpolargl": [
           {
            "marker": {
             "colorbar": {
              "outlinewidth": 0,
              "ticks": ""
             }
            },
            "type": "scatterpolargl"
           }
          ],
          "scatterternary": [
           {
            "marker": {
             "colorbar": {
              "outlinewidth": 0,
              "ticks": ""
             }
            },
            "type": "scatterternary"
           }
          ],
          "surface": [
           {
            "colorbar": {
             "outlinewidth": 0,
             "ticks": ""
            },
            "colorscale": [
             [
              0,
              "#0d0887"
             ],
             [
              0.1111111111111111,
              "#46039f"
             ],
             [
              0.2222222222222222,
              "#7201a8"
             ],
             [
              0.3333333333333333,
              "#9c179e"
             ],
             [
              0.4444444444444444,
              "#bd3786"
             ],
             [
              0.5555555555555556,
              "#d8576b"
             ],
             [
              0.6666666666666666,
              "#ed7953"
             ],
             [
              0.7777777777777778,
              "#fb9f3a"
             ],
             [
              0.8888888888888888,
              "#fdca26"
             ],
             [
              1,
              "#f0f921"
             ]
            ],
            "type": "surface"
           }
          ],
          "table": [
           {
            "cells": {
             "fill": {
              "color": "#EBF0F8"
             },
             "line": {
              "color": "white"
             }
            },
            "header": {
             "fill": {
              "color": "#C8D4E3"
             },
             "line": {
              "color": "white"
             }
            },
            "type": "table"
           }
          ]
         },
         "layout": {
          "annotationdefaults": {
           "arrowcolor": "#2a3f5f",
           "arrowhead": 0,
           "arrowwidth": 1
          },
          "autotypenumbers": "strict",
          "coloraxis": {
           "colorbar": {
            "outlinewidth": 0,
            "ticks": ""
           }
          },
          "colorscale": {
           "diverging": [
            [
             0,
             "#8e0152"
            ],
            [
             0.1,
             "#c51b7d"
            ],
            [
             0.2,
             "#de77ae"
            ],
            [
             0.3,
             "#f1b6da"
            ],
            [
             0.4,
             "#fde0ef"
            ],
            [
             0.5,
             "#f7f7f7"
            ],
            [
             0.6,
             "#e6f5d0"
            ],
            [
             0.7,
             "#b8e186"
            ],
            [
             0.8,
             "#7fbc41"
            ],
            [
             0.9,
             "#4d9221"
            ],
            [
             1,
             "#276419"
            ]
           ],
           "sequential": [
            [
             0,
             "#0d0887"
            ],
            [
             0.1111111111111111,
             "#46039f"
            ],
            [
             0.2222222222222222,
             "#7201a8"
            ],
            [
             0.3333333333333333,
             "#9c179e"
            ],
            [
             0.4444444444444444,
             "#bd3786"
            ],
            [
             0.5555555555555556,
             "#d8576b"
            ],
            [
             0.6666666666666666,
             "#ed7953"
            ],
            [
             0.7777777777777778,
             "#fb9f3a"
            ],
            [
             0.8888888888888888,
             "#fdca26"
            ],
            [
             1,
             "#f0f921"
            ]
           ],
           "sequentialminus": [
            [
             0,
             "#0d0887"
            ],
            [
             0.1111111111111111,
             "#46039f"
            ],
            [
             0.2222222222222222,
             "#7201a8"
            ],
            [
             0.3333333333333333,
             "#9c179e"
            ],
            [
             0.4444444444444444,
             "#bd3786"
            ],
            [
             0.5555555555555556,
             "#d8576b"
            ],
            [
             0.6666666666666666,
             "#ed7953"
            ],
            [
             0.7777777777777778,
             "#fb9f3a"
            ],
            [
             0.8888888888888888,
             "#fdca26"
            ],
            [
             1,
             "#f0f921"
            ]
           ]
          },
          "colorway": [
           "#636efa",
           "#EF553B",
           "#00cc96",
           "#ab63fa",
           "#FFA15A",
           "#19d3f3",
           "#FF6692",
           "#B6E880",
           "#FF97FF",
           "#FECB52"
          ],
          "font": {
           "color": "#2a3f5f"
          },
          "geo": {
           "bgcolor": "white",
           "lakecolor": "white",
           "landcolor": "#E5ECF6",
           "showlakes": true,
           "showland": true,
           "subunitcolor": "white"
          },
          "hoverlabel": {
           "align": "left"
          },
          "hovermode": "closest",
          "mapbox": {
           "style": "light"
          },
          "paper_bgcolor": "white",
          "plot_bgcolor": "#E5ECF6",
          "polar": {
           "angularaxis": {
            "gridcolor": "white",
            "linecolor": "white",
            "ticks": ""
           },
           "bgcolor": "#E5ECF6",
           "radialaxis": {
            "gridcolor": "white",
            "linecolor": "white",
            "ticks": ""
           }
          },
          "scene": {
           "xaxis": {
            "backgroundcolor": "#E5ECF6",
            "gridcolor": "white",
            "gridwidth": 2,
            "linecolor": "white",
            "showbackground": true,
            "ticks": "",
            "zerolinecolor": "white"
           },
           "yaxis": {
            "backgroundcolor": "#E5ECF6",
            "gridcolor": "white",
            "gridwidth": 2,
            "linecolor": "white",
            "showbackground": true,
            "ticks": "",
            "zerolinecolor": "white"
           },
           "zaxis": {
            "backgroundcolor": "#E5ECF6",
            "gridcolor": "white",
            "gridwidth": 2,
            "linecolor": "white",
            "showbackground": true,
            "ticks": "",
            "zerolinecolor": "white"
           }
          },
          "shapedefaults": {
           "line": {
            "color": "#2a3f5f"
           }
          },
          "ternary": {
           "aaxis": {
            "gridcolor": "white",
            "linecolor": "white",
            "ticks": ""
           },
           "baxis": {
            "gridcolor": "white",
            "linecolor": "white",
            "ticks": ""
           },
           "bgcolor": "#E5ECF6",
           "caxis": {
            "gridcolor": "white",
            "linecolor": "white",
            "ticks": ""
           }
          },
          "title": {
           "x": 0.05
          },
          "xaxis": {
           "automargin": true,
           "gridcolor": "white",
           "linecolor": "white",
           "ticks": "",
           "title": {
            "standoff": 15
           },
           "zerolinecolor": "white",
           "zerolinewidth": 2
          },
          "yaxis": {
           "automargin": true,
           "gridcolor": "white",
           "linecolor": "white",
           "ticks": "",
           "title": {
            "standoff": 15
           },
           "zerolinecolor": "white",
           "zerolinewidth": 2
          }
         }
        },
        "title": {
         "font": {
          "color": "#4D5663"
         },
         "text": "Top 100 bigrams after removing stop words"
        },
        "xaxis": {
         "gridcolor": "#E1E5ED",
         "linecolor": "black",
         "showgrid": true,
         "tickfont": {
          "color": "#4D5663"
         },
         "title": {
          "font": {
           "color": "#4D5663"
          },
          "text": ""
         },
         "zerolinecolor": "#E1E5ED"
        },
        "yaxis": {
         "gridcolor": "#E1E5ED",
         "linecolor": "black",
         "showgrid": true,
         "tickfont": {
          "color": "#4D5663"
         },
         "title": {
          "font": {
           "color": "#4D5663"
          },
          "text": "Count"
         },
         "zerolinecolor": "#E1E5ED"
        }
       }
      },
      "text/html": [
       "<div>                            <div id=\"2c328641-7949-4f2c-91d6-3a122c1a0a72\" class=\"plotly-graph-div\" style=\"height:525px; width:100%;\"></div>            <script type=\"text/javascript\">                require([\"plotly\"], function(Plotly) {                    window.PLOTLYENV=window.PLOTLYENV || {};\n",
       "                    window.PLOTLYENV.BASE_URL='https://plot.ly';                                    if (document.getElementById(\"2c328641-7949-4f2c-91d6-3a122c1a0a72\")) {                    Plotly.newPlot(                        \"2c328641-7949-4f2c-91d6-3a122c1a0a72\",                        [{\"marker\":{\"color\":\"rgba(255, 153, 51, 0.6)\",\"line\":{\"color\":\"rgba(255, 153, 51, 1.0)\",\"width\":1}},\"name\":\"count\",\"orientation\":\"v\",\"text\":\"\",\"x\":[\"work hard\",\"pay fee\",\"hard work\",\"increase stock\",\"start small\",\"group member\",\"support family\",\"husband work\",\"start ago\",\"provide family\",\"programs_information_microfinance_ecuador services_please_visit_href\",\"live husband\",\"member group\",\"mifex_offers_client microinsurance_access_training_educational\",\"rice farmer\",\"risk_willing_accept_additional risk_making\",\"may_represent_higher_default risk_willing_accept_additional\",\"kenya_security_situation_communitie businesses_lenders_entrepreneur_aware\",\"person group\",\"businesses_lenders_entrepreneur_aware may_represent_higher_default\",\"microinsurance_access_training_educational programs_information_microfinance_ecuador\",\"plan use\",\"run small\",\"well life\",\"high demand\",\"provide well\",\"capital first_months_r\",\"customer need\",\"group promoting_savings_often_forgotten\",\"marry primary\",\"operate small\",\"order farm\",\"pay back\",\"land order\",\"intend use\",\"enough money\",\"first_months_r debt_must_paid_seventh\",\"beauty product\",\"help husband\",\"small store\",\"mifex_rural_finance program\",\"therefore request\",\"want expand\",\"group cannot_fully_repay_borrower\",\"small farmers_produce_sack\",\"boleo_spanish_hand_sowe rice\",\"pay capital\",\"request budget\",\"area small\",\"rice grow\",\"debt_must_paid_seventh final_month\",\"husband help\",\"crop boleo_spanish_hand_sowe\",\"farmers_produce_sack land\",\"grow farmers_rent_machinery\",\"add stock\",\"local community\",\"save money\",\"quality life\",\"large quantity\",\"local market\",\"family need\",\"promoting_savings_often_forgotten micro_finance_program\",\"farmers_rent_machinery helps_gather_production\",\"rural area\",\"attract new\",\"micro_finance_program mifex_believes_imperative\",\"sector rice\",\"micro entrepreneur\",\"increase revenue\",\"communal_bank_others_guarantor person\",\"farmer association_works_cooperatively\",\"meet customer\",\"need order\",\"store home\",\"use clothe\",\"sale increase\",\"rural sector\",\"capital_reserved_future_investment team_evaluating_potential_sector\",\"start help\",\"rice production\",\"program rice\",\"family member\",\"improve family\",\"repay time\",\"increase profit\",\"use money\",\"familys need\",\"mifex_believes_imperative capital_reserved_future_investment\",\"boy girl\",\"loans_prepare_land part\",\"good education\",\"improve quality\",\"part communal_bank_others_guarantor\",\"increase sale\",\"request second\",\"small shop\",\"use clothing\",\"meet need\",\"continue grow\"],\"y\":[70,66,64,54,48,47,46,46,40,39,38,38,38,34,33,32,32,32,32,32,32,29,29,28,28,27,25,25,25,25,25,25,25,25,25,24,24,24,24,24,24,23,23,23,22,22,22,22,22,22,22,22,22,22,22,21,21,21,21,20,20,20,19,19,19,19,19,19,19,19,18,18,18,18,18,18,18,18,18,18,18,18,18,18,18,18,17,17,17,17,17,17,17,17,17,17,16,16,16,16],\"type\":\"bar\"}],                        {\"legend\":{\"bgcolor\":\"#F5F6F9\",\"font\":{\"color\":\"#4D5663\"}},\"paper_bgcolor\":\"#F5F6F9\",\"plot_bgcolor\":\"#F5F6F9\",\"template\":{\"data\":{\"barpolar\":[{\"marker\":{\"line\":{\"color\":\"#E5ECF6\",\"width\":0.5},\"pattern\":{\"fillmode\":\"overlay\",\"size\":10,\"solidity\":0.2}},\"type\":\"barpolar\"}],\"bar\":[{\"error_x\":{\"color\":\"#2a3f5f\"},\"error_y\":{\"color\":\"#2a3f5f\"},\"marker\":{\"line\":{\"color\":\"#E5ECF6\",\"width\":0.5},\"pattern\":{\"fillmode\":\"overlay\",\"size\":10,\"solidity\":0.2}},\"type\":\"bar\"}],\"carpet\":[{\"aaxis\":{\"endlinecolor\":\"#2a3f5f\",\"gridcolor\":\"white\",\"linecolor\":\"white\",\"minorgridcolor\":\"white\",\"startlinecolor\":\"#2a3f5f\"},\"baxis\":{\"endlinecolor\":\"#2a3f5f\",\"gridcolor\":\"white\",\"linecolor\":\"white\",\"minorgridcolor\":\"white\",\"startlinecolor\":\"#2a3f5f\"},\"type\":\"carpet\"}],\"choropleth\":[{\"colorbar\":{\"outlinewidth\":0,\"ticks\":\"\"},\"type\":\"choropleth\"}],\"contourcarpet\":[{\"colorbar\":{\"outlinewidth\":0,\"ticks\":\"\"},\"type\":\"contourcarpet\"}],\"contour\":[{\"colorbar\":{\"outlinewidth\":0,\"ticks\":\"\"},\"colorscale\":[[0.0,\"#0d0887\"],[0.1111111111111111,\"#46039f\"],[0.2222222222222222,\"#7201a8\"],[0.3333333333333333,\"#9c179e\"],[0.4444444444444444,\"#bd3786\"],[0.5555555555555556,\"#d8576b\"],[0.6666666666666666,\"#ed7953\"],[0.7777777777777778,\"#fb9f3a\"],[0.8888888888888888,\"#fdca26\"],[1.0,\"#f0f921\"]],\"type\":\"contour\"}],\"heatmapgl\":[{\"colorbar\":{\"outlinewidth\":0,\"ticks\":\"\"},\"colorscale\":[[0.0,\"#0d0887\"],[0.1111111111111111,\"#46039f\"],[0.2222222222222222,\"#7201a8\"],[0.3333333333333333,\"#9c179e\"],[0.4444444444444444,\"#bd3786\"],[0.5555555555555556,\"#d8576b\"],[0.6666666666666666,\"#ed7953\"],[0.7777777777777778,\"#fb9f3a\"],[0.8888888888888888,\"#fdca26\"],[1.0,\"#f0f921\"]],\"type\":\"heatmapgl\"}],\"heatmap\":[{\"colorbar\":{\"outlinewidth\":0,\"ticks\":\"\"},\"colorscale\":[[0.0,\"#0d0887\"],[0.1111111111111111,\"#46039f\"],[0.2222222222222222,\"#7201a8\"],[0.3333333333333333,\"#9c179e\"],[0.4444444444444444,\"#bd3786\"],[0.5555555555555556,\"#d8576b\"],[0.6666666666666666,\"#ed7953\"],[0.7777777777777778,\"#fb9f3a\"],[0.8888888888888888,\"#fdca26\"],[1.0,\"#f0f921\"]],\"type\":\"heatmap\"}],\"histogram2dcontour\":[{\"colorbar\":{\"outlinewidth\":0,\"ticks\":\"\"},\"colorscale\":[[0.0,\"#0d0887\"],[0.1111111111111111,\"#46039f\"],[0.2222222222222222,\"#7201a8\"],[0.3333333333333333,\"#9c179e\"],[0.4444444444444444,\"#bd3786\"],[0.5555555555555556,\"#d8576b\"],[0.6666666666666666,\"#ed7953\"],[0.7777777777777778,\"#fb9f3a\"],[0.8888888888888888,\"#fdca26\"],[1.0,\"#f0f921\"]],\"type\":\"histogram2dcontour\"}],\"histogram2d\":[{\"colorbar\":{\"outlinewidth\":0,\"ticks\":\"\"},\"colorscale\":[[0.0,\"#0d0887\"],[0.1111111111111111,\"#46039f\"],[0.2222222222222222,\"#7201a8\"],[0.3333333333333333,\"#9c179e\"],[0.4444444444444444,\"#bd3786\"],[0.5555555555555556,\"#d8576b\"],[0.6666666666666666,\"#ed7953\"],[0.7777777777777778,\"#fb9f3a\"],[0.8888888888888888,\"#fdca26\"],[1.0,\"#f0f921\"]],\"type\":\"histogram2d\"}],\"histogram\":[{\"marker\":{\"pattern\":{\"fillmode\":\"overlay\",\"size\":10,\"solidity\":0.2}},\"type\":\"histogram\"}],\"mesh3d\":[{\"colorbar\":{\"outlinewidth\":0,\"ticks\":\"\"},\"type\":\"mesh3d\"}],\"parcoords\":[{\"line\":{\"colorbar\":{\"outlinewidth\":0,\"ticks\":\"\"}},\"type\":\"parcoords\"}],\"pie\":[{\"automargin\":true,\"type\":\"pie\"}],\"scatter3d\":[{\"line\":{\"colorbar\":{\"outlinewidth\":0,\"ticks\":\"\"}},\"marker\":{\"colorbar\":{\"outlinewidth\":0,\"ticks\":\"\"}},\"type\":\"scatter3d\"}],\"scattercarpet\":[{\"marker\":{\"colorbar\":{\"outlinewidth\":0,\"ticks\":\"\"}},\"type\":\"scattercarpet\"}],\"scattergeo\":[{\"marker\":{\"colorbar\":{\"outlinewidth\":0,\"ticks\":\"\"}},\"type\":\"scattergeo\"}],\"scattergl\":[{\"marker\":{\"colorbar\":{\"outlinewidth\":0,\"ticks\":\"\"}},\"type\":\"scattergl\"}],\"scattermapbox\":[{\"marker\":{\"colorbar\":{\"outlinewidth\":0,\"ticks\":\"\"}},\"type\":\"scattermapbox\"}],\"scatterpolargl\":[{\"marker\":{\"colorbar\":{\"outlinewidth\":0,\"ticks\":\"\"}},\"type\":\"scatterpolargl\"}],\"scatterpolar\":[{\"marker\":{\"colorbar\":{\"outlinewidth\":0,\"ticks\":\"\"}},\"type\":\"scatterpolar\"}],\"scatter\":[{\"fillpattern\":{\"fillmode\":\"overlay\",\"size\":10,\"solidity\":0.2},\"type\":\"scatter\"}],\"scatterternary\":[{\"marker\":{\"colorbar\":{\"outlinewidth\":0,\"ticks\":\"\"}},\"type\":\"scatterternary\"}],\"surface\":[{\"colorbar\":{\"outlinewidth\":0,\"ticks\":\"\"},\"colorscale\":[[0.0,\"#0d0887\"],[0.1111111111111111,\"#46039f\"],[0.2222222222222222,\"#7201a8\"],[0.3333333333333333,\"#9c179e\"],[0.4444444444444444,\"#bd3786\"],[0.5555555555555556,\"#d8576b\"],[0.6666666666666666,\"#ed7953\"],[0.7777777777777778,\"#fb9f3a\"],[0.8888888888888888,\"#fdca26\"],[1.0,\"#f0f921\"]],\"type\":\"surface\"}],\"table\":[{\"cells\":{\"fill\":{\"color\":\"#EBF0F8\"},\"line\":{\"color\":\"white\"}},\"header\":{\"fill\":{\"color\":\"#C8D4E3\"},\"line\":{\"color\":\"white\"}},\"type\":\"table\"}]},\"layout\":{\"annotationdefaults\":{\"arrowcolor\":\"#2a3f5f\",\"arrowhead\":0,\"arrowwidth\":1},\"autotypenumbers\":\"strict\",\"coloraxis\":{\"colorbar\":{\"outlinewidth\":0,\"ticks\":\"\"}},\"colorscale\":{\"diverging\":[[0,\"#8e0152\"],[0.1,\"#c51b7d\"],[0.2,\"#de77ae\"],[0.3,\"#f1b6da\"],[0.4,\"#fde0ef\"],[0.5,\"#f7f7f7\"],[0.6,\"#e6f5d0\"],[0.7,\"#b8e186\"],[0.8,\"#7fbc41\"],[0.9,\"#4d9221\"],[1,\"#276419\"]],\"sequential\":[[0.0,\"#0d0887\"],[0.1111111111111111,\"#46039f\"],[0.2222222222222222,\"#7201a8\"],[0.3333333333333333,\"#9c179e\"],[0.4444444444444444,\"#bd3786\"],[0.5555555555555556,\"#d8576b\"],[0.6666666666666666,\"#ed7953\"],[0.7777777777777778,\"#fb9f3a\"],[0.8888888888888888,\"#fdca26\"],[1.0,\"#f0f921\"]],\"sequentialminus\":[[0.0,\"#0d0887\"],[0.1111111111111111,\"#46039f\"],[0.2222222222222222,\"#7201a8\"],[0.3333333333333333,\"#9c179e\"],[0.4444444444444444,\"#bd3786\"],[0.5555555555555556,\"#d8576b\"],[0.6666666666666666,\"#ed7953\"],[0.7777777777777778,\"#fb9f3a\"],[0.8888888888888888,\"#fdca26\"],[1.0,\"#f0f921\"]]},\"colorway\":[\"#636efa\",\"#EF553B\",\"#00cc96\",\"#ab63fa\",\"#FFA15A\",\"#19d3f3\",\"#FF6692\",\"#B6E880\",\"#FF97FF\",\"#FECB52\"],\"font\":{\"color\":\"#2a3f5f\"},\"geo\":{\"bgcolor\":\"white\",\"lakecolor\":\"white\",\"landcolor\":\"#E5ECF6\",\"showlakes\":true,\"showland\":true,\"subunitcolor\":\"white\"},\"hoverlabel\":{\"align\":\"left\"},\"hovermode\":\"closest\",\"mapbox\":{\"style\":\"light\"},\"paper_bgcolor\":\"white\",\"plot_bgcolor\":\"#E5ECF6\",\"polar\":{\"angularaxis\":{\"gridcolor\":\"white\",\"linecolor\":\"white\",\"ticks\":\"\"},\"bgcolor\":\"#E5ECF6\",\"radialaxis\":{\"gridcolor\":\"white\",\"linecolor\":\"white\",\"ticks\":\"\"}},\"scene\":{\"xaxis\":{\"backgroundcolor\":\"#E5ECF6\",\"gridcolor\":\"white\",\"gridwidth\":2,\"linecolor\":\"white\",\"showbackground\":true,\"ticks\":\"\",\"zerolinecolor\":\"white\"},\"yaxis\":{\"backgroundcolor\":\"#E5ECF6\",\"gridcolor\":\"white\",\"gridwidth\":2,\"linecolor\":\"white\",\"showbackground\":true,\"ticks\":\"\",\"zerolinecolor\":\"white\"},\"zaxis\":{\"backgroundcolor\":\"#E5ECF6\",\"gridcolor\":\"white\",\"gridwidth\":2,\"linecolor\":\"white\",\"showbackground\":true,\"ticks\":\"\",\"zerolinecolor\":\"white\"}},\"shapedefaults\":{\"line\":{\"color\":\"#2a3f5f\"}},\"ternary\":{\"aaxis\":{\"gridcolor\":\"white\",\"linecolor\":\"white\",\"ticks\":\"\"},\"baxis\":{\"gridcolor\":\"white\",\"linecolor\":\"white\",\"ticks\":\"\"},\"bgcolor\":\"#E5ECF6\",\"caxis\":{\"gridcolor\":\"white\",\"linecolor\":\"white\",\"ticks\":\"\"}},\"title\":{\"x\":0.05},\"xaxis\":{\"automargin\":true,\"gridcolor\":\"white\",\"linecolor\":\"white\",\"ticks\":\"\",\"title\":{\"standoff\":15},\"zerolinecolor\":\"white\",\"zerolinewidth\":2},\"yaxis\":{\"automargin\":true,\"gridcolor\":\"white\",\"linecolor\":\"white\",\"ticks\":\"\",\"title\":{\"standoff\":15},\"zerolinecolor\":\"white\",\"zerolinewidth\":2}}},\"title\":{\"font\":{\"color\":\"#4D5663\"},\"text\":\"Top 100 bigrams after removing stop words\"},\"xaxis\":{\"gridcolor\":\"#E1E5ED\",\"linecolor\":\"black\",\"showgrid\":true,\"tickfont\":{\"color\":\"#4D5663\"},\"title\":{\"font\":{\"color\":\"#4D5663\"},\"text\":\"\"},\"zerolinecolor\":\"#E1E5ED\"},\"yaxis\":{\"gridcolor\":\"#E1E5ED\",\"linecolor\":\"black\",\"showgrid\":true,\"tickfont\":{\"color\":\"#4D5663\"},\"title\":{\"font\":{\"color\":\"#4D5663\"},\"text\":\"Count\"},\"zerolinecolor\":\"#E1E5ED\"}},                        {\"showLink\": true, \"linkText\": \"Export to plot.ly\", \"plotlyServerURL\": \"https://plot.ly\", \"responsive\": true}                    ).then(function(){\n",
       "                            \n",
       "var gd = document.getElementById('2c328641-7949-4f2c-91d6-3a122c1a0a72');\n",
       "var x = new MutationObserver(function (mutations, observer) {{\n",
       "        var display = window.getComputedStyle(gd).display;\n",
       "        if (!display || display === 'none') {{\n",
       "            console.log([gd, 'removed!']);\n",
       "            Plotly.purge(gd);\n",
       "            observer.disconnect();\n",
       "        }}\n",
       "}});\n",
       "\n",
       "// Listen for the removal of the full notebook cells\n",
       "var notebookContainer = gd.closest('#notebook-container');\n",
       "if (notebookContainer) {{\n",
       "    x.observe(notebookContainer, {childList: true});\n",
       "}}\n",
       "\n",
       "// Listen for the clearing of the current output cell\n",
       "var outputEl = gd.closest('.output');\n",
       "if (outputEl) {{\n",
       "    x.observe(outputEl, {childList: true});\n",
       "}}\n",
       "\n",
       "                        })                };                });            </script>        </div>"
      ]
     },
     "metadata": {},
     "output_type": "display_data"
    }
   ],
   "source": [
    "plot_model(plot = 'bigram')"
   ]
  },
  {
   "cell_type": "code",
   "execution_count": 50,
   "id": "2fb4fa3d",
   "metadata": {},
   "outputs": [
    {
     "data": {
      "text/html": [
       "        <script type=\"text/javascript\">\n",
       "        window.PlotlyConfig = {MathJaxConfig: 'local'};\n",
       "        if (window.MathJax) {MathJax.Hub.Config({SVG: {font: \"STIX-Web\"}});}\n",
       "        if (typeof require !== 'undefined') {\n",
       "        require.undef(\"plotly\");\n",
       "        requirejs.config({\n",
       "            paths: {\n",
       "                'plotly': ['https://cdn.plot.ly/plotly-2.11.1.min']\n",
       "            }\n",
       "        });\n",
       "        require(['plotly'], function(Plotly) {\n",
       "            window._Plotly = Plotly;\n",
       "        });\n",
       "        }\n",
       "        </script>\n",
       "        "
      ]
     },
     "metadata": {},
     "output_type": "display_data"
    },
    {
     "data": {
      "application/vnd.plotly.v1+json": {
       "config": {
        "linkText": "Export to plot.ly",
        "plotlyServerURL": "https://plot.ly",
        "showLink": true
       },
       "data": [
        {
         "marker": {
          "color": "rgba(255, 153, 51, 0.6)",
          "line": {
           "color": "rgba(255, 153, 51, 1.0)",
           "width": 1
          }
         },
         "name": "count",
         "orientation": "v",
         "text": "",
         "type": "bar",
         "x": [
          "group",
          "use",
          "work",
          "family",
          "small",
          "husband",
          "help",
          "start",
          "hope",
          "live",
          "marry",
          "well",
          "request",
          "life",
          "member",
          "community",
          "pay",
          "increase",
          "first",
          "customer",
          "provide",
          "want",
          "good",
          "new",
          "plan",
          "product",
          "store",
          "hard",
          "entrepreneur",
          "order",
          "food",
          "run",
          "time",
          "expand",
          "home",
          "go",
          "grow",
          "take",
          "improve",
          "give",
          "repay",
          "stock",
          "fee",
          "need",
          "day",
          "invest",
          "mother",
          "support",
          "keep",
          "farm",
          "market",
          "client",
          "item",
          "rice",
          "month",
          "sale",
          "education",
          "continue",
          "milk",
          "young",
          "clothe",
          "activity",
          "area",
          "service",
          "attend",
          "house",
          "get",
          "dream",
          "offer",
          "local",
          "age",
          "primary",
          "intend",
          "capital",
          "still",
          "steer",
          "daughter",
          "money",
          "large",
          "second",
          "clothing",
          "shop",
          "currently",
          "farmer",
          "operate",
          "come",
          "great",
          "fruit",
          "shoe",
          "say",
          "place",
          "merchandise",
          "high",
          "build",
          "ago",
          "supply",
          "become",
          "vegetable",
          "meet",
          "leave"
         ],
         "y": [
          136,
          131,
          130,
          111,
          101,
          94,
          80,
          78,
          76,
          72,
          66,
          65,
          65,
          64,
          62,
          62,
          60,
          54,
          52,
          51,
          50,
          50,
          48,
          47,
          47,
          45,
          45,
          43,
          43,
          43,
          42,
          41,
          41,
          41,
          40,
          40,
          40,
          40,
          37,
          37,
          35,
          35,
          35,
          34,
          34,
          33,
          33,
          33,
          32,
          32,
          32,
          32,
          31,
          31,
          30,
          30,
          30,
          30,
          30,
          30,
          29,
          28,
          28,
          27,
          27,
          27,
          27,
          26,
          26,
          26,
          26,
          26,
          26,
          25,
          25,
          25,
          25,
          25,
          25,
          24,
          24,
          24,
          24,
          23,
          23,
          23,
          23,
          23,
          22,
          21,
          21,
          21,
          20,
          20,
          20,
          19,
          19,
          19,
          19,
          19
         ]
        }
       ],
       "layout": {
        "legend": {
         "bgcolor": "#F5F6F9",
         "font": {
          "color": "#4D5663"
         }
        },
        "paper_bgcolor": "#F5F6F9",
        "plot_bgcolor": "#F5F6F9",
        "template": {
         "data": {
          "bar": [
           {
            "error_x": {
             "color": "#2a3f5f"
            },
            "error_y": {
             "color": "#2a3f5f"
            },
            "marker": {
             "line": {
              "color": "#E5ECF6",
              "width": 0.5
             },
             "pattern": {
              "fillmode": "overlay",
              "size": 10,
              "solidity": 0.2
             }
            },
            "type": "bar"
           }
          ],
          "barpolar": [
           {
            "marker": {
             "line": {
              "color": "#E5ECF6",
              "width": 0.5
             },
             "pattern": {
              "fillmode": "overlay",
              "size": 10,
              "solidity": 0.2
             }
            },
            "type": "barpolar"
           }
          ],
          "carpet": [
           {
            "aaxis": {
             "endlinecolor": "#2a3f5f",
             "gridcolor": "white",
             "linecolor": "white",
             "minorgridcolor": "white",
             "startlinecolor": "#2a3f5f"
            },
            "baxis": {
             "endlinecolor": "#2a3f5f",
             "gridcolor": "white",
             "linecolor": "white",
             "minorgridcolor": "white",
             "startlinecolor": "#2a3f5f"
            },
            "type": "carpet"
           }
          ],
          "choropleth": [
           {
            "colorbar": {
             "outlinewidth": 0,
             "ticks": ""
            },
            "type": "choropleth"
           }
          ],
          "contour": [
           {
            "colorbar": {
             "outlinewidth": 0,
             "ticks": ""
            },
            "colorscale": [
             [
              0,
              "#0d0887"
             ],
             [
              0.1111111111111111,
              "#46039f"
             ],
             [
              0.2222222222222222,
              "#7201a8"
             ],
             [
              0.3333333333333333,
              "#9c179e"
             ],
             [
              0.4444444444444444,
              "#bd3786"
             ],
             [
              0.5555555555555556,
              "#d8576b"
             ],
             [
              0.6666666666666666,
              "#ed7953"
             ],
             [
              0.7777777777777778,
              "#fb9f3a"
             ],
             [
              0.8888888888888888,
              "#fdca26"
             ],
             [
              1,
              "#f0f921"
             ]
            ],
            "type": "contour"
           }
          ],
          "contourcarpet": [
           {
            "colorbar": {
             "outlinewidth": 0,
             "ticks": ""
            },
            "type": "contourcarpet"
           }
          ],
          "heatmap": [
           {
            "colorbar": {
             "outlinewidth": 0,
             "ticks": ""
            },
            "colorscale": [
             [
              0,
              "#0d0887"
             ],
             [
              0.1111111111111111,
              "#46039f"
             ],
             [
              0.2222222222222222,
              "#7201a8"
             ],
             [
              0.3333333333333333,
              "#9c179e"
             ],
             [
              0.4444444444444444,
              "#bd3786"
             ],
             [
              0.5555555555555556,
              "#d8576b"
             ],
             [
              0.6666666666666666,
              "#ed7953"
             ],
             [
              0.7777777777777778,
              "#fb9f3a"
             ],
             [
              0.8888888888888888,
              "#fdca26"
             ],
             [
              1,
              "#f0f921"
             ]
            ],
            "type": "heatmap"
           }
          ],
          "heatmapgl": [
           {
            "colorbar": {
             "outlinewidth": 0,
             "ticks": ""
            },
            "colorscale": [
             [
              0,
              "#0d0887"
             ],
             [
              0.1111111111111111,
              "#46039f"
             ],
             [
              0.2222222222222222,
              "#7201a8"
             ],
             [
              0.3333333333333333,
              "#9c179e"
             ],
             [
              0.4444444444444444,
              "#bd3786"
             ],
             [
              0.5555555555555556,
              "#d8576b"
             ],
             [
              0.6666666666666666,
              "#ed7953"
             ],
             [
              0.7777777777777778,
              "#fb9f3a"
             ],
             [
              0.8888888888888888,
              "#fdca26"
             ],
             [
              1,
              "#f0f921"
             ]
            ],
            "type": "heatmapgl"
           }
          ],
          "histogram": [
           {
            "marker": {
             "pattern": {
              "fillmode": "overlay",
              "size": 10,
              "solidity": 0.2
             }
            },
            "type": "histogram"
           }
          ],
          "histogram2d": [
           {
            "colorbar": {
             "outlinewidth": 0,
             "ticks": ""
            },
            "colorscale": [
             [
              0,
              "#0d0887"
             ],
             [
              0.1111111111111111,
              "#46039f"
             ],
             [
              0.2222222222222222,
              "#7201a8"
             ],
             [
              0.3333333333333333,
              "#9c179e"
             ],
             [
              0.4444444444444444,
              "#bd3786"
             ],
             [
              0.5555555555555556,
              "#d8576b"
             ],
             [
              0.6666666666666666,
              "#ed7953"
             ],
             [
              0.7777777777777778,
              "#fb9f3a"
             ],
             [
              0.8888888888888888,
              "#fdca26"
             ],
             [
              1,
              "#f0f921"
             ]
            ],
            "type": "histogram2d"
           }
          ],
          "histogram2dcontour": [
           {
            "colorbar": {
             "outlinewidth": 0,
             "ticks": ""
            },
            "colorscale": [
             [
              0,
              "#0d0887"
             ],
             [
              0.1111111111111111,
              "#46039f"
             ],
             [
              0.2222222222222222,
              "#7201a8"
             ],
             [
              0.3333333333333333,
              "#9c179e"
             ],
             [
              0.4444444444444444,
              "#bd3786"
             ],
             [
              0.5555555555555556,
              "#d8576b"
             ],
             [
              0.6666666666666666,
              "#ed7953"
             ],
             [
              0.7777777777777778,
              "#fb9f3a"
             ],
             [
              0.8888888888888888,
              "#fdca26"
             ],
             [
              1,
              "#f0f921"
             ]
            ],
            "type": "histogram2dcontour"
           }
          ],
          "mesh3d": [
           {
            "colorbar": {
             "outlinewidth": 0,
             "ticks": ""
            },
            "type": "mesh3d"
           }
          ],
          "parcoords": [
           {
            "line": {
             "colorbar": {
              "outlinewidth": 0,
              "ticks": ""
             }
            },
            "type": "parcoords"
           }
          ],
          "pie": [
           {
            "automargin": true,
            "type": "pie"
           }
          ],
          "scatter": [
           {
            "fillpattern": {
             "fillmode": "overlay",
             "size": 10,
             "solidity": 0.2
            },
            "type": "scatter"
           }
          ],
          "scatter3d": [
           {
            "line": {
             "colorbar": {
              "outlinewidth": 0,
              "ticks": ""
             }
            },
            "marker": {
             "colorbar": {
              "outlinewidth": 0,
              "ticks": ""
             }
            },
            "type": "scatter3d"
           }
          ],
          "scattercarpet": [
           {
            "marker": {
             "colorbar": {
              "outlinewidth": 0,
              "ticks": ""
             }
            },
            "type": "scattercarpet"
           }
          ],
          "scattergeo": [
           {
            "marker": {
             "colorbar": {
              "outlinewidth": 0,
              "ticks": ""
             }
            },
            "type": "scattergeo"
           }
          ],
          "scattergl": [
           {
            "marker": {
             "colorbar": {
              "outlinewidth": 0,
              "ticks": ""
             }
            },
            "type": "scattergl"
           }
          ],
          "scattermapbox": [
           {
            "marker": {
             "colorbar": {
              "outlinewidth": 0,
              "ticks": ""
             }
            },
            "type": "scattermapbox"
           }
          ],
          "scatterpolar": [
           {
            "marker": {
             "colorbar": {
              "outlinewidth": 0,
              "ticks": ""
             }
            },
            "type": "scatterpolar"
           }
          ],
          "scatterpolargl": [
           {
            "marker": {
             "colorbar": {
              "outlinewidth": 0,
              "ticks": ""
             }
            },
            "type": "scatterpolargl"
           }
          ],
          "scatterternary": [
           {
            "marker": {
             "colorbar": {
              "outlinewidth": 0,
              "ticks": ""
             }
            },
            "type": "scatterternary"
           }
          ],
          "surface": [
           {
            "colorbar": {
             "outlinewidth": 0,
             "ticks": ""
            },
            "colorscale": [
             [
              0,
              "#0d0887"
             ],
             [
              0.1111111111111111,
              "#46039f"
             ],
             [
              0.2222222222222222,
              "#7201a8"
             ],
             [
              0.3333333333333333,
              "#9c179e"
             ],
             [
              0.4444444444444444,
              "#bd3786"
             ],
             [
              0.5555555555555556,
              "#d8576b"
             ],
             [
              0.6666666666666666,
              "#ed7953"
             ],
             [
              0.7777777777777778,
              "#fb9f3a"
             ],
             [
              0.8888888888888888,
              "#fdca26"
             ],
             [
              1,
              "#f0f921"
             ]
            ],
            "type": "surface"
           }
          ],
          "table": [
           {
            "cells": {
             "fill": {
              "color": "#EBF0F8"
             },
             "line": {
              "color": "white"
             }
            },
            "header": {
             "fill": {
              "color": "#C8D4E3"
             },
             "line": {
              "color": "white"
             }
            },
            "type": "table"
           }
          ]
         },
         "layout": {
          "annotationdefaults": {
           "arrowcolor": "#2a3f5f",
           "arrowhead": 0,
           "arrowwidth": 1
          },
          "autotypenumbers": "strict",
          "coloraxis": {
           "colorbar": {
            "outlinewidth": 0,
            "ticks": ""
           }
          },
          "colorscale": {
           "diverging": [
            [
             0,
             "#8e0152"
            ],
            [
             0.1,
             "#c51b7d"
            ],
            [
             0.2,
             "#de77ae"
            ],
            [
             0.3,
             "#f1b6da"
            ],
            [
             0.4,
             "#fde0ef"
            ],
            [
             0.5,
             "#f7f7f7"
            ],
            [
             0.6,
             "#e6f5d0"
            ],
            [
             0.7,
             "#b8e186"
            ],
            [
             0.8,
             "#7fbc41"
            ],
            [
             0.9,
             "#4d9221"
            ],
            [
             1,
             "#276419"
            ]
           ],
           "sequential": [
            [
             0,
             "#0d0887"
            ],
            [
             0.1111111111111111,
             "#46039f"
            ],
            [
             0.2222222222222222,
             "#7201a8"
            ],
            [
             0.3333333333333333,
             "#9c179e"
            ],
            [
             0.4444444444444444,
             "#bd3786"
            ],
            [
             0.5555555555555556,
             "#d8576b"
            ],
            [
             0.6666666666666666,
             "#ed7953"
            ],
            [
             0.7777777777777778,
             "#fb9f3a"
            ],
            [
             0.8888888888888888,
             "#fdca26"
            ],
            [
             1,
             "#f0f921"
            ]
           ],
           "sequentialminus": [
            [
             0,
             "#0d0887"
            ],
            [
             0.1111111111111111,
             "#46039f"
            ],
            [
             0.2222222222222222,
             "#7201a8"
            ],
            [
             0.3333333333333333,
             "#9c179e"
            ],
            [
             0.4444444444444444,
             "#bd3786"
            ],
            [
             0.5555555555555556,
             "#d8576b"
            ],
            [
             0.6666666666666666,
             "#ed7953"
            ],
            [
             0.7777777777777778,
             "#fb9f3a"
            ],
            [
             0.8888888888888888,
             "#fdca26"
            ],
            [
             1,
             "#f0f921"
            ]
           ]
          },
          "colorway": [
           "#636efa",
           "#EF553B",
           "#00cc96",
           "#ab63fa",
           "#FFA15A",
           "#19d3f3",
           "#FF6692",
           "#B6E880",
           "#FF97FF",
           "#FECB52"
          ],
          "font": {
           "color": "#2a3f5f"
          },
          "geo": {
           "bgcolor": "white",
           "lakecolor": "white",
           "landcolor": "#E5ECF6",
           "showlakes": true,
           "showland": true,
           "subunitcolor": "white"
          },
          "hoverlabel": {
           "align": "left"
          },
          "hovermode": "closest",
          "mapbox": {
           "style": "light"
          },
          "paper_bgcolor": "white",
          "plot_bgcolor": "#E5ECF6",
          "polar": {
           "angularaxis": {
            "gridcolor": "white",
            "linecolor": "white",
            "ticks": ""
           },
           "bgcolor": "#E5ECF6",
           "radialaxis": {
            "gridcolor": "white",
            "linecolor": "white",
            "ticks": ""
           }
          },
          "scene": {
           "xaxis": {
            "backgroundcolor": "#E5ECF6",
            "gridcolor": "white",
            "gridwidth": 2,
            "linecolor": "white",
            "showbackground": true,
            "ticks": "",
            "zerolinecolor": "white"
           },
           "yaxis": {
            "backgroundcolor": "#E5ECF6",
            "gridcolor": "white",
            "gridwidth": 2,
            "linecolor": "white",
            "showbackground": true,
            "ticks": "",
            "zerolinecolor": "white"
           },
           "zaxis": {
            "backgroundcolor": "#E5ECF6",
            "gridcolor": "white",
            "gridwidth": 2,
            "linecolor": "white",
            "showbackground": true,
            "ticks": "",
            "zerolinecolor": "white"
           }
          },
          "shapedefaults": {
           "line": {
            "color": "#2a3f5f"
           }
          },
          "ternary": {
           "aaxis": {
            "gridcolor": "white",
            "linecolor": "white",
            "ticks": ""
           },
           "baxis": {
            "gridcolor": "white",
            "linecolor": "white",
            "ticks": ""
           },
           "bgcolor": "#E5ECF6",
           "caxis": {
            "gridcolor": "white",
            "linecolor": "white",
            "ticks": ""
           }
          },
          "title": {
           "x": 0.05
          },
          "xaxis": {
           "automargin": true,
           "gridcolor": "white",
           "linecolor": "white",
           "ticks": "",
           "title": {
            "standoff": 15
           },
           "zerolinecolor": "white",
           "zerolinewidth": 2
          },
          "yaxis": {
           "automargin": true,
           "gridcolor": "white",
           "linecolor": "white",
           "ticks": "",
           "title": {
            "standoff": 15
           },
           "zerolinecolor": "white",
           "zerolinewidth": 2
          }
         }
        },
        "title": {
         "font": {
          "color": "#4D5663"
         },
         "text": "Topic 1: Top 100 words after removing stop words"
        },
        "xaxis": {
         "gridcolor": "#E1E5ED",
         "linecolor": "black",
         "showgrid": true,
         "tickfont": {
          "color": "#4D5663"
         },
         "title": {
          "font": {
           "color": "#4D5663"
          },
          "text": ""
         },
         "zerolinecolor": "#E1E5ED"
        },
        "yaxis": {
         "gridcolor": "#E1E5ED",
         "linecolor": "black",
         "showgrid": true,
         "tickfont": {
          "color": "#4D5663"
         },
         "title": {
          "font": {
           "color": "#4D5663"
          },
          "text": "Count"
         },
         "zerolinecolor": "#E1E5ED"
        }
       }
      },
      "text/html": [
       "<div>                            <div id=\"9b5a6354-5faa-4349-991d-19c68eba8072\" class=\"plotly-graph-div\" style=\"height:525px; width:100%;\"></div>            <script type=\"text/javascript\">                require([\"plotly\"], function(Plotly) {                    window.PLOTLYENV=window.PLOTLYENV || {};\n",
       "                    window.PLOTLYENV.BASE_URL='https://plot.ly';                                    if (document.getElementById(\"9b5a6354-5faa-4349-991d-19c68eba8072\")) {                    Plotly.newPlot(                        \"9b5a6354-5faa-4349-991d-19c68eba8072\",                        [{\"marker\":{\"color\":\"rgba(255, 153, 51, 0.6)\",\"line\":{\"color\":\"rgba(255, 153, 51, 1.0)\",\"width\":1}},\"name\":\"count\",\"orientation\":\"v\",\"text\":\"\",\"x\":[\"group\",\"use\",\"work\",\"family\",\"small\",\"husband\",\"help\",\"start\",\"hope\",\"live\",\"marry\",\"well\",\"request\",\"life\",\"member\",\"community\",\"pay\",\"increase\",\"first\",\"customer\",\"provide\",\"want\",\"good\",\"new\",\"plan\",\"product\",\"store\",\"hard\",\"entrepreneur\",\"order\",\"food\",\"run\",\"time\",\"expand\",\"home\",\"go\",\"grow\",\"take\",\"improve\",\"give\",\"repay\",\"stock\",\"fee\",\"need\",\"day\",\"invest\",\"mother\",\"support\",\"keep\",\"farm\",\"market\",\"client\",\"item\",\"rice\",\"month\",\"sale\",\"education\",\"continue\",\"milk\",\"young\",\"clothe\",\"activity\",\"area\",\"service\",\"attend\",\"house\",\"get\",\"dream\",\"offer\",\"local\",\"age\",\"primary\",\"intend\",\"capital\",\"still\",\"steer\",\"daughter\",\"money\",\"large\",\"second\",\"clothing\",\"shop\",\"currently\",\"farmer\",\"operate\",\"come\",\"great\",\"fruit\",\"shoe\",\"say\",\"place\",\"merchandise\",\"high\",\"build\",\"ago\",\"supply\",\"become\",\"vegetable\",\"meet\",\"leave\"],\"y\":[136,131,130,111,101,94,80,78,76,72,66,65,65,64,62,62,60,54,52,51,50,50,48,47,47,45,45,43,43,43,42,41,41,41,40,40,40,40,37,37,35,35,35,34,34,33,33,33,32,32,32,32,31,31,30,30,30,30,30,30,29,28,28,27,27,27,27,26,26,26,26,26,26,25,25,25,25,25,25,24,24,24,24,23,23,23,23,23,22,21,21,21,20,20,20,19,19,19,19,19],\"type\":\"bar\"}],                        {\"legend\":{\"bgcolor\":\"#F5F6F9\",\"font\":{\"color\":\"#4D5663\"}},\"paper_bgcolor\":\"#F5F6F9\",\"plot_bgcolor\":\"#F5F6F9\",\"template\":{\"data\":{\"barpolar\":[{\"marker\":{\"line\":{\"color\":\"#E5ECF6\",\"width\":0.5},\"pattern\":{\"fillmode\":\"overlay\",\"size\":10,\"solidity\":0.2}},\"type\":\"barpolar\"}],\"bar\":[{\"error_x\":{\"color\":\"#2a3f5f\"},\"error_y\":{\"color\":\"#2a3f5f\"},\"marker\":{\"line\":{\"color\":\"#E5ECF6\",\"width\":0.5},\"pattern\":{\"fillmode\":\"overlay\",\"size\":10,\"solidity\":0.2}},\"type\":\"bar\"}],\"carpet\":[{\"aaxis\":{\"endlinecolor\":\"#2a3f5f\",\"gridcolor\":\"white\",\"linecolor\":\"white\",\"minorgridcolor\":\"white\",\"startlinecolor\":\"#2a3f5f\"},\"baxis\":{\"endlinecolor\":\"#2a3f5f\",\"gridcolor\":\"white\",\"linecolor\":\"white\",\"minorgridcolor\":\"white\",\"startlinecolor\":\"#2a3f5f\"},\"type\":\"carpet\"}],\"choropleth\":[{\"colorbar\":{\"outlinewidth\":0,\"ticks\":\"\"},\"type\":\"choropleth\"}],\"contourcarpet\":[{\"colorbar\":{\"outlinewidth\":0,\"ticks\":\"\"},\"type\":\"contourcarpet\"}],\"contour\":[{\"colorbar\":{\"outlinewidth\":0,\"ticks\":\"\"},\"colorscale\":[[0.0,\"#0d0887\"],[0.1111111111111111,\"#46039f\"],[0.2222222222222222,\"#7201a8\"],[0.3333333333333333,\"#9c179e\"],[0.4444444444444444,\"#bd3786\"],[0.5555555555555556,\"#d8576b\"],[0.6666666666666666,\"#ed7953\"],[0.7777777777777778,\"#fb9f3a\"],[0.8888888888888888,\"#fdca26\"],[1.0,\"#f0f921\"]],\"type\":\"contour\"}],\"heatmapgl\":[{\"colorbar\":{\"outlinewidth\":0,\"ticks\":\"\"},\"colorscale\":[[0.0,\"#0d0887\"],[0.1111111111111111,\"#46039f\"],[0.2222222222222222,\"#7201a8\"],[0.3333333333333333,\"#9c179e\"],[0.4444444444444444,\"#bd3786\"],[0.5555555555555556,\"#d8576b\"],[0.6666666666666666,\"#ed7953\"],[0.7777777777777778,\"#fb9f3a\"],[0.8888888888888888,\"#fdca26\"],[1.0,\"#f0f921\"]],\"type\":\"heatmapgl\"}],\"heatmap\":[{\"colorbar\":{\"outlinewidth\":0,\"ticks\":\"\"},\"colorscale\":[[0.0,\"#0d0887\"],[0.1111111111111111,\"#46039f\"],[0.2222222222222222,\"#7201a8\"],[0.3333333333333333,\"#9c179e\"],[0.4444444444444444,\"#bd3786\"],[0.5555555555555556,\"#d8576b\"],[0.6666666666666666,\"#ed7953\"],[0.7777777777777778,\"#fb9f3a\"],[0.8888888888888888,\"#fdca26\"],[1.0,\"#f0f921\"]],\"type\":\"heatmap\"}],\"histogram2dcontour\":[{\"colorbar\":{\"outlinewidth\":0,\"ticks\":\"\"},\"colorscale\":[[0.0,\"#0d0887\"],[0.1111111111111111,\"#46039f\"],[0.2222222222222222,\"#7201a8\"],[0.3333333333333333,\"#9c179e\"],[0.4444444444444444,\"#bd3786\"],[0.5555555555555556,\"#d8576b\"],[0.6666666666666666,\"#ed7953\"],[0.7777777777777778,\"#fb9f3a\"],[0.8888888888888888,\"#fdca26\"],[1.0,\"#f0f921\"]],\"type\":\"histogram2dcontour\"}],\"histogram2d\":[{\"colorbar\":{\"outlinewidth\":0,\"ticks\":\"\"},\"colorscale\":[[0.0,\"#0d0887\"],[0.1111111111111111,\"#46039f\"],[0.2222222222222222,\"#7201a8\"],[0.3333333333333333,\"#9c179e\"],[0.4444444444444444,\"#bd3786\"],[0.5555555555555556,\"#d8576b\"],[0.6666666666666666,\"#ed7953\"],[0.7777777777777778,\"#fb9f3a\"],[0.8888888888888888,\"#fdca26\"],[1.0,\"#f0f921\"]],\"type\":\"histogram2d\"}],\"histogram\":[{\"marker\":{\"pattern\":{\"fillmode\":\"overlay\",\"size\":10,\"solidity\":0.2}},\"type\":\"histogram\"}],\"mesh3d\":[{\"colorbar\":{\"outlinewidth\":0,\"ticks\":\"\"},\"type\":\"mesh3d\"}],\"parcoords\":[{\"line\":{\"colorbar\":{\"outlinewidth\":0,\"ticks\":\"\"}},\"type\":\"parcoords\"}],\"pie\":[{\"automargin\":true,\"type\":\"pie\"}],\"scatter3d\":[{\"line\":{\"colorbar\":{\"outlinewidth\":0,\"ticks\":\"\"}},\"marker\":{\"colorbar\":{\"outlinewidth\":0,\"ticks\":\"\"}},\"type\":\"scatter3d\"}],\"scattercarpet\":[{\"marker\":{\"colorbar\":{\"outlinewidth\":0,\"ticks\":\"\"}},\"type\":\"scattercarpet\"}],\"scattergeo\":[{\"marker\":{\"colorbar\":{\"outlinewidth\":0,\"ticks\":\"\"}},\"type\":\"scattergeo\"}],\"scattergl\":[{\"marker\":{\"colorbar\":{\"outlinewidth\":0,\"ticks\":\"\"}},\"type\":\"scattergl\"}],\"scattermapbox\":[{\"marker\":{\"colorbar\":{\"outlinewidth\":0,\"ticks\":\"\"}},\"type\":\"scattermapbox\"}],\"scatterpolargl\":[{\"marker\":{\"colorbar\":{\"outlinewidth\":0,\"ticks\":\"\"}},\"type\":\"scatterpolargl\"}],\"scatterpolar\":[{\"marker\":{\"colorbar\":{\"outlinewidth\":0,\"ticks\":\"\"}},\"type\":\"scatterpolar\"}],\"scatter\":[{\"fillpattern\":{\"fillmode\":\"overlay\",\"size\":10,\"solidity\":0.2},\"type\":\"scatter\"}],\"scatterternary\":[{\"marker\":{\"colorbar\":{\"outlinewidth\":0,\"ticks\":\"\"}},\"type\":\"scatterternary\"}],\"surface\":[{\"colorbar\":{\"outlinewidth\":0,\"ticks\":\"\"},\"colorscale\":[[0.0,\"#0d0887\"],[0.1111111111111111,\"#46039f\"],[0.2222222222222222,\"#7201a8\"],[0.3333333333333333,\"#9c179e\"],[0.4444444444444444,\"#bd3786\"],[0.5555555555555556,\"#d8576b\"],[0.6666666666666666,\"#ed7953\"],[0.7777777777777778,\"#fb9f3a\"],[0.8888888888888888,\"#fdca26\"],[1.0,\"#f0f921\"]],\"type\":\"surface\"}],\"table\":[{\"cells\":{\"fill\":{\"color\":\"#EBF0F8\"},\"line\":{\"color\":\"white\"}},\"header\":{\"fill\":{\"color\":\"#C8D4E3\"},\"line\":{\"color\":\"white\"}},\"type\":\"table\"}]},\"layout\":{\"annotationdefaults\":{\"arrowcolor\":\"#2a3f5f\",\"arrowhead\":0,\"arrowwidth\":1},\"autotypenumbers\":\"strict\",\"coloraxis\":{\"colorbar\":{\"outlinewidth\":0,\"ticks\":\"\"}},\"colorscale\":{\"diverging\":[[0,\"#8e0152\"],[0.1,\"#c51b7d\"],[0.2,\"#de77ae\"],[0.3,\"#f1b6da\"],[0.4,\"#fde0ef\"],[0.5,\"#f7f7f7\"],[0.6,\"#e6f5d0\"],[0.7,\"#b8e186\"],[0.8,\"#7fbc41\"],[0.9,\"#4d9221\"],[1,\"#276419\"]],\"sequential\":[[0.0,\"#0d0887\"],[0.1111111111111111,\"#46039f\"],[0.2222222222222222,\"#7201a8\"],[0.3333333333333333,\"#9c179e\"],[0.4444444444444444,\"#bd3786\"],[0.5555555555555556,\"#d8576b\"],[0.6666666666666666,\"#ed7953\"],[0.7777777777777778,\"#fb9f3a\"],[0.8888888888888888,\"#fdca26\"],[1.0,\"#f0f921\"]],\"sequentialminus\":[[0.0,\"#0d0887\"],[0.1111111111111111,\"#46039f\"],[0.2222222222222222,\"#7201a8\"],[0.3333333333333333,\"#9c179e\"],[0.4444444444444444,\"#bd3786\"],[0.5555555555555556,\"#d8576b\"],[0.6666666666666666,\"#ed7953\"],[0.7777777777777778,\"#fb9f3a\"],[0.8888888888888888,\"#fdca26\"],[1.0,\"#f0f921\"]]},\"colorway\":[\"#636efa\",\"#EF553B\",\"#00cc96\",\"#ab63fa\",\"#FFA15A\",\"#19d3f3\",\"#FF6692\",\"#B6E880\",\"#FF97FF\",\"#FECB52\"],\"font\":{\"color\":\"#2a3f5f\"},\"geo\":{\"bgcolor\":\"white\",\"lakecolor\":\"white\",\"landcolor\":\"#E5ECF6\",\"showlakes\":true,\"showland\":true,\"subunitcolor\":\"white\"},\"hoverlabel\":{\"align\":\"left\"},\"hovermode\":\"closest\",\"mapbox\":{\"style\":\"light\"},\"paper_bgcolor\":\"white\",\"plot_bgcolor\":\"#E5ECF6\",\"polar\":{\"angularaxis\":{\"gridcolor\":\"white\",\"linecolor\":\"white\",\"ticks\":\"\"},\"bgcolor\":\"#E5ECF6\",\"radialaxis\":{\"gridcolor\":\"white\",\"linecolor\":\"white\",\"ticks\":\"\"}},\"scene\":{\"xaxis\":{\"backgroundcolor\":\"#E5ECF6\",\"gridcolor\":\"white\",\"gridwidth\":2,\"linecolor\":\"white\",\"showbackground\":true,\"ticks\":\"\",\"zerolinecolor\":\"white\"},\"yaxis\":{\"backgroundcolor\":\"#E5ECF6\",\"gridcolor\":\"white\",\"gridwidth\":2,\"linecolor\":\"white\",\"showbackground\":true,\"ticks\":\"\",\"zerolinecolor\":\"white\"},\"zaxis\":{\"backgroundcolor\":\"#E5ECF6\",\"gridcolor\":\"white\",\"gridwidth\":2,\"linecolor\":\"white\",\"showbackground\":true,\"ticks\":\"\",\"zerolinecolor\":\"white\"}},\"shapedefaults\":{\"line\":{\"color\":\"#2a3f5f\"}},\"ternary\":{\"aaxis\":{\"gridcolor\":\"white\",\"linecolor\":\"white\",\"ticks\":\"\"},\"baxis\":{\"gridcolor\":\"white\",\"linecolor\":\"white\",\"ticks\":\"\"},\"bgcolor\":\"#E5ECF6\",\"caxis\":{\"gridcolor\":\"white\",\"linecolor\":\"white\",\"ticks\":\"\"}},\"title\":{\"x\":0.05},\"xaxis\":{\"automargin\":true,\"gridcolor\":\"white\",\"linecolor\":\"white\",\"ticks\":\"\",\"title\":{\"standoff\":15},\"zerolinecolor\":\"white\",\"zerolinewidth\":2},\"yaxis\":{\"automargin\":true,\"gridcolor\":\"white\",\"linecolor\":\"white\",\"ticks\":\"\",\"title\":{\"standoff\":15},\"zerolinecolor\":\"white\",\"zerolinewidth\":2}}},\"title\":{\"font\":{\"color\":\"#4D5663\"},\"text\":\"Topic 1: Top 100 words after removing stop words\"},\"xaxis\":{\"gridcolor\":\"#E1E5ED\",\"linecolor\":\"black\",\"showgrid\":true,\"tickfont\":{\"color\":\"#4D5663\"},\"title\":{\"font\":{\"color\":\"#4D5663\"},\"text\":\"\"},\"zerolinecolor\":\"#E1E5ED\"},\"yaxis\":{\"gridcolor\":\"#E1E5ED\",\"linecolor\":\"black\",\"showgrid\":true,\"tickfont\":{\"color\":\"#4D5663\"},\"title\":{\"font\":{\"color\":\"#4D5663\"},\"text\":\"Count\"},\"zerolinecolor\":\"#E1E5ED\"}},                        {\"showLink\": true, \"linkText\": \"Export to plot.ly\", \"plotlyServerURL\": \"https://plot.ly\", \"responsive\": true}                    ).then(function(){\n",
       "                            \n",
       "var gd = document.getElementById('9b5a6354-5faa-4349-991d-19c68eba8072');\n",
       "var x = new MutationObserver(function (mutations, observer) {{\n",
       "        var display = window.getComputedStyle(gd).display;\n",
       "        if (!display || display === 'none') {{\n",
       "            console.log([gd, 'removed!']);\n",
       "            Plotly.purge(gd);\n",
       "            observer.disconnect();\n",
       "        }}\n",
       "}});\n",
       "\n",
       "// Listen for the removal of the full notebook cells\n",
       "var notebookContainer = gd.closest('#notebook-container');\n",
       "if (notebookContainer) {{\n",
       "    x.observe(notebookContainer, {childList: true});\n",
       "}}\n",
       "\n",
       "// Listen for the clearing of the current output cell\n",
       "var outputEl = gd.closest('.output');\n",
       "if (outputEl) {{\n",
       "    x.observe(outputEl, {childList: true});\n",
       "}}\n",
       "\n",
       "                        })                };                });            </script>        </div>"
      ]
     },
     "metadata": {},
     "output_type": "display_data"
    }
   ],
   "source": [
    "plot_model(lda, plot = 'frequency', topic_num = 'Topic 1')"
   ]
  },
  {
   "cell_type": "code",
   "execution_count": 51,
   "id": "7bb2e0d1",
   "metadata": {},
   "outputs": [
    {
     "data": {
      "text/html": [
       "        <script type=\"text/javascript\">\n",
       "        window.PlotlyConfig = {MathJaxConfig: 'local'};\n",
       "        if (window.MathJax) {MathJax.Hub.Config({SVG: {font: \"STIX-Web\"}});}\n",
       "        if (typeof require !== 'undefined') {\n",
       "        require.undef(\"plotly\");\n",
       "        requirejs.config({\n",
       "            paths: {\n",
       "                'plotly': ['https://cdn.plot.ly/plotly-2.11.1.min']\n",
       "            }\n",
       "        });\n",
       "        require(['plotly'], function(Plotly) {\n",
       "            window._Plotly = Plotly;\n",
       "        });\n",
       "        }\n",
       "        </script>\n",
       "        "
      ]
     },
     "metadata": {},
     "output_type": "display_data"
    },
    {
     "data": {
      "application/vnd.plotly.v1+json": {
       "config": {
        "plotlyServerURL": "https://plot.ly"
       },
       "data": [
        {
         "alignmentgroup": "True",
         "customdata": [
          [
           "N, A"
          ],
          [
           "N, A"
          ],
          [
           "N, A"
          ],
          [
           "N, A"
          ]
         ],
         "hovertemplate": "Topic=%{x}<br>Documents=%{y}<br>Keyword=%{customdata[0]}<extra></extra>",
         "legendgroup": "",
         "marker": {
          "color": "#636efa",
          "pattern": {
           "shape": ""
          }
         },
         "name": "",
         "offsetgroup": "",
         "orientation": "v",
         "showlegend": false,
         "textposition": "auto",
         "type": "bar",
         "x": [
          "Topic 0",
          "Topic 1",
          "Topic 2",
          "Topic 3"
         ],
         "xaxis": "x",
         "y": [
          368,
          194,
          316,
          122
         ],
         "yaxis": "y"
        }
       ],
       "layout": {
        "barmode": "relative",
        "legend": {
         "tracegroupgap": 0
        },
        "template": {
         "data": {
          "bar": [
           {
            "error_x": {
             "color": "#2a3f5f"
            },
            "error_y": {
             "color": "#2a3f5f"
            },
            "marker": {
             "line": {
              "color": "#E5ECF6",
              "width": 0.5
             },
             "pattern": {
              "fillmode": "overlay",
              "size": 10,
              "solidity": 0.2
             }
            },
            "type": "bar"
           }
          ],
          "barpolar": [
           {
            "marker": {
             "line": {
              "color": "#E5ECF6",
              "width": 0.5
             },
             "pattern": {
              "fillmode": "overlay",
              "size": 10,
              "solidity": 0.2
             }
            },
            "type": "barpolar"
           }
          ],
          "carpet": [
           {
            "aaxis": {
             "endlinecolor": "#2a3f5f",
             "gridcolor": "white",
             "linecolor": "white",
             "minorgridcolor": "white",
             "startlinecolor": "#2a3f5f"
            },
            "baxis": {
             "endlinecolor": "#2a3f5f",
             "gridcolor": "white",
             "linecolor": "white",
             "minorgridcolor": "white",
             "startlinecolor": "#2a3f5f"
            },
            "type": "carpet"
           }
          ],
          "choropleth": [
           {
            "colorbar": {
             "outlinewidth": 0,
             "ticks": ""
            },
            "type": "choropleth"
           }
          ],
          "contour": [
           {
            "colorbar": {
             "outlinewidth": 0,
             "ticks": ""
            },
            "colorscale": [
             [
              0,
              "#0d0887"
             ],
             [
              0.1111111111111111,
              "#46039f"
             ],
             [
              0.2222222222222222,
              "#7201a8"
             ],
             [
              0.3333333333333333,
              "#9c179e"
             ],
             [
              0.4444444444444444,
              "#bd3786"
             ],
             [
              0.5555555555555556,
              "#d8576b"
             ],
             [
              0.6666666666666666,
              "#ed7953"
             ],
             [
              0.7777777777777778,
              "#fb9f3a"
             ],
             [
              0.8888888888888888,
              "#fdca26"
             ],
             [
              1,
              "#f0f921"
             ]
            ],
            "type": "contour"
           }
          ],
          "contourcarpet": [
           {
            "colorbar": {
             "outlinewidth": 0,
             "ticks": ""
            },
            "type": "contourcarpet"
           }
          ],
          "heatmap": [
           {
            "colorbar": {
             "outlinewidth": 0,
             "ticks": ""
            },
            "colorscale": [
             [
              0,
              "#0d0887"
             ],
             [
              0.1111111111111111,
              "#46039f"
             ],
             [
              0.2222222222222222,
              "#7201a8"
             ],
             [
              0.3333333333333333,
              "#9c179e"
             ],
             [
              0.4444444444444444,
              "#bd3786"
             ],
             [
              0.5555555555555556,
              "#d8576b"
             ],
             [
              0.6666666666666666,
              "#ed7953"
             ],
             [
              0.7777777777777778,
              "#fb9f3a"
             ],
             [
              0.8888888888888888,
              "#fdca26"
             ],
             [
              1,
              "#f0f921"
             ]
            ],
            "type": "heatmap"
           }
          ],
          "heatmapgl": [
           {
            "colorbar": {
             "outlinewidth": 0,
             "ticks": ""
            },
            "colorscale": [
             [
              0,
              "#0d0887"
             ],
             [
              0.1111111111111111,
              "#46039f"
             ],
             [
              0.2222222222222222,
              "#7201a8"
             ],
             [
              0.3333333333333333,
              "#9c179e"
             ],
             [
              0.4444444444444444,
              "#bd3786"
             ],
             [
              0.5555555555555556,
              "#d8576b"
             ],
             [
              0.6666666666666666,
              "#ed7953"
             ],
             [
              0.7777777777777778,
              "#fb9f3a"
             ],
             [
              0.8888888888888888,
              "#fdca26"
             ],
             [
              1,
              "#f0f921"
             ]
            ],
            "type": "heatmapgl"
           }
          ],
          "histogram": [
           {
            "marker": {
             "pattern": {
              "fillmode": "overlay",
              "size": 10,
              "solidity": 0.2
             }
            },
            "type": "histogram"
           }
          ],
          "histogram2d": [
           {
            "colorbar": {
             "outlinewidth": 0,
             "ticks": ""
            },
            "colorscale": [
             [
              0,
              "#0d0887"
             ],
             [
              0.1111111111111111,
              "#46039f"
             ],
             [
              0.2222222222222222,
              "#7201a8"
             ],
             [
              0.3333333333333333,
              "#9c179e"
             ],
             [
              0.4444444444444444,
              "#bd3786"
             ],
             [
              0.5555555555555556,
              "#d8576b"
             ],
             [
              0.6666666666666666,
              "#ed7953"
             ],
             [
              0.7777777777777778,
              "#fb9f3a"
             ],
             [
              0.8888888888888888,
              "#fdca26"
             ],
             [
              1,
              "#f0f921"
             ]
            ],
            "type": "histogram2d"
           }
          ],
          "histogram2dcontour": [
           {
            "colorbar": {
             "outlinewidth": 0,
             "ticks": ""
            },
            "colorscale": [
             [
              0,
              "#0d0887"
             ],
             [
              0.1111111111111111,
              "#46039f"
             ],
             [
              0.2222222222222222,
              "#7201a8"
             ],
             [
              0.3333333333333333,
              "#9c179e"
             ],
             [
              0.4444444444444444,
              "#bd3786"
             ],
             [
              0.5555555555555556,
              "#d8576b"
             ],
             [
              0.6666666666666666,
              "#ed7953"
             ],
             [
              0.7777777777777778,
              "#fb9f3a"
             ],
             [
              0.8888888888888888,
              "#fdca26"
             ],
             [
              1,
              "#f0f921"
             ]
            ],
            "type": "histogram2dcontour"
           }
          ],
          "mesh3d": [
           {
            "colorbar": {
             "outlinewidth": 0,
             "ticks": ""
            },
            "type": "mesh3d"
           }
          ],
          "parcoords": [
           {
            "line": {
             "colorbar": {
              "outlinewidth": 0,
              "ticks": ""
             }
            },
            "type": "parcoords"
           }
          ],
          "pie": [
           {
            "automargin": true,
            "type": "pie"
           }
          ],
          "scatter": [
           {
            "fillpattern": {
             "fillmode": "overlay",
             "size": 10,
             "solidity": 0.2
            },
            "type": "scatter"
           }
          ],
          "scatter3d": [
           {
            "line": {
             "colorbar": {
              "outlinewidth": 0,
              "ticks": ""
             }
            },
            "marker": {
             "colorbar": {
              "outlinewidth": 0,
              "ticks": ""
             }
            },
            "type": "scatter3d"
           }
          ],
          "scattercarpet": [
           {
            "marker": {
             "colorbar": {
              "outlinewidth": 0,
              "ticks": ""
             }
            },
            "type": "scattercarpet"
           }
          ],
          "scattergeo": [
           {
            "marker": {
             "colorbar": {
              "outlinewidth": 0,
              "ticks": ""
             }
            },
            "type": "scattergeo"
           }
          ],
          "scattergl": [
           {
            "marker": {
             "colorbar": {
              "outlinewidth": 0,
              "ticks": ""
             }
            },
            "type": "scattergl"
           }
          ],
          "scattermapbox": [
           {
            "marker": {
             "colorbar": {
              "outlinewidth": 0,
              "ticks": ""
             }
            },
            "type": "scattermapbox"
           }
          ],
          "scatterpolar": [
           {
            "marker": {
             "colorbar": {
              "outlinewidth": 0,
              "ticks": ""
             }
            },
            "type": "scatterpolar"
           }
          ],
          "scatterpolargl": [
           {
            "marker": {
             "colorbar": {
              "outlinewidth": 0,
              "ticks": ""
             }
            },
            "type": "scatterpolargl"
           }
          ],
          "scatterternary": [
           {
            "marker": {
             "colorbar": {
              "outlinewidth": 0,
              "ticks": ""
             }
            },
            "type": "scatterternary"
           }
          ],
          "surface": [
           {
            "colorbar": {
             "outlinewidth": 0,
             "ticks": ""
            },
            "colorscale": [
             [
              0,
              "#0d0887"
             ],
             [
              0.1111111111111111,
              "#46039f"
             ],
             [
              0.2222222222222222,
              "#7201a8"
             ],
             [
              0.3333333333333333,
              "#9c179e"
             ],
             [
              0.4444444444444444,
              "#bd3786"
             ],
             [
              0.5555555555555556,
              "#d8576b"
             ],
             [
              0.6666666666666666,
              "#ed7953"
             ],
             [
              0.7777777777777778,
              "#fb9f3a"
             ],
             [
              0.8888888888888888,
              "#fdca26"
             ],
             [
              1,
              "#f0f921"
             ]
            ],
            "type": "surface"
           }
          ],
          "table": [
           {
            "cells": {
             "fill": {
              "color": "#EBF0F8"
             },
             "line": {
              "color": "white"
             }
            },
            "header": {
             "fill": {
              "color": "#C8D4E3"
             },
             "line": {
              "color": "white"
             }
            },
            "type": "table"
           }
          ]
         },
         "layout": {
          "annotationdefaults": {
           "arrowcolor": "#2a3f5f",
           "arrowhead": 0,
           "arrowwidth": 1
          },
          "autotypenumbers": "strict",
          "coloraxis": {
           "colorbar": {
            "outlinewidth": 0,
            "ticks": ""
           }
          },
          "colorscale": {
           "diverging": [
            [
             0,
             "#8e0152"
            ],
            [
             0.1,
             "#c51b7d"
            ],
            [
             0.2,
             "#de77ae"
            ],
            [
             0.3,
             "#f1b6da"
            ],
            [
             0.4,
             "#fde0ef"
            ],
            [
             0.5,
             "#f7f7f7"
            ],
            [
             0.6,
             "#e6f5d0"
            ],
            [
             0.7,
             "#b8e186"
            ],
            [
             0.8,
             "#7fbc41"
            ],
            [
             0.9,
             "#4d9221"
            ],
            [
             1,
             "#276419"
            ]
           ],
           "sequential": [
            [
             0,
             "#0d0887"
            ],
            [
             0.1111111111111111,
             "#46039f"
            ],
            [
             0.2222222222222222,
             "#7201a8"
            ],
            [
             0.3333333333333333,
             "#9c179e"
            ],
            [
             0.4444444444444444,
             "#bd3786"
            ],
            [
             0.5555555555555556,
             "#d8576b"
            ],
            [
             0.6666666666666666,
             "#ed7953"
            ],
            [
             0.7777777777777778,
             "#fb9f3a"
            ],
            [
             0.8888888888888888,
             "#fdca26"
            ],
            [
             1,
             "#f0f921"
            ]
           ],
           "sequentialminus": [
            [
             0,
             "#0d0887"
            ],
            [
             0.1111111111111111,
             "#46039f"
            ],
            [
             0.2222222222222222,
             "#7201a8"
            ],
            [
             0.3333333333333333,
             "#9c179e"
            ],
            [
             0.4444444444444444,
             "#bd3786"
            ],
            [
             0.5555555555555556,
             "#d8576b"
            ],
            [
             0.6666666666666666,
             "#ed7953"
            ],
            [
             0.7777777777777778,
             "#fb9f3a"
            ],
            [
             0.8888888888888888,
             "#fdca26"
            ],
            [
             1,
             "#f0f921"
            ]
           ]
          },
          "colorway": [
           "#636efa",
           "#EF553B",
           "#00cc96",
           "#ab63fa",
           "#FFA15A",
           "#19d3f3",
           "#FF6692",
           "#B6E880",
           "#FF97FF",
           "#FECB52"
          ],
          "font": {
           "color": "#2a3f5f"
          },
          "geo": {
           "bgcolor": "white",
           "lakecolor": "white",
           "landcolor": "#E5ECF6",
           "showlakes": true,
           "showland": true,
           "subunitcolor": "white"
          },
          "hoverlabel": {
           "align": "left"
          },
          "hovermode": "closest",
          "mapbox": {
           "style": "light"
          },
          "paper_bgcolor": "white",
          "plot_bgcolor": "#E5ECF6",
          "polar": {
           "angularaxis": {
            "gridcolor": "white",
            "linecolor": "white",
            "ticks": ""
           },
           "bgcolor": "#E5ECF6",
           "radialaxis": {
            "gridcolor": "white",
            "linecolor": "white",
            "ticks": ""
           }
          },
          "scene": {
           "xaxis": {
            "backgroundcolor": "#E5ECF6",
            "gridcolor": "white",
            "gridwidth": 2,
            "linecolor": "white",
            "showbackground": true,
            "ticks": "",
            "zerolinecolor": "white"
           },
           "yaxis": {
            "backgroundcolor": "#E5ECF6",
            "gridcolor": "white",
            "gridwidth": 2,
            "linecolor": "white",
            "showbackground": true,
            "ticks": "",
            "zerolinecolor": "white"
           },
           "zaxis": {
            "backgroundcolor": "#E5ECF6",
            "gridcolor": "white",
            "gridwidth": 2,
            "linecolor": "white",
            "showbackground": true,
            "ticks": "",
            "zerolinecolor": "white"
           }
          },
          "shapedefaults": {
           "line": {
            "color": "#2a3f5f"
           }
          },
          "ternary": {
           "aaxis": {
            "gridcolor": "white",
            "linecolor": "white",
            "ticks": ""
           },
           "baxis": {
            "gridcolor": "white",
            "linecolor": "white",
            "ticks": ""
           },
           "bgcolor": "#E5ECF6",
           "caxis": {
            "gridcolor": "white",
            "linecolor": "white",
            "ticks": ""
           }
          },
          "title": {
           "x": 0.05
          },
          "xaxis": {
           "automargin": true,
           "gridcolor": "white",
           "linecolor": "white",
           "ticks": "",
           "title": {
            "standoff": 15
           },
           "zerolinecolor": "white",
           "zerolinewidth": 2
          },
          "yaxis": {
           "automargin": true,
           "gridcolor": "white",
           "linecolor": "white",
           "ticks": "",
           "title": {
            "standoff": 15
           },
           "zerolinecolor": "white",
           "zerolinewidth": 2
          }
         }
        },
        "title": {
         "text": "Document Distribution by Topics"
        },
        "xaxis": {
         "anchor": "y",
         "domain": [
          0,
          1
         ],
         "title": {
          "text": "Topic"
         }
        },
        "yaxis": {
         "anchor": "x",
         "domain": [
          0,
          1
         ],
         "title": {
          "text": "Documents"
         }
        }
       }
      },
      "text/html": [
       "<div>                            <div id=\"d86b8731-0aa1-43ca-bca4-752ecb0d6821\" class=\"plotly-graph-div\" style=\"height:525px; width:100%;\"></div>            <script type=\"text/javascript\">                require([\"plotly\"], function(Plotly) {                    window.PLOTLYENV=window.PLOTLYENV || {};                                    if (document.getElementById(\"d86b8731-0aa1-43ca-bca4-752ecb0d6821\")) {                    Plotly.newPlot(                        \"d86b8731-0aa1-43ca-bca4-752ecb0d6821\",                        [{\"alignmentgroup\":\"True\",\"customdata\":[[\"N, A\"],[\"N, A\"],[\"N, A\"],[\"N, A\"]],\"hovertemplate\":\"Topic=%{x}<br>Documents=%{y}<br>Keyword=%{customdata[0]}<extra></extra>\",\"legendgroup\":\"\",\"marker\":{\"color\":\"#636efa\",\"pattern\":{\"shape\":\"\"}},\"name\":\"\",\"offsetgroup\":\"\",\"orientation\":\"v\",\"showlegend\":false,\"textposition\":\"auto\",\"x\":[\"Topic 0\",\"Topic 1\",\"Topic 2\",\"Topic 3\"],\"xaxis\":\"x\",\"y\":[368,194,316,122],\"yaxis\":\"y\",\"type\":\"bar\"}],                        {\"template\":{\"data\":{\"histogram2dcontour\":[{\"type\":\"histogram2dcontour\",\"colorbar\":{\"outlinewidth\":0,\"ticks\":\"\"},\"colorscale\":[[0.0,\"#0d0887\"],[0.1111111111111111,\"#46039f\"],[0.2222222222222222,\"#7201a8\"],[0.3333333333333333,\"#9c179e\"],[0.4444444444444444,\"#bd3786\"],[0.5555555555555556,\"#d8576b\"],[0.6666666666666666,\"#ed7953\"],[0.7777777777777778,\"#fb9f3a\"],[0.8888888888888888,\"#fdca26\"],[1.0,\"#f0f921\"]]}],\"choropleth\":[{\"type\":\"choropleth\",\"colorbar\":{\"outlinewidth\":0,\"ticks\":\"\"}}],\"histogram2d\":[{\"type\":\"histogram2d\",\"colorbar\":{\"outlinewidth\":0,\"ticks\":\"\"},\"colorscale\":[[0.0,\"#0d0887\"],[0.1111111111111111,\"#46039f\"],[0.2222222222222222,\"#7201a8\"],[0.3333333333333333,\"#9c179e\"],[0.4444444444444444,\"#bd3786\"],[0.5555555555555556,\"#d8576b\"],[0.6666666666666666,\"#ed7953\"],[0.7777777777777778,\"#fb9f3a\"],[0.8888888888888888,\"#fdca26\"],[1.0,\"#f0f921\"]]}],\"heatmap\":[{\"type\":\"heatmap\",\"colorbar\":{\"outlinewidth\":0,\"ticks\":\"\"},\"colorscale\":[[0.0,\"#0d0887\"],[0.1111111111111111,\"#46039f\"],[0.2222222222222222,\"#7201a8\"],[0.3333333333333333,\"#9c179e\"],[0.4444444444444444,\"#bd3786\"],[0.5555555555555556,\"#d8576b\"],[0.6666666666666666,\"#ed7953\"],[0.7777777777777778,\"#fb9f3a\"],[0.8888888888888888,\"#fdca26\"],[1.0,\"#f0f921\"]]}],\"heatmapgl\":[{\"type\":\"heatmapgl\",\"colorbar\":{\"outlinewidth\":0,\"ticks\":\"\"},\"colorscale\":[[0.0,\"#0d0887\"],[0.1111111111111111,\"#46039f\"],[0.2222222222222222,\"#7201a8\"],[0.3333333333333333,\"#9c179e\"],[0.4444444444444444,\"#bd3786\"],[0.5555555555555556,\"#d8576b\"],[0.6666666666666666,\"#ed7953\"],[0.7777777777777778,\"#fb9f3a\"],[0.8888888888888888,\"#fdca26\"],[1.0,\"#f0f921\"]]}],\"contourcarpet\":[{\"type\":\"contourcarpet\",\"colorbar\":{\"outlinewidth\":0,\"ticks\":\"\"}}],\"contour\":[{\"type\":\"contour\",\"colorbar\":{\"outlinewidth\":0,\"ticks\":\"\"},\"colorscale\":[[0.0,\"#0d0887\"],[0.1111111111111111,\"#46039f\"],[0.2222222222222222,\"#7201a8\"],[0.3333333333333333,\"#9c179e\"],[0.4444444444444444,\"#bd3786\"],[0.5555555555555556,\"#d8576b\"],[0.6666666666666666,\"#ed7953\"],[0.7777777777777778,\"#fb9f3a\"],[0.8888888888888888,\"#fdca26\"],[1.0,\"#f0f921\"]]}],\"surface\":[{\"type\":\"surface\",\"colorbar\":{\"outlinewidth\":0,\"ticks\":\"\"},\"colorscale\":[[0.0,\"#0d0887\"],[0.1111111111111111,\"#46039f\"],[0.2222222222222222,\"#7201a8\"],[0.3333333333333333,\"#9c179e\"],[0.4444444444444444,\"#bd3786\"],[0.5555555555555556,\"#d8576b\"],[0.6666666666666666,\"#ed7953\"],[0.7777777777777778,\"#fb9f3a\"],[0.8888888888888888,\"#fdca26\"],[1.0,\"#f0f921\"]]}],\"mesh3d\":[{\"type\":\"mesh3d\",\"colorbar\":{\"outlinewidth\":0,\"ticks\":\"\"}}],\"scatter\":[{\"fillpattern\":{\"fillmode\":\"overlay\",\"size\":10,\"solidity\":0.2},\"type\":\"scatter\"}],\"parcoords\":[{\"type\":\"parcoords\",\"line\":{\"colorbar\":{\"outlinewidth\":0,\"ticks\":\"\"}}}],\"scatterpolargl\":[{\"type\":\"scatterpolargl\",\"marker\":{\"colorbar\":{\"outlinewidth\":0,\"ticks\":\"\"}}}],\"bar\":[{\"error_x\":{\"color\":\"#2a3f5f\"},\"error_y\":{\"color\":\"#2a3f5f\"},\"marker\":{\"line\":{\"color\":\"#E5ECF6\",\"width\":0.5},\"pattern\":{\"fillmode\":\"overlay\",\"size\":10,\"solidity\":0.2}},\"type\":\"bar\"}],\"scattergeo\":[{\"type\":\"scattergeo\",\"marker\":{\"colorbar\":{\"outlinewidth\":0,\"ticks\":\"\"}}}],\"scatterpolar\":[{\"type\":\"scatterpolar\",\"marker\":{\"colorbar\":{\"outlinewidth\":0,\"ticks\":\"\"}}}],\"histogram\":[{\"marker\":{\"pattern\":{\"fillmode\":\"overlay\",\"size\":10,\"solidity\":0.2}},\"type\":\"histogram\"}],\"scattergl\":[{\"type\":\"scattergl\",\"marker\":{\"colorbar\":{\"outlinewidth\":0,\"ticks\":\"\"}}}],\"scatter3d\":[{\"type\":\"scatter3d\",\"line\":{\"colorbar\":{\"outlinewidth\":0,\"ticks\":\"\"}},\"marker\":{\"colorbar\":{\"outlinewidth\":0,\"ticks\":\"\"}}}],\"scattermapbox\":[{\"type\":\"scattermapbox\",\"marker\":{\"colorbar\":{\"outlinewidth\":0,\"ticks\":\"\"}}}],\"scatterternary\":[{\"type\":\"scatterternary\",\"marker\":{\"colorbar\":{\"outlinewidth\":0,\"ticks\":\"\"}}}],\"scattercarpet\":[{\"type\":\"scattercarpet\",\"marker\":{\"colorbar\":{\"outlinewidth\":0,\"ticks\":\"\"}}}],\"carpet\":[{\"aaxis\":{\"endlinecolor\":\"#2a3f5f\",\"gridcolor\":\"white\",\"linecolor\":\"white\",\"minorgridcolor\":\"white\",\"startlinecolor\":\"#2a3f5f\"},\"baxis\":{\"endlinecolor\":\"#2a3f5f\",\"gridcolor\":\"white\",\"linecolor\":\"white\",\"minorgridcolor\":\"white\",\"startlinecolor\":\"#2a3f5f\"},\"type\":\"carpet\"}],\"table\":[{\"cells\":{\"fill\":{\"color\":\"#EBF0F8\"},\"line\":{\"color\":\"white\"}},\"header\":{\"fill\":{\"color\":\"#C8D4E3\"},\"line\":{\"color\":\"white\"}},\"type\":\"table\"}],\"barpolar\":[{\"marker\":{\"line\":{\"color\":\"#E5ECF6\",\"width\":0.5},\"pattern\":{\"fillmode\":\"overlay\",\"size\":10,\"solidity\":0.2}},\"type\":\"barpolar\"}],\"pie\":[{\"automargin\":true,\"type\":\"pie\"}]},\"layout\":{\"autotypenumbers\":\"strict\",\"colorway\":[\"#636efa\",\"#EF553B\",\"#00cc96\",\"#ab63fa\",\"#FFA15A\",\"#19d3f3\",\"#FF6692\",\"#B6E880\",\"#FF97FF\",\"#FECB52\"],\"font\":{\"color\":\"#2a3f5f\"},\"hovermode\":\"closest\",\"hoverlabel\":{\"align\":\"left\"},\"paper_bgcolor\":\"white\",\"plot_bgcolor\":\"#E5ECF6\",\"polar\":{\"bgcolor\":\"#E5ECF6\",\"angularaxis\":{\"gridcolor\":\"white\",\"linecolor\":\"white\",\"ticks\":\"\"},\"radialaxis\":{\"gridcolor\":\"white\",\"linecolor\":\"white\",\"ticks\":\"\"}},\"ternary\":{\"bgcolor\":\"#E5ECF6\",\"aaxis\":{\"gridcolor\":\"white\",\"linecolor\":\"white\",\"ticks\":\"\"},\"baxis\":{\"gridcolor\":\"white\",\"linecolor\":\"white\",\"ticks\":\"\"},\"caxis\":{\"gridcolor\":\"white\",\"linecolor\":\"white\",\"ticks\":\"\"}},\"coloraxis\":{\"colorbar\":{\"outlinewidth\":0,\"ticks\":\"\"}},\"colorscale\":{\"sequential\":[[0.0,\"#0d0887\"],[0.1111111111111111,\"#46039f\"],[0.2222222222222222,\"#7201a8\"],[0.3333333333333333,\"#9c179e\"],[0.4444444444444444,\"#bd3786\"],[0.5555555555555556,\"#d8576b\"],[0.6666666666666666,\"#ed7953\"],[0.7777777777777778,\"#fb9f3a\"],[0.8888888888888888,\"#fdca26\"],[1.0,\"#f0f921\"]],\"sequentialminus\":[[0.0,\"#0d0887\"],[0.1111111111111111,\"#46039f\"],[0.2222222222222222,\"#7201a8\"],[0.3333333333333333,\"#9c179e\"],[0.4444444444444444,\"#bd3786\"],[0.5555555555555556,\"#d8576b\"],[0.6666666666666666,\"#ed7953\"],[0.7777777777777778,\"#fb9f3a\"],[0.8888888888888888,\"#fdca26\"],[1.0,\"#f0f921\"]],\"diverging\":[[0,\"#8e0152\"],[0.1,\"#c51b7d\"],[0.2,\"#de77ae\"],[0.3,\"#f1b6da\"],[0.4,\"#fde0ef\"],[0.5,\"#f7f7f7\"],[0.6,\"#e6f5d0\"],[0.7,\"#b8e186\"],[0.8,\"#7fbc41\"],[0.9,\"#4d9221\"],[1,\"#276419\"]]},\"xaxis\":{\"gridcolor\":\"white\",\"linecolor\":\"white\",\"ticks\":\"\",\"title\":{\"standoff\":15},\"zerolinecolor\":\"white\",\"automargin\":true,\"zerolinewidth\":2},\"yaxis\":{\"gridcolor\":\"white\",\"linecolor\":\"white\",\"ticks\":\"\",\"title\":{\"standoff\":15},\"zerolinecolor\":\"white\",\"automargin\":true,\"zerolinewidth\":2},\"scene\":{\"xaxis\":{\"backgroundcolor\":\"#E5ECF6\",\"gridcolor\":\"white\",\"linecolor\":\"white\",\"showbackground\":true,\"ticks\":\"\",\"zerolinecolor\":\"white\",\"gridwidth\":2},\"yaxis\":{\"backgroundcolor\":\"#E5ECF6\",\"gridcolor\":\"white\",\"linecolor\":\"white\",\"showbackground\":true,\"ticks\":\"\",\"zerolinecolor\":\"white\",\"gridwidth\":2},\"zaxis\":{\"backgroundcolor\":\"#E5ECF6\",\"gridcolor\":\"white\",\"linecolor\":\"white\",\"showbackground\":true,\"ticks\":\"\",\"zerolinecolor\":\"white\",\"gridwidth\":2}},\"shapedefaults\":{\"line\":{\"color\":\"#2a3f5f\"}},\"annotationdefaults\":{\"arrowcolor\":\"#2a3f5f\",\"arrowhead\":0,\"arrowwidth\":1},\"geo\":{\"bgcolor\":\"white\",\"landcolor\":\"#E5ECF6\",\"subunitcolor\":\"white\",\"showland\":true,\"showlakes\":true,\"lakecolor\":\"white\"},\"title\":{\"x\":0.05},\"mapbox\":{\"style\":\"light\"}}},\"xaxis\":{\"anchor\":\"y\",\"domain\":[0.0,1.0],\"title\":{\"text\":\"Topic\"}},\"yaxis\":{\"anchor\":\"x\",\"domain\":[0.0,1.0],\"title\":{\"text\":\"Documents\"}},\"legend\":{\"tracegroupgap\":0},\"title\":{\"text\":\"Document Distribution by Topics\"},\"barmode\":\"relative\"},                        {\"responsive\": true}                    ).then(function(){\n",
       "                            \n",
       "var gd = document.getElementById('d86b8731-0aa1-43ca-bca4-752ecb0d6821');\n",
       "var x = new MutationObserver(function (mutations, observer) {{\n",
       "        var display = window.getComputedStyle(gd).display;\n",
       "        if (!display || display === 'none') {{\n",
       "            console.log([gd, 'removed!']);\n",
       "            Plotly.purge(gd);\n",
       "            observer.disconnect();\n",
       "        }}\n",
       "}});\n",
       "\n",
       "// Listen for the removal of the full notebook cells\n",
       "var notebookContainer = gd.closest('#notebook-container');\n",
       "if (notebookContainer) {{\n",
       "    x.observe(notebookContainer, {childList: true});\n",
       "}}\n",
       "\n",
       "// Listen for the clearing of the current output cell\n",
       "var outputEl = gd.closest('.output');\n",
       "if (outputEl) {{\n",
       "    x.observe(outputEl, {childList: true});\n",
       "}}\n",
       "\n",
       "                        })                };                });            </script>        </div>"
      ]
     },
     "metadata": {},
     "output_type": "display_data"
    }
   ],
   "source": [
    "plot_model(lda, plot = 'topic_distribution')"
   ]
  },
  {
   "cell_type": "code",
   "execution_count": 52,
   "id": "ef375231",
   "metadata": {
    "scrolled": true
   },
   "outputs": [
    {
     "data": {
      "text/html": [
       "        <script type=\"text/javascript\">\n",
       "        window.PlotlyConfig = {MathJaxConfig: 'local'};\n",
       "        if (window.MathJax) {MathJax.Hub.Config({SVG: {font: \"STIX-Web\"}});}\n",
       "        if (typeof require !== 'undefined') {\n",
       "        require.undef(\"plotly\");\n",
       "        requirejs.config({\n",
       "            paths: {\n",
       "                'plotly': ['https://cdn.plot.ly/plotly-2.11.1.min']\n",
       "            }\n",
       "        });\n",
       "        require(['plotly'], function(Plotly) {\n",
       "            window._Plotly = Plotly;\n",
       "        });\n",
       "        }\n",
       "        </script>\n",
       "        "
      ]
     },
     "metadata": {},
     "output_type": "display_data"
    },
    {
     "data": {
      "application/vnd.plotly.v1+json": {
       "config": {
        "plotlyServerURL": "https://plot.ly"
       },
       "data": [
        {
         "hovertemplate": "Dominant_Topic=Topic 0<br>0=%{x}<br>1=%{y}<br>2=%{z}<extra></extra>",
         "legendgroup": "Topic 0",
         "marker": {
          "color": "#636efa",
          "opacity": 0.7,
          "symbol": "circle"
         },
         "mode": "markers",
         "name": "Topic 0",
         "scene": "scene",
         "showlegend": true,
         "type": "scatter3d",
         "x": [
          -1.8778557777404785,
          6.694583415985107,
          4.526598930358887,
          -1.2581051588058472,
          2.5507991313934326,
          4.301408767700195,
          8.379454612731934,
          5.317653179168701,
          1.1391315460205078,
          4.883919715881348,
          -1.5364362001419067,
          -3.6317410469055176,
          -2.3332834243774414,
          0.36169061064720154,
          1.3880254030227661,
          -4.023446083068848,
          -1.5329792499542236,
          -0.7441355586051941,
          3.536159038543701,
          -1.4345678091049194,
          5.077098369598389,
          -0.7653297781944275,
          -2.1394202709198,
          -1.5241678953170776,
          -4.919113636016846,
          -1.6354596614837646,
          -4.580687522888184,
          3.6765246391296387,
          -1.499045968055725,
          -4.3485612869262695,
          -1.0656850337982178,
          6.454019069671631,
          2.0663163661956787,
          -0.042756326496601105,
          -1.309566855430603,
          0.6676551103591919,
          4.053213596343994,
          2.238654375076294,
          0.999614417552948,
          3.605039596557617,
          -1.5820404291152954,
          0.23611895740032196,
          6.285379886627197,
          6.3039679527282715,
          2.248936176300049,
          0.027997002005577087,
          -3.665278434753418,
          2.476874351501465,
          3.2912635803222656,
          3.779644250869751,
          1.9420719146728516,
          4.706941604614258,
          -2.679614782333374,
          -4.248771667480469,
          2.032012939453125,
          5.903297424316406,
          1.2081669569015503,
          6.253495216369629,
          4.426604270935059,
          -0.5564730167388916,
          1.1249381303787231,
          -3.0217995643615723,
          7.353401184082031,
          -4.918572902679443,
          -2.4519166946411133,
          -3.0363714694976807,
          -0.2722986936569214,
          -1.4758591651916504,
          6.303592681884766,
          3.4311559200286865,
          -1.9433016777038574,
          1.7251819372177124,
          1.2781102657318115,
          3.5991053581237793,
          1.5319807529449463,
          2.083165407180786,
          -0.35910654067993164,
          3.9397778511047363,
          0.5413562655448914,
          6.064682960510254,
          0.5616409778594971,
          1.8079907894134521,
          -1.0401365756988525,
          3.6213114261627197,
          -0.3862943947315216,
          1.6128276586532593,
          3.1790871620178223,
          3.957005500793457,
          -0.22386382520198822,
          4.3780741691589355,
          5.202508449554443,
          5.464648723602295,
          -4.447983741760254,
          0.3096294105052948,
          1.3451684713363647,
          -1.0256938934326172,
          2.430353879928589,
          0.9390729069709778,
          -0.5697915554046631,
          1.24043607711792,
          -2.047700881958008,
          6.195450782775879,
          -1.2453770637512207,
          0.8355636596679688,
          1.9420915842056274,
          3.402893304824829,
          1.3094558715820312,
          3.8963005542755127,
          4.005352973937988,
          2.8404743671417236,
          2.8968183994293213,
          -4.198046684265137,
          0.27020230889320374,
          -1.343928575515747,
          4.175988674163818,
          -0.7935768365859985,
          -2.8240010738372803,
          5.516991138458252,
          1.6408967971801758,
          1.4974024295806885,
          -0.8420941233634949,
          2.7287003993988037,
          1.7620842456817627,
          3.4369466304779053,
          -2.7769815921783447,
          3.8578295707702637,
          5.449316501617432,
          1.229010820388794,
          4.256849765777588,
          5.830384731292725,
          -2.140357732772827,
          1.526926875114441,
          -2.7398180961608887,
          3.302856206893921,
          0.8770663738250732,
          -2.1587982177734375,
          -0.5282591581344604,
          0.5721981525421143,
          -2.718997001647949,
          -0.5937931537628174,
          2.164066791534424,
          3.132767915725708,
          4.393294334411621,
          1.5267152786254883,
          1.9232792854309082,
          1.1710237264633179,
          0.293354332447052,
          -0.9477936029434204,
          0.8933770656585693,
          6.698944568634033,
          0.25140658020973206,
          -3.06076979637146,
          0.9746062755584717,
          -2.6630396842956543,
          -1.484843373298645,
          5.327782154083252,
          7.415079593658447,
          6.363481521606445,
          5.454265117645264,
          -1.2127466201782227,
          0.16992764174938202,
          -2.845773220062256,
          -3.620621681213379,
          -0.21249444782733917,
          -1.1837562322616577,
          -5.15358829498291,
          1.8342502117156982,
          0.43854498863220215,
          0.6889998912811279,
          0.9558997750282288,
          4.734716892242432,
          1.3275963068008423,
          3.8233742713928223,
          0.10789167881011963,
          -0.8583877682685852,
          -2.7961103916168213,
          6.274344444274902,
          1.1819268465042114,
          -5.143942832946777,
          1.3425060510635376,
          -6.480515956878662,
          5.30079460144043,
          0.3819628357887268,
          2.7755749225616455,
          1.6312696933746338,
          4.705804347991943,
          2.0524847507476807,
          -3.9076409339904785,
          0.9566960334777832,
          6.331969738006592,
          2.259007453918457,
          -1.972507357597351,
          0.4671749770641327,
          3.5606625080108643,
          -2.7476913928985596,
          2.7768752574920654,
          0.753856360912323,
          2.795792579650879,
          4.9149651527404785,
          -0.5799568295478821,
          0.9125456809997559,
          4.314400672912598,
          -0.9627676010131836,
          4.078728199005127,
          -0.2957278788089752,
          -2.4742581844329834,
          1.8072839975357056,
          3.7633886337280273,
          4.421934604644775,
          3.9906625747680664,
          4.155454635620117,
          -2.9611635208129883,
          2.8767478466033936,
          -2.8707916736602783,
          7.220130920410156,
          4.728743076324463,
          -1.0257726907730103,
          4.169668674468994,
          1.5910630226135254,
          4.057159423828125,
          -1.5916036367416382,
          6.0195536613464355,
          -2.407585382461548,
          4.458496570587158,
          -0.4520104229450226,
          1.4461952447891235,
          0.23245231807231903,
          5.5806450843811035,
          1.0448808670043945,
          6.759311199188232,
          0.19338862597942352,
          -3.5046215057373047,
          -1.3977049589157104,
          -0.5108457207679749,
          -5.746124744415283,
          1.2900640964508057,
          2.1834938526153564,
          1.527480125427246,
          5.84292459487915,
          2.725445032119751,
          5.103971004486084,
          7.2712812423706055,
          4.909215927124023,
          1.6956892013549805,
          5.13204288482666,
          1.45150625705719,
          2.7248523235321045,
          4.005558490753174,
          5.580724716186523,
          1.4724785089492798,
          5.8075737953186035,
          -4.658369541168213,
          -3.471892833709717,
          -0.11416403949260712,
          2.9021034240722656,
          5.165212154388428,
          3.2552170753479004,
          8.762492179870605,
          5.119935989379883,
          1.193063735961914,
          2.1573476791381836,
          5.934340953826904,
          -3.902191400527954,
          -1.6329374313354492,
          1.6311904191970825,
          -0.9730697870254517,
          0.5855300426483154,
          -6.410924911499023,
          -1.9877150058746338,
          1.779396414756775,
          -4.87741231918335,
          0.6872671246528625,
          -2.139770746231079,
          8.30957317352295,
          -3.267667770385742,
          1.54568350315094,
          0.6702566742897034,
          4.529125690460205,
          6.687698841094971,
          -2.968540668487549,
          8.602723121643066,
          5.073150634765625,
          -0.4773862063884735,
          2.4475784301757812,
          -2.90519118309021,
          4.739086627960205,
          3.891157865524292,
          1.642022728919983,
          4.318462371826172,
          -1.753360390663147,
          -4.015052795410156,
          1.1622270345687866,
          6.040837287902832,
          7.511274337768555,
          4.649695873260498,
          5.098631858825684,
          1.9401153326034546,
          0.8593804836273193,
          -0.684150755405426,
          -3.556532144546509,
          -6.492341995239258,
          0.6749738454818726,
          3.1655232906341553,
          5.943729400634766,
          2.9139509201049805,
          0.381919801235199,
          -1.6343870162963867,
          1.057386875152588,
          -0.08343859016895294,
          -4.548142910003662,
          4.6706037521362305,
          4.997057914733887,
          -6.563873767852783,
          4.912179946899414,
          -1.3036490678787231,
          1.064882516860962,
          3.0570247173309326,
          -1.9834470748901367,
          -2.232668399810791,
          -1.307086706161499,
          -1.835790753364563,
          -0.5473827719688416,
          1.6645479202270508,
          7.075070381164551,
          -4.197966575622559,
          1.526957631111145,
          0.3538162112236023,
          -2.3876945972442627,
          2.327144145965576,
          1.7392301559448242,
          -0.2794812023639679,
          3.084352731704712,
          -1.0131171941757202,
          1.300349235534668,
          6.374752998352051,
          3.8747165203094482,
          0.9197655916213989,
          0.9893385767936707,
          4.734336853027344,
          5.048964977264404,
          -2.2747793197631836,
          -1.1145195960998535,
          1.5204050540924072,
          1.3205597400665283,
          0.7835647463798523,
          2.409134864807129,
          -2.743476390838623,
          3.9325449466705322,
          -2.8579628467559814,
          -1.5840784311294556,
          1.8893568515777588,
          -0.3008487820625305,
          0.2377873957157135,
          0.8123842477798462,
          3.478290557861328,
          2.4358410835266113,
          1.3696930408477783,
          3.4791769981384277,
          -2.834158420562744,
          3.3795418739318848,
          4.2052507400512695,
          -4.281780242919922,
          1.2725437879562378,
          0.12914279103279114,
          4.712836742401123,
          4.691219329833984,
          5.608283519744873,
          0.16637377440929413
         ],
         "y": [
          2.6600186824798584,
          -3.523787260055542,
          -1.6885449886322021,
          -5.230282783508301,
          -7.57628870010376,
          -7.473930358886719,
          0.026850098744034767,
          5.715481758117676,
          -1.0918376445770264,
          -6.655077934265137,
          -1.752717137336731,
          -4.460948944091797,
          0.9627083539962769,
          -0.39525365829467773,
          6.002510070800781,
          -1.8149099349975586,
          -1.4780067205429077,
          -5.498136520385742,
          -5.684091567993164,
          -1.4205104112625122,
          -1.0895788669586182,
          3.188605308532715,
          1.8342173099517822,
          -1.5054551362991333,
          3.329941749572754,
          4.523561477661133,
          -3.4547808170318604,
          5.741339683532715,
          -6.088847637176514,
          5.49700403213501,
          -1.1521583795547485,
          -3.5284409523010254,
          -0.6556376218795776,
          -0.14138127863407135,
          -1.0568864345550537,
          -4.0776801109313965,
          5.414447784423828,
          8.002144813537598,
          -3.033447265625,
          -3.552210569381714,
          -1.3676952123641968,
          0.10500863939523697,
          -4.184701919555664,
          -4.252469539642334,
          -0.7882986664772034,
          -1.040816307067871,
          6.774646282196045,
          5.948509216308594,
          -3.6172163486480713,
          -6.879167556762695,
          -0.9335964322090149,
          -6.715512275695801,
          -1.3480851650238037,
          -4.546167850494385,
          -0.18129539489746094,
          -5.019612789154053,
          -3.1321144104003906,
          -3.2513139247894287,
          0.3401082158088684,
          5.891932010650635,
          -5.893751621246338,
          -2.045818567276001,
          -0.007619789335876703,
          -4.118287086486816,
          1.345343828201294,
          -0.8320865035057068,
          -0.17001231014728546,
          -5.448805332183838,
          -3.0048043727874756,
          -2.052269458770752,
          4.853137493133545,
          7.582752227783203,
          4.282139778137207,
          5.987187385559082,
          -7.293062210083008,
          -5.914443016052246,
          4.164036750793457,
          1.5678917169570923,
          6.134782314300537,
          -2.594299793243408,
          -5.091409683227539,
          -7.3596086502075195,
          5.512173175811768,
          -7.051612377166748,
          -1.580321192741394,
          -2.4130935668945312,
          6.288177490234375,
          0.3323507606983185,
          6.085933208465576,
          -7.341534614562988,
          -4.341757297515869,
          -5.497497081756592,
          -4.551403045654297,
          2.7140681743621826,
          6.807371616363525,
          -2.695289373397827,
          -0.41922643780708313,
          -4.16029691696167,
          -2.390929937362671,
          3.430022954940796,
          1.007442593574524,
          -1.8635700941085815,
          -4.81757926940918,
          5.109461307525635,
          8.890650749206543,
          6.080702304840088,
          -7.30405855178833,
          -2.8574376106262207,
          1.1269915103912354,
          -0.6401592493057251,
          -2.604139566421509,
          -1.775944709777832,
          -7.377942085266113,
          4.19733190536499,
          -4.277493476867676,
          -0.6070294976234436,
          -1.1018717288970947,
          -1.7633450031280518,
          -4.0980095863342285,
          5.635769367218018,
          -4.961056232452393,
          -1.0464568138122559,
          -1.9596495628356934,
          0.6171895861625671,
          1.246127724647522,
          -3.7022953033447266,
          -5.8319549560546875,
          -4.167204856872559,
          0.9067365527153015,
          -1.2231030464172363,
          6.329894542694092,
          -1.9444255828857422,
          0.33683931827545166,
          5.655605316162109,
          -1.7104387283325195,
          -0.5016636252403259,
          -8.470129013061523,
          -2.6594929695129395,
          -0.678972065448761,
          9.084246635437012,
          8.442218780517578,
          -3.852787733078003,
          -6.781195163726807,
          -1.944420337677002,
          -0.9231939315795898,
          -7.2852888107299805,
          -4.366744041442871,
          5.239322185516357,
          -2.3504700660705566,
          -3.506248950958252,
          -5.018759250640869,
          -1.2953702211380005,
          3.4108166694641113,
          4.803679466247559,
          5.023983955383301,
          -2.2293341159820557,
          0.20314449071884155,
          -0.13103729486465454,
          -4.351970672607422,
          -4.709205627441406,
          -4.77490234375,
          -1.0104373693466187,
          -3.987744092941284,
          3.117511034011841,
          6.145345211029053,
          -3.020235061645508,
          -1.0106103420257568,
          -0.5384291410446167,
          2.6886441707611084,
          2.3939130306243896,
          0.9150813221931458,
          8.141227722167969,
          -2.95595121383667,
          7.790382385253906,
          3.6537513732910156,
          0.04891504719853401,
          -3.4811630249023438,
          -4.991245269775391,
          -0.3961317241191864,
          -0.7891576290130615,
          -1.6226874589920044,
          -4.261938095092773,
          -3.805213451385498,
          0.17549481987953186,
          8.469974517822266,
          -2.425971746444702,
          2.1613967418670654,
          -0.7067039012908936,
          -1.0650500059127808,
          -3.5739476680755615,
          -0.57951420545578,
          6.31881046295166,
          2.666531562805176,
          -2.3470253944396973,
          7.81298828125,
          -0.509595513343811,
          6.612310886383057,
          -0.4586576223373413,
          -0.8385424017906189,
          8.60129165649414,
          1.3018841743469238,
          0.4925905168056488,
          -0.7071987986564636,
          1.614574670791626,
          -4.461087226867676,
          -1.1613824367523193,
          5.123987674713135,
          -3.0408310890197754,
          -6.48955774307251,
          -1.3376370668411255,
          -1.1388744115829468,
          1.2971500158309937,
          6.085271835327148,
          -0.9348893761634827,
          -0.6314327120780945,
          -2.1183574199676514,
          -2.695021152496338,
          -1.3547288179397583,
          1.689956545829773,
          -3.87250018119812,
          -5.223228454589844,
          -4.786576271057129,
          -0.7878666520118713,
          1.924858808517456,
          -2.433377981185913,
          4.967341423034668,
          -2.420830011367798,
          -1.6624082326889038,
          7.286008358001709,
          -0.10111192613840103,
          6.372554302215576,
          -0.8895925879478455,
          -1.9118623733520508,
          6.035816192626953,
          -0.09523990005254745,
          6.433075428009033,
          6.873777866363525,
          1.400525450706482,
          -4.8119683265686035,
          -0.7828665375709534,
          -4.58937406539917,
          -0.6123641729354858,
          -8.423433303833008,
          7.685355186462402,
          1.0418931245803833,
          -5.23828649520874,
          -2.4910571575164795,
          -3.8115768432617188,
          -1.662462830543518,
          2.093932867050171,
          -1.9909234046936035,
          1.5630754232406616,
          -4.410366058349609,
          8.527388572692871,
          7.374905109405518,
          -3.137733221054077,
          -3.195106267929077,
          -0.031210394576191902,
          -6.075250148773193,
          8.00544261932373,
          -1.2092149257659912,
          -3.3123092651367188,
          -4.36677360534668,
          4.176591396331787,
          -4.052401542663574,
          4.891801834106445,
          -7.093172073364258,
          -0.29699113965034485,
          -1.5358844995498657,
          -1.5540530681610107,
          -0.6515856981277466,
          -2.4533262252807617,
          -2.4860029220581055,
          -0.2531276047229767,
          7.161474227905273,
          7.001702308654785,
          -4.897980213165283,
          2.0092861652374268,
          -1.1576193571090698,
          -4.779823303222656,
          -0.0012387644965201616,
          0.46140256524086,
          5.897747993469238,
          -3.7144484519958496,
          -1.7321187257766724,
          0.5250151753425598,
          -2.094576835632324,
          -1.2131307125091553,
          1.3581746816635132,
          2.8708808422088623,
          -1.8074222803115845,
          2.4284896850585938,
          -2.055636405944824,
          -0.8217062950134277,
          1.1544266939163208,
          -1.234032392501831,
          8.679558753967285,
          -7.152522563934326,
          -4.791687488555908,
          -1.379226803779602,
          -1.4958922863006592,
          -2.6825499534606934,
          -3.8843603134155273,
          0.3484150171279907,
          -0.42571330070495605,
          2.4359447956085205,
          6.1516289710998535,
          4.53416109085083,
          -7.4630279541015625,
          1.8735941648483276,
          -0.058539580553770065,
          -8.506806373596191,
          -0.42044582962989807,
          -0.9677222967147827,
          4.108108997344971,
          -1.149623155593872,
          -0.4138929843902588,
          0.7285880446434021,
          -1.4030781984329224,
          -1.0811645984649658,
          0.5198647379875183,
          2.8133981227874756,
          0.9400696158409119,
          -0.6575940847396851,
          -1.7758746147155762,
          -1.9443047046661377,
          2.4778079986572266,
          6.341753005981445,
          6.1983113288879395,
          4.840988636016846,
          3.1327102184295654,
          -7.424749374389648,
          -6.08059549331665,
          -0.9259106516838074,
          -1.2344918251037598,
          -2.79569673538208,
          -0.6639626026153564,
          6.184854507446289,
          -0.9695255756378174,
          5.597202777862549,
          1.4794617891311646,
          6.0636162757873535,
          6.86199426651001,
          7.13785457611084,
          -4.134812355041504,
          0.2652900218963623,
          3.055504560470581,
          5.98991060256958,
          -1.3677637577056885,
          -2.3797218799591064,
          -5.299229145050049,
          -4.8022074699401855,
          -8.507052421569824,
          -1.1591709852218628,
          -3.8086955547332764,
          7.8682708740234375,
          2.258443832397461,
          -2.453742742538452,
          -5.499761581420898,
          6.005368232727051,
          1.5916557312011719,
          -1.9810937643051147,
          -0.745890736579895,
          -6.7031474113464355,
          1.69767427444458,
          -4.028279781341553,
          -5.012136936187744,
          -1.134742259979248
         ],
         "z": [
          7.281185150146484,
          6.485663890838623,
          3.877523422241211,
          1.8216508626937866,
          -5.0986714363098145,
          -3.6065828800201416,
          2.4933574199676514,
          3.2191896438598633,
          7.442024230957031,
          -1.8883020877838135,
          2.608726978302002,
          4.157431602478027,
          7.394129276275635,
          4.203115463256836,
          5.17833948135376,
          4.232242107391357,
          3.5247249603271484,
          6.180065155029297,
          -0.09747481346130371,
          3.3998632431030273,
          4.289434432983398,
          3.5624661445617676,
          8.010570526123047,
          2.0598199367523193,
          4.051202774047852,
          3.6730449199676514,
          4.047886848449707,
          2.9412853717803955,
          5.300346374511719,
          4.917647838592529,
          1.5614519119262695,
          2.1108157634735107,
          8.156007766723633,
          4.267594337463379,
          3.730649471282959,
          -4.1454010009765625,
          2.3637053966522217,
          3.406919002532959,
          2.1459884643554688,
          4.107006549835205,
          3.208829641342163,
          0.9707133769989014,
          4.69667387008667,
          -1.9357564449310303,
          -3.11403751373291,
          5.415347576141357,
          2.798326253890991,
          4.976240634918213,
          6.004001140594482,
          -4.822978973388672,
          3.4198906421661377,
          -1.3192955255508423,
          6.8117995262146,
          5.467381477355957,
          8.198561668395996,
          -3.4938764572143555,
          2.5882108211517334,
          5.386630535125732,
          -5.396206855773926,
          4.921074390411377,
          2.7444071769714355,
          -8.066312789916992,
          -3.760209560394287,
          3.260873794555664,
          7.733849048614502,
          -1.2039886713027954,
          4.414217472076416,
          5.613809585571289,
          5.409470558166504,
          7.973718166351318,
          2.9495811462402344,
          4.624847888946533,
          4.193153381347656,
          5.112020969390869,
          -4.955148220062256,
          -3.007871627807617,
          3.764167070388794,
          3.562370538711548,
          2.1760778427124023,
          5.742301940917969,
          0.7596073746681213,
          -5.012470245361328,
          4.698180198669434,
          -5.053431987762451,
          0.8633522987365723,
          4.1835479736328125,
          4.403000831604004,
          -5.563152313232422,
          6.015730857849121,
          -1.0592440366744995,
          3.564884901046753,
          -4.574070453643799,
          5.489582061767578,
          3.3538434505462646,
          7.848894119262695,
          1.5479483604431152,
          -4.78715705871582,
          6.970534324645996,
          3.563385248184204,
          1.9587777853012085,
          1.2781835794448853,
          -6.460574626922607,
          5.483142375946045,
          7.342163562774658,
          5.723323822021484,
          4.925027370452881,
          -3.875558853149414,
          7.248927593231201,
          -7.075509071350098,
          -4.716223239898682,
          5.361334323883057,
          3.6230194568634033,
          -4.940874099731445,
          3.6345107555389404,
          6.373478889465332,
          7.782867431640625,
          -8.407330513000488,
          6.391619682312012,
          -3.466639280319214,
          6.3281426429748535,
          -4.632713317871094,
          8.167608261108398,
          -3.8179032802581787,
          -6.952641010284424,
          7.093791961669922,
          1.8929625749588013,
          -4.494541645050049,
          7.02692174911499,
          -6.707027912139893,
          5.807027339935303,
          5.485722541809082,
          -3.234999895095825,
          5.472146511077881,
          2.29722261428833,
          6.180726528167725,
          6.487032890319824,
          -5.935971260070801,
          2.3588387966156006,
          7.2758378982543945,
          4.635502815246582,
          6.192785263061523,
          5.805454730987549,
          -0.9489277005195618,
          -3.2351152896881104,
          3.793750047683716,
          -3.928417444229126,
          6.648993492126465,
          4.621794700622559,
          6.071516513824463,
          6.786207675933838,
          1.1568055152893066,
          7.334309101104736,
          5.001107692718506,
          3.486095428466797,
          0.9973102807998657,
          6.490846633911133,
          -4.486159324645996,
          -4.836190223693848,
          3.9081027507781982,
          -4.537217140197754,
          5.837437152862549,
          3.5180695056915283,
          4.3279547691345215,
          4.441739559173584,
          6.662197589874268,
          4.479629039764404,
          3.6736936569213867,
          4.2962751388549805,
          3.4053893089294434,
          4.000004768371582,
          -5.486516952514648,
          2.9037368297576904,
          7.7542643547058105,
          1.5676640272140503,
          3.551201105117798,
          4.737945079803467,
          4.990725517272949,
          6.1482954025268555,
          4.366382598876953,
          -6.379242420196533,
          4.732987403869629,
          3.4822819232940674,
          1.791374921798706,
          -3.755932092666626,
          5.907262802124023,
          6.497714042663574,
          3.5014796257019043,
          4.284369468688965,
          7.441662311553955,
          2.1814305782318115,
          8.20772933959961,
          5.042731285095215,
          3.7620811462402344,
          2.7504491806030273,
          2.9674668312072754,
          -5.147696018218994,
          3.6147053241729736,
          -2.967880964279175,
          8.121501922607422,
          3.874300479888916,
          6.983752250671387,
          -5.722149848937988,
          4.7468366622924805,
          3.5266706943511963,
          3.3671088218688965,
          6.5214948654174805,
          6.041518688201904,
          7.500821113586426,
          -0.39194491505622864,
          4.770834445953369,
          4.393627643585205,
          6.149660587310791,
          4.486570358276367,
          -0.575429379940033,
          -5.342366695404053,
          6.5161027908325195,
          1.5479531288146973,
          8.131982803344727,
          5.973010063171387,
          1.7366206645965576,
          5.344351768493652,
          -2.9853758811950684,
          -2.8164584636688232,
          4.082670211791992,
          1.1519849300384521,
          6.751064777374268,
          1.740513563156128,
          3.5755817890167236,
          3.667809247970581,
          -4.824525833129883,
          3.699037551879883,
          4.098658561706543,
          3.317204713821411,
          5.606570243835449,
          4.50762939453125,
          4.2571234703063965,
          2.4573349952697754,
          6.2533698081970215,
          -4.079084396362305,
          -5.841790676116943,
          2.6941020488739014,
          -5.344724178314209,
          -5.06198787689209,
          5.8335771560668945,
          -6.550541877746582,
          5.94887113571167,
          5.034999847412109,
          6.423440933227539,
          3.575502872467041,
          5.837961196899414,
          3.3025567531585693,
          6.438617706298828,
          5.3775553703308105,
          4.075465202331543,
          4.809617519378662,
          3.1517064571380615,
          6.784619331359863,
          2.79864501953125,
          0.11711324751377106,
          3.2369980812072754,
          8.242124557495117,
          2.395879030227661,
          5.119420528411865,
          2.7216765880584717,
          2.6498730182647705,
          0.8646383285522461,
          -3.9846649169921875,
          4.598878860473633,
          3.379411458969116,
          3.6162917613983154,
          4.265142917633057,
          5.163679122924805,
          0.6707045435905457,
          2.6555070877075195,
          3.409410238265991,
          7.511191368103027,
          -3.1585958003997803,
          4.086529731750488,
          2.4631447792053223,
          5.073004245758057,
          2.711989402770996,
          2.3407342433929443,
          4.820539474487305,
          2.3671343326568604,
          4.027170658111572,
          2.676398277282715,
          7.806705474853516,
          2.7881176471710205,
          -4.947750568389893,
          7.074987411499023,
          3.3789639472961426,
          3.6557843685150146,
          3.324885845184326,
          2.188133955001831,
          2.573117971420288,
          7.025390148162842,
          6.040165901184082,
          -4.793533802032471,
          5.069044589996338,
          3.4059946537017822,
          4.698163986206055,
          5.1550822257995605,
          5.238832950592041,
          -4.952247619628906,
          -6.260187149047852,
          2.393702268600464,
          6.686187744140625,
          4.510040760040283,
          -3.345628261566162,
          6.410120487213135,
          -5.162646770477295,
          -5.1316399574279785,
          4.6401143074035645,
          4.244543552398682,
          3.4335122108459473,
          6.958132743835449,
          -4.804385185241699,
          7.522615909576416,
          -0.5910712480545044,
          -8.771075248718262,
          7.5134968757629395,
          1.7829480171203613,
          6.410572528839111,
          -3.897538900375366,
          3.6231207847595215,
          -3.2351276874542236,
          1.7186990976333618,
          5.569405555725098,
          3.6585536003112793,
          0.2553800046443939,
          4.409158229827881,
          -5.053926467895508,
          6.421107292175293,
          -6.7275519371032715,
          2.5652756690979004,
          7.857577800750732,
          7.417304515838623,
          8.397895812988281,
          8.138850212097168,
          2.7295749187469482,
          7.954076766967773,
          5.019172191619873,
          7.677237510681152,
          7.111318588256836,
          6.946858882904053,
          -7.201261043548584,
          3.98760724067688,
          5.27285099029541,
          6.995233058929443,
          1.2843317985534668,
          -3.5944578647613525,
          5.527407169342041,
          -5.569214344024658,
          7.639913558959961,
          2.654999017715454,
          4.975725173950195,
          4.759786128997803,
          2.4390571117401123,
          6.005746841430664,
          3.8342010974884033,
          -4.2368268966674805,
          4.419272422790527,
          -0.8751125931739807,
          -3.9624650478363037,
          3.6866683959960938,
          3.6650619506835938,
          -3.82532000541687,
          2.8027148246765137
         ]
        },
        {
         "hovertemplate": "Dominant_Topic=Topic 1<br>0=%{x}<br>1=%{y}<br>2=%{z}<extra></extra>",
         "legendgroup": "Topic 1",
         "marker": {
          "color": "#EF553B",
          "opacity": 0.7,
          "symbol": "circle"
         },
         "mode": "markers",
         "name": "Topic 1",
         "scene": "scene",
         "showlegend": true,
         "type": "scatter3d",
         "x": [
          -6.281497955322266,
          2.5796265602111816,
          1.1487704515457153,
          -3.371817111968994,
          -0.38177061080932617,
          -3.8779234886169434,
          -4.307178497314453,
          -5.097916126251221,
          -2.3879377841949463,
          -2.893616199493408,
          -1.359915852546692,
          -3.8613955974578857,
          -4.168355941772461,
          -3.19466495513916,
          0.732473611831665,
          -4.922112941741943,
          -2.810850143432617,
          0.8556907176971436,
          0.09913109242916107,
          -3.2447524070739746,
          -1.853058099746704,
          -0.7657738924026489,
          -4.528810024261475,
          -1.2805798053741455,
          2.3808608055114746,
          -2.3346009254455566,
          3.2484936714172363,
          -3.4114463329315186,
          -4.150092601776123,
          -4.235598564147949,
          -4.087360858917236,
          -3.450094223022461,
          -3.5640265941619873,
          -3.663050651550293,
          -4.255681991577148,
          -1.6112138032913208,
          -5.601062297821045,
          -5.522735595703125,
          0.37601834535598755,
          0.462956041097641,
          -3.342513084411621,
          -3.6798341274261475,
          -2.271651268005371,
          -3.8419833183288574,
          -0.5167157053947449,
          -6.278104782104492,
          -1.8431214094161987,
          -3.4240634441375732,
          -4.806703090667725,
          -6.334611892700195,
          0.785207211971283,
          0.06697642058134079,
          -2.992722511291504,
          1.2596911191940308,
          -6.5100626945495605,
          -1.1784926652908325,
          0.9563875794410706,
          -3.590784788131714,
          -4.8064351081848145,
          0.878219723701477,
          -5.365441799163818,
          -4.88750696182251,
          -3.6013941764831543,
          -3.2045130729675293,
          -4.435513019561768,
          -3.748105049133301,
          -3.389270067214966,
          -3.0220701694488525,
          -3.622133255004883,
          -4.998035907745361,
          -4.251119613647461,
          -4.2612481117248535,
          -3.1202144622802734,
          -5.365479946136475,
          -2.330125331878662,
          -3.8696534633636475,
          -1.5837260484695435,
          -6.309759616851807,
          -6.344102382659912,
          -3.678863048553467,
          -3.7069530487060547,
          -3.630594491958618,
          1.6654515266418457,
          -4.977810382843018,
          -3.5164036750793457,
          -0.9870126843452454,
          -0.9313390254974365,
          -1.6791579723358154,
          -6.268004417419434,
          2.528243064880371,
          -5.812335014343262,
          -0.4893262982368469,
          -4.216939926147461,
          -0.7177783846855164,
          -0.7018721103668213,
          -2.298983097076416,
          -6.285247802734375,
          1.011963963508606,
          0.08572942763566971,
          0.7602407932281494,
          -2.7240941524505615,
          -3.324887275695801,
          -5.145696640014648,
          1.080584168434143,
          -3.9296436309814453,
          1.6654561758041382,
          -3.381657123565674,
          -1.7287321090698242,
          -2.614069700241089,
          -5.6364970207214355,
          0.09033555537462234,
          -5.182182788848877,
          -3.5309364795684814,
          -4.286421775817871,
          -3.7550923824310303,
          -0.23957692086696625,
          -2.027731418609619,
          -5.366552352905273,
          -0.008631736971437931,
          0.7388871908187866,
          -5.441603660583496,
          -1.5125094652175903,
          -2.793440580368042,
          -1.8393843173980713,
          -4.047171592712402,
          -5.43233060836792,
          2.446030378341675,
          -3.4072425365448,
          -3.2968034744262695,
          -2.2916369438171387,
          -4.775578022003174,
          -4.218584060668945,
          -3.5039381980895996,
          -0.4688210189342499,
          -3.0516197681427,
          -1.1331208944320679,
          -3.3881568908691406,
          -0.7027242183685303,
          2.6571149826049805,
          -5.293263912200928,
          -4.4967474937438965,
          2.641296625137329,
          -4.886343479156494,
          -2.4059417247772217,
          -3.1083717346191406,
          -3.230144500732422,
          -0.36459463834762573,
          -2.852883815765381,
          -1.1338797807693481,
          -6.550366401672363,
          2.844804286956787,
          2.4321463108062744,
          -0.28596004843711853,
          -5.566147327423096,
          -3.299630641937256,
          -2.6395981311798096,
          -0.22934255003929138,
          -0.6923153400421143,
          -3.578141212463379,
          -2.2582428455352783,
          -0.5077141523361206,
          1.2112163305282593,
          -3.7065622806549072,
          -3.7195000648498535,
          -0.18872812390327454,
          -6.964651584625244,
          -6.776480197906494,
          -3.539675712585449,
          -4.847391605377197,
          -0.8459083437919617,
          -5.488324165344238,
          -6.3439459800720215,
          -5.497736930847168,
          4.9284796714782715,
          -2.896510124206543,
          -2.299156427383423,
          -4.783738613128662,
          -5.857315540313721,
          -3.5598831176757812,
          -2.6435415744781494,
          -2.604138135910034,
          -4.23386812210083,
          -2.99941349029541,
          -5.462477684020996,
          -3.2959952354431152,
          -3.4978957176208496,
          -0.24698597192764282,
          -4.743740558624268,
          -4.668449878692627,
          2.0406594276428223,
          -0.8093675374984741,
          -5.891875267028809,
          -4.5229997634887695,
          -4.8102707862854
         ],
         "y": [
          4.2433271408081055,
          -0.3124585747718811,
          -7.043989658355713,
          0.9355355501174927,
          -7.428826332092285,
          6.746902942657471,
          2.7437260150909424,
          5.747677803039551,
          5.718323707580566,
          -2.6036784648895264,
          8.987988471984863,
          -4.119480133056641,
          4.511058330535889,
          1.4487078189849854,
          -3.2614004611968994,
          -4.7399797439575195,
          2.4263288974761963,
          10.874610900878906,
          -7.264303684234619,
          4.038211822509766,
          8.539440155029297,
          -5.750095367431641,
          -3.468193292617798,
          9.245716094970703,
          9.677234649658203,
          5.670461177825928,
          1.3637338876724243,
          -2.501638889312744,
          -0.2777886986732483,
          4.5328369140625,
          1.0874828100204468,
          6.772732257843018,
          1.1250438690185547,
          6.300674915313721,
          2.7422468662261963,
          -6.595815181732178,
          0.9225562214851379,
          3.041994571685791,
          9.476885795593262,
          8.674193382263184,
          -4.090609073638916,
          2.6004204750061035,
          -2.6559371948242188,
          -1.1858856678009033,
          -5.383979797363281,
          2.7790510654449463,
          8.56949520111084,
          -4.432242393493652,
          1.3796237707138062,
          6.369631767272949,
          8.716403007507324,
          10.07922077178955,
          -1.7834810018539429,
          8.739075660705566,
          6.545363426208496,
          10.514625549316406,
          -6.626447677612305,
          1.2861250638961792,
          -0.5030052661895752,
          9.254172325134277,
          0.18815720081329346,
          5.797760486602783,
          4.123733043670654,
          -6.748032569885254,
          -3.8955605030059814,
          -1.5165128707885742,
          2.6958465576171875,
          0.8499442934989929,
          -1.0975626707077026,
          -3.4665963649749756,
          -3.890430450439453,
          -0.7653963565826416,
          -6.226424694061279,
          -1.6888986825942993,
          -2.1314046382904053,
          5.82175350189209,
          8.64831256866455,
          6.087907314300537,
          1.8660391569137573,
          -3.9418604373931885,
          -4.013336658477783,
          2.126952648162842,
          1.9154607057571411,
          3.5725862979888916,
          -6.61012601852417,
          9.019796371459961,
          8.78349781036377,
          9.196548461914062,
          1.442923665046692,
          9.611236572265625,
          1.0458091497421265,
          -7.408906936645508,
          2.1983001232147217,
          9.284497261047363,
          9.403355598449707,
          0.773175060749054,
          4.283486843109131,
          -6.7334885597229,
          9.842696189880371,
          -2.94176983833313,
          8.197589874267578,
          -2.771822214126587,
          -0.5827306509017944,
          -2.8591904640197754,
          -1.0295838117599487,
          1.915446400642395,
          1.56988525390625,
          8.795982360839844,
          2.42378830909729,
          6.7492241859436035,
          10.028050422668457,
          7.352827548980713,
          1.0027179718017578,
          -6.126432418823242,
          -0.3877646028995514,
          8.951786994934082,
          -4.32874870300293,
          -2.4281845092773438,
          -7.466036796569824,
          10.602784156799316,
          -0.4889110028743744,
          -4.4013190269470215,
          -6.521341800689697,
          -4.479240417480469,
          -4.007765769958496,
          -0.21028712391853333,
          0.313092440366745,
          -0.9148017764091492,
          -6.797908782958984,
          -6.239480495452881,
          2.381110191345215,
          7.027228355407715,
          -3.9161901473999023,
          8.068602561950684,
          2.8837196826934814,
          8.811640739440918,
          -3.871091604232788,
          -7.014021873474121,
          2.2637948989868164,
          0.9012892842292786,
          1.7491759061813354,
          0.4701499938964844,
          1.5292326211929321,
          -3.9237844944000244,
          -4.079538822174072,
          1.956760287284851,
          9.331661224365234,
          4.234216690063477,
          -6.309567451477051,
          6.563239097595215,
          2.8784892559051514,
          1.160883903503418,
          -7.276532173156738,
          -2.3899707794189453,
          1.3265868425369263,
          -5.70149040222168,
          8.0663480758667,
          -8.144255638122559,
          -4.095099449157715,
          1.3121291399002075,
          -8.115218162536621,
          8.726306915283203,
          6.10457181930542,
          -6.289613246917725,
          -7.830476760864258,
          5.72517728805542,
          5.918796539306641,
          -6.577821254730225,
          -4.925264358520508,
          -5.489109516143799,
          -2.671820640563965,
          2.2086894512176514,
          3.1090641021728516,
          8.419169425964355,
          0.7444565296173096,
          0.7733280658721924,
          -0.5311830639839172,
          0.7856148481369019,
          -0.8732824921607971,
          -6.276428699493408,
          -3.6945202350616455,
          5.988423824310303,
          1.078107237815857,
          0.4206644594669342,
          3.0850181579589844,
          3.5315897464752197,
          9.564536094665527,
          -5.640984535217285,
          -4.32785701751709,
          9.107744216918945,
          9.231003761291504,
          0.8641222715377808,
          2.6704838275909424,
          -5.360347747802734
         ],
         "z": [
          -1.970563292503357,
          2.2544119358062744,
          2.6032614707946777,
          6.435152053833008,
          -0.48637935519218445,
          2.626955509185791,
          -1.139431118965149,
          -0.48260343074798584,
          0.6013537049293518,
          -0.6184641122817993,
          0.12431953847408295,
          -0.3470149040222168,
          2.2353668212890625,
          6.318449974060059,
          0.9834349155426025,
          1.520353078842163,
          1.3228039741516113,
          3.1486313343048096,
          2.459113836288452,
          1.4508295059204102,
          -0.6823334693908691,
          1.352895975112915,
          0.13376982510089874,
          0.3759484887123108,
          0.2454863339662552,
          1.200157642364502,
          2.8013064861297607,
          -1.1126856803894043,
          -2.9741365909576416,
          1.9787578582763672,
          -3.0725531578063965,
          1.037292242050171,
          -0.255220890045166,
          -1.2594350576400757,
          6.912317276000977,
          3.0204052925109863,
          -3.2440240383148193,
          -1.9708796739578247,
          2.2048556804656982,
          0.7666016817092896,
          8.750895500183105,
          -0.013121511787176132,
          0.16666382551193237,
          8.199609756469727,
          1.7595479488372803,
          -2.4575085639953613,
          -0.14542759954929352,
          -1.1484735012054443,
          -0.9321557879447937,
          1.6748669147491455,
          0.9094116687774658,
          2.7494680881500244,
          7.797718048095703,
          1.8671740293502808,
          2.230412721633911,
          2.416645050048828,
          2.7824881076812744,
          7.9141716957092285,
          0.4645550847053528,
          2.4439778327941895,
          -0.2697870135307312,
          -0.011413907632231712,
          1.7539350986480713,
          4.918066024780273,
          3.596487283706665,
          8.029943466186523,
          0.29396334290504456,
          0.6083599328994751,
          -2.0813395977020264,
          0.6008458137512207,
          3.761324167251587,
          -2.9698469638824463,
          4.115433216094971,
          -1.653800368309021,
          -0.9579682350158691,
          1.587713599205017,
          0.19645898044109344,
          1.2707552909851074,
          -3.33009672164917,
          8.863936424255371,
          8.876505851745605,
          7.408528804779053,
          2.026907444000244,
          3.8770790100097656,
          4.248786449432373,
          3.8143560886383057,
          2.3262856006622314,
          3.1383516788482666,
          -4.294162750244141,
          -0.028029071167111397,
          -3.6153807640075684,
          -0.4681926965713501,
          6.513699531555176,
          4.634814739227295,
          4.080479145050049,
          0.9813587069511414,
          -2.122777223587036,
          2.6945953369140625,
          2.413604736328125,
          0.975818932056427,
          2.721224546432495,
          8.227896690368652,
          0.4145869314670563,
          0.9222939014434814,
          8.251462936401367,
          2.026860237121582,
          6.636513710021973,
          2.2838315963745117,
          1.6432160139083862,
          2.3465278148651123,
          2.7863805294036865,
          2.6357686519622803,
          -0.383912056684494,
          2.3241400718688965,
          -2.963249444961548,
          0.27917420864105225,
          8.109654426574707,
          -0.023835448548197746,
          2.196143627166748,
          2.82893443107605,
          0.7187873125076294,
          2.961536407470703,
          4.870163917541504,
          2.7822842597961426,
          -0.3283141255378723,
          -0.05777610093355179,
          1.7406084537506104,
          7.633050918579102,
          4.845553874969482,
          3.8435354232788086,
          -1.7887107133865356,
          2.736868381500244,
          0.2490801215171814,
          1.3593835830688477,
          0.30075812339782715,
          3.640058755874634,
          -1.2312393188476562,
          2.2341086864471436,
          2.3782424926757812,
          -2.400068521499634,
          -0.5840880274772644,
          1.679032802581787,
          -1.2553197145462036,
          8.313785552978516,
          8.836421012878418,
          -0.7060684561729431,
          0.9991037845611572,
          0.23094388842582703,
          -2.6490705013275146,
          2.3862600326538086,
          2.222926378250122,
          2.308685302734375,
          2.270777463912964,
          -0.497793048620224,
          0.5441045165061951,
          4.52508020401001,
          0.7468658685684204,
          2.1440815925598145,
          0.08514773100614548,
          1.1499531269073486,
          0.8281702399253845,
          2.2485759258270264,
          1.8834415674209595,
          3.190434694290161,
          0.7787854671478271,
          1.2360427379608154,
          1.2146762609481812,
          4.237636089324951,
          1.3220820426940918,
          1.808549165725708,
          -0.22002623975276947,
          -3.1734890937805176,
          -1.8979991674423218,
          -1.3120880126953125,
          7.5374298095703125,
          0.9813884496688843,
          -2.9333810806274414,
          -5.223860263824463,
          -0.017907485365867615,
          5.327951908111572,
          8.394587516784668,
          0.7407779693603516,
          7.06797456741333,
          -1.9758081436157227,
          7.731241226196289,
          -0.24405360221862793,
          3.5437262058258057,
          0.8297355771064758,
          0.5922984480857849,
          6.562253475189209,
          4.084932804107666,
          -4.736586570739746,
          -1.538839340209961,
          0.7912417650222778
         ]
        },
        {
         "hovertemplate": "Dominant_Topic=Topic 2<br>0=%{x}<br>1=%{y}<br>2=%{z}<extra></extra>",
         "legendgroup": "Topic 2",
         "marker": {
          "color": "#00cc96",
          "opacity": 0.7,
          "symbol": "circle"
         },
         "mode": "markers",
         "name": "Topic 2",
         "scene": "scene",
         "showlegend": true,
         "type": "scatter3d",
         "x": [
          6.801168918609619,
          0.8687505125999451,
          4.571200847625732,
          6.223615646362305,
          -0.3618847727775574,
          8.509005546569824,
          1.0117225646972656,
          2.546295642852783,
          -1.8920074701309204,
          3.191845655441284,
          4.0828962326049805,
          4.922455787658691,
          4.06964111328125,
          -3.3590316772460938,
          -1.7643786668777466,
          -1.3452461957931519,
          2.3104166984558105,
          6.282942295074463,
          4.498403549194336,
          1.184662103652954,
          -2.012957811355591,
          3.4225611686706543,
          1.4789574146270752,
          -0.7482715249061584,
          -2.157865047454834,
          1.0702637434005737,
          1.0445423126220703,
          0.5340855121612549,
          -0.6729645133018494,
          4.227657318115234,
          -0.710972249507904,
          -0.03342831879854202,
          3.839432954788208,
          1.6482118368148804,
          1.5489413738250732,
          3.8356244564056396,
          3.6560816764831543,
          0.6673484444618225,
          -5.269718170166016,
          3.52519154548645,
          -2.2089455127716064,
          -1.083778977394104,
          3.625349760055542,
          2.2119061946868896,
          2.677271842956543,
          -2.5200295448303223,
          3.655141592025757,
          0.9841360449790955,
          3.7880635261535645,
          -0.19674231112003326,
          -4.88576078414917,
          -1.3421610593795776,
          0.506702184677124,
          1.410997986793518,
          4.914854049682617,
          0.6255888342857361,
          -0.23762020468711853,
          0.31258609890937805,
          4.5848188400268555,
          1.3219480514526367,
          1.6398630142211914,
          1.6138511896133423,
          -1.7243952751159668,
          4.432347297668457,
          2.6738715171813965,
          2.8529884815216064,
          4.594742298126221,
          4.638965606689453,
          5.81554651260376,
          1.1819347143173218,
          -1.4884655475616455,
          -0.5657836198806763,
          4.41835355758667,
          -2.277618169784546,
          1.920998454093933,
          -2.877654790878296,
          6.126588344573975,
          0.4685229957103729,
          0.5066341757774353,
          7.7557525634765625,
          -3.142266035079956,
          -0.4417487680912018,
          1.2219473123550415,
          0.8825045824050903,
          2.050783157348633,
          0.6113583445549011,
          -0.898703932762146,
          5.062676906585693,
          -1.4731167554855347,
          -1.6433144807815552,
          4.6772050857543945,
          -0.6561118364334106,
          -0.8598594665527344,
          -1.4732149839401245,
          0.824228823184967,
          3.5221846103668213,
          3.923778533935547,
          3.3293967247009277,
          7.5049052238464355,
          3.96195125579834,
          4.734150409698486,
          5.449570178985596,
          -2.3972208499908447,
          -0.004488389007747173,
          7.011770725250244,
          6.000711441040039,
          2.310371160507202,
          1.8886979818344116,
          -2.1732430458068848,
          3.6120691299438477,
          0.9037789106369019,
          3.347414255142212,
          0.964812159538269,
          6.393453598022461,
          0.34761518239974976,
          2.594651937484741,
          -1.6581300497055054,
          0.4306718409061432,
          -0.10530835390090942,
          -2.102489709854126,
          1.301108717918396,
          4.874232769012451,
          -1.5446596145629883,
          2.232189893722534,
          4.244442462921143,
          8.068258285522461,
          6.291220188140869,
          1.789741039276123,
          3.4414212703704834,
          4.477689266204834,
          5.02039909362793,
          6.237842082977295,
          1.7678087949752808,
          5.868425369262695,
          -0.7199685573577881,
          0.7849933505058289,
          0.8275927305221558,
          -2.101849317550659,
          -2.1578755378723145,
          -2.062549114227295,
          -3.545660972595215,
          1.0403183698654175,
          -5.731686115264893,
          4.161393642425537,
          0.8083295822143555,
          0.9036102890968323,
          3.060774564743042,
          -1.3285138607025146,
          -4.793474197387695,
          1.76474130153656,
          3.0616228580474854,
          5.250411033630371,
          3.581735849380493,
          -5.636736869812012,
          4.636666297912598,
          1.5126723051071167,
          7.34541654586792,
          7.177997589111328,
          4.6801066398620605,
          5.230259895324707,
          1.6325387954711914,
          3.1387147903442383,
          7.168875694274902,
          0.6392290592193604,
          -1.4731143712997437,
          4.852820873260498,
          7.875886917114258,
          4.3653082847595215,
          0.6967197060585022,
          3.2235426902770996,
          -1.685378909111023,
          5.105185508728027,
          0.5699893832206726,
          7.630484104156494,
          -5.168781757354736,
          5.931606769561768,
          -0.610022783279419,
          -1.2801393270492554,
          7.31831169128418,
          -0.5201156139373779,
          4.8026227951049805,
          2.6918601989746094,
          0.018970485776662827,
          0.08426206558942795,
          3.02634596824646,
          4.646604537963867,
          -1.0835801362991333,
          -1.9054148197174072,
          1.286409616470337,
          1.076949954032898,
          4.253118991851807,
          -2.4689669609069824,
          0.24827399849891663,
          6.02098274230957,
          1.488867998123169,
          -4.088275909423828,
          -0.06909040361642838,
          3.4038422107696533,
          1.1472322940826416,
          -1.1772184371948242,
          3.7192351818084717,
          -0.0331207737326622,
          -1.6314371824264526,
          4.702474117279053,
          1.3240166902542114,
          -1.3404645919799805,
          1.8983901739120483,
          -0.6442715525627136,
          3.9687860012054443,
          0.3752079904079437,
          -5.424343585968018,
          2.5271010398864746,
          3.611626386642456,
          2.3491017818450928,
          7.0067138671875,
          2.633622646331787,
          4.60211706161499,
          5.174922466278076,
          6.392998695373535,
          -1.4730193614959717,
          0.6514429450035095,
          4.0796661376953125,
          6.8196330070495605,
          0.5574507713317871,
          2.880099296569824,
          2.3448092937469482,
          5.003239154815674,
          -0.06172036752104759,
          -1.6853938102722168,
          5.7348856925964355,
          2.507579803466797,
          4.247152805328369,
          3.7763872146606445,
          -3.288404703140259,
          4.328567981719971,
          5.789506912231445,
          6.165040493011475,
          -0.7739283442497253,
          6.8886566162109375,
          0.9283161163330078,
          -0.9582909345626831,
          -0.4416065812110901,
          4.260641098022461,
          2.3263707160949707,
          3.243062734603882,
          7.855354309082031,
          -5.1312713623046875,
          1.7739176750183105,
          3.806713104248047,
          3.591944694519043,
          -4.097264766693115,
          3.3459837436676025,
          0.15870927274227142,
          1.7791401147842407,
          2.2494990825653076,
          1.747365951538086,
          -1.7101982831954956,
          2.6554319858551025,
          6.219155788421631,
          6.237730026245117,
          5.4765753746032715,
          6.3943305015563965,
          0.3889540731906891,
          3.489291191101074,
          5.942955493927002,
          -4.472387790679932,
          5.0468339920043945,
          1.0702990293502808,
          0.3192187249660492,
          0.7713512778282166,
          2.32761287689209,
          1.9029453992843628,
          1.5733184814453125,
          3.204192638397217,
          5.2863945960998535,
          5.0104079246521,
          -5.7626872062683105,
          2.317572593688965,
          3.374911069869995,
          -0.9757692217826843,
          2.4220190048217773,
          6.650284290313721,
          -0.6323920488357544,
          -1.6860785484313965,
          2.0647919178009033,
          7.143830299377441,
          5.92641019821167,
          -1.3047821521759033,
          3.5444507598876953,
          1.4166018962860107,
          3.816002130508423,
          5.661098003387451,
          4.927425384521484,
          7.081963062286377,
          5.322030067443848,
          -4.60053014755249,
          -3.137377977371216,
          1.9405903816223145,
          0.3096344470977783,
          -4.897390842437744,
          5.6401567459106445,
          0.5198965072631836,
          -6.713148593902588,
          2.0240304470062256,
          1.980022668838501,
          -0.004542429931461811,
          7.484166145324707,
          -0.23112191259860992,
          -0.09818755835294724,
          1.7928441762924194,
          -1.9288671016693115,
          3.511474847793579,
          5.191764831542969,
          2.1213581562042236,
          2.5431652069091797,
          -5.675485134124756
         ],
         "y": [
          -1.2050217390060425,
          -3.3260741233825684,
          2.0976386070251465,
          5.567763328552246,
          5.039106369018555,
          0.48166871070861816,
          0.41084644198417664,
          8.672718048095703,
          -4.838757514953613,
          0.7711031436920166,
          4.624317646026611,
          -3.1300101280212402,
          0.04158564284443855,
          2.763763666152954,
          2.9497337341308594,
          -5.562973499298096,
          0.9319424033164978,
          -2.6343882083892822,
          1.6376821994781494,
          3.4847514629364014,
          0.5743869543075562,
          -3.3825721740722656,
          -2.469930410385132,
          -6.48660135269165,
          -4.182292938232422,
          8.490532875061035,
          5.482836723327637,
          -0.7474959492683411,
          -2.2824466228485107,
          1.7347161769866943,
          -0.515108048915863,
          -2.208770990371704,
          -4.219926834106445,
          -4.3845133781433105,
          8.44656753540039,
          5.886559009552002,
          -0.22588734328746796,
          -4.368391513824463,
          3.1588096618652344,
          -1.3239279985427856,
          1.9481403827667236,
          -2.7002687454223633,
          5.125848770141602,
          -0.7940509915351868,
          -4.432880401611328,
          -0.911737322807312,
          -4.016557216644287,
          5.715689659118652,
          8.576515197753906,
          2.7670323848724365,
          2.9212067127227783,
          -0.9754632115364075,
          4.215539932250977,
          5.816652297973633,
          4.479508399963379,
          4.888828277587891,
          -2.2884507179260254,
          -1.7077258825302124,
          -3.851545810699463,
          -4.134786605834961,
          -4.415952682495117,
          1.59787118434906,
          -3.2412328720092773,
          -0.11161690205335617,
          -3.74958872795105,
          -4.647028923034668,
          -3.0425496101379395,
          -2.164546012878418,
          -0.05764029175043106,
          -1.3062878847122192,
          3.6814992427825928,
          5.424032688140869,
          1.9517477750778198,
          3.3640129566192627,
          5.924213886260986,
          3.8333826065063477,
          4.934684753417969,
          4.2541704177856445,
          -2.786973714828491,
          -2.671638011932373,
          1.7650271654129028,
          -5.783783435821533,
          -7.719123840332031,
          -4.268618106842041,
          2.2996201515197754,
          2.525179862976074,
          4.4997758865356445,
          -2.712709665298462,
          -1.2609339952468872,
          -2.6989212036132812,
          -4.112617492675781,
          4.624533176422119,
          -5.386367321014404,
          -1.2610324621200562,
          5.245746612548828,
          -1.3992563486099243,
          1.3446282148361206,
          -1.195822834968567,
          -2.3851072788238525,
          -1.572888970375061,
          2.578979730606079,
          -4.477178573608398,
          5.349719524383545,
          4.407346248626709,
          -1.0209832191467285,
          4.741926193237305,
          3.639636754989624,
          8.671942710876465,
          -0.5679795742034912,
          -1.8677154779434204,
          4.529965400695801,
          5.484634876251221,
          2.6435794830322266,
          4.9041619300842285,
          4.951693534851074,
          0.0658266618847847,
          1.2648512125015259,
          8.364426612854004,
          0.04026225209236145,
          -3.261949062347412,
          5.111208915710449,
          6.296936988830566,
          -5.862093925476074,
          -2.9681663513183594,
          5.843942165374756,
          -3.2106893062591553,
          -4.121020317077637,
          8.661520957946777,
          -5.245211601257324,
          -0.692599892616272,
          6.516499042510986,
          5.350922584533691,
          7.6885271072387695,
          -2.088486671447754,
          -6.105621337890625,
          5.1845622062683105,
          -1.3737717866897583,
          1.661971092224121,
          -4.182323932647705,
          1.8814704418182373,
          6.191433429718018,
          -3.334073781967163,
          1.6612277030944824,
          -1.1729233264923096,
          3.2447469234466553,
          5.754119873046875,
          -4.186997413635254,
          -2.103145122528076,
          2.8911914825439453,
          5.160607814788818,
          -5.3096466064453125,
          7.136858940124512,
          -3.0019569396972656,
          3.2782721519470215,
          1.9807922840118408,
          -3.9721572399139404,
          -1.8708747625350952,
          -2.476128339767456,
          -2.0270497798919678,
          -2.6189186573028564,
          -4.411484718322754,
          -5.39461612701416,
          -1.0277363061904907,
          -1.0757930278778076,
          -1.1275687217712402,
          -1.9730031490325928,
          -1.9580634832382202,
          -0.05456249788403511,
          2.861337900161743,
          -0.8402619957923889,
          -3.051042079925537,
          -2.0058398246765137,
          8.591790199279785,
          -2.783719539642334,
          2.847775936126709,
          4.653166770935059,
          5.9798688888549805,
          2.4069387912750244,
          -1.1643128395080566,
          -5.4111328125,
          -2.2095675468444824,
          -2.7750024795532227,
          7.012392520904541,
          3.1587278842926025,
          -4.357670307159424,
          2.0079777240753174,
          -2.7003214359283447,
          -4.633111000061035,
          0.29287460446357727,
          -3.7339818477630615,
          0.3443108797073364,
          2.0956664085388184,
          4.9584245681762695,
          5.757246494293213,
          1.0180147886276245,
          2.856898546218872,
          5.495397567749023,
          5.207032680511475,
          -1.8703665733337402,
          -1.2547430992126465,
          -2.8841748237609863,
          -2.20874285697937,
          -4.75923490524292,
          2.6667397022247314,
          -7.56366491317749,
          3.8818747997283936,
          -4.222804069519043,
          -6.825786113739014,
          5.703187942504883,
          -0.5487796664237976,
          2.67109751701355,
          -4.18707275390625,
          -2.6387479305267334,
          -4.1972455978393555,
          0.1524396538734436,
          -3.9749248027801514,
          4.388845443725586,
          5.28136682510376,
          4.421170711517334,
          -1.2610759735107422,
          1.7946523427963257,
          -2.6979732513427734,
          -3.248575448989868,
          -0.2969004809856415,
          -4.82009744644165,
          6.907785415649414,
          7.022439479827881,
          6.903018474578857,
          -3.051117420196533,
          4.906774044036865,
          -2.813495397567749,
          1.7216798067092896,
          -1.1579328775405884,
          3.029167652130127,
          -3.472773313522339,
          -2.2639195919036865,
          -3.802586793899536,
          -5.528811454772949,
          5.094179630279541,
          -1.109699010848999,
          4.149680137634277,
          -7.158189296722412,
          1.139022946357727,
          -3.479876756668091,
          8.68240737915039,
          -2.8733439445495605,
          1.4908685684204102,
          -3.548264265060425,
          -2.242218255996704,
          -2.080444574356079,
          0.7707926630973816,
          6.5990681648254395,
          5.270685195922852,
          -5.076329231262207,
          8.290692329406738,
          -4.1777119636535645,
          -2.845182418823242,
          -2.7864584922790527,
          4.957665920257568,
          0.6987578868865967,
          0.3591882288455963,
          4.945313453674316,
          -1.4152196645736694,
          2.8564293384552,
          4.6554951667785645,
          1.8443341255187988,
          -4.070062637329102,
          4.3136982917785645,
          0.3201829791069031,
          2.4962234497070312,
          -1.2644485235214233,
          5.958416938781738,
          -4.71570348739624,
          -5.185686111450195,
          -5.335777282714844,
          4.808315277099609,
          1.5129376649856567,
          -3.7194297313690186,
          0.49792444705963135,
          4.744028091430664,
          -1.5761079788208008,
          0.09815631806850433,
          2.6651413440704346,
          -3.7036523818969727,
          -3.7902638912200928,
          -0.034424569457769394,
          5.20859432220459,
          -5.162658214569092,
          5.995607852935791,
          -3.374678373336792,
          -1.1392446756362915,
          4.00389289855957,
          -6.49647331237793,
          5.090285301208496,
          -0.6228443384170532,
          3.0837066173553467,
          3.53556489944458,
          1.778574824333191,
          -0.8147495985031128,
          2.4956016540527344,
          4.843241214752197,
          -7.723285675048828,
          1.7536696195602417,
          2.013895034790039,
          3.3463797569274902,
          4.407336235046387,
          -0.6265251636505127,
          3.5063250064849854,
          5.099243640899658,
          -1.4300333261489868,
          3.363053560256958,
          -3.0859169960021973,
          6.740047454833984,
          -3.823859453201294,
          7.183008670806885,
          3.319455862045288
         ],
         "z": [
          0.32227593660354614,
          1.6591347455978394,
          -0.5943044424057007,
          -2.8233957290649414,
          -3.148444414138794,
          2.477402925491333,
          -4.56294059753418,
          -0.7350232005119324,
          -1.5108815431594849,
          -1.3278579711914062,
          -1.8913569450378418,
          -4.876662254333496,
          -1.857067346572876,
          -1.1205081939697266,
          -1.1565452814102173,
          -2.896693229675293,
          -0.8661505579948425,
          0.12738992273807526,
          -0.871825098991394,
          -0.17193809151649475,
          -1.8897501230239868,
          -0.5668064951896667,
          1.093239426612854,
          -2.8851568698883057,
          -1.3748900890350342,
          -0.9517018795013428,
          -4.998630046844482,
          -3.064244508743286,
          0.00836656242609024,
          -4.210450649261475,
          -4.53740930557251,
          -2.603273868560791,
          1.0944714546203613,
          -8.445524215698242,
          -0.9775528907775879,
          -2.746875047683716,
          -1.5471107959747314,
          -9.362895011901855,
          -7.064217567443848,
          -0.58050936460495,
          -3.202256202697754,
          -0.7133451104164124,
          1.2916091680526733,
          -3.403195381164551,
          -4.804682731628418,
          -3.1605019569396973,
          0.21932826936244965,
          -6.122121810913086,
          -0.8561903834342957,
          0.14504896104335785,
          -6.1202073097229,
          -4.40000057220459,
          -1.4118870496749878,
          -4.711731910705566,
          -1.645829677581787,
          -3.290696382522583,
          -1.7266817092895508,
          -2.117816686630249,
          0.9928503036499023,
          -2.188739538192749,
          -3.2785778045654297,
          -5.639768123626709,
          -2.3831899166107178,
          -1.220784068107605,
          -1.6976381540298462,
          -5.485353469848633,
          -6.738800048828125,
          -5.06907844543457,
          1.6127188205718994,
          -2.001795768737793,
          -3.852921962738037,
          -2.4159250259399414,
          -0.8128374814987183,
          -0.04130236804485321,
          -4.2222466468811035,
          -2.9680683612823486,
          2.0622477531433105,
          -1.5527294874191284,
          -2.0152206420898438,
          -0.5535393953323364,
          -3.6868507862091064,
          -2.6397030353546143,
          1.1494592428207397,
          -9.461770057678223,
          -1.1393097639083862,
          0.5927427411079407,
          -5.859701633453369,
          -6.388322353363037,
          -4.863316535949707,
          -1.9816805124282837,
          -4.300731182098389,
          -0.307000994682312,
          -2.7073278427124023,
          -4.863205909729004,
          -4.628604412078857,
          0.37311071157455444,
          3.0261685848236084,
          0.39055952429771423,
          0.06496543437242508,
          -1.1876492500305176,
          -1.0139949321746826,
          -4.5993332862854,
          -2.0506157875061035,
          -0.5112957954406738,
          0.9383619427680969,
          2.004556655883789,
          -0.84559166431427,
          -0.7540884613990784,
          -3.2018134593963623,
          -0.5522497296333313,
          -0.46683937311172485,
          1.7608721256256104,
          0.5697950124740601,
          -2.5191574096679688,
          -3.8410139083862305,
          2.0795633792877197,
          -1.5865094661712646,
          -0.8238174319267273,
          -4.642439842224121,
          -2.0954489707946777,
          -6.118251323699951,
          -3.0391504764556885,
          -2.744353771209717,
          -10.510552406311035,
          -3.1921536922454834,
          -0.7511726021766663,
          -1.3445637226104736,
          -0.8533809781074524,
          -0.3482653796672821,
          -4.78588342666626,
          -3.021568775177002,
          2.025804281234741,
          -2.058948278427124,
          -6.506117820739746,
          -0.6920568943023682,
          -4.684543609619141,
          -4.0615339279174805,
          -1.631206750869751,
          -1.3749278783798218,
          -2.154451370239258,
          -1.697470784187317,
          -1.6483017206192017,
          -6.246628761291504,
          -4.798692226409912,
          -4.662339687347412,
          -6.123904705047607,
          -4.6425018310546875,
          -0.8334327340126038,
          -5.762372970581055,
          -6.023034572601318,
          -8.702604293823242,
          -2.8224494457244873,
          -9.267643928527832,
          -4.294619560241699,
          1.9791088104248047,
          -9.72576904296875,
          -2.4181442260742188,
          0.30149391293525696,
          -4.756434917449951,
          -6.057091236114502,
          -7.528783321380615,
          -8.703118324279785,
          -3.5677642822265625,
          -1.9811197519302368,
          -4.645063400268555,
          -4.304363250732422,
          0.31406769156455994,
          -1.522002935409546,
          -5.480350017547607,
          0.8482300043106079,
          -2.274700880050659,
          -6.191173076629639,
          -0.47750091552734375,
          -1.6708368062973022,
          -6.114895343780518,
          2.065577983856201,
          -1.8252183198928833,
          -1.282346487045288,
          -3.287736654281616,
          -3.341639280319214,
          -5.265588283538818,
          -10.106289863586426,
          -0.9261032342910767,
          -0.24745094776153564,
          -4.621309280395508,
          2.059457302093506,
          -0.7133645415306091,
          -1.6163134574890137,
          -4.80052375793457,
          -1.995317816734314,
          -1.5274368524551392,
          -3.632840871810913,
          -3.3436052799224854,
          -2.124291181564331,
          -4.577951908111572,
          -2.095329999923706,
          -1.5735390186309814,
          1.3620858192443848,
          -3.5077998638153076,
          -4.8759379386901855,
          -1.8402522802352905,
          -2.6031715869903564,
          -3.0659239292144775,
          -1.1874498128890991,
          1.4324369430541992,
          -2.026183605194092,
          -8.85404109954834,
          -0.7379445433616638,
          -3.1993484497070312,
          -3.7392477989196777,
          -4.846287727355957,
          -5.286836624145508,
          -2.2774431705474854,
          -2.0702898502349854,
          1.1594500541687012,
          -5.346872806549072,
          -1.5658718347549438,
          -1.176943302154541,
          -1.2862415313720703,
          -4.863152980804443,
          1.2928715944290161,
          -5.958383560180664,
          -1.6438084840774536,
          0.6344007849693298,
          -6.273519515991211,
          -3.543091058731079,
          -2.9679369926452637,
          -0.9943300485610962,
          -2.2745635509490967,
          -2.155153274536133,
          -10.436062812805176,
          -4.07813024520874,
          -1.5581923723220825,
          -1.8416153192520142,
          0.2309717833995819,
          -0.6242948770523071,
          -0.6254138350486755,
          -1.2448667287826538,
          1.4695830345153809,
          -2.2410480976104736,
          -3.7124838829040527,
          -0.1423511952161789,
          -1.0852351188659668,
          -9.847515106201172,
          -0.7171741724014282,
          -0.4404894709587097,
          -5.988166809082031,
          -6.382143497467041,
          -0.8832231163978577,
          -0.452400267124176,
          -5.941811561584473,
          -2.805025815963745,
          -1.5443525314331055,
          -2.0567610263824463,
          2.877075672149658,
          -8.998156547546387,
          -1.4187010526657104,
          -10.143895149230957,
          1.9076032638549805,
          -4.536392688751221,
          1.792351484298706,
          1.0658972263336182,
          -3.480747938156128,
          -1.913321852684021,
          -2.1472105979919434,
          -6.868904113769531,
          1.0834254026412964,
          -0.17845363914966583,
          -4.455211639404297,
          0.20478838682174683,
          0.48098286986351013,
          -4.275789260864258,
          -7.234437942504883,
          -8.888394355773926,
          -5.155746936798096,
          1.9665122032165527,
          -6.119446754455566,
          -2.1161115169525146,
          -2.0020670890808105,
          0.4297734498977661,
          0.4982185363769531,
          1.1706467866897583,
          0.06447027623653412,
          -2.3042547702789307,
          -9.611824989318848,
          1.1437619924545288,
          -1.8564733266830444,
          -1.4651756286621094,
          -4.094045639038086,
          -2.3588614463806152,
          -0.2987695336341858,
          -2.247786521911621,
          -2.058596134185791,
          1.6154955625534058,
          1.4841524362564087,
          -3.012258529663086,
          -3.1359801292419434,
          -1.3778841495513916,
          0.3411006033420563,
          -5.536981105804443,
          -2.0967071056365967,
          0.8553434610366821,
          -4.300208568572998,
          -1.2520123720169067,
          -1.0365756750106812,
          -0.5113344192504883,
          1.8651288747787476,
          -0.9853368997573853,
          -2.882488250732422,
          -2.102539539337158,
          -3.379319906234741,
          -9.158417701721191,
          -2.910885810852051,
          -6.122726917266846,
          -2.795931100845337,
          -4.15137243270874
         ]
        },
        {
         "hovertemplate": "Dominant_Topic=Topic 3<br>0=%{x}<br>1=%{y}<br>2=%{z}<extra></extra>",
         "legendgroup": "Topic 3",
         "marker": {
          "color": "#ab63fa",
          "opacity": 0.7,
          "symbol": "circle"
         },
         "mode": "markers",
         "name": "Topic 3",
         "scene": "scene",
         "showlegend": true,
         "type": "scatter3d",
         "x": [
          -7.302236557006836,
          1.5249357223510742,
          -2.7643067836761475,
          1.553963303565979,
          -2.6482293605804443,
          -5.89267110824585,
          -0.03714495152235031,
          -1.0116280317306519,
          4.0628814697265625,
          -3.8613526821136475,
          -3.1428399085998535,
          -1.7009443044662476,
          -1.3296936750411987,
          -2.52331805229187,
          -0.8585658669471741,
          5.232060432434082,
          -1.2733514308929443,
          -1.906893014907837,
          -0.9122621417045593,
          -2.8780648708343506,
          0.8063053488731384,
          -2.234131097793579,
          -1.7979289293289185,
          -5.463780403137207,
          2.8776700496673584,
          -1.1534852981567383,
          0.5713071823120117,
          -1.9054204225540161,
          -2.482865333557129,
          -0.9241446852684021,
          -1.5374388694763184,
          -3.3747007846832275,
          -0.05125189200043678,
          -1.243656039237976,
          -3.1846468448638916,
          -2.976109266281128,
          -1.377814769744873,
          -3.217344284057617,
          -3.491854667663574,
          -0.2139555662870407,
          3.7921831607818604,
          -0.35831350088119507,
          -3.205798387527466,
          -3.3249611854553223,
          -3.8982949256896973,
          3.0638928413391113,
          -0.4054354131221771,
          -7.047888278961182,
          -2.5317795276641846,
          0.749163031578064,
          -1.527466893196106,
          -1.7976272106170654,
          -3.177586078643799,
          -0.151344895362854,
          -2.712637186050415,
          -1.7543883323669434,
          -5.615401744842529,
          -1.4544079303741455,
          0.6424992084503174,
          -4.1746439933776855,
          -2.353567123413086,
          -1.5282723903656006,
          -1.9338568449020386,
          1.7113927602767944,
          -7.195318698883057,
          -0.8469215035438538,
          -2.016648292541504,
          -1.3976099491119385,
          -1.585827112197876,
          0.15722514688968658,
          -6.9002485275268555,
          -1.3276532888412476,
          0.7632700204849243,
          1.6373028755187988,
          1.6419752836227417,
          -0.167566180229187,
          1.1765285730361938,
          -0.2644888162612915,
          -6.727677345275879,
          1.3612762689590454,
          -1.906685471534729,
          4.5419769287109375,
          -3.321540117263794,
          -2.655632734298706,
          -2.286565065383911,
          1.3612979650497437,
          -2.1392457485198975,
          -3.2944202423095703,
          -0.8034419417381287,
          -3.6337175369262695,
          -3.345607042312622,
          -5.631415367126465,
          -2.4814260005950928,
          -3.433480978012085,
          -4.76684045791626,
          -3.264937400817871,
          -2.71871280670166,
          -5.588669300079346,
          -1.5374709367752075,
          -2.6831421852111816,
          -3.0541601181030273,
          -1.4082462787628174,
          -5.971442222595215,
          -2.6807541847229004,
          -4.164478778839111,
          1.8184504508972168,
          4.89249849319458,
          -1.9653047323226929,
          -4.039038181304932,
          -3.78869891166687,
          -2.0780856609344482,
          -1.494959831237793,
          -0.5248546004295349,
          -5.823423862457275,
          -5.839359760284424,
          0.5044121146202087,
          4.704127788543701,
          -4.815073013305664,
          -0.948244035243988,
          1.0128562450408936,
          -3.8731942176818848,
          -0.21212869882583618
         ],
         "y": [
          5.789910316467285,
          -5.746105194091797,
          5.808804512023926,
          0.8856065273284912,
          -5.842287540435791,
          5.26616907119751,
          2.5537374019622803,
          -1.0498794317245483,
          -7.483055591583252,
          -7.004708766937256,
          -5.871214866638184,
          -1.809919834136963,
          -8.218755722045898,
          -1.9562586545944214,
          2.3729970455169678,
          -5.513374328613281,
          0.9941446781158447,
          4.193603515625,
          -8.323836326599121,
          -2.495481491088867,
          3.2011821269989014,
          -1.3214293718338013,
          2.975532293319702,
          5.490103721618652,
          -5.561448097229004,
          -5.663357257843018,
          2.9175639152526855,
          -3.294703722000122,
          6.9037041664123535,
          -1.0753027200698853,
          -3.979581117630005,
          -5.9870476722717285,
          2.83632493019104,
          -7.163432598114014,
          -2.4287500381469727,
          6.183569431304932,
          -4.432697296142578,
          -6.08821964263916,
          -6.330440044403076,
          -7.063846588134766,
          -7.054863452911377,
          -6.221752643585205,
          -2.012399911880493,
          -1.9996824264526367,
          7.450995922088623,
          -7.4560770988464355,
          -5.894636631011963,
          6.622765064239502,
          -1.2553242444992065,
          -0.3173072934150696,
          -7.001380920410156,
          3.0095434188842773,
          -2.0172059535980225,
          2.101085662841797,
          -1.0431058406829834,
          -7.654641151428223,
          4.86463737487793,
          -6.436258792877197,
          -5.605808734893799,
          5.673406600952148,
          -2.9529242515563965,
          2.004518747329712,
          -6.590624809265137,
          1.6478887796401978,
          5.6049909591674805,
          3.0060713291168213,
          4.19267463684082,
          -4.8673810958862305,
          -7.781867980957031,
          -5.784533977508545,
          6.497259616851807,
          2.5071823596954346,
          3.715914726257324,
          0.5616931319236755,
          0.015513182617723942,
          0.2469286322593689,
          -5.292268753051758,
          0.6212021112442017,
          1.5099490880966187,
          -5.275330543518066,
          4.193699836730957,
          -6.4547929763793945,
          -0.7113380432128906,
          -2.061452627182007,
          -5.4984025955200195,
          -5.275362014770508,
          -6.966906547546387,
          6.678610324859619,
          2.6742684841156006,
          0.43099164962768555,
          -1.6538492441177368,
          5.756690502166748,
          -6.275363445281982,
          1.5530744791030884,
          6.365131378173828,
          6.581434726715088,
          -2.35176944732666,
          5.3615851402282715,
          -3.9795284271240234,
          6.00843620300293,
          -1.5085108280181885,
          1.2031710147857666,
          -2.3188462257385254,
          6.5683274269104,
          0.4140983819961548,
          0.7797849178314209,
          -5.9538702964782715,
          -3.5147311687469482,
          7.635356903076172,
          6.66063928604126,
          -1.2846344709396362,
          -6.640061855316162,
          -5.611858367919922,
          4.774514675140381,
          5.514235019683838,
          -0.6146667003631592,
          -5.966732025146484,
          8.223045349121094,
          1.0078717470169067,
          3.153895616531372,
          6.650269508361816,
          3.801954984664917
         ],
         "z": [
          1.5562177896499634,
          -7.6015849113464355,
          1.4457694292068481,
          -8.12058162689209,
          -6.578674793243408,
          4.536570072174072,
          -7.822354316711426,
          -8.649312973022461,
          -6.056217193603516,
          -6.2426652908325195,
          -6.5800652503967285,
          -8.104114532470703,
          -7.1825408935546875,
          -7.668249130249023,
          -6.948362827301025,
          -5.643292427062988,
          -6.605836391448975,
          -6.167957305908203,
          -6.143911838531494,
          -5.844089031219482,
          -7.990626811981201,
          -5.957043647766113,
          -7.715426445007324,
          4.709431171417236,
          -8.367137908935547,
          -3.7568109035491943,
          -8.788805961608887,
          -5.741634845733643,
          5.438776016235352,
          -8.509223937988281,
          -5.796956539154053,
          -6.739999771118164,
          -7.416256427764893,
          -4.734465599060059,
          -5.852270126342773,
          5.311305999755859,
          -4.7025065422058105,
          -5.690019607543945,
          -6.639368057250977,
          -3.330066204071045,
          -5.873256206512451,
          -5.067246437072754,
          -5.901580333709717,
          -4.828045845031738,
          -0.6695795655250549,
          -5.4357452392578125,
          -5.402949333190918,
          2.572047472000122,
          -8.135329246520996,
          -7.842541694641113,
          -7.203895568847656,
          -7.600123882293701,
          -4.131965637207031,
          -8.304327964782715,
          -8.354939460754395,
          -5.995616436004639,
          3.7799768447875977,
          -3.5466744899749756,
          -6.600461483001709,
          3.0130434036254883,
          -5.9125800132751465,
          -8.091835021972656,
          -7.242537975311279,
          -6.90153169631958,
          1.1555124521255493,
          -7.127109050750732,
          -6.229245185852051,
          -4.191992282867432,
          -7.318593502044678,
          -6.890938758850098,
          2.4832401275634766,
          -7.73029088973999,
          -7.531147003173828,
          -8.076068878173828,
          -7.0300612449646,
          -7.911703586578369,
          -7.04265832901001,
          -7.610152244567871,
          -3.6694140434265137,
          -6.737701416015625,
          -6.167917728424072,
          -6.032049179077148,
          -8.416687965393066,
          -7.653868675231934,
          -6.667542457580566,
          -6.737718105316162,
          -5.663550853729248,
          4.8306050300598145,
          -7.172603130340576,
          -5.861430644989014,
          -4.9472150802612305,
          4.749972820281982,
          -7.2303667068481445,
          -3.665780544281006,
          3.3315765857696533,
          4.349147319793701,
          -5.799440860748291,
          4.698570251464844,
          -5.79691743850708,
          1.7994005680084229,
          -4.57305383682251,
          -8.620161056518555,
          4.632350921630859,
          5.106114864349365,
          -5.747677326202393,
          -7.20465087890625,
          -5.949419021606445,
          -5.529306411743164,
          -0.5971707701683044,
          -1.1420589685440063,
          -8.259976387023926,
          -7.262003421783447,
          -5.0083088874816895,
          3.919144630432129,
          4.616505146026611,
          -7.572289943695068,
          -5.873661518096924,
          -0.30282655358314514,
          -6.820573806762695,
          -8.207235336303711,
          -0.5984947085380554,
          -6.31118106842041
         ]
        }
       ],
       "layout": {
        "height": 800,
        "legend": {
         "title": {
          "text": "Dominant_Topic"
         },
         "tracegroupgap": 0
        },
        "scene": {
         "domain": {
          "x": [
           0,
           1
          ],
          "y": [
           0,
           1
          ]
         },
         "xaxis": {
          "title": {
           "text": "0"
          }
         },
         "yaxis": {
          "title": {
           "text": "1"
          }
         },
         "zaxis": {
          "title": {
           "text": "2"
          }
         }
        },
        "template": {
         "data": {
          "bar": [
           {
            "error_x": {
             "color": "#2a3f5f"
            },
            "error_y": {
             "color": "#2a3f5f"
            },
            "marker": {
             "line": {
              "color": "#E5ECF6",
              "width": 0.5
             },
             "pattern": {
              "fillmode": "overlay",
              "size": 10,
              "solidity": 0.2
             }
            },
            "type": "bar"
           }
          ],
          "barpolar": [
           {
            "marker": {
             "line": {
              "color": "#E5ECF6",
              "width": 0.5
             },
             "pattern": {
              "fillmode": "overlay",
              "size": 10,
              "solidity": 0.2
             }
            },
            "type": "barpolar"
           }
          ],
          "carpet": [
           {
            "aaxis": {
             "endlinecolor": "#2a3f5f",
             "gridcolor": "white",
             "linecolor": "white",
             "minorgridcolor": "white",
             "startlinecolor": "#2a3f5f"
            },
            "baxis": {
             "endlinecolor": "#2a3f5f",
             "gridcolor": "white",
             "linecolor": "white",
             "minorgridcolor": "white",
             "startlinecolor": "#2a3f5f"
            },
            "type": "carpet"
           }
          ],
          "choropleth": [
           {
            "colorbar": {
             "outlinewidth": 0,
             "ticks": ""
            },
            "type": "choropleth"
           }
          ],
          "contour": [
           {
            "colorbar": {
             "outlinewidth": 0,
             "ticks": ""
            },
            "colorscale": [
             [
              0,
              "#0d0887"
             ],
             [
              0.1111111111111111,
              "#46039f"
             ],
             [
              0.2222222222222222,
              "#7201a8"
             ],
             [
              0.3333333333333333,
              "#9c179e"
             ],
             [
              0.4444444444444444,
              "#bd3786"
             ],
             [
              0.5555555555555556,
              "#d8576b"
             ],
             [
              0.6666666666666666,
              "#ed7953"
             ],
             [
              0.7777777777777778,
              "#fb9f3a"
             ],
             [
              0.8888888888888888,
              "#fdca26"
             ],
             [
              1,
              "#f0f921"
             ]
            ],
            "type": "contour"
           }
          ],
          "contourcarpet": [
           {
            "colorbar": {
             "outlinewidth": 0,
             "ticks": ""
            },
            "type": "contourcarpet"
           }
          ],
          "heatmap": [
           {
            "colorbar": {
             "outlinewidth": 0,
             "ticks": ""
            },
            "colorscale": [
             [
              0,
              "#0d0887"
             ],
             [
              0.1111111111111111,
              "#46039f"
             ],
             [
              0.2222222222222222,
              "#7201a8"
             ],
             [
              0.3333333333333333,
              "#9c179e"
             ],
             [
              0.4444444444444444,
              "#bd3786"
             ],
             [
              0.5555555555555556,
              "#d8576b"
             ],
             [
              0.6666666666666666,
              "#ed7953"
             ],
             [
              0.7777777777777778,
              "#fb9f3a"
             ],
             [
              0.8888888888888888,
              "#fdca26"
             ],
             [
              1,
              "#f0f921"
             ]
            ],
            "type": "heatmap"
           }
          ],
          "heatmapgl": [
           {
            "colorbar": {
             "outlinewidth": 0,
             "ticks": ""
            },
            "colorscale": [
             [
              0,
              "#0d0887"
             ],
             [
              0.1111111111111111,
              "#46039f"
             ],
             [
              0.2222222222222222,
              "#7201a8"
             ],
             [
              0.3333333333333333,
              "#9c179e"
             ],
             [
              0.4444444444444444,
              "#bd3786"
             ],
             [
              0.5555555555555556,
              "#d8576b"
             ],
             [
              0.6666666666666666,
              "#ed7953"
             ],
             [
              0.7777777777777778,
              "#fb9f3a"
             ],
             [
              0.8888888888888888,
              "#fdca26"
             ],
             [
              1,
              "#f0f921"
             ]
            ],
            "type": "heatmapgl"
           }
          ],
          "histogram": [
           {
            "marker": {
             "pattern": {
              "fillmode": "overlay",
              "size": 10,
              "solidity": 0.2
             }
            },
            "type": "histogram"
           }
          ],
          "histogram2d": [
           {
            "colorbar": {
             "outlinewidth": 0,
             "ticks": ""
            },
            "colorscale": [
             [
              0,
              "#0d0887"
             ],
             [
              0.1111111111111111,
              "#46039f"
             ],
             [
              0.2222222222222222,
              "#7201a8"
             ],
             [
              0.3333333333333333,
              "#9c179e"
             ],
             [
              0.4444444444444444,
              "#bd3786"
             ],
             [
              0.5555555555555556,
              "#d8576b"
             ],
             [
              0.6666666666666666,
              "#ed7953"
             ],
             [
              0.7777777777777778,
              "#fb9f3a"
             ],
             [
              0.8888888888888888,
              "#fdca26"
             ],
             [
              1,
              "#f0f921"
             ]
            ],
            "type": "histogram2d"
           }
          ],
          "histogram2dcontour": [
           {
            "colorbar": {
             "outlinewidth": 0,
             "ticks": ""
            },
            "colorscale": [
             [
              0,
              "#0d0887"
             ],
             [
              0.1111111111111111,
              "#46039f"
             ],
             [
              0.2222222222222222,
              "#7201a8"
             ],
             [
              0.3333333333333333,
              "#9c179e"
             ],
             [
              0.4444444444444444,
              "#bd3786"
             ],
             [
              0.5555555555555556,
              "#d8576b"
             ],
             [
              0.6666666666666666,
              "#ed7953"
             ],
             [
              0.7777777777777778,
              "#fb9f3a"
             ],
             [
              0.8888888888888888,
              "#fdca26"
             ],
             [
              1,
              "#f0f921"
             ]
            ],
            "type": "histogram2dcontour"
           }
          ],
          "mesh3d": [
           {
            "colorbar": {
             "outlinewidth": 0,
             "ticks": ""
            },
            "type": "mesh3d"
           }
          ],
          "parcoords": [
           {
            "line": {
             "colorbar": {
              "outlinewidth": 0,
              "ticks": ""
             }
            },
            "type": "parcoords"
           }
          ],
          "pie": [
           {
            "automargin": true,
            "type": "pie"
           }
          ],
          "scatter": [
           {
            "fillpattern": {
             "fillmode": "overlay",
             "size": 10,
             "solidity": 0.2
            },
            "type": "scatter"
           }
          ],
          "scatter3d": [
           {
            "line": {
             "colorbar": {
              "outlinewidth": 0,
              "ticks": ""
             }
            },
            "marker": {
             "colorbar": {
              "outlinewidth": 0,
              "ticks": ""
             }
            },
            "type": "scatter3d"
           }
          ],
          "scattercarpet": [
           {
            "marker": {
             "colorbar": {
              "outlinewidth": 0,
              "ticks": ""
             }
            },
            "type": "scattercarpet"
           }
          ],
          "scattergeo": [
           {
            "marker": {
             "colorbar": {
              "outlinewidth": 0,
              "ticks": ""
             }
            },
            "type": "scattergeo"
           }
          ],
          "scattergl": [
           {
            "marker": {
             "colorbar": {
              "outlinewidth": 0,
              "ticks": ""
             }
            },
            "type": "scattergl"
           }
          ],
          "scattermapbox": [
           {
            "marker": {
             "colorbar": {
              "outlinewidth": 0,
              "ticks": ""
             }
            },
            "type": "scattermapbox"
           }
          ],
          "scatterpolar": [
           {
            "marker": {
             "colorbar": {
              "outlinewidth": 0,
              "ticks": ""
             }
            },
            "type": "scatterpolar"
           }
          ],
          "scatterpolargl": [
           {
            "marker": {
             "colorbar": {
              "outlinewidth": 0,
              "ticks": ""
             }
            },
            "type": "scatterpolargl"
           }
          ],
          "scatterternary": [
           {
            "marker": {
             "colorbar": {
              "outlinewidth": 0,
              "ticks": ""
             }
            },
            "type": "scatterternary"
           }
          ],
          "surface": [
           {
            "colorbar": {
             "outlinewidth": 0,
             "ticks": ""
            },
            "colorscale": [
             [
              0,
              "#0d0887"
             ],
             [
              0.1111111111111111,
              "#46039f"
             ],
             [
              0.2222222222222222,
              "#7201a8"
             ],
             [
              0.3333333333333333,
              "#9c179e"
             ],
             [
              0.4444444444444444,
              "#bd3786"
             ],
             [
              0.5555555555555556,
              "#d8576b"
             ],
             [
              0.6666666666666666,
              "#ed7953"
             ],
             [
              0.7777777777777778,
              "#fb9f3a"
             ],
             [
              0.8888888888888888,
              "#fdca26"
             ],
             [
              1,
              "#f0f921"
             ]
            ],
            "type": "surface"
           }
          ],
          "table": [
           {
            "cells": {
             "fill": {
              "color": "#EBF0F8"
             },
             "line": {
              "color": "white"
             }
            },
            "header": {
             "fill": {
              "color": "#C8D4E3"
             },
             "line": {
              "color": "white"
             }
            },
            "type": "table"
           }
          ]
         },
         "layout": {
          "annotationdefaults": {
           "arrowcolor": "#2a3f5f",
           "arrowhead": 0,
           "arrowwidth": 1
          },
          "autotypenumbers": "strict",
          "coloraxis": {
           "colorbar": {
            "outlinewidth": 0,
            "ticks": ""
           }
          },
          "colorscale": {
           "diverging": [
            [
             0,
             "#8e0152"
            ],
            [
             0.1,
             "#c51b7d"
            ],
            [
             0.2,
             "#de77ae"
            ],
            [
             0.3,
             "#f1b6da"
            ],
            [
             0.4,
             "#fde0ef"
            ],
            [
             0.5,
             "#f7f7f7"
            ],
            [
             0.6,
             "#e6f5d0"
            ],
            [
             0.7,
             "#b8e186"
            ],
            [
             0.8,
             "#7fbc41"
            ],
            [
             0.9,
             "#4d9221"
            ],
            [
             1,
             "#276419"
            ]
           ],
           "sequential": [
            [
             0,
             "#0d0887"
            ],
            [
             0.1111111111111111,
             "#46039f"
            ],
            [
             0.2222222222222222,
             "#7201a8"
            ],
            [
             0.3333333333333333,
             "#9c179e"
            ],
            [
             0.4444444444444444,
             "#bd3786"
            ],
            [
             0.5555555555555556,
             "#d8576b"
            ],
            [
             0.6666666666666666,
             "#ed7953"
            ],
            [
             0.7777777777777778,
             "#fb9f3a"
            ],
            [
             0.8888888888888888,
             "#fdca26"
            ],
            [
             1,
             "#f0f921"
            ]
           ],
           "sequentialminus": [
            [
             0,
             "#0d0887"
            ],
            [
             0.1111111111111111,
             "#46039f"
            ],
            [
             0.2222222222222222,
             "#7201a8"
            ],
            [
             0.3333333333333333,
             "#9c179e"
            ],
            [
             0.4444444444444444,
             "#bd3786"
            ],
            [
             0.5555555555555556,
             "#d8576b"
            ],
            [
             0.6666666666666666,
             "#ed7953"
            ],
            [
             0.7777777777777778,
             "#fb9f3a"
            ],
            [
             0.8888888888888888,
             "#fdca26"
            ],
            [
             1,
             "#f0f921"
            ]
           ]
          },
          "colorway": [
           "#636efa",
           "#EF553B",
           "#00cc96",
           "#ab63fa",
           "#FFA15A",
           "#19d3f3",
           "#FF6692",
           "#B6E880",
           "#FF97FF",
           "#FECB52"
          ],
          "font": {
           "color": "#2a3f5f"
          },
          "geo": {
           "bgcolor": "white",
           "lakecolor": "white",
           "landcolor": "#E5ECF6",
           "showlakes": true,
           "showland": true,
           "subunitcolor": "white"
          },
          "hoverlabel": {
           "align": "left"
          },
          "hovermode": "closest",
          "mapbox": {
           "style": "light"
          },
          "paper_bgcolor": "white",
          "plot_bgcolor": "#E5ECF6",
          "polar": {
           "angularaxis": {
            "gridcolor": "white",
            "linecolor": "white",
            "ticks": ""
           },
           "bgcolor": "#E5ECF6",
           "radialaxis": {
            "gridcolor": "white",
            "linecolor": "white",
            "ticks": ""
           }
          },
          "scene": {
           "xaxis": {
            "backgroundcolor": "#E5ECF6",
            "gridcolor": "white",
            "gridwidth": 2,
            "linecolor": "white",
            "showbackground": true,
            "ticks": "",
            "zerolinecolor": "white"
           },
           "yaxis": {
            "backgroundcolor": "#E5ECF6",
            "gridcolor": "white",
            "gridwidth": 2,
            "linecolor": "white",
            "showbackground": true,
            "ticks": "",
            "zerolinecolor": "white"
           },
           "zaxis": {
            "backgroundcolor": "#E5ECF6",
            "gridcolor": "white",
            "gridwidth": 2,
            "linecolor": "white",
            "showbackground": true,
            "ticks": "",
            "zerolinecolor": "white"
           }
          },
          "shapedefaults": {
           "line": {
            "color": "#2a3f5f"
           }
          },
          "ternary": {
           "aaxis": {
            "gridcolor": "white",
            "linecolor": "white",
            "ticks": ""
           },
           "baxis": {
            "gridcolor": "white",
            "linecolor": "white",
            "ticks": ""
           },
           "bgcolor": "#E5ECF6",
           "caxis": {
            "gridcolor": "white",
            "linecolor": "white",
            "ticks": ""
           }
          },
          "title": {
           "x": 0.05
          },
          "xaxis": {
           "automargin": true,
           "gridcolor": "white",
           "linecolor": "white",
           "ticks": "",
           "title": {
            "standoff": 15
           },
           "zerolinecolor": "white",
           "zerolinewidth": 2
          },
          "yaxis": {
           "automargin": true,
           "gridcolor": "white",
           "linecolor": "white",
           "ticks": "",
           "title": {
            "standoff": 15
           },
           "zerolinecolor": "white",
           "zerolinewidth": 2
          }
         }
        },
        "title": {
         "text": "3d TSNE Plot for Topic Model"
        },
        "width": 900
       }
      },
      "text/html": [
       "<div>                            <div id=\"22ad2a3e-9356-48ba-aa7e-f82a6514578a\" class=\"plotly-graph-div\" style=\"height:800px; width:900px;\"></div>            <script type=\"text/javascript\">                require([\"plotly\"], function(Plotly) {                    window.PLOTLYENV=window.PLOTLYENV || {};                                    if (document.getElementById(\"22ad2a3e-9356-48ba-aa7e-f82a6514578a\")) {                    Plotly.newPlot(                        \"22ad2a3e-9356-48ba-aa7e-f82a6514578a\",                        [{\"hovertemplate\":\"Dominant_Topic=Topic 0<br>0=%{x}<br>1=%{y}<br>2=%{z}<extra></extra>\",\"legendgroup\":\"Topic 0\",\"marker\":{\"color\":\"#636efa\",\"opacity\":0.7,\"symbol\":\"circle\"},\"mode\":\"markers\",\"name\":\"Topic 0\",\"scene\":\"scene\",\"showlegend\":true,\"x\":[-1.8778557777404785,6.694583415985107,4.526598930358887,-1.2581051588058472,2.5507991313934326,4.301408767700195,8.379454612731934,5.317653179168701,1.1391315460205078,4.883919715881348,-1.5364362001419067,-3.6317410469055176,-2.3332834243774414,0.36169061064720154,1.3880254030227661,-4.023446083068848,-1.5329792499542236,-0.7441355586051941,3.536159038543701,-1.4345678091049194,5.077098369598389,-0.7653297781944275,-2.1394202709198,-1.5241678953170776,-4.919113636016846,-1.6354596614837646,-4.580687522888184,3.6765246391296387,-1.499045968055725,-4.3485612869262695,-1.0656850337982178,6.454019069671631,2.0663163661956787,-0.042756326496601105,-1.309566855430603,0.6676551103591919,4.053213596343994,2.238654375076294,0.999614417552948,3.605039596557617,-1.5820404291152954,0.23611895740032196,6.285379886627197,6.3039679527282715,2.248936176300049,0.027997002005577087,-3.665278434753418,2.476874351501465,3.2912635803222656,3.779644250869751,1.9420719146728516,4.706941604614258,-2.679614782333374,-4.248771667480469,2.032012939453125,5.903297424316406,1.2081669569015503,6.253495216369629,4.426604270935059,-0.5564730167388916,1.1249381303787231,-3.0217995643615723,7.353401184082031,-4.918572902679443,-2.4519166946411133,-3.0363714694976807,-0.2722986936569214,-1.4758591651916504,6.303592681884766,3.4311559200286865,-1.9433016777038574,1.7251819372177124,1.2781102657318115,3.5991053581237793,1.5319807529449463,2.083165407180786,-0.35910654067993164,3.9397778511047363,0.5413562655448914,6.064682960510254,0.5616409778594971,1.8079907894134521,-1.0401365756988525,3.6213114261627197,-0.3862943947315216,1.6128276586532593,3.1790871620178223,3.957005500793457,-0.22386382520198822,4.3780741691589355,5.202508449554443,5.464648723602295,-4.447983741760254,0.3096294105052948,1.3451684713363647,-1.0256938934326172,2.430353879928589,0.9390729069709778,-0.5697915554046631,1.24043607711792,-2.047700881958008,6.195450782775879,-1.2453770637512207,0.8355636596679688,1.9420915842056274,3.402893304824829,1.3094558715820312,3.8963005542755127,4.005352973937988,2.8404743671417236,2.8968183994293213,-4.198046684265137,0.27020230889320374,-1.343928575515747,4.175988674163818,-0.7935768365859985,-2.8240010738372803,5.516991138458252,1.6408967971801758,1.4974024295806885,-0.8420941233634949,2.7287003993988037,1.7620842456817627,3.4369466304779053,-2.7769815921783447,3.8578295707702637,5.449316501617432,1.229010820388794,4.256849765777588,5.830384731292725,-2.140357732772827,1.526926875114441,-2.7398180961608887,3.302856206893921,0.8770663738250732,-2.1587982177734375,-0.5282591581344604,0.5721981525421143,-2.718997001647949,-0.5937931537628174,2.164066791534424,3.132767915725708,4.393294334411621,1.5267152786254883,1.9232792854309082,1.1710237264633179,0.293354332447052,-0.9477936029434204,0.8933770656585693,6.698944568634033,0.25140658020973206,-3.06076979637146,0.9746062755584717,-2.6630396842956543,-1.484843373298645,5.327782154083252,7.415079593658447,6.363481521606445,5.454265117645264,-1.2127466201782227,0.16992764174938202,-2.845773220062256,-3.620621681213379,-0.21249444782733917,-1.1837562322616577,-5.15358829498291,1.8342502117156982,0.43854498863220215,0.6889998912811279,0.9558997750282288,4.734716892242432,1.3275963068008423,3.8233742713928223,0.10789167881011963,-0.8583877682685852,-2.7961103916168213,6.274344444274902,1.1819268465042114,-5.143942832946777,1.3425060510635376,-6.480515956878662,5.30079460144043,0.3819628357887268,2.7755749225616455,1.6312696933746338,4.705804347991943,2.0524847507476807,-3.9076409339904785,0.9566960334777832,6.331969738006592,2.259007453918457,-1.972507357597351,0.4671749770641327,3.5606625080108643,-2.7476913928985596,2.7768752574920654,0.753856360912323,2.795792579650879,4.9149651527404785,-0.5799568295478821,0.9125456809997559,4.314400672912598,-0.9627676010131836,4.078728199005127,-0.2957278788089752,-2.4742581844329834,1.8072839975357056,3.7633886337280273,4.421934604644775,3.9906625747680664,4.155454635620117,-2.9611635208129883,2.8767478466033936,-2.8707916736602783,7.220130920410156,4.728743076324463,-1.0257726907730103,4.169668674468994,1.5910630226135254,4.057159423828125,-1.5916036367416382,6.0195536613464355,-2.407585382461548,4.458496570587158,-0.4520104229450226,1.4461952447891235,0.23245231807231903,5.5806450843811035,1.0448808670043945,6.759311199188232,0.19338862597942352,-3.5046215057373047,-1.3977049589157104,-0.5108457207679749,-5.746124744415283,1.2900640964508057,2.1834938526153564,1.527480125427246,5.84292459487915,2.725445032119751,5.103971004486084,7.2712812423706055,4.909215927124023,1.6956892013549805,5.13204288482666,1.45150625705719,2.7248523235321045,4.005558490753174,5.580724716186523,1.4724785089492798,5.8075737953186035,-4.658369541168213,-3.471892833709717,-0.11416403949260712,2.9021034240722656,5.165212154388428,3.2552170753479004,8.762492179870605,5.119935989379883,1.193063735961914,2.1573476791381836,5.934340953826904,-3.902191400527954,-1.6329374313354492,1.6311904191970825,-0.9730697870254517,0.5855300426483154,-6.410924911499023,-1.9877150058746338,1.779396414756775,-4.87741231918335,0.6872671246528625,-2.139770746231079,8.30957317352295,-3.267667770385742,1.54568350315094,0.6702566742897034,4.529125690460205,6.687698841094971,-2.968540668487549,8.602723121643066,5.073150634765625,-0.4773862063884735,2.4475784301757812,-2.90519118309021,4.739086627960205,3.891157865524292,1.642022728919983,4.318462371826172,-1.753360390663147,-4.015052795410156,1.1622270345687866,6.040837287902832,7.511274337768555,4.649695873260498,5.098631858825684,1.9401153326034546,0.8593804836273193,-0.684150755405426,-3.556532144546509,-6.492341995239258,0.6749738454818726,3.1655232906341553,5.943729400634766,2.9139509201049805,0.381919801235199,-1.6343870162963867,1.057386875152588,-0.08343859016895294,-4.548142910003662,4.6706037521362305,4.997057914733887,-6.563873767852783,4.912179946899414,-1.3036490678787231,1.064882516860962,3.0570247173309326,-1.9834470748901367,-2.232668399810791,-1.307086706161499,-1.835790753364563,-0.5473827719688416,1.6645479202270508,7.075070381164551,-4.197966575622559,1.526957631111145,0.3538162112236023,-2.3876945972442627,2.327144145965576,1.7392301559448242,-0.2794812023639679,3.084352731704712,-1.0131171941757202,1.300349235534668,6.374752998352051,3.8747165203094482,0.9197655916213989,0.9893385767936707,4.734336853027344,5.048964977264404,-2.2747793197631836,-1.1145195960998535,1.5204050540924072,1.3205597400665283,0.7835647463798523,2.409134864807129,-2.743476390838623,3.9325449466705322,-2.8579628467559814,-1.5840784311294556,1.8893568515777588,-0.3008487820625305,0.2377873957157135,0.8123842477798462,3.478290557861328,2.4358410835266113,1.3696930408477783,3.4791769981384277,-2.834158420562744,3.3795418739318848,4.2052507400512695,-4.281780242919922,1.2725437879562378,0.12914279103279114,4.712836742401123,4.691219329833984,5.608283519744873,0.16637377440929413],\"y\":[2.6600186824798584,-3.523787260055542,-1.6885449886322021,-5.230282783508301,-7.57628870010376,-7.473930358886719,0.026850098744034767,5.715481758117676,-1.0918376445770264,-6.655077934265137,-1.752717137336731,-4.460948944091797,0.9627083539962769,-0.39525365829467773,6.002510070800781,-1.8149099349975586,-1.4780067205429077,-5.498136520385742,-5.684091567993164,-1.4205104112625122,-1.0895788669586182,3.188605308532715,1.8342173099517822,-1.5054551362991333,3.329941749572754,4.523561477661133,-3.4547808170318604,5.741339683532715,-6.088847637176514,5.49700403213501,-1.1521583795547485,-3.5284409523010254,-0.6556376218795776,-0.14138127863407135,-1.0568864345550537,-4.0776801109313965,5.414447784423828,8.002144813537598,-3.033447265625,-3.552210569381714,-1.3676952123641968,0.10500863939523697,-4.184701919555664,-4.252469539642334,-0.7882986664772034,-1.040816307067871,6.774646282196045,5.948509216308594,-3.6172163486480713,-6.879167556762695,-0.9335964322090149,-6.715512275695801,-1.3480851650238037,-4.546167850494385,-0.18129539489746094,-5.019612789154053,-3.1321144104003906,-3.2513139247894287,0.3401082158088684,5.891932010650635,-5.893751621246338,-2.045818567276001,-0.007619789335876703,-4.118287086486816,1.345343828201294,-0.8320865035057068,-0.17001231014728546,-5.448805332183838,-3.0048043727874756,-2.052269458770752,4.853137493133545,7.582752227783203,4.282139778137207,5.987187385559082,-7.293062210083008,-5.914443016052246,4.164036750793457,1.5678917169570923,6.134782314300537,-2.594299793243408,-5.091409683227539,-7.3596086502075195,5.512173175811768,-7.051612377166748,-1.580321192741394,-2.4130935668945312,6.288177490234375,0.3323507606983185,6.085933208465576,-7.341534614562988,-4.341757297515869,-5.497497081756592,-4.551403045654297,2.7140681743621826,6.807371616363525,-2.695289373397827,-0.41922643780708313,-4.16029691696167,-2.390929937362671,3.430022954940796,1.007442593574524,-1.8635700941085815,-4.81757926940918,5.109461307525635,8.890650749206543,6.080702304840088,-7.30405855178833,-2.8574376106262207,1.1269915103912354,-0.6401592493057251,-2.604139566421509,-1.775944709777832,-7.377942085266113,4.19733190536499,-4.277493476867676,-0.6070294976234436,-1.1018717288970947,-1.7633450031280518,-4.0980095863342285,5.635769367218018,-4.961056232452393,-1.0464568138122559,-1.9596495628356934,0.6171895861625671,1.246127724647522,-3.7022953033447266,-5.8319549560546875,-4.167204856872559,0.9067365527153015,-1.2231030464172363,6.329894542694092,-1.9444255828857422,0.33683931827545166,5.655605316162109,-1.7104387283325195,-0.5016636252403259,-8.470129013061523,-2.6594929695129395,-0.678972065448761,9.084246635437012,8.442218780517578,-3.852787733078003,-6.781195163726807,-1.944420337677002,-0.9231939315795898,-7.2852888107299805,-4.366744041442871,5.239322185516357,-2.3504700660705566,-3.506248950958252,-5.018759250640869,-1.2953702211380005,3.4108166694641113,4.803679466247559,5.023983955383301,-2.2293341159820557,0.20314449071884155,-0.13103729486465454,-4.351970672607422,-4.709205627441406,-4.77490234375,-1.0104373693466187,-3.987744092941284,3.117511034011841,6.145345211029053,-3.020235061645508,-1.0106103420257568,-0.5384291410446167,2.6886441707611084,2.3939130306243896,0.9150813221931458,8.141227722167969,-2.95595121383667,7.790382385253906,3.6537513732910156,0.04891504719853401,-3.4811630249023438,-4.991245269775391,-0.3961317241191864,-0.7891576290130615,-1.6226874589920044,-4.261938095092773,-3.805213451385498,0.17549481987953186,8.469974517822266,-2.425971746444702,2.1613967418670654,-0.7067039012908936,-1.0650500059127808,-3.5739476680755615,-0.57951420545578,6.31881046295166,2.666531562805176,-2.3470253944396973,7.81298828125,-0.509595513343811,6.612310886383057,-0.4586576223373413,-0.8385424017906189,8.60129165649414,1.3018841743469238,0.4925905168056488,-0.7071987986564636,1.614574670791626,-4.461087226867676,-1.1613824367523193,5.123987674713135,-3.0408310890197754,-6.48955774307251,-1.3376370668411255,-1.1388744115829468,1.2971500158309937,6.085271835327148,-0.9348893761634827,-0.6314327120780945,-2.1183574199676514,-2.695021152496338,-1.3547288179397583,1.689956545829773,-3.87250018119812,-5.223228454589844,-4.786576271057129,-0.7878666520118713,1.924858808517456,-2.433377981185913,4.967341423034668,-2.420830011367798,-1.6624082326889038,7.286008358001709,-0.10111192613840103,6.372554302215576,-0.8895925879478455,-1.9118623733520508,6.035816192626953,-0.09523990005254745,6.433075428009033,6.873777866363525,1.400525450706482,-4.8119683265686035,-0.7828665375709534,-4.58937406539917,-0.6123641729354858,-8.423433303833008,7.685355186462402,1.0418931245803833,-5.23828649520874,-2.4910571575164795,-3.8115768432617188,-1.662462830543518,2.093932867050171,-1.9909234046936035,1.5630754232406616,-4.410366058349609,8.527388572692871,7.374905109405518,-3.137733221054077,-3.195106267929077,-0.031210394576191902,-6.075250148773193,8.00544261932373,-1.2092149257659912,-3.3123092651367188,-4.36677360534668,4.176591396331787,-4.052401542663574,4.891801834106445,-7.093172073364258,-0.29699113965034485,-1.5358844995498657,-1.5540530681610107,-0.6515856981277466,-2.4533262252807617,-2.4860029220581055,-0.2531276047229767,7.161474227905273,7.001702308654785,-4.897980213165283,2.0092861652374268,-1.1576193571090698,-4.779823303222656,-0.0012387644965201616,0.46140256524086,5.897747993469238,-3.7144484519958496,-1.7321187257766724,0.5250151753425598,-2.094576835632324,-1.2131307125091553,1.3581746816635132,2.8708808422088623,-1.8074222803115845,2.4284896850585938,-2.055636405944824,-0.8217062950134277,1.1544266939163208,-1.234032392501831,8.679558753967285,-7.152522563934326,-4.791687488555908,-1.379226803779602,-1.4958922863006592,-2.6825499534606934,-3.8843603134155273,0.3484150171279907,-0.42571330070495605,2.4359447956085205,6.1516289710998535,4.53416109085083,-7.4630279541015625,1.8735941648483276,-0.058539580553770065,-8.506806373596191,-0.42044582962989807,-0.9677222967147827,4.108108997344971,-1.149623155593872,-0.4138929843902588,0.7285880446434021,-1.4030781984329224,-1.0811645984649658,0.5198647379875183,2.8133981227874756,0.9400696158409119,-0.6575940847396851,-1.7758746147155762,-1.9443047046661377,2.4778079986572266,6.341753005981445,6.1983113288879395,4.840988636016846,3.1327102184295654,-7.424749374389648,-6.08059549331665,-0.9259106516838074,-1.2344918251037598,-2.79569673538208,-0.6639626026153564,6.184854507446289,-0.9695255756378174,5.597202777862549,1.4794617891311646,6.0636162757873535,6.86199426651001,7.13785457611084,-4.134812355041504,0.2652900218963623,3.055504560470581,5.98991060256958,-1.3677637577056885,-2.3797218799591064,-5.299229145050049,-4.8022074699401855,-8.507052421569824,-1.1591709852218628,-3.8086955547332764,7.8682708740234375,2.258443832397461,-2.453742742538452,-5.499761581420898,6.005368232727051,1.5916557312011719,-1.9810937643051147,-0.745890736579895,-6.7031474113464355,1.69767427444458,-4.028279781341553,-5.012136936187744,-1.134742259979248],\"z\":[7.281185150146484,6.485663890838623,3.877523422241211,1.8216508626937866,-5.0986714363098145,-3.6065828800201416,2.4933574199676514,3.2191896438598633,7.442024230957031,-1.8883020877838135,2.608726978302002,4.157431602478027,7.394129276275635,4.203115463256836,5.17833948135376,4.232242107391357,3.5247249603271484,6.180065155029297,-0.09747481346130371,3.3998632431030273,4.289434432983398,3.5624661445617676,8.010570526123047,2.0598199367523193,4.051202774047852,3.6730449199676514,4.047886848449707,2.9412853717803955,5.300346374511719,4.917647838592529,1.5614519119262695,2.1108157634735107,8.156007766723633,4.267594337463379,3.730649471282959,-4.1454010009765625,2.3637053966522217,3.406919002532959,2.1459884643554688,4.107006549835205,3.208829641342163,0.9707133769989014,4.69667387008667,-1.9357564449310303,-3.11403751373291,5.415347576141357,2.798326253890991,4.976240634918213,6.004001140594482,-4.822978973388672,3.4198906421661377,-1.3192955255508423,6.8117995262146,5.467381477355957,8.198561668395996,-3.4938764572143555,2.5882108211517334,5.386630535125732,-5.396206855773926,4.921074390411377,2.7444071769714355,-8.066312789916992,-3.760209560394287,3.260873794555664,7.733849048614502,-1.2039886713027954,4.414217472076416,5.613809585571289,5.409470558166504,7.973718166351318,2.9495811462402344,4.624847888946533,4.193153381347656,5.112020969390869,-4.955148220062256,-3.007871627807617,3.764167070388794,3.562370538711548,2.1760778427124023,5.742301940917969,0.7596073746681213,-5.012470245361328,4.698180198669434,-5.053431987762451,0.8633522987365723,4.1835479736328125,4.403000831604004,-5.563152313232422,6.015730857849121,-1.0592440366744995,3.564884901046753,-4.574070453643799,5.489582061767578,3.3538434505462646,7.848894119262695,1.5479483604431152,-4.78715705871582,6.970534324645996,3.563385248184204,1.9587777853012085,1.2781835794448853,-6.460574626922607,5.483142375946045,7.342163562774658,5.723323822021484,4.925027370452881,-3.875558853149414,7.248927593231201,-7.075509071350098,-4.716223239898682,5.361334323883057,3.6230194568634033,-4.940874099731445,3.6345107555389404,6.373478889465332,7.782867431640625,-8.407330513000488,6.391619682312012,-3.466639280319214,6.3281426429748535,-4.632713317871094,8.167608261108398,-3.8179032802581787,-6.952641010284424,7.093791961669922,1.8929625749588013,-4.494541645050049,7.02692174911499,-6.707027912139893,5.807027339935303,5.485722541809082,-3.234999895095825,5.472146511077881,2.29722261428833,6.180726528167725,6.487032890319824,-5.935971260070801,2.3588387966156006,7.2758378982543945,4.635502815246582,6.192785263061523,5.805454730987549,-0.9489277005195618,-3.2351152896881104,3.793750047683716,-3.928417444229126,6.648993492126465,4.621794700622559,6.071516513824463,6.786207675933838,1.1568055152893066,7.334309101104736,5.001107692718506,3.486095428466797,0.9973102807998657,6.490846633911133,-4.486159324645996,-4.836190223693848,3.9081027507781982,-4.537217140197754,5.837437152862549,3.5180695056915283,4.3279547691345215,4.441739559173584,6.662197589874268,4.479629039764404,3.6736936569213867,4.2962751388549805,3.4053893089294434,4.000004768371582,-5.486516952514648,2.9037368297576904,7.7542643547058105,1.5676640272140503,3.551201105117798,4.737945079803467,4.990725517272949,6.1482954025268555,4.366382598876953,-6.379242420196533,4.732987403869629,3.4822819232940674,1.791374921798706,-3.755932092666626,5.907262802124023,6.497714042663574,3.5014796257019043,4.284369468688965,7.441662311553955,2.1814305782318115,8.20772933959961,5.042731285095215,3.7620811462402344,2.7504491806030273,2.9674668312072754,-5.147696018218994,3.6147053241729736,-2.967880964279175,8.121501922607422,3.874300479888916,6.983752250671387,-5.722149848937988,4.7468366622924805,3.5266706943511963,3.3671088218688965,6.5214948654174805,6.041518688201904,7.500821113586426,-0.39194491505622864,4.770834445953369,4.393627643585205,6.149660587310791,4.486570358276367,-0.575429379940033,-5.342366695404053,6.5161027908325195,1.5479531288146973,8.131982803344727,5.973010063171387,1.7366206645965576,5.344351768493652,-2.9853758811950684,-2.8164584636688232,4.082670211791992,1.1519849300384521,6.751064777374268,1.740513563156128,3.5755817890167236,3.667809247970581,-4.824525833129883,3.699037551879883,4.098658561706543,3.317204713821411,5.606570243835449,4.50762939453125,4.2571234703063965,2.4573349952697754,6.2533698081970215,-4.079084396362305,-5.841790676116943,2.6941020488739014,-5.344724178314209,-5.06198787689209,5.8335771560668945,-6.550541877746582,5.94887113571167,5.034999847412109,6.423440933227539,3.575502872467041,5.837961196899414,3.3025567531585693,6.438617706298828,5.3775553703308105,4.075465202331543,4.809617519378662,3.1517064571380615,6.784619331359863,2.79864501953125,0.11711324751377106,3.2369980812072754,8.242124557495117,2.395879030227661,5.119420528411865,2.7216765880584717,2.6498730182647705,0.8646383285522461,-3.9846649169921875,4.598878860473633,3.379411458969116,3.6162917613983154,4.265142917633057,5.163679122924805,0.6707045435905457,2.6555070877075195,3.409410238265991,7.511191368103027,-3.1585958003997803,4.086529731750488,2.4631447792053223,5.073004245758057,2.711989402770996,2.3407342433929443,4.820539474487305,2.3671343326568604,4.027170658111572,2.676398277282715,7.806705474853516,2.7881176471710205,-4.947750568389893,7.074987411499023,3.3789639472961426,3.6557843685150146,3.324885845184326,2.188133955001831,2.573117971420288,7.025390148162842,6.040165901184082,-4.793533802032471,5.069044589996338,3.4059946537017822,4.698163986206055,5.1550822257995605,5.238832950592041,-4.952247619628906,-6.260187149047852,2.393702268600464,6.686187744140625,4.510040760040283,-3.345628261566162,6.410120487213135,-5.162646770477295,-5.1316399574279785,4.6401143074035645,4.244543552398682,3.4335122108459473,6.958132743835449,-4.804385185241699,7.522615909576416,-0.5910712480545044,-8.771075248718262,7.5134968757629395,1.7829480171203613,6.410572528839111,-3.897538900375366,3.6231207847595215,-3.2351276874542236,1.7186990976333618,5.569405555725098,3.6585536003112793,0.2553800046443939,4.409158229827881,-5.053926467895508,6.421107292175293,-6.7275519371032715,2.5652756690979004,7.857577800750732,7.417304515838623,8.397895812988281,8.138850212097168,2.7295749187469482,7.954076766967773,5.019172191619873,7.677237510681152,7.111318588256836,6.946858882904053,-7.201261043548584,3.98760724067688,5.27285099029541,6.995233058929443,1.2843317985534668,-3.5944578647613525,5.527407169342041,-5.569214344024658,7.639913558959961,2.654999017715454,4.975725173950195,4.759786128997803,2.4390571117401123,6.005746841430664,3.8342010974884033,-4.2368268966674805,4.419272422790527,-0.8751125931739807,-3.9624650478363037,3.6866683959960938,3.6650619506835938,-3.82532000541687,2.8027148246765137],\"type\":\"scatter3d\"},{\"hovertemplate\":\"Dominant_Topic=Topic 1<br>0=%{x}<br>1=%{y}<br>2=%{z}<extra></extra>\",\"legendgroup\":\"Topic 1\",\"marker\":{\"color\":\"#EF553B\",\"opacity\":0.7,\"symbol\":\"circle\"},\"mode\":\"markers\",\"name\":\"Topic 1\",\"scene\":\"scene\",\"showlegend\":true,\"x\":[-6.281497955322266,2.5796265602111816,1.1487704515457153,-3.371817111968994,-0.38177061080932617,-3.8779234886169434,-4.307178497314453,-5.097916126251221,-2.3879377841949463,-2.893616199493408,-1.359915852546692,-3.8613955974578857,-4.168355941772461,-3.19466495513916,0.732473611831665,-4.922112941741943,-2.810850143432617,0.8556907176971436,0.09913109242916107,-3.2447524070739746,-1.853058099746704,-0.7657738924026489,-4.528810024261475,-1.2805798053741455,2.3808608055114746,-2.3346009254455566,3.2484936714172363,-3.4114463329315186,-4.150092601776123,-4.235598564147949,-4.087360858917236,-3.450094223022461,-3.5640265941619873,-3.663050651550293,-4.255681991577148,-1.6112138032913208,-5.601062297821045,-5.522735595703125,0.37601834535598755,0.462956041097641,-3.342513084411621,-3.6798341274261475,-2.271651268005371,-3.8419833183288574,-0.5167157053947449,-6.278104782104492,-1.8431214094161987,-3.4240634441375732,-4.806703090667725,-6.334611892700195,0.785207211971283,0.06697642058134079,-2.992722511291504,1.2596911191940308,-6.5100626945495605,-1.1784926652908325,0.9563875794410706,-3.590784788131714,-4.8064351081848145,0.878219723701477,-5.365441799163818,-4.88750696182251,-3.6013941764831543,-3.2045130729675293,-4.435513019561768,-3.748105049133301,-3.389270067214966,-3.0220701694488525,-3.622133255004883,-4.998035907745361,-4.251119613647461,-4.2612481117248535,-3.1202144622802734,-5.365479946136475,-2.330125331878662,-3.8696534633636475,-1.5837260484695435,-6.309759616851807,-6.344102382659912,-3.678863048553467,-3.7069530487060547,-3.630594491958618,1.6654515266418457,-4.977810382843018,-3.5164036750793457,-0.9870126843452454,-0.9313390254974365,-1.6791579723358154,-6.268004417419434,2.528243064880371,-5.812335014343262,-0.4893262982368469,-4.216939926147461,-0.7177783846855164,-0.7018721103668213,-2.298983097076416,-6.285247802734375,1.011963963508606,0.08572942763566971,0.7602407932281494,-2.7240941524505615,-3.324887275695801,-5.145696640014648,1.080584168434143,-3.9296436309814453,1.6654561758041382,-3.381657123565674,-1.7287321090698242,-2.614069700241089,-5.6364970207214355,0.09033555537462234,-5.182182788848877,-3.5309364795684814,-4.286421775817871,-3.7550923824310303,-0.23957692086696625,-2.027731418609619,-5.366552352905273,-0.008631736971437931,0.7388871908187866,-5.441603660583496,-1.5125094652175903,-2.793440580368042,-1.8393843173980713,-4.047171592712402,-5.43233060836792,2.446030378341675,-3.4072425365448,-3.2968034744262695,-2.2916369438171387,-4.775578022003174,-4.218584060668945,-3.5039381980895996,-0.4688210189342499,-3.0516197681427,-1.1331208944320679,-3.3881568908691406,-0.7027242183685303,2.6571149826049805,-5.293263912200928,-4.4967474937438965,2.641296625137329,-4.886343479156494,-2.4059417247772217,-3.1083717346191406,-3.230144500732422,-0.36459463834762573,-2.852883815765381,-1.1338797807693481,-6.550366401672363,2.844804286956787,2.4321463108062744,-0.28596004843711853,-5.566147327423096,-3.299630641937256,-2.6395981311798096,-0.22934255003929138,-0.6923153400421143,-3.578141212463379,-2.2582428455352783,-0.5077141523361206,1.2112163305282593,-3.7065622806549072,-3.7195000648498535,-0.18872812390327454,-6.964651584625244,-6.776480197906494,-3.539675712585449,-4.847391605377197,-0.8459083437919617,-5.488324165344238,-6.3439459800720215,-5.497736930847168,4.9284796714782715,-2.896510124206543,-2.299156427383423,-4.783738613128662,-5.857315540313721,-3.5598831176757812,-2.6435415744781494,-2.604138135910034,-4.23386812210083,-2.99941349029541,-5.462477684020996,-3.2959952354431152,-3.4978957176208496,-0.24698597192764282,-4.743740558624268,-4.668449878692627,2.0406594276428223,-0.8093675374984741,-5.891875267028809,-4.5229997634887695,-4.8102707862854],\"y\":[4.2433271408081055,-0.3124585747718811,-7.043989658355713,0.9355355501174927,-7.428826332092285,6.746902942657471,2.7437260150909424,5.747677803039551,5.718323707580566,-2.6036784648895264,8.987988471984863,-4.119480133056641,4.511058330535889,1.4487078189849854,-3.2614004611968994,-4.7399797439575195,2.4263288974761963,10.874610900878906,-7.264303684234619,4.038211822509766,8.539440155029297,-5.750095367431641,-3.468193292617798,9.245716094970703,9.677234649658203,5.670461177825928,1.3637338876724243,-2.501638889312744,-0.2777886986732483,4.5328369140625,1.0874828100204468,6.772732257843018,1.1250438690185547,6.300674915313721,2.7422468662261963,-6.595815181732178,0.9225562214851379,3.041994571685791,9.476885795593262,8.674193382263184,-4.090609073638916,2.6004204750061035,-2.6559371948242188,-1.1858856678009033,-5.383979797363281,2.7790510654449463,8.56949520111084,-4.432242393493652,1.3796237707138062,6.369631767272949,8.716403007507324,10.07922077178955,-1.7834810018539429,8.739075660705566,6.545363426208496,10.514625549316406,-6.626447677612305,1.2861250638961792,-0.5030052661895752,9.254172325134277,0.18815720081329346,5.797760486602783,4.123733043670654,-6.748032569885254,-3.8955605030059814,-1.5165128707885742,2.6958465576171875,0.8499442934989929,-1.0975626707077026,-3.4665963649749756,-3.890430450439453,-0.7653963565826416,-6.226424694061279,-1.6888986825942993,-2.1314046382904053,5.82175350189209,8.64831256866455,6.087907314300537,1.8660391569137573,-3.9418604373931885,-4.013336658477783,2.126952648162842,1.9154607057571411,3.5725862979888916,-6.61012601852417,9.019796371459961,8.78349781036377,9.196548461914062,1.442923665046692,9.611236572265625,1.0458091497421265,-7.408906936645508,2.1983001232147217,9.284497261047363,9.403355598449707,0.773175060749054,4.283486843109131,-6.7334885597229,9.842696189880371,-2.94176983833313,8.197589874267578,-2.771822214126587,-0.5827306509017944,-2.8591904640197754,-1.0295838117599487,1.915446400642395,1.56988525390625,8.795982360839844,2.42378830909729,6.7492241859436035,10.028050422668457,7.352827548980713,1.0027179718017578,-6.126432418823242,-0.3877646028995514,8.951786994934082,-4.32874870300293,-2.4281845092773438,-7.466036796569824,10.602784156799316,-0.4889110028743744,-4.4013190269470215,-6.521341800689697,-4.479240417480469,-4.007765769958496,-0.21028712391853333,0.313092440366745,-0.9148017764091492,-6.797908782958984,-6.239480495452881,2.381110191345215,7.027228355407715,-3.9161901473999023,8.068602561950684,2.8837196826934814,8.811640739440918,-3.871091604232788,-7.014021873474121,2.2637948989868164,0.9012892842292786,1.7491759061813354,0.4701499938964844,1.5292326211929321,-3.9237844944000244,-4.079538822174072,1.956760287284851,9.331661224365234,4.234216690063477,-6.309567451477051,6.563239097595215,2.8784892559051514,1.160883903503418,-7.276532173156738,-2.3899707794189453,1.3265868425369263,-5.70149040222168,8.0663480758667,-8.144255638122559,-4.095099449157715,1.3121291399002075,-8.115218162536621,8.726306915283203,6.10457181930542,-6.289613246917725,-7.830476760864258,5.72517728805542,5.918796539306641,-6.577821254730225,-4.925264358520508,-5.489109516143799,-2.671820640563965,2.2086894512176514,3.1090641021728516,8.419169425964355,0.7444565296173096,0.7733280658721924,-0.5311830639839172,0.7856148481369019,-0.8732824921607971,-6.276428699493408,-3.6945202350616455,5.988423824310303,1.078107237815857,0.4206644594669342,3.0850181579589844,3.5315897464752197,9.564536094665527,-5.640984535217285,-4.32785701751709,9.107744216918945,9.231003761291504,0.8641222715377808,2.6704838275909424,-5.360347747802734],\"z\":[-1.970563292503357,2.2544119358062744,2.6032614707946777,6.435152053833008,-0.48637935519218445,2.626955509185791,-1.139431118965149,-0.48260343074798584,0.6013537049293518,-0.6184641122817993,0.12431953847408295,-0.3470149040222168,2.2353668212890625,6.318449974060059,0.9834349155426025,1.520353078842163,1.3228039741516113,3.1486313343048096,2.459113836288452,1.4508295059204102,-0.6823334693908691,1.352895975112915,0.13376982510089874,0.3759484887123108,0.2454863339662552,1.200157642364502,2.8013064861297607,-1.1126856803894043,-2.9741365909576416,1.9787578582763672,-3.0725531578063965,1.037292242050171,-0.255220890045166,-1.2594350576400757,6.912317276000977,3.0204052925109863,-3.2440240383148193,-1.9708796739578247,2.2048556804656982,0.7666016817092896,8.750895500183105,-0.013121511787176132,0.16666382551193237,8.199609756469727,1.7595479488372803,-2.4575085639953613,-0.14542759954929352,-1.1484735012054443,-0.9321557879447937,1.6748669147491455,0.9094116687774658,2.7494680881500244,7.797718048095703,1.8671740293502808,2.230412721633911,2.416645050048828,2.7824881076812744,7.9141716957092285,0.4645550847053528,2.4439778327941895,-0.2697870135307312,-0.011413907632231712,1.7539350986480713,4.918066024780273,3.596487283706665,8.029943466186523,0.29396334290504456,0.6083599328994751,-2.0813395977020264,0.6008458137512207,3.761324167251587,-2.9698469638824463,4.115433216094971,-1.653800368309021,-0.9579682350158691,1.587713599205017,0.19645898044109344,1.2707552909851074,-3.33009672164917,8.863936424255371,8.876505851745605,7.408528804779053,2.026907444000244,3.8770790100097656,4.248786449432373,3.8143560886383057,2.3262856006622314,3.1383516788482666,-4.294162750244141,-0.028029071167111397,-3.6153807640075684,-0.4681926965713501,6.513699531555176,4.634814739227295,4.080479145050049,0.9813587069511414,-2.122777223587036,2.6945953369140625,2.413604736328125,0.975818932056427,2.721224546432495,8.227896690368652,0.4145869314670563,0.9222939014434814,8.251462936401367,2.026860237121582,6.636513710021973,2.2838315963745117,1.6432160139083862,2.3465278148651123,2.7863805294036865,2.6357686519622803,-0.383912056684494,2.3241400718688965,-2.963249444961548,0.27917420864105225,8.109654426574707,-0.023835448548197746,2.196143627166748,2.82893443107605,0.7187873125076294,2.961536407470703,4.870163917541504,2.7822842597961426,-0.3283141255378723,-0.05777610093355179,1.7406084537506104,7.633050918579102,4.845553874969482,3.8435354232788086,-1.7887107133865356,2.736868381500244,0.2490801215171814,1.3593835830688477,0.30075812339782715,3.640058755874634,-1.2312393188476562,2.2341086864471436,2.3782424926757812,-2.400068521499634,-0.5840880274772644,1.679032802581787,-1.2553197145462036,8.313785552978516,8.836421012878418,-0.7060684561729431,0.9991037845611572,0.23094388842582703,-2.6490705013275146,2.3862600326538086,2.222926378250122,2.308685302734375,2.270777463912964,-0.497793048620224,0.5441045165061951,4.52508020401001,0.7468658685684204,2.1440815925598145,0.08514773100614548,1.1499531269073486,0.8281702399253845,2.2485759258270264,1.8834415674209595,3.190434694290161,0.7787854671478271,1.2360427379608154,1.2146762609481812,4.237636089324951,1.3220820426940918,1.808549165725708,-0.22002623975276947,-3.1734890937805176,-1.8979991674423218,-1.3120880126953125,7.5374298095703125,0.9813884496688843,-2.9333810806274414,-5.223860263824463,-0.017907485365867615,5.327951908111572,8.394587516784668,0.7407779693603516,7.06797456741333,-1.9758081436157227,7.731241226196289,-0.24405360221862793,3.5437262058258057,0.8297355771064758,0.5922984480857849,6.562253475189209,4.084932804107666,-4.736586570739746,-1.538839340209961,0.7912417650222778],\"type\":\"scatter3d\"},{\"hovertemplate\":\"Dominant_Topic=Topic 2<br>0=%{x}<br>1=%{y}<br>2=%{z}<extra></extra>\",\"legendgroup\":\"Topic 2\",\"marker\":{\"color\":\"#00cc96\",\"opacity\":0.7,\"symbol\":\"circle\"},\"mode\":\"markers\",\"name\":\"Topic 2\",\"scene\":\"scene\",\"showlegend\":true,\"x\":[6.801168918609619,0.8687505125999451,4.571200847625732,6.223615646362305,-0.3618847727775574,8.509005546569824,1.0117225646972656,2.546295642852783,-1.8920074701309204,3.191845655441284,4.0828962326049805,4.922455787658691,4.06964111328125,-3.3590316772460938,-1.7643786668777466,-1.3452461957931519,2.3104166984558105,6.282942295074463,4.498403549194336,1.184662103652954,-2.012957811355591,3.4225611686706543,1.4789574146270752,-0.7482715249061584,-2.157865047454834,1.0702637434005737,1.0445423126220703,0.5340855121612549,-0.6729645133018494,4.227657318115234,-0.710972249507904,-0.03342831879854202,3.839432954788208,1.6482118368148804,1.5489413738250732,3.8356244564056396,3.6560816764831543,0.6673484444618225,-5.269718170166016,3.52519154548645,-2.2089455127716064,-1.083778977394104,3.625349760055542,2.2119061946868896,2.677271842956543,-2.5200295448303223,3.655141592025757,0.9841360449790955,3.7880635261535645,-0.19674231112003326,-4.88576078414917,-1.3421610593795776,0.506702184677124,1.410997986793518,4.914854049682617,0.6255888342857361,-0.23762020468711853,0.31258609890937805,4.5848188400268555,1.3219480514526367,1.6398630142211914,1.6138511896133423,-1.7243952751159668,4.432347297668457,2.6738715171813965,2.8529884815216064,4.594742298126221,4.638965606689453,5.81554651260376,1.1819347143173218,-1.4884655475616455,-0.5657836198806763,4.41835355758667,-2.277618169784546,1.920998454093933,-2.877654790878296,6.126588344573975,0.4685229957103729,0.5066341757774353,7.7557525634765625,-3.142266035079956,-0.4417487680912018,1.2219473123550415,0.8825045824050903,2.050783157348633,0.6113583445549011,-0.898703932762146,5.062676906585693,-1.4731167554855347,-1.6433144807815552,4.6772050857543945,-0.6561118364334106,-0.8598594665527344,-1.4732149839401245,0.824228823184967,3.5221846103668213,3.923778533935547,3.3293967247009277,7.5049052238464355,3.96195125579834,4.734150409698486,5.449570178985596,-2.3972208499908447,-0.004488389007747173,7.011770725250244,6.000711441040039,2.310371160507202,1.8886979818344116,-2.1732430458068848,3.6120691299438477,0.9037789106369019,3.347414255142212,0.964812159538269,6.393453598022461,0.34761518239974976,2.594651937484741,-1.6581300497055054,0.4306718409061432,-0.10530835390090942,-2.102489709854126,1.301108717918396,4.874232769012451,-1.5446596145629883,2.232189893722534,4.244442462921143,8.068258285522461,6.291220188140869,1.789741039276123,3.4414212703704834,4.477689266204834,5.02039909362793,6.237842082977295,1.7678087949752808,5.868425369262695,-0.7199685573577881,0.7849933505058289,0.8275927305221558,-2.101849317550659,-2.1578755378723145,-2.062549114227295,-3.545660972595215,1.0403183698654175,-5.731686115264893,4.161393642425537,0.8083295822143555,0.9036102890968323,3.060774564743042,-1.3285138607025146,-4.793474197387695,1.76474130153656,3.0616228580474854,5.250411033630371,3.581735849380493,-5.636736869812012,4.636666297912598,1.5126723051071167,7.34541654586792,7.177997589111328,4.6801066398620605,5.230259895324707,1.6325387954711914,3.1387147903442383,7.168875694274902,0.6392290592193604,-1.4731143712997437,4.852820873260498,7.875886917114258,4.3653082847595215,0.6967197060585022,3.2235426902770996,-1.685378909111023,5.105185508728027,0.5699893832206726,7.630484104156494,-5.168781757354736,5.931606769561768,-0.610022783279419,-1.2801393270492554,7.31831169128418,-0.5201156139373779,4.8026227951049805,2.6918601989746094,0.018970485776662827,0.08426206558942795,3.02634596824646,4.646604537963867,-1.0835801362991333,-1.9054148197174072,1.286409616470337,1.076949954032898,4.253118991851807,-2.4689669609069824,0.24827399849891663,6.02098274230957,1.488867998123169,-4.088275909423828,-0.06909040361642838,3.4038422107696533,1.1472322940826416,-1.1772184371948242,3.7192351818084717,-0.0331207737326622,-1.6314371824264526,4.702474117279053,1.3240166902542114,-1.3404645919799805,1.8983901739120483,-0.6442715525627136,3.9687860012054443,0.3752079904079437,-5.424343585968018,2.5271010398864746,3.611626386642456,2.3491017818450928,7.0067138671875,2.633622646331787,4.60211706161499,5.174922466278076,6.392998695373535,-1.4730193614959717,0.6514429450035095,4.0796661376953125,6.8196330070495605,0.5574507713317871,2.880099296569824,2.3448092937469482,5.003239154815674,-0.06172036752104759,-1.6853938102722168,5.7348856925964355,2.507579803466797,4.247152805328369,3.7763872146606445,-3.288404703140259,4.328567981719971,5.789506912231445,6.165040493011475,-0.7739283442497253,6.8886566162109375,0.9283161163330078,-0.9582909345626831,-0.4416065812110901,4.260641098022461,2.3263707160949707,3.243062734603882,7.855354309082031,-5.1312713623046875,1.7739176750183105,3.806713104248047,3.591944694519043,-4.097264766693115,3.3459837436676025,0.15870927274227142,1.7791401147842407,2.2494990825653076,1.747365951538086,-1.7101982831954956,2.6554319858551025,6.219155788421631,6.237730026245117,5.4765753746032715,6.3943305015563965,0.3889540731906891,3.489291191101074,5.942955493927002,-4.472387790679932,5.0468339920043945,1.0702990293502808,0.3192187249660492,0.7713512778282166,2.32761287689209,1.9029453992843628,1.5733184814453125,3.204192638397217,5.2863945960998535,5.0104079246521,-5.7626872062683105,2.317572593688965,3.374911069869995,-0.9757692217826843,2.4220190048217773,6.650284290313721,-0.6323920488357544,-1.6860785484313965,2.0647919178009033,7.143830299377441,5.92641019821167,-1.3047821521759033,3.5444507598876953,1.4166018962860107,3.816002130508423,5.661098003387451,4.927425384521484,7.081963062286377,5.322030067443848,-4.60053014755249,-3.137377977371216,1.9405903816223145,0.3096344470977783,-4.897390842437744,5.6401567459106445,0.5198965072631836,-6.713148593902588,2.0240304470062256,1.980022668838501,-0.004542429931461811,7.484166145324707,-0.23112191259860992,-0.09818755835294724,1.7928441762924194,-1.9288671016693115,3.511474847793579,5.191764831542969,2.1213581562042236,2.5431652069091797,-5.675485134124756],\"y\":[-1.2050217390060425,-3.3260741233825684,2.0976386070251465,5.567763328552246,5.039106369018555,0.48166871070861816,0.41084644198417664,8.672718048095703,-4.838757514953613,0.7711031436920166,4.624317646026611,-3.1300101280212402,0.04158564284443855,2.763763666152954,2.9497337341308594,-5.562973499298096,0.9319424033164978,-2.6343882083892822,1.6376821994781494,3.4847514629364014,0.5743869543075562,-3.3825721740722656,-2.469930410385132,-6.48660135269165,-4.182292938232422,8.490532875061035,5.482836723327637,-0.7474959492683411,-2.2824466228485107,1.7347161769866943,-0.515108048915863,-2.208770990371704,-4.219926834106445,-4.3845133781433105,8.44656753540039,5.886559009552002,-0.22588734328746796,-4.368391513824463,3.1588096618652344,-1.3239279985427856,1.9481403827667236,-2.7002687454223633,5.125848770141602,-0.7940509915351868,-4.432880401611328,-0.911737322807312,-4.016557216644287,5.715689659118652,8.576515197753906,2.7670323848724365,2.9212067127227783,-0.9754632115364075,4.215539932250977,5.816652297973633,4.479508399963379,4.888828277587891,-2.2884507179260254,-1.7077258825302124,-3.851545810699463,-4.134786605834961,-4.415952682495117,1.59787118434906,-3.2412328720092773,-0.11161690205335617,-3.74958872795105,-4.647028923034668,-3.0425496101379395,-2.164546012878418,-0.05764029175043106,-1.3062878847122192,3.6814992427825928,5.424032688140869,1.9517477750778198,3.3640129566192627,5.924213886260986,3.8333826065063477,4.934684753417969,4.2541704177856445,-2.786973714828491,-2.671638011932373,1.7650271654129028,-5.783783435821533,-7.719123840332031,-4.268618106842041,2.2996201515197754,2.525179862976074,4.4997758865356445,-2.712709665298462,-1.2609339952468872,-2.6989212036132812,-4.112617492675781,4.624533176422119,-5.386367321014404,-1.2610324621200562,5.245746612548828,-1.3992563486099243,1.3446282148361206,-1.195822834968567,-2.3851072788238525,-1.572888970375061,2.578979730606079,-4.477178573608398,5.349719524383545,4.407346248626709,-1.0209832191467285,4.741926193237305,3.639636754989624,8.671942710876465,-0.5679795742034912,-1.8677154779434204,4.529965400695801,5.484634876251221,2.6435794830322266,4.9041619300842285,4.951693534851074,0.0658266618847847,1.2648512125015259,8.364426612854004,0.04026225209236145,-3.261949062347412,5.111208915710449,6.296936988830566,-5.862093925476074,-2.9681663513183594,5.843942165374756,-3.2106893062591553,-4.121020317077637,8.661520957946777,-5.245211601257324,-0.692599892616272,6.516499042510986,5.350922584533691,7.6885271072387695,-2.088486671447754,-6.105621337890625,5.1845622062683105,-1.3737717866897583,1.661971092224121,-4.182323932647705,1.8814704418182373,6.191433429718018,-3.334073781967163,1.6612277030944824,-1.1729233264923096,3.2447469234466553,5.754119873046875,-4.186997413635254,-2.103145122528076,2.8911914825439453,5.160607814788818,-5.3096466064453125,7.136858940124512,-3.0019569396972656,3.2782721519470215,1.9807922840118408,-3.9721572399139404,-1.8708747625350952,-2.476128339767456,-2.0270497798919678,-2.6189186573028564,-4.411484718322754,-5.39461612701416,-1.0277363061904907,-1.0757930278778076,-1.1275687217712402,-1.9730031490325928,-1.9580634832382202,-0.05456249788403511,2.861337900161743,-0.8402619957923889,-3.051042079925537,-2.0058398246765137,8.591790199279785,-2.783719539642334,2.847775936126709,4.653166770935059,5.9798688888549805,2.4069387912750244,-1.1643128395080566,-5.4111328125,-2.2095675468444824,-2.7750024795532227,7.012392520904541,3.1587278842926025,-4.357670307159424,2.0079777240753174,-2.7003214359283447,-4.633111000061035,0.29287460446357727,-3.7339818477630615,0.3443108797073364,2.0956664085388184,4.9584245681762695,5.757246494293213,1.0180147886276245,2.856898546218872,5.495397567749023,5.207032680511475,-1.8703665733337402,-1.2547430992126465,-2.8841748237609863,-2.20874285697937,-4.75923490524292,2.6667397022247314,-7.56366491317749,3.8818747997283936,-4.222804069519043,-6.825786113739014,5.703187942504883,-0.5487796664237976,2.67109751701355,-4.18707275390625,-2.6387479305267334,-4.1972455978393555,0.1524396538734436,-3.9749248027801514,4.388845443725586,5.28136682510376,4.421170711517334,-1.2610759735107422,1.7946523427963257,-2.6979732513427734,-3.248575448989868,-0.2969004809856415,-4.82009744644165,6.907785415649414,7.022439479827881,6.903018474578857,-3.051117420196533,4.906774044036865,-2.813495397567749,1.7216798067092896,-1.1579328775405884,3.029167652130127,-3.472773313522339,-2.2639195919036865,-3.802586793899536,-5.528811454772949,5.094179630279541,-1.109699010848999,4.149680137634277,-7.158189296722412,1.139022946357727,-3.479876756668091,8.68240737915039,-2.8733439445495605,1.4908685684204102,-3.548264265060425,-2.242218255996704,-2.080444574356079,0.7707926630973816,6.5990681648254395,5.270685195922852,-5.076329231262207,8.290692329406738,-4.1777119636535645,-2.845182418823242,-2.7864584922790527,4.957665920257568,0.6987578868865967,0.3591882288455963,4.945313453674316,-1.4152196645736694,2.8564293384552,4.6554951667785645,1.8443341255187988,-4.070062637329102,4.3136982917785645,0.3201829791069031,2.4962234497070312,-1.2644485235214233,5.958416938781738,-4.71570348739624,-5.185686111450195,-5.335777282714844,4.808315277099609,1.5129376649856567,-3.7194297313690186,0.49792444705963135,4.744028091430664,-1.5761079788208008,0.09815631806850433,2.6651413440704346,-3.7036523818969727,-3.7902638912200928,-0.034424569457769394,5.20859432220459,-5.162658214569092,5.995607852935791,-3.374678373336792,-1.1392446756362915,4.00389289855957,-6.49647331237793,5.090285301208496,-0.6228443384170532,3.0837066173553467,3.53556489944458,1.778574824333191,-0.8147495985031128,2.4956016540527344,4.843241214752197,-7.723285675048828,1.7536696195602417,2.013895034790039,3.3463797569274902,4.407336235046387,-0.6265251636505127,3.5063250064849854,5.099243640899658,-1.4300333261489868,3.363053560256958,-3.0859169960021973,6.740047454833984,-3.823859453201294,7.183008670806885,3.319455862045288],\"z\":[0.32227593660354614,1.6591347455978394,-0.5943044424057007,-2.8233957290649414,-3.148444414138794,2.477402925491333,-4.56294059753418,-0.7350232005119324,-1.5108815431594849,-1.3278579711914062,-1.8913569450378418,-4.876662254333496,-1.857067346572876,-1.1205081939697266,-1.1565452814102173,-2.896693229675293,-0.8661505579948425,0.12738992273807526,-0.871825098991394,-0.17193809151649475,-1.8897501230239868,-0.5668064951896667,1.093239426612854,-2.8851568698883057,-1.3748900890350342,-0.9517018795013428,-4.998630046844482,-3.064244508743286,0.00836656242609024,-4.210450649261475,-4.53740930557251,-2.603273868560791,1.0944714546203613,-8.445524215698242,-0.9775528907775879,-2.746875047683716,-1.5471107959747314,-9.362895011901855,-7.064217567443848,-0.58050936460495,-3.202256202697754,-0.7133451104164124,1.2916091680526733,-3.403195381164551,-4.804682731628418,-3.1605019569396973,0.21932826936244965,-6.122121810913086,-0.8561903834342957,0.14504896104335785,-6.1202073097229,-4.40000057220459,-1.4118870496749878,-4.711731910705566,-1.645829677581787,-3.290696382522583,-1.7266817092895508,-2.117816686630249,0.9928503036499023,-2.188739538192749,-3.2785778045654297,-5.639768123626709,-2.3831899166107178,-1.220784068107605,-1.6976381540298462,-5.485353469848633,-6.738800048828125,-5.06907844543457,1.6127188205718994,-2.001795768737793,-3.852921962738037,-2.4159250259399414,-0.8128374814987183,-0.04130236804485321,-4.2222466468811035,-2.9680683612823486,2.0622477531433105,-1.5527294874191284,-2.0152206420898438,-0.5535393953323364,-3.6868507862091064,-2.6397030353546143,1.1494592428207397,-9.461770057678223,-1.1393097639083862,0.5927427411079407,-5.859701633453369,-6.388322353363037,-4.863316535949707,-1.9816805124282837,-4.300731182098389,-0.307000994682312,-2.7073278427124023,-4.863205909729004,-4.628604412078857,0.37311071157455444,3.0261685848236084,0.39055952429771423,0.06496543437242508,-1.1876492500305176,-1.0139949321746826,-4.5993332862854,-2.0506157875061035,-0.5112957954406738,0.9383619427680969,2.004556655883789,-0.84559166431427,-0.7540884613990784,-3.2018134593963623,-0.5522497296333313,-0.46683937311172485,1.7608721256256104,0.5697950124740601,-2.5191574096679688,-3.8410139083862305,2.0795633792877197,-1.5865094661712646,-0.8238174319267273,-4.642439842224121,-2.0954489707946777,-6.118251323699951,-3.0391504764556885,-2.744353771209717,-10.510552406311035,-3.1921536922454834,-0.7511726021766663,-1.3445637226104736,-0.8533809781074524,-0.3482653796672821,-4.78588342666626,-3.021568775177002,2.025804281234741,-2.058948278427124,-6.506117820739746,-0.6920568943023682,-4.684543609619141,-4.0615339279174805,-1.631206750869751,-1.3749278783798218,-2.154451370239258,-1.697470784187317,-1.6483017206192017,-6.246628761291504,-4.798692226409912,-4.662339687347412,-6.123904705047607,-4.6425018310546875,-0.8334327340126038,-5.762372970581055,-6.023034572601318,-8.702604293823242,-2.8224494457244873,-9.267643928527832,-4.294619560241699,1.9791088104248047,-9.72576904296875,-2.4181442260742188,0.30149391293525696,-4.756434917449951,-6.057091236114502,-7.528783321380615,-8.703118324279785,-3.5677642822265625,-1.9811197519302368,-4.645063400268555,-4.304363250732422,0.31406769156455994,-1.522002935409546,-5.480350017547607,0.8482300043106079,-2.274700880050659,-6.191173076629639,-0.47750091552734375,-1.6708368062973022,-6.114895343780518,2.065577983856201,-1.8252183198928833,-1.282346487045288,-3.287736654281616,-3.341639280319214,-5.265588283538818,-10.106289863586426,-0.9261032342910767,-0.24745094776153564,-4.621309280395508,2.059457302093506,-0.7133645415306091,-1.6163134574890137,-4.80052375793457,-1.995317816734314,-1.5274368524551392,-3.632840871810913,-3.3436052799224854,-2.124291181564331,-4.577951908111572,-2.095329999923706,-1.5735390186309814,1.3620858192443848,-3.5077998638153076,-4.8759379386901855,-1.8402522802352905,-2.6031715869903564,-3.0659239292144775,-1.1874498128890991,1.4324369430541992,-2.026183605194092,-8.85404109954834,-0.7379445433616638,-3.1993484497070312,-3.7392477989196777,-4.846287727355957,-5.286836624145508,-2.2774431705474854,-2.0702898502349854,1.1594500541687012,-5.346872806549072,-1.5658718347549438,-1.176943302154541,-1.2862415313720703,-4.863152980804443,1.2928715944290161,-5.958383560180664,-1.6438084840774536,0.6344007849693298,-6.273519515991211,-3.543091058731079,-2.9679369926452637,-0.9943300485610962,-2.2745635509490967,-2.155153274536133,-10.436062812805176,-4.07813024520874,-1.5581923723220825,-1.8416153192520142,0.2309717833995819,-0.6242948770523071,-0.6254138350486755,-1.2448667287826538,1.4695830345153809,-2.2410480976104736,-3.7124838829040527,-0.1423511952161789,-1.0852351188659668,-9.847515106201172,-0.7171741724014282,-0.4404894709587097,-5.988166809082031,-6.382143497467041,-0.8832231163978577,-0.452400267124176,-5.941811561584473,-2.805025815963745,-1.5443525314331055,-2.0567610263824463,2.877075672149658,-8.998156547546387,-1.4187010526657104,-10.143895149230957,1.9076032638549805,-4.536392688751221,1.792351484298706,1.0658972263336182,-3.480747938156128,-1.913321852684021,-2.1472105979919434,-6.868904113769531,1.0834254026412964,-0.17845363914966583,-4.455211639404297,0.20478838682174683,0.48098286986351013,-4.275789260864258,-7.234437942504883,-8.888394355773926,-5.155746936798096,1.9665122032165527,-6.119446754455566,-2.1161115169525146,-2.0020670890808105,0.4297734498977661,0.4982185363769531,1.1706467866897583,0.06447027623653412,-2.3042547702789307,-9.611824989318848,1.1437619924545288,-1.8564733266830444,-1.4651756286621094,-4.094045639038086,-2.3588614463806152,-0.2987695336341858,-2.247786521911621,-2.058596134185791,1.6154955625534058,1.4841524362564087,-3.012258529663086,-3.1359801292419434,-1.3778841495513916,0.3411006033420563,-5.536981105804443,-2.0967071056365967,0.8553434610366821,-4.300208568572998,-1.2520123720169067,-1.0365756750106812,-0.5113344192504883,1.8651288747787476,-0.9853368997573853,-2.882488250732422,-2.102539539337158,-3.379319906234741,-9.158417701721191,-2.910885810852051,-6.122726917266846,-2.795931100845337,-4.15137243270874],\"type\":\"scatter3d\"},{\"hovertemplate\":\"Dominant_Topic=Topic 3<br>0=%{x}<br>1=%{y}<br>2=%{z}<extra></extra>\",\"legendgroup\":\"Topic 3\",\"marker\":{\"color\":\"#ab63fa\",\"opacity\":0.7,\"symbol\":\"circle\"},\"mode\":\"markers\",\"name\":\"Topic 3\",\"scene\":\"scene\",\"showlegend\":true,\"x\":[-7.302236557006836,1.5249357223510742,-2.7643067836761475,1.553963303565979,-2.6482293605804443,-5.89267110824585,-0.03714495152235031,-1.0116280317306519,4.0628814697265625,-3.8613526821136475,-3.1428399085998535,-1.7009443044662476,-1.3296936750411987,-2.52331805229187,-0.8585658669471741,5.232060432434082,-1.2733514308929443,-1.906893014907837,-0.9122621417045593,-2.8780648708343506,0.8063053488731384,-2.234131097793579,-1.7979289293289185,-5.463780403137207,2.8776700496673584,-1.1534852981567383,0.5713071823120117,-1.9054204225540161,-2.482865333557129,-0.9241446852684021,-1.5374388694763184,-3.3747007846832275,-0.05125189200043678,-1.243656039237976,-3.1846468448638916,-2.976109266281128,-1.377814769744873,-3.217344284057617,-3.491854667663574,-0.2139555662870407,3.7921831607818604,-0.35831350088119507,-3.205798387527466,-3.3249611854553223,-3.8982949256896973,3.0638928413391113,-0.4054354131221771,-7.047888278961182,-2.5317795276641846,0.749163031578064,-1.527466893196106,-1.7976272106170654,-3.177586078643799,-0.151344895362854,-2.712637186050415,-1.7543883323669434,-5.615401744842529,-1.4544079303741455,0.6424992084503174,-4.1746439933776855,-2.353567123413086,-1.5282723903656006,-1.9338568449020386,1.7113927602767944,-7.195318698883057,-0.8469215035438538,-2.016648292541504,-1.3976099491119385,-1.585827112197876,0.15722514688968658,-6.9002485275268555,-1.3276532888412476,0.7632700204849243,1.6373028755187988,1.6419752836227417,-0.167566180229187,1.1765285730361938,-0.2644888162612915,-6.727677345275879,1.3612762689590454,-1.906685471534729,4.5419769287109375,-3.321540117263794,-2.655632734298706,-2.286565065383911,1.3612979650497437,-2.1392457485198975,-3.2944202423095703,-0.8034419417381287,-3.6337175369262695,-3.345607042312622,-5.631415367126465,-2.4814260005950928,-3.433480978012085,-4.76684045791626,-3.264937400817871,-2.71871280670166,-5.588669300079346,-1.5374709367752075,-2.6831421852111816,-3.0541601181030273,-1.4082462787628174,-5.971442222595215,-2.6807541847229004,-4.164478778839111,1.8184504508972168,4.89249849319458,-1.9653047323226929,-4.039038181304932,-3.78869891166687,-2.0780856609344482,-1.494959831237793,-0.5248546004295349,-5.823423862457275,-5.839359760284424,0.5044121146202087,4.704127788543701,-4.815073013305664,-0.948244035243988,1.0128562450408936,-3.8731942176818848,-0.21212869882583618],\"y\":[5.789910316467285,-5.746105194091797,5.808804512023926,0.8856065273284912,-5.842287540435791,5.26616907119751,2.5537374019622803,-1.0498794317245483,-7.483055591583252,-7.004708766937256,-5.871214866638184,-1.809919834136963,-8.218755722045898,-1.9562586545944214,2.3729970455169678,-5.513374328613281,0.9941446781158447,4.193603515625,-8.323836326599121,-2.495481491088867,3.2011821269989014,-1.3214293718338013,2.975532293319702,5.490103721618652,-5.561448097229004,-5.663357257843018,2.9175639152526855,-3.294703722000122,6.9037041664123535,-1.0753027200698853,-3.979581117630005,-5.9870476722717285,2.83632493019104,-7.163432598114014,-2.4287500381469727,6.183569431304932,-4.432697296142578,-6.08821964263916,-6.330440044403076,-7.063846588134766,-7.054863452911377,-6.221752643585205,-2.012399911880493,-1.9996824264526367,7.450995922088623,-7.4560770988464355,-5.894636631011963,6.622765064239502,-1.2553242444992065,-0.3173072934150696,-7.001380920410156,3.0095434188842773,-2.0172059535980225,2.101085662841797,-1.0431058406829834,-7.654641151428223,4.86463737487793,-6.436258792877197,-5.605808734893799,5.673406600952148,-2.9529242515563965,2.004518747329712,-6.590624809265137,1.6478887796401978,5.6049909591674805,3.0060713291168213,4.19267463684082,-4.8673810958862305,-7.781867980957031,-5.784533977508545,6.497259616851807,2.5071823596954346,3.715914726257324,0.5616931319236755,0.015513182617723942,0.2469286322593689,-5.292268753051758,0.6212021112442017,1.5099490880966187,-5.275330543518066,4.193699836730957,-6.4547929763793945,-0.7113380432128906,-2.061452627182007,-5.4984025955200195,-5.275362014770508,-6.966906547546387,6.678610324859619,2.6742684841156006,0.43099164962768555,-1.6538492441177368,5.756690502166748,-6.275363445281982,1.5530744791030884,6.365131378173828,6.581434726715088,-2.35176944732666,5.3615851402282715,-3.9795284271240234,6.00843620300293,-1.5085108280181885,1.2031710147857666,-2.3188462257385254,6.5683274269104,0.4140983819961548,0.7797849178314209,-5.9538702964782715,-3.5147311687469482,7.635356903076172,6.66063928604126,-1.2846344709396362,-6.640061855316162,-5.611858367919922,4.774514675140381,5.514235019683838,-0.6146667003631592,-5.966732025146484,8.223045349121094,1.0078717470169067,3.153895616531372,6.650269508361816,3.801954984664917],\"z\":[1.5562177896499634,-7.6015849113464355,1.4457694292068481,-8.12058162689209,-6.578674793243408,4.536570072174072,-7.822354316711426,-8.649312973022461,-6.056217193603516,-6.2426652908325195,-6.5800652503967285,-8.104114532470703,-7.1825408935546875,-7.668249130249023,-6.948362827301025,-5.643292427062988,-6.605836391448975,-6.167957305908203,-6.143911838531494,-5.844089031219482,-7.990626811981201,-5.957043647766113,-7.715426445007324,4.709431171417236,-8.367137908935547,-3.7568109035491943,-8.788805961608887,-5.741634845733643,5.438776016235352,-8.509223937988281,-5.796956539154053,-6.739999771118164,-7.416256427764893,-4.734465599060059,-5.852270126342773,5.311305999755859,-4.7025065422058105,-5.690019607543945,-6.639368057250977,-3.330066204071045,-5.873256206512451,-5.067246437072754,-5.901580333709717,-4.828045845031738,-0.6695795655250549,-5.4357452392578125,-5.402949333190918,2.572047472000122,-8.135329246520996,-7.842541694641113,-7.203895568847656,-7.600123882293701,-4.131965637207031,-8.304327964782715,-8.354939460754395,-5.995616436004639,3.7799768447875977,-3.5466744899749756,-6.600461483001709,3.0130434036254883,-5.9125800132751465,-8.091835021972656,-7.242537975311279,-6.90153169631958,1.1555124521255493,-7.127109050750732,-6.229245185852051,-4.191992282867432,-7.318593502044678,-6.890938758850098,2.4832401275634766,-7.73029088973999,-7.531147003173828,-8.076068878173828,-7.0300612449646,-7.911703586578369,-7.04265832901001,-7.610152244567871,-3.6694140434265137,-6.737701416015625,-6.167917728424072,-6.032049179077148,-8.416687965393066,-7.653868675231934,-6.667542457580566,-6.737718105316162,-5.663550853729248,4.8306050300598145,-7.172603130340576,-5.861430644989014,-4.9472150802612305,4.749972820281982,-7.2303667068481445,-3.665780544281006,3.3315765857696533,4.349147319793701,-5.799440860748291,4.698570251464844,-5.79691743850708,1.7994005680084229,-4.57305383682251,-8.620161056518555,4.632350921630859,5.106114864349365,-5.747677326202393,-7.20465087890625,-5.949419021606445,-5.529306411743164,-0.5971707701683044,-1.1420589685440063,-8.259976387023926,-7.262003421783447,-5.0083088874816895,3.919144630432129,4.616505146026611,-7.572289943695068,-5.873661518096924,-0.30282655358314514,-6.820573806762695,-8.207235336303711,-0.5984947085380554,-6.31118106842041],\"type\":\"scatter3d\"}],                        {\"template\":{\"data\":{\"histogram2dcontour\":[{\"type\":\"histogram2dcontour\",\"colorbar\":{\"outlinewidth\":0,\"ticks\":\"\"},\"colorscale\":[[0.0,\"#0d0887\"],[0.1111111111111111,\"#46039f\"],[0.2222222222222222,\"#7201a8\"],[0.3333333333333333,\"#9c179e\"],[0.4444444444444444,\"#bd3786\"],[0.5555555555555556,\"#d8576b\"],[0.6666666666666666,\"#ed7953\"],[0.7777777777777778,\"#fb9f3a\"],[0.8888888888888888,\"#fdca26\"],[1.0,\"#f0f921\"]]}],\"choropleth\":[{\"type\":\"choropleth\",\"colorbar\":{\"outlinewidth\":0,\"ticks\":\"\"}}],\"histogram2d\":[{\"type\":\"histogram2d\",\"colorbar\":{\"outlinewidth\":0,\"ticks\":\"\"},\"colorscale\":[[0.0,\"#0d0887\"],[0.1111111111111111,\"#46039f\"],[0.2222222222222222,\"#7201a8\"],[0.3333333333333333,\"#9c179e\"],[0.4444444444444444,\"#bd3786\"],[0.5555555555555556,\"#d8576b\"],[0.6666666666666666,\"#ed7953\"],[0.7777777777777778,\"#fb9f3a\"],[0.8888888888888888,\"#fdca26\"],[1.0,\"#f0f921\"]]}],\"heatmap\":[{\"type\":\"heatmap\",\"colorbar\":{\"outlinewidth\":0,\"ticks\":\"\"},\"colorscale\":[[0.0,\"#0d0887\"],[0.1111111111111111,\"#46039f\"],[0.2222222222222222,\"#7201a8\"],[0.3333333333333333,\"#9c179e\"],[0.4444444444444444,\"#bd3786\"],[0.5555555555555556,\"#d8576b\"],[0.6666666666666666,\"#ed7953\"],[0.7777777777777778,\"#fb9f3a\"],[0.8888888888888888,\"#fdca26\"],[1.0,\"#f0f921\"]]}],\"heatmapgl\":[{\"type\":\"heatmapgl\",\"colorbar\":{\"outlinewidth\":0,\"ticks\":\"\"},\"colorscale\":[[0.0,\"#0d0887\"],[0.1111111111111111,\"#46039f\"],[0.2222222222222222,\"#7201a8\"],[0.3333333333333333,\"#9c179e\"],[0.4444444444444444,\"#bd3786\"],[0.5555555555555556,\"#d8576b\"],[0.6666666666666666,\"#ed7953\"],[0.7777777777777778,\"#fb9f3a\"],[0.8888888888888888,\"#fdca26\"],[1.0,\"#f0f921\"]]}],\"contourcarpet\":[{\"type\":\"contourcarpet\",\"colorbar\":{\"outlinewidth\":0,\"ticks\":\"\"}}],\"contour\":[{\"type\":\"contour\",\"colorbar\":{\"outlinewidth\":0,\"ticks\":\"\"},\"colorscale\":[[0.0,\"#0d0887\"],[0.1111111111111111,\"#46039f\"],[0.2222222222222222,\"#7201a8\"],[0.3333333333333333,\"#9c179e\"],[0.4444444444444444,\"#bd3786\"],[0.5555555555555556,\"#d8576b\"],[0.6666666666666666,\"#ed7953\"],[0.7777777777777778,\"#fb9f3a\"],[0.8888888888888888,\"#fdca26\"],[1.0,\"#f0f921\"]]}],\"surface\":[{\"type\":\"surface\",\"colorbar\":{\"outlinewidth\":0,\"ticks\":\"\"},\"colorscale\":[[0.0,\"#0d0887\"],[0.1111111111111111,\"#46039f\"],[0.2222222222222222,\"#7201a8\"],[0.3333333333333333,\"#9c179e\"],[0.4444444444444444,\"#bd3786\"],[0.5555555555555556,\"#d8576b\"],[0.6666666666666666,\"#ed7953\"],[0.7777777777777778,\"#fb9f3a\"],[0.8888888888888888,\"#fdca26\"],[1.0,\"#f0f921\"]]}],\"mesh3d\":[{\"type\":\"mesh3d\",\"colorbar\":{\"outlinewidth\":0,\"ticks\":\"\"}}],\"scatter\":[{\"fillpattern\":{\"fillmode\":\"overlay\",\"size\":10,\"solidity\":0.2},\"type\":\"scatter\"}],\"parcoords\":[{\"type\":\"parcoords\",\"line\":{\"colorbar\":{\"outlinewidth\":0,\"ticks\":\"\"}}}],\"scatterpolargl\":[{\"type\":\"scatterpolargl\",\"marker\":{\"colorbar\":{\"outlinewidth\":0,\"ticks\":\"\"}}}],\"bar\":[{\"error_x\":{\"color\":\"#2a3f5f\"},\"error_y\":{\"color\":\"#2a3f5f\"},\"marker\":{\"line\":{\"color\":\"#E5ECF6\",\"width\":0.5},\"pattern\":{\"fillmode\":\"overlay\",\"size\":10,\"solidity\":0.2}},\"type\":\"bar\"}],\"scattergeo\":[{\"type\":\"scattergeo\",\"marker\":{\"colorbar\":{\"outlinewidth\":0,\"ticks\":\"\"}}}],\"scatterpolar\":[{\"type\":\"scatterpolar\",\"marker\":{\"colorbar\":{\"outlinewidth\":0,\"ticks\":\"\"}}}],\"histogram\":[{\"marker\":{\"pattern\":{\"fillmode\":\"overlay\",\"size\":10,\"solidity\":0.2}},\"type\":\"histogram\"}],\"scattergl\":[{\"type\":\"scattergl\",\"marker\":{\"colorbar\":{\"outlinewidth\":0,\"ticks\":\"\"}}}],\"scatter3d\":[{\"type\":\"scatter3d\",\"line\":{\"colorbar\":{\"outlinewidth\":0,\"ticks\":\"\"}},\"marker\":{\"colorbar\":{\"outlinewidth\":0,\"ticks\":\"\"}}}],\"scattermapbox\":[{\"type\":\"scattermapbox\",\"marker\":{\"colorbar\":{\"outlinewidth\":0,\"ticks\":\"\"}}}],\"scatterternary\":[{\"type\":\"scatterternary\",\"marker\":{\"colorbar\":{\"outlinewidth\":0,\"ticks\":\"\"}}}],\"scattercarpet\":[{\"type\":\"scattercarpet\",\"marker\":{\"colorbar\":{\"outlinewidth\":0,\"ticks\":\"\"}}}],\"carpet\":[{\"aaxis\":{\"endlinecolor\":\"#2a3f5f\",\"gridcolor\":\"white\",\"linecolor\":\"white\",\"minorgridcolor\":\"white\",\"startlinecolor\":\"#2a3f5f\"},\"baxis\":{\"endlinecolor\":\"#2a3f5f\",\"gridcolor\":\"white\",\"linecolor\":\"white\",\"minorgridcolor\":\"white\",\"startlinecolor\":\"#2a3f5f\"},\"type\":\"carpet\"}],\"table\":[{\"cells\":{\"fill\":{\"color\":\"#EBF0F8\"},\"line\":{\"color\":\"white\"}},\"header\":{\"fill\":{\"color\":\"#C8D4E3\"},\"line\":{\"color\":\"white\"}},\"type\":\"table\"}],\"barpolar\":[{\"marker\":{\"line\":{\"color\":\"#E5ECF6\",\"width\":0.5},\"pattern\":{\"fillmode\":\"overlay\",\"size\":10,\"solidity\":0.2}},\"type\":\"barpolar\"}],\"pie\":[{\"automargin\":true,\"type\":\"pie\"}]},\"layout\":{\"autotypenumbers\":\"strict\",\"colorway\":[\"#636efa\",\"#EF553B\",\"#00cc96\",\"#ab63fa\",\"#FFA15A\",\"#19d3f3\",\"#FF6692\",\"#B6E880\",\"#FF97FF\",\"#FECB52\"],\"font\":{\"color\":\"#2a3f5f\"},\"hovermode\":\"closest\",\"hoverlabel\":{\"align\":\"left\"},\"paper_bgcolor\":\"white\",\"plot_bgcolor\":\"#E5ECF6\",\"polar\":{\"bgcolor\":\"#E5ECF6\",\"angularaxis\":{\"gridcolor\":\"white\",\"linecolor\":\"white\",\"ticks\":\"\"},\"radialaxis\":{\"gridcolor\":\"white\",\"linecolor\":\"white\",\"ticks\":\"\"}},\"ternary\":{\"bgcolor\":\"#E5ECF6\",\"aaxis\":{\"gridcolor\":\"white\",\"linecolor\":\"white\",\"ticks\":\"\"},\"baxis\":{\"gridcolor\":\"white\",\"linecolor\":\"white\",\"ticks\":\"\"},\"caxis\":{\"gridcolor\":\"white\",\"linecolor\":\"white\",\"ticks\":\"\"}},\"coloraxis\":{\"colorbar\":{\"outlinewidth\":0,\"ticks\":\"\"}},\"colorscale\":{\"sequential\":[[0.0,\"#0d0887\"],[0.1111111111111111,\"#46039f\"],[0.2222222222222222,\"#7201a8\"],[0.3333333333333333,\"#9c179e\"],[0.4444444444444444,\"#bd3786\"],[0.5555555555555556,\"#d8576b\"],[0.6666666666666666,\"#ed7953\"],[0.7777777777777778,\"#fb9f3a\"],[0.8888888888888888,\"#fdca26\"],[1.0,\"#f0f921\"]],\"sequentialminus\":[[0.0,\"#0d0887\"],[0.1111111111111111,\"#46039f\"],[0.2222222222222222,\"#7201a8\"],[0.3333333333333333,\"#9c179e\"],[0.4444444444444444,\"#bd3786\"],[0.5555555555555556,\"#d8576b\"],[0.6666666666666666,\"#ed7953\"],[0.7777777777777778,\"#fb9f3a\"],[0.8888888888888888,\"#fdca26\"],[1.0,\"#f0f921\"]],\"diverging\":[[0,\"#8e0152\"],[0.1,\"#c51b7d\"],[0.2,\"#de77ae\"],[0.3,\"#f1b6da\"],[0.4,\"#fde0ef\"],[0.5,\"#f7f7f7\"],[0.6,\"#e6f5d0\"],[0.7,\"#b8e186\"],[0.8,\"#7fbc41\"],[0.9,\"#4d9221\"],[1,\"#276419\"]]},\"xaxis\":{\"gridcolor\":\"white\",\"linecolor\":\"white\",\"ticks\":\"\",\"title\":{\"standoff\":15},\"zerolinecolor\":\"white\",\"automargin\":true,\"zerolinewidth\":2},\"yaxis\":{\"gridcolor\":\"white\",\"linecolor\":\"white\",\"ticks\":\"\",\"title\":{\"standoff\":15},\"zerolinecolor\":\"white\",\"automargin\":true,\"zerolinewidth\":2},\"scene\":{\"xaxis\":{\"backgroundcolor\":\"#E5ECF6\",\"gridcolor\":\"white\",\"linecolor\":\"white\",\"showbackground\":true,\"ticks\":\"\",\"zerolinecolor\":\"white\",\"gridwidth\":2},\"yaxis\":{\"backgroundcolor\":\"#E5ECF6\",\"gridcolor\":\"white\",\"linecolor\":\"white\",\"showbackground\":true,\"ticks\":\"\",\"zerolinecolor\":\"white\",\"gridwidth\":2},\"zaxis\":{\"backgroundcolor\":\"#E5ECF6\",\"gridcolor\":\"white\",\"linecolor\":\"white\",\"showbackground\":true,\"ticks\":\"\",\"zerolinecolor\":\"white\",\"gridwidth\":2}},\"shapedefaults\":{\"line\":{\"color\":\"#2a3f5f\"}},\"annotationdefaults\":{\"arrowcolor\":\"#2a3f5f\",\"arrowhead\":0,\"arrowwidth\":1},\"geo\":{\"bgcolor\":\"white\",\"landcolor\":\"#E5ECF6\",\"subunitcolor\":\"white\",\"showland\":true,\"showlakes\":true,\"lakecolor\":\"white\"},\"title\":{\"x\":0.05},\"mapbox\":{\"style\":\"light\"}}},\"scene\":{\"domain\":{\"x\":[0.0,1.0],\"y\":[0.0,1.0]},\"xaxis\":{\"title\":{\"text\":\"0\"}},\"yaxis\":{\"title\":{\"text\":\"1\"}},\"zaxis\":{\"title\":{\"text\":\"2\"}}},\"legend\":{\"title\":{\"text\":\"Dominant_Topic\"},\"tracegroupgap\":0},\"title\":{\"text\":\"3d TSNE Plot for Topic Model\"},\"height\":800,\"width\":900},                        {\"responsive\": true}                    ).then(function(){\n",
       "                            \n",
       "var gd = document.getElementById('22ad2a3e-9356-48ba-aa7e-f82a6514578a');\n",
       "var x = new MutationObserver(function (mutations, observer) {{\n",
       "        var display = window.getComputedStyle(gd).display;\n",
       "        if (!display || display === 'none') {{\n",
       "            console.log([gd, 'removed!']);\n",
       "            Plotly.purge(gd);\n",
       "            observer.disconnect();\n",
       "        }}\n",
       "}});\n",
       "\n",
       "// Listen for the removal of the full notebook cells\n",
       "var notebookContainer = gd.closest('#notebook-container');\n",
       "if (notebookContainer) {{\n",
       "    x.observe(notebookContainer, {childList: true});\n",
       "}}\n",
       "\n",
       "// Listen for the clearing of the current output cell\n",
       "var outputEl = gd.closest('.output');\n",
       "if (outputEl) {{\n",
       "    x.observe(outputEl, {childList: true});\n",
       "}}\n",
       "\n",
       "                        })                };                });            </script>        </div>"
      ]
     },
     "metadata": {},
     "output_type": "display_data"
    }
   ],
   "source": [
    "plot_model(lda, plot = 'tsne')"
   ]
  },
  {
   "cell_type": "markdown",
   "id": "a9ace867",
   "metadata": {},
   "source": [
    "### [UMAP: Uniform Manifold Approximation and Projection for Dimension Reduction](https://umap-learn.readthedocs.io/en/latest/index.html)"
   ]
  },
  {
   "cell_type": "code",
   "execution_count": 53,
   "id": "b2bfa0ff",
   "metadata": {},
   "outputs": [
    {
     "data": {
      "text/html": [
       "        <script type=\"text/javascript\">\n",
       "        window.PlotlyConfig = {MathJaxConfig: 'local'};\n",
       "        if (window.MathJax) {MathJax.Hub.Config({SVG: {font: \"STIX-Web\"}});}\n",
       "        if (typeof require !== 'undefined') {\n",
       "        require.undef(\"plotly\");\n",
       "        requirejs.config({\n",
       "            paths: {\n",
       "                'plotly': ['https://cdn.plot.ly/plotly-2.11.1.min']\n",
       "            }\n",
       "        });\n",
       "        require(['plotly'], function(Plotly) {\n",
       "            window._Plotly = Plotly;\n",
       "        });\n",
       "        }\n",
       "        </script>\n",
       "        "
      ]
     },
     "metadata": {},
     "output_type": "display_data"
    },
    {
     "data": {
      "image/png": "[encoded data removed]",
      "text/plain": [
       "<Figure size 720x432 with 1 Axes>"
      ]
     },
     "metadata": {},
     "output_type": "display_data"
    }
   ],
   "source": [
    "plot_model(lda, plot = 'umap')"
   ]
  },
  {
   "cell_type": "code",
   "execution_count": 54,
   "id": "a7386533",
   "metadata": {},
   "outputs": [
    {
     "data": {
      "application/vnd.jupyter.widget-view+json": {
       "model_id": "9d5361d655244d5eb9668b52c064317e",
       "version_major": 2,
       "version_minor": 0
      },
      "text/plain": [
       "interactive(children=(ToggleButtons(description='Plot Type:', icons=('',), options=(('Frequency Plot', 'freque…"
      ]
     },
     "metadata": {},
     "output_type": "display_data"
    }
   ],
   "source": [
    "evaluate_model(lda)"
   ]
  },
  {
   "cell_type": "code",
   "execution_count": 55,
   "id": "f45a40b0",
   "metadata": {},
   "outputs": [
    {
     "name": "stdout",
     "output_type": "stream",
     "text": [
      "Model Succesfully Saved\n"
     ]
    },
    {
     "data": {
      "text/plain": [
       "(<gensim.models.rpmodel.RpModel at 0x7fccea8c2e50>, './models/NLP01.pkl')"
      ]
     },
     "execution_count": 55,
     "metadata": {},
     "output_type": "execute_result"
    }
   ],
   "source": [
    "save_model(lda,'./models/NLP01')"
   ]
  },
  {
   "cell_type": "code",
   "execution_count": 56,
   "id": "392a103d",
   "metadata": {},
   "outputs": [
    {
     "name": "stdout",
     "output_type": "stream",
     "text": [
      "Model Sucessfully Loaded\n"
     ]
    }
   ],
   "source": [
    "saved_lda = load_model('./models/NLP01')"
   ]
  },
  {
   "cell_type": "code",
   "execution_count": 57,
   "id": "841c37bd",
   "metadata": {},
   "outputs": [
    {
     "name": "stdout",
     "output_type": "stream",
     "text": [
      "RpModel(num_terms=4636, num_topics=4)\n"
     ]
    }
   ],
   "source": [
    "print(saved_lda)"
   ]
  },
  {
   "cell_type": "code",
   "execution_count": 58,
   "id": "85ff8183",
   "metadata": {},
   "outputs": [
    {
     "name": "stdout",
     "output_type": "stream",
     "text": [
      "[2022-04-17 20:18:41 -0300] [39023] [INFO] Starting gunicorn 20.1.0\n",
      "[2022-04-17 20:18:41 -0300] [39023] [ERROR] Connection in use: ('127.0.0.1', 5000)\n",
      "[2022-04-17 20:18:41 -0300] [39023] [ERROR] Retrying in 1 second.\n",
      "[2022-04-17 20:18:42 -0300] [39023] [ERROR] Connection in use: ('127.0.0.1', 5000)\n",
      "[2022-04-17 20:18:42 -0300] [39023] [ERROR] Retrying in 1 second.\n",
      "[2022-04-17 20:18:43 -0300] [39023] [ERROR] Connection in use: ('127.0.0.1', 5000)\n",
      "[2022-04-17 20:18:43 -0300] [39023] [ERROR] Retrying in 1 second.\n",
      "[2022-04-17 20:18:44 -0300] [39023] [ERROR] Connection in use: ('127.0.0.1', 5000)\n",
      "[2022-04-17 20:18:44 -0300] [39023] [ERROR] Retrying in 1 second.\n",
      "[2022-04-17 20:18:45 -0300] [39023] [ERROR] Connection in use: ('127.0.0.1', 5000)\n",
      "[2022-04-17 20:18:45 -0300] [39023] [ERROR] Retrying in 1 second.\n",
      "[2022-04-17 20:18:46 -0300] [39023] [ERROR] Can't connect to ('127.0.0.1', 5000)\n",
      "Running the mlflow server failed. Please see the logs above for details.\n"
     ]
    }
   ],
   "source": [
    "!mlflow ui "
   ]
  },
  {
   "cell_type": "markdown",
   "id": "b85738f7",
   "metadata": {},
   "source": [
    "________________________________"
   ]
  }
 ],
 "metadata": {
  "kernelspec": {
   "display_name": "Python 3 (ipykernel)",
   "language": "python",
   "name": "python3"
  },
  "language_info": {
   "codemirror_mode": {
    "name": "ipython",
    "version": 3
   },
   "file_extension": ".py",
   "mimetype": "text/x-python",
   "name": "python",
   "nbconvert_exporter": "python",
   "pygments_lexer": "ipython3",
   "version": "3.9.12"
  }
 },
 "nbformat": 4,
 "nbformat_minor": 5
}
