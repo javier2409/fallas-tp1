{
 "cells": [
  {
   "cell_type": "code",
   "execution_count": 1,
   "id": "592c7b5c",
   "metadata": {},
   "outputs": [],
   "source": [
    "import warnings\n",
    "warnings.filterwarnings('ignore')"
   ]
  },
  {
   "cell_type": "code",
   "execution_count": 2,
   "id": "6a6cf55d",
   "metadata": {},
   "outputs": [],
   "source": [
    "import pandas as pd"
   ]
  },
  {
   "cell_type": "code",
   "execution_count": 3,
   "id": "2c27f2e4",
   "metadata": {},
   "outputs": [],
   "source": [
    "import numpy as np"
   ]
  },
  {
   "cell_type": "code",
   "execution_count": 4,
   "id": "b172c4ce",
   "metadata": {},
   "outputs": [],
   "source": [
    "import pycaret as pc"
   ]
  },
  {
   "cell_type": "code",
   "execution_count": 5,
   "id": "e26aed0b",
   "metadata": {},
   "outputs": [],
   "source": [
    "import sklearn as sk"
   ]
  },
  {
   "cell_type": "code",
   "execution_count": 6,
   "id": "d88eab67",
   "metadata": {},
   "outputs": [],
   "source": [
    "from pycaret.nlp import *"
   ]
  },
  {
   "cell_type": "code",
   "execution_count": 7,
   "id": "b9783cf9",
   "metadata": {},
   "outputs": [
    {
     "data": {
      "text/plain": [
       "'1.22.3'"
      ]
     },
     "execution_count": 7,
     "metadata": {},
     "output_type": "execute_result"
    }
   ],
   "source": [
    "np.__version__"
   ]
  },
  {
   "cell_type": "code",
   "execution_count": 8,
   "id": "9213a461",
   "metadata": {},
   "outputs": [
    {
     "data": {
      "text/plain": [
       "'1.3.5'"
      ]
     },
     "execution_count": 8,
     "metadata": {},
     "output_type": "execute_result"
    }
   ],
   "source": [
    "pd.__version__"
   ]
  },
  {
   "cell_type": "code",
   "execution_count": 9,
   "id": "6cc964b0",
   "metadata": {},
   "outputs": [
    {
     "data": {
      "text/plain": [
       "'2.3.10'"
      ]
     },
     "execution_count": 9,
     "metadata": {},
     "output_type": "execute_result"
    }
   ],
   "source": [
    "pc.__version__"
   ]
  },
  {
   "cell_type": "code",
   "execution_count": 10,
   "id": "d87e11de",
   "metadata": {},
   "outputs": [
    {
     "data": {
      "text/plain": [
       "'0.23.2'"
      ]
     },
     "execution_count": 10,
     "metadata": {},
     "output_type": "execute_result"
    }
   ],
   "source": [
    "sk.__version__"
   ]
  },
  {
   "cell_type": "code",
   "execution_count": 11,
   "id": "b0da1c9a",
   "metadata": {},
   "outputs": [],
   "source": [
    "pd.set_option('display.max_columns', None)"
   ]
  },
  {
   "cell_type": "code",
   "execution_count": 12,
   "id": "2144cf21",
   "metadata": {},
   "outputs": [
    {
     "name": "stdout",
     "output_type": "stream",
     "text": [
      "Tokenization took: 22.93 ms\n",
      "Type conversion took: 30.27 ms\n",
      "Parser memory cleanup took: 0.00 ms\n"
     ]
    }
   ],
   "source": [
    "data = pd.read_csv(\"./kiva.csv\", sep=',', decimal='.', verbose= True, engine='c') "
   ]
  },
  {
   "cell_type": "code",
   "execution_count": 13,
   "id": "29221518",
   "metadata": {},
   "outputs": [
    {
     "data": {
      "text/plain": [
       "(6818, 7)"
      ]
     },
     "execution_count": 13,
     "metadata": {},
     "output_type": "execute_result"
    }
   ],
   "source": [
    "data.shape"
   ]
  },
  {
   "cell_type": "code",
   "execution_count": 14,
   "id": "623b9caa",
   "metadata": {},
   "outputs": [
    {
     "data": {
      "text/html": [
       "<div>\n",
       "<style scoped>\n",
       "    .dataframe tbody tr th:only-of-type {\n",
       "        vertical-align: middle;\n",
       "    }\n",
       "\n",
       "    .dataframe tbody tr th {\n",
       "        vertical-align: top;\n",
       "    }\n",
       "\n",
       "    .dataframe thead th {\n",
       "        text-align: right;\n",
       "    }\n",
       "</style>\n",
       "<table border=\"1\" class=\"dataframe\">\n",
       "  <thead>\n",
       "    <tr style=\"text-align: right;\">\n",
       "      <th></th>\n",
       "      <th>country</th>\n",
       "      <th>en</th>\n",
       "      <th>gender</th>\n",
       "      <th>loan_amount</th>\n",
       "      <th>nonpayment</th>\n",
       "      <th>sector</th>\n",
       "      <th>status</th>\n",
       "    </tr>\n",
       "  </thead>\n",
       "  <tbody>\n",
       "    <tr>\n",
       "      <th>0</th>\n",
       "      <td>Dominican Republic</td>\n",
       "      <td>\"Banco Esperanza\" is a group of 10 women looki...</td>\n",
       "      <td>F</td>\n",
       "      <td>1225</td>\n",
       "      <td>partner</td>\n",
       "      <td>Retail</td>\n",
       "      <td>0</td>\n",
       "    </tr>\n",
       "    <tr>\n",
       "      <th>1</th>\n",
       "      <td>Dominican Republic</td>\n",
       "      <td>\"Caminemos Hacia Adelante\" or \"Walking Forward...</td>\n",
       "      <td>F</td>\n",
       "      <td>1975</td>\n",
       "      <td>lender</td>\n",
       "      <td>Clothing</td>\n",
       "      <td>0</td>\n",
       "    </tr>\n",
       "    <tr>\n",
       "      <th>2</th>\n",
       "      <td>Dominican Republic</td>\n",
       "      <td>\"Creciendo Por La Union\" is a group of 10 peop...</td>\n",
       "      <td>F</td>\n",
       "      <td>2175</td>\n",
       "      <td>partner</td>\n",
       "      <td>Clothing</td>\n",
       "      <td>0</td>\n",
       "    </tr>\n",
       "    <tr>\n",
       "      <th>3</th>\n",
       "      <td>Dominican Republic</td>\n",
       "      <td>\"Cristo Vive\" (\"Christ lives\" is a group of 10...</td>\n",
       "      <td>F</td>\n",
       "      <td>1425</td>\n",
       "      <td>partner</td>\n",
       "      <td>Clothing</td>\n",
       "      <td>0</td>\n",
       "    </tr>\n",
       "    <tr>\n",
       "      <th>4</th>\n",
       "      <td>Dominican Republic</td>\n",
       "      <td>\"Cristo Vive\" is a large group of 35 people, 2...</td>\n",
       "      <td>F</td>\n",
       "      <td>4025</td>\n",
       "      <td>partner</td>\n",
       "      <td>Food</td>\n",
       "      <td>0</td>\n",
       "    </tr>\n",
       "  </tbody>\n",
       "</table>\n",
       "</div>"
      ],
      "text/plain": [
       "              country                                                 en  \\\n",
       "0  Dominican Republic  \"Banco Esperanza\" is a group of 10 women looki...   \n",
       "1  Dominican Republic  \"Caminemos Hacia Adelante\" or \"Walking Forward...   \n",
       "2  Dominican Republic  \"Creciendo Por La Union\" is a group of 10 peop...   \n",
       "3  Dominican Republic  \"Cristo Vive\" (\"Christ lives\" is a group of 10...   \n",
       "4  Dominican Republic  \"Cristo Vive\" is a large group of 35 people, 2...   \n",
       "\n",
       "  gender  loan_amount nonpayment    sector  status  \n",
       "0      F         1225    partner    Retail       0  \n",
       "1      F         1975     lender  Clothing       0  \n",
       "2      F         2175    partner  Clothing       0  \n",
       "3      F         1425    partner  Clothing       0  \n",
       "4      F         4025    partner      Food       0  "
      ]
     },
     "execution_count": 14,
     "metadata": {},
     "output_type": "execute_result"
    }
   ],
   "source": [
    "data.head()"
   ]
  },
  {
   "cell_type": "code",
   "execution_count": 15,
   "id": "289bc422",
   "metadata": {},
   "outputs": [],
   "source": [
    "data = data.sample(1000, random_state=786).reset_index(drop=True)"
   ]
  },
  {
   "cell_type": "code",
   "execution_count": 16,
   "id": "7662b5b7",
   "metadata": {},
   "outputs": [
    {
     "data": {
      "text/plain": [
       "(1000, 7)"
      ]
     },
     "execution_count": 16,
     "metadata": {},
     "output_type": "execute_result"
    }
   ],
   "source": [
    "data.shape"
   ]
  },
  {
   "cell_type": "code",
   "execution_count": 17,
   "id": "34e732d7",
   "metadata": {},
   "outputs": [
    {
     "data": {
      "text/html": [
       "<style type=\"text/css\">\n",
       "</style>\n",
       "<table id=\"T_963de_\">\n",
       "  <thead>\n",
       "    <tr>\n",
       "      <th class=\"col_heading level0 col0\" >Description</th>\n",
       "      <th class=\"col_heading level0 col1\" >Value</th>\n",
       "    </tr>\n",
       "  </thead>\n",
       "  <tbody>\n",
       "    <tr>\n",
       "      <td id=\"T_963de_row0_col0\" class=\"data row0 col0\" >session_id</td>\n",
       "      <td id=\"T_963de_row0_col1\" class=\"data row0 col1\" >101</td>\n",
       "    </tr>\n",
       "    <tr>\n",
       "      <td id=\"T_963de_row1_col0\" class=\"data row1 col0\" >Documents</td>\n",
       "      <td id=\"T_963de_row1_col1\" class=\"data row1 col1\" >1000</td>\n",
       "    </tr>\n",
       "    <tr>\n",
       "      <td id=\"T_963de_row2_col0\" class=\"data row2 col0\" >Vocab Size</td>\n",
       "      <td id=\"T_963de_row2_col1\" class=\"data row2 col1\" >4636</td>\n",
       "    </tr>\n",
       "    <tr>\n",
       "      <td id=\"T_963de_row3_col0\" class=\"data row3 col0\" >Custom Stopwords</td>\n",
       "      <td id=\"T_963de_row3_col1\" class=\"data row3 col1\" >True</td>\n",
       "    </tr>\n",
       "  </tbody>\n",
       "</table>\n"
      ],
      "text/plain": [
       "<pandas.io.formats.style.Styler at 0x7f58e78f73d0>"
      ]
     },
     "metadata": {},
     "output_type": "display_data"
    }
   ],
   "source": [
    "exp_nlp101 = setup(data = data, \n",
    "                   target = 'en', \n",
    "                   custom_stopwords = ['loan', 'income', 'usd', 'many', 'also', 'make', 'business', 'buy', \n",
    "                                       'sell', 'purchase','year', 'people', 'able', 'enable', 'old', 'woman',\n",
    "                                       'child', 'school'],\n",
    "                   session_id = 101,\n",
    "                   log_experiment = True,\n",
    "                   experiment_name = 'EX001')"
   ]
  },
  {
   "cell_type": "raw",
   "id": "04563699",
   "metadata": {},
   "source": [
    "data: pandas.Dataframe\n",
    "target: str - name of column containing text\n",
    "custom_stopwords: list\n",
    "html: bool, default = True - prevents runtime display of monitor\n",
    "session_id: int\n",
    "log_experiment: bool - MLFlow \n",
    "experiment_name: str \n",
    "experiment_custom_tags: dict - passed to the mlflow.set_tags to add new custom tags for the experiment\n",
    "log_plots: bool - certain plots are logged automatically in the MLFlow   \n",
    "log_data: bool - dataset is logged on the MLflow\n",
    "verbose: bool, default = True\n",
    "    Returns: Global variables that can be changed using the set_config function    "
   ]
  },
  {
   "cell_type": "markdown",
   "id": "bc035586",
   "metadata": {},
   "source": [
    "### [Evaluate Topic Models: Latent Dirichlet Allocation (LDA)](https://towardsdatascience.com/evaluate-topic-model-in-python-latent-dirichlet-allocation-lda-7d57484bb5d0)"
   ]
  },
  {
   "cell_type": "markdown",
   "id": "05ef2547",
   "metadata": {},
   "source": [
    "### [Evaluating Topic Models](https://www.youtube.com/watch?v=UkmIljRIG_M)"
   ]
  },
  {
   "cell_type": "markdown",
   "id": "878c2ac3",
   "metadata": {},
   "source": [
    "### [Latent Dirichlet Allocation](https://radimrehurek.com/gensim/models/ldamodel.html)"
   ]
  },
  {
   "cell_type": "code",
   "execution_count": 18,
   "id": "56a5ccec",
   "metadata": {},
   "outputs": [],
   "source": [
    "lda = create_model('hdp', num_topics = 4, multi_core = True)"
   ]
  },
  {
   "cell_type": "raw",
   "id": "8b0c3ccc",
   "metadata": {},
   "source": [
    "Models available in the model library (ID - Name):\n",
    "'lda' - Latent Dirichlet Allocation\n",
    "'lsi' - Latent Semantic Indexing\n",
    "'hdp' - Hierarchical Dirichlet Process\n",
    "'rp'  - Random Projections\n",
    "'nmf' - Non-Negative Matrix Factorization"
   ]
  },
  {
   "cell_type": "raw",
   "id": "20314d7b",
   "metadata": {},
   "source": [
    "multi_core: bool\n",
    "topic_num: str - Topic number to be passed as a string\n",
    "save: string - Plot is saved as png file in the specified directory when the path to the directory is specified\n",
    "system: bool - Must remain True all times\n",
    "display_format: str - To display plots in Streamlit (https://www.streamlit.io/), set this to ‘streamlit’.    "
   ]
  },
  {
   "cell_type": "code",
   "execution_count": 19,
   "id": "60bb22d8",
   "metadata": {},
   "outputs": [
    {
     "name": "stdout",
     "output_type": "stream",
     "text": [
      "<gensim.models.hdpmodel.HdpModel object at 0x7f58e60881f0>\n"
     ]
    }
   ],
   "source": [
    "print(lda)"
   ]
  },
  {
   "cell_type": "code",
   "execution_count": 20,
   "id": "4d32dc82",
   "metadata": {},
   "outputs": [],
   "source": [
    "lda_results = assign_model(lda)"
   ]
  },
  {
   "cell_type": "code",
   "execution_count": 21,
   "id": "1d931907",
   "metadata": {},
   "outputs": [
    {
     "data": {
      "text/html": [
       "<div>\n",
       "<style scoped>\n",
       "    .dataframe tbody tr th:only-of-type {\n",
       "        vertical-align: middle;\n",
       "    }\n",
       "\n",
       "    .dataframe tbody tr th {\n",
       "        vertical-align: top;\n",
       "    }\n",
       "\n",
       "    .dataframe thead th {\n",
       "        text-align: right;\n",
       "    }\n",
       "</style>\n",
       "<table border=\"1\" class=\"dataframe\">\n",
       "  <thead>\n",
       "    <tr style=\"text-align: right;\">\n",
       "      <th></th>\n",
       "      <th>country</th>\n",
       "      <th>en</th>\n",
       "      <th>gender</th>\n",
       "      <th>loan_amount</th>\n",
       "      <th>nonpayment</th>\n",
       "      <th>sector</th>\n",
       "      <th>status</th>\n",
       "      <th>Topic_0</th>\n",
       "      <th>Topic_1</th>\n",
       "      <th>Topic_2</th>\n",
       "      <th>Topic_3</th>\n",
       "      <th>Dominant_Topic</th>\n",
       "    </tr>\n",
       "  </thead>\n",
       "  <tbody>\n",
       "    <tr>\n",
       "      <th>0</th>\n",
       "      <td>Kenya</td>\n",
       "      <td>praxide marry primary train tailor operate sma...</td>\n",
       "      <td>F</td>\n",
       "      <td>75</td>\n",
       "      <td>partner</td>\n",
       "      <td>Services</td>\n",
       "      <td>0</td>\n",
       "      <td>0.469732</td>\n",
       "      <td>0.000000</td>\n",
       "      <td>0.520632</td>\n",
       "      <td>0.0</td>\n",
       "      <td>Topic 2</td>\n",
       "    </tr>\n",
       "    <tr>\n",
       "      <th>1</th>\n",
       "      <td>Kenya</td>\n",
       "      <td>gynaecology practitioner run live wife biologi...</td>\n",
       "      <td>M</td>\n",
       "      <td>1200</td>\n",
       "      <td>partner</td>\n",
       "      <td>Health</td>\n",
       "      <td>0</td>\n",
       "      <td>0.562415</td>\n",
       "      <td>0.223230</td>\n",
       "      <td>0.211417</td>\n",
       "      <td>0.0</td>\n",
       "      <td>Topic 0</td>\n",
       "    </tr>\n",
       "    <tr>\n",
       "      <th>2</th>\n",
       "      <td>Dominican Republic</td>\n",
       "      <td>live boy girl range new use clothing support f...</td>\n",
       "      <td>F</td>\n",
       "      <td>150</td>\n",
       "      <td>partner</td>\n",
       "      <td>Clothing</td>\n",
       "      <td>0</td>\n",
       "      <td>0.585168</td>\n",
       "      <td>0.404310</td>\n",
       "      <td>0.000000</td>\n",
       "      <td>0.0</td>\n",
       "      <td>Topic 0</td>\n",
       "    </tr>\n",
       "    <tr>\n",
       "      <th>3</th>\n",
       "      <td>Kenya</td>\n",
       "      <td>phanice marry daughter secondary boy primary f...</td>\n",
       "      <td>F</td>\n",
       "      <td>150</td>\n",
       "      <td>lender</td>\n",
       "      <td>Services</td>\n",
       "      <td>1</td>\n",
       "      <td>0.982066</td>\n",
       "      <td>0.000000</td>\n",
       "      <td>0.000000</td>\n",
       "      <td>0.0</td>\n",
       "      <td>Topic 0</td>\n",
       "    </tr>\n",
       "    <tr>\n",
       "      <th>4</th>\n",
       "      <td>Kenya</td>\n",
       "      <td>hotel last get good return competition increas...</td>\n",
       "      <td>F</td>\n",
       "      <td>300</td>\n",
       "      <td>lender</td>\n",
       "      <td>Food</td>\n",
       "      <td>1</td>\n",
       "      <td>0.912008</td>\n",
       "      <td>0.079635</td>\n",
       "      <td>0.000000</td>\n",
       "      <td>0.0</td>\n",
       "      <td>Topic 0</td>\n",
       "    </tr>\n",
       "  </tbody>\n",
       "</table>\n",
       "</div>"
      ],
      "text/plain": [
       "              country                                                 en  \\\n",
       "0               Kenya  praxide marry primary train tailor operate sma...   \n",
       "1               Kenya  gynaecology practitioner run live wife biologi...   \n",
       "2  Dominican Republic  live boy girl range new use clothing support f...   \n",
       "3               Kenya  phanice marry daughter secondary boy primary f...   \n",
       "4               Kenya  hotel last get good return competition increas...   \n",
       "\n",
       "  gender  loan_amount nonpayment    sector  status   Topic_0   Topic_1  \\\n",
       "0      F           75    partner  Services       0  0.469732  0.000000   \n",
       "1      M         1200    partner    Health       0  0.562415  0.223230   \n",
       "2      F          150    partner  Clothing       0  0.585168  0.404310   \n",
       "3      F          150     lender  Services       1  0.982066  0.000000   \n",
       "4      F          300     lender      Food       1  0.912008  0.079635   \n",
       "\n",
       "    Topic_2  Topic_3 Dominant_Topic  \n",
       "0  0.520632      0.0        Topic 2  \n",
       "1  0.211417      0.0        Topic 0  \n",
       "2  0.000000      0.0        Topic 0  \n",
       "3  0.000000      0.0        Topic 0  \n",
       "4  0.000000      0.0        Topic 0  "
      ]
     },
     "execution_count": 21,
     "metadata": {},
     "output_type": "execute_result"
    }
   ],
   "source": [
    "lda_results.head()"
   ]
  },
  {
   "cell_type": "code",
   "execution_count": 22,
   "id": "36a71f3e",
   "metadata": {
    "scrolled": true
   },
   "outputs": [
    {
     "data": {
      "text/html": [
       "        <script type=\"text/javascript\">\n",
       "        window.PlotlyConfig = {MathJaxConfig: 'local'};\n",
       "        if (window.MathJax) {MathJax.Hub.Config({SVG: {font: \"STIX-Web\"}});}\n",
       "        if (typeof require !== 'undefined') {\n",
       "        require.undef(\"plotly\");\n",
       "        requirejs.config({\n",
       "            paths: {\n",
       "                'plotly': ['https://cdn.plot.ly/plotly-2.11.1.min']\n",
       "            }\n",
       "        });\n",
       "        require(['plotly'], function(Plotly) {\n",
       "            window._Plotly = Plotly;\n",
       "        });\n",
       "        }\n",
       "        </script>\n",
       "        "
      ]
     },
     "metadata": {},
     "output_type": "display_data"
    },
    {
     "data": {
      "application/vnd.plotly.v1+json": {
       "config": {
        "linkText": "Export to plot.ly",
        "plotlyServerURL": "https://plot.ly",
        "showLink": true
       },
       "data": [
        {
         "marker": {
          "color": "rgba(255, 153, 51, 0.6)",
          "line": {
           "color": "rgba(255, 153, 51, 1.0)",
           "width": 1
          }
         },
         "name": "count",
         "orientation": "v",
         "text": "",
         "type": "bar",
         "x": [
          "work",
          "use",
          "family",
          "start",
          "small",
          "help",
          "group",
          "live",
          "husband",
          "product",
          "well",
          "increase",
          "home",
          "customer",
          "marry",
          "good",
          "community",
          "need",
          "order",
          "request",
          "member",
          "pay",
          "hope",
          "grow",
          "expand",
          "stock",
          "want",
          "new",
          "time",
          "provide",
          "store",
          "area",
          "go",
          "money",
          "get",
          "rice",
          "support",
          "improve",
          "give",
          "market",
          "entrepreneur",
          "farmer",
          "hard",
          "sale",
          "life",
          "repay",
          "ago",
          "clothing",
          "run",
          "shop",
          "mother",
          "profit",
          "first",
          "client",
          "plan",
          "take",
          "clothe",
          "food",
          "high",
          "capital",
          "service",
          "education",
          "continue",
          "farm",
          "invest",
          "house",
          "item",
          "local",
          "fee",
          "demand",
          "young",
          "large",
          "wife",
          "operate",
          "meet",
          "say",
          "day",
          "receive",
          "month",
          "still",
          "supply",
          "offer",
          "part",
          "age",
          "currently",
          "open",
          "enough",
          "keep",
          "intend",
          "allow",
          "milk",
          "earn",
          "begin",
          "son",
          "land",
          "save",
          "primary",
          "experience",
          "attend",
          "second"
         ],
         "y": [
          602,
          583,
          560,
          483,
          470,
          469,
          465,
          425,
          423,
          390,
          373,
          350,
          320,
          316,
          313,
          313,
          310,
          296,
          285,
          272,
          269,
          266,
          262,
          260,
          256,
          255,
          245,
          243,
          240,
          234,
          233,
          214,
          212,
          211,
          210,
          202,
          202,
          201,
          200,
          200,
          197,
          193,
          191,
          187,
          186,
          185,
          181,
          180,
          177,
          175,
          173,
          172,
          171,
          170,
          170,
          170,
          167,
          167,
          165,
          164,
          163,
          161,
          158,
          151,
          149,
          144,
          142,
          141,
          139,
          139,
          136,
          136,
          135,
          133,
          132,
          132,
          131,
          129,
          127,
          126,
          125,
          125,
          124,
          123,
          117,
          116,
          116,
          115,
          115,
          114,
          114,
          114,
          112,
          112,
          112,
          111,
          107,
          106,
          105,
          105
         ]
        }
       ],
       "layout": {
        "legend": {
         "bgcolor": "#F5F6F9",
         "font": {
          "color": "#4D5663"
         }
        },
        "paper_bgcolor": "#F5F6F9",
        "plot_bgcolor": "#F5F6F9",
        "template": {
         "data": {
          "bar": [
           {
            "error_x": {
             "color": "#2a3f5f"
            },
            "error_y": {
             "color": "#2a3f5f"
            },
            "marker": {
             "line": {
              "color": "#E5ECF6",
              "width": 0.5
             },
             "pattern": {
              "fillmode": "overlay",
              "size": 10,
              "solidity": 0.2
             }
            },
            "type": "bar"
           }
          ],
          "barpolar": [
           {
            "marker": {
             "line": {
              "color": "#E5ECF6",
              "width": 0.5
             },
             "pattern": {
              "fillmode": "overlay",
              "size": 10,
              "solidity": 0.2
             }
            },
            "type": "barpolar"
           }
          ],
          "carpet": [
           {
            "aaxis": {
             "endlinecolor": "#2a3f5f",
             "gridcolor": "white",
             "linecolor": "white",
             "minorgridcolor": "white",
             "startlinecolor": "#2a3f5f"
            },
            "baxis": {
             "endlinecolor": "#2a3f5f",
             "gridcolor": "white",
             "linecolor": "white",
             "minorgridcolor": "white",
             "startlinecolor": "#2a3f5f"
            },
            "type": "carpet"
           }
          ],
          "choropleth": [
           {
            "colorbar": {
             "outlinewidth": 0,
             "ticks": ""
            },
            "type": "choropleth"
           }
          ],
          "contour": [
           {
            "colorbar": {
             "outlinewidth": 0,
             "ticks": ""
            },
            "colorscale": [
             [
              0,
              "#0d0887"
             ],
             [
              0.1111111111111111,
              "#46039f"
             ],
             [
              0.2222222222222222,
              "#7201a8"
             ],
             [
              0.3333333333333333,
              "#9c179e"
             ],
             [
              0.4444444444444444,
              "#bd3786"
             ],
             [
              0.5555555555555556,
              "#d8576b"
             ],
             [
              0.6666666666666666,
              "#ed7953"
             ],
             [
              0.7777777777777778,
              "#fb9f3a"
             ],
             [
              0.8888888888888888,
              "#fdca26"
             ],
             [
              1,
              "#f0f921"
             ]
            ],
            "type": "contour"
           }
          ],
          "contourcarpet": [
           {
            "colorbar": {
             "outlinewidth": 0,
             "ticks": ""
            },
            "type": "contourcarpet"
           }
          ],
          "heatmap": [
           {
            "colorbar": {
             "outlinewidth": 0,
             "ticks": ""
            },
            "colorscale": [
             [
              0,
              "#0d0887"
             ],
             [
              0.1111111111111111,
              "#46039f"
             ],
             [
              0.2222222222222222,
              "#7201a8"
             ],
             [
              0.3333333333333333,
              "#9c179e"
             ],
             [
              0.4444444444444444,
              "#bd3786"
             ],
             [
              0.5555555555555556,
              "#d8576b"
             ],
             [
              0.6666666666666666,
              "#ed7953"
             ],
             [
              0.7777777777777778,
              "#fb9f3a"
             ],
             [
              0.8888888888888888,
              "#fdca26"
             ],
             [
              1,
              "#f0f921"
             ]
            ],
            "type": "heatmap"
           }
          ],
          "heatmapgl": [
           {
            "colorbar": {
             "outlinewidth": 0,
             "ticks": ""
            },
            "colorscale": [
             [
              0,
              "#0d0887"
             ],
             [
              0.1111111111111111,
              "#46039f"
             ],
             [
              0.2222222222222222,
              "#7201a8"
             ],
             [
              0.3333333333333333,
              "#9c179e"
             ],
             [
              0.4444444444444444,
              "#bd3786"
             ],
             [
              0.5555555555555556,
              "#d8576b"
             ],
             [
              0.6666666666666666,
              "#ed7953"
             ],
             [
              0.7777777777777778,
              "#fb9f3a"
             ],
             [
              0.8888888888888888,
              "#fdca26"
             ],
             [
              1,
              "#f0f921"
             ]
            ],
            "type": "heatmapgl"
           }
          ],
          "histogram": [
           {
            "marker": {
             "pattern": {
              "fillmode": "overlay",
              "size": 10,
              "solidity": 0.2
             }
            },
            "type": "histogram"
           }
          ],
          "histogram2d": [
           {
            "colorbar": {
             "outlinewidth": 0,
             "ticks": ""
            },
            "colorscale": [
             [
              0,
              "#0d0887"
             ],
             [
              0.1111111111111111,
              "#46039f"
             ],
             [
              0.2222222222222222,
              "#7201a8"
             ],
             [
              0.3333333333333333,
              "#9c179e"
             ],
             [
              0.4444444444444444,
              "#bd3786"
             ],
             [
              0.5555555555555556,
              "#d8576b"
             ],
             [
              0.6666666666666666,
              "#ed7953"
             ],
             [
              0.7777777777777778,
              "#fb9f3a"
             ],
             [
              0.8888888888888888,
              "#fdca26"
             ],
             [
              1,
              "#f0f921"
             ]
            ],
            "type": "histogram2d"
           }
          ],
          "histogram2dcontour": [
           {
            "colorbar": {
             "outlinewidth": 0,
             "ticks": ""
            },
            "colorscale": [
             [
              0,
              "#0d0887"
             ],
             [
              0.1111111111111111,
              "#46039f"
             ],
             [
              0.2222222222222222,
              "#7201a8"
             ],
             [
              0.3333333333333333,
              "#9c179e"
             ],
             [
              0.4444444444444444,
              "#bd3786"
             ],
             [
              0.5555555555555556,
              "#d8576b"
             ],
             [
              0.6666666666666666,
              "#ed7953"
             ],
             [
              0.7777777777777778,
              "#fb9f3a"
             ],
             [
              0.8888888888888888,
              "#fdca26"
             ],
             [
              1,
              "#f0f921"
             ]
            ],
            "type": "histogram2dcontour"
           }
          ],
          "mesh3d": [
           {
            "colorbar": {
             "outlinewidth": 0,
             "ticks": ""
            },
            "type": "mesh3d"
           }
          ],
          "parcoords": [
           {
            "line": {
             "colorbar": {
              "outlinewidth": 0,
              "ticks": ""
             }
            },
            "type": "parcoords"
           }
          ],
          "pie": [
           {
            "automargin": true,
            "type": "pie"
           }
          ],
          "scatter": [
           {
            "fillpattern": {
             "fillmode": "overlay",
             "size": 10,
             "solidity": 0.2
            },
            "type": "scatter"
           }
          ],
          "scatter3d": [
           {
            "line": {
             "colorbar": {
              "outlinewidth": 0,
              "ticks": ""
             }
            },
            "marker": {
             "colorbar": {
              "outlinewidth": 0,
              "ticks": ""
             }
            },
            "type": "scatter3d"
           }
          ],
          "scattercarpet": [
           {
            "marker": {
             "colorbar": {
              "outlinewidth": 0,
              "ticks": ""
             }
            },
            "type": "scattercarpet"
           }
          ],
          "scattergeo": [
           {
            "marker": {
             "colorbar": {
              "outlinewidth": 0,
              "ticks": ""
             }
            },
            "type": "scattergeo"
           }
          ],
          "scattergl": [
           {
            "marker": {
             "colorbar": {
              "outlinewidth": 0,
              "ticks": ""
             }
            },
            "type": "scattergl"
           }
          ],
          "scattermapbox": [
           {
            "marker": {
             "colorbar": {
              "outlinewidth": 0,
              "ticks": ""
             }
            },
            "type": "scattermapbox"
           }
          ],
          "scatterpolar": [
           {
            "marker": {
             "colorbar": {
              "outlinewidth": 0,
              "ticks": ""
             }
            },
            "type": "scatterpolar"
           }
          ],
          "scatterpolargl": [
           {
            "marker": {
             "colorbar": {
              "outlinewidth": 0,
              "ticks": ""
             }
            },
            "type": "scatterpolargl"
           }
          ],
          "scatterternary": [
           {
            "marker": {
             "colorbar": {
              "outlinewidth": 0,
              "ticks": ""
             }
            },
            "type": "scatterternary"
           }
          ],
          "surface": [
           {
            "colorbar": {
             "outlinewidth": 0,
             "ticks": ""
            },
            "colorscale": [
             [
              0,
              "#0d0887"
             ],
             [
              0.1111111111111111,
              "#46039f"
             ],
             [
              0.2222222222222222,
              "#7201a8"
             ],
             [
              0.3333333333333333,
              "#9c179e"
             ],
             [
              0.4444444444444444,
              "#bd3786"
             ],
             [
              0.5555555555555556,
              "#d8576b"
             ],
             [
              0.6666666666666666,
              "#ed7953"
             ],
             [
              0.7777777777777778,
              "#fb9f3a"
             ],
             [
              0.8888888888888888,
              "#fdca26"
             ],
             [
              1,
              "#f0f921"
             ]
            ],
            "type": "surface"
           }
          ],
          "table": [
           {
            "cells": {
             "fill": {
              "color": "#EBF0F8"
             },
             "line": {
              "color": "white"
             }
            },
            "header": {
             "fill": {
              "color": "#C8D4E3"
             },
             "line": {
              "color": "white"
             }
            },
            "type": "table"
           }
          ]
         },
         "layout": {
          "annotationdefaults": {
           "arrowcolor": "#2a3f5f",
           "arrowhead": 0,
           "arrowwidth": 1
          },
          "autotypenumbers": "strict",
          "coloraxis": {
           "colorbar": {
            "outlinewidth": 0,
            "ticks": ""
           }
          },
          "colorscale": {
           "diverging": [
            [
             0,
             "#8e0152"
            ],
            [
             0.1,
             "#c51b7d"
            ],
            [
             0.2,
             "#de77ae"
            ],
            [
             0.3,
             "#f1b6da"
            ],
            [
             0.4,
             "#fde0ef"
            ],
            [
             0.5,
             "#f7f7f7"
            ],
            [
             0.6,
             "#e6f5d0"
            ],
            [
             0.7,
             "#b8e186"
            ],
            [
             0.8,
             "#7fbc41"
            ],
            [
             0.9,
             "#4d9221"
            ],
            [
             1,
             "#276419"
            ]
           ],
           "sequential": [
            [
             0,
             "#0d0887"
            ],
            [
             0.1111111111111111,
             "#46039f"
            ],
            [
             0.2222222222222222,
             "#7201a8"
            ],
            [
             0.3333333333333333,
             "#9c179e"
            ],
            [
             0.4444444444444444,
             "#bd3786"
            ],
            [
             0.5555555555555556,
             "#d8576b"
            ],
            [
             0.6666666666666666,
             "#ed7953"
            ],
            [
             0.7777777777777778,
             "#fb9f3a"
            ],
            [
             0.8888888888888888,
             "#fdca26"
            ],
            [
             1,
             "#f0f921"
            ]
           ],
           "sequentialminus": [
            [
             0,
             "#0d0887"
            ],
            [
             0.1111111111111111,
             "#46039f"
            ],
            [
             0.2222222222222222,
             "#7201a8"
            ],
            [
             0.3333333333333333,
             "#9c179e"
            ],
            [
             0.4444444444444444,
             "#bd3786"
            ],
            [
             0.5555555555555556,
             "#d8576b"
            ],
            [
             0.6666666666666666,
             "#ed7953"
            ],
            [
             0.7777777777777778,
             "#fb9f3a"
            ],
            [
             0.8888888888888888,
             "#fdca26"
            ],
            [
             1,
             "#f0f921"
            ]
           ]
          },
          "colorway": [
           "#636efa",
           "#EF553B",
           "#00cc96",
           "#ab63fa",
           "#FFA15A",
           "#19d3f3",
           "#FF6692",
           "#B6E880",
           "#FF97FF",
           "#FECB52"
          ],
          "font": {
           "color": "#2a3f5f"
          },
          "geo": {
           "bgcolor": "white",
           "lakecolor": "white",
           "landcolor": "#E5ECF6",
           "showlakes": true,
           "showland": true,
           "subunitcolor": "white"
          },
          "hoverlabel": {
           "align": "left"
          },
          "hovermode": "closest",
          "mapbox": {
           "style": "light"
          },
          "paper_bgcolor": "white",
          "plot_bgcolor": "#E5ECF6",
          "polar": {
           "angularaxis": {
            "gridcolor": "white",
            "linecolor": "white",
            "ticks": ""
           },
           "bgcolor": "#E5ECF6",
           "radialaxis": {
            "gridcolor": "white",
            "linecolor": "white",
            "ticks": ""
           }
          },
          "scene": {
           "xaxis": {
            "backgroundcolor": "#E5ECF6",
            "gridcolor": "white",
            "gridwidth": 2,
            "linecolor": "white",
            "showbackground": true,
            "ticks": "",
            "zerolinecolor": "white"
           },
           "yaxis": {
            "backgroundcolor": "#E5ECF6",
            "gridcolor": "white",
            "gridwidth": 2,
            "linecolor": "white",
            "showbackground": true,
            "ticks": "",
            "zerolinecolor": "white"
           },
           "zaxis": {
            "backgroundcolor": "#E5ECF6",
            "gridcolor": "white",
            "gridwidth": 2,
            "linecolor": "white",
            "showbackground": true,
            "ticks": "",
            "zerolinecolor": "white"
           }
          },
          "shapedefaults": {
           "line": {
            "color": "#2a3f5f"
           }
          },
          "ternary": {
           "aaxis": {
            "gridcolor": "white",
            "linecolor": "white",
            "ticks": ""
           },
           "baxis": {
            "gridcolor": "white",
            "linecolor": "white",
            "ticks": ""
           },
           "bgcolor": "#E5ECF6",
           "caxis": {
            "gridcolor": "white",
            "linecolor": "white",
            "ticks": ""
           }
          },
          "title": {
           "x": 0.05
          },
          "xaxis": {
           "automargin": true,
           "gridcolor": "white",
           "linecolor": "white",
           "ticks": "",
           "title": {
            "standoff": 15
           },
           "zerolinecolor": "white",
           "zerolinewidth": 2
          },
          "yaxis": {
           "automargin": true,
           "gridcolor": "white",
           "linecolor": "white",
           "ticks": "",
           "title": {
            "standoff": 15
           },
           "zerolinecolor": "white",
           "zerolinewidth": 2
          }
         }
        },
        "title": {
         "font": {
          "color": "#4D5663"
         },
         "text": "Top 100 words after removing stop words"
        },
        "xaxis": {
         "gridcolor": "#E1E5ED",
         "linecolor": "black",
         "showgrid": true,
         "tickfont": {
          "color": "#4D5663"
         },
         "title": {
          "font": {
           "color": "#4D5663"
          },
          "text": ""
         },
         "zerolinecolor": "#E1E5ED"
        },
        "yaxis": {
         "gridcolor": "#E1E5ED",
         "linecolor": "black",
         "showgrid": true,
         "tickfont": {
          "color": "#4D5663"
         },
         "title": {
          "font": {
           "color": "#4D5663"
          },
          "text": "Count"
         },
         "zerolinecolor": "#E1E5ED"
        }
       }
      },
      "text/html": [
       "<div>                            <div id=\"27a1f62e-08c0-45aa-9241-90ec518ca0a5\" class=\"plotly-graph-div\" style=\"height:525px; width:100%;\"></div>            <script type=\"text/javascript\">                require([\"plotly\"], function(Plotly) {                    window.PLOTLYENV=window.PLOTLYENV || {};\n",
       "                    window.PLOTLYENV.BASE_URL='https://plot.ly';                                    if (document.getElementById(\"27a1f62e-08c0-45aa-9241-90ec518ca0a5\")) {                    Plotly.newPlot(                        \"27a1f62e-08c0-45aa-9241-90ec518ca0a5\",                        [{\"marker\":{\"color\":\"rgba(255, 153, 51, 0.6)\",\"line\":{\"color\":\"rgba(255, 153, 51, 1.0)\",\"width\":1}},\"name\":\"count\",\"orientation\":\"v\",\"text\":\"\",\"x\":[\"work\",\"use\",\"family\",\"start\",\"small\",\"help\",\"group\",\"live\",\"husband\",\"product\",\"well\",\"increase\",\"home\",\"customer\",\"marry\",\"good\",\"community\",\"need\",\"order\",\"request\",\"member\",\"pay\",\"hope\",\"grow\",\"expand\",\"stock\",\"want\",\"new\",\"time\",\"provide\",\"store\",\"area\",\"go\",\"money\",\"get\",\"rice\",\"support\",\"improve\",\"give\",\"market\",\"entrepreneur\",\"farmer\",\"hard\",\"sale\",\"life\",\"repay\",\"ago\",\"clothing\",\"run\",\"shop\",\"mother\",\"profit\",\"first\",\"client\",\"plan\",\"take\",\"clothe\",\"food\",\"high\",\"capital\",\"service\",\"education\",\"continue\",\"farm\",\"invest\",\"house\",\"item\",\"local\",\"fee\",\"demand\",\"young\",\"large\",\"wife\",\"operate\",\"meet\",\"say\",\"day\",\"receive\",\"month\",\"still\",\"supply\",\"offer\",\"part\",\"age\",\"currently\",\"open\",\"enough\",\"keep\",\"intend\",\"allow\",\"milk\",\"earn\",\"begin\",\"son\",\"land\",\"save\",\"primary\",\"experience\",\"attend\",\"second\"],\"y\":[602,583,560,483,470,469,465,425,423,390,373,350,320,316,313,313,310,296,285,272,269,266,262,260,256,255,245,243,240,234,233,214,212,211,210,202,202,201,200,200,197,193,191,187,186,185,181,180,177,175,173,172,171,170,170,170,167,167,165,164,163,161,158,151,149,144,142,141,139,139,136,136,135,133,132,132,131,129,127,126,125,125,124,123,117,116,116,115,115,114,114,114,112,112,112,111,107,106,105,105],\"type\":\"bar\"}],                        {\"legend\":{\"bgcolor\":\"#F5F6F9\",\"font\":{\"color\":\"#4D5663\"}},\"paper_bgcolor\":\"#F5F6F9\",\"plot_bgcolor\":\"#F5F6F9\",\"template\":{\"data\":{\"barpolar\":[{\"marker\":{\"line\":{\"color\":\"#E5ECF6\",\"width\":0.5},\"pattern\":{\"fillmode\":\"overlay\",\"size\":10,\"solidity\":0.2}},\"type\":\"barpolar\"}],\"bar\":[{\"error_x\":{\"color\":\"#2a3f5f\"},\"error_y\":{\"color\":\"#2a3f5f\"},\"marker\":{\"line\":{\"color\":\"#E5ECF6\",\"width\":0.5},\"pattern\":{\"fillmode\":\"overlay\",\"size\":10,\"solidity\":0.2}},\"type\":\"bar\"}],\"carpet\":[{\"aaxis\":{\"endlinecolor\":\"#2a3f5f\",\"gridcolor\":\"white\",\"linecolor\":\"white\",\"minorgridcolor\":\"white\",\"startlinecolor\":\"#2a3f5f\"},\"baxis\":{\"endlinecolor\":\"#2a3f5f\",\"gridcolor\":\"white\",\"linecolor\":\"white\",\"minorgridcolor\":\"white\",\"startlinecolor\":\"#2a3f5f\"},\"type\":\"carpet\"}],\"choropleth\":[{\"colorbar\":{\"outlinewidth\":0,\"ticks\":\"\"},\"type\":\"choropleth\"}],\"contourcarpet\":[{\"colorbar\":{\"outlinewidth\":0,\"ticks\":\"\"},\"type\":\"contourcarpet\"}],\"contour\":[{\"colorbar\":{\"outlinewidth\":0,\"ticks\":\"\"},\"colorscale\":[[0.0,\"#0d0887\"],[0.1111111111111111,\"#46039f\"],[0.2222222222222222,\"#7201a8\"],[0.3333333333333333,\"#9c179e\"],[0.4444444444444444,\"#bd3786\"],[0.5555555555555556,\"#d8576b\"],[0.6666666666666666,\"#ed7953\"],[0.7777777777777778,\"#fb9f3a\"],[0.8888888888888888,\"#fdca26\"],[1.0,\"#f0f921\"]],\"type\":\"contour\"}],\"heatmapgl\":[{\"colorbar\":{\"outlinewidth\":0,\"ticks\":\"\"},\"colorscale\":[[0.0,\"#0d0887\"],[0.1111111111111111,\"#46039f\"],[0.2222222222222222,\"#7201a8\"],[0.3333333333333333,\"#9c179e\"],[0.4444444444444444,\"#bd3786\"],[0.5555555555555556,\"#d8576b\"],[0.6666666666666666,\"#ed7953\"],[0.7777777777777778,\"#fb9f3a\"],[0.8888888888888888,\"#fdca26\"],[1.0,\"#f0f921\"]],\"type\":\"heatmapgl\"}],\"heatmap\":[{\"colorbar\":{\"outlinewidth\":0,\"ticks\":\"\"},\"colorscale\":[[0.0,\"#0d0887\"],[0.1111111111111111,\"#46039f\"],[0.2222222222222222,\"#7201a8\"],[0.3333333333333333,\"#9c179e\"],[0.4444444444444444,\"#bd3786\"],[0.5555555555555556,\"#d8576b\"],[0.6666666666666666,\"#ed7953\"],[0.7777777777777778,\"#fb9f3a\"],[0.8888888888888888,\"#fdca26\"],[1.0,\"#f0f921\"]],\"type\":\"heatmap\"}],\"histogram2dcontour\":[{\"colorbar\":{\"outlinewidth\":0,\"ticks\":\"\"},\"colorscale\":[[0.0,\"#0d0887\"],[0.1111111111111111,\"#46039f\"],[0.2222222222222222,\"#7201a8\"],[0.3333333333333333,\"#9c179e\"],[0.4444444444444444,\"#bd3786\"],[0.5555555555555556,\"#d8576b\"],[0.6666666666666666,\"#ed7953\"],[0.7777777777777778,\"#fb9f3a\"],[0.8888888888888888,\"#fdca26\"],[1.0,\"#f0f921\"]],\"type\":\"histogram2dcontour\"}],\"histogram2d\":[{\"colorbar\":{\"outlinewidth\":0,\"ticks\":\"\"},\"colorscale\":[[0.0,\"#0d0887\"],[0.1111111111111111,\"#46039f\"],[0.2222222222222222,\"#7201a8\"],[0.3333333333333333,\"#9c179e\"],[0.4444444444444444,\"#bd3786\"],[0.5555555555555556,\"#d8576b\"],[0.6666666666666666,\"#ed7953\"],[0.7777777777777778,\"#fb9f3a\"],[0.8888888888888888,\"#fdca26\"],[1.0,\"#f0f921\"]],\"type\":\"histogram2d\"}],\"histogram\":[{\"marker\":{\"pattern\":{\"fillmode\":\"overlay\",\"size\":10,\"solidity\":0.2}},\"type\":\"histogram\"}],\"mesh3d\":[{\"colorbar\":{\"outlinewidth\":0,\"ticks\":\"\"},\"type\":\"mesh3d\"}],\"parcoords\":[{\"line\":{\"colorbar\":{\"outlinewidth\":0,\"ticks\":\"\"}},\"type\":\"parcoords\"}],\"pie\":[{\"automargin\":true,\"type\":\"pie\"}],\"scatter3d\":[{\"line\":{\"colorbar\":{\"outlinewidth\":0,\"ticks\":\"\"}},\"marker\":{\"colorbar\":{\"outlinewidth\":0,\"ticks\":\"\"}},\"type\":\"scatter3d\"}],\"scattercarpet\":[{\"marker\":{\"colorbar\":{\"outlinewidth\":0,\"ticks\":\"\"}},\"type\":\"scattercarpet\"}],\"scattergeo\":[{\"marker\":{\"colorbar\":{\"outlinewidth\":0,\"ticks\":\"\"}},\"type\":\"scattergeo\"}],\"scattergl\":[{\"marker\":{\"colorbar\":{\"outlinewidth\":0,\"ticks\":\"\"}},\"type\":\"scattergl\"}],\"scattermapbox\":[{\"marker\":{\"colorbar\":{\"outlinewidth\":0,\"ticks\":\"\"}},\"type\":\"scattermapbox\"}],\"scatterpolargl\":[{\"marker\":{\"colorbar\":{\"outlinewidth\":0,\"ticks\":\"\"}},\"type\":\"scatterpolargl\"}],\"scatterpolar\":[{\"marker\":{\"colorbar\":{\"outlinewidth\":0,\"ticks\":\"\"}},\"type\":\"scatterpolar\"}],\"scatter\":[{\"fillpattern\":{\"fillmode\":\"overlay\",\"size\":10,\"solidity\":0.2},\"type\":\"scatter\"}],\"scatterternary\":[{\"marker\":{\"colorbar\":{\"outlinewidth\":0,\"ticks\":\"\"}},\"type\":\"scatterternary\"}],\"surface\":[{\"colorbar\":{\"outlinewidth\":0,\"ticks\":\"\"},\"colorscale\":[[0.0,\"#0d0887\"],[0.1111111111111111,\"#46039f\"],[0.2222222222222222,\"#7201a8\"],[0.3333333333333333,\"#9c179e\"],[0.4444444444444444,\"#bd3786\"],[0.5555555555555556,\"#d8576b\"],[0.6666666666666666,\"#ed7953\"],[0.7777777777777778,\"#fb9f3a\"],[0.8888888888888888,\"#fdca26\"],[1.0,\"#f0f921\"]],\"type\":\"surface\"}],\"table\":[{\"cells\":{\"fill\":{\"color\":\"#EBF0F8\"},\"line\":{\"color\":\"white\"}},\"header\":{\"fill\":{\"color\":\"#C8D4E3\"},\"line\":{\"color\":\"white\"}},\"type\":\"table\"}]},\"layout\":{\"annotationdefaults\":{\"arrowcolor\":\"#2a3f5f\",\"arrowhead\":0,\"arrowwidth\":1},\"autotypenumbers\":\"strict\",\"coloraxis\":{\"colorbar\":{\"outlinewidth\":0,\"ticks\":\"\"}},\"colorscale\":{\"diverging\":[[0,\"#8e0152\"],[0.1,\"#c51b7d\"],[0.2,\"#de77ae\"],[0.3,\"#f1b6da\"],[0.4,\"#fde0ef\"],[0.5,\"#f7f7f7\"],[0.6,\"#e6f5d0\"],[0.7,\"#b8e186\"],[0.8,\"#7fbc41\"],[0.9,\"#4d9221\"],[1,\"#276419\"]],\"sequential\":[[0.0,\"#0d0887\"],[0.1111111111111111,\"#46039f\"],[0.2222222222222222,\"#7201a8\"],[0.3333333333333333,\"#9c179e\"],[0.4444444444444444,\"#bd3786\"],[0.5555555555555556,\"#d8576b\"],[0.6666666666666666,\"#ed7953\"],[0.7777777777777778,\"#fb9f3a\"],[0.8888888888888888,\"#fdca26\"],[1.0,\"#f0f921\"]],\"sequentialminus\":[[0.0,\"#0d0887\"],[0.1111111111111111,\"#46039f\"],[0.2222222222222222,\"#7201a8\"],[0.3333333333333333,\"#9c179e\"],[0.4444444444444444,\"#bd3786\"],[0.5555555555555556,\"#d8576b\"],[0.6666666666666666,\"#ed7953\"],[0.7777777777777778,\"#fb9f3a\"],[0.8888888888888888,\"#fdca26\"],[1.0,\"#f0f921\"]]},\"colorway\":[\"#636efa\",\"#EF553B\",\"#00cc96\",\"#ab63fa\",\"#FFA15A\",\"#19d3f3\",\"#FF6692\",\"#B6E880\",\"#FF97FF\",\"#FECB52\"],\"font\":{\"color\":\"#2a3f5f\"},\"geo\":{\"bgcolor\":\"white\",\"lakecolor\":\"white\",\"landcolor\":\"#E5ECF6\",\"showlakes\":true,\"showland\":true,\"subunitcolor\":\"white\"},\"hoverlabel\":{\"align\":\"left\"},\"hovermode\":\"closest\",\"mapbox\":{\"style\":\"light\"},\"paper_bgcolor\":\"white\",\"plot_bgcolor\":\"#E5ECF6\",\"polar\":{\"angularaxis\":{\"gridcolor\":\"white\",\"linecolor\":\"white\",\"ticks\":\"\"},\"bgcolor\":\"#E5ECF6\",\"radialaxis\":{\"gridcolor\":\"white\",\"linecolor\":\"white\",\"ticks\":\"\"}},\"scene\":{\"xaxis\":{\"backgroundcolor\":\"#E5ECF6\",\"gridcolor\":\"white\",\"gridwidth\":2,\"linecolor\":\"white\",\"showbackground\":true,\"ticks\":\"\",\"zerolinecolor\":\"white\"},\"yaxis\":{\"backgroundcolor\":\"#E5ECF6\",\"gridcolor\":\"white\",\"gridwidth\":2,\"linecolor\":\"white\",\"showbackground\":true,\"ticks\":\"\",\"zerolinecolor\":\"white\"},\"zaxis\":{\"backgroundcolor\":\"#E5ECF6\",\"gridcolor\":\"white\",\"gridwidth\":2,\"linecolor\":\"white\",\"showbackground\":true,\"ticks\":\"\",\"zerolinecolor\":\"white\"}},\"shapedefaults\":{\"line\":{\"color\":\"#2a3f5f\"}},\"ternary\":{\"aaxis\":{\"gridcolor\":\"white\",\"linecolor\":\"white\",\"ticks\":\"\"},\"baxis\":{\"gridcolor\":\"white\",\"linecolor\":\"white\",\"ticks\":\"\"},\"bgcolor\":\"#E5ECF6\",\"caxis\":{\"gridcolor\":\"white\",\"linecolor\":\"white\",\"ticks\":\"\"}},\"title\":{\"x\":0.05},\"xaxis\":{\"automargin\":true,\"gridcolor\":\"white\",\"linecolor\":\"white\",\"ticks\":\"\",\"title\":{\"standoff\":15},\"zerolinecolor\":\"white\",\"zerolinewidth\":2},\"yaxis\":{\"automargin\":true,\"gridcolor\":\"white\",\"linecolor\":\"white\",\"ticks\":\"\",\"title\":{\"standoff\":15},\"zerolinecolor\":\"white\",\"zerolinewidth\":2}}},\"title\":{\"font\":{\"color\":\"#4D5663\"},\"text\":\"Top 100 words after removing stop words\"},\"xaxis\":{\"gridcolor\":\"#E1E5ED\",\"linecolor\":\"black\",\"showgrid\":true,\"tickfont\":{\"color\":\"#4D5663\"},\"title\":{\"font\":{\"color\":\"#4D5663\"},\"text\":\"\"},\"zerolinecolor\":\"#E1E5ED\"},\"yaxis\":{\"gridcolor\":\"#E1E5ED\",\"linecolor\":\"black\",\"showgrid\":true,\"tickfont\":{\"color\":\"#4D5663\"},\"title\":{\"font\":{\"color\":\"#4D5663\"},\"text\":\"Count\"},\"zerolinecolor\":\"#E1E5ED\"}},                        {\"showLink\": true, \"linkText\": \"Export to plot.ly\", \"plotlyServerURL\": \"https://plot.ly\", \"responsive\": true}                    ).then(function(){\n",
       "                            \n",
       "var gd = document.getElementById('27a1f62e-08c0-45aa-9241-90ec518ca0a5');\n",
       "var x = new MutationObserver(function (mutations, observer) {{\n",
       "        var display = window.getComputedStyle(gd).display;\n",
       "        if (!display || display === 'none') {{\n",
       "            console.log([gd, 'removed!']);\n",
       "            Plotly.purge(gd);\n",
       "            observer.disconnect();\n",
       "        }}\n",
       "}});\n",
       "\n",
       "// Listen for the removal of the full notebook cells\n",
       "var notebookContainer = gd.closest('#notebook-container');\n",
       "if (notebookContainer) {{\n",
       "    x.observe(notebookContainer, {childList: true});\n",
       "}}\n",
       "\n",
       "// Listen for the clearing of the current output cell\n",
       "var outputEl = gd.closest('.output');\n",
       "if (outputEl) {{\n",
       "    x.observe(outputEl, {childList: true});\n",
       "}}\n",
       "\n",
       "                        })                };                });            </script>        </div>"
      ]
     },
     "metadata": {},
     "output_type": "display_data"
    }
   ],
   "source": [
    "plot_model()"
   ]
  },
  {
   "cell_type": "raw",
   "id": "ba224c76",
   "metadata": {},
   "source": [
    "List of available plots (ID - Name):\n",
    "Word Token Frequency - 'frequency'\n",
    "Word Distribution Plot - 'distribution'\n",
    "Bigram Frequency Plot - 'bigram'\n",
    "Trigram Frequency Plot - 'trigram'\n",
    "Sentiment Polarity Plot - 'sentiment'\n",
    "Part of Speech Frequency - 'pos'\n",
    "t-SNE (3d) Dimension Plot - 'tsne'\n",
    "Topic Model (pyLDAvis) - 'topic_model'\n",
    "Topic Infer Distribution - 'topic_distribution'\n",
    "Wordcloud - 'wordcloud'\n",
    "UMAP Dimensionality Plot - 'umap'"
   ]
  },
  {
   "cell_type": "code",
   "execution_count": 23,
   "id": "02305ba3",
   "metadata": {},
   "outputs": [
    {
     "data": {
      "text/html": [
       "        <script type=\"text/javascript\">\n",
       "        window.PlotlyConfig = {MathJaxConfig: 'local'};\n",
       "        if (window.MathJax) {MathJax.Hub.Config({SVG: {font: \"STIX-Web\"}});}\n",
       "        if (typeof require !== 'undefined') {\n",
       "        require.undef(\"plotly\");\n",
       "        requirejs.config({\n",
       "            paths: {\n",
       "                'plotly': ['https://cdn.plot.ly/plotly-2.11.1.min']\n",
       "            }\n",
       "        });\n",
       "        require(['plotly'], function(Plotly) {\n",
       "            window._Plotly = Plotly;\n",
       "        });\n",
       "        }\n",
       "        </script>\n",
       "        "
      ]
     },
     "metadata": {},
     "output_type": "display_data"
    },
    {
     "data": {
      "application/vnd.plotly.v1+json": {
       "config": {
        "linkText": "Export to plot.ly",
        "plotlyServerURL": "https://plot.ly",
        "showLink": true
       },
       "data": [
        {
         "marker": {
          "color": "rgba(255, 153, 51, 0.6)",
          "line": {
           "color": "rgba(255, 153, 51, 1.0)",
           "width": 1
          }
         },
         "name": "count",
         "orientation": "v",
         "text": "",
         "type": "bar",
         "x": [
          "work hard",
          "pay fee",
          "hard work",
          "increase stock",
          "start small",
          "group member",
          "support family",
          "husband work",
          "start ago",
          "provide family",
          "programs_information_microfinance_ecuador services_please_visit_href",
          "live husband",
          "member group",
          "mifex_offers_client microinsurance_access_training_educational",
          "rice farmer",
          "risk_willing_accept_additional risk_making",
          "may_represent_higher_default risk_willing_accept_additional",
          "kenya_security_situation_communitie businesses_lenders_entrepreneur_aware",
          "person group",
          "businesses_lenders_entrepreneur_aware may_represent_higher_default",
          "microinsurance_access_training_educational programs_information_microfinance_ecuador",
          "plan use",
          "run small",
          "well life",
          "high demand",
          "provide well",
          "capital first_months_r",
          "customer need",
          "group promoting_savings_often_forgotten",
          "marry primary",
          "operate small",
          "order farm",
          "pay back",
          "land order",
          "intend use",
          "enough money",
          "first_months_r debt_must_paid_seventh",
          "beauty product",
          "help husband",
          "small store",
          "mifex_rural_finance program",
          "therefore request",
          "want expand",
          "group cannot_fully_repay_borrower",
          "small farmers_produce_sack",
          "boleo_spanish_hand_sowe rice",
          "pay capital",
          "request budget",
          "area small",
          "rice grow",
          "debt_must_paid_seventh final_month",
          "husband help",
          "crop boleo_spanish_hand_sowe",
          "farmers_produce_sack land",
          "grow farmers_rent_machinery",
          "add stock",
          "local community",
          "save money",
          "quality life",
          "large quantity",
          "local market",
          "family need",
          "promoting_savings_often_forgotten micro_finance_program",
          "farmers_rent_machinery helps_gather_production",
          "rural area",
          "attract new",
          "micro_finance_program mifex_believes_imperative",
          "sector rice",
          "micro entrepreneur",
          "increase revenue",
          "communal_bank_others_guarantor person",
          "farmer association_works_cooperatively",
          "meet customer",
          "need order",
          "store home",
          "use clothe",
          "sale increase",
          "rural sector",
          "capital_reserved_future_investment team_evaluating_potential_sector",
          "start help",
          "rice production",
          "program rice",
          "family member",
          "improve family",
          "repay time",
          "increase profit",
          "use money",
          "familys need",
          "mifex_believes_imperative capital_reserved_future_investment",
          "boy girl",
          "loans_prepare_land part",
          "good education",
          "improve quality",
          "part communal_bank_others_guarantor",
          "increase sale",
          "request second",
          "small shop",
          "use clothing",
          "meet need",
          "continue grow"
         ],
         "y": [
          70,
          66,
          64,
          54,
          48,
          47,
          46,
          46,
          40,
          39,
          38,
          38,
          38,
          34,
          33,
          32,
          32,
          32,
          32,
          32,
          32,
          29,
          29,
          28,
          28,
          27,
          25,
          25,
          25,
          25,
          25,
          25,
          25,
          25,
          25,
          24,
          24,
          24,
          24,
          24,
          24,
          23,
          23,
          23,
          22,
          22,
          22,
          22,
          22,
          22,
          22,
          22,
          22,
          22,
          22,
          21,
          21,
          21,
          21,
          20,
          20,
          20,
          19,
          19,
          19,
          19,
          19,
          19,
          19,
          19,
          18,
          18,
          18,
          18,
          18,
          18,
          18,
          18,
          18,
          18,
          18,
          18,
          18,
          18,
          18,
          18,
          17,
          17,
          17,
          17,
          17,
          17,
          17,
          17,
          17,
          17,
          16,
          16,
          16,
          16
         ]
        }
       ],
       "layout": {
        "legend": {
         "bgcolor": "#F5F6F9",
         "font": {
          "color": "#4D5663"
         }
        },
        "paper_bgcolor": "#F5F6F9",
        "plot_bgcolor": "#F5F6F9",
        "template": {
         "data": {
          "bar": [
           {
            "error_x": {
             "color": "#2a3f5f"
            },
            "error_y": {
             "color": "#2a3f5f"
            },
            "marker": {
             "line": {
              "color": "#E5ECF6",
              "width": 0.5
             },
             "pattern": {
              "fillmode": "overlay",
              "size": 10,
              "solidity": 0.2
             }
            },
            "type": "bar"
           }
          ],
          "barpolar": [
           {
            "marker": {
             "line": {
              "color": "#E5ECF6",
              "width": 0.5
             },
             "pattern": {
              "fillmode": "overlay",
              "size": 10,
              "solidity": 0.2
             }
            },
            "type": "barpolar"
           }
          ],
          "carpet": [
           {
            "aaxis": {
             "endlinecolor": "#2a3f5f",
             "gridcolor": "white",
             "linecolor": "white",
             "minorgridcolor": "white",
             "startlinecolor": "#2a3f5f"
            },
            "baxis": {
             "endlinecolor": "#2a3f5f",
             "gridcolor": "white",
             "linecolor": "white",
             "minorgridcolor": "white",
             "startlinecolor": "#2a3f5f"
            },
            "type": "carpet"
           }
          ],
          "choropleth": [
           {
            "colorbar": {
             "outlinewidth": 0,
             "ticks": ""
            },
            "type": "choropleth"
           }
          ],
          "contour": [
           {
            "colorbar": {
             "outlinewidth": 0,
             "ticks": ""
            },
            "colorscale": [
             [
              0,
              "#0d0887"
             ],
             [
              0.1111111111111111,
              "#46039f"
             ],
             [
              0.2222222222222222,
              "#7201a8"
             ],
             [
              0.3333333333333333,
              "#9c179e"
             ],
             [
              0.4444444444444444,
              "#bd3786"
             ],
             [
              0.5555555555555556,
              "#d8576b"
             ],
             [
              0.6666666666666666,
              "#ed7953"
             ],
             [
              0.7777777777777778,
              "#fb9f3a"
             ],
             [
              0.8888888888888888,
              "#fdca26"
             ],
             [
              1,
              "#f0f921"
             ]
            ],
            "type": "contour"
           }
          ],
          "contourcarpet": [
           {
            "colorbar": {
             "outlinewidth": 0,
             "ticks": ""
            },
            "type": "contourcarpet"
           }
          ],
          "heatmap": [
           {
            "colorbar": {
             "outlinewidth": 0,
             "ticks": ""
            },
            "colorscale": [
             [
              0,
              "#0d0887"
             ],
             [
              0.1111111111111111,
              "#46039f"
             ],
             [
              0.2222222222222222,
              "#7201a8"
             ],
             [
              0.3333333333333333,
              "#9c179e"
             ],
             [
              0.4444444444444444,
              "#bd3786"
             ],
             [
              0.5555555555555556,
              "#d8576b"
             ],
             [
              0.6666666666666666,
              "#ed7953"
             ],
             [
              0.7777777777777778,
              "#fb9f3a"
             ],
             [
              0.8888888888888888,
              "#fdca26"
             ],
             [
              1,
              "#f0f921"
             ]
            ],
            "type": "heatmap"
           }
          ],
          "heatmapgl": [
           {
            "colorbar": {
             "outlinewidth": 0,
             "ticks": ""
            },
            "colorscale": [
             [
              0,
              "#0d0887"
             ],
             [
              0.1111111111111111,
              "#46039f"
             ],
             [
              0.2222222222222222,
              "#7201a8"
             ],
             [
              0.3333333333333333,
              "#9c179e"
             ],
             [
              0.4444444444444444,
              "#bd3786"
             ],
             [
              0.5555555555555556,
              "#d8576b"
             ],
             [
              0.6666666666666666,
              "#ed7953"
             ],
             [
              0.7777777777777778,
              "#fb9f3a"
             ],
             [
              0.8888888888888888,
              "#fdca26"
             ],
             [
              1,
              "#f0f921"
             ]
            ],
            "type": "heatmapgl"
           }
          ],
          "histogram": [
           {
            "marker": {
             "pattern": {
              "fillmode": "overlay",
              "size": 10,
              "solidity": 0.2
             }
            },
            "type": "histogram"
           }
          ],
          "histogram2d": [
           {
            "colorbar": {
             "outlinewidth": 0,
             "ticks": ""
            },
            "colorscale": [
             [
              0,
              "#0d0887"
             ],
             [
              0.1111111111111111,
              "#46039f"
             ],
             [
              0.2222222222222222,
              "#7201a8"
             ],
             [
              0.3333333333333333,
              "#9c179e"
             ],
             [
              0.4444444444444444,
              "#bd3786"
             ],
             [
              0.5555555555555556,
              "#d8576b"
             ],
             [
              0.6666666666666666,
              "#ed7953"
             ],
             [
              0.7777777777777778,
              "#fb9f3a"
             ],
             [
              0.8888888888888888,
              "#fdca26"
             ],
             [
              1,
              "#f0f921"
             ]
            ],
            "type": "histogram2d"
           }
          ],
          "histogram2dcontour": [
           {
            "colorbar": {
             "outlinewidth": 0,
             "ticks": ""
            },
            "colorscale": [
             [
              0,
              "#0d0887"
             ],
             [
              0.1111111111111111,
              "#46039f"
             ],
             [
              0.2222222222222222,
              "#7201a8"
             ],
             [
              0.3333333333333333,
              "#9c179e"
             ],
             [
              0.4444444444444444,
              "#bd3786"
             ],
             [
              0.5555555555555556,
              "#d8576b"
             ],
             [
              0.6666666666666666,
              "#ed7953"
             ],
             [
              0.7777777777777778,
              "#fb9f3a"
             ],
             [
              0.8888888888888888,
              "#fdca26"
             ],
             [
              1,
              "#f0f921"
             ]
            ],
            "type": "histogram2dcontour"
           }
          ],
          "mesh3d": [
           {
            "colorbar": {
             "outlinewidth": 0,
             "ticks": ""
            },
            "type": "mesh3d"
           }
          ],
          "parcoords": [
           {
            "line": {
             "colorbar": {
              "outlinewidth": 0,
              "ticks": ""
             }
            },
            "type": "parcoords"
           }
          ],
          "pie": [
           {
            "automargin": true,
            "type": "pie"
           }
          ],
          "scatter": [
           {
            "fillpattern": {
             "fillmode": "overlay",
             "size": 10,
             "solidity": 0.2
            },
            "type": "scatter"
           }
          ],
          "scatter3d": [
           {
            "line": {
             "colorbar": {
              "outlinewidth": 0,
              "ticks": ""
             }
            },
            "marker": {
             "colorbar": {
              "outlinewidth": 0,
              "ticks": ""
             }
            },
            "type": "scatter3d"
           }
          ],
          "scattercarpet": [
           {
            "marker": {
             "colorbar": {
              "outlinewidth": 0,
              "ticks": ""
             }
            },
            "type": "scattercarpet"
           }
          ],
          "scattergeo": [
           {
            "marker": {
             "colorbar": {
              "outlinewidth": 0,
              "ticks": ""
             }
            },
            "type": "scattergeo"
           }
          ],
          "scattergl": [
           {
            "marker": {
             "colorbar": {
              "outlinewidth": 0,
              "ticks": ""
             }
            },
            "type": "scattergl"
           }
          ],
          "scattermapbox": [
           {
            "marker": {
             "colorbar": {
              "outlinewidth": 0,
              "ticks": ""
             }
            },
            "type": "scattermapbox"
           }
          ],
          "scatterpolar": [
           {
            "marker": {
             "colorbar": {
              "outlinewidth": 0,
              "ticks": ""
             }
            },
            "type": "scatterpolar"
           }
          ],
          "scatterpolargl": [
           {
            "marker": {
             "colorbar": {
              "outlinewidth": 0,
              "ticks": ""
             }
            },
            "type": "scatterpolargl"
           }
          ],
          "scatterternary": [
           {
            "marker": {
             "colorbar": {
              "outlinewidth": 0,
              "ticks": ""
             }
            },
            "type": "scatterternary"
           }
          ],
          "surface": [
           {
            "colorbar": {
             "outlinewidth": 0,
             "ticks": ""
            },
            "colorscale": [
             [
              0,
              "#0d0887"
             ],
             [
              0.1111111111111111,
              "#46039f"
             ],
             [
              0.2222222222222222,
              "#7201a8"
             ],
             [
              0.3333333333333333,
              "#9c179e"
             ],
             [
              0.4444444444444444,
              "#bd3786"
             ],
             [
              0.5555555555555556,
              "#d8576b"
             ],
             [
              0.6666666666666666,
              "#ed7953"
             ],
             [
              0.7777777777777778,
              "#fb9f3a"
             ],
             [
              0.8888888888888888,
              "#fdca26"
             ],
             [
              1,
              "#f0f921"
             ]
            ],
            "type": "surface"
           }
          ],
          "table": [
           {
            "cells": {
             "fill": {
              "color": "#EBF0F8"
             },
             "line": {
              "color": "white"
             }
            },
            "header": {
             "fill": {
              "color": "#C8D4E3"
             },
             "line": {
              "color": "white"
             }
            },
            "type": "table"
           }
          ]
         },
         "layout": {
          "annotationdefaults": {
           "arrowcolor": "#2a3f5f",
           "arrowhead": 0,
           "arrowwidth": 1
          },
          "autotypenumbers": "strict",
          "coloraxis": {
           "colorbar": {
            "outlinewidth": 0,
            "ticks": ""
           }
          },
          "colorscale": {
           "diverging": [
            [
             0,
             "#8e0152"
            ],
            [
             0.1,
             "#c51b7d"
            ],
            [
             0.2,
             "#de77ae"
            ],
            [
             0.3,
             "#f1b6da"
            ],
            [
             0.4,
             "#fde0ef"
            ],
            [
             0.5,
             "#f7f7f7"
            ],
            [
             0.6,
             "#e6f5d0"
            ],
            [
             0.7,
             "#b8e186"
            ],
            [
             0.8,
             "#7fbc41"
            ],
            [
             0.9,
             "#4d9221"
            ],
            [
             1,
             "#276419"
            ]
           ],
           "sequential": [
            [
             0,
             "#0d0887"
            ],
            [
             0.1111111111111111,
             "#46039f"
            ],
            [
             0.2222222222222222,
             "#7201a8"
            ],
            [
             0.3333333333333333,
             "#9c179e"
            ],
            [
             0.4444444444444444,
             "#bd3786"
            ],
            [
             0.5555555555555556,
             "#d8576b"
            ],
            [
             0.6666666666666666,
             "#ed7953"
            ],
            [
             0.7777777777777778,
             "#fb9f3a"
            ],
            [
             0.8888888888888888,
             "#fdca26"
            ],
            [
             1,
             "#f0f921"
            ]
           ],
           "sequentialminus": [
            [
             0,
             "#0d0887"
            ],
            [
             0.1111111111111111,
             "#46039f"
            ],
            [
             0.2222222222222222,
             "#7201a8"
            ],
            [
             0.3333333333333333,
             "#9c179e"
            ],
            [
             0.4444444444444444,
             "#bd3786"
            ],
            [
             0.5555555555555556,
             "#d8576b"
            ],
            [
             0.6666666666666666,
             "#ed7953"
            ],
            [
             0.7777777777777778,
             "#fb9f3a"
            ],
            [
             0.8888888888888888,
             "#fdca26"
            ],
            [
             1,
             "#f0f921"
            ]
           ]
          },
          "colorway": [
           "#636efa",
           "#EF553B",
           "#00cc96",
           "#ab63fa",
           "#FFA15A",
           "#19d3f3",
           "#FF6692",
           "#B6E880",
           "#FF97FF",
           "#FECB52"
          ],
          "font": {
           "color": "#2a3f5f"
          },
          "geo": {
           "bgcolor": "white",
           "lakecolor": "white",
           "landcolor": "#E5ECF6",
           "showlakes": true,
           "showland": true,
           "subunitcolor": "white"
          },
          "hoverlabel": {
           "align": "left"
          },
          "hovermode": "closest",
          "mapbox": {
           "style": "light"
          },
          "paper_bgcolor": "white",
          "plot_bgcolor": "#E5ECF6",
          "polar": {
           "angularaxis": {
            "gridcolor": "white",
            "linecolor": "white",
            "ticks": ""
           },
           "bgcolor": "#E5ECF6",
           "radialaxis": {
            "gridcolor": "white",
            "linecolor": "white",
            "ticks": ""
           }
          },
          "scene": {
           "xaxis": {
            "backgroundcolor": "#E5ECF6",
            "gridcolor": "white",
            "gridwidth": 2,
            "linecolor": "white",
            "showbackground": true,
            "ticks": "",
            "zerolinecolor": "white"
           },
           "yaxis": {
            "backgroundcolor": "#E5ECF6",
            "gridcolor": "white",
            "gridwidth": 2,
            "linecolor": "white",
            "showbackground": true,
            "ticks": "",
            "zerolinecolor": "white"
           },
           "zaxis": {
            "backgroundcolor": "#E5ECF6",
            "gridcolor": "white",
            "gridwidth": 2,
            "linecolor": "white",
            "showbackground": true,
            "ticks": "",
            "zerolinecolor": "white"
           }
          },
          "shapedefaults": {
           "line": {
            "color": "#2a3f5f"
           }
          },
          "ternary": {
           "aaxis": {
            "gridcolor": "white",
            "linecolor": "white",
            "ticks": ""
           },
           "baxis": {
            "gridcolor": "white",
            "linecolor": "white",
            "ticks": ""
           },
           "bgcolor": "#E5ECF6",
           "caxis": {
            "gridcolor": "white",
            "linecolor": "white",
            "ticks": ""
           }
          },
          "title": {
           "x": 0.05
          },
          "xaxis": {
           "automargin": true,
           "gridcolor": "white",
           "linecolor": "white",
           "ticks": "",
           "title": {
            "standoff": 15
           },
           "zerolinecolor": "white",
           "zerolinewidth": 2
          },
          "yaxis": {
           "automargin": true,
           "gridcolor": "white",
           "linecolor": "white",
           "ticks": "",
           "title": {
            "standoff": 15
           },
           "zerolinecolor": "white",
           "zerolinewidth": 2
          }
         }
        },
        "title": {
         "font": {
          "color": "#4D5663"
         },
         "text": "Top 100 bigrams after removing stop words"
        },
        "xaxis": {
         "gridcolor": "#E1E5ED",
         "linecolor": "black",
         "showgrid": true,
         "tickfont": {
          "color": "#4D5663"
         },
         "title": {
          "font": {
           "color": "#4D5663"
          },
          "text": ""
         },
         "zerolinecolor": "#E1E5ED"
        },
        "yaxis": {
         "gridcolor": "#E1E5ED",
         "linecolor": "black",
         "showgrid": true,
         "tickfont": {
          "color": "#4D5663"
         },
         "title": {
          "font": {
           "color": "#4D5663"
          },
          "text": "Count"
         },
         "zerolinecolor": "#E1E5ED"
        }
       }
      },
      "text/html": [
       "<div>                            <div id=\"3156dd0f-78f9-4843-8226-eacb47aade7c\" class=\"plotly-graph-div\" style=\"height:525px; width:100%;\"></div>            <script type=\"text/javascript\">                require([\"plotly\"], function(Plotly) {                    window.PLOTLYENV=window.PLOTLYENV || {};\n",
       "                    window.PLOTLYENV.BASE_URL='https://plot.ly';                                    if (document.getElementById(\"3156dd0f-78f9-4843-8226-eacb47aade7c\")) {                    Plotly.newPlot(                        \"3156dd0f-78f9-4843-8226-eacb47aade7c\",                        [{\"marker\":{\"color\":\"rgba(255, 153, 51, 0.6)\",\"line\":{\"color\":\"rgba(255, 153, 51, 1.0)\",\"width\":1}},\"name\":\"count\",\"orientation\":\"v\",\"text\":\"\",\"x\":[\"work hard\",\"pay fee\",\"hard work\",\"increase stock\",\"start small\",\"group member\",\"support family\",\"husband work\",\"start ago\",\"provide family\",\"programs_information_microfinance_ecuador services_please_visit_href\",\"live husband\",\"member group\",\"mifex_offers_client microinsurance_access_training_educational\",\"rice farmer\",\"risk_willing_accept_additional risk_making\",\"may_represent_higher_default risk_willing_accept_additional\",\"kenya_security_situation_communitie businesses_lenders_entrepreneur_aware\",\"person group\",\"businesses_lenders_entrepreneur_aware may_represent_higher_default\",\"microinsurance_access_training_educational programs_information_microfinance_ecuador\",\"plan use\",\"run small\",\"well life\",\"high demand\",\"provide well\",\"capital first_months_r\",\"customer need\",\"group promoting_savings_often_forgotten\",\"marry primary\",\"operate small\",\"order farm\",\"pay back\",\"land order\",\"intend use\",\"enough money\",\"first_months_r debt_must_paid_seventh\",\"beauty product\",\"help husband\",\"small store\",\"mifex_rural_finance program\",\"therefore request\",\"want expand\",\"group cannot_fully_repay_borrower\",\"small farmers_produce_sack\",\"boleo_spanish_hand_sowe rice\",\"pay capital\",\"request budget\",\"area small\",\"rice grow\",\"debt_must_paid_seventh final_month\",\"husband help\",\"crop boleo_spanish_hand_sowe\",\"farmers_produce_sack land\",\"grow farmers_rent_machinery\",\"add stock\",\"local community\",\"save money\",\"quality life\",\"large quantity\",\"local market\",\"family need\",\"promoting_savings_often_forgotten micro_finance_program\",\"farmers_rent_machinery helps_gather_production\",\"rural area\",\"attract new\",\"micro_finance_program mifex_believes_imperative\",\"sector rice\",\"micro entrepreneur\",\"increase revenue\",\"communal_bank_others_guarantor person\",\"farmer association_works_cooperatively\",\"meet customer\",\"need order\",\"store home\",\"use clothe\",\"sale increase\",\"rural sector\",\"capital_reserved_future_investment team_evaluating_potential_sector\",\"start help\",\"rice production\",\"program rice\",\"family member\",\"improve family\",\"repay time\",\"increase profit\",\"use money\",\"familys need\",\"mifex_believes_imperative capital_reserved_future_investment\",\"boy girl\",\"loans_prepare_land part\",\"good education\",\"improve quality\",\"part communal_bank_others_guarantor\",\"increase sale\",\"request second\",\"small shop\",\"use clothing\",\"meet need\",\"continue grow\"],\"y\":[70,66,64,54,48,47,46,46,40,39,38,38,38,34,33,32,32,32,32,32,32,29,29,28,28,27,25,25,25,25,25,25,25,25,25,24,24,24,24,24,24,23,23,23,22,22,22,22,22,22,22,22,22,22,22,21,21,21,21,20,20,20,19,19,19,19,19,19,19,19,18,18,18,18,18,18,18,18,18,18,18,18,18,18,18,18,17,17,17,17,17,17,17,17,17,17,16,16,16,16],\"type\":\"bar\"}],                        {\"legend\":{\"bgcolor\":\"#F5F6F9\",\"font\":{\"color\":\"#4D5663\"}},\"paper_bgcolor\":\"#F5F6F9\",\"plot_bgcolor\":\"#F5F6F9\",\"template\":{\"data\":{\"barpolar\":[{\"marker\":{\"line\":{\"color\":\"#E5ECF6\",\"width\":0.5},\"pattern\":{\"fillmode\":\"overlay\",\"size\":10,\"solidity\":0.2}},\"type\":\"barpolar\"}],\"bar\":[{\"error_x\":{\"color\":\"#2a3f5f\"},\"error_y\":{\"color\":\"#2a3f5f\"},\"marker\":{\"line\":{\"color\":\"#E5ECF6\",\"width\":0.5},\"pattern\":{\"fillmode\":\"overlay\",\"size\":10,\"solidity\":0.2}},\"type\":\"bar\"}],\"carpet\":[{\"aaxis\":{\"endlinecolor\":\"#2a3f5f\",\"gridcolor\":\"white\",\"linecolor\":\"white\",\"minorgridcolor\":\"white\",\"startlinecolor\":\"#2a3f5f\"},\"baxis\":{\"endlinecolor\":\"#2a3f5f\",\"gridcolor\":\"white\",\"linecolor\":\"white\",\"minorgridcolor\":\"white\",\"startlinecolor\":\"#2a3f5f\"},\"type\":\"carpet\"}],\"choropleth\":[{\"colorbar\":{\"outlinewidth\":0,\"ticks\":\"\"},\"type\":\"choropleth\"}],\"contourcarpet\":[{\"colorbar\":{\"outlinewidth\":0,\"ticks\":\"\"},\"type\":\"contourcarpet\"}],\"contour\":[{\"colorbar\":{\"outlinewidth\":0,\"ticks\":\"\"},\"colorscale\":[[0.0,\"#0d0887\"],[0.1111111111111111,\"#46039f\"],[0.2222222222222222,\"#7201a8\"],[0.3333333333333333,\"#9c179e\"],[0.4444444444444444,\"#bd3786\"],[0.5555555555555556,\"#d8576b\"],[0.6666666666666666,\"#ed7953\"],[0.7777777777777778,\"#fb9f3a\"],[0.8888888888888888,\"#fdca26\"],[1.0,\"#f0f921\"]],\"type\":\"contour\"}],\"heatmapgl\":[{\"colorbar\":{\"outlinewidth\":0,\"ticks\":\"\"},\"colorscale\":[[0.0,\"#0d0887\"],[0.1111111111111111,\"#46039f\"],[0.2222222222222222,\"#7201a8\"],[0.3333333333333333,\"#9c179e\"],[0.4444444444444444,\"#bd3786\"],[0.5555555555555556,\"#d8576b\"],[0.6666666666666666,\"#ed7953\"],[0.7777777777777778,\"#fb9f3a\"],[0.8888888888888888,\"#fdca26\"],[1.0,\"#f0f921\"]],\"type\":\"heatmapgl\"}],\"heatmap\":[{\"colorbar\":{\"outlinewidth\":0,\"ticks\":\"\"},\"colorscale\":[[0.0,\"#0d0887\"],[0.1111111111111111,\"#46039f\"],[0.2222222222222222,\"#7201a8\"],[0.3333333333333333,\"#9c179e\"],[0.4444444444444444,\"#bd3786\"],[0.5555555555555556,\"#d8576b\"],[0.6666666666666666,\"#ed7953\"],[0.7777777777777778,\"#fb9f3a\"],[0.8888888888888888,\"#fdca26\"],[1.0,\"#f0f921\"]],\"type\":\"heatmap\"}],\"histogram2dcontour\":[{\"colorbar\":{\"outlinewidth\":0,\"ticks\":\"\"},\"colorscale\":[[0.0,\"#0d0887\"],[0.1111111111111111,\"#46039f\"],[0.2222222222222222,\"#7201a8\"],[0.3333333333333333,\"#9c179e\"],[0.4444444444444444,\"#bd3786\"],[0.5555555555555556,\"#d8576b\"],[0.6666666666666666,\"#ed7953\"],[0.7777777777777778,\"#fb9f3a\"],[0.8888888888888888,\"#fdca26\"],[1.0,\"#f0f921\"]],\"type\":\"histogram2dcontour\"}],\"histogram2d\":[{\"colorbar\":{\"outlinewidth\":0,\"ticks\":\"\"},\"colorscale\":[[0.0,\"#0d0887\"],[0.1111111111111111,\"#46039f\"],[0.2222222222222222,\"#7201a8\"],[0.3333333333333333,\"#9c179e\"],[0.4444444444444444,\"#bd3786\"],[0.5555555555555556,\"#d8576b\"],[0.6666666666666666,\"#ed7953\"],[0.7777777777777778,\"#fb9f3a\"],[0.8888888888888888,\"#fdca26\"],[1.0,\"#f0f921\"]],\"type\":\"histogram2d\"}],\"histogram\":[{\"marker\":{\"pattern\":{\"fillmode\":\"overlay\",\"size\":10,\"solidity\":0.2}},\"type\":\"histogram\"}],\"mesh3d\":[{\"colorbar\":{\"outlinewidth\":0,\"ticks\":\"\"},\"type\":\"mesh3d\"}],\"parcoords\":[{\"line\":{\"colorbar\":{\"outlinewidth\":0,\"ticks\":\"\"}},\"type\":\"parcoords\"}],\"pie\":[{\"automargin\":true,\"type\":\"pie\"}],\"scatter3d\":[{\"line\":{\"colorbar\":{\"outlinewidth\":0,\"ticks\":\"\"}},\"marker\":{\"colorbar\":{\"outlinewidth\":0,\"ticks\":\"\"}},\"type\":\"scatter3d\"}],\"scattercarpet\":[{\"marker\":{\"colorbar\":{\"outlinewidth\":0,\"ticks\":\"\"}},\"type\":\"scattercarpet\"}],\"scattergeo\":[{\"marker\":{\"colorbar\":{\"outlinewidth\":0,\"ticks\":\"\"}},\"type\":\"scattergeo\"}],\"scattergl\":[{\"marker\":{\"colorbar\":{\"outlinewidth\":0,\"ticks\":\"\"}},\"type\":\"scattergl\"}],\"scattermapbox\":[{\"marker\":{\"colorbar\":{\"outlinewidth\":0,\"ticks\":\"\"}},\"type\":\"scattermapbox\"}],\"scatterpolargl\":[{\"marker\":{\"colorbar\":{\"outlinewidth\":0,\"ticks\":\"\"}},\"type\":\"scatterpolargl\"}],\"scatterpolar\":[{\"marker\":{\"colorbar\":{\"outlinewidth\":0,\"ticks\":\"\"}},\"type\":\"scatterpolar\"}],\"scatter\":[{\"fillpattern\":{\"fillmode\":\"overlay\",\"size\":10,\"solidity\":0.2},\"type\":\"scatter\"}],\"scatterternary\":[{\"marker\":{\"colorbar\":{\"outlinewidth\":0,\"ticks\":\"\"}},\"type\":\"scatterternary\"}],\"surface\":[{\"colorbar\":{\"outlinewidth\":0,\"ticks\":\"\"},\"colorscale\":[[0.0,\"#0d0887\"],[0.1111111111111111,\"#46039f\"],[0.2222222222222222,\"#7201a8\"],[0.3333333333333333,\"#9c179e\"],[0.4444444444444444,\"#bd3786\"],[0.5555555555555556,\"#d8576b\"],[0.6666666666666666,\"#ed7953\"],[0.7777777777777778,\"#fb9f3a\"],[0.8888888888888888,\"#fdca26\"],[1.0,\"#f0f921\"]],\"type\":\"surface\"}],\"table\":[{\"cells\":{\"fill\":{\"color\":\"#EBF0F8\"},\"line\":{\"color\":\"white\"}},\"header\":{\"fill\":{\"color\":\"#C8D4E3\"},\"line\":{\"color\":\"white\"}},\"type\":\"table\"}]},\"layout\":{\"annotationdefaults\":{\"arrowcolor\":\"#2a3f5f\",\"arrowhead\":0,\"arrowwidth\":1},\"autotypenumbers\":\"strict\",\"coloraxis\":{\"colorbar\":{\"outlinewidth\":0,\"ticks\":\"\"}},\"colorscale\":{\"diverging\":[[0,\"#8e0152\"],[0.1,\"#c51b7d\"],[0.2,\"#de77ae\"],[0.3,\"#f1b6da\"],[0.4,\"#fde0ef\"],[0.5,\"#f7f7f7\"],[0.6,\"#e6f5d0\"],[0.7,\"#b8e186\"],[0.8,\"#7fbc41\"],[0.9,\"#4d9221\"],[1,\"#276419\"]],\"sequential\":[[0.0,\"#0d0887\"],[0.1111111111111111,\"#46039f\"],[0.2222222222222222,\"#7201a8\"],[0.3333333333333333,\"#9c179e\"],[0.4444444444444444,\"#bd3786\"],[0.5555555555555556,\"#d8576b\"],[0.6666666666666666,\"#ed7953\"],[0.7777777777777778,\"#fb9f3a\"],[0.8888888888888888,\"#fdca26\"],[1.0,\"#f0f921\"]],\"sequentialminus\":[[0.0,\"#0d0887\"],[0.1111111111111111,\"#46039f\"],[0.2222222222222222,\"#7201a8\"],[0.3333333333333333,\"#9c179e\"],[0.4444444444444444,\"#bd3786\"],[0.5555555555555556,\"#d8576b\"],[0.6666666666666666,\"#ed7953\"],[0.7777777777777778,\"#fb9f3a\"],[0.8888888888888888,\"#fdca26\"],[1.0,\"#f0f921\"]]},\"colorway\":[\"#636efa\",\"#EF553B\",\"#00cc96\",\"#ab63fa\",\"#FFA15A\",\"#19d3f3\",\"#FF6692\",\"#B6E880\",\"#FF97FF\",\"#FECB52\"],\"font\":{\"color\":\"#2a3f5f\"},\"geo\":{\"bgcolor\":\"white\",\"lakecolor\":\"white\",\"landcolor\":\"#E5ECF6\",\"showlakes\":true,\"showland\":true,\"subunitcolor\":\"white\"},\"hoverlabel\":{\"align\":\"left\"},\"hovermode\":\"closest\",\"mapbox\":{\"style\":\"light\"},\"paper_bgcolor\":\"white\",\"plot_bgcolor\":\"#E5ECF6\",\"polar\":{\"angularaxis\":{\"gridcolor\":\"white\",\"linecolor\":\"white\",\"ticks\":\"\"},\"bgcolor\":\"#E5ECF6\",\"radialaxis\":{\"gridcolor\":\"white\",\"linecolor\":\"white\",\"ticks\":\"\"}},\"scene\":{\"xaxis\":{\"backgroundcolor\":\"#E5ECF6\",\"gridcolor\":\"white\",\"gridwidth\":2,\"linecolor\":\"white\",\"showbackground\":true,\"ticks\":\"\",\"zerolinecolor\":\"white\"},\"yaxis\":{\"backgroundcolor\":\"#E5ECF6\",\"gridcolor\":\"white\",\"gridwidth\":2,\"linecolor\":\"white\",\"showbackground\":true,\"ticks\":\"\",\"zerolinecolor\":\"white\"},\"zaxis\":{\"backgroundcolor\":\"#E5ECF6\",\"gridcolor\":\"white\",\"gridwidth\":2,\"linecolor\":\"white\",\"showbackground\":true,\"ticks\":\"\",\"zerolinecolor\":\"white\"}},\"shapedefaults\":{\"line\":{\"color\":\"#2a3f5f\"}},\"ternary\":{\"aaxis\":{\"gridcolor\":\"white\",\"linecolor\":\"white\",\"ticks\":\"\"},\"baxis\":{\"gridcolor\":\"white\",\"linecolor\":\"white\",\"ticks\":\"\"},\"bgcolor\":\"#E5ECF6\",\"caxis\":{\"gridcolor\":\"white\",\"linecolor\":\"white\",\"ticks\":\"\"}},\"title\":{\"x\":0.05},\"xaxis\":{\"automargin\":true,\"gridcolor\":\"white\",\"linecolor\":\"white\",\"ticks\":\"\",\"title\":{\"standoff\":15},\"zerolinecolor\":\"white\",\"zerolinewidth\":2},\"yaxis\":{\"automargin\":true,\"gridcolor\":\"white\",\"linecolor\":\"white\",\"ticks\":\"\",\"title\":{\"standoff\":15},\"zerolinecolor\":\"white\",\"zerolinewidth\":2}}},\"title\":{\"font\":{\"color\":\"#4D5663\"},\"text\":\"Top 100 bigrams after removing stop words\"},\"xaxis\":{\"gridcolor\":\"#E1E5ED\",\"linecolor\":\"black\",\"showgrid\":true,\"tickfont\":{\"color\":\"#4D5663\"},\"title\":{\"font\":{\"color\":\"#4D5663\"},\"text\":\"\"},\"zerolinecolor\":\"#E1E5ED\"},\"yaxis\":{\"gridcolor\":\"#E1E5ED\",\"linecolor\":\"black\",\"showgrid\":true,\"tickfont\":{\"color\":\"#4D5663\"},\"title\":{\"font\":{\"color\":\"#4D5663\"},\"text\":\"Count\"},\"zerolinecolor\":\"#E1E5ED\"}},                        {\"showLink\": true, \"linkText\": \"Export to plot.ly\", \"plotlyServerURL\": \"https://plot.ly\", \"responsive\": true}                    ).then(function(){\n",
       "                            \n",
       "var gd = document.getElementById('3156dd0f-78f9-4843-8226-eacb47aade7c');\n",
       "var x = new MutationObserver(function (mutations, observer) {{\n",
       "        var display = window.getComputedStyle(gd).display;\n",
       "        if (!display || display === 'none') {{\n",
       "            console.log([gd, 'removed!']);\n",
       "            Plotly.purge(gd);\n",
       "            observer.disconnect();\n",
       "        }}\n",
       "}});\n",
       "\n",
       "// Listen for the removal of the full notebook cells\n",
       "var notebookContainer = gd.closest('#notebook-container');\n",
       "if (notebookContainer) {{\n",
       "    x.observe(notebookContainer, {childList: true});\n",
       "}}\n",
       "\n",
       "// Listen for the clearing of the current output cell\n",
       "var outputEl = gd.closest('.output');\n",
       "if (outputEl) {{\n",
       "    x.observe(outputEl, {childList: true});\n",
       "}}\n",
       "\n",
       "                        })                };                });            </script>        </div>"
      ]
     },
     "metadata": {},
     "output_type": "display_data"
    }
   ],
   "source": [
    "plot_model(plot = 'bigram')"
   ]
  },
  {
   "cell_type": "code",
   "execution_count": 24,
   "id": "2fb4fa3d",
   "metadata": {},
   "outputs": [
    {
     "data": {
      "text/html": [
       "        <script type=\"text/javascript\">\n",
       "        window.PlotlyConfig = {MathJaxConfig: 'local'};\n",
       "        if (window.MathJax) {MathJax.Hub.Config({SVG: {font: \"STIX-Web\"}});}\n",
       "        if (typeof require !== 'undefined') {\n",
       "        require.undef(\"plotly\");\n",
       "        requirejs.config({\n",
       "            paths: {\n",
       "                'plotly': ['https://cdn.plot.ly/plotly-2.11.1.min']\n",
       "            }\n",
       "        });\n",
       "        require(['plotly'], function(Plotly) {\n",
       "            window._Plotly = Plotly;\n",
       "        });\n",
       "        }\n",
       "        </script>\n",
       "        "
      ]
     },
     "metadata": {},
     "output_type": "display_data"
    },
    {
     "data": {
      "application/vnd.plotly.v1+json": {
       "config": {
        "linkText": "Export to plot.ly",
        "plotlyServerURL": "https://plot.ly",
        "showLink": true
       },
       "data": [
        {
         "marker": {
          "color": "rgba(255, 153, 51, 0.6)",
          "line": {
           "color": "rgba(255, 153, 51, 1.0)",
           "width": 1
          }
         },
         "name": "count",
         "orientation": "v",
         "text": "",
         "type": "bar",
         "x": [
          "work",
          "use",
          "community",
          "well",
          "increase",
          "home",
          "family",
          "good",
          "store",
          "product",
          "need",
          "live",
          "help",
          "order",
          "husband",
          "customer",
          "start",
          "new",
          "computer",
          "small",
          "improve",
          "request",
          "open",
          "expand",
          "marry",
          "group",
          "service",
          "repay",
          "get",
          "plan",
          "son",
          "mother",
          "grow",
          "currently",
          "capital",
          "time",
          "hard",
          "quality",
          "activity",
          "support",
          "hope",
          "ago",
          "shop",
          "second",
          "give",
          "go",
          "fee",
          "education",
          "begin",
          "would",
          "offer",
          "repair",
          "run",
          "pay",
          "take",
          "want",
          "money",
          "due",
          "cereal",
          "area",
          "attend",
          "client",
          "fruit",
          "keep",
          "challenge",
          "high",
          "stock",
          "month",
          "serve",
          "shoe",
          "daily",
          "know",
          "vegetable",
          "maintain",
          "translated_spanish",
          "care",
          "thank",
          "call",
          "supply",
          "style",
          "brick",
          "bear",
          "operate",
          "dream",
          "restaurant",
          "phone",
          "place",
          "local",
          "price",
          "large",
          "job",
          "goal",
          "single",
          "sale",
          "save",
          "say",
          "first",
          "set",
          "entrepreneur",
          "would_like"
         ],
         "y": [
          37,
          32,
          31,
          29,
          28,
          26,
          26,
          23,
          23,
          23,
          22,
          22,
          20,
          19,
          19,
          19,
          19,
          19,
          18,
          17,
          16,
          16,
          16,
          16,
          15,
          15,
          15,
          14,
          14,
          14,
          14,
          13,
          13,
          12,
          12,
          12,
          12,
          12,
          12,
          11,
          11,
          11,
          11,
          11,
          10,
          10,
          10,
          10,
          10,
          10,
          10,
          9,
          9,
          9,
          9,
          9,
          9,
          9,
          9,
          9,
          9,
          9,
          9,
          9,
          9,
          9,
          8,
          8,
          8,
          8,
          8,
          8,
          8,
          8,
          8,
          7,
          7,
          7,
          7,
          7,
          7,
          7,
          7,
          7,
          7,
          7,
          7,
          7,
          7,
          7,
          7,
          7,
          7,
          7,
          7,
          7,
          7,
          7,
          7,
          7
         ]
        }
       ],
       "layout": {
        "legend": {
         "bgcolor": "#F5F6F9",
         "font": {
          "color": "#4D5663"
         }
        },
        "paper_bgcolor": "#F5F6F9",
        "plot_bgcolor": "#F5F6F9",
        "template": {
         "data": {
          "bar": [
           {
            "error_x": {
             "color": "#2a3f5f"
            },
            "error_y": {
             "color": "#2a3f5f"
            },
            "marker": {
             "line": {
              "color": "#E5ECF6",
              "width": 0.5
             },
             "pattern": {
              "fillmode": "overlay",
              "size": 10,
              "solidity": 0.2
             }
            },
            "type": "bar"
           }
          ],
          "barpolar": [
           {
            "marker": {
             "line": {
              "color": "#E5ECF6",
              "width": 0.5
             },
             "pattern": {
              "fillmode": "overlay",
              "size": 10,
              "solidity": 0.2
             }
            },
            "type": "barpolar"
           }
          ],
          "carpet": [
           {
            "aaxis": {
             "endlinecolor": "#2a3f5f",
             "gridcolor": "white",
             "linecolor": "white",
             "minorgridcolor": "white",
             "startlinecolor": "#2a3f5f"
            },
            "baxis": {
             "endlinecolor": "#2a3f5f",
             "gridcolor": "white",
             "linecolor": "white",
             "minorgridcolor": "white",
             "startlinecolor": "#2a3f5f"
            },
            "type": "carpet"
           }
          ],
          "choropleth": [
           {
            "colorbar": {
             "outlinewidth": 0,
             "ticks": ""
            },
            "type": "choropleth"
           }
          ],
          "contour": [
           {
            "colorbar": {
             "outlinewidth": 0,
             "ticks": ""
            },
            "colorscale": [
             [
              0,
              "#0d0887"
             ],
             [
              0.1111111111111111,
              "#46039f"
             ],
             [
              0.2222222222222222,
              "#7201a8"
             ],
             [
              0.3333333333333333,
              "#9c179e"
             ],
             [
              0.4444444444444444,
              "#bd3786"
             ],
             [
              0.5555555555555556,
              "#d8576b"
             ],
             [
              0.6666666666666666,
              "#ed7953"
             ],
             [
              0.7777777777777778,
              "#fb9f3a"
             ],
             [
              0.8888888888888888,
              "#fdca26"
             ],
             [
              1,
              "#f0f921"
             ]
            ],
            "type": "contour"
           }
          ],
          "contourcarpet": [
           {
            "colorbar": {
             "outlinewidth": 0,
             "ticks": ""
            },
            "type": "contourcarpet"
           }
          ],
          "heatmap": [
           {
            "colorbar": {
             "outlinewidth": 0,
             "ticks": ""
            },
            "colorscale": [
             [
              0,
              "#0d0887"
             ],
             [
              0.1111111111111111,
              "#46039f"
             ],
             [
              0.2222222222222222,
              "#7201a8"
             ],
             [
              0.3333333333333333,
              "#9c179e"
             ],
             [
              0.4444444444444444,
              "#bd3786"
             ],
             [
              0.5555555555555556,
              "#d8576b"
             ],
             [
              0.6666666666666666,
              "#ed7953"
             ],
             [
              0.7777777777777778,
              "#fb9f3a"
             ],
             [
              0.8888888888888888,
              "#fdca26"
             ],
             [
              1,
              "#f0f921"
             ]
            ],
            "type": "heatmap"
           }
          ],
          "heatmapgl": [
           {
            "colorbar": {
             "outlinewidth": 0,
             "ticks": ""
            },
            "colorscale": [
             [
              0,
              "#0d0887"
             ],
             [
              0.1111111111111111,
              "#46039f"
             ],
             [
              0.2222222222222222,
              "#7201a8"
             ],
             [
              0.3333333333333333,
              "#9c179e"
             ],
             [
              0.4444444444444444,
              "#bd3786"
             ],
             [
              0.5555555555555556,
              "#d8576b"
             ],
             [
              0.6666666666666666,
              "#ed7953"
             ],
             [
              0.7777777777777778,
              "#fb9f3a"
             ],
             [
              0.8888888888888888,
              "#fdca26"
             ],
             [
              1,
              "#f0f921"
             ]
            ],
            "type": "heatmapgl"
           }
          ],
          "histogram": [
           {
            "marker": {
             "pattern": {
              "fillmode": "overlay",
              "size": 10,
              "solidity": 0.2
             }
            },
            "type": "histogram"
           }
          ],
          "histogram2d": [
           {
            "colorbar": {
             "outlinewidth": 0,
             "ticks": ""
            },
            "colorscale": [
             [
              0,
              "#0d0887"
             ],
             [
              0.1111111111111111,
              "#46039f"
             ],
             [
              0.2222222222222222,
              "#7201a8"
             ],
             [
              0.3333333333333333,
              "#9c179e"
             ],
             [
              0.4444444444444444,
              "#bd3786"
             ],
             [
              0.5555555555555556,
              "#d8576b"
             ],
             [
              0.6666666666666666,
              "#ed7953"
             ],
             [
              0.7777777777777778,
              "#fb9f3a"
             ],
             [
              0.8888888888888888,
              "#fdca26"
             ],
             [
              1,
              "#f0f921"
             ]
            ],
            "type": "histogram2d"
           }
          ],
          "histogram2dcontour": [
           {
            "colorbar": {
             "outlinewidth": 0,
             "ticks": ""
            },
            "colorscale": [
             [
              0,
              "#0d0887"
             ],
             [
              0.1111111111111111,
              "#46039f"
             ],
             [
              0.2222222222222222,
              "#7201a8"
             ],
             [
              0.3333333333333333,
              "#9c179e"
             ],
             [
              0.4444444444444444,
              "#bd3786"
             ],
             [
              0.5555555555555556,
              "#d8576b"
             ],
             [
              0.6666666666666666,
              "#ed7953"
             ],
             [
              0.7777777777777778,
              "#fb9f3a"
             ],
             [
              0.8888888888888888,
              "#fdca26"
             ],
             [
              1,
              "#f0f921"
             ]
            ],
            "type": "histogram2dcontour"
           }
          ],
          "mesh3d": [
           {
            "colorbar": {
             "outlinewidth": 0,
             "ticks": ""
            },
            "type": "mesh3d"
           }
          ],
          "parcoords": [
           {
            "line": {
             "colorbar": {
              "outlinewidth": 0,
              "ticks": ""
             }
            },
            "type": "parcoords"
           }
          ],
          "pie": [
           {
            "automargin": true,
            "type": "pie"
           }
          ],
          "scatter": [
           {
            "fillpattern": {
             "fillmode": "overlay",
             "size": 10,
             "solidity": 0.2
            },
            "type": "scatter"
           }
          ],
          "scatter3d": [
           {
            "line": {
             "colorbar": {
              "outlinewidth": 0,
              "ticks": ""
             }
            },
            "marker": {
             "colorbar": {
              "outlinewidth": 0,
              "ticks": ""
             }
            },
            "type": "scatter3d"
           }
          ],
          "scattercarpet": [
           {
            "marker": {
             "colorbar": {
              "outlinewidth": 0,
              "ticks": ""
             }
            },
            "type": "scattercarpet"
           }
          ],
          "scattergeo": [
           {
            "marker": {
             "colorbar": {
              "outlinewidth": 0,
              "ticks": ""
             }
            },
            "type": "scattergeo"
           }
          ],
          "scattergl": [
           {
            "marker": {
             "colorbar": {
              "outlinewidth": 0,
              "ticks": ""
             }
            },
            "type": "scattergl"
           }
          ],
          "scattermapbox": [
           {
            "marker": {
             "colorbar": {
              "outlinewidth": 0,
              "ticks": ""
             }
            },
            "type": "scattermapbox"
           }
          ],
          "scatterpolar": [
           {
            "marker": {
             "colorbar": {
              "outlinewidth": 0,
              "ticks": ""
             }
            },
            "type": "scatterpolar"
           }
          ],
          "scatterpolargl": [
           {
            "marker": {
             "colorbar": {
              "outlinewidth": 0,
              "ticks": ""
             }
            },
            "type": "scatterpolargl"
           }
          ],
          "scatterternary": [
           {
            "marker": {
             "colorbar": {
              "outlinewidth": 0,
              "ticks": ""
             }
            },
            "type": "scatterternary"
           }
          ],
          "surface": [
           {
            "colorbar": {
             "outlinewidth": 0,
             "ticks": ""
            },
            "colorscale": [
             [
              0,
              "#0d0887"
             ],
             [
              0.1111111111111111,
              "#46039f"
             ],
             [
              0.2222222222222222,
              "#7201a8"
             ],
             [
              0.3333333333333333,
              "#9c179e"
             ],
             [
              0.4444444444444444,
              "#bd3786"
             ],
             [
              0.5555555555555556,
              "#d8576b"
             ],
             [
              0.6666666666666666,
              "#ed7953"
             ],
             [
              0.7777777777777778,
              "#fb9f3a"
             ],
             [
              0.8888888888888888,
              "#fdca26"
             ],
             [
              1,
              "#f0f921"
             ]
            ],
            "type": "surface"
           }
          ],
          "table": [
           {
            "cells": {
             "fill": {
              "color": "#EBF0F8"
             },
             "line": {
              "color": "white"
             }
            },
            "header": {
             "fill": {
              "color": "#C8D4E3"
             },
             "line": {
              "color": "white"
             }
            },
            "type": "table"
           }
          ]
         },
         "layout": {
          "annotationdefaults": {
           "arrowcolor": "#2a3f5f",
           "arrowhead": 0,
           "arrowwidth": 1
          },
          "autotypenumbers": "strict",
          "coloraxis": {
           "colorbar": {
            "outlinewidth": 0,
            "ticks": ""
           }
          },
          "colorscale": {
           "diverging": [
            [
             0,
             "#8e0152"
            ],
            [
             0.1,
             "#c51b7d"
            ],
            [
             0.2,
             "#de77ae"
            ],
            [
             0.3,
             "#f1b6da"
            ],
            [
             0.4,
             "#fde0ef"
            ],
            [
             0.5,
             "#f7f7f7"
            ],
            [
             0.6,
             "#e6f5d0"
            ],
            [
             0.7,
             "#b8e186"
            ],
            [
             0.8,
             "#7fbc41"
            ],
            [
             0.9,
             "#4d9221"
            ],
            [
             1,
             "#276419"
            ]
           ],
           "sequential": [
            [
             0,
             "#0d0887"
            ],
            [
             0.1111111111111111,
             "#46039f"
            ],
            [
             0.2222222222222222,
             "#7201a8"
            ],
            [
             0.3333333333333333,
             "#9c179e"
            ],
            [
             0.4444444444444444,
             "#bd3786"
            ],
            [
             0.5555555555555556,
             "#d8576b"
            ],
            [
             0.6666666666666666,
             "#ed7953"
            ],
            [
             0.7777777777777778,
             "#fb9f3a"
            ],
            [
             0.8888888888888888,
             "#fdca26"
            ],
            [
             1,
             "#f0f921"
            ]
           ],
           "sequentialminus": [
            [
             0,
             "#0d0887"
            ],
            [
             0.1111111111111111,
             "#46039f"
            ],
            [
             0.2222222222222222,
             "#7201a8"
            ],
            [
             0.3333333333333333,
             "#9c179e"
            ],
            [
             0.4444444444444444,
             "#bd3786"
            ],
            [
             0.5555555555555556,
             "#d8576b"
            ],
            [
             0.6666666666666666,
             "#ed7953"
            ],
            [
             0.7777777777777778,
             "#fb9f3a"
            ],
            [
             0.8888888888888888,
             "#fdca26"
            ],
            [
             1,
             "#f0f921"
            ]
           ]
          },
          "colorway": [
           "#636efa",
           "#EF553B",
           "#00cc96",
           "#ab63fa",
           "#FFA15A",
           "#19d3f3",
           "#FF6692",
           "#B6E880",
           "#FF97FF",
           "#FECB52"
          ],
          "font": {
           "color": "#2a3f5f"
          },
          "geo": {
           "bgcolor": "white",
           "lakecolor": "white",
           "landcolor": "#E5ECF6",
           "showlakes": true,
           "showland": true,
           "subunitcolor": "white"
          },
          "hoverlabel": {
           "align": "left"
          },
          "hovermode": "closest",
          "mapbox": {
           "style": "light"
          },
          "paper_bgcolor": "white",
          "plot_bgcolor": "#E5ECF6",
          "polar": {
           "angularaxis": {
            "gridcolor": "white",
            "linecolor": "white",
            "ticks": ""
           },
           "bgcolor": "#E5ECF6",
           "radialaxis": {
            "gridcolor": "white",
            "linecolor": "white",
            "ticks": ""
           }
          },
          "scene": {
           "xaxis": {
            "backgroundcolor": "#E5ECF6",
            "gridcolor": "white",
            "gridwidth": 2,
            "linecolor": "white",
            "showbackground": true,
            "ticks": "",
            "zerolinecolor": "white"
           },
           "yaxis": {
            "backgroundcolor": "#E5ECF6",
            "gridcolor": "white",
            "gridwidth": 2,
            "linecolor": "white",
            "showbackground": true,
            "ticks": "",
            "zerolinecolor": "white"
           },
           "zaxis": {
            "backgroundcolor": "#E5ECF6",
            "gridcolor": "white",
            "gridwidth": 2,
            "linecolor": "white",
            "showbackground": true,
            "ticks": "",
            "zerolinecolor": "white"
           }
          },
          "shapedefaults": {
           "line": {
            "color": "#2a3f5f"
           }
          },
          "ternary": {
           "aaxis": {
            "gridcolor": "white",
            "linecolor": "white",
            "ticks": ""
           },
           "baxis": {
            "gridcolor": "white",
            "linecolor": "white",
            "ticks": ""
           },
           "bgcolor": "#E5ECF6",
           "caxis": {
            "gridcolor": "white",
            "linecolor": "white",
            "ticks": ""
           }
          },
          "title": {
           "x": 0.05
          },
          "xaxis": {
           "automargin": true,
           "gridcolor": "white",
           "linecolor": "white",
           "ticks": "",
           "title": {
            "standoff": 15
           },
           "zerolinecolor": "white",
           "zerolinewidth": 2
          },
          "yaxis": {
           "automargin": true,
           "gridcolor": "white",
           "linecolor": "white",
           "ticks": "",
           "title": {
            "standoff": 15
           },
           "zerolinecolor": "white",
           "zerolinewidth": 2
          }
         }
        },
        "title": {
         "font": {
          "color": "#4D5663"
         },
         "text": "Topic 1: Top 100 words after removing stop words"
        },
        "xaxis": {
         "gridcolor": "#E1E5ED",
         "linecolor": "black",
         "showgrid": true,
         "tickfont": {
          "color": "#4D5663"
         },
         "title": {
          "font": {
           "color": "#4D5663"
          },
          "text": ""
         },
         "zerolinecolor": "#E1E5ED"
        },
        "yaxis": {
         "gridcolor": "#E1E5ED",
         "linecolor": "black",
         "showgrid": true,
         "tickfont": {
          "color": "#4D5663"
         },
         "title": {
          "font": {
           "color": "#4D5663"
          },
          "text": "Count"
         },
         "zerolinecolor": "#E1E5ED"
        }
       }
      },
      "text/html": [
       "<div>                            <div id=\"fd885c4c-caca-4569-82a1-2e0b0617b902\" class=\"plotly-graph-div\" style=\"height:525px; width:100%;\"></div>            <script type=\"text/javascript\">                require([\"plotly\"], function(Plotly) {                    window.PLOTLYENV=window.PLOTLYENV || {};\n",
       "                    window.PLOTLYENV.BASE_URL='https://plot.ly';                                    if (document.getElementById(\"fd885c4c-caca-4569-82a1-2e0b0617b902\")) {                    Plotly.newPlot(                        \"fd885c4c-caca-4569-82a1-2e0b0617b902\",                        [{\"marker\":{\"color\":\"rgba(255, 153, 51, 0.6)\",\"line\":{\"color\":\"rgba(255, 153, 51, 1.0)\",\"width\":1}},\"name\":\"count\",\"orientation\":\"v\",\"text\":\"\",\"x\":[\"work\",\"use\",\"community\",\"well\",\"increase\",\"home\",\"family\",\"good\",\"store\",\"product\",\"need\",\"live\",\"help\",\"order\",\"husband\",\"customer\",\"start\",\"new\",\"computer\",\"small\",\"improve\",\"request\",\"open\",\"expand\",\"marry\",\"group\",\"service\",\"repay\",\"get\",\"plan\",\"son\",\"mother\",\"grow\",\"currently\",\"capital\",\"time\",\"hard\",\"quality\",\"activity\",\"support\",\"hope\",\"ago\",\"shop\",\"second\",\"give\",\"go\",\"fee\",\"education\",\"begin\",\"would\",\"offer\",\"repair\",\"run\",\"pay\",\"take\",\"want\",\"money\",\"due\",\"cereal\",\"area\",\"attend\",\"client\",\"fruit\",\"keep\",\"challenge\",\"high\",\"stock\",\"month\",\"serve\",\"shoe\",\"daily\",\"know\",\"vegetable\",\"maintain\",\"translated_spanish\",\"care\",\"thank\",\"call\",\"supply\",\"style\",\"brick\",\"bear\",\"operate\",\"dream\",\"restaurant\",\"phone\",\"place\",\"local\",\"price\",\"large\",\"job\",\"goal\",\"single\",\"sale\",\"save\",\"say\",\"first\",\"set\",\"entrepreneur\",\"would_like\"],\"y\":[37,32,31,29,28,26,26,23,23,23,22,22,20,19,19,19,19,19,18,17,16,16,16,16,15,15,15,14,14,14,14,13,13,12,12,12,12,12,12,11,11,11,11,11,10,10,10,10,10,10,10,9,9,9,9,9,9,9,9,9,9,9,9,9,9,9,8,8,8,8,8,8,8,8,8,7,7,7,7,7,7,7,7,7,7,7,7,7,7,7,7,7,7,7,7,7,7,7,7,7],\"type\":\"bar\"}],                        {\"legend\":{\"bgcolor\":\"#F5F6F9\",\"font\":{\"color\":\"#4D5663\"}},\"paper_bgcolor\":\"#F5F6F9\",\"plot_bgcolor\":\"#F5F6F9\",\"template\":{\"data\":{\"barpolar\":[{\"marker\":{\"line\":{\"color\":\"#E5ECF6\",\"width\":0.5},\"pattern\":{\"fillmode\":\"overlay\",\"size\":10,\"solidity\":0.2}},\"type\":\"barpolar\"}],\"bar\":[{\"error_x\":{\"color\":\"#2a3f5f\"},\"error_y\":{\"color\":\"#2a3f5f\"},\"marker\":{\"line\":{\"color\":\"#E5ECF6\",\"width\":0.5},\"pattern\":{\"fillmode\":\"overlay\",\"size\":10,\"solidity\":0.2}},\"type\":\"bar\"}],\"carpet\":[{\"aaxis\":{\"endlinecolor\":\"#2a3f5f\",\"gridcolor\":\"white\",\"linecolor\":\"white\",\"minorgridcolor\":\"white\",\"startlinecolor\":\"#2a3f5f\"},\"baxis\":{\"endlinecolor\":\"#2a3f5f\",\"gridcolor\":\"white\",\"linecolor\":\"white\",\"minorgridcolor\":\"white\",\"startlinecolor\":\"#2a3f5f\"},\"type\":\"carpet\"}],\"choropleth\":[{\"colorbar\":{\"outlinewidth\":0,\"ticks\":\"\"},\"type\":\"choropleth\"}],\"contourcarpet\":[{\"colorbar\":{\"outlinewidth\":0,\"ticks\":\"\"},\"type\":\"contourcarpet\"}],\"contour\":[{\"colorbar\":{\"outlinewidth\":0,\"ticks\":\"\"},\"colorscale\":[[0.0,\"#0d0887\"],[0.1111111111111111,\"#46039f\"],[0.2222222222222222,\"#7201a8\"],[0.3333333333333333,\"#9c179e\"],[0.4444444444444444,\"#bd3786\"],[0.5555555555555556,\"#d8576b\"],[0.6666666666666666,\"#ed7953\"],[0.7777777777777778,\"#fb9f3a\"],[0.8888888888888888,\"#fdca26\"],[1.0,\"#f0f921\"]],\"type\":\"contour\"}],\"heatmapgl\":[{\"colorbar\":{\"outlinewidth\":0,\"ticks\":\"\"},\"colorscale\":[[0.0,\"#0d0887\"],[0.1111111111111111,\"#46039f\"],[0.2222222222222222,\"#7201a8\"],[0.3333333333333333,\"#9c179e\"],[0.4444444444444444,\"#bd3786\"],[0.5555555555555556,\"#d8576b\"],[0.6666666666666666,\"#ed7953\"],[0.7777777777777778,\"#fb9f3a\"],[0.8888888888888888,\"#fdca26\"],[1.0,\"#f0f921\"]],\"type\":\"heatmapgl\"}],\"heatmap\":[{\"colorbar\":{\"outlinewidth\":0,\"ticks\":\"\"},\"colorscale\":[[0.0,\"#0d0887\"],[0.1111111111111111,\"#46039f\"],[0.2222222222222222,\"#7201a8\"],[0.3333333333333333,\"#9c179e\"],[0.4444444444444444,\"#bd3786\"],[0.5555555555555556,\"#d8576b\"],[0.6666666666666666,\"#ed7953\"],[0.7777777777777778,\"#fb9f3a\"],[0.8888888888888888,\"#fdca26\"],[1.0,\"#f0f921\"]],\"type\":\"heatmap\"}],\"histogram2dcontour\":[{\"colorbar\":{\"outlinewidth\":0,\"ticks\":\"\"},\"colorscale\":[[0.0,\"#0d0887\"],[0.1111111111111111,\"#46039f\"],[0.2222222222222222,\"#7201a8\"],[0.3333333333333333,\"#9c179e\"],[0.4444444444444444,\"#bd3786\"],[0.5555555555555556,\"#d8576b\"],[0.6666666666666666,\"#ed7953\"],[0.7777777777777778,\"#fb9f3a\"],[0.8888888888888888,\"#fdca26\"],[1.0,\"#f0f921\"]],\"type\":\"histogram2dcontour\"}],\"histogram2d\":[{\"colorbar\":{\"outlinewidth\":0,\"ticks\":\"\"},\"colorscale\":[[0.0,\"#0d0887\"],[0.1111111111111111,\"#46039f\"],[0.2222222222222222,\"#7201a8\"],[0.3333333333333333,\"#9c179e\"],[0.4444444444444444,\"#bd3786\"],[0.5555555555555556,\"#d8576b\"],[0.6666666666666666,\"#ed7953\"],[0.7777777777777778,\"#fb9f3a\"],[0.8888888888888888,\"#fdca26\"],[1.0,\"#f0f921\"]],\"type\":\"histogram2d\"}],\"histogram\":[{\"marker\":{\"pattern\":{\"fillmode\":\"overlay\",\"size\":10,\"solidity\":0.2}},\"type\":\"histogram\"}],\"mesh3d\":[{\"colorbar\":{\"outlinewidth\":0,\"ticks\":\"\"},\"type\":\"mesh3d\"}],\"parcoords\":[{\"line\":{\"colorbar\":{\"outlinewidth\":0,\"ticks\":\"\"}},\"type\":\"parcoords\"}],\"pie\":[{\"automargin\":true,\"type\":\"pie\"}],\"scatter3d\":[{\"line\":{\"colorbar\":{\"outlinewidth\":0,\"ticks\":\"\"}},\"marker\":{\"colorbar\":{\"outlinewidth\":0,\"ticks\":\"\"}},\"type\":\"scatter3d\"}],\"scattercarpet\":[{\"marker\":{\"colorbar\":{\"outlinewidth\":0,\"ticks\":\"\"}},\"type\":\"scattercarpet\"}],\"scattergeo\":[{\"marker\":{\"colorbar\":{\"outlinewidth\":0,\"ticks\":\"\"}},\"type\":\"scattergeo\"}],\"scattergl\":[{\"marker\":{\"colorbar\":{\"outlinewidth\":0,\"ticks\":\"\"}},\"type\":\"scattergl\"}],\"scattermapbox\":[{\"marker\":{\"colorbar\":{\"outlinewidth\":0,\"ticks\":\"\"}},\"type\":\"scattermapbox\"}],\"scatterpolargl\":[{\"marker\":{\"colorbar\":{\"outlinewidth\":0,\"ticks\":\"\"}},\"type\":\"scatterpolargl\"}],\"scatterpolar\":[{\"marker\":{\"colorbar\":{\"outlinewidth\":0,\"ticks\":\"\"}},\"type\":\"scatterpolar\"}],\"scatter\":[{\"fillpattern\":{\"fillmode\":\"overlay\",\"size\":10,\"solidity\":0.2},\"type\":\"scatter\"}],\"scatterternary\":[{\"marker\":{\"colorbar\":{\"outlinewidth\":0,\"ticks\":\"\"}},\"type\":\"scatterternary\"}],\"surface\":[{\"colorbar\":{\"outlinewidth\":0,\"ticks\":\"\"},\"colorscale\":[[0.0,\"#0d0887\"],[0.1111111111111111,\"#46039f\"],[0.2222222222222222,\"#7201a8\"],[0.3333333333333333,\"#9c179e\"],[0.4444444444444444,\"#bd3786\"],[0.5555555555555556,\"#d8576b\"],[0.6666666666666666,\"#ed7953\"],[0.7777777777777778,\"#fb9f3a\"],[0.8888888888888888,\"#fdca26\"],[1.0,\"#f0f921\"]],\"type\":\"surface\"}],\"table\":[{\"cells\":{\"fill\":{\"color\":\"#EBF0F8\"},\"line\":{\"color\":\"white\"}},\"header\":{\"fill\":{\"color\":\"#C8D4E3\"},\"line\":{\"color\":\"white\"}},\"type\":\"table\"}]},\"layout\":{\"annotationdefaults\":{\"arrowcolor\":\"#2a3f5f\",\"arrowhead\":0,\"arrowwidth\":1},\"autotypenumbers\":\"strict\",\"coloraxis\":{\"colorbar\":{\"outlinewidth\":0,\"ticks\":\"\"}},\"colorscale\":{\"diverging\":[[0,\"#8e0152\"],[0.1,\"#c51b7d\"],[0.2,\"#de77ae\"],[0.3,\"#f1b6da\"],[0.4,\"#fde0ef\"],[0.5,\"#f7f7f7\"],[0.6,\"#e6f5d0\"],[0.7,\"#b8e186\"],[0.8,\"#7fbc41\"],[0.9,\"#4d9221\"],[1,\"#276419\"]],\"sequential\":[[0.0,\"#0d0887\"],[0.1111111111111111,\"#46039f\"],[0.2222222222222222,\"#7201a8\"],[0.3333333333333333,\"#9c179e\"],[0.4444444444444444,\"#bd3786\"],[0.5555555555555556,\"#d8576b\"],[0.6666666666666666,\"#ed7953\"],[0.7777777777777778,\"#fb9f3a\"],[0.8888888888888888,\"#fdca26\"],[1.0,\"#f0f921\"]],\"sequentialminus\":[[0.0,\"#0d0887\"],[0.1111111111111111,\"#46039f\"],[0.2222222222222222,\"#7201a8\"],[0.3333333333333333,\"#9c179e\"],[0.4444444444444444,\"#bd3786\"],[0.5555555555555556,\"#d8576b\"],[0.6666666666666666,\"#ed7953\"],[0.7777777777777778,\"#fb9f3a\"],[0.8888888888888888,\"#fdca26\"],[1.0,\"#f0f921\"]]},\"colorway\":[\"#636efa\",\"#EF553B\",\"#00cc96\",\"#ab63fa\",\"#FFA15A\",\"#19d3f3\",\"#FF6692\",\"#B6E880\",\"#FF97FF\",\"#FECB52\"],\"font\":{\"color\":\"#2a3f5f\"},\"geo\":{\"bgcolor\":\"white\",\"lakecolor\":\"white\",\"landcolor\":\"#E5ECF6\",\"showlakes\":true,\"showland\":true,\"subunitcolor\":\"white\"},\"hoverlabel\":{\"align\":\"left\"},\"hovermode\":\"closest\",\"mapbox\":{\"style\":\"light\"},\"paper_bgcolor\":\"white\",\"plot_bgcolor\":\"#E5ECF6\",\"polar\":{\"angularaxis\":{\"gridcolor\":\"white\",\"linecolor\":\"white\",\"ticks\":\"\"},\"bgcolor\":\"#E5ECF6\",\"radialaxis\":{\"gridcolor\":\"white\",\"linecolor\":\"white\",\"ticks\":\"\"}},\"scene\":{\"xaxis\":{\"backgroundcolor\":\"#E5ECF6\",\"gridcolor\":\"white\",\"gridwidth\":2,\"linecolor\":\"white\",\"showbackground\":true,\"ticks\":\"\",\"zerolinecolor\":\"white\"},\"yaxis\":{\"backgroundcolor\":\"#E5ECF6\",\"gridcolor\":\"white\",\"gridwidth\":2,\"linecolor\":\"white\",\"showbackground\":true,\"ticks\":\"\",\"zerolinecolor\":\"white\"},\"zaxis\":{\"backgroundcolor\":\"#E5ECF6\",\"gridcolor\":\"white\",\"gridwidth\":2,\"linecolor\":\"white\",\"showbackground\":true,\"ticks\":\"\",\"zerolinecolor\":\"white\"}},\"shapedefaults\":{\"line\":{\"color\":\"#2a3f5f\"}},\"ternary\":{\"aaxis\":{\"gridcolor\":\"white\",\"linecolor\":\"white\",\"ticks\":\"\"},\"baxis\":{\"gridcolor\":\"white\",\"linecolor\":\"white\",\"ticks\":\"\"},\"bgcolor\":\"#E5ECF6\",\"caxis\":{\"gridcolor\":\"white\",\"linecolor\":\"white\",\"ticks\":\"\"}},\"title\":{\"x\":0.05},\"xaxis\":{\"automargin\":true,\"gridcolor\":\"white\",\"linecolor\":\"white\",\"ticks\":\"\",\"title\":{\"standoff\":15},\"zerolinecolor\":\"white\",\"zerolinewidth\":2},\"yaxis\":{\"automargin\":true,\"gridcolor\":\"white\",\"linecolor\":\"white\",\"ticks\":\"\",\"title\":{\"standoff\":15},\"zerolinecolor\":\"white\",\"zerolinewidth\":2}}},\"title\":{\"font\":{\"color\":\"#4D5663\"},\"text\":\"Topic 1: Top 100 words after removing stop words\"},\"xaxis\":{\"gridcolor\":\"#E1E5ED\",\"linecolor\":\"black\",\"showgrid\":true,\"tickfont\":{\"color\":\"#4D5663\"},\"title\":{\"font\":{\"color\":\"#4D5663\"},\"text\":\"\"},\"zerolinecolor\":\"#E1E5ED\"},\"yaxis\":{\"gridcolor\":\"#E1E5ED\",\"linecolor\":\"black\",\"showgrid\":true,\"tickfont\":{\"color\":\"#4D5663\"},\"title\":{\"font\":{\"color\":\"#4D5663\"},\"text\":\"Count\"},\"zerolinecolor\":\"#E1E5ED\"}},                        {\"showLink\": true, \"linkText\": \"Export to plot.ly\", \"plotlyServerURL\": \"https://plot.ly\", \"responsive\": true}                    ).then(function(){\n",
       "                            \n",
       "var gd = document.getElementById('fd885c4c-caca-4569-82a1-2e0b0617b902');\n",
       "var x = new MutationObserver(function (mutations, observer) {{\n",
       "        var display = window.getComputedStyle(gd).display;\n",
       "        if (!display || display === 'none') {{\n",
       "            console.log([gd, 'removed!']);\n",
       "            Plotly.purge(gd);\n",
       "            observer.disconnect();\n",
       "        }}\n",
       "}});\n",
       "\n",
       "// Listen for the removal of the full notebook cells\n",
       "var notebookContainer = gd.closest('#notebook-container');\n",
       "if (notebookContainer) {{\n",
       "    x.observe(notebookContainer, {childList: true});\n",
       "}}\n",
       "\n",
       "// Listen for the clearing of the current output cell\n",
       "var outputEl = gd.closest('.output');\n",
       "if (outputEl) {{\n",
       "    x.observe(outputEl, {childList: true});\n",
       "}}\n",
       "\n",
       "                        })                };                });            </script>        </div>"
      ]
     },
     "metadata": {},
     "output_type": "display_data"
    }
   ],
   "source": [
    "plot_model(lda, plot = 'frequency', topic_num = 'Topic 1')"
   ]
  },
  {
   "cell_type": "code",
   "execution_count": 25,
   "id": "7bb2e0d1",
   "metadata": {},
   "outputs": [
    {
     "data": {
      "text/html": [
       "        <script type=\"text/javascript\">\n",
       "        window.PlotlyConfig = {MathJaxConfig: 'local'};\n",
       "        if (window.MathJax) {MathJax.Hub.Config({SVG: {font: \"STIX-Web\"}});}\n",
       "        if (typeof require !== 'undefined') {\n",
       "        require.undef(\"plotly\");\n",
       "        requirejs.config({\n",
       "            paths: {\n",
       "                'plotly': ['https://cdn.plot.ly/plotly-2.11.1.min']\n",
       "            }\n",
       "        });\n",
       "        require(['plotly'], function(Plotly) {\n",
       "            window._Plotly = Plotly;\n",
       "        });\n",
       "        }\n",
       "        </script>\n",
       "        "
      ]
     },
     "metadata": {},
     "output_type": "display_data"
    },
    {
     "data": {
      "application/vnd.plotly.v1+json": {
       "config": {
        "plotlyServerURL": "https://plot.ly"
       },
       "data": [
        {
         "alignmentgroup": "True",
         "customdata": [
          [
           "work, group, top, small, family, certain, medical, rinse, talente, start"
          ],
          [
           "move, work, raise, dissapoint, necessary, wathenge, fare, increase, disease, unpaid"
          ],
          [
           "jacinto, faith, continune, decorate, apply, trinitario, filled, till, reinforce, nairobi"
          ],
          [
           "intensify, healthcare, boiler, lowland, dry, chic, background, main_economic_activity, embu, package"
          ]
         ],
         "hovertemplate": "Topic=%{x}<br>Documents=%{y}<br>Keyword=%{customdata[0]}<extra></extra>",
         "legendgroup": "",
         "marker": {
          "color": "#636efa",
          "pattern": {
           "shape": ""
          }
         },
         "name": "",
         "offsetgroup": "",
         "orientation": "v",
         "showlegend": false,
         "textposition": "auto",
         "type": "bar",
         "x": [
          "Topic 0",
          "Topic 1",
          "Topic 2",
          "Topic 3"
         ],
         "xaxis": "x",
         "y": [
          872,
          70,
          56,
          2
         ],
         "yaxis": "y"
        }
       ],
       "layout": {
        "barmode": "relative",
        "legend": {
         "tracegroupgap": 0
        },
        "template": {
         "data": {
          "bar": [
           {
            "error_x": {
             "color": "#2a3f5f"
            },
            "error_y": {
             "color": "#2a3f5f"
            },
            "marker": {
             "line": {
              "color": "#E5ECF6",
              "width": 0.5
             },
             "pattern": {
              "fillmode": "overlay",
              "size": 10,
              "solidity": 0.2
             }
            },
            "type": "bar"
           }
          ],
          "barpolar": [
           {
            "marker": {
             "line": {
              "color": "#E5ECF6",
              "width": 0.5
             },
             "pattern": {
              "fillmode": "overlay",
              "size": 10,
              "solidity": 0.2
             }
            },
            "type": "barpolar"
           }
          ],
          "carpet": [
           {
            "aaxis": {
             "endlinecolor": "#2a3f5f",
             "gridcolor": "white",
             "linecolor": "white",
             "minorgridcolor": "white",
             "startlinecolor": "#2a3f5f"
            },
            "baxis": {
             "endlinecolor": "#2a3f5f",
             "gridcolor": "white",
             "linecolor": "white",
             "minorgridcolor": "white",
             "startlinecolor": "#2a3f5f"
            },
            "type": "carpet"
           }
          ],
          "choropleth": [
           {
            "colorbar": {
             "outlinewidth": 0,
             "ticks": ""
            },
            "type": "choropleth"
           }
          ],
          "contour": [
           {
            "colorbar": {
             "outlinewidth": 0,
             "ticks": ""
            },
            "colorscale": [
             [
              0,
              "#0d0887"
             ],
             [
              0.1111111111111111,
              "#46039f"
             ],
             [
              0.2222222222222222,
              "#7201a8"
             ],
             [
              0.3333333333333333,
              "#9c179e"
             ],
             [
              0.4444444444444444,
              "#bd3786"
             ],
             [
              0.5555555555555556,
              "#d8576b"
             ],
             [
              0.6666666666666666,
              "#ed7953"
             ],
             [
              0.7777777777777778,
              "#fb9f3a"
             ],
             [
              0.8888888888888888,
              "#fdca26"
             ],
             [
              1,
              "#f0f921"
             ]
            ],
            "type": "contour"
           }
          ],
          "contourcarpet": [
           {
            "colorbar": {
             "outlinewidth": 0,
             "ticks": ""
            },
            "type": "contourcarpet"
           }
          ],
          "heatmap": [
           {
            "colorbar": {
             "outlinewidth": 0,
             "ticks": ""
            },
            "colorscale": [
             [
              0,
              "#0d0887"
             ],
             [
              0.1111111111111111,
              "#46039f"
             ],
             [
              0.2222222222222222,
              "#7201a8"
             ],
             [
              0.3333333333333333,
              "#9c179e"
             ],
             [
              0.4444444444444444,
              "#bd3786"
             ],
             [
              0.5555555555555556,
              "#d8576b"
             ],
             [
              0.6666666666666666,
              "#ed7953"
             ],
             [
              0.7777777777777778,
              "#fb9f3a"
             ],
             [
              0.8888888888888888,
              "#fdca26"
             ],
             [
              1,
              "#f0f921"
             ]
            ],
            "type": "heatmap"
           }
          ],
          "heatmapgl": [
           {
            "colorbar": {
             "outlinewidth": 0,
             "ticks": ""
            },
            "colorscale": [
             [
              0,
              "#0d0887"
             ],
             [
              0.1111111111111111,
              "#46039f"
             ],
             [
              0.2222222222222222,
              "#7201a8"
             ],
             [
              0.3333333333333333,
              "#9c179e"
             ],
             [
              0.4444444444444444,
              "#bd3786"
             ],
             [
              0.5555555555555556,
              "#d8576b"
             ],
             [
              0.6666666666666666,
              "#ed7953"
             ],
             [
              0.7777777777777778,
              "#fb9f3a"
             ],
             [
              0.8888888888888888,
              "#fdca26"
             ],
             [
              1,
              "#f0f921"
             ]
            ],
            "type": "heatmapgl"
           }
          ],
          "histogram": [
           {
            "marker": {
             "pattern": {
              "fillmode": "overlay",
              "size": 10,
              "solidity": 0.2
             }
            },
            "type": "histogram"
           }
          ],
          "histogram2d": [
           {
            "colorbar": {
             "outlinewidth": 0,
             "ticks": ""
            },
            "colorscale": [
             [
              0,
              "#0d0887"
             ],
             [
              0.1111111111111111,
              "#46039f"
             ],
             [
              0.2222222222222222,
              "#7201a8"
             ],
             [
              0.3333333333333333,
              "#9c179e"
             ],
             [
              0.4444444444444444,
              "#bd3786"
             ],
             [
              0.5555555555555556,
              "#d8576b"
             ],
             [
              0.6666666666666666,
              "#ed7953"
             ],
             [
              0.7777777777777778,
              "#fb9f3a"
             ],
             [
              0.8888888888888888,
              "#fdca26"
             ],
             [
              1,
              "#f0f921"
             ]
            ],
            "type": "histogram2d"
           }
          ],
          "histogram2dcontour": [
           {
            "colorbar": {
             "outlinewidth": 0,
             "ticks": ""
            },
            "colorscale": [
             [
              0,
              "#0d0887"
             ],
             [
              0.1111111111111111,
              "#46039f"
             ],
             [
              0.2222222222222222,
              "#7201a8"
             ],
             [
              0.3333333333333333,
              "#9c179e"
             ],
             [
              0.4444444444444444,
              "#bd3786"
             ],
             [
              0.5555555555555556,
              "#d8576b"
             ],
             [
              0.6666666666666666,
              "#ed7953"
             ],
             [
              0.7777777777777778,
              "#fb9f3a"
             ],
             [
              0.8888888888888888,
              "#fdca26"
             ],
             [
              1,
              "#f0f921"
             ]
            ],
            "type": "histogram2dcontour"
           }
          ],
          "mesh3d": [
           {
            "colorbar": {
             "outlinewidth": 0,
             "ticks": ""
            },
            "type": "mesh3d"
           }
          ],
          "parcoords": [
           {
            "line": {
             "colorbar": {
              "outlinewidth": 0,
              "ticks": ""
             }
            },
            "type": "parcoords"
           }
          ],
          "pie": [
           {
            "automargin": true,
            "type": "pie"
           }
          ],
          "scatter": [
           {
            "fillpattern": {
             "fillmode": "overlay",
             "size": 10,
             "solidity": 0.2
            },
            "type": "scatter"
           }
          ],
          "scatter3d": [
           {
            "line": {
             "colorbar": {
              "outlinewidth": 0,
              "ticks": ""
             }
            },
            "marker": {
             "colorbar": {
              "outlinewidth": 0,
              "ticks": ""
             }
            },
            "type": "scatter3d"
           }
          ],
          "scattercarpet": [
           {
            "marker": {
             "colorbar": {
              "outlinewidth": 0,
              "ticks": ""
             }
            },
            "type": "scattercarpet"
           }
          ],
          "scattergeo": [
           {
            "marker": {
             "colorbar": {
              "outlinewidth": 0,
              "ticks": ""
             }
            },
            "type": "scattergeo"
           }
          ],
          "scattergl": [
           {
            "marker": {
             "colorbar": {
              "outlinewidth": 0,
              "ticks": ""
             }
            },
            "type": "scattergl"
           }
          ],
          "scattermapbox": [
           {
            "marker": {
             "colorbar": {
              "outlinewidth": 0,
              "ticks": ""
             }
            },
            "type": "scattermapbox"
           }
          ],
          "scatterpolar": [
           {
            "marker": {
             "colorbar": {
              "outlinewidth": 0,
              "ticks": ""
             }
            },
            "type": "scatterpolar"
           }
          ],
          "scatterpolargl": [
           {
            "marker": {
             "colorbar": {
              "outlinewidth": 0,
              "ticks": ""
             }
            },
            "type": "scatterpolargl"
           }
          ],
          "scatterternary": [
           {
            "marker": {
             "colorbar": {
              "outlinewidth": 0,
              "ticks": ""
             }
            },
            "type": "scatterternary"
           }
          ],
          "surface": [
           {
            "colorbar": {
             "outlinewidth": 0,
             "ticks": ""
            },
            "colorscale": [
             [
              0,
              "#0d0887"
             ],
             [
              0.1111111111111111,
              "#46039f"
             ],
             [
              0.2222222222222222,
              "#7201a8"
             ],
             [
              0.3333333333333333,
              "#9c179e"
             ],
             [
              0.4444444444444444,
              "#bd3786"
             ],
             [
              0.5555555555555556,
              "#d8576b"
             ],
             [
              0.6666666666666666,
              "#ed7953"
             ],
             [
              0.7777777777777778,
              "#fb9f3a"
             ],
             [
              0.8888888888888888,
              "#fdca26"
             ],
             [
              1,
              "#f0f921"
             ]
            ],
            "type": "surface"
           }
          ],
          "table": [
           {
            "cells": {
             "fill": {
              "color": "#EBF0F8"
             },
             "line": {
              "color": "white"
             }
            },
            "header": {
             "fill": {
              "color": "#C8D4E3"
             },
             "line": {
              "color": "white"
             }
            },
            "type": "table"
           }
          ]
         },
         "layout": {
          "annotationdefaults": {
           "arrowcolor": "#2a3f5f",
           "arrowhead": 0,
           "arrowwidth": 1
          },
          "autotypenumbers": "strict",
          "coloraxis": {
           "colorbar": {
            "outlinewidth": 0,
            "ticks": ""
           }
          },
          "colorscale": {
           "diverging": [
            [
             0,
             "#8e0152"
            ],
            [
             0.1,
             "#c51b7d"
            ],
            [
             0.2,
             "#de77ae"
            ],
            [
             0.3,
             "#f1b6da"
            ],
            [
             0.4,
             "#fde0ef"
            ],
            [
             0.5,
             "#f7f7f7"
            ],
            [
             0.6,
             "#e6f5d0"
            ],
            [
             0.7,
             "#b8e186"
            ],
            [
             0.8,
             "#7fbc41"
            ],
            [
             0.9,
             "#4d9221"
            ],
            [
             1,
             "#276419"
            ]
           ],
           "sequential": [
            [
             0,
             "#0d0887"
            ],
            [
             0.1111111111111111,
             "#46039f"
            ],
            [
             0.2222222222222222,
             "#7201a8"
            ],
            [
             0.3333333333333333,
             "#9c179e"
            ],
            [
             0.4444444444444444,
             "#bd3786"
            ],
            [
             0.5555555555555556,
             "#d8576b"
            ],
            [
             0.6666666666666666,
             "#ed7953"
            ],
            [
             0.7777777777777778,
             "#fb9f3a"
            ],
            [
             0.8888888888888888,
             "#fdca26"
            ],
            [
             1,
             "#f0f921"
            ]
           ],
           "sequentialminus": [
            [
             0,
             "#0d0887"
            ],
            [
             0.1111111111111111,
             "#46039f"
            ],
            [
             0.2222222222222222,
             "#7201a8"
            ],
            [
             0.3333333333333333,
             "#9c179e"
            ],
            [
             0.4444444444444444,
             "#bd3786"
            ],
            [
             0.5555555555555556,
             "#d8576b"
            ],
            [
             0.6666666666666666,
             "#ed7953"
            ],
            [
             0.7777777777777778,
             "#fb9f3a"
            ],
            [
             0.8888888888888888,
             "#fdca26"
            ],
            [
             1,
             "#f0f921"
            ]
           ]
          },
          "colorway": [
           "#636efa",
           "#EF553B",
           "#00cc96",
           "#ab63fa",
           "#FFA15A",
           "#19d3f3",
           "#FF6692",
           "#B6E880",
           "#FF97FF",
           "#FECB52"
          ],
          "font": {
           "color": "#2a3f5f"
          },
          "geo": {
           "bgcolor": "white",
           "lakecolor": "white",
           "landcolor": "#E5ECF6",
           "showlakes": true,
           "showland": true,
           "subunitcolor": "white"
          },
          "hoverlabel": {
           "align": "left"
          },
          "hovermode": "closest",
          "mapbox": {
           "style": "light"
          },
          "paper_bgcolor": "white",
          "plot_bgcolor": "#E5ECF6",
          "polar": {
           "angularaxis": {
            "gridcolor": "white",
            "linecolor": "white",
            "ticks": ""
           },
           "bgcolor": "#E5ECF6",
           "radialaxis": {
            "gridcolor": "white",
            "linecolor": "white",
            "ticks": ""
           }
          },
          "scene": {
           "xaxis": {
            "backgroundcolor": "#E5ECF6",
            "gridcolor": "white",
            "gridwidth": 2,
            "linecolor": "white",
            "showbackground": true,
            "ticks": "",
            "zerolinecolor": "white"
           },
           "yaxis": {
            "backgroundcolor": "#E5ECF6",
            "gridcolor": "white",
            "gridwidth": 2,
            "linecolor": "white",
            "showbackground": true,
            "ticks": "",
            "zerolinecolor": "white"
           },
           "zaxis": {
            "backgroundcolor": "#E5ECF6",
            "gridcolor": "white",
            "gridwidth": 2,
            "linecolor": "white",
            "showbackground": true,
            "ticks": "",
            "zerolinecolor": "white"
           }
          },
          "shapedefaults": {
           "line": {
            "color": "#2a3f5f"
           }
          },
          "ternary": {
           "aaxis": {
            "gridcolor": "white",
            "linecolor": "white",
            "ticks": ""
           },
           "baxis": {
            "gridcolor": "white",
            "linecolor": "white",
            "ticks": ""
           },
           "bgcolor": "#E5ECF6",
           "caxis": {
            "gridcolor": "white",
            "linecolor": "white",
            "ticks": ""
           }
          },
          "title": {
           "x": 0.05
          },
          "xaxis": {
           "automargin": true,
           "gridcolor": "white",
           "linecolor": "white",
           "ticks": "",
           "title": {
            "standoff": 15
           },
           "zerolinecolor": "white",
           "zerolinewidth": 2
          },
          "yaxis": {
           "automargin": true,
           "gridcolor": "white",
           "linecolor": "white",
           "ticks": "",
           "title": {
            "standoff": 15
           },
           "zerolinecolor": "white",
           "zerolinewidth": 2
          }
         }
        },
        "title": {
         "text": "Document Distribution by Topics"
        },
        "xaxis": {
         "anchor": "y",
         "domain": [
          0,
          1
         ],
         "title": {
          "text": "Topic"
         }
        },
        "yaxis": {
         "anchor": "x",
         "domain": [
          0,
          1
         ],
         "title": {
          "text": "Documents"
         }
        }
       }
      },
      "text/html": [
       "<div>                            <div id=\"7841bfe4-657f-433e-bb34-8d96d73fcfcf\" class=\"plotly-graph-div\" style=\"height:525px; width:100%;\"></div>            <script type=\"text/javascript\">                require([\"plotly\"], function(Plotly) {                    window.PLOTLYENV=window.PLOTLYENV || {};                                    if (document.getElementById(\"7841bfe4-657f-433e-bb34-8d96d73fcfcf\")) {                    Plotly.newPlot(                        \"7841bfe4-657f-433e-bb34-8d96d73fcfcf\",                        [{\"alignmentgroup\":\"True\",\"customdata\":[[\"work, group, top, small, family, certain, medical, rinse, talente, start\"],[\"move, work, raise, dissapoint, necessary, wathenge, fare, increase, disease, unpaid\"],[\"jacinto, faith, continune, decorate, apply, trinitario, filled, till, reinforce, nairobi\"],[\"intensify, healthcare, boiler, lowland, dry, chic, background, main_economic_activity, embu, package\"]],\"hovertemplate\":\"Topic=%{x}<br>Documents=%{y}<br>Keyword=%{customdata[0]}<extra></extra>\",\"legendgroup\":\"\",\"marker\":{\"color\":\"#636efa\",\"pattern\":{\"shape\":\"\"}},\"name\":\"\",\"offsetgroup\":\"\",\"orientation\":\"v\",\"showlegend\":false,\"textposition\":\"auto\",\"x\":[\"Topic 0\",\"Topic 1\",\"Topic 2\",\"Topic 3\"],\"xaxis\":\"x\",\"y\":[872,70,56,2],\"yaxis\":\"y\",\"type\":\"bar\"}],                        {\"template\":{\"data\":{\"histogram2dcontour\":[{\"type\":\"histogram2dcontour\",\"colorbar\":{\"outlinewidth\":0,\"ticks\":\"\"},\"colorscale\":[[0.0,\"#0d0887\"],[0.1111111111111111,\"#46039f\"],[0.2222222222222222,\"#7201a8\"],[0.3333333333333333,\"#9c179e\"],[0.4444444444444444,\"#bd3786\"],[0.5555555555555556,\"#d8576b\"],[0.6666666666666666,\"#ed7953\"],[0.7777777777777778,\"#fb9f3a\"],[0.8888888888888888,\"#fdca26\"],[1.0,\"#f0f921\"]]}],\"choropleth\":[{\"type\":\"choropleth\",\"colorbar\":{\"outlinewidth\":0,\"ticks\":\"\"}}],\"histogram2d\":[{\"type\":\"histogram2d\",\"colorbar\":{\"outlinewidth\":0,\"ticks\":\"\"},\"colorscale\":[[0.0,\"#0d0887\"],[0.1111111111111111,\"#46039f\"],[0.2222222222222222,\"#7201a8\"],[0.3333333333333333,\"#9c179e\"],[0.4444444444444444,\"#bd3786\"],[0.5555555555555556,\"#d8576b\"],[0.6666666666666666,\"#ed7953\"],[0.7777777777777778,\"#fb9f3a\"],[0.8888888888888888,\"#fdca26\"],[1.0,\"#f0f921\"]]}],\"heatmap\":[{\"type\":\"heatmap\",\"colorbar\":{\"outlinewidth\":0,\"ticks\":\"\"},\"colorscale\":[[0.0,\"#0d0887\"],[0.1111111111111111,\"#46039f\"],[0.2222222222222222,\"#7201a8\"],[0.3333333333333333,\"#9c179e\"],[0.4444444444444444,\"#bd3786\"],[0.5555555555555556,\"#d8576b\"],[0.6666666666666666,\"#ed7953\"],[0.7777777777777778,\"#fb9f3a\"],[0.8888888888888888,\"#fdca26\"],[1.0,\"#f0f921\"]]}],\"heatmapgl\":[{\"type\":\"heatmapgl\",\"colorbar\":{\"outlinewidth\":0,\"ticks\":\"\"},\"colorscale\":[[0.0,\"#0d0887\"],[0.1111111111111111,\"#46039f\"],[0.2222222222222222,\"#7201a8\"],[0.3333333333333333,\"#9c179e\"],[0.4444444444444444,\"#bd3786\"],[0.5555555555555556,\"#d8576b\"],[0.6666666666666666,\"#ed7953\"],[0.7777777777777778,\"#fb9f3a\"],[0.8888888888888888,\"#fdca26\"],[1.0,\"#f0f921\"]]}],\"contourcarpet\":[{\"type\":\"contourcarpet\",\"colorbar\":{\"outlinewidth\":0,\"ticks\":\"\"}}],\"contour\":[{\"type\":\"contour\",\"colorbar\":{\"outlinewidth\":0,\"ticks\":\"\"},\"colorscale\":[[0.0,\"#0d0887\"],[0.1111111111111111,\"#46039f\"],[0.2222222222222222,\"#7201a8\"],[0.3333333333333333,\"#9c179e\"],[0.4444444444444444,\"#bd3786\"],[0.5555555555555556,\"#d8576b\"],[0.6666666666666666,\"#ed7953\"],[0.7777777777777778,\"#fb9f3a\"],[0.8888888888888888,\"#fdca26\"],[1.0,\"#f0f921\"]]}],\"surface\":[{\"type\":\"surface\",\"colorbar\":{\"outlinewidth\":0,\"ticks\":\"\"},\"colorscale\":[[0.0,\"#0d0887\"],[0.1111111111111111,\"#46039f\"],[0.2222222222222222,\"#7201a8\"],[0.3333333333333333,\"#9c179e\"],[0.4444444444444444,\"#bd3786\"],[0.5555555555555556,\"#d8576b\"],[0.6666666666666666,\"#ed7953\"],[0.7777777777777778,\"#fb9f3a\"],[0.8888888888888888,\"#fdca26\"],[1.0,\"#f0f921\"]]}],\"mesh3d\":[{\"type\":\"mesh3d\",\"colorbar\":{\"outlinewidth\":0,\"ticks\":\"\"}}],\"scatter\":[{\"fillpattern\":{\"fillmode\":\"overlay\",\"size\":10,\"solidity\":0.2},\"type\":\"scatter\"}],\"parcoords\":[{\"type\":\"parcoords\",\"line\":{\"colorbar\":{\"outlinewidth\":0,\"ticks\":\"\"}}}],\"scatterpolargl\":[{\"type\":\"scatterpolargl\",\"marker\":{\"colorbar\":{\"outlinewidth\":0,\"ticks\":\"\"}}}],\"bar\":[{\"error_x\":{\"color\":\"#2a3f5f\"},\"error_y\":{\"color\":\"#2a3f5f\"},\"marker\":{\"line\":{\"color\":\"#E5ECF6\",\"width\":0.5},\"pattern\":{\"fillmode\":\"overlay\",\"size\":10,\"solidity\":0.2}},\"type\":\"bar\"}],\"scattergeo\":[{\"type\":\"scattergeo\",\"marker\":{\"colorbar\":{\"outlinewidth\":0,\"ticks\":\"\"}}}],\"scatterpolar\":[{\"type\":\"scatterpolar\",\"marker\":{\"colorbar\":{\"outlinewidth\":0,\"ticks\":\"\"}}}],\"histogram\":[{\"marker\":{\"pattern\":{\"fillmode\":\"overlay\",\"size\":10,\"solidity\":0.2}},\"type\":\"histogram\"}],\"scattergl\":[{\"type\":\"scattergl\",\"marker\":{\"colorbar\":{\"outlinewidth\":0,\"ticks\":\"\"}}}],\"scatter3d\":[{\"type\":\"scatter3d\",\"line\":{\"colorbar\":{\"outlinewidth\":0,\"ticks\":\"\"}},\"marker\":{\"colorbar\":{\"outlinewidth\":0,\"ticks\":\"\"}}}],\"scattermapbox\":[{\"type\":\"scattermapbox\",\"marker\":{\"colorbar\":{\"outlinewidth\":0,\"ticks\":\"\"}}}],\"scatterternary\":[{\"type\":\"scatterternary\",\"marker\":{\"colorbar\":{\"outlinewidth\":0,\"ticks\":\"\"}}}],\"scattercarpet\":[{\"type\":\"scattercarpet\",\"marker\":{\"colorbar\":{\"outlinewidth\":0,\"ticks\":\"\"}}}],\"carpet\":[{\"aaxis\":{\"endlinecolor\":\"#2a3f5f\",\"gridcolor\":\"white\",\"linecolor\":\"white\",\"minorgridcolor\":\"white\",\"startlinecolor\":\"#2a3f5f\"},\"baxis\":{\"endlinecolor\":\"#2a3f5f\",\"gridcolor\":\"white\",\"linecolor\":\"white\",\"minorgridcolor\":\"white\",\"startlinecolor\":\"#2a3f5f\"},\"type\":\"carpet\"}],\"table\":[{\"cells\":{\"fill\":{\"color\":\"#EBF0F8\"},\"line\":{\"color\":\"white\"}},\"header\":{\"fill\":{\"color\":\"#C8D4E3\"},\"line\":{\"color\":\"white\"}},\"type\":\"table\"}],\"barpolar\":[{\"marker\":{\"line\":{\"color\":\"#E5ECF6\",\"width\":0.5},\"pattern\":{\"fillmode\":\"overlay\",\"size\":10,\"solidity\":0.2}},\"type\":\"barpolar\"}],\"pie\":[{\"automargin\":true,\"type\":\"pie\"}]},\"layout\":{\"autotypenumbers\":\"strict\",\"colorway\":[\"#636efa\",\"#EF553B\",\"#00cc96\",\"#ab63fa\",\"#FFA15A\",\"#19d3f3\",\"#FF6692\",\"#B6E880\",\"#FF97FF\",\"#FECB52\"],\"font\":{\"color\":\"#2a3f5f\"},\"hovermode\":\"closest\",\"hoverlabel\":{\"align\":\"left\"},\"paper_bgcolor\":\"white\",\"plot_bgcolor\":\"#E5ECF6\",\"polar\":{\"bgcolor\":\"#E5ECF6\",\"angularaxis\":{\"gridcolor\":\"white\",\"linecolor\":\"white\",\"ticks\":\"\"},\"radialaxis\":{\"gridcolor\":\"white\",\"linecolor\":\"white\",\"ticks\":\"\"}},\"ternary\":{\"bgcolor\":\"#E5ECF6\",\"aaxis\":{\"gridcolor\":\"white\",\"linecolor\":\"white\",\"ticks\":\"\"},\"baxis\":{\"gridcolor\":\"white\",\"linecolor\":\"white\",\"ticks\":\"\"},\"caxis\":{\"gridcolor\":\"white\",\"linecolor\":\"white\",\"ticks\":\"\"}},\"coloraxis\":{\"colorbar\":{\"outlinewidth\":0,\"ticks\":\"\"}},\"colorscale\":{\"sequential\":[[0.0,\"#0d0887\"],[0.1111111111111111,\"#46039f\"],[0.2222222222222222,\"#7201a8\"],[0.3333333333333333,\"#9c179e\"],[0.4444444444444444,\"#bd3786\"],[0.5555555555555556,\"#d8576b\"],[0.6666666666666666,\"#ed7953\"],[0.7777777777777778,\"#fb9f3a\"],[0.8888888888888888,\"#fdca26\"],[1.0,\"#f0f921\"]],\"sequentialminus\":[[0.0,\"#0d0887\"],[0.1111111111111111,\"#46039f\"],[0.2222222222222222,\"#7201a8\"],[0.3333333333333333,\"#9c179e\"],[0.4444444444444444,\"#bd3786\"],[0.5555555555555556,\"#d8576b\"],[0.6666666666666666,\"#ed7953\"],[0.7777777777777778,\"#fb9f3a\"],[0.8888888888888888,\"#fdca26\"],[1.0,\"#f0f921\"]],\"diverging\":[[0,\"#8e0152\"],[0.1,\"#c51b7d\"],[0.2,\"#de77ae\"],[0.3,\"#f1b6da\"],[0.4,\"#fde0ef\"],[0.5,\"#f7f7f7\"],[0.6,\"#e6f5d0\"],[0.7,\"#b8e186\"],[0.8,\"#7fbc41\"],[0.9,\"#4d9221\"],[1,\"#276419\"]]},\"xaxis\":{\"gridcolor\":\"white\",\"linecolor\":\"white\",\"ticks\":\"\",\"title\":{\"standoff\":15},\"zerolinecolor\":\"white\",\"automargin\":true,\"zerolinewidth\":2},\"yaxis\":{\"gridcolor\":\"white\",\"linecolor\":\"white\",\"ticks\":\"\",\"title\":{\"standoff\":15},\"zerolinecolor\":\"white\",\"automargin\":true,\"zerolinewidth\":2},\"scene\":{\"xaxis\":{\"backgroundcolor\":\"#E5ECF6\",\"gridcolor\":\"white\",\"linecolor\":\"white\",\"showbackground\":true,\"ticks\":\"\",\"zerolinecolor\":\"white\",\"gridwidth\":2},\"yaxis\":{\"backgroundcolor\":\"#E5ECF6\",\"gridcolor\":\"white\",\"linecolor\":\"white\",\"showbackground\":true,\"ticks\":\"\",\"zerolinecolor\":\"white\",\"gridwidth\":2},\"zaxis\":{\"backgroundcolor\":\"#E5ECF6\",\"gridcolor\":\"white\",\"linecolor\":\"white\",\"showbackground\":true,\"ticks\":\"\",\"zerolinecolor\":\"white\",\"gridwidth\":2}},\"shapedefaults\":{\"line\":{\"color\":\"#2a3f5f\"}},\"annotationdefaults\":{\"arrowcolor\":\"#2a3f5f\",\"arrowhead\":0,\"arrowwidth\":1},\"geo\":{\"bgcolor\":\"white\",\"landcolor\":\"#E5ECF6\",\"subunitcolor\":\"white\",\"showland\":true,\"showlakes\":true,\"lakecolor\":\"white\"},\"title\":{\"x\":0.05},\"mapbox\":{\"style\":\"light\"}}},\"xaxis\":{\"anchor\":\"y\",\"domain\":[0.0,1.0],\"title\":{\"text\":\"Topic\"}},\"yaxis\":{\"anchor\":\"x\",\"domain\":[0.0,1.0],\"title\":{\"text\":\"Documents\"}},\"legend\":{\"tracegroupgap\":0},\"title\":{\"text\":\"Document Distribution by Topics\"},\"barmode\":\"relative\"},                        {\"responsive\": true}                    ).then(function(){\n",
       "                            \n",
       "var gd = document.getElementById('7841bfe4-657f-433e-bb34-8d96d73fcfcf');\n",
       "var x = new MutationObserver(function (mutations, observer) {{\n",
       "        var display = window.getComputedStyle(gd).display;\n",
       "        if (!display || display === 'none') {{\n",
       "            console.log([gd, 'removed!']);\n",
       "            Plotly.purge(gd);\n",
       "            observer.disconnect();\n",
       "        }}\n",
       "}});\n",
       "\n",
       "// Listen for the removal of the full notebook cells\n",
       "var notebookContainer = gd.closest('#notebook-container');\n",
       "if (notebookContainer) {{\n",
       "    x.observe(notebookContainer, {childList: true});\n",
       "}}\n",
       "\n",
       "// Listen for the clearing of the current output cell\n",
       "var outputEl = gd.closest('.output');\n",
       "if (outputEl) {{\n",
       "    x.observe(outputEl, {childList: true});\n",
       "}}\n",
       "\n",
       "                        })                };                });            </script>        </div>"
      ]
     },
     "metadata": {},
     "output_type": "display_data"
    }
   ],
   "source": [
    "plot_model(lda, plot = 'topic_distribution')"
   ]
  },
  {
   "cell_type": "code",
   "execution_count": 26,
   "id": "ef375231",
   "metadata": {
    "scrolled": true
   },
   "outputs": [
    {
     "data": {
      "text/html": [
       "        <script type=\"text/javascript\">\n",
       "        window.PlotlyConfig = {MathJaxConfig: 'local'};\n",
       "        if (window.MathJax) {MathJax.Hub.Config({SVG: {font: \"STIX-Web\"}});}\n",
       "        if (typeof require !== 'undefined') {\n",
       "        require.undef(\"plotly\");\n",
       "        requirejs.config({\n",
       "            paths: {\n",
       "                'plotly': ['https://cdn.plot.ly/plotly-2.11.1.min']\n",
       "            }\n",
       "        });\n",
       "        require(['plotly'], function(Plotly) {\n",
       "            window._Plotly = Plotly;\n",
       "        });\n",
       "        }\n",
       "        </script>\n",
       "        "
      ]
     },
     "metadata": {},
     "output_type": "display_data"
    },
    {
     "data": {
      "application/vnd.plotly.v1+json": {
       "config": {
        "plotlyServerURL": "https://plot.ly"
       },
       "data": [
        {
         "hovertemplate": "Dominant_Topic=Topic 0<br>0=%{x}<br>1=%{y}<br>2=%{z}<extra></extra>",
         "legendgroup": "Topic 0",
         "marker": {
          "color": "#636efa",
          "opacity": 0.7,
          "symbol": "circle"
         },
         "mode": "markers",
         "name": "Topic 0",
         "scene": "scene",
         "showlegend": true,
         "type": "scatter3d",
         "x": [
          9.167067527770996,
          -8.358061790466309,
          -2.9266583919525146,
          -7.847080230712891,
          -2.69502854347229,
          -8.570387840270996,
          -1.4661437273025513,
          8.289814949035645,
          -9.102914810180664,
          5.1452107429504395,
          9.275970458984375,
          1.6171274185180664,
          11.303932189941406,
          -9.222784996032715,
          10.972539901733398,
          -2.7272868156433105,
          -9.364099502563477,
          3.1759207248687744,
          10.483172416687012,
          2.455199956893921,
          11.064034461975098,
          2.2230570316314697,
          -1.915292739868164,
          10.22550106048584,
          8.270593643188477,
          2.6986870765686035,
          -2.0359809398651123,
          0.7772877812385559,
          10.308182716369629,
          -2.7853081226348877,
          -9.238245964050293,
          2.052529811859131,
          10.143834114074707,
          -9.379356384277344,
          11.018138885498047,
          -9.114680290222168,
          1.5782724618911743,
          -7.0030364990234375,
          -1.2384517192840576,
          -7.219902515411377,
          -9.190540313720703,
          -9.075653076171875,
          -1.958781361579895,
          -1.7249618768692017,
          2.712449073791504,
          2.430936574935913,
          11.182435035705566,
          -8.356433868408203,
          -6.835813522338867,
          -6.959847450256348,
          -6.834274768829346,
          -8.119596481323242,
          7.399262428283691,
          7.711755752563477,
          -2.742936372756958,
          3.6273319721221924,
          -0.8301646113395691,
          1.0362087488174438,
          -3.526761054992676,
          2.3821098804473877,
          -8.823829650878906,
          -1.4259796142578125,
          -3.511791706085205,
          8.443199157714844,
          1.3913145065307617,
          10.38737678527832,
          2.6843008995056152,
          5.164620876312256,
          1.4483100175857544,
          -7.900210857391357,
          -9.294280052185059,
          4.416807174682617,
          3.0729570388793945,
          8.888018608093262,
          0.6830123066902161,
          -8.16991138458252,
          6.428832054138184,
          -1.0618091821670532,
          -9.174914360046387,
          -8.54857063293457,
          -8.941230773925781,
          -2.8976657390594482,
          -9.30429744720459,
          -9.366949081420898,
          -0.18989916145801544,
          1.7455452680587769,
          -2.7243447303771973,
          2.050572633743286,
          -8.407835960388184,
          1.5402740240097046,
          10.00585651397705,
          11.175827980041504,
          0.5644383430480957,
          -3.18746280670166,
          -3.3518946170806885,
          -0.38358354568481445,
          1.9993375539779663,
          2.5898025035858154,
          2.562309980392456,
          -3.597264289855957,
          -3.7261581420898438,
          3.0720937252044678,
          0.8820364475250244,
          -2.7048964500427246,
          0.8894152045249939,
          5.56643009185791,
          4.789795875549316,
          -6.74816370010376,
          -0.7609761357307434,
          -2.303086519241333,
          -3.17976450920105,
          -3.324550151824951,
          -9.39919662475586,
          -9.111700057983398,
          -3.6011128425598145,
          8.443552017211914,
          5.436539649963379,
          4.990056991577148,
          3.835754156112671,
          2.099409580230713,
          0.07668830454349518,
          10.870686531066895,
          -7.6383256912231445,
          -2.4006450176239014,
          -2.8672103881835938,
          -8.056403160095215,
          1.698633074760437,
          -1.700905680656433,
          3.3587050437927246,
          -1.752834677696228,
          0.48630160093307495,
          8.826248168945312,
          1.5365266799926758,
          -8.184996604919434,
          0.30032849311828613,
          0.7711127400398254,
          10.596236228942871,
          -4.671245574951172,
          -1.92949640750885,
          0.9764217734336853,
          8.06004524230957,
          2.9829535484313965,
          -0.7288051247596741,
          -1.0105810165405273,
          -8.790884017944336,
          -0.8188679218292236,
          2.7940568923950195,
          -3.542877674102783,
          -9.392932891845703,
          3.4613776206970215,
          1.0018552541732788,
          3.137434959411621,
          -2.643892526626587,
          4.386341571807861,
          0.3998076915740967,
          3.252431869506836,
          4.119446754455566,
          1.863876461982727,
          -0.3509414494037628,
          10.812292098999023,
          2.607273578643799,
          0.20295612514019012,
          3.024272918701172,
          -9.167795181274414,
          2.8366053104400635,
          3.237276315689087,
          9.057760238647461,
          -2.075327157974243,
          -2.094850540161133,
          8.250711441040039,
          2.300731897354126,
          8.707237243652344,
          -6.749792098999023,
          10.830503463745117,
          10.916088104248047,
          4.2793354988098145,
          -8.948418617248535,
          4.166114807128906,
          -8.299482345581055,
          -8.630587577819824,
          11.321928024291992,
          9.396503448486328,
          2.572816848754883,
          0.9354475736618042,
          -2.564023494720459,
          -2.61306095123291,
          1.8555481433868408,
          4.6732683181762695,
          -6.957455158233643,
          -0.44988206028938293,
          3.2339260578155518,
          -9.408483505249023,
          -9.4064302444458,
          -1.0500786304473877,
          -0.29490089416503906,
          2.0723328590393066,
          -9.403120040893555,
          9.977622985839844,
          2.0088441371917725,
          -1.4062234163284302,
          -2.92334246635437,
          -8.861263275146484,
          0.7390130162239075,
          10.919631004333496,
          -8.402449607849121,
          -6.727503776550293,
          11.11472225189209,
          -2.8042166233062744,
          2.528146505355835,
          4.7469048500061035,
          3.607804298400879,
          6.782583236694336,
          -9.279078483581543,
          1.2708276510238647,
          2.0997579097747803,
          11.343667984008789,
          1.2135244607925415,
          0.09672357141971588,
          -1.9518897533416748,
          2.916111946105957,
          -3.5117263793945312,
          1.261813998222351,
          1.4935040473937988,
          11.320058822631836,
          11.29915714263916,
          -0.5035001635551453,
          2.403578758239746,
          8.633227348327637,
          3.9439876079559326,
          10.75341510772705,
          -8.73691463470459,
          11.0928316116333,
          2.8061769008636475,
          5.105718612670898,
          -3.7358028888702393,
          11.388051986694336,
          1.7365232706069946,
          -4.228969573974609,
          -8.886507034301758,
          -4.585202217102051,
          -7.831145763397217,
          -2.563586711883545,
          10.300795555114746,
          10.429624557495117,
          -2.6874139308929443,
          1.7883566617965698,
          -7.221103668212891,
          -8.999556541442871,
          -7.0586161613464355,
          5.639196395874023,
          -2.2026894092559814,
          2.422701835632324,
          -1.9754735231399536,
          -3.0637998580932617,
          7.316543102264404,
          -7.766200065612793,
          11.074723243713379,
          -4.666416645050049,
          2.330718517303467,
          -0.5092307925224304,
          11.195561408996582,
          4.82530403137207,
          -2.963811159133911,
          0.10867076367139816,
          -0.8941202163696289,
          3.217740297317505,
          11.197407722473145,
          3.5996501445770264,
          4.851712703704834,
          1.1134213209152222,
          3.0211997032165527,
          -2.5742390155792236,
          -9.187173843383789,
          0.024246422573924065,
          -3.7411446571350098,
          1.0522856712341309,
          2.8104817867279053,
          2.101865530014038,
          9.90292739868164,
          5.675848960876465,
          3.2325239181518555,
          4.221258640289307,
          3.638756513595581,
          -8.796399116516113,
          -3.5396664142608643,
          11.088347434997559,
          1.567707896232605,
          8.98540210723877,
          10.701803207397461,
          -0.4202541708946228,
          -8.553088188171387,
          -0.7884658575057983,
          3.03338623046875,
          10.704371452331543,
          -9.318246841430664,
          10.57592487335205,
          -8.413559913635254,
          -3.437575340270996,
          4.890994548797607,
          -8.083287239074707,
          6.222681999206543,
          3.710542678833008,
          -3.506865978240967,
          -2.6217689514160156,
          -2.715257167816162,
          -0.9889304637908936,
          -3.3460912704467773,
          -8.694392204284668,
          7.522761344909668,
          2.1698477268218994,
          10.888435363769531,
          4.746860504150391,
          -7.120645523071289,
          8.170546531677246,
          -8.771005630493164,
          3.7357594966888428,
          7.863394737243652,
          11.291736602783203,
          0.38837066292762756,
          2.530764579772949,
          2.599036455154419,
          10.838456153869629,
          -4.690747261047363,
          4.039160251617432,
          -3.551206588745117,
          0.6118240356445312,
          2.397792339324951,
          -8.299489974975586,
          10.45822525024414,
          -7.646749496459961,
          -0.5551071166992188,
          1.9260101318359375,
          0.9532344937324524,
          -2.548542022705078,
          -2.8390636444091797,
          2.3421695232391357,
          2.247765064239502,
          4.746859550476074,
          10.145140647888184,
          -3.0241873264312744,
          11.087799072265625,
          2.6438887119293213,
          -3.2394866943359375,
          -3.102750062942505,
          10.666726112365723,
          7.421479225158691,
          3.4754765033721924,
          10.904096603393555,
          2.9399642944335938,
          -8.939586639404297,
          -9.354517936706543,
          -8.723638534545898,
          -1.349132776260376,
          -8.890158653259277,
          7.490746974945068,
          1.6721127033233643,
          -0.6842541694641113,
          1.3813048601150513,
          -2.4657061100006104,
          1.760961890220642,
          2.299069881439209,
          -2.6825480461120605,
          -8.075028419494629,
          -1.6631540060043335,
          -8.249738693237305,
          -2.6598544120788574,
          7.472960948944092,
          2.5576870441436768,
          -2.9714388847351074,
          -4.487432479858398,
          0.09441781044006348,
          -7.973442554473877,
          1.1612210273742676,
          -1.385338306427002,
          -2.608325242996216,
          1.4833869934082031,
          -2.8765509128570557,
          2.3236124515533447,
          2.4419093132019043,
          -8.796211242675781,
          -2.026564121246338,
          2.7095353603363037,
          9.20849323272705,
          5.1495442390441895,
          -9.307592391967773,
          11.223054885864258,
          -2.5742781162261963,
          -2.284682512283325,
          -3.550483226776123,
          1.9845433235168457,
          1.7166500091552734,
          3.80364990234375,
          4.210871696472168,
          1.9888365268707275,
          -9.269543647766113,
          1.7278327941894531,
          -1.3135710954666138,
          -8.643074989318848,
          -0.6471792459487915,
          9.047069549560547,
          -0.283508837223053,
          -3.279263973236084,
          -3.412757396697998,
          -2.2813737392425537,
          1.647212028503418,
          4.906896114349365,
          -4.511575222015381,
          -8.73507308959961,
          1.3413612842559814,
          10.431073188781738,
          -8.81753158569336,
          3.2364232540130615,
          3.442133665084839,
          3.4980432987213135,
          -3.4633841514587402,
          2.2507729530334473,
          6.462368965148926,
          4.111802101135254,
          0.46178385615348816,
          2.6112451553344727,
          11.152894020080566,
          0.8734561204910278,
          -2.984717607498169,
          -2.9197068214416504,
          3.954195737838745,
          -7.69144344329834,
          -2.8961918354034424,
          -3.4073846340179443,
          -3.599048137664795,
          2.9368951320648193,
          -8.628633499145508,
          11.095359802246094,
          10.646963119506836,
          -4.167183876037598,
          11.110333442687988,
          -0.13979583978652954,
          -1.0697320699691772,
          -9.09081745147705,
          8.093185424804688,
          8.56301212310791,
          3.2993853092193604,
          -1.7269903421401978,
          7.033341407775879,
          -3.58830189704895,
          0.6258977055549622,
          -1.5811234712600708,
          9.975591659545898,
          -0.19007450342178345,
          3.1798150539398193,
          11.144148826599121,
          -8.600708961486816,
          11.326824188232422,
          -0.8333628177642822,
          0.4253368079662323,
          -1.3170251846313477,
          -2.0340993404388428,
          2.4820423126220703,
          -8.825502395629883,
          3.965332508087158,
          1.5564360618591309,
          8.601676940917969,
          11.14615535736084,
          -9.045769691467285,
          9.272818565368652,
          2.866456985473633,
          -1.2152113914489746,
          -8.242043495178223,
          2.30513596534729,
          -9.050909996032715,
          3.582866907119751,
          3.0013270378112793,
          -3.470144033432007,
          -2.6109237670898438,
          1.6408203840255737,
          -0.012002442963421345,
          10.446999549865723,
          2.479252815246582,
          -3.6052846908569336,
          -3.59879207611084,
          8.249185562133789,
          -2.9538209438323975,
          10.127668380737305,
          -9.385010719299316,
          1.923801064491272,
          9.716888427734375,
          0.01663607358932495,
          9.078920364379883,
          1.831339716911316,
          5.500984191894531,
          3.3757708072662354,
          6.877084732055664,
          11.098404884338379,
          6.107898235321045,
          2.5940725803375244,
          -0.793276846408844,
          3.7830893993377686,
          -2.6008806228637695,
          -9.23052978515625,
          0.3970203399658203,
          2.684887170791626,
          7.80601167678833,
          -8.602579116821289,
          8.918272972106934,
          -8.696732521057129,
          -7.829056739807129,
          -8.6533842086792,
          -3.43619966506958,
          11.494902610778809,
          -0.3144243359565735,
          -4.256375312805176,
          -4.618632793426514,
          -8.570619583129883,
          -1.6843370199203491,
          -1.4177254438400269,
          -8.995076179504395,
          -0.044851113110780716,
          -9.333320617675781,
          1.9575352668762207,
          3.0019097328186035,
          1.4514514207839966,
          -8.87244987487793,
          11.02165412902832,
          0.9621532559394836,
          -8.64561653137207,
          5.640867233276367,
          3.938502073287964,
          -2.6947638988494873,
          0.5942833423614502,
          -1.840063452720642,
          2.6668710708618164,
          4.062539100646973,
          -9.179160118103027,
          -8.966723442077637,
          1.9807175397872925,
          0.21455763280391693,
          -3.275578498840332,
          -0.1412036269903183,
          -4.672416687011719,
          -1.0335453748703003,
          0.5957735776901245,
          -0.9035816192626953,
          10.625661849975586,
          3.417893648147583,
          11.120656967163086,
          0.9316813945770264,
          10.723124504089355,
          8.561921119689941,
          2.588484048843384,
          10.499698638916016,
          8.920554161071777,
          0.920715868473053,
          1.7124603986740112,
          10.785804748535156,
          -9.309122085571289,
          2.494826555252075,
          2.5220766067504883,
          -0.720765233039856,
          2.529090404510498,
          4.388378143310547,
          -7.23868989944458,
          2.866974353790283,
          -8.013429641723633,
          0.9153472781181335,
          9.1793794631958,
          -2.581866979598999,
          -0.8021405935287476,
          2.6764981746673584,
          0.9055125117301941,
          10.654690742492676,
          10.611343383789062,
          6.7399516105651855,
          -3.420034646987915,
          11.224737167358398,
          -7.146622657775879,
          1.31422758102417,
          4.596426010131836,
          2.51638126373291,
          0.8950465321540833,
          -0.7862532138824463,
          11.26084041595459,
          0.3418465256690979,
          6.149476051330566,
          -2.6002275943756104,
          11.158480644226074,
          -0.7774384617805481,
          10.386195182800293,
          -8.56088924407959,
          4.027185916900635,
          2.460604190826416,
          0.5341659188270569,
          2.761481285095215,
          -9.394604682922363,
          1.1691176891326904,
          -8.311073303222656,
          9.186845779418945,
          -3.342135429382324,
          -6.848940849304199,
          -0.2058069109916687,
          -2.852837085723877,
          -2.691485643386841,
          -8.996826171875,
          10.830755233764648,
          -8.672866821289062,
          11.301353454589844,
          10.90534496307373,
          1.1617813110351562,
          2.1601269245147705,
          0.8257871270179749,
          8.794305801391602,
          -2.979356288909912,
          2.5022387504577637,
          -3.391770839691162,
          3.5857436656951904,
          2.8820040225982666,
          3.6298933029174805,
          -7.680037498474121,
          1.889827013015747,
          -2.053727865219116,
          0.8534932136535645,
          11.006240844726562,
          -9.327293395996094,
          4.996941089630127,
          0.5664449334144592,
          3.1603431701660156,
          5.135813236236572,
          4.048858642578125,
          2.328322172164917,
          -8.905540466308594,
          1.7955474853515625,
          4.856666564941406,
          0.889576256275177,
          -1.6585626602172852,
          11.068100929260254,
          4.372766971588135,
          0.4588664770126343,
          10.811352729797363,
          -8.988061904907227,
          -3.5610246658325195,
          -6.752097129821777,
          0.3603416979312897,
          6.048428058624268,
          10.697944641113281,
          6.557823181152344,
          3.103752374649048,
          2.6095423698425293,
          6.349208354949951,
          -3.574734926223755,
          -9.096089363098145,
          0.2211119830608368,
          -8.58115291595459,
          11.280614852905273,
          1.8046634197235107,
          -4.6956257820129395,
          -7.728168964385986,
          -8.460492134094238,
          -2.807955026626587,
          3.4672210216522217,
          -3.3786628246307373,
          8.562978744506836,
          8.590200424194336,
          6.665236949920654,
          -8.153868675231934,
          5.20496129989624,
          2.1099026203155518,
          6.3752970695495605,
          3.313697338104248,
          3.579716444015503,
          -8.159305572509766,
          -1.6807019710540771,
          4.634047031402588,
          11.170084953308105,
          -2.206479549407959,
          1.4179311990737915,
          3.050879716873169,
          -0.6118388772010803,
          -8.872384071350098,
          0.30503666400909424,
          2.2983644008636475,
          -3.5568137168884277,
          -4.1561198234558105,
          0.6327046751976013,
          -0.02938319928944111,
          -2.702286958694458,
          2.5242295265197754,
          -8.769671440124512,
          -2.9738552570343018,
          -1.7470465898513794,
          11.207425117492676,
          -2.011195421218872,
          11.061301231384277,
          2.7620022296905518,
          -3.4070427417755127,
          1.7147284746170044,
          3.8733959197998047,
          -3.408684492111206,
          1.4610613584518433,
          9.574009895324707,
          -3.602691173553467,
          10.167534828186035,
          5.110913276672363,
          6.755131244659424,
          3.148991584777832,
          8.956158638000488,
          -9.387248039245605,
          1.772382378578186,
          10.897970199584961,
          1.4413251876831055,
          11.292728424072266,
          11.059016227722168,
          8.620643615722656,
          -6.987078666687012,
          -1.3925777673721313,
          -8.548776626586914,
          4.595884799957275,
          -8.987060546875,
          11.41038990020752,
          10.965520858764648,
          -2.78071665763855,
          -9.27761173248291,
          -3.0188891887664795,
          -3.3949990272521973,
          -7.378908157348633,
          8.464953422546387,
          -8.94588565826416,
          -7.386007785797119,
          -2.034099578857422,
          8.562687873840332,
          1.1339670419692993,
          -2.848327398300171,
          -3.8458306789398193,
          3.0326015949249268,
          7.731060028076172,
          -9.283785820007324,
          -2.9783387184143066,
          2.2073261737823486,
          -3.2266221046447754,
          -7.661175727844238,
          0.4663679003715515,
          -6.761931896209717,
          5.119998931884766,
          5.662774562835693,
          -0.32867440581321716,
          -2.7115867137908936,
          7.96200704574585,
          10.539542198181152,
          2.2643234729766846,
          -1.564941644668579,
          -2.792666435241699,
          11.15073299407959,
          -8.616929054260254,
          2.5605528354644775,
          -2.0715391635894775,
          2.6120917797088623,
          11.215995788574219,
          11.113265037536621,
          -0.24851693212985992,
          0.4917290508747101,
          -2.6674718856811523,
          10.316522598266602,
          2.8785364627838135,
          3.298307418823242,
          5.005199432373047,
          3.9610681533813477,
          2.578866958618164,
          0.7922893166542053,
          1.8510421514511108,
          -9.40245532989502,
          2.4469985961914062,
          3.5346622467041016,
          -3.3850274085998535,
          11.152786254882812,
          0.8531274795532227,
          1.234381079673767,
          6.63356351852417,
          2.7436108589172363,
          -7.9695024490356445,
          1.2513625621795654,
          3.641238212585449,
          8.682001113891602,
          1.8190405368804932,
          -9.1556396484375,
          0.6313281059265137,
          -0.798176646232605,
          0.06671039760112762,
          5.792980670928955,
          -0.21680615842342377,
          11.199728965759277,
          -8.972740173339844,
          -9.212362289428711,
          -4.630444049835205,
          1.9815354347229004,
          0.231222465634346,
          -2.649399995803833,
          -7.563734531402588,
          1.2830595970153809,
          -9.0504150390625,
          -4.032690525054932,
          -7.09928560256958,
          -4.682703971862793,
          4.579829692840576,
          -8.954633712768555,
          -7.545293807983398,
          -7.991218566894531,
          2.577862024307251,
          -2.034099578857422,
          9.855915069580078,
          10.840584754943848,
          2.6103601455688477,
          0.8285279870033264,
          -8.969477653503418,
          10.910531997680664,
          -9.371973991394043,
          -6.86091947555542,
          11.452549934387207,
          7.1691999435424805,
          -0.2647276520729065,
          11.294285774230957,
          -2.629741668701172,
          3.2073841094970703,
          -9.12197208404541,
          -1.5315916538238525,
          10.301285743713379,
          5.342871189117432,
          8.515508651733398,
          -3.4053866863250732,
          -2.023209810256958,
          8.044782638549805,
          -1.7007993459701538,
          1.626397967338562,
          9.93478012084961,
          1.7579832077026367,
          -8.782605171203613,
          7.10365104675293,
          10.215227127075195,
          11.150513648986816,
          -0.1541101485490799,
          -7.31276273727417,
          -0.716244637966156,
          2.715888023376465,
          -2.9781248569488525,
          11.144198417663574,
          -0.19007891416549683,
          -9.08128547668457,
          -0.1708662509918213,
          -1.215686321258545,
          9.404913902282715,
          -7.099425315856934,
          -7.36859655380249,
          10.167400360107422,
          -9.376893997192383,
          11.18196964263916,
          3.8388171195983887,
          -9.155171394348145,
          -8.823346138000488,
          -3.2934446334838867,
          -9.397390365600586,
          -8.54898738861084,
          1.9581965208053589,
          -3.016549825668335,
          9.4683256149292,
          10.682948112487793,
          -8.914599418640137,
          4.464682579040527,
          10.682047843933105,
          11.336862564086914,
          10.978636741638184,
          -7.970103740692139,
          10.685623168945312,
          2.466200828552246,
          1.7104226350784302,
          2.5884275436401367,
          3.5997629165649414
         ],
         "y": [
          6.86521053314209,
          -3.492158889770508,
          6.617459297180176,
          -0.8094533085823059,
          1.3113443851470947,
          -4.421858310699463,
          8.506871223449707,
          6.587132453918457,
          -10.72734260559082,
          -7.850976467132568,
          6.8920578956604,
          0.26263201236724854,
          1.6121399402618408,
          -7.138789653778076,
          -3.3509416580200195,
          4.2838850021362305,
          -8.123808860778809,
          -1.690449833869934,
          6.708437919616699,
          10.980097770690918,
          1.6765025854110718,
          10.182677268981934,
          8.032060623168945,
          6.688556671142578,
          -5.945772647857666,
          -8.605015754699707,
          7.826506614685059,
          4.1123762130737305,
          6.840911865234375,
          4.293585777282715,
          -7.233702659606934,
          4.395069122314453,
          6.916060447692871,
          -9.348644256591797,
          4.233917236328125,
          -10.672493934631348,
          9.702812194824219,
          2.304243803024292,
          8.680851936340332,
          1.6128265857696533,
          -10.297873497009277,
          -10.88261890411377,
          8.030174255371094,
          8.10173225402832,
          -8.890219688415527,
          11.052462577819824,
          -1.6519391536712646,
          -3.4818661212921143,
          3.1130359172821045,
          2.4645447731018066,
          3.1474363803863525,
          -2.4042913913726807,
          6.247336387634277,
          6.360673427581787,
          0.032538916915655136,
          -2.644880533218384,
          8.674788475036621,
          9.47636890411377,
          3.636058807373047,
          -8.784083366394043,
          -5.462686538696289,
          4.280519962310791,
          5.177094459533691,
          -5.860474586486816,
          -0.5726402997970581,
          -3.348508358001709,
          3.4842283725738525,
          5.375688552856445,
          -1.6955925226211548,
          -1.5384286642074585,
          -9.3731050491333,
          5.110750675201416,
          1.4373985528945923,
          -5.557668685913086,
          8.357565879821777,
          -2.6716253757476807,
          2.740088939666748,
          8.862946510314941,
          -10.384562492370605,
          -13.194376945495605,
          -5.926219463348389,
          6.659790992736816,
          -9.650405883789062,
          -9.40390396118164,
          3.9629087448120117,
          -1.790266990661621,
          -0.21209977567195892,
          -1.7366825342178345,
          -3.7253544330596924,
          10.506913185119629,
          6.942272186279297,
          -1.7923873662948608,
          -3.713944911956787,
          1.1602582931518555,
          1.7469650506973267,
          -1.3134996891021729,
          1.6184101104736328,
          -8.89306640625,
          10.628044128417969,
          4.615609169006348,
          3.128117084503174,
          4.670883655548096,
          -1.0453338623046875,
          1.2113847732543945,
          -4.397770881652832,
          2.347679376602173,
          5.238805294036865,
          3.3723604679107666,
          4.506253719329834,
          3.635366201400757,
          4.221614360809326,
          1.9649343490600586,
          -8.693182945251465,
          -6.6864495277404785,
          4.287088871002197,
          7.618732452392578,
          5.4770941734313965,
          5.311201572418213,
          5.0213422775268555,
          10.043094635009766,
          9.1416654586792,
          4.9006452560424805,
          -0.2185530811548233,
          0.4169251024723053,
          6.703670024871826,
          -1.385584831237793,
          -8.30433464050293,
          4.225749492645264,
          -8.724593162536621,
          4.229804992675781,
          -3.6599390506744385,
          -5.494527816772461,
          -3.1228365898132324,
          -2.7137796878814697,
          0.970314621925354,
          9.439851760864258,
          6.580521583557129,
          2.8525032997131348,
          8.067636489868164,
          1.3519116640090942,
          6.489794731140137,
          -4.401861667633057,
          8.766199111938477,
          8.906131744384766,
          -5.332661151885986,
          -0.7272751927375793,
          3.2960331439971924,
          0.9876002073287964,
          -8.561646461486816,
          0.6823367476463318,
          9.47287654876709,
          6.378067493438721,
          0.9394842982292175,
          -8.17773723602295,
          9.869917869567871,
          5.5921478271484375,
          0.8269727230072021,
          2.3654367923736572,
          3.9429993629455566,
          5.376340389251709,
          10.801861763000488,
          9.19419002532959,
          6.344895839691162,
          -6.890710830688477,
          4.601574897766113,
          0.7735041975975037,
          6.727233409881592,
          0.11329890042543411,
          7.7206830978393555,
          -5.977708339691162,
          10.005024909973145,
          -5.6919450759887695,
          3.3507657051086426,
          -3.6093814373016357,
          4.81577730178833,
          -8.27047061920166,
          -13.462653160095215,
          -8.314022064208984,
          -3.2213728427886963,
          -13.39263916015625,
          0.5467061400413513,
          6.922245502471924,
          7.079748153686523,
          10.194504737854004,
          1.142557144165039,
          0.3323622941970825,
          9.845052719116211,
          1.0244263410568237,
          2.4474942684173584,
          -4.368014812469482,
          -8.775896072387695,
          -9.02255916595459,
          -8.770981788635254,
          4.370575428009033,
          -4.114648342132568,
          -8.576072692871094,
          -8.821188926696777,
          6.942440509796143,
          9.963354110717773,
          8.34593391418457,
          -0.6831716299057007,
          -12.007326126098633,
          -2.8015637397766113,
          4.919757843017578,
          -3.7023322582244873,
          3.463872194290161,
          -2.6366591453552246,
          -0.15787117183208466,
          10.913674354553223,
          -6.617973327636719,
          -8.582097053527832,
          5.995418071746826,
          -7.46329927444458,
          1.5836076736450195,
          10.758623123168945,
          0.55305415391922,
          10.365986824035645,
          9.722275733947754,
          7.878231525421143,
          -1.2849136590957642,
          5.142622470855713,
          4.207536697387695,
          -2.5659282207489014,
          0.6370407342910767,
          1.0924572944641113,
          -1.4037058353424072,
          -3.741222858428955,
          6.71925163269043,
          4.629086971282959,
          -3.649278163909912,
          -12.00619888305664,
          3.8018686771392822,
          6.643962383270264,
          -7.83866024017334,
          4.083234786987305,
          1.0925639867782593,
          9.770015716552734,
          3.889727830886841,
          -11.748157501220703,
          2.9232230186462402,
          -0.7680186629295349,
          -0.1258784681558609,
          -4.1103901863098145,
          -3.552145481109619,
          6.571305751800537,
          3.3478243350982666,
          1.6054075956344604,
          -11.22259521484375,
          2.5781853199005127,
          -7.529734134674072,
          7.600210189819336,
          -8.807258605957031,
          4.203818321228027,
          0.5194085836410522,
          6.2050347328186035,
          -0.7039454579353333,
          3.532940149307251,
          2.8563127517700195,
          3.3672919273376465,
          3.922980785369873,
          -1.6883620023727417,
          1.9182782173156738,
          -0.9167209267616272,
          9.158821105957031,
          8.989703178405762,
          -8.749238967895508,
          4.957144737243652,
          -1.7600691318511963,
          2.9351680278778076,
          -7.279470443725586,
          -1.12751305103302,
          1.0313913822174072,
          -6.675144672393799,
          9.133155822753906,
          4.073542594909668,
          8.593745231628418,
          -8.876834869384766,
          10.068562507629395,
          6.955168724060059,
          -6.123870849609375,
          5.755589962005615,
          5.042931079864502,
          3.246643304824829,
          -12.114659309387207,
          1.063259243965149,
          3.0905518531799316,
          -0.25023043155670166,
          -5.467755317687988,
          -3.625977039337158,
          -3.7832558155059814,
          -13.254515647888184,
          4.4799113273620605,
          0.7132293581962585,
          -3.4469120502471924,
          -7.745645046234131,
          -3.158250570297241,
          -3.7487285137176514,
          1.7559794187545776,
          -7.931466579437256,
          -2.1409192085266113,
          2.618711233139038,
          5.398670196533203,
          3.5029215812683105,
          0.05749337747693062,
          1.2519826889038086,
          8.616096496582031,
          1.794773817062378,
          -12.488947868347168,
          -6.40633487701416,
          -1.757060170173645,
          5.77650260925293,
          -6.617971420288086,
          1.9130496978759766,
          6.531376838684082,
          -12.21287727355957,
          -2.8667526245117188,
          -6.199540615081787,
          5.052520751953125,
          9.92211627960205,
          10.833928108215332,
          10.721389770507812,
          6.013726711273193,
          2.832892656326294,
          1.7566901445388794,
          5.0458292961120605,
          -0.11922909319400787,
          2.167475938796997,
          -2.9523258209228516,
          6.7246832847595215,
          -0.8886702656745911,
          -1.2531757354736328,
          4.3652215003967285,
          -4.450169086456299,
          7.159842491149902,
          6.344070911407471,
          10.126229286193848,
          10.848947525024414,
          -6.617971420288086,
          6.919416427612305,
          7.318394660949707,
          4.36073112487793,
          1.4023226499557495,
          1.2567791938781738,
          6.055977821350098,
          -2.9864768981933594,
          6.245147228240967,
          1.5979399681091309,
          5.452103614807129,
          6.979806423187256,
          -11.965923309326172,
          -9.442455291748047,
          -13.422612190246582,
          8.386529922485352,
          -11.58265209197998,
          6.2694525718688965,
          9.757880210876465,
          8.785795211791992,
          9.622269630432129,
          7.058859825134277,
          9.791089057922363,
          -3.024833917617798,
          0.1992039680480957,
          -2.2856338024139404,
          8.14469051361084,
          -3.1592319011688232,
          0.07075558602809906,
          6.263848304748535,
          10.795306205749512,
          0.2356697916984558,
          2.995049238204956,
          9.142728805541992,
          -1.4550645351409912,
          4.189289093017578,
          4.279623508453369,
          0.41991540789604187,
          2.977565288543701,
          -0.5028178095817566,
          10.786042213439941,
          -8.827249526977539,
          -12.12273120880127,
          7.863685607910156,
          -8.881854057312012,
          -5.317834377288818,
          -7.084133148193359,
          -7.671884059906006,
          -1.4960771799087524,
          0.575756847858429,
          4.2207794189453125,
          3.7759976387023926,
          -0.9428684115409851,
          0.796843409538269,
          5.106295108795166,
          5.039381504058838,
          1.866256594657898,
          -7.4106340408325195,
          1.638489842414856,
          8.63502025604248,
          -12.7312593460083,
          -3.524928092956543,
          6.88966703414917,
          -2.4810903072357178,
          3.313499927520752,
          1.5012099742889404,
          4.222498893737793,
          2.851170063018799,
          -7.900866508483887,
          2.97969913482666,
          -5.098568439483643,
          -2.274071216583252,
          6.505894184112549,
          -5.444061756134033,
          6.17239236831665,
          -3.7139108180999756,
          0.6258820295333862,
          1.5491265058517456,
          10.975449562072754,
          5.8700456619262695,
          -8.390259742736816,
          -3.4392364025115967,
          10.765427589416504,
          4.9809770584106445,
          4.1300435066223145,
          0.35373684763908386,
          1.650396704673767,
          -8.414459228515625,
          -1.1760640144348145,
          -0.6748089790344238,
          1.7846139669418335,
          4.259572505950928,
          1.1404080390930176,
          -13.395285606384277,
          4.2551445960998535,
          6.468531131744385,
          3.9245057106018066,
          3.1340620517730713,
          3.9696967601776123,
          8.567215919494629,
          -10.785975456237793,
          -5.327747344970703,
          -3.692125082015991,
          4.454080581665039,
          8.508613586425781,
          6.093539714813232,
          4.353845596313477,
          9.347491264343262,
          8.600713729858398,
          -4.493764877319336,
          9.035009384155273,
          -1.6766232252120972,
          1.3938331604003906,
          -13.377163887023926,
          0.6062837839126587,
          -2.08457088470459,
          4.0522541999816895,
          3.8068203926086426,
          4.2193379402160645,
          10.480899810791016,
          -5.46991491317749,
          -8.370413780212402,
          2.5807201862335205,
          6.680257797241211,
          3.4422755241394043,
          -13.459588050842285,
          -5.2483086585998535,
          -8.865044593811035,
          8.770651817321777,
          -3.0700130462646484,
          10.810883522033691,
          -10.988973617553711,
          3.99135160446167,
          6.377963066101074,
          3.251434564590454,
          0.7235153913497925,
          10.577847480773926,
          -3.100152015686035,
          3.374521017074585,
          11.00231647491455,
          4.784905433654785,
          4.6210479736328125,
          -3.965733528137207,
          0.44352707266807556,
          6.921213150024414,
          -9.335206031799316,
          9.890067100524902,
          6.929507255554199,
          3.9912376403808594,
          6.862092018127441,
          0.5326789617538452,
          5.501452445983887,
          -8.688515663146973,
          -6.767489433288574,
          3.294938564300537,
          2.6043100357055664,
          6.974937438964844,
          9.070549011230469,
          4.89529275894165,
          0.15924039483070374,
          -7.191847324371338,
          9.937814712524414,
          10.398327827453613,
          6.39426326751709,
          -12.892693519592285,
          -5.560482501983643,
          -12.471487998962402,
          -0.7428652048110962,
          -13.404696464538574,
          5.466777801513672,
          1.4855360984802246,
          9.389744758605957,
          3.8745524883270264,
          2.893892526626587,
          -13.034661293029785,
          8.435905456542969,
          8.337000846862793,
          -11.24560832977295,
          9.575493812561035,
          -7.858023643493652,
          9.922820091247559,
          2.4829261302948,
          2.3917758464813232,
          -5.664976596832275,
          5.37080717086792,
          9.46228313446045,
          -12.707741737365723,
          5.554940700531006,
          0.29778948426246643,
          6.569289207458496,
          -3.780534029006958,
          8.110737800598145,
          1.5536890029907227,
          4.89642858505249,
          -10.35883903503418,
          -6.361111164093018,
          -1.1421304941177368,
          -3.8664324283599854,
          5.906004905700684,
          9.544072151184082,
          2.851539373397827,
          4.371307849884033,
          10.033288955688477,
          1.5293320417404175,
          -3.7552883625030518,
          5.83369255065918,
          -3.207947254180908,
          9.432188034057617,
          6.374619007110596,
          7.5931901931762695,
          -1.5888320207595825,
          6.690982818603516,
          6.865286350250244,
          10.149794578552246,
          9.763033866882324,
          4.8958659172058105,
          -9.570502281188965,
          10.761150360107422,
          10.557376861572266,
          6.46913480758667,
          10.5631742477417,
          -1.8820796012878418,
          1.5181092023849487,
          -4.237368583679199,
          -1.0186893939971924,
          10.229741096496582,
          6.802220344543457,
          0.5494280457496643,
          -0.012887811288237572,
          -4.103322982788086,
          -4.373692512512207,
          6.48518705368042,
          -3.2121996879577637,
          5.981379985809326,
          2.8489394187927246,
          1.9210658073425293,
          1.8426933288574219,
          4.219914436340332,
          2.8044023513793945,
          10.929292678833008,
          9.44169807434082,
          4.488272666931152,
          -0.8883150815963745,
          -0.7282788157463074,
          -7.246145725250244,
          0.7605189085006714,
          2.8780384063720703,
          -3.9141275882720947,
          6.784398078918457,
          -13.100911140441895,
          0.9969419836997986,
          -8.727351188659668,
          9.319527626037598,
          4.5814032554626465,
          -8.601949691772461,
          2.355891704559326,
          -3.284583330154419,
          6.882708549499512,
          5.731348514556885,
          2.5983469486236572,
          -3.238138198852539,
          -0.3789157569408417,
          6.558767318725586,
          -6.6218414306640625,
          -2.242147445678711,
          -4.846172332763672,
          0.02198249101638794,
          5.711915493011475,
          10.305375099182129,
          4.4230756759643555,
          9.406532287597656,
          6.891453266143799,
          -0.9976392388343811,
          10.963407516479492,
          2.4385550022125244,
          3.5745866298675537,
          0.5497789978981018,
          -8.547734260559082,
          -0.48180267214775085,
          4.356072902679443,
          4.21858549118042,
          -0.8111528158187866,
          -2.363905906677246,
          -7.8129353523254395,
          2.369080066680908,
          0.11689340323209763,
          4.697883129119873,
          5.365716457366943,
          0.7556637525558472,
          11.05097484588623,
          -13.463510513305664,
          -8.370892524719238,
          5.265078544616699,
          4.1335530281066895,
          8.283605575561523,
          3.673175811767578,
          -8.14492130279541,
          -3.183105707168579,
          5.92588996887207,
          -11.272509574890137,
          5.008267879486084,
          3.331239938735962,
          1.5227066278457642,
          5.711836338043213,
          5.1749491691589355,
          -6.969200134277344,
          4.6804938316345215,
          10.791664123535156,
          -7.090585231781006,
          4.0335612297058105,
          -6.401895523071289,
          9.787501335144043,
          -4.464835166931152,
          -2.0927541255950928,
          -1.6177479028701782,
          2.828125476837158,
          -1.252247929573059,
          -3.9468259811401367,
          7.027245998382568,
          -1.5352745056152344,
          5.6324567794799805,
          -5.750768661499023,
          6.702719688415527,
          5.95225191116333,
          -2.620213508605957,
          2.3079206943511963,
          10.769936561584473,
          5.8377251625061035,
          1.2118418216705322,
          5.460583209991455,
          -2.5902955532073975,
          8.12767505645752,
          5.184582233428955,
          2.215742588043213,
          7.58899450302124,
          2.007205009460449,
          3.1428046226501465,
          -2.0717110633850098,
          -11.621293067932129,
          -4.322924613952637,
          -1.9897716045379639,
          4.947662353515625,
          3.925513982772827,
          4.0881805419921875,
          1.6251131296157837,
          1.2080605030059814,
          10.848504066467285,
          -12.2092924118042,
          -0.9444978833198547,
          4.22922420501709,
          -2.1691060066223145,
          0.6178559064865112,
          5.258325576782227,
          -8.905133247375488,
          2.764845848083496,
          10.275873184204102,
          4.8061089515686035,
          2.790792226791382,
          10.479702949523926,
          -4.944139003753662,
          4.842351913452148,
          6.913817405700684,
          2.199713706970215,
          5.985973834991455,
          -4.2078728675842285,
          6.852959156036377,
          -8.448922157287598,
          -3.0237653255462646,
          5.564094543457031,
          -2.7823281288146973,
          1.5167148113250732,
          5.411721706390381,
          6.675252914428711,
          2.71567440032959,
          8.37830924987793,
          -13.190437316894531,
          -8.128716468811035,
          -6.104039192199707,
          1.5177583694458008,
          5.5616841316223145,
          1.4316903352737427,
          -9.850456237792969,
          6.474419116973877,
          2.740142583847046,
          0.9332180023193359,
          -5.884174823760986,
          -13.462607383728027,
          0.912467360496521,
          4.2193379402160645,
          -5.770499229431152,
          9.843968391418457,
          1.5748789310455322,
          4.039134502410889,
          4.659042835235596,
          -6.298539638519287,
          -9.817265510559082,
          4.261309623718262,
          -8.674262046813965,
          1.1247929334640503,
          -0.3062652349472046,
          9.997127532958984,
          3.2391765117645264,
          2.403412103652954,
          -7.483831882476807,
          -3.1935009956359863,
          1.237963318824768,
          -6.159412860870361,
          6.643095970153809,
          -8.710457801818848,
          8.199278831481934,
          6.804083347320557,
          -2.834545373916626,
          -12.8472900390625,
          10.630016326904297,
          1.9809211492538452,
          10.774510383605957,
          5.104684352874756,
          4.000481128692627,
          -2.775256872177124,
          4.064404010772705,
          1.0561591386795044,
          6.830920696258545,
          4.6138997077941895,
          4.739720821380615,
          -7.763059139251709,
          1.789552927017212,
          10.642509460449219,
          4.113824367523193,
          10.346033096313477,
          -8.733956336975098,
          -8.82015609741211,
          -8.615510940551758,
          2.53732967376709,
          -1.8553037643432617,
          10.170848846435547,
          2.410496711730957,
          5.9382452964782715,
          6.729007244110107,
          -1.7743362188339233,
          10.366058349609375,
          -8.584086418151855,
          -3.5785951614379883,
          -8.386333465576172,
          -6.750293731689453,
          0.7509788274765015,
          -1.8705346584320068,
          9.143184661865234,
          -7.468512535095215,
          0.07932331413030624,
          2.5072786808013916,
          -11.340522766113281,
          -10.181496620178223,
          2.887666940689087,
          3.202678918838501,
          0.1541927456855774,
          0.268873006105423,
          0.12150689959526062,
          4.213179588317871,
          -10.998361587524414,
          3.9736878871917725,
          2.0305466651916504,
          2.8411097526550293,
          -1.7618720531463623,
          -6.360813617706299,
          0.20882363617420197,
          -1.9102425575256348,
          10.675209045410156,
          4.2193379402160645,
          6.94281005859375,
          -2.985769271850586,
          -3.391996383666992,
          9.442023277282715,
          -11.4279146194458,
          -3.3469736576080322,
          -9.404875755310059,
          2.5820767879486084,
          0.9181205630302429,
          -6.596103668212891,
          9.001505851745605,
          -2.0092227458953857,
          0.865313708782196,
          4.711397171020508,
          -6.387666702270508,
          8.2501802444458,
          5.534300804138184,
          -7.725637435913086,
          6.679808139801025,
          2.813506841659546,
          7.803964614868164,
          6.483650207519531,
          4.232174873352051,
          -8.250137329101562,
          6.938483238220215,
          -1.3493499755859375,
          -11.944612503051758,
          6.122183799743652,
          6.894485950469971,
          1.022937297821045,
          3.9688775539398193,
          1.2144314050674438,
          -3.816267490386963,
          -4.4640278816223145,
          0.3067505955696106,
          0.7911831140518188,
          9.034741401672363,
          -10.838665008544922,
          9.51927661895752,
          8.475178718566895,
          -5.102792739868164,
          1.9951740503311157,
          0.9786273241043091,
          -4.105278968811035,
          -8.248510360717773,
          -2.3576536178588867,
          4.927472114562988,
          -6.396629333496094,
          -5.461319923400879,
          0.9898523688316345,
          -9.259272575378418,
          -13.233777046203613,
          10.68393325805664,
          6.462316513061523,
          -5.048018932342529,
          6.4164862632751465,
          -11.801397323608398,
          -7.715370178222656,
          6.4469990730285645,
          1.4273558855056763,
          -2.2568092346191406,
          -1.4565352201461792,
          6.425853252410889,
          2.8258585929870605,
          10.596902847290039,
          7.0935821533203125,
          -8.560589790344238
         ],
         "z": [
          -7.478287220001221,
          -11.627771377563477,
          8.215953826904297,
          -12.763809204101562,
          -3.6848206520080566,
          -11.117470741271973,
          -4.569577217102051,
          -8.614413261413574,
          -5.056455612182617,
          -1.2113757133483887,
          -7.3069329261779785,
          6.258956432342529,
          0.746165931224823,
          -9.129324913024902,
          -0.3645454943180084,
          -7.678635597229004,
          -8.165373802185059,
          4.601049900054932,
          -4.413512706756592,
          0.4233292043209076,
          0.8038936853408813,
          4.287247657775879,
          -4.855039596557617,
          -2.5732381343841553,
          -1.7099030017852783,
          0.2103428989648819,
          -5.02905797958374,
          -9.685585975646973,
          -5.0179972648620605,
          -7.701995849609375,
          -9.046339988708496,
          -10.061955451965332,
          -5.614405155181885,
          -6.747823238372803,
          -0.15468381345272064,
          -5.131227493286133,
          5.502172946929932,
          -13.325926780700684,
          -4.143911838531494,
          -13.22624683380127,
          -5.619675636291504,
          -4.849435806274414,
          -4.87727689743042,
          -4.599051475524902,
          1.0213336944580078,
          0.7632701396942139,
          0.08336449414491653,
          -11.62938117980957,
          -13.135455131530762,
          -13.337329864501953,
          -13.117351531982422,
          -12.12382984161377,
          -9.423495292663574,
          -9.147945404052734,
          -1.4595370292663574,
          3.7942309379577637,
          -3.7874538898468018,
          6.136655330657959,
          8.050849914550781,
          1.5879387855529785,
          -10.481593132019043,
          -6.64630126953125,
          8.230993270874023,
          -1.7096556425094604,
          6.606914520263672,
          -0.4835839569568634,
          4.30107307434082,
          -10.245067596435547,
          6.740280628204346,
          -12.388028144836426,
          -6.828347682952881,
          -10.316718101501465,
          4.474210739135742,
          -1.6456353664398193,
          -2.263279914855957,
          -12.000703811645508,
          1.7373085021972656,
          -3.928622245788574,
          -5.506002426147461,
          -1.5598232746124268,
          -10.162982940673828,
          8.210455894470215,
          -6.452569007873535,
          -6.724599838256836,
          -9.426026344299316,
          6.4684600830078125,
          -0.9438182711601257,
          6.127140045166016,
          -11.50719928741455,
          -1.1224472522735596,
          -5.888880729675293,
          0.04469124972820282,
          0.05055440217256546,
          4.74298095703125,
          8.083958625793457,
          -1.3934193849563599,
          5.524077415466309,
          1.2250322103500366,
          3.10244083404541,
          8.149669647216797,
          -10.123908996582031,
          -10.270284652709961,
          7.04860258102417,
          -3.568424940109253,
          0.648457407951355,
          2.2510480880737305,
          -10.296252250671387,
          -12.999930381774902,
          -6.137861251831055,
          -9.515058517456055,
          -8.053244590759277,
          8.04419231414795,
          -7.549773216247559,
          -9.668978691101074,
          8.145889282226562,
          -5.603142738342285,
          -10.188639640808105,
          -10.272982597351074,
          1.8162630796432495,
          4.623447895050049,
          6.976584434509277,
          -0.9638354778289795,
          -12.783464431762695,
          -0.5430043935775757,
          8.205123901367188,
          -12.407783508300781,
          3.2906312942504883,
          -6.8712239265441895,
          0.13186988234519958,
          -6.886609077453613,
          0.04601796716451645,
          -1.6058852672576904,
          5.4315185546875,
          -12.00235366821289,
          6.939876556396484,
          -2.1474204063415527,
          -3.868173599243164,
          -10.351737976074219,
          -4.843593120574951,
          6.439298629760742,
          -8.855624198913574,
          4.4983720779418945,
          7.476748466491699,
          -3.8743958473205566,
          -10.563819885253906,
          -1.4929009675979614,
          4.223226070404053,
          8.354984283447266,
          -7.693983554840088,
          4.236156463623047,
          6.170431137084961,
          1.0787080526351929,
          -3.0814859867095947,
          -0.8090304732322693,
          -2.4926440715789795,
          2.8557190895080566,
          3.507932424545288,
          5.4496965408325195,
          -9.38798713684082,
          -1.0330543518066406,
          2.272970199584961,
          6.894079208374023,
          2.8836758136749268,
          -9.383938789367676,
          -10.237642288208008,
          4.47169828414917,
          -7.942819118499756,
          -2.2152180671691895,
          8.043914794921875,
          -1.7184756994247437,
          4.271446704864502,
          -1.6913836002349854,
          -13.011476516723633,
          -0.7369080781936646,
          -0.49684736132621765,
          -0.7337920069694519,
          -0.4458365738391876,
          -0.6586881875991821,
          -11.77635383605957,
          -1.0726710557937622,
          0.7193847298622131,
          -7.080808639526367,
          4.041897773742676,
          -1.9190062284469604,
          1.5025360584259033,
          -1.9995087385177612,
          5.104065895080566,
          2.9566073417663574,
          -13.333525657653809,
          1.5777639150619507,
          0.28915417194366455,
          -7.177505016326904,
          -7.4726643562316895,
          -6.377920150756836,
          1.1271978616714478,
          2.3088786602020264,
          -7.412441253662109,
          -5.970369338989258,
          4.834433555603027,
          7.801373481750488,
          -0.5154151916503906,
          -3.482637643814087,
          7.513896465301514,
          -1.0225566625595093,
          -11.51993465423584,
          -12.953615188598633,
          -0.11809162050485611,
          -1.1675046682357788,
          1.2645667791366577,
          -1.0473073720932007,
          -0.17199985682964325,
          -9.770832061767578,
          -8.830723762512207,
          6.176690101623535,
          -0.17218953371047974,
          0.7205578088760376,
          -1.5622706413269043,
          -2.7960095405578613,
          8.008340835571289,
          5.0238871574401855,
          8.1843843460083,
          -9.839526176452637,
          6.735805034637451,
          0.7406940460205078,
          0.9469481110572815,
          -1.2658135890960693,
          5.4620680809021,
          -8.16504955291748,
          2.0732147693634033,
          -0.7418904900550842,
          -3.361281633377075,
          0.07481757551431656,
          3.5419483184814453,
          -1.1978815793991089,
          -8.523889541625977,
          0.6824246644973755,
          5.283397197723389,
          -8.961934089660645,
          -3.5101704597473145,
          -10.265981674194336,
          -12.507087707519531,
          -1.346927285194397,
          -0.9771270751953125,
          -0.5293377637863159,
          -6.1179022789001465,
          5.3623046875,
          -13.221325874328613,
          -4.395683288574219,
          -13.267473220825195,
          -1.3852133750915527,
          8.072434425354004,
          1.5089387893676758,
          -7.088237762451172,
          5.039856433868408,
          -9.450776100158691,
          -12.714367866516113,
          0.2430504411458969,
          -10.347216606140137,
          4.729024887084961,
          -9.363818168640137,
          0.06261255592107773,
          2.7711853981018066,
          -0.28916412591934204,
          6.950314044952393,
          -3.758049964904785,
          0.25566425919532776,
          -0.7353929281234741,
          3.911221504211426,
          2.4259769916534424,
          3.121626853942871,
          4.879035472869873,
          1.4148340225219727,
          -9.59975528717041,
          7.01453161239624,
          -8.545485496520996,
          -1.8465365171432495,
          0.8465169072151184,
          4.614741325378418,
          -6.096002101898193,
          -1.2542136907577515,
          2.780520439147949,
          -10.321274757385254,
          3.3759138584136963,
          -3.1464831829071045,
          8.339876174926758,
          0.4400620758533478,
          6.408443927764893,
          -1.616367220878601,
          -0.5692593455314636,
          0.8359797596931458,
          -1.442773699760437,
          -6.168489933013916,
          4.7070207595825195,
          -0.8858922719955444,
          -8.54656982421875,
          -0.7439752817153931,
          -11.494096755981445,
          8.12637710571289,
          -1.1003680229187012,
          -12.209442138671875,
          1.8759201765060425,
          1.400100588798523,
          8.035948753356934,
          -1.4347254037857056,
          -3.6451468467712402,
          7.605344772338867,
          -5.531800270080566,
          -2.6126904487609863,
          -1.692391276359558,
          5.981329917907715,
          -2.039961814880371,
          -1.047255039215088,
          -13.251546859741211,
          -8.755754470825195,
          -3.0229148864746094,
          3.6107568740844727,
          -1.712092399597168,
          -1.026435375213623,
          -2.5031309127807617,
          0.8649641275405884,
          2.7765958309173584,
          -2.563262462615967,
          -10.373778343200684,
          3.4505503177642822,
          8.15243911743164,
          7.0319905281066895,
          4.939244747161865,
          -11.831754684448242,
          -4.460301876068115,
          -12.537606239318848,
          -1.3319863080978394,
          -10.026145935058594,
          0.8481141328811646,
          8.146136283874512,
          -6.351191997528076,
          4.11256217956543,
          0.1251942217350006,
          -1.047254204750061,
          -5.529961109161377,
          8.481651306152344,
          -0.26769715547561646,
          4.928954124450684,
          4.964810848236084,
          -6.7106757164001465,
          -0.6519708037376404,
          -9.382600784301758,
          4.024094104766846,
          -1.3177175521850586,
          2.1769661903381348,
          -3.3804891109466553,
          -6.686642169952393,
          -0.8526451587677002,
          7.776402473449707,
          -3.846256732940674,
          -9.319733619689941,
          5.379636764526367,
          7.456271648406982,
          5.752321720123291,
          -5.711502552032471,
          5.24932861328125,
          5.6533894538879395,
          -1.758718490600586,
          -12.18277645111084,
          7.908524036407471,
          -11.823241233825684,
          -1.5648747682571411,
          -9.331116676330566,
          0.700379490852356,
          4.667480945587158,
          -10.178549766540527,
          6.962852478027344,
          -12.558452606201172,
          -9.809942245483398,
          -6.634284019470215,
          -2.1867711544036865,
          5.7461042404174805,
          -0.7209717035293579,
          0.19339460134506226,
          1.486389398574829,
          -3.1416404247283936,
          -5.007246494293213,
          1.0126965045928955,
          -1.5682345628738403,
          -1.232575535774231,
          -8.621737480163574,
          0.1300801783800125,
          0.6418845057487488,
          -7.263635635375977,
          8.079985618591309,
          6.144674301147461,
          6.036223411560059,
          1.7587957382202148,
          -10.320829391479492,
          5.45684814453125,
          -8.876483917236328,
          5.781269073486328,
          -4.213548183441162,
          -2.288219451904297,
          0.7267056107521057,
          -7.576461315155029,
          -0.5763580799102783,
          -9.89913272857666,
          8.160381317138672,
          -7.258516311645508,
          5.587878704071045,
          -1.1104249954223633,
          -10.19704818725586,
          -10.709307670593262,
          6.887135982513428,
          -2.6804046630859375,
          -10.492897987365723,
          0.9694461822509766,
          3.9018473625183105,
          4.2016496658325195,
          8.178346633911133,
          0.47721630334854126,
          -9.905891418457031,
          -0.597051739692688,
          -0.18531998991966248,
          2.6039652824401855,
          -0.6492092609405518,
          -9.718093872070312,
          4.475459575653076,
          -4.5894646644592285,
          -0.49026933312416077,
          -12.677047729492188,
          -0.5287677645683289,
          -5.621219635009766,
          8.137195587158203,
          4.7030348777771,
          -1.0676889419555664,
          -0.18714848160743713,
          -3.4746763706207275,
          -8.898072242736816,
          0.4075201451778412,
          -9.4351224899292,
          7.644265174865723,
          -4.985590934753418,
          -1.281398057937622,
          -0.24749408662319183,
          3.278698682785034,
          -4.416626453399658,
          -9.647547721862793,
          7.659638404846191,
          6.557592391967773,
          -4.330060958862305,
          -1.1688412427902222,
          7.157200813293457,
          4.5967278480529785,
          0.717092752456665,
          -1.1431554555892944,
          0.732546329498291,
          -0.5721644163131714,
          -9.583617210388184,
          -9.386916160583496,
          -7.091019153594971,
          3.5085480213165283,
          -10.478042602539062,
          -0.5034343004226685,
          5.729836463928223,
          -8.319567680358887,
          0.24105913937091827,
          -0.28792256116867065,
          -1.535330891609192,
          0.7486921548843384,
          -4.088100910186768,
          -11.883939743041992,
          0.18547773361206055,
          -4.708688259124756,
          3.089858293533325,
          2.9561574459075928,
          8.018364906311035,
          -2.7095813751220703,
          -0.9573774933815002,
          -0.1889171451330185,
          0.7605594396591187,
          0.8093929886817932,
          8.235610008239746,
          8.192695617675781,
          -0.3527609407901764,
          4.41251277923584,
          -5.597043037414551,
          -6.901825904846191,
          4.999161243438721,
          -6.532461643218994,
          -9.472590446472168,
          -7.596628665924072,
          6.004846096038818,
          -10.174748420715332,
          0.0834595263004303,
          -1.6212303638458252,
          0.34128445386886597,
          1.9314560890197754,
          4.0086750984191895,
          -3.63350510597229,
          -10.321015357971191,
          -0.32288283109664917,
          -9.084020614624023,
          -2.49356746673584,
          3.0277605056762695,
          -9.068476676940918,
          -2.0323944091796875,
          -1.6533453464508057,
          -2.628399610519409,
          -12.714508056640625,
          -1.0282902717590332,
          8.213849067687988,
          0.7819664478302002,
          -3.1890676021575928,
          -8.989974021911621,
          -10.302641868591309,
          -1.81360924243927,
          -4.668846607208252,
          7.805760383605957,
          -4.376285076141357,
          -2.933121919631958,
          -8.433504104614258,
          4.93898344039917,
          4.235867500305176,
          5.859896183013916,
          -10.358518600463867,
          -1.276354432106018,
          6.216887474060059,
          -2.3162620067596436,
          -10.142701148986816,
          3.6959240436553955,
          -6.124084949493408,
          0.10920727252960205,
          -4.693173408508301,
          4.8546600341796875,
          1.5597476959228516,
          -5.540674686431885,
          -9.84618091583252,
          6.174962997436523,
          0.4680597186088562,
          8.231355667114258,
          -3.024507999420166,
          -10.352866172790527,
          -6.375598907470703,
          -2.2874932289123535,
          7.316633701324463,
          -0.8133951425552368,
          1.3700737953186035,
          -0.6528828740119934,
          6.243567943572998,
          -3.3846657276153564,
          -5.4789042472839355,
          5.4512505531311035,
          -4.278372764587402,
          -7.987025260925293,
          -1.9489965438842773,
          5.316628456115723,
          -0.506151020526886,
          -6.549926280975342,
          0.5580400824546814,
          3.314486026763916,
          -4.90746545791626,
          3.2888734340667725,
          2.9987833499908447,
          -13.2044095993042,
          4.727280616760254,
          -12.42739200592041,
          -1.9329522848129272,
          -7.68521785736084,
          0.6267604231834412,
          7.59514045715332,
          5.03717565536499,
          0.6671930551528931,
          -3.5938143730163574,
          -0.2624567747116089,
          -9.771800994873047,
          8.003661155700684,
          0.7195950746536255,
          -13.241265296936035,
          -9.860358238220215,
          2.6876449584960938,
          1.2291687726974487,
          6.281425952911377,
          -6.1609015464782715,
          0.3154054880142212,
          7.2827253341674805,
          -1.5080338716506958,
          -2.7703254222869873,
          0.47393399477005005,
          1.370489239692688,
          -4.736429214477539,
          -1.7132664918899536,
          3.590956211090088,
          0.9921302199363708,
          6.646116733551025,
          -10.223709106445312,
          -7.651857852935791,
          3.780688524246216,
          -11.741979598999023,
          -7.426718235015869,
          8.226846694946289,
          -13.272845268249512,
          0.08415384590625763,
          -0.8698213696479797,
          -6.127624034881592,
          -9.595414161682129,
          -0.001607818529009819,
          -10.865930557250977,
          0.5889525413513184,
          -1.9026621580123901,
          -1.63657808303833,
          -10.0894775390625,
          6.350887298583984,
          -7.937442779541016,
          -0.2209281325340271,
          1.2058035135269165,
          8.02158260345459,
          3.2948687076568604,
          4.906558513641357,
          -0.21042746305465698,
          -12.705643653869629,
          -10.015033721923828,
          -7.103875160217285,
          7.024319171905518,
          0.022885628044605255,
          -8.480941772460938,
          2.552201509475708,
          7.0065999031066895,
          -10.280628204345703,
          -10.249845504760742,
          3.584806203842163,
          0.6267139315605164,
          -0.5180863738059998,
          3.0042319297790527,
          -10.288087844848633,
          -9.715119361877441,
          -4.324713230133057,
          0.1507544070482254,
          -0.8092514276504517,
          6.0437726974487305,
          -2.2451939582824707,
          -4.334638595581055,
          8.102952003479004,
          -13.02155590057373,
          6.75786018371582,
          -10.02800464630127,
          -0.9727851748466492,
          -1.5771183967590332,
          -10.275614738464355,
          2.285660982131958,
          -1.541713833808899,
          8.106659889221191,
          -9.86879825592041,
          -2.6732990741729736,
          -11.092483520507812,
          -0.1297704130411148,
          6.398733615875244,
          -10.378482818603516,
          -12.373664855957031,
          -11.382109642028809,
          8.265560150146484,
          3.3104248046875,
          8.220169067382812,
          -1.6923320293426514,
          -8.230658531188965,
          -9.808086395263672,
          -12.023016929626465,
          2.4458444118499756,
          -0.15002568066120148,
          -9.926227569580078,
          4.288595199584961,
          1.7695883512496948,
          -12.0350341796875,
          7.911105155944824,
          -10.306713104248047,
          0.6782572865486145,
          8.071516990661621,
          5.962323188781738,
          3.9964728355407715,
          -0.7104991674423218,
          -3.79709529876709,
          0.936959981918335,
          5.793226718902588,
          8.201040267944336,
          -8.893171310424805,
          -9.629401206970215,
          6.926995754241943,
          -3.5607948303222656,
          1.038337230682373,
          -3.0252292156219482,
          -0.27143123745918274,
          -6.883085250854492,
          -0.002189201768487692,
          -1.9259790182113647,
          -0.75787752866745,
          0.9618090987205505,
          8.002184867858887,
          -0.9856085181236267,
          2.0124924182891846,
          7.999244213104248,
          -1.2394026517868042,
          -1.3979641199111938,
          8.177302360534668,
          -5.530735969543457,
          2.5241029262542725,
          -9.767135620117188,
          4.275759696960449,
          -7.684746265411377,
          -7.820411205291748,
          6.405252933502197,
          -1.4647976160049438,
          6.790238380432129,
          0.8793705105781555,
          -1.0613765716552734,
          -8.349199295043945,
          -13.283946990966797,
          -4.299026012420654,
          -1.5671602487564087,
          -0.9463463425636292,
          -10.032323837280273,
          0.7293391823768616,
          -1.5464465618133545,
          -4.021725654602051,
          -6.196427345275879,
          8.229196548461914,
          7.995593070983887,
          -13.068779945373535,
          -1.7276486158370972,
          -0.4488556683063507,
          -13.066814422607422,
          -7.091019153594971,
          -1.6956114768981934,
          -1.7406500577926636,
          -4.355106830596924,
          -8.631202697753906,
          -10.265629768371582,
          -1.7131904363632202,
          -6.240268707275391,
          -7.878345966339111,
          1.9852118492126465,
          5.147008895874023,
          -12.76297664642334,
          -2.423029661178589,
          -13.069074630737305,
          2.4691107273101807,
          -1.391823410987854,
          0.1289374828338623,
          -3.6189231872558594,
          -1.722206711769104,
          -3.9751434326171875,
          1.851801872253418,
          -4.693389415740967,
          8.190238952636719,
          -0.38566720485687256,
          -2.0999650955200195,
          3.107219696044922,
          7.648303508758545,
          2.4609375,
          -0.8430896401405334,
          -0.04671492427587509,
          -0.3343331217765808,
          -9.579442024230957,
          -3.2817890644073486,
          -4.936985969543457,
          -10.243404388427734,
          -10.295868873596191,
          -1.1681004762649536,
          3.5133588314056396,
          3.027268409729004,
          -9.701216697692871,
          -0.8001725077629089,
          -7.514619827270508,
          1.463003158569336,
          -0.09542152285575867,
          8.009902954101562,
          0.017907775938510895,
          -2.0103530883789062,
          3.81982421875,
          -9.826607704162598,
          3.695768356323242,
          -12.316795349121094,
          -1.5233306884765625,
          -0.19748933613300323,
          -0.20102830231189728,
          2.936123847961426,
          -9.527505874633789,
          6.815937042236328,
          -0.769619345664978,
          6.985256195068359,
          -1.4282304048538208,
          7.362123966217041,
          0.5869358777999878,
          -4.224555969238281,
          -5.770702362060547,
          -10.310020446777344,
          5.153818130493164,
          7.165918350219727,
          -1.8858633041381836,
          -12.868874549865723,
          -9.84552001953125,
          -4.696018218994141,
          -8.79061508178711,
          -13.277861595153809,
          -10.36472225189209,
          2.8249340057373047,
          -9.783018112182617,
          -12.891315460205078,
          -12.263318061828613,
          2.982222318649292,
          -7.091019153594971,
          -6.238112449645996,
          -0.7236735820770264,
          5.203342914581299,
          6.359422206878662,
          -4.116263389587402,
          -0.3114858865737915,
          -6.741613388061523,
          -13.274510383605957,
          0.8118903040885925,
          -1.6552050113677979,
          7.209258079528809,
          -0.09761985391378403,
          -2.952972888946533,
          -10.287936210632324,
          -9.852526664733887,
          7.853612899780273,
          -0.7492568492889404,
          -1.2904672622680664,
          -8.342793464660645,
          7.995296478271484,
          8.027567863464355,
          -8.87096118927002,
          -6.8601250648498535,
          3.5028159618377686,
          -6.101010799407959,
          6.421847343444824,
          -3.2512831687927246,
          -9.598190307617188,
          -5.305626392364502,
          0.8547372817993164,
          -9.427106857299805,
          -13.136058807373047,
          1.1574119329452515,
          4.920156002044678,
          4.508100986480713,
          0.8397526144981384,
          7.157042503356934,
          -4.9142165184021,
          -3.0495645999908447,
          7.720056056976318,
          -1.4691439867019653,
          -13.270187377929688,
          -13.079658508300781,
          -0.939996600151062,
          -8.03291130065918,
          -0.31587234139442444,
          1.939918041229248,
          -9.632623672485352,
          -10.48238468170166,
          6.638656139373779,
          -6.946832180023193,
          -1.4857518672943115,
          -0.4722497761249542,
          8.224874496459961,
          -1.4475069046020508,
          -3.4044580459594727,
          -3.677877426147461,
          -0.9206438660621643,
          -3.5264570713043213,
          0.9351835250854492,
          -0.2737250328063965,
          -12.560602188110352,
          -3.4519853591918945,
          4.685447692871094,
          -0.8648029565811157,
          4.007424831390381,
          -0.18275567889213562
         ]
        },
        {
         "hovertemplate": "Dominant_Topic=Topic 1<br>0=%{x}<br>1=%{y}<br>2=%{z}<extra></extra>",
         "legendgroup": "Topic 1",
         "marker": {
          "color": "#EF553B",
          "opacity": 0.7,
          "symbol": "circle"
         },
         "mode": "markers",
         "name": "Topic 1",
         "scene": "scene",
         "showlegend": true,
         "type": "scatter3d",
         "x": [
          0.8551632761955261,
          1.775354027748108,
          1.1642626523971558,
          1.5367878675460815,
          1.4075497388839722,
          0.821307361125946,
          2.2997124195098877,
          1.441819429397583,
          0.7664578557014465,
          0.18256115913391113,
          0.7787134051322937,
          1.334294080734253,
          0.8107110857963562,
          1.3171436786651611,
          0.038615938276052475,
          1.3776261806488037,
          0.9533384442329407,
          0.9943029880523682,
          1.009823203086853,
          1.2419885396957397,
          0.3024294078350067,
          0.8983899354934692,
          1.2342602014541626,
          0.79093998670578,
          0.31777507066726685,
          1.2703849077224731,
          0.96370929479599,
          0.8977062106132507,
          1.0680797100067139,
          1.3827805519104004,
          1.3530889749526978,
          1.1313194036483765,
          1.4258930683135986,
          0.115867979824543,
          1.1407859325408936,
          1.5921586751937866,
          1.185763955116272,
          1.2171950340270996,
          0.8806752562522888,
          2.0720760822296143,
          1.2671641111373901,
          0.8845885396003723,
          0.49385446310043335,
          1.478637933731079,
          0.765881359577179,
          0.7580152153968811,
          0.7657808661460876,
          1.0132408142089844,
          1.9309992790222168,
          1.2124782800674438,
          0.7320879101753235,
          1.3109737634658813,
          1.2683162689208984,
          1.3796807527542114,
          1.3830281496047974,
          1.2250456809997559,
          0.34506261348724365,
          0.7482605576515198,
          1.3134855031967163,
          1.4868922233581543,
          0.7538707852363586,
          0.8009824156761169,
          2.24224591255188,
          1.3413701057434082,
          1.587174654006958,
          1.3058222532272339,
          0.8143840432167053,
          1.7449930906295776,
          0.3678990602493286,
          2.0298080444335938
         ],
         "y": [
          -8.126239776611328,
          -6.5958991050720215,
          -8.32962417602539,
          -8.18172550201416,
          -8.15897274017334,
          -3.4980876445770264,
          -4.736141204833984,
          -8.181849479675293,
          -8.2660551071167,
          -4.793448448181152,
          -3.2442970275878906,
          -8.198265075683594,
          -8.17712688446045,
          -8.19094467163086,
          -4.429534912109375,
          -8.112054824829102,
          -7.173064231872559,
          -7.1871843338012695,
          -8.202166557312012,
          -8.345818519592285,
          -5.221313953399658,
          -7.450334548950195,
          -8.32529067993164,
          -8.217147827148438,
          -4.357203960418701,
          -8.284782409667969,
          -8.18533992767334,
          -7.182038307189941,
          -7.863131046295166,
          -8.173807144165039,
          -8.126310348510742,
          -8.341863632202148,
          -7.65775728225708,
          -3.2538952827453613,
          -8.119527816772461,
          -4.158538818359375,
          -8.369369506835938,
          -8.345410346984863,
          -8.130989074707031,
          -5.69492244720459,
          -8.302905082702637,
          -8.128591537475586,
          -6.116062641143799,
          -7.969093322753906,
          -8.259904861450195,
          -6.794159412384033,
          -3.1520514488220215,
          -8.213672637939453,
          -5.906650066375732,
          -8.335004806518555,
          -6.81962776184082,
          -8.19766616821289,
          -8.285309791564941,
          -3.903024435043335,
          -8.171348571777344,
          -7.907558917999268,
          -5.918292999267578,
          -6.267085075378418,
          -8.180487632751465,
          -8.183456420898438,
          -3.0714330673217773,
          -7.277487277984619,
          -5.230894088745117,
          -8.141796112060547,
          -4.450728893280029,
          -8.24277114868164,
          -8.171963691711426,
          -3.920281410217285,
          -5.550700664520264,
          -4.3221755027771
         ],
         "z": [
          8.83338737487793,
          5.679430961608887,
          6.8159894943237305,
          3.781855344772339,
          4.41220760345459,
          7.550223350524902,
          5.521841049194336,
          4.239638328552246,
          9.653573989868164,
          8.713868141174316,
          6.6082234382629395,
          5.052583694458008,
          9.220538139343262,
          5.30731725692749,
          8.731046676635742,
          4.599565029144287,
          7.905211925506592,
          3.441826105117798,
          7.829054355621338,
          6.223015308380127,
          8.732665061950684,
          8.202230453491211,
          6.250194549560547,
          9.414051055908203,
          8.425445556640625,
          5.962274074554443,
          8.122370719909668,
          8.116693496704102,
          7.454780578613281,
          4.594493389129639,
          4.827245712280273,
          7.036279678344727,
          3.872777223587036,
          5.862648010253906,
          7.07928991317749,
          6.715754508972168,
          6.630346298217773,
          6.394476890563965,
          8.654820442199707,
          5.559764862060547,
          6.05214786529541,
          8.624553680419922,
          2.6575846672058105,
          4.069306373596191,
          9.651154518127441,
          8.51750659942627,
          7.538035869598389,
          7.8084306716918945,
          5.8035478591918945,
          6.46408748626709,
          8.62088680267334,
          5.409160137176514,
          6.099299907684326,
          6.944004058837891,
          4.5900468826293945,
          6.866756916046143,
          2.6062612533569336,
          8.384862899780273,
          5.449626922607422,
          4.019936561584473,
          7.53781270980835,
          8.6057710647583,
          5.456562519073486,
          4.966701984405518,
          6.775811672210693,
          5.488204479217529,
          9.187800407409668,
          6.474239349365234,
          8.788722038269043,
          6.044470310211182
         ]
        },
        {
         "hovertemplate": "Dominant_Topic=Topic 2<br>0=%{x}<br>1=%{y}<br>2=%{z}<extra></extra>",
         "legendgroup": "Topic 2",
         "marker": {
          "color": "#00cc96",
          "opacity": 0.7,
          "symbol": "circle"
         },
         "mode": "markers",
         "name": "Topic 2",
         "scene": "scene",
         "showlegend": true,
         "type": "scatter3d",
         "x": [
          -3.195904493331909,
          -2.998427391052246,
          -3.887035608291626,
          -4.026306629180908,
          -3.5673649311065674,
          -3.5884506702423096,
          -3.9504826068878174,
          -4.212256908416748,
          -3.932194948196411,
          -3.6561968326568604,
          -4.0423455238342285,
          -4.110293388366699,
          -4.227738380432129,
          -2.2378413677215576,
          -3.9764034748077393,
          -3.9413092136383057,
          -0.9230327010154724,
          -3.8742823600769043,
          -1.7062684297561646,
          -4.183003902435303,
          -3.5597784519195557,
          -4.014503002166748,
          -3.5865020751953125,
          -4.003881454467773,
          -4.268673896789551,
          -3.2161009311676025,
          -3.274346113204956,
          0.45084473490715027,
          -0.15372705459594727,
          -4.093385219573975,
          -3.19209885597229,
          -0.42572498321533203,
          -0.5851625800132751,
          -0.16936741769313812,
          -3.9567625522613525,
          -3.8399200439453125,
          -3.8982722759246826,
          -4.251087188720703,
          -3.737454414367676,
          -3.2088539600372314,
          -3.988605260848999,
          -2.154348373413086,
          -3.9970338344573975,
          -3.9455976486206055,
          -3.1886754035949707,
          -3.8615121841430664,
          -2.1572265625,
          -4.085134506225586,
          -3.8100149631500244,
          -2.137869358062744,
          -3.542445659637451,
          -3.7134783267974854,
          -3.718308925628662,
          -4.1834235191345215,
          -3.671285390853882,
          -3.6242315769195557
         ],
         "y": [
          -3.9458847045898438,
          -0.8571600317955017,
          -0.8781570196151733,
          -1.5593225955963135,
          0.3073364496231079,
          0.648558497428894,
          -3.007880926132202,
          -2.3668181896209717,
          -1.102787971496582,
          -1.0773537158966064,
          -1.6875394582748413,
          -2.2276484966278076,
          -2.969897508621216,
          -3.9184720516204834,
          -1.2774306535720825,
          -1.1014618873596191,
          -0.2891703248023987,
          -3.3157060146331787,
          -0.04638580605387688,
          -2.6797292232513428,
          0.853708803653717,
          -2.318614959716797,
          0.39370808005332947,
          -1.436411738395691,
          -2.456507921218872,
          -3.971351385116577,
          -3.799107074737549,
          -2.6836113929748535,
          -4.37077522277832,
          -2.115067720413208,
          0.47445136308670044,
          -4.289987564086914,
          -4.235210418701172,
          -0.9914841651916504,
          -2.523172616958618,
          -0.646880567073822,
          -3.285653829574585,
          -2.927001953125,
          -0.18625971674919128,
          -0.01661911979317665,
          -2.8639237880706787,
          -3.804140567779541,
          -2.8230326175689697,
          -2.486102342605591,
          -4.0135297775268555,
          -0.7447458505630493,
          -0.38924363255500793,
          -3.132826089859009,
          -0.4633181095123291,
          -3.8841984272003174,
          -3.2629780769348145,
          -3.5352516174316406,
          -2.645475387573242,
          -2.4859189987182617,
          -0.07059916108846664,
          0.41731324791908264
         ],
         "z": [
          11.169347763061523,
          8.728058815002441,
          9.291879653930664,
          9.829572677612305,
          8.562223434448242,
          8.47571849822998,
          11.043121337890625,
          10.560417175292969,
          9.459489822387695,
          9.207991600036621,
          9.930437088012695,
          10.38518238067627,
          10.750588417053223,
          10.310006141662598,
          9.602938652038574,
          9.471009254455566,
          7.662441730499268,
          11.056132316589355,
          7.946240425109863,
          10.382823944091797,
          8.398200035095215,
          10.648488998413086,
          8.551467895507812,
          9.72842025756836,
          10.525768280029297,
          11.219385147094727,
          11.076579093933105,
          7.782456874847412,
          8.883650779724121,
          10.276771545410156,
          6.514913082122803,
          9.084190368652344,
          9.189205169677734,
          7.539551258087158,
          10.874744415283203,
          9.131912231445312,
          11.03640365600586,
          10.734686851501465,
          8.848487854003906,
          6.998174667358398,
          10.424583435058594,
          10.129095077514648,
          11.026262283325195,
          10.838871002197266,
          11.245182991027832,
          9.199663162231445,
          6.47862434387207,
          10.865202903747559,
          9.023107528686523,
          10.191092491149902,
          10.69520092010498,
          11.146209716796875,
          10.40661334991455,
          10.37138843536377,
          8.760497093200684,
          8.566472053527832
         ]
        },
        {
         "hovertemplate": "Dominant_Topic=Topic 3<br>0=%{x}<br>1=%{y}<br>2=%{z}<extra></extra>",
         "legendgroup": "Topic 3",
         "marker": {
          "color": "#ab63fa",
          "opacity": 0.7,
          "symbol": "circle"
         },
         "mode": "markers",
         "name": "Topic 3",
         "scene": "scene",
         "showlegend": true,
         "type": "scatter3d",
         "x": [
          -1.8988780975341797,
          -1.8672561645507812
         ],
         "y": [
          -2.9232852458953857,
          -2.9619295597076416
         ],
         "z": [
          1.8311512470245361,
          1.8395638465881348
         ]
        }
       ],
       "layout": {
        "height": 800,
        "legend": {
         "title": {
          "text": "Dominant_Topic"
         },
         "tracegroupgap": 0
        },
        "scene": {
         "domain": {
          "x": [
           0,
           1
          ],
          "y": [
           0,
           1
          ]
         },
         "xaxis": {
          "title": {
           "text": "0"
          }
         },
         "yaxis": {
          "title": {
           "text": "1"
          }
         },
         "zaxis": {
          "title": {
           "text": "2"
          }
         }
        },
        "template": {
         "data": {
          "bar": [
           {
            "error_x": {
             "color": "#2a3f5f"
            },
            "error_y": {
             "color": "#2a3f5f"
            },
            "marker": {
             "line": {
              "color": "#E5ECF6",
              "width": 0.5
             },
             "pattern": {
              "fillmode": "overlay",
              "size": 10,
              "solidity": 0.2
             }
            },
            "type": "bar"
           }
          ],
          "barpolar": [
           {
            "marker": {
             "line": {
              "color": "#E5ECF6",
              "width": 0.5
             },
             "pattern": {
              "fillmode": "overlay",
              "size": 10,
              "solidity": 0.2
             }
            },
            "type": "barpolar"
           }
          ],
          "carpet": [
           {
            "aaxis": {
             "endlinecolor": "#2a3f5f",
             "gridcolor": "white",
             "linecolor": "white",
             "minorgridcolor": "white",
             "startlinecolor": "#2a3f5f"
            },
            "baxis": {
             "endlinecolor": "#2a3f5f",
             "gridcolor": "white",
             "linecolor": "white",
             "minorgridcolor": "white",
             "startlinecolor": "#2a3f5f"
            },
            "type": "carpet"
           }
          ],
          "choropleth": [
           {
            "colorbar": {
             "outlinewidth": 0,
             "ticks": ""
            },
            "type": "choropleth"
           }
          ],
          "contour": [
           {
            "colorbar": {
             "outlinewidth": 0,
             "ticks": ""
            },
            "colorscale": [
             [
              0,
              "#0d0887"
             ],
             [
              0.1111111111111111,
              "#46039f"
             ],
             [
              0.2222222222222222,
              "#7201a8"
             ],
             [
              0.3333333333333333,
              "#9c179e"
             ],
             [
              0.4444444444444444,
              "#bd3786"
             ],
             [
              0.5555555555555556,
              "#d8576b"
             ],
             [
              0.6666666666666666,
              "#ed7953"
             ],
             [
              0.7777777777777778,
              "#fb9f3a"
             ],
             [
              0.8888888888888888,
              "#fdca26"
             ],
             [
              1,
              "#f0f921"
             ]
            ],
            "type": "contour"
           }
          ],
          "contourcarpet": [
           {
            "colorbar": {
             "outlinewidth": 0,
             "ticks": ""
            },
            "type": "contourcarpet"
           }
          ],
          "heatmap": [
           {
            "colorbar": {
             "outlinewidth": 0,
             "ticks": ""
            },
            "colorscale": [
             [
              0,
              "#0d0887"
             ],
             [
              0.1111111111111111,
              "#46039f"
             ],
             [
              0.2222222222222222,
              "#7201a8"
             ],
             [
              0.3333333333333333,
              "#9c179e"
             ],
             [
              0.4444444444444444,
              "#bd3786"
             ],
             [
              0.5555555555555556,
              "#d8576b"
             ],
             [
              0.6666666666666666,
              "#ed7953"
             ],
             [
              0.7777777777777778,
              "#fb9f3a"
             ],
             [
              0.8888888888888888,
              "#fdca26"
             ],
             [
              1,
              "#f0f921"
             ]
            ],
            "type": "heatmap"
           }
          ],
          "heatmapgl": [
           {
            "colorbar": {
             "outlinewidth": 0,
             "ticks": ""
            },
            "colorscale": [
             [
              0,
              "#0d0887"
             ],
             [
              0.1111111111111111,
              "#46039f"
             ],
             [
              0.2222222222222222,
              "#7201a8"
             ],
             [
              0.3333333333333333,
              "#9c179e"
             ],
             [
              0.4444444444444444,
              "#bd3786"
             ],
             [
              0.5555555555555556,
              "#d8576b"
             ],
             [
              0.6666666666666666,
              "#ed7953"
             ],
             [
              0.7777777777777778,
              "#fb9f3a"
             ],
             [
              0.8888888888888888,
              "#fdca26"
             ],
             [
              1,
              "#f0f921"
             ]
            ],
            "type": "heatmapgl"
           }
          ],
          "histogram": [
           {
            "marker": {
             "pattern": {
              "fillmode": "overlay",
              "size": 10,
              "solidity": 0.2
             }
            },
            "type": "histogram"
           }
          ],
          "histogram2d": [
           {
            "colorbar": {
             "outlinewidth": 0,
             "ticks": ""
            },
            "colorscale": [
             [
              0,
              "#0d0887"
             ],
             [
              0.1111111111111111,
              "#46039f"
             ],
             [
              0.2222222222222222,
              "#7201a8"
             ],
             [
              0.3333333333333333,
              "#9c179e"
             ],
             [
              0.4444444444444444,
              "#bd3786"
             ],
             [
              0.5555555555555556,
              "#d8576b"
             ],
             [
              0.6666666666666666,
              "#ed7953"
             ],
             [
              0.7777777777777778,
              "#fb9f3a"
             ],
             [
              0.8888888888888888,
              "#fdca26"
             ],
             [
              1,
              "#f0f921"
             ]
            ],
            "type": "histogram2d"
           }
          ],
          "histogram2dcontour": [
           {
            "colorbar": {
             "outlinewidth": 0,
             "ticks": ""
            },
            "colorscale": [
             [
              0,
              "#0d0887"
             ],
             [
              0.1111111111111111,
              "#46039f"
             ],
             [
              0.2222222222222222,
              "#7201a8"
             ],
             [
              0.3333333333333333,
              "#9c179e"
             ],
             [
              0.4444444444444444,
              "#bd3786"
             ],
             [
              0.5555555555555556,
              "#d8576b"
             ],
             [
              0.6666666666666666,
              "#ed7953"
             ],
             [
              0.7777777777777778,
              "#fb9f3a"
             ],
             [
              0.8888888888888888,
              "#fdca26"
             ],
             [
              1,
              "#f0f921"
             ]
            ],
            "type": "histogram2dcontour"
           }
          ],
          "mesh3d": [
           {
            "colorbar": {
             "outlinewidth": 0,
             "ticks": ""
            },
            "type": "mesh3d"
           }
          ],
          "parcoords": [
           {
            "line": {
             "colorbar": {
              "outlinewidth": 0,
              "ticks": ""
             }
            },
            "type": "parcoords"
           }
          ],
          "pie": [
           {
            "automargin": true,
            "type": "pie"
           }
          ],
          "scatter": [
           {
            "fillpattern": {
             "fillmode": "overlay",
             "size": 10,
             "solidity": 0.2
            },
            "type": "scatter"
           }
          ],
          "scatter3d": [
           {
            "line": {
             "colorbar": {
              "outlinewidth": 0,
              "ticks": ""
             }
            },
            "marker": {
             "colorbar": {
              "outlinewidth": 0,
              "ticks": ""
             }
            },
            "type": "scatter3d"
           }
          ],
          "scattercarpet": [
           {
            "marker": {
             "colorbar": {
              "outlinewidth": 0,
              "ticks": ""
             }
            },
            "type": "scattercarpet"
           }
          ],
          "scattergeo": [
           {
            "marker": {
             "colorbar": {
              "outlinewidth": 0,
              "ticks": ""
             }
            },
            "type": "scattergeo"
           }
          ],
          "scattergl": [
           {
            "marker": {
             "colorbar": {
              "outlinewidth": 0,
              "ticks": ""
             }
            },
            "type": "scattergl"
           }
          ],
          "scattermapbox": [
           {
            "marker": {
             "colorbar": {
              "outlinewidth": 0,
              "ticks": ""
             }
            },
            "type": "scattermapbox"
           }
          ],
          "scatterpolar": [
           {
            "marker": {
             "colorbar": {
              "outlinewidth": 0,
              "ticks": ""
             }
            },
            "type": "scatterpolar"
           }
          ],
          "scatterpolargl": [
           {
            "marker": {
             "colorbar": {
              "outlinewidth": 0,
              "ticks": ""
             }
            },
            "type": "scatterpolargl"
           }
          ],
          "scatterternary": [
           {
            "marker": {
             "colorbar": {
              "outlinewidth": 0,
              "ticks": ""
             }
            },
            "type": "scatterternary"
           }
          ],
          "surface": [
           {
            "colorbar": {
             "outlinewidth": 0,
             "ticks": ""
            },
            "colorscale": [
             [
              0,
              "#0d0887"
             ],
             [
              0.1111111111111111,
              "#46039f"
             ],
             [
              0.2222222222222222,
              "#7201a8"
             ],
             [
              0.3333333333333333,
              "#9c179e"
             ],
             [
              0.4444444444444444,
              "#bd3786"
             ],
             [
              0.5555555555555556,
              "#d8576b"
             ],
             [
              0.6666666666666666,
              "#ed7953"
             ],
             [
              0.7777777777777778,
              "#fb9f3a"
             ],
             [
              0.8888888888888888,
              "#fdca26"
             ],
             [
              1,
              "#f0f921"
             ]
            ],
            "type": "surface"
           }
          ],
          "table": [
           {
            "cells": {
             "fill": {
              "color": "#EBF0F8"
             },
             "line": {
              "color": "white"
             }
            },
            "header": {
             "fill": {
              "color": "#C8D4E3"
             },
             "line": {
              "color": "white"
             }
            },
            "type": "table"
           }
          ]
         },
         "layout": {
          "annotationdefaults": {
           "arrowcolor": "#2a3f5f",
           "arrowhead": 0,
           "arrowwidth": 1
          },
          "autotypenumbers": "strict",
          "coloraxis": {
           "colorbar": {
            "outlinewidth": 0,
            "ticks": ""
           }
          },
          "colorscale": {
           "diverging": [
            [
             0,
             "#8e0152"
            ],
            [
             0.1,
             "#c51b7d"
            ],
            [
             0.2,
             "#de77ae"
            ],
            [
             0.3,
             "#f1b6da"
            ],
            [
             0.4,
             "#fde0ef"
            ],
            [
             0.5,
             "#f7f7f7"
            ],
            [
             0.6,
             "#e6f5d0"
            ],
            [
             0.7,
             "#b8e186"
            ],
            [
             0.8,
             "#7fbc41"
            ],
            [
             0.9,
             "#4d9221"
            ],
            [
             1,
             "#276419"
            ]
           ],
           "sequential": [
            [
             0,
             "#0d0887"
            ],
            [
             0.1111111111111111,
             "#46039f"
            ],
            [
             0.2222222222222222,
             "#7201a8"
            ],
            [
             0.3333333333333333,
             "#9c179e"
            ],
            [
             0.4444444444444444,
             "#bd3786"
            ],
            [
             0.5555555555555556,
             "#d8576b"
            ],
            [
             0.6666666666666666,
             "#ed7953"
            ],
            [
             0.7777777777777778,
             "#fb9f3a"
            ],
            [
             0.8888888888888888,
             "#fdca26"
            ],
            [
             1,
             "#f0f921"
            ]
           ],
           "sequentialminus": [
            [
             0,
             "#0d0887"
            ],
            [
             0.1111111111111111,
             "#46039f"
            ],
            [
             0.2222222222222222,
             "#7201a8"
            ],
            [
             0.3333333333333333,
             "#9c179e"
            ],
            [
             0.4444444444444444,
             "#bd3786"
            ],
            [
             0.5555555555555556,
             "#d8576b"
            ],
            [
             0.6666666666666666,
             "#ed7953"
            ],
            [
             0.7777777777777778,
             "#fb9f3a"
            ],
            [
             0.8888888888888888,
             "#fdca26"
            ],
            [
             1,
             "#f0f921"
            ]
           ]
          },
          "colorway": [
           "#636efa",
           "#EF553B",
           "#00cc96",
           "#ab63fa",
           "#FFA15A",
           "#19d3f3",
           "#FF6692",
           "#B6E880",
           "#FF97FF",
           "#FECB52"
          ],
          "font": {
           "color": "#2a3f5f"
          },
          "geo": {
           "bgcolor": "white",
           "lakecolor": "white",
           "landcolor": "#E5ECF6",
           "showlakes": true,
           "showland": true,
           "subunitcolor": "white"
          },
          "hoverlabel": {
           "align": "left"
          },
          "hovermode": "closest",
          "mapbox": {
           "style": "light"
          },
          "paper_bgcolor": "white",
          "plot_bgcolor": "#E5ECF6",
          "polar": {
           "angularaxis": {
            "gridcolor": "white",
            "linecolor": "white",
            "ticks": ""
           },
           "bgcolor": "#E5ECF6",
           "radialaxis": {
            "gridcolor": "white",
            "linecolor": "white",
            "ticks": ""
           }
          },
          "scene": {
           "xaxis": {
            "backgroundcolor": "#E5ECF6",
            "gridcolor": "white",
            "gridwidth": 2,
            "linecolor": "white",
            "showbackground": true,
            "ticks": "",
            "zerolinecolor": "white"
           },
           "yaxis": {
            "backgroundcolor": "#E5ECF6",
            "gridcolor": "white",
            "gridwidth": 2,
            "linecolor": "white",
            "showbackground": true,
            "ticks": "",
            "zerolinecolor": "white"
           },
           "zaxis": {
            "backgroundcolor": "#E5ECF6",
            "gridcolor": "white",
            "gridwidth": 2,
            "linecolor": "white",
            "showbackground": true,
            "ticks": "",
            "zerolinecolor": "white"
           }
          },
          "shapedefaults": {
           "line": {
            "color": "#2a3f5f"
           }
          },
          "ternary": {
           "aaxis": {
            "gridcolor": "white",
            "linecolor": "white",
            "ticks": ""
           },
           "baxis": {
            "gridcolor": "white",
            "linecolor": "white",
            "ticks": ""
           },
           "bgcolor": "#E5ECF6",
           "caxis": {
            "gridcolor": "white",
            "linecolor": "white",
            "ticks": ""
           }
          },
          "title": {
           "x": 0.05
          },
          "xaxis": {
           "automargin": true,
           "gridcolor": "white",
           "linecolor": "white",
           "ticks": "",
           "title": {
            "standoff": 15
           },
           "zerolinecolor": "white",
           "zerolinewidth": 2
          },
          "yaxis": {
           "automargin": true,
           "gridcolor": "white",
           "linecolor": "white",
           "ticks": "",
           "title": {
            "standoff": 15
           },
           "zerolinecolor": "white",
           "zerolinewidth": 2
          }
         }
        },
        "title": {
         "text": "3d TSNE Plot for Topic Model"
        },
        "width": 900
       }
      },
      "text/html": [
       "<div>                            <div id=\"92e187c0-e0a6-41f8-8b55-1de71961b1a2\" class=\"plotly-graph-div\" style=\"height:800px; width:900px;\"></div>            <script type=\"text/javascript\">                require([\"plotly\"], function(Plotly) {                    window.PLOTLYENV=window.PLOTLYENV || {};                                    if (document.getElementById(\"92e187c0-e0a6-41f8-8b55-1de71961b1a2\")) {                    Plotly.newPlot(                        \"92e187c0-e0a6-41f8-8b55-1de71961b1a2\",                        [{\"hovertemplate\":\"Dominant_Topic=Topic 0<br>0=%{x}<br>1=%{y}<br>2=%{z}<extra></extra>\",\"legendgroup\":\"Topic 0\",\"marker\":{\"color\":\"#636efa\",\"opacity\":0.7,\"symbol\":\"circle\"},\"mode\":\"markers\",\"name\":\"Topic 0\",\"scene\":\"scene\",\"showlegend\":true,\"x\":[9.167067527770996,-8.358061790466309,-2.9266583919525146,-7.847080230712891,-2.69502854347229,-8.570387840270996,-1.4661437273025513,8.289814949035645,-9.102914810180664,5.1452107429504395,9.275970458984375,1.6171274185180664,11.303932189941406,-9.222784996032715,10.972539901733398,-2.7272868156433105,-9.364099502563477,3.1759207248687744,10.483172416687012,2.455199956893921,11.064034461975098,2.2230570316314697,-1.915292739868164,10.22550106048584,8.270593643188477,2.6986870765686035,-2.0359809398651123,0.7772877812385559,10.308182716369629,-2.7853081226348877,-9.238245964050293,2.052529811859131,10.143834114074707,-9.379356384277344,11.018138885498047,-9.114680290222168,1.5782724618911743,-7.0030364990234375,-1.2384517192840576,-7.219902515411377,-9.190540313720703,-9.075653076171875,-1.958781361579895,-1.7249618768692017,2.712449073791504,2.430936574935913,11.182435035705566,-8.356433868408203,-6.835813522338867,-6.959847450256348,-6.834274768829346,-8.119596481323242,7.399262428283691,7.711755752563477,-2.742936372756958,3.6273319721221924,-0.8301646113395691,1.0362087488174438,-3.526761054992676,2.3821098804473877,-8.823829650878906,-1.4259796142578125,-3.511791706085205,8.443199157714844,1.3913145065307617,10.38737678527832,2.6843008995056152,5.164620876312256,1.4483100175857544,-7.900210857391357,-9.294280052185059,4.416807174682617,3.0729570388793945,8.888018608093262,0.6830123066902161,-8.16991138458252,6.428832054138184,-1.0618091821670532,-9.174914360046387,-8.54857063293457,-8.941230773925781,-2.8976657390594482,-9.30429744720459,-9.366949081420898,-0.18989916145801544,1.7455452680587769,-2.7243447303771973,2.050572633743286,-8.407835960388184,1.5402740240097046,10.00585651397705,11.175827980041504,0.5644383430480957,-3.18746280670166,-3.3518946170806885,-0.38358354568481445,1.9993375539779663,2.5898025035858154,2.562309980392456,-3.597264289855957,-3.7261581420898438,3.0720937252044678,0.8820364475250244,-2.7048964500427246,0.8894152045249939,5.56643009185791,4.789795875549316,-6.74816370010376,-0.7609761357307434,-2.303086519241333,-3.17976450920105,-3.324550151824951,-9.39919662475586,-9.111700057983398,-3.6011128425598145,8.443552017211914,5.436539649963379,4.990056991577148,3.835754156112671,2.099409580230713,0.07668830454349518,10.870686531066895,-7.6383256912231445,-2.4006450176239014,-2.8672103881835938,-8.056403160095215,1.698633074760437,-1.700905680656433,3.3587050437927246,-1.752834677696228,0.48630160093307495,8.826248168945312,1.5365266799926758,-8.184996604919434,0.30032849311828613,0.7711127400398254,10.596236228942871,-4.671245574951172,-1.92949640750885,0.9764217734336853,8.06004524230957,2.9829535484313965,-0.7288051247596741,-1.0105810165405273,-8.790884017944336,-0.8188679218292236,2.7940568923950195,-3.542877674102783,-9.392932891845703,3.4613776206970215,1.0018552541732788,3.137434959411621,-2.643892526626587,4.386341571807861,0.3998076915740967,3.252431869506836,4.119446754455566,1.863876461982727,-0.3509414494037628,10.812292098999023,2.607273578643799,0.20295612514019012,3.024272918701172,-9.167795181274414,2.8366053104400635,3.237276315689087,9.057760238647461,-2.075327157974243,-2.094850540161133,8.250711441040039,2.300731897354126,8.707237243652344,-6.749792098999023,10.830503463745117,10.916088104248047,4.2793354988098145,-8.948418617248535,4.166114807128906,-8.299482345581055,-8.630587577819824,11.321928024291992,9.396503448486328,2.572816848754883,0.9354475736618042,-2.564023494720459,-2.61306095123291,1.8555481433868408,4.6732683181762695,-6.957455158233643,-0.44988206028938293,3.2339260578155518,-9.408483505249023,-9.4064302444458,-1.0500786304473877,-0.29490089416503906,2.0723328590393066,-9.403120040893555,9.977622985839844,2.0088441371917725,-1.4062234163284302,-2.92334246635437,-8.861263275146484,0.7390130162239075,10.919631004333496,-8.402449607849121,-6.727503776550293,11.11472225189209,-2.8042166233062744,2.528146505355835,4.7469048500061035,3.607804298400879,6.782583236694336,-9.279078483581543,1.2708276510238647,2.0997579097747803,11.343667984008789,1.2135244607925415,0.09672357141971588,-1.9518897533416748,2.916111946105957,-3.5117263793945312,1.261813998222351,1.4935040473937988,11.320058822631836,11.29915714263916,-0.5035001635551453,2.403578758239746,8.633227348327637,3.9439876079559326,10.75341510772705,-8.73691463470459,11.0928316116333,2.8061769008636475,5.105718612670898,-3.7358028888702393,11.388051986694336,1.7365232706069946,-4.228969573974609,-8.886507034301758,-4.585202217102051,-7.831145763397217,-2.563586711883545,10.300795555114746,10.429624557495117,-2.6874139308929443,1.7883566617965698,-7.221103668212891,-8.999556541442871,-7.0586161613464355,5.639196395874023,-2.2026894092559814,2.422701835632324,-1.9754735231399536,-3.0637998580932617,7.316543102264404,-7.766200065612793,11.074723243713379,-4.666416645050049,2.330718517303467,-0.5092307925224304,11.195561408996582,4.82530403137207,-2.963811159133911,0.10867076367139816,-0.8941202163696289,3.217740297317505,11.197407722473145,3.5996501445770264,4.851712703704834,1.1134213209152222,3.0211997032165527,-2.5742390155792236,-9.187173843383789,0.024246422573924065,-3.7411446571350098,1.0522856712341309,2.8104817867279053,2.101865530014038,9.90292739868164,5.675848960876465,3.2325239181518555,4.221258640289307,3.638756513595581,-8.796399116516113,-3.5396664142608643,11.088347434997559,1.567707896232605,8.98540210723877,10.701803207397461,-0.4202541708946228,-8.553088188171387,-0.7884658575057983,3.03338623046875,10.704371452331543,-9.318246841430664,10.57592487335205,-8.413559913635254,-3.437575340270996,4.890994548797607,-8.083287239074707,6.222681999206543,3.710542678833008,-3.506865978240967,-2.6217689514160156,-2.715257167816162,-0.9889304637908936,-3.3460912704467773,-8.694392204284668,7.522761344909668,2.1698477268218994,10.888435363769531,4.746860504150391,-7.120645523071289,8.170546531677246,-8.771005630493164,3.7357594966888428,7.863394737243652,11.291736602783203,0.38837066292762756,2.530764579772949,2.599036455154419,10.838456153869629,-4.690747261047363,4.039160251617432,-3.551206588745117,0.6118240356445312,2.397792339324951,-8.299489974975586,10.45822525024414,-7.646749496459961,-0.5551071166992188,1.9260101318359375,0.9532344937324524,-2.548542022705078,-2.8390636444091797,2.3421695232391357,2.247765064239502,4.746859550476074,10.145140647888184,-3.0241873264312744,11.087799072265625,2.6438887119293213,-3.2394866943359375,-3.102750062942505,10.666726112365723,7.421479225158691,3.4754765033721924,10.904096603393555,2.9399642944335938,-8.939586639404297,-9.354517936706543,-8.723638534545898,-1.349132776260376,-8.890158653259277,7.490746974945068,1.6721127033233643,-0.6842541694641113,1.3813048601150513,-2.4657061100006104,1.760961890220642,2.299069881439209,-2.6825480461120605,-8.075028419494629,-1.6631540060043335,-8.249738693237305,-2.6598544120788574,7.472960948944092,2.5576870441436768,-2.9714388847351074,-4.487432479858398,0.09441781044006348,-7.973442554473877,1.1612210273742676,-1.385338306427002,-2.608325242996216,1.4833869934082031,-2.8765509128570557,2.3236124515533447,2.4419093132019043,-8.796211242675781,-2.026564121246338,2.7095353603363037,9.20849323272705,5.1495442390441895,-9.307592391967773,11.223054885864258,-2.5742781162261963,-2.284682512283325,-3.550483226776123,1.9845433235168457,1.7166500091552734,3.80364990234375,4.210871696472168,1.9888365268707275,-9.269543647766113,1.7278327941894531,-1.3135710954666138,-8.643074989318848,-0.6471792459487915,9.047069549560547,-0.283508837223053,-3.279263973236084,-3.412757396697998,-2.2813737392425537,1.647212028503418,4.906896114349365,-4.511575222015381,-8.73507308959961,1.3413612842559814,10.431073188781738,-8.81753158569336,3.2364232540130615,3.442133665084839,3.4980432987213135,-3.4633841514587402,2.2507729530334473,6.462368965148926,4.111802101135254,0.46178385615348816,2.6112451553344727,11.152894020080566,0.8734561204910278,-2.984717607498169,-2.9197068214416504,3.954195737838745,-7.69144344329834,-2.8961918354034424,-3.4073846340179443,-3.599048137664795,2.9368951320648193,-8.628633499145508,11.095359802246094,10.646963119506836,-4.167183876037598,11.110333442687988,-0.13979583978652954,-1.0697320699691772,-9.09081745147705,8.093185424804688,8.56301212310791,3.2993853092193604,-1.7269903421401978,7.033341407775879,-3.58830189704895,0.6258977055549622,-1.5811234712600708,9.975591659545898,-0.19007450342178345,3.1798150539398193,11.144148826599121,-8.600708961486816,11.326824188232422,-0.8333628177642822,0.4253368079662323,-1.3170251846313477,-2.0340993404388428,2.4820423126220703,-8.825502395629883,3.965332508087158,1.5564360618591309,8.601676940917969,11.14615535736084,-9.045769691467285,9.272818565368652,2.866456985473633,-1.2152113914489746,-8.242043495178223,2.30513596534729,-9.050909996032715,3.582866907119751,3.0013270378112793,-3.470144033432007,-2.6109237670898438,1.6408203840255737,-0.012002442963421345,10.446999549865723,2.479252815246582,-3.6052846908569336,-3.59879207611084,8.249185562133789,-2.9538209438323975,10.127668380737305,-9.385010719299316,1.923801064491272,9.716888427734375,0.01663607358932495,9.078920364379883,1.831339716911316,5.500984191894531,3.3757708072662354,6.877084732055664,11.098404884338379,6.107898235321045,2.5940725803375244,-0.793276846408844,3.7830893993377686,-2.6008806228637695,-9.23052978515625,0.3970203399658203,2.684887170791626,7.80601167678833,-8.602579116821289,8.918272972106934,-8.696732521057129,-7.829056739807129,-8.6533842086792,-3.43619966506958,11.494902610778809,-0.3144243359565735,-4.256375312805176,-4.618632793426514,-8.570619583129883,-1.6843370199203491,-1.4177254438400269,-8.995076179504395,-0.044851113110780716,-9.333320617675781,1.9575352668762207,3.0019097328186035,1.4514514207839966,-8.87244987487793,11.02165412902832,0.9621532559394836,-8.64561653137207,5.640867233276367,3.938502073287964,-2.6947638988494873,0.5942833423614502,-1.840063452720642,2.6668710708618164,4.062539100646973,-9.179160118103027,-8.966723442077637,1.9807175397872925,0.21455763280391693,-3.275578498840332,-0.1412036269903183,-4.672416687011719,-1.0335453748703003,0.5957735776901245,-0.9035816192626953,10.625661849975586,3.417893648147583,11.120656967163086,0.9316813945770264,10.723124504089355,8.561921119689941,2.588484048843384,10.499698638916016,8.920554161071777,0.920715868473053,1.7124603986740112,10.785804748535156,-9.309122085571289,2.494826555252075,2.5220766067504883,-0.720765233039856,2.529090404510498,4.388378143310547,-7.23868989944458,2.866974353790283,-8.013429641723633,0.9153472781181335,9.1793794631958,-2.581866979598999,-0.8021405935287476,2.6764981746673584,0.9055125117301941,10.654690742492676,10.611343383789062,6.7399516105651855,-3.420034646987915,11.224737167358398,-7.146622657775879,1.31422758102417,4.596426010131836,2.51638126373291,0.8950465321540833,-0.7862532138824463,11.26084041595459,0.3418465256690979,6.149476051330566,-2.6002275943756104,11.158480644226074,-0.7774384617805481,10.386195182800293,-8.56088924407959,4.027185916900635,2.460604190826416,0.5341659188270569,2.761481285095215,-9.394604682922363,1.1691176891326904,-8.311073303222656,9.186845779418945,-3.342135429382324,-6.848940849304199,-0.2058069109916687,-2.852837085723877,-2.691485643386841,-8.996826171875,10.830755233764648,-8.672866821289062,11.301353454589844,10.90534496307373,1.1617813110351562,2.1601269245147705,0.8257871270179749,8.794305801391602,-2.979356288909912,2.5022387504577637,-3.391770839691162,3.5857436656951904,2.8820040225982666,3.6298933029174805,-7.680037498474121,1.889827013015747,-2.053727865219116,0.8534932136535645,11.006240844726562,-9.327293395996094,4.996941089630127,0.5664449334144592,3.1603431701660156,5.135813236236572,4.048858642578125,2.328322172164917,-8.905540466308594,1.7955474853515625,4.856666564941406,0.889576256275177,-1.6585626602172852,11.068100929260254,4.372766971588135,0.4588664770126343,10.811352729797363,-8.988061904907227,-3.5610246658325195,-6.752097129821777,0.3603416979312897,6.048428058624268,10.697944641113281,6.557823181152344,3.103752374649048,2.6095423698425293,6.349208354949951,-3.574734926223755,-9.096089363098145,0.2211119830608368,-8.58115291595459,11.280614852905273,1.8046634197235107,-4.6956257820129395,-7.728168964385986,-8.460492134094238,-2.807955026626587,3.4672210216522217,-3.3786628246307373,8.562978744506836,8.590200424194336,6.665236949920654,-8.153868675231934,5.20496129989624,2.1099026203155518,6.3752970695495605,3.313697338104248,3.579716444015503,-8.159305572509766,-1.6807019710540771,4.634047031402588,11.170084953308105,-2.206479549407959,1.4179311990737915,3.050879716873169,-0.6118388772010803,-8.872384071350098,0.30503666400909424,2.2983644008636475,-3.5568137168884277,-4.1561198234558105,0.6327046751976013,-0.02938319928944111,-2.702286958694458,2.5242295265197754,-8.769671440124512,-2.9738552570343018,-1.7470465898513794,11.207425117492676,-2.011195421218872,11.061301231384277,2.7620022296905518,-3.4070427417755127,1.7147284746170044,3.8733959197998047,-3.408684492111206,1.4610613584518433,9.574009895324707,-3.602691173553467,10.167534828186035,5.110913276672363,6.755131244659424,3.148991584777832,8.956158638000488,-9.387248039245605,1.772382378578186,10.897970199584961,1.4413251876831055,11.292728424072266,11.059016227722168,8.620643615722656,-6.987078666687012,-1.3925777673721313,-8.548776626586914,4.595884799957275,-8.987060546875,11.41038990020752,10.965520858764648,-2.78071665763855,-9.27761173248291,-3.0188891887664795,-3.3949990272521973,-7.378908157348633,8.464953422546387,-8.94588565826416,-7.386007785797119,-2.034099578857422,8.562687873840332,1.1339670419692993,-2.848327398300171,-3.8458306789398193,3.0326015949249268,7.731060028076172,-9.283785820007324,-2.9783387184143066,2.2073261737823486,-3.2266221046447754,-7.661175727844238,0.4663679003715515,-6.761931896209717,5.119998931884766,5.662774562835693,-0.32867440581321716,-2.7115867137908936,7.96200704574585,10.539542198181152,2.2643234729766846,-1.564941644668579,-2.792666435241699,11.15073299407959,-8.616929054260254,2.5605528354644775,-2.0715391635894775,2.6120917797088623,11.215995788574219,11.113265037536621,-0.24851693212985992,0.4917290508747101,-2.6674718856811523,10.316522598266602,2.8785364627838135,3.298307418823242,5.005199432373047,3.9610681533813477,2.578866958618164,0.7922893166542053,1.8510421514511108,-9.40245532989502,2.4469985961914062,3.5346622467041016,-3.3850274085998535,11.152786254882812,0.8531274795532227,1.234381079673767,6.63356351852417,2.7436108589172363,-7.9695024490356445,1.2513625621795654,3.641238212585449,8.682001113891602,1.8190405368804932,-9.1556396484375,0.6313281059265137,-0.798176646232605,0.06671039760112762,5.792980670928955,-0.21680615842342377,11.199728965759277,-8.972740173339844,-9.212362289428711,-4.630444049835205,1.9815354347229004,0.231222465634346,-2.649399995803833,-7.563734531402588,1.2830595970153809,-9.0504150390625,-4.032690525054932,-7.09928560256958,-4.682703971862793,4.579829692840576,-8.954633712768555,-7.545293807983398,-7.991218566894531,2.577862024307251,-2.034099578857422,9.855915069580078,10.840584754943848,2.6103601455688477,0.8285279870033264,-8.969477653503418,10.910531997680664,-9.371973991394043,-6.86091947555542,11.452549934387207,7.1691999435424805,-0.2647276520729065,11.294285774230957,-2.629741668701172,3.2073841094970703,-9.12197208404541,-1.5315916538238525,10.301285743713379,5.342871189117432,8.515508651733398,-3.4053866863250732,-2.023209810256958,8.044782638549805,-1.7007993459701538,1.626397967338562,9.93478012084961,1.7579832077026367,-8.782605171203613,7.10365104675293,10.215227127075195,11.150513648986816,-0.1541101485490799,-7.31276273727417,-0.716244637966156,2.715888023376465,-2.9781248569488525,11.144198417663574,-0.19007891416549683,-9.08128547668457,-0.1708662509918213,-1.215686321258545,9.404913902282715,-7.099425315856934,-7.36859655380249,10.167400360107422,-9.376893997192383,11.18196964263916,3.8388171195983887,-9.155171394348145,-8.823346138000488,-3.2934446334838867,-9.397390365600586,-8.54898738861084,1.9581965208053589,-3.016549825668335,9.4683256149292,10.682948112487793,-8.914599418640137,4.464682579040527,10.682047843933105,11.336862564086914,10.978636741638184,-7.970103740692139,10.685623168945312,2.466200828552246,1.7104226350784302,2.5884275436401367,3.5997629165649414],\"y\":[6.86521053314209,-3.492158889770508,6.617459297180176,-0.8094533085823059,1.3113443851470947,-4.421858310699463,8.506871223449707,6.587132453918457,-10.72734260559082,-7.850976467132568,6.8920578956604,0.26263201236724854,1.6121399402618408,-7.138789653778076,-3.3509416580200195,4.2838850021362305,-8.123808860778809,-1.690449833869934,6.708437919616699,10.980097770690918,1.6765025854110718,10.182677268981934,8.032060623168945,6.688556671142578,-5.945772647857666,-8.605015754699707,7.826506614685059,4.1123762130737305,6.840911865234375,4.293585777282715,-7.233702659606934,4.395069122314453,6.916060447692871,-9.348644256591797,4.233917236328125,-10.672493934631348,9.702812194824219,2.304243803024292,8.680851936340332,1.6128265857696533,-10.297873497009277,-10.88261890411377,8.030174255371094,8.10173225402832,-8.890219688415527,11.052462577819824,-1.6519391536712646,-3.4818661212921143,3.1130359172821045,2.4645447731018066,3.1474363803863525,-2.4042913913726807,6.247336387634277,6.360673427581787,0.032538916915655136,-2.644880533218384,8.674788475036621,9.47636890411377,3.636058807373047,-8.784083366394043,-5.462686538696289,4.280519962310791,5.177094459533691,-5.860474586486816,-0.5726402997970581,-3.348508358001709,3.4842283725738525,5.375688552856445,-1.6955925226211548,-1.5384286642074585,-9.3731050491333,5.110750675201416,1.4373985528945923,-5.557668685913086,8.357565879821777,-2.6716253757476807,2.740088939666748,8.862946510314941,-10.384562492370605,-13.194376945495605,-5.926219463348389,6.659790992736816,-9.650405883789062,-9.40390396118164,3.9629087448120117,-1.790266990661621,-0.21209977567195892,-1.7366825342178345,-3.7253544330596924,10.506913185119629,6.942272186279297,-1.7923873662948608,-3.713944911956787,1.1602582931518555,1.7469650506973267,-1.3134996891021729,1.6184101104736328,-8.89306640625,10.628044128417969,4.615609169006348,3.128117084503174,4.670883655548096,-1.0453338623046875,1.2113847732543945,-4.397770881652832,2.347679376602173,5.238805294036865,3.3723604679107666,4.506253719329834,3.635366201400757,4.221614360809326,1.9649343490600586,-8.693182945251465,-6.6864495277404785,4.287088871002197,7.618732452392578,5.4770941734313965,5.311201572418213,5.0213422775268555,10.043094635009766,9.1416654586792,4.9006452560424805,-0.2185530811548233,0.4169251024723053,6.703670024871826,-1.385584831237793,-8.30433464050293,4.225749492645264,-8.724593162536621,4.229804992675781,-3.6599390506744385,-5.494527816772461,-3.1228365898132324,-2.7137796878814697,0.970314621925354,9.439851760864258,6.580521583557129,2.8525032997131348,8.067636489868164,1.3519116640090942,6.489794731140137,-4.401861667633057,8.766199111938477,8.906131744384766,-5.332661151885986,-0.7272751927375793,3.2960331439971924,0.9876002073287964,-8.561646461486816,0.6823367476463318,9.47287654876709,6.378067493438721,0.9394842982292175,-8.17773723602295,9.869917869567871,5.5921478271484375,0.8269727230072021,2.3654367923736572,3.9429993629455566,5.376340389251709,10.801861763000488,9.19419002532959,6.344895839691162,-6.890710830688477,4.601574897766113,0.7735041975975037,6.727233409881592,0.11329890042543411,7.7206830978393555,-5.977708339691162,10.005024909973145,-5.6919450759887695,3.3507657051086426,-3.6093814373016357,4.81577730178833,-8.27047061920166,-13.462653160095215,-8.314022064208984,-3.2213728427886963,-13.39263916015625,0.5467061400413513,6.922245502471924,7.079748153686523,10.194504737854004,1.142557144165039,0.3323622941970825,9.845052719116211,1.0244263410568237,2.4474942684173584,-4.368014812469482,-8.775896072387695,-9.02255916595459,-8.770981788635254,4.370575428009033,-4.114648342132568,-8.576072692871094,-8.821188926696777,6.942440509796143,9.963354110717773,8.34593391418457,-0.6831716299057007,-12.007326126098633,-2.8015637397766113,4.919757843017578,-3.7023322582244873,3.463872194290161,-2.6366591453552246,-0.15787117183208466,10.913674354553223,-6.617973327636719,-8.582097053527832,5.995418071746826,-7.46329927444458,1.5836076736450195,10.758623123168945,0.55305415391922,10.365986824035645,9.722275733947754,7.878231525421143,-1.2849136590957642,5.142622470855713,4.207536697387695,-2.5659282207489014,0.6370407342910767,1.0924572944641113,-1.4037058353424072,-3.741222858428955,6.71925163269043,4.629086971282959,-3.649278163909912,-12.00619888305664,3.8018686771392822,6.643962383270264,-7.83866024017334,4.083234786987305,1.0925639867782593,9.770015716552734,3.889727830886841,-11.748157501220703,2.9232230186462402,-0.7680186629295349,-0.1258784681558609,-4.1103901863098145,-3.552145481109619,6.571305751800537,3.3478243350982666,1.6054075956344604,-11.22259521484375,2.5781853199005127,-7.529734134674072,7.600210189819336,-8.807258605957031,4.203818321228027,0.5194085836410522,6.2050347328186035,-0.7039454579353333,3.532940149307251,2.8563127517700195,3.3672919273376465,3.922980785369873,-1.6883620023727417,1.9182782173156738,-0.9167209267616272,9.158821105957031,8.989703178405762,-8.749238967895508,4.957144737243652,-1.7600691318511963,2.9351680278778076,-7.279470443725586,-1.12751305103302,1.0313913822174072,-6.675144672393799,9.133155822753906,4.073542594909668,8.593745231628418,-8.876834869384766,10.068562507629395,6.955168724060059,-6.123870849609375,5.755589962005615,5.042931079864502,3.246643304824829,-12.114659309387207,1.063259243965149,3.0905518531799316,-0.25023043155670166,-5.467755317687988,-3.625977039337158,-3.7832558155059814,-13.254515647888184,4.4799113273620605,0.7132293581962585,-3.4469120502471924,-7.745645046234131,-3.158250570297241,-3.7487285137176514,1.7559794187545776,-7.931466579437256,-2.1409192085266113,2.618711233139038,5.398670196533203,3.5029215812683105,0.05749337747693062,1.2519826889038086,8.616096496582031,1.794773817062378,-12.488947868347168,-6.40633487701416,-1.757060170173645,5.77650260925293,-6.617971420288086,1.9130496978759766,6.531376838684082,-12.21287727355957,-2.8667526245117188,-6.199540615081787,5.052520751953125,9.92211627960205,10.833928108215332,10.721389770507812,6.013726711273193,2.832892656326294,1.7566901445388794,5.0458292961120605,-0.11922909319400787,2.167475938796997,-2.9523258209228516,6.7246832847595215,-0.8886702656745911,-1.2531757354736328,4.3652215003967285,-4.450169086456299,7.159842491149902,6.344070911407471,10.126229286193848,10.848947525024414,-6.617971420288086,6.919416427612305,7.318394660949707,4.36073112487793,1.4023226499557495,1.2567791938781738,6.055977821350098,-2.9864768981933594,6.245147228240967,1.5979399681091309,5.452103614807129,6.979806423187256,-11.965923309326172,-9.442455291748047,-13.422612190246582,8.386529922485352,-11.58265209197998,6.2694525718688965,9.757880210876465,8.785795211791992,9.622269630432129,7.058859825134277,9.791089057922363,-3.024833917617798,0.1992039680480957,-2.2856338024139404,8.14469051361084,-3.1592319011688232,0.07075558602809906,6.263848304748535,10.795306205749512,0.2356697916984558,2.995049238204956,9.142728805541992,-1.4550645351409912,4.189289093017578,4.279623508453369,0.41991540789604187,2.977565288543701,-0.5028178095817566,10.786042213439941,-8.827249526977539,-12.12273120880127,7.863685607910156,-8.881854057312012,-5.317834377288818,-7.084133148193359,-7.671884059906006,-1.4960771799087524,0.575756847858429,4.2207794189453125,3.7759976387023926,-0.9428684115409851,0.796843409538269,5.106295108795166,5.039381504058838,1.866256594657898,-7.4106340408325195,1.638489842414856,8.63502025604248,-12.7312593460083,-3.524928092956543,6.88966703414917,-2.4810903072357178,3.313499927520752,1.5012099742889404,4.222498893737793,2.851170063018799,-7.900866508483887,2.97969913482666,-5.098568439483643,-2.274071216583252,6.505894184112549,-5.444061756134033,6.17239236831665,-3.7139108180999756,0.6258820295333862,1.5491265058517456,10.975449562072754,5.8700456619262695,-8.390259742736816,-3.4392364025115967,10.765427589416504,4.9809770584106445,4.1300435066223145,0.35373684763908386,1.650396704673767,-8.414459228515625,-1.1760640144348145,-0.6748089790344238,1.7846139669418335,4.259572505950928,1.1404080390930176,-13.395285606384277,4.2551445960998535,6.468531131744385,3.9245057106018066,3.1340620517730713,3.9696967601776123,8.567215919494629,-10.785975456237793,-5.327747344970703,-3.692125082015991,4.454080581665039,8.508613586425781,6.093539714813232,4.353845596313477,9.347491264343262,8.600713729858398,-4.493764877319336,9.035009384155273,-1.6766232252120972,1.3938331604003906,-13.377163887023926,0.6062837839126587,-2.08457088470459,4.0522541999816895,3.8068203926086426,4.2193379402160645,10.480899810791016,-5.46991491317749,-8.370413780212402,2.5807201862335205,6.680257797241211,3.4422755241394043,-13.459588050842285,-5.2483086585998535,-8.865044593811035,8.770651817321777,-3.0700130462646484,10.810883522033691,-10.988973617553711,3.99135160446167,6.377963066101074,3.251434564590454,0.7235153913497925,10.577847480773926,-3.100152015686035,3.374521017074585,11.00231647491455,4.784905433654785,4.6210479736328125,-3.965733528137207,0.44352707266807556,6.921213150024414,-9.335206031799316,9.890067100524902,6.929507255554199,3.9912376403808594,6.862092018127441,0.5326789617538452,5.501452445983887,-8.688515663146973,-6.767489433288574,3.294938564300537,2.6043100357055664,6.974937438964844,9.070549011230469,4.89529275894165,0.15924039483070374,-7.191847324371338,9.937814712524414,10.398327827453613,6.39426326751709,-12.892693519592285,-5.560482501983643,-12.471487998962402,-0.7428652048110962,-13.404696464538574,5.466777801513672,1.4855360984802246,9.389744758605957,3.8745524883270264,2.893892526626587,-13.034661293029785,8.435905456542969,8.337000846862793,-11.24560832977295,9.575493812561035,-7.858023643493652,9.922820091247559,2.4829261302948,2.3917758464813232,-5.664976596832275,5.37080717086792,9.46228313446045,-12.707741737365723,5.554940700531006,0.29778948426246643,6.569289207458496,-3.780534029006958,8.110737800598145,1.5536890029907227,4.89642858505249,-10.35883903503418,-6.361111164093018,-1.1421304941177368,-3.8664324283599854,5.906004905700684,9.544072151184082,2.851539373397827,4.371307849884033,10.033288955688477,1.5293320417404175,-3.7552883625030518,5.83369255065918,-3.207947254180908,9.432188034057617,6.374619007110596,7.5931901931762695,-1.5888320207595825,6.690982818603516,6.865286350250244,10.149794578552246,9.763033866882324,4.8958659172058105,-9.570502281188965,10.761150360107422,10.557376861572266,6.46913480758667,10.5631742477417,-1.8820796012878418,1.5181092023849487,-4.237368583679199,-1.0186893939971924,10.229741096496582,6.802220344543457,0.5494280457496643,-0.012887811288237572,-4.103322982788086,-4.373692512512207,6.48518705368042,-3.2121996879577637,5.981379985809326,2.8489394187927246,1.9210658073425293,1.8426933288574219,4.219914436340332,2.8044023513793945,10.929292678833008,9.44169807434082,4.488272666931152,-0.8883150815963745,-0.7282788157463074,-7.246145725250244,0.7605189085006714,2.8780384063720703,-3.9141275882720947,6.784398078918457,-13.100911140441895,0.9969419836997986,-8.727351188659668,9.319527626037598,4.5814032554626465,-8.601949691772461,2.355891704559326,-3.284583330154419,6.882708549499512,5.731348514556885,2.5983469486236572,-3.238138198852539,-0.3789157569408417,6.558767318725586,-6.6218414306640625,-2.242147445678711,-4.846172332763672,0.02198249101638794,5.711915493011475,10.305375099182129,4.4230756759643555,9.406532287597656,6.891453266143799,-0.9976392388343811,10.963407516479492,2.4385550022125244,3.5745866298675537,0.5497789978981018,-8.547734260559082,-0.48180267214775085,4.356072902679443,4.21858549118042,-0.8111528158187866,-2.363905906677246,-7.8129353523254395,2.369080066680908,0.11689340323209763,4.697883129119873,5.365716457366943,0.7556637525558472,11.05097484588623,-13.463510513305664,-8.370892524719238,5.265078544616699,4.1335530281066895,8.283605575561523,3.673175811767578,-8.14492130279541,-3.183105707168579,5.92588996887207,-11.272509574890137,5.008267879486084,3.331239938735962,1.5227066278457642,5.711836338043213,5.1749491691589355,-6.969200134277344,4.6804938316345215,10.791664123535156,-7.090585231781006,4.0335612297058105,-6.401895523071289,9.787501335144043,-4.464835166931152,-2.0927541255950928,-1.6177479028701782,2.828125476837158,-1.252247929573059,-3.9468259811401367,7.027245998382568,-1.5352745056152344,5.6324567794799805,-5.750768661499023,6.702719688415527,5.95225191116333,-2.620213508605957,2.3079206943511963,10.769936561584473,5.8377251625061035,1.2118418216705322,5.460583209991455,-2.5902955532073975,8.12767505645752,5.184582233428955,2.215742588043213,7.58899450302124,2.007205009460449,3.1428046226501465,-2.0717110633850098,-11.621293067932129,-4.322924613952637,-1.9897716045379639,4.947662353515625,3.925513982772827,4.0881805419921875,1.6251131296157837,1.2080605030059814,10.848504066467285,-12.2092924118042,-0.9444978833198547,4.22922420501709,-2.1691060066223145,0.6178559064865112,5.258325576782227,-8.905133247375488,2.764845848083496,10.275873184204102,4.8061089515686035,2.790792226791382,10.479702949523926,-4.944139003753662,4.842351913452148,6.913817405700684,2.199713706970215,5.985973834991455,-4.2078728675842285,6.852959156036377,-8.448922157287598,-3.0237653255462646,5.564094543457031,-2.7823281288146973,1.5167148113250732,5.411721706390381,6.675252914428711,2.71567440032959,8.37830924987793,-13.190437316894531,-8.128716468811035,-6.104039192199707,1.5177583694458008,5.5616841316223145,1.4316903352737427,-9.850456237792969,6.474419116973877,2.740142583847046,0.9332180023193359,-5.884174823760986,-13.462607383728027,0.912467360496521,4.2193379402160645,-5.770499229431152,9.843968391418457,1.5748789310455322,4.039134502410889,4.659042835235596,-6.298539638519287,-9.817265510559082,4.261309623718262,-8.674262046813965,1.1247929334640503,-0.3062652349472046,9.997127532958984,3.2391765117645264,2.403412103652954,-7.483831882476807,-3.1935009956359863,1.237963318824768,-6.159412860870361,6.643095970153809,-8.710457801818848,8.199278831481934,6.804083347320557,-2.834545373916626,-12.8472900390625,10.630016326904297,1.9809211492538452,10.774510383605957,5.104684352874756,4.000481128692627,-2.775256872177124,4.064404010772705,1.0561591386795044,6.830920696258545,4.6138997077941895,4.739720821380615,-7.763059139251709,1.789552927017212,10.642509460449219,4.113824367523193,10.346033096313477,-8.733956336975098,-8.82015609741211,-8.615510940551758,2.53732967376709,-1.8553037643432617,10.170848846435547,2.410496711730957,5.9382452964782715,6.729007244110107,-1.7743362188339233,10.366058349609375,-8.584086418151855,-3.5785951614379883,-8.386333465576172,-6.750293731689453,0.7509788274765015,-1.8705346584320068,9.143184661865234,-7.468512535095215,0.07932331413030624,2.5072786808013916,-11.340522766113281,-10.181496620178223,2.887666940689087,3.202678918838501,0.1541927456855774,0.268873006105423,0.12150689959526062,4.213179588317871,-10.998361587524414,3.9736878871917725,2.0305466651916504,2.8411097526550293,-1.7618720531463623,-6.360813617706299,0.20882363617420197,-1.9102425575256348,10.675209045410156,4.2193379402160645,6.94281005859375,-2.985769271850586,-3.391996383666992,9.442023277282715,-11.4279146194458,-3.3469736576080322,-9.404875755310059,2.5820767879486084,0.9181205630302429,-6.596103668212891,9.001505851745605,-2.0092227458953857,0.865313708782196,4.711397171020508,-6.387666702270508,8.2501802444458,5.534300804138184,-7.725637435913086,6.679808139801025,2.813506841659546,7.803964614868164,6.483650207519531,4.232174873352051,-8.250137329101562,6.938483238220215,-1.3493499755859375,-11.944612503051758,6.122183799743652,6.894485950469971,1.022937297821045,3.9688775539398193,1.2144314050674438,-3.816267490386963,-4.4640278816223145,0.3067505955696106,0.7911831140518188,9.034741401672363,-10.838665008544922,9.51927661895752,8.475178718566895,-5.102792739868164,1.9951740503311157,0.9786273241043091,-4.105278968811035,-8.248510360717773,-2.3576536178588867,4.927472114562988,-6.396629333496094,-5.461319923400879,0.9898523688316345,-9.259272575378418,-13.233777046203613,10.68393325805664,6.462316513061523,-5.048018932342529,6.4164862632751465,-11.801397323608398,-7.715370178222656,6.4469990730285645,1.4273558855056763,-2.2568092346191406,-1.4565352201461792,6.425853252410889,2.8258585929870605,10.596902847290039,7.0935821533203125,-8.560589790344238],\"z\":[-7.478287220001221,-11.627771377563477,8.215953826904297,-12.763809204101562,-3.6848206520080566,-11.117470741271973,-4.569577217102051,-8.614413261413574,-5.056455612182617,-1.2113757133483887,-7.3069329261779785,6.258956432342529,0.746165931224823,-9.129324913024902,-0.3645454943180084,-7.678635597229004,-8.165373802185059,4.601049900054932,-4.413512706756592,0.4233292043209076,0.8038936853408813,4.287247657775879,-4.855039596557617,-2.5732381343841553,-1.7099030017852783,0.2103428989648819,-5.02905797958374,-9.685585975646973,-5.0179972648620605,-7.701995849609375,-9.046339988708496,-10.061955451965332,-5.614405155181885,-6.747823238372803,-0.15468381345272064,-5.131227493286133,5.502172946929932,-13.325926780700684,-4.143911838531494,-13.22624683380127,-5.619675636291504,-4.849435806274414,-4.87727689743042,-4.599051475524902,1.0213336944580078,0.7632701396942139,0.08336449414491653,-11.62938117980957,-13.135455131530762,-13.337329864501953,-13.117351531982422,-12.12382984161377,-9.423495292663574,-9.147945404052734,-1.4595370292663574,3.7942309379577637,-3.7874538898468018,6.136655330657959,8.050849914550781,1.5879387855529785,-10.481593132019043,-6.64630126953125,8.230993270874023,-1.7096556425094604,6.606914520263672,-0.4835839569568634,4.30107307434082,-10.245067596435547,6.740280628204346,-12.388028144836426,-6.828347682952881,-10.316718101501465,4.474210739135742,-1.6456353664398193,-2.263279914855957,-12.000703811645508,1.7373085021972656,-3.928622245788574,-5.506002426147461,-1.5598232746124268,-10.162982940673828,8.210455894470215,-6.452569007873535,-6.724599838256836,-9.426026344299316,6.4684600830078125,-0.9438182711601257,6.127140045166016,-11.50719928741455,-1.1224472522735596,-5.888880729675293,0.04469124972820282,0.05055440217256546,4.74298095703125,8.083958625793457,-1.3934193849563599,5.524077415466309,1.2250322103500366,3.10244083404541,8.149669647216797,-10.123908996582031,-10.270284652709961,7.04860258102417,-3.568424940109253,0.648457407951355,2.2510480880737305,-10.296252250671387,-12.999930381774902,-6.137861251831055,-9.515058517456055,-8.053244590759277,8.04419231414795,-7.549773216247559,-9.668978691101074,8.145889282226562,-5.603142738342285,-10.188639640808105,-10.272982597351074,1.8162630796432495,4.623447895050049,6.976584434509277,-0.9638354778289795,-12.783464431762695,-0.5430043935775757,8.205123901367188,-12.407783508300781,3.2906312942504883,-6.8712239265441895,0.13186988234519958,-6.886609077453613,0.04601796716451645,-1.6058852672576904,5.4315185546875,-12.00235366821289,6.939876556396484,-2.1474204063415527,-3.868173599243164,-10.351737976074219,-4.843593120574951,6.439298629760742,-8.855624198913574,4.4983720779418945,7.476748466491699,-3.8743958473205566,-10.563819885253906,-1.4929009675979614,4.223226070404053,8.354984283447266,-7.693983554840088,4.236156463623047,6.170431137084961,1.0787080526351929,-3.0814859867095947,-0.8090304732322693,-2.4926440715789795,2.8557190895080566,3.507932424545288,5.4496965408325195,-9.38798713684082,-1.0330543518066406,2.272970199584961,6.894079208374023,2.8836758136749268,-9.383938789367676,-10.237642288208008,4.47169828414917,-7.942819118499756,-2.2152180671691895,8.043914794921875,-1.7184756994247437,4.271446704864502,-1.6913836002349854,-13.011476516723633,-0.7369080781936646,-0.49684736132621765,-0.7337920069694519,-0.4458365738391876,-0.6586881875991821,-11.77635383605957,-1.0726710557937622,0.7193847298622131,-7.080808639526367,4.041897773742676,-1.9190062284469604,1.5025360584259033,-1.9995087385177612,5.104065895080566,2.9566073417663574,-13.333525657653809,1.5777639150619507,0.28915417194366455,-7.177505016326904,-7.4726643562316895,-6.377920150756836,1.1271978616714478,2.3088786602020264,-7.412441253662109,-5.970369338989258,4.834433555603027,7.801373481750488,-0.5154151916503906,-3.482637643814087,7.513896465301514,-1.0225566625595093,-11.51993465423584,-12.953615188598633,-0.11809162050485611,-1.1675046682357788,1.2645667791366577,-1.0473073720932007,-0.17199985682964325,-9.770832061767578,-8.830723762512207,6.176690101623535,-0.17218953371047974,0.7205578088760376,-1.5622706413269043,-2.7960095405578613,8.008340835571289,5.0238871574401855,8.1843843460083,-9.839526176452637,6.735805034637451,0.7406940460205078,0.9469481110572815,-1.2658135890960693,5.4620680809021,-8.16504955291748,2.0732147693634033,-0.7418904900550842,-3.361281633377075,0.07481757551431656,3.5419483184814453,-1.1978815793991089,-8.523889541625977,0.6824246644973755,5.283397197723389,-8.961934089660645,-3.5101704597473145,-10.265981674194336,-12.507087707519531,-1.346927285194397,-0.9771270751953125,-0.5293377637863159,-6.1179022789001465,5.3623046875,-13.221325874328613,-4.395683288574219,-13.267473220825195,-1.3852133750915527,8.072434425354004,1.5089387893676758,-7.088237762451172,5.039856433868408,-9.450776100158691,-12.714367866516113,0.2430504411458969,-10.347216606140137,4.729024887084961,-9.363818168640137,0.06261255592107773,2.7711853981018066,-0.28916412591934204,6.950314044952393,-3.758049964904785,0.25566425919532776,-0.7353929281234741,3.911221504211426,2.4259769916534424,3.121626853942871,4.879035472869873,1.4148340225219727,-9.59975528717041,7.01453161239624,-8.545485496520996,-1.8465365171432495,0.8465169072151184,4.614741325378418,-6.096002101898193,-1.2542136907577515,2.780520439147949,-10.321274757385254,3.3759138584136963,-3.1464831829071045,8.339876174926758,0.4400620758533478,6.408443927764893,-1.616367220878601,-0.5692593455314636,0.8359797596931458,-1.442773699760437,-6.168489933013916,4.7070207595825195,-0.8858922719955444,-8.54656982421875,-0.7439752817153931,-11.494096755981445,8.12637710571289,-1.1003680229187012,-12.209442138671875,1.8759201765060425,1.400100588798523,8.035948753356934,-1.4347254037857056,-3.6451468467712402,7.605344772338867,-5.531800270080566,-2.6126904487609863,-1.692391276359558,5.981329917907715,-2.039961814880371,-1.047255039215088,-13.251546859741211,-8.755754470825195,-3.0229148864746094,3.6107568740844727,-1.712092399597168,-1.026435375213623,-2.5031309127807617,0.8649641275405884,2.7765958309173584,-2.563262462615967,-10.373778343200684,3.4505503177642822,8.15243911743164,7.0319905281066895,4.939244747161865,-11.831754684448242,-4.460301876068115,-12.537606239318848,-1.3319863080978394,-10.026145935058594,0.8481141328811646,8.146136283874512,-6.351191997528076,4.11256217956543,0.1251942217350006,-1.047254204750061,-5.529961109161377,8.481651306152344,-0.26769715547561646,4.928954124450684,4.964810848236084,-6.7106757164001465,-0.6519708037376404,-9.382600784301758,4.024094104766846,-1.3177175521850586,2.1769661903381348,-3.3804891109466553,-6.686642169952393,-0.8526451587677002,7.776402473449707,-3.846256732940674,-9.319733619689941,5.379636764526367,7.456271648406982,5.752321720123291,-5.711502552032471,5.24932861328125,5.6533894538879395,-1.758718490600586,-12.18277645111084,7.908524036407471,-11.823241233825684,-1.5648747682571411,-9.331116676330566,0.700379490852356,4.667480945587158,-10.178549766540527,6.962852478027344,-12.558452606201172,-9.809942245483398,-6.634284019470215,-2.1867711544036865,5.7461042404174805,-0.7209717035293579,0.19339460134506226,1.486389398574829,-3.1416404247283936,-5.007246494293213,1.0126965045928955,-1.5682345628738403,-1.232575535774231,-8.621737480163574,0.1300801783800125,0.6418845057487488,-7.263635635375977,8.079985618591309,6.144674301147461,6.036223411560059,1.7587957382202148,-10.320829391479492,5.45684814453125,-8.876483917236328,5.781269073486328,-4.213548183441162,-2.288219451904297,0.7267056107521057,-7.576461315155029,-0.5763580799102783,-9.89913272857666,8.160381317138672,-7.258516311645508,5.587878704071045,-1.1104249954223633,-10.19704818725586,-10.709307670593262,6.887135982513428,-2.6804046630859375,-10.492897987365723,0.9694461822509766,3.9018473625183105,4.2016496658325195,8.178346633911133,0.47721630334854126,-9.905891418457031,-0.597051739692688,-0.18531998991966248,2.6039652824401855,-0.6492092609405518,-9.718093872070312,4.475459575653076,-4.5894646644592285,-0.49026933312416077,-12.677047729492188,-0.5287677645683289,-5.621219635009766,8.137195587158203,4.7030348777771,-1.0676889419555664,-0.18714848160743713,-3.4746763706207275,-8.898072242736816,0.4075201451778412,-9.4351224899292,7.644265174865723,-4.985590934753418,-1.281398057937622,-0.24749408662319183,3.278698682785034,-4.416626453399658,-9.647547721862793,7.659638404846191,6.557592391967773,-4.330060958862305,-1.1688412427902222,7.157200813293457,4.5967278480529785,0.717092752456665,-1.1431554555892944,0.732546329498291,-0.5721644163131714,-9.583617210388184,-9.386916160583496,-7.091019153594971,3.5085480213165283,-10.478042602539062,-0.5034343004226685,5.729836463928223,-8.319567680358887,0.24105913937091827,-0.28792256116867065,-1.535330891609192,0.7486921548843384,-4.088100910186768,-11.883939743041992,0.18547773361206055,-4.708688259124756,3.089858293533325,2.9561574459075928,8.018364906311035,-2.7095813751220703,-0.9573774933815002,-0.1889171451330185,0.7605594396591187,0.8093929886817932,8.235610008239746,8.192695617675781,-0.3527609407901764,4.41251277923584,-5.597043037414551,-6.901825904846191,4.999161243438721,-6.532461643218994,-9.472590446472168,-7.596628665924072,6.004846096038818,-10.174748420715332,0.0834595263004303,-1.6212303638458252,0.34128445386886597,1.9314560890197754,4.0086750984191895,-3.63350510597229,-10.321015357971191,-0.32288283109664917,-9.084020614624023,-2.49356746673584,3.0277605056762695,-9.068476676940918,-2.0323944091796875,-1.6533453464508057,-2.628399610519409,-12.714508056640625,-1.0282902717590332,8.213849067687988,0.7819664478302002,-3.1890676021575928,-8.989974021911621,-10.302641868591309,-1.81360924243927,-4.668846607208252,7.805760383605957,-4.376285076141357,-2.933121919631958,-8.433504104614258,4.93898344039917,4.235867500305176,5.859896183013916,-10.358518600463867,-1.276354432106018,6.216887474060059,-2.3162620067596436,-10.142701148986816,3.6959240436553955,-6.124084949493408,0.10920727252960205,-4.693173408508301,4.8546600341796875,1.5597476959228516,-5.540674686431885,-9.84618091583252,6.174962997436523,0.4680597186088562,8.231355667114258,-3.024507999420166,-10.352866172790527,-6.375598907470703,-2.2874932289123535,7.316633701324463,-0.8133951425552368,1.3700737953186035,-0.6528828740119934,6.243567943572998,-3.3846657276153564,-5.4789042472839355,5.4512505531311035,-4.278372764587402,-7.987025260925293,-1.9489965438842773,5.316628456115723,-0.506151020526886,-6.549926280975342,0.5580400824546814,3.314486026763916,-4.90746545791626,3.2888734340667725,2.9987833499908447,-13.2044095993042,4.727280616760254,-12.42739200592041,-1.9329522848129272,-7.68521785736084,0.6267604231834412,7.59514045715332,5.03717565536499,0.6671930551528931,-3.5938143730163574,-0.2624567747116089,-9.771800994873047,8.003661155700684,0.7195950746536255,-13.241265296936035,-9.860358238220215,2.6876449584960938,1.2291687726974487,6.281425952911377,-6.1609015464782715,0.3154054880142212,7.2827253341674805,-1.5080338716506958,-2.7703254222869873,0.47393399477005005,1.370489239692688,-4.736429214477539,-1.7132664918899536,3.590956211090088,0.9921302199363708,6.646116733551025,-10.223709106445312,-7.651857852935791,3.780688524246216,-11.741979598999023,-7.426718235015869,8.226846694946289,-13.272845268249512,0.08415384590625763,-0.8698213696479797,-6.127624034881592,-9.595414161682129,-0.001607818529009819,-10.865930557250977,0.5889525413513184,-1.9026621580123901,-1.63657808303833,-10.0894775390625,6.350887298583984,-7.937442779541016,-0.2209281325340271,1.2058035135269165,8.02158260345459,3.2948687076568604,4.906558513641357,-0.21042746305465698,-12.705643653869629,-10.015033721923828,-7.103875160217285,7.024319171905518,0.022885628044605255,-8.480941772460938,2.552201509475708,7.0065999031066895,-10.280628204345703,-10.249845504760742,3.584806203842163,0.6267139315605164,-0.5180863738059998,3.0042319297790527,-10.288087844848633,-9.715119361877441,-4.324713230133057,0.1507544070482254,-0.8092514276504517,6.0437726974487305,-2.2451939582824707,-4.334638595581055,8.102952003479004,-13.02155590057373,6.75786018371582,-10.02800464630127,-0.9727851748466492,-1.5771183967590332,-10.275614738464355,2.285660982131958,-1.541713833808899,8.106659889221191,-9.86879825592041,-2.6732990741729736,-11.092483520507812,-0.1297704130411148,6.398733615875244,-10.378482818603516,-12.373664855957031,-11.382109642028809,8.265560150146484,3.3104248046875,8.220169067382812,-1.6923320293426514,-8.230658531188965,-9.808086395263672,-12.023016929626465,2.4458444118499756,-0.15002568066120148,-9.926227569580078,4.288595199584961,1.7695883512496948,-12.0350341796875,7.911105155944824,-10.306713104248047,0.6782572865486145,8.071516990661621,5.962323188781738,3.9964728355407715,-0.7104991674423218,-3.79709529876709,0.936959981918335,5.793226718902588,8.201040267944336,-8.893171310424805,-9.629401206970215,6.926995754241943,-3.5607948303222656,1.038337230682373,-3.0252292156219482,-0.27143123745918274,-6.883085250854492,-0.002189201768487692,-1.9259790182113647,-0.75787752866745,0.9618090987205505,8.002184867858887,-0.9856085181236267,2.0124924182891846,7.999244213104248,-1.2394026517868042,-1.3979641199111938,8.177302360534668,-5.530735969543457,2.5241029262542725,-9.767135620117188,4.275759696960449,-7.684746265411377,-7.820411205291748,6.405252933502197,-1.4647976160049438,6.790238380432129,0.8793705105781555,-1.0613765716552734,-8.349199295043945,-13.283946990966797,-4.299026012420654,-1.5671602487564087,-0.9463463425636292,-10.032323837280273,0.7293391823768616,-1.5464465618133545,-4.021725654602051,-6.196427345275879,8.229196548461914,7.995593070983887,-13.068779945373535,-1.7276486158370972,-0.4488556683063507,-13.066814422607422,-7.091019153594971,-1.6956114768981934,-1.7406500577926636,-4.355106830596924,-8.631202697753906,-10.265629768371582,-1.7131904363632202,-6.240268707275391,-7.878345966339111,1.9852118492126465,5.147008895874023,-12.76297664642334,-2.423029661178589,-13.069074630737305,2.4691107273101807,-1.391823410987854,0.1289374828338623,-3.6189231872558594,-1.722206711769104,-3.9751434326171875,1.851801872253418,-4.693389415740967,8.190238952636719,-0.38566720485687256,-2.0999650955200195,3.107219696044922,7.648303508758545,2.4609375,-0.8430896401405334,-0.04671492427587509,-0.3343331217765808,-9.579442024230957,-3.2817890644073486,-4.936985969543457,-10.243404388427734,-10.295868873596191,-1.1681004762649536,3.5133588314056396,3.027268409729004,-9.701216697692871,-0.8001725077629089,-7.514619827270508,1.463003158569336,-0.09542152285575867,8.009902954101562,0.017907775938510895,-2.0103530883789062,3.81982421875,-9.826607704162598,3.695768356323242,-12.316795349121094,-1.5233306884765625,-0.19748933613300323,-0.20102830231189728,2.936123847961426,-9.527505874633789,6.815937042236328,-0.769619345664978,6.985256195068359,-1.4282304048538208,7.362123966217041,0.5869358777999878,-4.224555969238281,-5.770702362060547,-10.310020446777344,5.153818130493164,7.165918350219727,-1.8858633041381836,-12.868874549865723,-9.84552001953125,-4.696018218994141,-8.79061508178711,-13.277861595153809,-10.36472225189209,2.8249340057373047,-9.783018112182617,-12.891315460205078,-12.263318061828613,2.982222318649292,-7.091019153594971,-6.238112449645996,-0.7236735820770264,5.203342914581299,6.359422206878662,-4.116263389587402,-0.3114858865737915,-6.741613388061523,-13.274510383605957,0.8118903040885925,-1.6552050113677979,7.209258079528809,-0.09761985391378403,-2.952972888946533,-10.287936210632324,-9.852526664733887,7.853612899780273,-0.7492568492889404,-1.2904672622680664,-8.342793464660645,7.995296478271484,8.027567863464355,-8.87096118927002,-6.8601250648498535,3.5028159618377686,-6.101010799407959,6.421847343444824,-3.2512831687927246,-9.598190307617188,-5.305626392364502,0.8547372817993164,-9.427106857299805,-13.136058807373047,1.1574119329452515,4.920156002044678,4.508100986480713,0.8397526144981384,7.157042503356934,-4.9142165184021,-3.0495645999908447,7.720056056976318,-1.4691439867019653,-13.270187377929688,-13.079658508300781,-0.939996600151062,-8.03291130065918,-0.31587234139442444,1.939918041229248,-9.632623672485352,-10.48238468170166,6.638656139373779,-6.946832180023193,-1.4857518672943115,-0.4722497761249542,8.224874496459961,-1.4475069046020508,-3.4044580459594727,-3.677877426147461,-0.9206438660621643,-3.5264570713043213,0.9351835250854492,-0.2737250328063965,-12.560602188110352,-3.4519853591918945,4.685447692871094,-0.8648029565811157,4.007424831390381,-0.18275567889213562],\"type\":\"scatter3d\"},{\"hovertemplate\":\"Dominant_Topic=Topic 1<br>0=%{x}<br>1=%{y}<br>2=%{z}<extra></extra>\",\"legendgroup\":\"Topic 1\",\"marker\":{\"color\":\"#EF553B\",\"opacity\":0.7,\"symbol\":\"circle\"},\"mode\":\"markers\",\"name\":\"Topic 1\",\"scene\":\"scene\",\"showlegend\":true,\"x\":[0.8551632761955261,1.775354027748108,1.1642626523971558,1.5367878675460815,1.4075497388839722,0.821307361125946,2.2997124195098877,1.441819429397583,0.7664578557014465,0.18256115913391113,0.7787134051322937,1.334294080734253,0.8107110857963562,1.3171436786651611,0.038615938276052475,1.3776261806488037,0.9533384442329407,0.9943029880523682,1.009823203086853,1.2419885396957397,0.3024294078350067,0.8983899354934692,1.2342602014541626,0.79093998670578,0.31777507066726685,1.2703849077224731,0.96370929479599,0.8977062106132507,1.0680797100067139,1.3827805519104004,1.3530889749526978,1.1313194036483765,1.4258930683135986,0.115867979824543,1.1407859325408936,1.5921586751937866,1.185763955116272,1.2171950340270996,0.8806752562522888,2.0720760822296143,1.2671641111373901,0.8845885396003723,0.49385446310043335,1.478637933731079,0.765881359577179,0.7580152153968811,0.7657808661460876,1.0132408142089844,1.9309992790222168,1.2124782800674438,0.7320879101753235,1.3109737634658813,1.2683162689208984,1.3796807527542114,1.3830281496047974,1.2250456809997559,0.34506261348724365,0.7482605576515198,1.3134855031967163,1.4868922233581543,0.7538707852363586,0.8009824156761169,2.24224591255188,1.3413701057434082,1.587174654006958,1.3058222532272339,0.8143840432167053,1.7449930906295776,0.3678990602493286,2.0298080444335938],\"y\":[-8.126239776611328,-6.5958991050720215,-8.32962417602539,-8.18172550201416,-8.15897274017334,-3.4980876445770264,-4.736141204833984,-8.181849479675293,-8.2660551071167,-4.793448448181152,-3.2442970275878906,-8.198265075683594,-8.17712688446045,-8.19094467163086,-4.429534912109375,-8.112054824829102,-7.173064231872559,-7.1871843338012695,-8.202166557312012,-8.345818519592285,-5.221313953399658,-7.450334548950195,-8.32529067993164,-8.217147827148438,-4.357203960418701,-8.284782409667969,-8.18533992767334,-7.182038307189941,-7.863131046295166,-8.173807144165039,-8.126310348510742,-8.341863632202148,-7.65775728225708,-3.2538952827453613,-8.119527816772461,-4.158538818359375,-8.369369506835938,-8.345410346984863,-8.130989074707031,-5.69492244720459,-8.302905082702637,-8.128591537475586,-6.116062641143799,-7.969093322753906,-8.259904861450195,-6.794159412384033,-3.1520514488220215,-8.213672637939453,-5.906650066375732,-8.335004806518555,-6.81962776184082,-8.19766616821289,-8.285309791564941,-3.903024435043335,-8.171348571777344,-7.907558917999268,-5.918292999267578,-6.267085075378418,-8.180487632751465,-8.183456420898438,-3.0714330673217773,-7.277487277984619,-5.230894088745117,-8.141796112060547,-4.450728893280029,-8.24277114868164,-8.171963691711426,-3.920281410217285,-5.550700664520264,-4.3221755027771],\"z\":[8.83338737487793,5.679430961608887,6.8159894943237305,3.781855344772339,4.41220760345459,7.550223350524902,5.521841049194336,4.239638328552246,9.653573989868164,8.713868141174316,6.6082234382629395,5.052583694458008,9.220538139343262,5.30731725692749,8.731046676635742,4.599565029144287,7.905211925506592,3.441826105117798,7.829054355621338,6.223015308380127,8.732665061950684,8.202230453491211,6.250194549560547,9.414051055908203,8.425445556640625,5.962274074554443,8.122370719909668,8.116693496704102,7.454780578613281,4.594493389129639,4.827245712280273,7.036279678344727,3.872777223587036,5.862648010253906,7.07928991317749,6.715754508972168,6.630346298217773,6.394476890563965,8.654820442199707,5.559764862060547,6.05214786529541,8.624553680419922,2.6575846672058105,4.069306373596191,9.651154518127441,8.51750659942627,7.538035869598389,7.8084306716918945,5.8035478591918945,6.46408748626709,8.62088680267334,5.409160137176514,6.099299907684326,6.944004058837891,4.5900468826293945,6.866756916046143,2.6062612533569336,8.384862899780273,5.449626922607422,4.019936561584473,7.53781270980835,8.6057710647583,5.456562519073486,4.966701984405518,6.775811672210693,5.488204479217529,9.187800407409668,6.474239349365234,8.788722038269043,6.044470310211182],\"type\":\"scatter3d\"},{\"hovertemplate\":\"Dominant_Topic=Topic 2<br>0=%{x}<br>1=%{y}<br>2=%{z}<extra></extra>\",\"legendgroup\":\"Topic 2\",\"marker\":{\"color\":\"#00cc96\",\"opacity\":0.7,\"symbol\":\"circle\"},\"mode\":\"markers\",\"name\":\"Topic 2\",\"scene\":\"scene\",\"showlegend\":true,\"x\":[-3.195904493331909,-2.998427391052246,-3.887035608291626,-4.026306629180908,-3.5673649311065674,-3.5884506702423096,-3.9504826068878174,-4.212256908416748,-3.932194948196411,-3.6561968326568604,-4.0423455238342285,-4.110293388366699,-4.227738380432129,-2.2378413677215576,-3.9764034748077393,-3.9413092136383057,-0.9230327010154724,-3.8742823600769043,-1.7062684297561646,-4.183003902435303,-3.5597784519195557,-4.014503002166748,-3.5865020751953125,-4.003881454467773,-4.268673896789551,-3.2161009311676025,-3.274346113204956,0.45084473490715027,-0.15372705459594727,-4.093385219573975,-3.19209885597229,-0.42572498321533203,-0.5851625800132751,-0.16936741769313812,-3.9567625522613525,-3.8399200439453125,-3.8982722759246826,-4.251087188720703,-3.737454414367676,-3.2088539600372314,-3.988605260848999,-2.154348373413086,-3.9970338344573975,-3.9455976486206055,-3.1886754035949707,-3.8615121841430664,-2.1572265625,-4.085134506225586,-3.8100149631500244,-2.137869358062744,-3.542445659637451,-3.7134783267974854,-3.718308925628662,-4.1834235191345215,-3.671285390853882,-3.6242315769195557],\"y\":[-3.9458847045898438,-0.8571600317955017,-0.8781570196151733,-1.5593225955963135,0.3073364496231079,0.648558497428894,-3.007880926132202,-2.3668181896209717,-1.102787971496582,-1.0773537158966064,-1.6875394582748413,-2.2276484966278076,-2.969897508621216,-3.9184720516204834,-1.2774306535720825,-1.1014618873596191,-0.2891703248023987,-3.3157060146331787,-0.04638580605387688,-2.6797292232513428,0.853708803653717,-2.318614959716797,0.39370808005332947,-1.436411738395691,-2.456507921218872,-3.971351385116577,-3.799107074737549,-2.6836113929748535,-4.37077522277832,-2.115067720413208,0.47445136308670044,-4.289987564086914,-4.235210418701172,-0.9914841651916504,-2.523172616958618,-0.646880567073822,-3.285653829574585,-2.927001953125,-0.18625971674919128,-0.01661911979317665,-2.8639237880706787,-3.804140567779541,-2.8230326175689697,-2.486102342605591,-4.0135297775268555,-0.7447458505630493,-0.38924363255500793,-3.132826089859009,-0.4633181095123291,-3.8841984272003174,-3.2629780769348145,-3.5352516174316406,-2.645475387573242,-2.4859189987182617,-0.07059916108846664,0.41731324791908264],\"z\":[11.169347763061523,8.728058815002441,9.291879653930664,9.829572677612305,8.562223434448242,8.47571849822998,11.043121337890625,10.560417175292969,9.459489822387695,9.207991600036621,9.930437088012695,10.38518238067627,10.750588417053223,10.310006141662598,9.602938652038574,9.471009254455566,7.662441730499268,11.056132316589355,7.946240425109863,10.382823944091797,8.398200035095215,10.648488998413086,8.551467895507812,9.72842025756836,10.525768280029297,11.219385147094727,11.076579093933105,7.782456874847412,8.883650779724121,10.276771545410156,6.514913082122803,9.084190368652344,9.189205169677734,7.539551258087158,10.874744415283203,9.131912231445312,11.03640365600586,10.734686851501465,8.848487854003906,6.998174667358398,10.424583435058594,10.129095077514648,11.026262283325195,10.838871002197266,11.245182991027832,9.199663162231445,6.47862434387207,10.865202903747559,9.023107528686523,10.191092491149902,10.69520092010498,11.146209716796875,10.40661334991455,10.37138843536377,8.760497093200684,8.566472053527832],\"type\":\"scatter3d\"},{\"hovertemplate\":\"Dominant_Topic=Topic 3<br>0=%{x}<br>1=%{y}<br>2=%{z}<extra></extra>\",\"legendgroup\":\"Topic 3\",\"marker\":{\"color\":\"#ab63fa\",\"opacity\":0.7,\"symbol\":\"circle\"},\"mode\":\"markers\",\"name\":\"Topic 3\",\"scene\":\"scene\",\"showlegend\":true,\"x\":[-1.8988780975341797,-1.8672561645507812],\"y\":[-2.9232852458953857,-2.9619295597076416],\"z\":[1.8311512470245361,1.8395638465881348],\"type\":\"scatter3d\"}],                        {\"template\":{\"data\":{\"histogram2dcontour\":[{\"type\":\"histogram2dcontour\",\"colorbar\":{\"outlinewidth\":0,\"ticks\":\"\"},\"colorscale\":[[0.0,\"#0d0887\"],[0.1111111111111111,\"#46039f\"],[0.2222222222222222,\"#7201a8\"],[0.3333333333333333,\"#9c179e\"],[0.4444444444444444,\"#bd3786\"],[0.5555555555555556,\"#d8576b\"],[0.6666666666666666,\"#ed7953\"],[0.7777777777777778,\"#fb9f3a\"],[0.8888888888888888,\"#fdca26\"],[1.0,\"#f0f921\"]]}],\"choropleth\":[{\"type\":\"choropleth\",\"colorbar\":{\"outlinewidth\":0,\"ticks\":\"\"}}],\"histogram2d\":[{\"type\":\"histogram2d\",\"colorbar\":{\"outlinewidth\":0,\"ticks\":\"\"},\"colorscale\":[[0.0,\"#0d0887\"],[0.1111111111111111,\"#46039f\"],[0.2222222222222222,\"#7201a8\"],[0.3333333333333333,\"#9c179e\"],[0.4444444444444444,\"#bd3786\"],[0.5555555555555556,\"#d8576b\"],[0.6666666666666666,\"#ed7953\"],[0.7777777777777778,\"#fb9f3a\"],[0.8888888888888888,\"#fdca26\"],[1.0,\"#f0f921\"]]}],\"heatmap\":[{\"type\":\"heatmap\",\"colorbar\":{\"outlinewidth\":0,\"ticks\":\"\"},\"colorscale\":[[0.0,\"#0d0887\"],[0.1111111111111111,\"#46039f\"],[0.2222222222222222,\"#7201a8\"],[0.3333333333333333,\"#9c179e\"],[0.4444444444444444,\"#bd3786\"],[0.5555555555555556,\"#d8576b\"],[0.6666666666666666,\"#ed7953\"],[0.7777777777777778,\"#fb9f3a\"],[0.8888888888888888,\"#fdca26\"],[1.0,\"#f0f921\"]]}],\"heatmapgl\":[{\"type\":\"heatmapgl\",\"colorbar\":{\"outlinewidth\":0,\"ticks\":\"\"},\"colorscale\":[[0.0,\"#0d0887\"],[0.1111111111111111,\"#46039f\"],[0.2222222222222222,\"#7201a8\"],[0.3333333333333333,\"#9c179e\"],[0.4444444444444444,\"#bd3786\"],[0.5555555555555556,\"#d8576b\"],[0.6666666666666666,\"#ed7953\"],[0.7777777777777778,\"#fb9f3a\"],[0.8888888888888888,\"#fdca26\"],[1.0,\"#f0f921\"]]}],\"contourcarpet\":[{\"type\":\"contourcarpet\",\"colorbar\":{\"outlinewidth\":0,\"ticks\":\"\"}}],\"contour\":[{\"type\":\"contour\",\"colorbar\":{\"outlinewidth\":0,\"ticks\":\"\"},\"colorscale\":[[0.0,\"#0d0887\"],[0.1111111111111111,\"#46039f\"],[0.2222222222222222,\"#7201a8\"],[0.3333333333333333,\"#9c179e\"],[0.4444444444444444,\"#bd3786\"],[0.5555555555555556,\"#d8576b\"],[0.6666666666666666,\"#ed7953\"],[0.7777777777777778,\"#fb9f3a\"],[0.8888888888888888,\"#fdca26\"],[1.0,\"#f0f921\"]]}],\"surface\":[{\"type\":\"surface\",\"colorbar\":{\"outlinewidth\":0,\"ticks\":\"\"},\"colorscale\":[[0.0,\"#0d0887\"],[0.1111111111111111,\"#46039f\"],[0.2222222222222222,\"#7201a8\"],[0.3333333333333333,\"#9c179e\"],[0.4444444444444444,\"#bd3786\"],[0.5555555555555556,\"#d8576b\"],[0.6666666666666666,\"#ed7953\"],[0.7777777777777778,\"#fb9f3a\"],[0.8888888888888888,\"#fdca26\"],[1.0,\"#f0f921\"]]}],\"mesh3d\":[{\"type\":\"mesh3d\",\"colorbar\":{\"outlinewidth\":0,\"ticks\":\"\"}}],\"scatter\":[{\"fillpattern\":{\"fillmode\":\"overlay\",\"size\":10,\"solidity\":0.2},\"type\":\"scatter\"}],\"parcoords\":[{\"type\":\"parcoords\",\"line\":{\"colorbar\":{\"outlinewidth\":0,\"ticks\":\"\"}}}],\"scatterpolargl\":[{\"type\":\"scatterpolargl\",\"marker\":{\"colorbar\":{\"outlinewidth\":0,\"ticks\":\"\"}}}],\"bar\":[{\"error_x\":{\"color\":\"#2a3f5f\"},\"error_y\":{\"color\":\"#2a3f5f\"},\"marker\":{\"line\":{\"color\":\"#E5ECF6\",\"width\":0.5},\"pattern\":{\"fillmode\":\"overlay\",\"size\":10,\"solidity\":0.2}},\"type\":\"bar\"}],\"scattergeo\":[{\"type\":\"scattergeo\",\"marker\":{\"colorbar\":{\"outlinewidth\":0,\"ticks\":\"\"}}}],\"scatterpolar\":[{\"type\":\"scatterpolar\",\"marker\":{\"colorbar\":{\"outlinewidth\":0,\"ticks\":\"\"}}}],\"histogram\":[{\"marker\":{\"pattern\":{\"fillmode\":\"overlay\",\"size\":10,\"solidity\":0.2}},\"type\":\"histogram\"}],\"scattergl\":[{\"type\":\"scattergl\",\"marker\":{\"colorbar\":{\"outlinewidth\":0,\"ticks\":\"\"}}}],\"scatter3d\":[{\"type\":\"scatter3d\",\"line\":{\"colorbar\":{\"outlinewidth\":0,\"ticks\":\"\"}},\"marker\":{\"colorbar\":{\"outlinewidth\":0,\"ticks\":\"\"}}}],\"scattermapbox\":[{\"type\":\"scattermapbox\",\"marker\":{\"colorbar\":{\"outlinewidth\":0,\"ticks\":\"\"}}}],\"scatterternary\":[{\"type\":\"scatterternary\",\"marker\":{\"colorbar\":{\"outlinewidth\":0,\"ticks\":\"\"}}}],\"scattercarpet\":[{\"type\":\"scattercarpet\",\"marker\":{\"colorbar\":{\"outlinewidth\":0,\"ticks\":\"\"}}}],\"carpet\":[{\"aaxis\":{\"endlinecolor\":\"#2a3f5f\",\"gridcolor\":\"white\",\"linecolor\":\"white\",\"minorgridcolor\":\"white\",\"startlinecolor\":\"#2a3f5f\"},\"baxis\":{\"endlinecolor\":\"#2a3f5f\",\"gridcolor\":\"white\",\"linecolor\":\"white\",\"minorgridcolor\":\"white\",\"startlinecolor\":\"#2a3f5f\"},\"type\":\"carpet\"}],\"table\":[{\"cells\":{\"fill\":{\"color\":\"#EBF0F8\"},\"line\":{\"color\":\"white\"}},\"header\":{\"fill\":{\"color\":\"#C8D4E3\"},\"line\":{\"color\":\"white\"}},\"type\":\"table\"}],\"barpolar\":[{\"marker\":{\"line\":{\"color\":\"#E5ECF6\",\"width\":0.5},\"pattern\":{\"fillmode\":\"overlay\",\"size\":10,\"solidity\":0.2}},\"type\":\"barpolar\"}],\"pie\":[{\"automargin\":true,\"type\":\"pie\"}]},\"layout\":{\"autotypenumbers\":\"strict\",\"colorway\":[\"#636efa\",\"#EF553B\",\"#00cc96\",\"#ab63fa\",\"#FFA15A\",\"#19d3f3\",\"#FF6692\",\"#B6E880\",\"#FF97FF\",\"#FECB52\"],\"font\":{\"color\":\"#2a3f5f\"},\"hovermode\":\"closest\",\"hoverlabel\":{\"align\":\"left\"},\"paper_bgcolor\":\"white\",\"plot_bgcolor\":\"#E5ECF6\",\"polar\":{\"bgcolor\":\"#E5ECF6\",\"angularaxis\":{\"gridcolor\":\"white\",\"linecolor\":\"white\",\"ticks\":\"\"},\"radialaxis\":{\"gridcolor\":\"white\",\"linecolor\":\"white\",\"ticks\":\"\"}},\"ternary\":{\"bgcolor\":\"#E5ECF6\",\"aaxis\":{\"gridcolor\":\"white\",\"linecolor\":\"white\",\"ticks\":\"\"},\"baxis\":{\"gridcolor\":\"white\",\"linecolor\":\"white\",\"ticks\":\"\"},\"caxis\":{\"gridcolor\":\"white\",\"linecolor\":\"white\",\"ticks\":\"\"}},\"coloraxis\":{\"colorbar\":{\"outlinewidth\":0,\"ticks\":\"\"}},\"colorscale\":{\"sequential\":[[0.0,\"#0d0887\"],[0.1111111111111111,\"#46039f\"],[0.2222222222222222,\"#7201a8\"],[0.3333333333333333,\"#9c179e\"],[0.4444444444444444,\"#bd3786\"],[0.5555555555555556,\"#d8576b\"],[0.6666666666666666,\"#ed7953\"],[0.7777777777777778,\"#fb9f3a\"],[0.8888888888888888,\"#fdca26\"],[1.0,\"#f0f921\"]],\"sequentialminus\":[[0.0,\"#0d0887\"],[0.1111111111111111,\"#46039f\"],[0.2222222222222222,\"#7201a8\"],[0.3333333333333333,\"#9c179e\"],[0.4444444444444444,\"#bd3786\"],[0.5555555555555556,\"#d8576b\"],[0.6666666666666666,\"#ed7953\"],[0.7777777777777778,\"#fb9f3a\"],[0.8888888888888888,\"#fdca26\"],[1.0,\"#f0f921\"]],\"diverging\":[[0,\"#8e0152\"],[0.1,\"#c51b7d\"],[0.2,\"#de77ae\"],[0.3,\"#f1b6da\"],[0.4,\"#fde0ef\"],[0.5,\"#f7f7f7\"],[0.6,\"#e6f5d0\"],[0.7,\"#b8e186\"],[0.8,\"#7fbc41\"],[0.9,\"#4d9221\"],[1,\"#276419\"]]},\"xaxis\":{\"gridcolor\":\"white\",\"linecolor\":\"white\",\"ticks\":\"\",\"title\":{\"standoff\":15},\"zerolinecolor\":\"white\",\"automargin\":true,\"zerolinewidth\":2},\"yaxis\":{\"gridcolor\":\"white\",\"linecolor\":\"white\",\"ticks\":\"\",\"title\":{\"standoff\":15},\"zerolinecolor\":\"white\",\"automargin\":true,\"zerolinewidth\":2},\"scene\":{\"xaxis\":{\"backgroundcolor\":\"#E5ECF6\",\"gridcolor\":\"white\",\"linecolor\":\"white\",\"showbackground\":true,\"ticks\":\"\",\"zerolinecolor\":\"white\",\"gridwidth\":2},\"yaxis\":{\"backgroundcolor\":\"#E5ECF6\",\"gridcolor\":\"white\",\"linecolor\":\"white\",\"showbackground\":true,\"ticks\":\"\",\"zerolinecolor\":\"white\",\"gridwidth\":2},\"zaxis\":{\"backgroundcolor\":\"#E5ECF6\",\"gridcolor\":\"white\",\"linecolor\":\"white\",\"showbackground\":true,\"ticks\":\"\",\"zerolinecolor\":\"white\",\"gridwidth\":2}},\"shapedefaults\":{\"line\":{\"color\":\"#2a3f5f\"}},\"annotationdefaults\":{\"arrowcolor\":\"#2a3f5f\",\"arrowhead\":0,\"arrowwidth\":1},\"geo\":{\"bgcolor\":\"white\",\"landcolor\":\"#E5ECF6\",\"subunitcolor\":\"white\",\"showland\":true,\"showlakes\":true,\"lakecolor\":\"white\"},\"title\":{\"x\":0.05},\"mapbox\":{\"style\":\"light\"}}},\"scene\":{\"domain\":{\"x\":[0.0,1.0],\"y\":[0.0,1.0]},\"xaxis\":{\"title\":{\"text\":\"0\"}},\"yaxis\":{\"title\":{\"text\":\"1\"}},\"zaxis\":{\"title\":{\"text\":\"2\"}}},\"legend\":{\"title\":{\"text\":\"Dominant_Topic\"},\"tracegroupgap\":0},\"title\":{\"text\":\"3d TSNE Plot for Topic Model\"},\"height\":800,\"width\":900},                        {\"responsive\": true}                    ).then(function(){\n",
       "                            \n",
       "var gd = document.getElementById('92e187c0-e0a6-41f8-8b55-1de71961b1a2');\n",
       "var x = new MutationObserver(function (mutations, observer) {{\n",
       "        var display = window.getComputedStyle(gd).display;\n",
       "        if (!display || display === 'none') {{\n",
       "            console.log([gd, 'removed!']);\n",
       "            Plotly.purge(gd);\n",
       "            observer.disconnect();\n",
       "        }}\n",
       "}});\n",
       "\n",
       "// Listen for the removal of the full notebook cells\n",
       "var notebookContainer = gd.closest('#notebook-container');\n",
       "if (notebookContainer) {{\n",
       "    x.observe(notebookContainer, {childList: true});\n",
       "}}\n",
       "\n",
       "// Listen for the clearing of the current output cell\n",
       "var outputEl = gd.closest('.output');\n",
       "if (outputEl) {{\n",
       "    x.observe(outputEl, {childList: true});\n",
       "}}\n",
       "\n",
       "                        })                };                });            </script>        </div>"
      ]
     },
     "metadata": {},
     "output_type": "display_data"
    }
   ],
   "source": [
    "plot_model(lda, plot = 'tsne')"
   ]
  },
  {
   "cell_type": "markdown",
   "id": "a9ace867",
   "metadata": {},
   "source": [
    "### [UMAP: Uniform Manifold Approximation and Projection for Dimension Reduction](https://umap-learn.readthedocs.io/en/latest/index.html)"
   ]
  },
  {
   "cell_type": "code",
   "execution_count": 27,
   "id": "b2bfa0ff",
   "metadata": {},
   "outputs": [
    {
     "data": {
      "text/html": [
       "        <script type=\"text/javascript\">\n",
       "        window.PlotlyConfig = {MathJaxConfig: 'local'};\n",
       "        if (window.MathJax) {MathJax.Hub.Config({SVG: {font: \"STIX-Web\"}});}\n",
       "        if (typeof require !== 'undefined') {\n",
       "        require.undef(\"plotly\");\n",
       "        requirejs.config({\n",
       "            paths: {\n",
       "                'plotly': ['https://cdn.plot.ly/plotly-2.11.1.min']\n",
       "            }\n",
       "        });\n",
       "        require(['plotly'], function(Plotly) {\n",
       "            window._Plotly = Plotly;\n",
       "        });\n",
       "        }\n",
       "        </script>\n",
       "        "
      ]
     },
     "metadata": {},
     "output_type": "display_data"
    },
    {
     "data": {
      "image/png": "[encoded data removed]",
      "text/plain": [
       "<Figure size 720x432 with 1 Axes>"
      ]
     },
     "metadata": {},
     "output_type": "display_data"
    }
   ],
   "source": [
    "plot_model(lda, plot = 'umap')"
   ]
  },
  {
   "cell_type": "code",
   "execution_count": 28,
   "id": "a7386533",
   "metadata": {},
   "outputs": [
    {
     "data": {
      "application/vnd.jupyter.widget-view+json": {
       "model_id": "af718718bb374fb1a2a4aa1d50c084c8",
       "version_major": 2,
       "version_minor": 0
      },
      "text/plain": [
       "interactive(children=(ToggleButtons(description='Plot Type:', icons=('',), options=(('Frequency Plot', 'freque…"
      ]
     },
     "metadata": {},
     "output_type": "display_data"
    }
   ],
   "source": [
    "evaluate_model(lda)"
   ]
  },
  {
   "cell_type": "code",
   "execution_count": 29,
   "id": "f45a40b0",
   "metadata": {},
   "outputs": [
    {
     "name": "stdout",
     "output_type": "stream",
     "text": [
      "Model Succesfully Saved\n"
     ]
    },
    {
     "data": {
      "text/plain": [
       "(<gensim.models.hdpmodel.HdpModel at 0x7f58e60881f0>, './models/NLP01.pkl')"
      ]
     },
     "execution_count": 29,
     "metadata": {},
     "output_type": "execute_result"
    }
   ],
   "source": [
    "save_model(lda,'./models/NLP01')"
   ]
  },
  {
   "cell_type": "code",
   "execution_count": 30,
   "id": "392a103d",
   "metadata": {},
   "outputs": [
    {
     "name": "stdout",
     "output_type": "stream",
     "text": [
      "Model Sucessfully Loaded\n"
     ]
    }
   ],
   "source": [
    "saved_lda = load_model('./models/NLP01')"
   ]
  },
  {
   "cell_type": "code",
   "execution_count": 31,
   "id": "841c37bd",
   "metadata": {},
   "outputs": [
    {
     "name": "stdout",
     "output_type": "stream",
     "text": [
      "<gensim.models.hdpmodel.HdpModel object at 0x7f58f3a71e80>\n"
     ]
    }
   ],
   "source": [
    "print(saved_lda)"
   ]
  },
  {
   "cell_type": "code",
   "execution_count": 32,
   "id": "85ff8183",
   "metadata": {},
   "outputs": [
    {
     "name": "stdout",
     "output_type": "stream",
     "text": [
      "[2022-04-17 20:16:06 -0300] [38626] [INFO] Starting gunicorn 20.1.0\n",
      "[2022-04-17 20:16:06 -0300] [38626] [ERROR] Connection in use: ('127.0.0.1', 5000)\n",
      "[2022-04-17 20:16:06 -0300] [38626] [ERROR] Retrying in 1 second.\n",
      "[2022-04-17 20:16:07 -0300] [38626] [ERROR] Connection in use: ('127.0.0.1', 5000)\n",
      "[2022-04-17 20:16:07 -0300] [38626] [ERROR] Retrying in 1 second.\n",
      "[2022-04-17 20:16:08 -0300] [38626] [ERROR] Connection in use: ('127.0.0.1', 5000)\n",
      "[2022-04-17 20:16:08 -0300] [38626] [ERROR] Retrying in 1 second.\n",
      "[2022-04-17 20:16:09 -0300] [38626] [ERROR] Connection in use: ('127.0.0.1', 5000)\n",
      "[2022-04-17 20:16:09 -0300] [38626] [ERROR] Retrying in 1 second.\n",
      "[2022-04-17 20:16:10 -0300] [38626] [ERROR] Connection in use: ('127.0.0.1', 5000)\n",
      "[2022-04-17 20:16:10 -0300] [38626] [ERROR] Retrying in 1 second.\n",
      "[2022-04-17 20:16:11 -0300] [38626] [ERROR] Can't connect to ('127.0.0.1', 5000)\n",
      "Running the mlflow server failed. Please see the logs above for details.\n"
     ]
    }
   ],
   "source": [
    "!mlflow ui "
   ]
  },
  {
   "cell_type": "markdown",
   "id": "b85738f7",
   "metadata": {},
   "source": [
    "________________________________"
   ]
  }
 ],
 "metadata": {
  "kernelspec": {
   "display_name": "Python 3 (ipykernel)",
   "language": "python",
   "name": "python3"
  },
  "language_info": {
   "codemirror_mode": {
    "name": "ipython",
    "version": 3
   },
   "file_extension": ".py",
   "mimetype": "text/x-python",
   "name": "python",
   "nbconvert_exporter": "python",
   "pygments_lexer": "ipython3",
   "version": "3.9.12"
  }
 },
 "nbformat": 4,
 "nbformat_minor": 5
}
