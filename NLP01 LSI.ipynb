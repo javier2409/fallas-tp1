{
 "cells": [
  {
   "cell_type": "code",
   "execution_count": 1,
   "id": "592c7b5c",
   "metadata": {},
   "outputs": [],
   "source": [
    "import warnings\n",
    "warnings.filterwarnings('ignore')"
   ]
  },
  {
   "cell_type": "code",
   "execution_count": 2,
   "id": "6a6cf55d",
   "metadata": {},
   "outputs": [],
   "source": [
    "import pandas as pd"
   ]
  },
  {
   "cell_type": "code",
   "execution_count": 3,
   "id": "2c27f2e4",
   "metadata": {},
   "outputs": [],
   "source": [
    "import numpy as np"
   ]
  },
  {
   "cell_type": "code",
   "execution_count": 4,
   "id": "b172c4ce",
   "metadata": {},
   "outputs": [],
   "source": [
    "import pycaret as pc"
   ]
  },
  {
   "cell_type": "code",
   "execution_count": 5,
   "id": "e26aed0b",
   "metadata": {},
   "outputs": [],
   "source": [
    "import sklearn as sk"
   ]
  },
  {
   "cell_type": "code",
   "execution_count": 6,
   "id": "d88eab67",
   "metadata": {},
   "outputs": [],
   "source": [
    "from pycaret.nlp import *"
   ]
  },
  {
   "cell_type": "code",
   "execution_count": 7,
   "id": "b9783cf9",
   "metadata": {},
   "outputs": [
    {
     "data": {
      "text/plain": [
       "'1.22.3'"
      ]
     },
     "execution_count": 7,
     "metadata": {},
     "output_type": "execute_result"
    }
   ],
   "source": [
    "np.__version__"
   ]
  },
  {
   "cell_type": "code",
   "execution_count": 8,
   "id": "9213a461",
   "metadata": {},
   "outputs": [
    {
     "data": {
      "text/plain": [
       "'1.3.5'"
      ]
     },
     "execution_count": 8,
     "metadata": {},
     "output_type": "execute_result"
    }
   ],
   "source": [
    "pd.__version__"
   ]
  },
  {
   "cell_type": "code",
   "execution_count": 9,
   "id": "6cc964b0",
   "metadata": {},
   "outputs": [
    {
     "data": {
      "text/plain": [
       "'2.3.10'"
      ]
     },
     "execution_count": 9,
     "metadata": {},
     "output_type": "execute_result"
    }
   ],
   "source": [
    "pc.__version__"
   ]
  },
  {
   "cell_type": "code",
   "execution_count": 10,
   "id": "d87e11de",
   "metadata": {},
   "outputs": [
    {
     "data": {
      "text/plain": [
       "'0.23.2'"
      ]
     },
     "execution_count": 10,
     "metadata": {},
     "output_type": "execute_result"
    }
   ],
   "source": [
    "sk.__version__"
   ]
  },
  {
   "cell_type": "code",
   "execution_count": 11,
   "id": "b0da1c9a",
   "metadata": {},
   "outputs": [],
   "source": [
    "pd.set_option('display.max_columns', None)"
   ]
  },
  {
   "cell_type": "code",
   "execution_count": 12,
   "id": "2144cf21",
   "metadata": {},
   "outputs": [
    {
     "name": "stdout",
     "output_type": "stream",
     "text": [
      "Tokenization took: 24.41 ms\n",
      "Type conversion took: 29.86 ms\n",
      "Parser memory cleanup took: 0.00 ms\n"
     ]
    }
   ],
   "source": [
    "data = pd.read_csv(\"./kiva.csv\", sep=',', decimal='.', verbose= True, engine='c') "
   ]
  },
  {
   "cell_type": "code",
   "execution_count": 13,
   "id": "29221518",
   "metadata": {},
   "outputs": [
    {
     "data": {
      "text/plain": [
       "(6818, 7)"
      ]
     },
     "execution_count": 13,
     "metadata": {},
     "output_type": "execute_result"
    }
   ],
   "source": [
    "data.shape"
   ]
  },
  {
   "cell_type": "code",
   "execution_count": 14,
   "id": "623b9caa",
   "metadata": {},
   "outputs": [
    {
     "data": {
      "text/html": [
       "<div>\n",
       "<style scoped>\n",
       "    .dataframe tbody tr th:only-of-type {\n",
       "        vertical-align: middle;\n",
       "    }\n",
       "\n",
       "    .dataframe tbody tr th {\n",
       "        vertical-align: top;\n",
       "    }\n",
       "\n",
       "    .dataframe thead th {\n",
       "        text-align: right;\n",
       "    }\n",
       "</style>\n",
       "<table border=\"1\" class=\"dataframe\">\n",
       "  <thead>\n",
       "    <tr style=\"text-align: right;\">\n",
       "      <th></th>\n",
       "      <th>country</th>\n",
       "      <th>en</th>\n",
       "      <th>gender</th>\n",
       "      <th>loan_amount</th>\n",
       "      <th>nonpayment</th>\n",
       "      <th>sector</th>\n",
       "      <th>status</th>\n",
       "    </tr>\n",
       "  </thead>\n",
       "  <tbody>\n",
       "    <tr>\n",
       "      <th>0</th>\n",
       "      <td>Dominican Republic</td>\n",
       "      <td>\"Banco Esperanza\" is a group of 10 women looki...</td>\n",
       "      <td>F</td>\n",
       "      <td>1225</td>\n",
       "      <td>partner</td>\n",
       "      <td>Retail</td>\n",
       "      <td>0</td>\n",
       "    </tr>\n",
       "    <tr>\n",
       "      <th>1</th>\n",
       "      <td>Dominican Republic</td>\n",
       "      <td>\"Caminemos Hacia Adelante\" or \"Walking Forward...</td>\n",
       "      <td>F</td>\n",
       "      <td>1975</td>\n",
       "      <td>lender</td>\n",
       "      <td>Clothing</td>\n",
       "      <td>0</td>\n",
       "    </tr>\n",
       "    <tr>\n",
       "      <th>2</th>\n",
       "      <td>Dominican Republic</td>\n",
       "      <td>\"Creciendo Por La Union\" is a group of 10 peop...</td>\n",
       "      <td>F</td>\n",
       "      <td>2175</td>\n",
       "      <td>partner</td>\n",
       "      <td>Clothing</td>\n",
       "      <td>0</td>\n",
       "    </tr>\n",
       "    <tr>\n",
       "      <th>3</th>\n",
       "      <td>Dominican Republic</td>\n",
       "      <td>\"Cristo Vive\" (\"Christ lives\" is a group of 10...</td>\n",
       "      <td>F</td>\n",
       "      <td>1425</td>\n",
       "      <td>partner</td>\n",
       "      <td>Clothing</td>\n",
       "      <td>0</td>\n",
       "    </tr>\n",
       "    <tr>\n",
       "      <th>4</th>\n",
       "      <td>Dominican Republic</td>\n",
       "      <td>\"Cristo Vive\" is a large group of 35 people, 2...</td>\n",
       "      <td>F</td>\n",
       "      <td>4025</td>\n",
       "      <td>partner</td>\n",
       "      <td>Food</td>\n",
       "      <td>0</td>\n",
       "    </tr>\n",
       "  </tbody>\n",
       "</table>\n",
       "</div>"
      ],
      "text/plain": [
       "              country                                                 en  \\\n",
       "0  Dominican Republic  \"Banco Esperanza\" is a group of 10 women looki...   \n",
       "1  Dominican Republic  \"Caminemos Hacia Adelante\" or \"Walking Forward...   \n",
       "2  Dominican Republic  \"Creciendo Por La Union\" is a group of 10 peop...   \n",
       "3  Dominican Republic  \"Cristo Vive\" (\"Christ lives\" is a group of 10...   \n",
       "4  Dominican Republic  \"Cristo Vive\" is a large group of 35 people, 2...   \n",
       "\n",
       "  gender  loan_amount nonpayment    sector  status  \n",
       "0      F         1225    partner    Retail       0  \n",
       "1      F         1975     lender  Clothing       0  \n",
       "2      F         2175    partner  Clothing       0  \n",
       "3      F         1425    partner  Clothing       0  \n",
       "4      F         4025    partner      Food       0  "
      ]
     },
     "execution_count": 14,
     "metadata": {},
     "output_type": "execute_result"
    }
   ],
   "source": [
    "data.head()"
   ]
  },
  {
   "cell_type": "code",
   "execution_count": 15,
   "id": "289bc422",
   "metadata": {},
   "outputs": [],
   "source": [
    "data = data.sample(1000, random_state=786).reset_index(drop=True)"
   ]
  },
  {
   "cell_type": "code",
   "execution_count": 16,
   "id": "7662b5b7",
   "metadata": {},
   "outputs": [
    {
     "data": {
      "text/plain": [
       "(1000, 7)"
      ]
     },
     "execution_count": 16,
     "metadata": {},
     "output_type": "execute_result"
    }
   ],
   "source": [
    "data.shape"
   ]
  },
  {
   "cell_type": "code",
   "execution_count": 17,
   "id": "34e732d7",
   "metadata": {},
   "outputs": [
    {
     "data": {
      "text/html": [
       "<style type=\"text/css\">\n",
       "</style>\n",
       "<table id=\"T_eef4d_\">\n",
       "  <thead>\n",
       "    <tr>\n",
       "      <th class=\"col_heading level0 col0\" >Description</th>\n",
       "      <th class=\"col_heading level0 col1\" >Value</th>\n",
       "    </tr>\n",
       "  </thead>\n",
       "  <tbody>\n",
       "    <tr>\n",
       "      <td id=\"T_eef4d_row0_col0\" class=\"data row0 col0\" >session_id</td>\n",
       "      <td id=\"T_eef4d_row0_col1\" class=\"data row0 col1\" >101</td>\n",
       "    </tr>\n",
       "    <tr>\n",
       "      <td id=\"T_eef4d_row1_col0\" class=\"data row1 col0\" >Documents</td>\n",
       "      <td id=\"T_eef4d_row1_col1\" class=\"data row1 col1\" >1000</td>\n",
       "    </tr>\n",
       "    <tr>\n",
       "      <td id=\"T_eef4d_row2_col0\" class=\"data row2 col0\" >Vocab Size</td>\n",
       "      <td id=\"T_eef4d_row2_col1\" class=\"data row2 col1\" >4636</td>\n",
       "    </tr>\n",
       "    <tr>\n",
       "      <td id=\"T_eef4d_row3_col0\" class=\"data row3 col0\" >Custom Stopwords</td>\n",
       "      <td id=\"T_eef4d_row3_col1\" class=\"data row3 col1\" >True</td>\n",
       "    </tr>\n",
       "  </tbody>\n",
       "</table>\n"
      ],
      "text/plain": [
       "<pandas.io.formats.style.Styler at 0x7fa10d0f7640>"
      ]
     },
     "metadata": {},
     "output_type": "display_data"
    }
   ],
   "source": [
    "exp_nlp101 = setup(data = data, \n",
    "                   target = 'en', \n",
    "                   custom_stopwords = ['loan', 'income', 'usd', 'many', 'also', 'make', 'business', 'buy', \n",
    "                                       'sell', 'purchase','year', 'people', 'able', 'enable', 'old', 'woman',\n",
    "                                       'child', 'school'],\n",
    "                   session_id = 101,\n",
    "                   log_experiment = True,\n",
    "                   experiment_name = 'EX001')"
   ]
  },
  {
   "cell_type": "raw",
   "id": "04563699",
   "metadata": {},
   "source": [
    "data: pandas.Dataframe\n",
    "target: str - name of column containing text\n",
    "custom_stopwords: list\n",
    "html: bool, default = True - prevents runtime display of monitor\n",
    "session_id: int\n",
    "log_experiment: bool - MLFlow \n",
    "experiment_name: str \n",
    "experiment_custom_tags: dict - passed to the mlflow.set_tags to add new custom tags for the experiment\n",
    "log_plots: bool - certain plots are logged automatically in the MLFlow   \n",
    "log_data: bool - dataset is logged on the MLflow\n",
    "verbose: bool, default = True\n",
    "    Returns: Global variables that can be changed using the set_config function    "
   ]
  },
  {
   "cell_type": "markdown",
   "id": "bc035586",
   "metadata": {},
   "source": [
    "### [Evaluate Topic Models: Latent Dirichlet Allocation (LDA)](https://towardsdatascience.com/evaluate-topic-model-in-python-latent-dirichlet-allocation-lda-7d57484bb5d0)"
   ]
  },
  {
   "cell_type": "markdown",
   "id": "05ef2547",
   "metadata": {},
   "source": [
    "### [Evaluating Topic Models](https://www.youtube.com/watch?v=UkmIljRIG_M)"
   ]
  },
  {
   "cell_type": "markdown",
   "id": "878c2ac3",
   "metadata": {},
   "source": [
    "### [Latent Dirichlet Allocation](https://radimrehurek.com/gensim/models/ldamodel.html)"
   ]
  },
  {
   "cell_type": "code",
   "execution_count": 18,
   "id": "56a5ccec",
   "metadata": {},
   "outputs": [],
   "source": [
    "lda = create_model('lsi', num_topics = 4, multi_core = True)"
   ]
  },
  {
   "cell_type": "raw",
   "id": "8b0c3ccc",
   "metadata": {},
   "source": [
    "Models available in the model library (ID - Name):\n",
    "'lda' - Latent Dirichlet Allocation\n",
    "'lsi' - Latent Semantic Indexing\n",
    "'hdp' - Hierarchical Dirichlet Process\n",
    "'rp'  - Random Projections\n",
    "'nmf' - Non-Negative Matrix Factorization"
   ]
  },
  {
   "cell_type": "raw",
   "id": "20314d7b",
   "metadata": {},
   "source": [
    "multi_core: bool\n",
    "topic_num: str - Topic number to be passed as a string\n",
    "save: string - Plot is saved as png file in the specified directory when the path to the directory is specified\n",
    "system: bool - Must remain True all times\n",
    "display_format: str - To display plots in Streamlit (https://www.streamlit.io/), set this to ‘streamlit’.    "
   ]
  },
  {
   "cell_type": "code",
   "execution_count": 19,
   "id": "60bb22d8",
   "metadata": {},
   "outputs": [
    {
     "name": "stdout",
     "output_type": "stream",
     "text": [
      "LsiModel(num_terms=4636, num_topics=4, decay=1.0, chunksize=20000)\n"
     ]
    }
   ],
   "source": [
    "print(lda)"
   ]
  },
  {
   "cell_type": "code",
   "execution_count": 20,
   "id": "4d32dc82",
   "metadata": {},
   "outputs": [],
   "source": [
    "lda_results = assign_model(lda)"
   ]
  },
  {
   "cell_type": "code",
   "execution_count": 21,
   "id": "1d931907",
   "metadata": {},
   "outputs": [
    {
     "data": {
      "text/html": [
       "<div>\n",
       "<style scoped>\n",
       "    .dataframe tbody tr th:only-of-type {\n",
       "        vertical-align: middle;\n",
       "    }\n",
       "\n",
       "    .dataframe tbody tr th {\n",
       "        vertical-align: top;\n",
       "    }\n",
       "\n",
       "    .dataframe thead th {\n",
       "        text-align: right;\n",
       "    }\n",
       "</style>\n",
       "<table border=\"1\" class=\"dataframe\">\n",
       "  <thead>\n",
       "    <tr style=\"text-align: right;\">\n",
       "      <th></th>\n",
       "      <th>country</th>\n",
       "      <th>en</th>\n",
       "      <th>gender</th>\n",
       "      <th>loan_amount</th>\n",
       "      <th>nonpayment</th>\n",
       "      <th>sector</th>\n",
       "      <th>status</th>\n",
       "      <th>Topic_0</th>\n",
       "      <th>Topic_1</th>\n",
       "      <th>Topic_2</th>\n",
       "      <th>Topic_3</th>\n",
       "      <th>Dominant_Topic</th>\n",
       "    </tr>\n",
       "  </thead>\n",
       "  <tbody>\n",
       "    <tr>\n",
       "      <th>0</th>\n",
       "      <td>Kenya</td>\n",
       "      <td>praxide marry primary train tailor operate sma...</td>\n",
       "      <td>F</td>\n",
       "      <td>75</td>\n",
       "      <td>partner</td>\n",
       "      <td>Services</td>\n",
       "      <td>0</td>\n",
       "      <td>1.664037</td>\n",
       "      <td>0.906978</td>\n",
       "      <td>0.320543</td>\n",
       "      <td>1.411454</td>\n",
       "      <td>Topic 0</td>\n",
       "    </tr>\n",
       "    <tr>\n",
       "      <th>1</th>\n",
       "      <td>Kenya</td>\n",
       "      <td>gynaecology practitioner run live wife biologi...</td>\n",
       "      <td>M</td>\n",
       "      <td>1200</td>\n",
       "      <td>partner</td>\n",
       "      <td>Health</td>\n",
       "      <td>0</td>\n",
       "      <td>1.631786</td>\n",
       "      <td>0.804830</td>\n",
       "      <td>-0.426122</td>\n",
       "      <td>-0.295032</td>\n",
       "      <td>Topic 0</td>\n",
       "    </tr>\n",
       "    <tr>\n",
       "      <th>2</th>\n",
       "      <td>Dominican Republic</td>\n",
       "      <td>live boy girl range new use clothing support f...</td>\n",
       "      <td>F</td>\n",
       "      <td>150</td>\n",
       "      <td>partner</td>\n",
       "      <td>Clothing</td>\n",
       "      <td>0</td>\n",
       "      <td>2.422465</td>\n",
       "      <td>0.606666</td>\n",
       "      <td>-0.088000</td>\n",
       "      <td>0.380379</td>\n",
       "      <td>Topic 0</td>\n",
       "    </tr>\n",
       "    <tr>\n",
       "      <th>3</th>\n",
       "      <td>Kenya</td>\n",
       "      <td>phanice marry daughter secondary boy primary f...</td>\n",
       "      <td>F</td>\n",
       "      <td>150</td>\n",
       "      <td>lender</td>\n",
       "      <td>Services</td>\n",
       "      <td>1</td>\n",
       "      <td>1.336858</td>\n",
       "      <td>0.750668</td>\n",
       "      <td>0.179625</td>\n",
       "      <td>0.827175</td>\n",
       "      <td>Topic 0</td>\n",
       "    </tr>\n",
       "    <tr>\n",
       "      <th>4</th>\n",
       "      <td>Kenya</td>\n",
       "      <td>hotel last get good return competition increas...</td>\n",
       "      <td>F</td>\n",
       "      <td>300</td>\n",
       "      <td>lender</td>\n",
       "      <td>Food</td>\n",
       "      <td>1</td>\n",
       "      <td>1.163852</td>\n",
       "      <td>0.905853</td>\n",
       "      <td>0.118227</td>\n",
       "      <td>1.258689</td>\n",
       "      <td>Topic 3</td>\n",
       "    </tr>\n",
       "  </tbody>\n",
       "</table>\n",
       "</div>"
      ],
      "text/plain": [
       "              country                                                 en  \\\n",
       "0               Kenya  praxide marry primary train tailor operate sma...   \n",
       "1               Kenya  gynaecology practitioner run live wife biologi...   \n",
       "2  Dominican Republic  live boy girl range new use clothing support f...   \n",
       "3               Kenya  phanice marry daughter secondary boy primary f...   \n",
       "4               Kenya  hotel last get good return competition increas...   \n",
       "\n",
       "  gender  loan_amount nonpayment    sector  status   Topic_0   Topic_1  \\\n",
       "0      F           75    partner  Services       0  1.664037  0.906978   \n",
       "1      M         1200    partner    Health       0  1.631786  0.804830   \n",
       "2      F          150    partner  Clothing       0  2.422465  0.606666   \n",
       "3      F          150     lender  Services       1  1.336858  0.750668   \n",
       "4      F          300     lender      Food       1  1.163852  0.905853   \n",
       "\n",
       "    Topic_2   Topic_3 Dominant_Topic  \n",
       "0  0.320543  1.411454        Topic 0  \n",
       "1 -0.426122 -0.295032        Topic 0  \n",
       "2 -0.088000  0.380379        Topic 0  \n",
       "3  0.179625  0.827175        Topic 0  \n",
       "4  0.118227  1.258689        Topic 3  "
      ]
     },
     "execution_count": 21,
     "metadata": {},
     "output_type": "execute_result"
    }
   ],
   "source": [
    "lda_results.head()"
   ]
  },
  {
   "cell_type": "code",
   "execution_count": 22,
   "id": "36a71f3e",
   "metadata": {
    "scrolled": true
   },
   "outputs": [
    {
     "data": {
      "text/html": [
       "        <script type=\"text/javascript\">\n",
       "        window.PlotlyConfig = {MathJaxConfig: 'local'};\n",
       "        if (window.MathJax) {MathJax.Hub.Config({SVG: {font: \"STIX-Web\"}});}\n",
       "        if (typeof require !== 'undefined') {\n",
       "        require.undef(\"plotly\");\n",
       "        requirejs.config({\n",
       "            paths: {\n",
       "                'plotly': ['https://cdn.plot.ly/plotly-2.11.1.min']\n",
       "            }\n",
       "        });\n",
       "        require(['plotly'], function(Plotly) {\n",
       "            window._Plotly = Plotly;\n",
       "        });\n",
       "        }\n",
       "        </script>\n",
       "        "
      ]
     },
     "metadata": {},
     "output_type": "display_data"
    },
    {
     "data": {
      "application/vnd.plotly.v1+json": {
       "config": {
        "linkText": "Export to plot.ly",
        "plotlyServerURL": "https://plot.ly",
        "showLink": true
       },
       "data": [
        {
         "marker": {
          "color": "rgba(255, 153, 51, 0.6)",
          "line": {
           "color": "rgba(255, 153, 51, 1.0)",
           "width": 1
          }
         },
         "name": "count",
         "orientation": "v",
         "text": "",
         "type": "bar",
         "x": [
          "work",
          "use",
          "family",
          "start",
          "small",
          "help",
          "group",
          "live",
          "husband",
          "product",
          "well",
          "increase",
          "home",
          "customer",
          "marry",
          "good",
          "community",
          "need",
          "order",
          "request",
          "member",
          "pay",
          "hope",
          "grow",
          "expand",
          "stock",
          "want",
          "new",
          "time",
          "provide",
          "store",
          "area",
          "go",
          "money",
          "get",
          "rice",
          "support",
          "improve",
          "give",
          "market",
          "entrepreneur",
          "farmer",
          "hard",
          "sale",
          "life",
          "repay",
          "ago",
          "clothing",
          "run",
          "shop",
          "mother",
          "profit",
          "first",
          "client",
          "plan",
          "take",
          "clothe",
          "food",
          "high",
          "capital",
          "service",
          "education",
          "continue",
          "farm",
          "invest",
          "house",
          "item",
          "local",
          "fee",
          "demand",
          "young",
          "large",
          "wife",
          "operate",
          "meet",
          "say",
          "day",
          "receive",
          "month",
          "still",
          "supply",
          "offer",
          "part",
          "age",
          "currently",
          "open",
          "enough",
          "keep",
          "intend",
          "allow",
          "milk",
          "earn",
          "begin",
          "son",
          "land",
          "save",
          "primary",
          "experience",
          "attend",
          "second"
         ],
         "y": [
          602,
          583,
          560,
          483,
          470,
          469,
          465,
          425,
          423,
          390,
          373,
          350,
          320,
          316,
          313,
          313,
          310,
          296,
          285,
          272,
          269,
          266,
          262,
          260,
          256,
          255,
          245,
          243,
          240,
          234,
          233,
          214,
          212,
          211,
          210,
          202,
          202,
          201,
          200,
          200,
          197,
          193,
          191,
          187,
          186,
          185,
          181,
          180,
          177,
          175,
          173,
          172,
          171,
          170,
          170,
          170,
          167,
          167,
          165,
          164,
          163,
          161,
          158,
          151,
          149,
          144,
          142,
          141,
          139,
          139,
          136,
          136,
          135,
          133,
          132,
          132,
          131,
          129,
          127,
          126,
          125,
          125,
          124,
          123,
          117,
          116,
          116,
          115,
          115,
          114,
          114,
          114,
          112,
          112,
          112,
          111,
          107,
          106,
          105,
          105
         ]
        }
       ],
       "layout": {
        "legend": {
         "bgcolor": "#F5F6F9",
         "font": {
          "color": "#4D5663"
         }
        },
        "paper_bgcolor": "#F5F6F9",
        "plot_bgcolor": "#F5F6F9",
        "template": {
         "data": {
          "bar": [
           {
            "error_x": {
             "color": "#2a3f5f"
            },
            "error_y": {
             "color": "#2a3f5f"
            },
            "marker": {
             "line": {
              "color": "#E5ECF6",
              "width": 0.5
             },
             "pattern": {
              "fillmode": "overlay",
              "size": 10,
              "solidity": 0.2
             }
            },
            "type": "bar"
           }
          ],
          "barpolar": [
           {
            "marker": {
             "line": {
              "color": "#E5ECF6",
              "width": 0.5
             },
             "pattern": {
              "fillmode": "overlay",
              "size": 10,
              "solidity": 0.2
             }
            },
            "type": "barpolar"
           }
          ],
          "carpet": [
           {
            "aaxis": {
             "endlinecolor": "#2a3f5f",
             "gridcolor": "white",
             "linecolor": "white",
             "minorgridcolor": "white",
             "startlinecolor": "#2a3f5f"
            },
            "baxis": {
             "endlinecolor": "#2a3f5f",
             "gridcolor": "white",
             "linecolor": "white",
             "minorgridcolor": "white",
             "startlinecolor": "#2a3f5f"
            },
            "type": "carpet"
           }
          ],
          "choropleth": [
           {
            "colorbar": {
             "outlinewidth": 0,
             "ticks": ""
            },
            "type": "choropleth"
           }
          ],
          "contour": [
           {
            "colorbar": {
             "outlinewidth": 0,
             "ticks": ""
            },
            "colorscale": [
             [
              0,
              "#0d0887"
             ],
             [
              0.1111111111111111,
              "#46039f"
             ],
             [
              0.2222222222222222,
              "#7201a8"
             ],
             [
              0.3333333333333333,
              "#9c179e"
             ],
             [
              0.4444444444444444,
              "#bd3786"
             ],
             [
              0.5555555555555556,
              "#d8576b"
             ],
             [
              0.6666666666666666,
              "#ed7953"
             ],
             [
              0.7777777777777778,
              "#fb9f3a"
             ],
             [
              0.8888888888888888,
              "#fdca26"
             ],
             [
              1,
              "#f0f921"
             ]
            ],
            "type": "contour"
           }
          ],
          "contourcarpet": [
           {
            "colorbar": {
             "outlinewidth": 0,
             "ticks": ""
            },
            "type": "contourcarpet"
           }
          ],
          "heatmap": [
           {
            "colorbar": {
             "outlinewidth": 0,
             "ticks": ""
            },
            "colorscale": [
             [
              0,
              "#0d0887"
             ],
             [
              0.1111111111111111,
              "#46039f"
             ],
             [
              0.2222222222222222,
              "#7201a8"
             ],
             [
              0.3333333333333333,
              "#9c179e"
             ],
             [
              0.4444444444444444,
              "#bd3786"
             ],
             [
              0.5555555555555556,
              "#d8576b"
             ],
             [
              0.6666666666666666,
              "#ed7953"
             ],
             [
              0.7777777777777778,
              "#fb9f3a"
             ],
             [
              0.8888888888888888,
              "#fdca26"
             ],
             [
              1,
              "#f0f921"
             ]
            ],
            "type": "heatmap"
           }
          ],
          "heatmapgl": [
           {
            "colorbar": {
             "outlinewidth": 0,
             "ticks": ""
            },
            "colorscale": [
             [
              0,
              "#0d0887"
             ],
             [
              0.1111111111111111,
              "#46039f"
             ],
             [
              0.2222222222222222,
              "#7201a8"
             ],
             [
              0.3333333333333333,
              "#9c179e"
             ],
             [
              0.4444444444444444,
              "#bd3786"
             ],
             [
              0.5555555555555556,
              "#d8576b"
             ],
             [
              0.6666666666666666,
              "#ed7953"
             ],
             [
              0.7777777777777778,
              "#fb9f3a"
             ],
             [
              0.8888888888888888,
              "#fdca26"
             ],
             [
              1,
              "#f0f921"
             ]
            ],
            "type": "heatmapgl"
           }
          ],
          "histogram": [
           {
            "marker": {
             "pattern": {
              "fillmode": "overlay",
              "size": 10,
              "solidity": 0.2
             }
            },
            "type": "histogram"
           }
          ],
          "histogram2d": [
           {
            "colorbar": {
             "outlinewidth": 0,
             "ticks": ""
            },
            "colorscale": [
             [
              0,
              "#0d0887"
             ],
             [
              0.1111111111111111,
              "#46039f"
             ],
             [
              0.2222222222222222,
              "#7201a8"
             ],
             [
              0.3333333333333333,
              "#9c179e"
             ],
             [
              0.4444444444444444,
              "#bd3786"
             ],
             [
              0.5555555555555556,
              "#d8576b"
             ],
             [
              0.6666666666666666,
              "#ed7953"
             ],
             [
              0.7777777777777778,
              "#fb9f3a"
             ],
             [
              0.8888888888888888,
              "#fdca26"
             ],
             [
              1,
              "#f0f921"
             ]
            ],
            "type": "histogram2d"
           }
          ],
          "histogram2dcontour": [
           {
            "colorbar": {
             "outlinewidth": 0,
             "ticks": ""
            },
            "colorscale": [
             [
              0,
              "#0d0887"
             ],
             [
              0.1111111111111111,
              "#46039f"
             ],
             [
              0.2222222222222222,
              "#7201a8"
             ],
             [
              0.3333333333333333,
              "#9c179e"
             ],
             [
              0.4444444444444444,
              "#bd3786"
             ],
             [
              0.5555555555555556,
              "#d8576b"
             ],
             [
              0.6666666666666666,
              "#ed7953"
             ],
             [
              0.7777777777777778,
              "#fb9f3a"
             ],
             [
              0.8888888888888888,
              "#fdca26"
             ],
             [
              1,
              "#f0f921"
             ]
            ],
            "type": "histogram2dcontour"
           }
          ],
          "mesh3d": [
           {
            "colorbar": {
             "outlinewidth": 0,
             "ticks": ""
            },
            "type": "mesh3d"
           }
          ],
          "parcoords": [
           {
            "line": {
             "colorbar": {
              "outlinewidth": 0,
              "ticks": ""
             }
            },
            "type": "parcoords"
           }
          ],
          "pie": [
           {
            "automargin": true,
            "type": "pie"
           }
          ],
          "scatter": [
           {
            "fillpattern": {
             "fillmode": "overlay",
             "size": 10,
             "solidity": 0.2
            },
            "type": "scatter"
           }
          ],
          "scatter3d": [
           {
            "line": {
             "colorbar": {
              "outlinewidth": 0,
              "ticks": ""
             }
            },
            "marker": {
             "colorbar": {
              "outlinewidth": 0,
              "ticks": ""
             }
            },
            "type": "scatter3d"
           }
          ],
          "scattercarpet": [
           {
            "marker": {
             "colorbar": {
              "outlinewidth": 0,
              "ticks": ""
             }
            },
            "type": "scattercarpet"
           }
          ],
          "scattergeo": [
           {
            "marker": {
             "colorbar": {
              "outlinewidth": 0,
              "ticks": ""
             }
            },
            "type": "scattergeo"
           }
          ],
          "scattergl": [
           {
            "marker": {
             "colorbar": {
              "outlinewidth": 0,
              "ticks": ""
             }
            },
            "type": "scattergl"
           }
          ],
          "scattermapbox": [
           {
            "marker": {
             "colorbar": {
              "outlinewidth": 0,
              "ticks": ""
             }
            },
            "type": "scattermapbox"
           }
          ],
          "scatterpolar": [
           {
            "marker": {
             "colorbar": {
              "outlinewidth": 0,
              "ticks": ""
             }
            },
            "type": "scatterpolar"
           }
          ],
          "scatterpolargl": [
           {
            "marker": {
             "colorbar": {
              "outlinewidth": 0,
              "ticks": ""
             }
            },
            "type": "scatterpolargl"
           }
          ],
          "scatterternary": [
           {
            "marker": {
             "colorbar": {
              "outlinewidth": 0,
              "ticks": ""
             }
            },
            "type": "scatterternary"
           }
          ],
          "surface": [
           {
            "colorbar": {
             "outlinewidth": 0,
             "ticks": ""
            },
            "colorscale": [
             [
              0,
              "#0d0887"
             ],
             [
              0.1111111111111111,
              "#46039f"
             ],
             [
              0.2222222222222222,
              "#7201a8"
             ],
             [
              0.3333333333333333,
              "#9c179e"
             ],
             [
              0.4444444444444444,
              "#bd3786"
             ],
             [
              0.5555555555555556,
              "#d8576b"
             ],
             [
              0.6666666666666666,
              "#ed7953"
             ],
             [
              0.7777777777777778,
              "#fb9f3a"
             ],
             [
              0.8888888888888888,
              "#fdca26"
             ],
             [
              1,
              "#f0f921"
             ]
            ],
            "type": "surface"
           }
          ],
          "table": [
           {
            "cells": {
             "fill": {
              "color": "#EBF0F8"
             },
             "line": {
              "color": "white"
             }
            },
            "header": {
             "fill": {
              "color": "#C8D4E3"
             },
             "line": {
              "color": "white"
             }
            },
            "type": "table"
           }
          ]
         },
         "layout": {
          "annotationdefaults": {
           "arrowcolor": "#2a3f5f",
           "arrowhead": 0,
           "arrowwidth": 1
          },
          "autotypenumbers": "strict",
          "coloraxis": {
           "colorbar": {
            "outlinewidth": 0,
            "ticks": ""
           }
          },
          "colorscale": {
           "diverging": [
            [
             0,
             "#8e0152"
            ],
            [
             0.1,
             "#c51b7d"
            ],
            [
             0.2,
             "#de77ae"
            ],
            [
             0.3,
             "#f1b6da"
            ],
            [
             0.4,
             "#fde0ef"
            ],
            [
             0.5,
             "#f7f7f7"
            ],
            [
             0.6,
             "#e6f5d0"
            ],
            [
             0.7,
             "#b8e186"
            ],
            [
             0.8,
             "#7fbc41"
            ],
            [
             0.9,
             "#4d9221"
            ],
            [
             1,
             "#276419"
            ]
           ],
           "sequential": [
            [
             0,
             "#0d0887"
            ],
            [
             0.1111111111111111,
             "#46039f"
            ],
            [
             0.2222222222222222,
             "#7201a8"
            ],
            [
             0.3333333333333333,
             "#9c179e"
            ],
            [
             0.4444444444444444,
             "#bd3786"
            ],
            [
             0.5555555555555556,
             "#d8576b"
            ],
            [
             0.6666666666666666,
             "#ed7953"
            ],
            [
             0.7777777777777778,
             "#fb9f3a"
            ],
            [
             0.8888888888888888,
             "#fdca26"
            ],
            [
             1,
             "#f0f921"
            ]
           ],
           "sequentialminus": [
            [
             0,
             "#0d0887"
            ],
            [
             0.1111111111111111,
             "#46039f"
            ],
            [
             0.2222222222222222,
             "#7201a8"
            ],
            [
             0.3333333333333333,
             "#9c179e"
            ],
            [
             0.4444444444444444,
             "#bd3786"
            ],
            [
             0.5555555555555556,
             "#d8576b"
            ],
            [
             0.6666666666666666,
             "#ed7953"
            ],
            [
             0.7777777777777778,
             "#fb9f3a"
            ],
            [
             0.8888888888888888,
             "#fdca26"
            ],
            [
             1,
             "#f0f921"
            ]
           ]
          },
          "colorway": [
           "#636efa",
           "#EF553B",
           "#00cc96",
           "#ab63fa",
           "#FFA15A",
           "#19d3f3",
           "#FF6692",
           "#B6E880",
           "#FF97FF",
           "#FECB52"
          ],
          "font": {
           "color": "#2a3f5f"
          },
          "geo": {
           "bgcolor": "white",
           "lakecolor": "white",
           "landcolor": "#E5ECF6",
           "showlakes": true,
           "showland": true,
           "subunitcolor": "white"
          },
          "hoverlabel": {
           "align": "left"
          },
          "hovermode": "closest",
          "mapbox": {
           "style": "light"
          },
          "paper_bgcolor": "white",
          "plot_bgcolor": "#E5ECF6",
          "polar": {
           "angularaxis": {
            "gridcolor": "white",
            "linecolor": "white",
            "ticks": ""
           },
           "bgcolor": "#E5ECF6",
           "radialaxis": {
            "gridcolor": "white",
            "linecolor": "white",
            "ticks": ""
           }
          },
          "scene": {
           "xaxis": {
            "backgroundcolor": "#E5ECF6",
            "gridcolor": "white",
            "gridwidth": 2,
            "linecolor": "white",
            "showbackground": true,
            "ticks": "",
            "zerolinecolor": "white"
           },
           "yaxis": {
            "backgroundcolor": "#E5ECF6",
            "gridcolor": "white",
            "gridwidth": 2,
            "linecolor": "white",
            "showbackground": true,
            "ticks": "",
            "zerolinecolor": "white"
           },
           "zaxis": {
            "backgroundcolor": "#E5ECF6",
            "gridcolor": "white",
            "gridwidth": 2,
            "linecolor": "white",
            "showbackground": true,
            "ticks": "",
            "zerolinecolor": "white"
           }
          },
          "shapedefaults": {
           "line": {
            "color": "#2a3f5f"
           }
          },
          "ternary": {
           "aaxis": {
            "gridcolor": "white",
            "linecolor": "white",
            "ticks": ""
           },
           "baxis": {
            "gridcolor": "white",
            "linecolor": "white",
            "ticks": ""
           },
           "bgcolor": "#E5ECF6",
           "caxis": {
            "gridcolor": "white",
            "linecolor": "white",
            "ticks": ""
           }
          },
          "title": {
           "x": 0.05
          },
          "xaxis": {
           "automargin": true,
           "gridcolor": "white",
           "linecolor": "white",
           "ticks": "",
           "title": {
            "standoff": 15
           },
           "zerolinecolor": "white",
           "zerolinewidth": 2
          },
          "yaxis": {
           "automargin": true,
           "gridcolor": "white",
           "linecolor": "white",
           "ticks": "",
           "title": {
            "standoff": 15
           },
           "zerolinecolor": "white",
           "zerolinewidth": 2
          }
         }
        },
        "title": {
         "font": {
          "color": "#4D5663"
         },
         "text": "Top 100 words after removing stop words"
        },
        "xaxis": {
         "gridcolor": "#E1E5ED",
         "linecolor": "black",
         "showgrid": true,
         "tickfont": {
          "color": "#4D5663"
         },
         "title": {
          "font": {
           "color": "#4D5663"
          },
          "text": ""
         },
         "zerolinecolor": "#E1E5ED"
        },
        "yaxis": {
         "gridcolor": "#E1E5ED",
         "linecolor": "black",
         "showgrid": true,
         "tickfont": {
          "color": "#4D5663"
         },
         "title": {
          "font": {
           "color": "#4D5663"
          },
          "text": "Count"
         },
         "zerolinecolor": "#E1E5ED"
        }
       }
      },
      "text/html": [
       "<div>                            <div id=\"d730d931-7199-47ae-b050-5e564f219001\" class=\"plotly-graph-div\" style=\"height:525px; width:100%;\"></div>            <script type=\"text/javascript\">                require([\"plotly\"], function(Plotly) {                    window.PLOTLYENV=window.PLOTLYENV || {};\n",
       "                    window.PLOTLYENV.BASE_URL='https://plot.ly';                                    if (document.getElementById(\"d730d931-7199-47ae-b050-5e564f219001\")) {                    Plotly.newPlot(                        \"d730d931-7199-47ae-b050-5e564f219001\",                        [{\"marker\":{\"color\":\"rgba(255, 153, 51, 0.6)\",\"line\":{\"color\":\"rgba(255, 153, 51, 1.0)\",\"width\":1}},\"name\":\"count\",\"orientation\":\"v\",\"text\":\"\",\"x\":[\"work\",\"use\",\"family\",\"start\",\"small\",\"help\",\"group\",\"live\",\"husband\",\"product\",\"well\",\"increase\",\"home\",\"customer\",\"marry\",\"good\",\"community\",\"need\",\"order\",\"request\",\"member\",\"pay\",\"hope\",\"grow\",\"expand\",\"stock\",\"want\",\"new\",\"time\",\"provide\",\"store\",\"area\",\"go\",\"money\",\"get\",\"rice\",\"support\",\"improve\",\"give\",\"market\",\"entrepreneur\",\"farmer\",\"hard\",\"sale\",\"life\",\"repay\",\"ago\",\"clothing\",\"run\",\"shop\",\"mother\",\"profit\",\"first\",\"client\",\"plan\",\"take\",\"clothe\",\"food\",\"high\",\"capital\",\"service\",\"education\",\"continue\",\"farm\",\"invest\",\"house\",\"item\",\"local\",\"fee\",\"demand\",\"young\",\"large\",\"wife\",\"operate\",\"meet\",\"say\",\"day\",\"receive\",\"month\",\"still\",\"supply\",\"offer\",\"part\",\"age\",\"currently\",\"open\",\"enough\",\"keep\",\"intend\",\"allow\",\"milk\",\"earn\",\"begin\",\"son\",\"land\",\"save\",\"primary\",\"experience\",\"attend\",\"second\"],\"y\":[602,583,560,483,470,469,465,425,423,390,373,350,320,316,313,313,310,296,285,272,269,266,262,260,256,255,245,243,240,234,233,214,212,211,210,202,202,201,200,200,197,193,191,187,186,185,181,180,177,175,173,172,171,170,170,170,167,167,165,164,163,161,158,151,149,144,142,141,139,139,136,136,135,133,132,132,131,129,127,126,125,125,124,123,117,116,116,115,115,114,114,114,112,112,112,111,107,106,105,105],\"type\":\"bar\"}],                        {\"legend\":{\"bgcolor\":\"#F5F6F9\",\"font\":{\"color\":\"#4D5663\"}},\"paper_bgcolor\":\"#F5F6F9\",\"plot_bgcolor\":\"#F5F6F9\",\"template\":{\"data\":{\"barpolar\":[{\"marker\":{\"line\":{\"color\":\"#E5ECF6\",\"width\":0.5},\"pattern\":{\"fillmode\":\"overlay\",\"size\":10,\"solidity\":0.2}},\"type\":\"barpolar\"}],\"bar\":[{\"error_x\":{\"color\":\"#2a3f5f\"},\"error_y\":{\"color\":\"#2a3f5f\"},\"marker\":{\"line\":{\"color\":\"#E5ECF6\",\"width\":0.5},\"pattern\":{\"fillmode\":\"overlay\",\"size\":10,\"solidity\":0.2}},\"type\":\"bar\"}],\"carpet\":[{\"aaxis\":{\"endlinecolor\":\"#2a3f5f\",\"gridcolor\":\"white\",\"linecolor\":\"white\",\"minorgridcolor\":\"white\",\"startlinecolor\":\"#2a3f5f\"},\"baxis\":{\"endlinecolor\":\"#2a3f5f\",\"gridcolor\":\"white\",\"linecolor\":\"white\",\"minorgridcolor\":\"white\",\"startlinecolor\":\"#2a3f5f\"},\"type\":\"carpet\"}],\"choropleth\":[{\"colorbar\":{\"outlinewidth\":0,\"ticks\":\"\"},\"type\":\"choropleth\"}],\"contourcarpet\":[{\"colorbar\":{\"outlinewidth\":0,\"ticks\":\"\"},\"type\":\"contourcarpet\"}],\"contour\":[{\"colorbar\":{\"outlinewidth\":0,\"ticks\":\"\"},\"colorscale\":[[0.0,\"#0d0887\"],[0.1111111111111111,\"#46039f\"],[0.2222222222222222,\"#7201a8\"],[0.3333333333333333,\"#9c179e\"],[0.4444444444444444,\"#bd3786\"],[0.5555555555555556,\"#d8576b\"],[0.6666666666666666,\"#ed7953\"],[0.7777777777777778,\"#fb9f3a\"],[0.8888888888888888,\"#fdca26\"],[1.0,\"#f0f921\"]],\"type\":\"contour\"}],\"heatmapgl\":[{\"colorbar\":{\"outlinewidth\":0,\"ticks\":\"\"},\"colorscale\":[[0.0,\"#0d0887\"],[0.1111111111111111,\"#46039f\"],[0.2222222222222222,\"#7201a8\"],[0.3333333333333333,\"#9c179e\"],[0.4444444444444444,\"#bd3786\"],[0.5555555555555556,\"#d8576b\"],[0.6666666666666666,\"#ed7953\"],[0.7777777777777778,\"#fb9f3a\"],[0.8888888888888888,\"#fdca26\"],[1.0,\"#f0f921\"]],\"type\":\"heatmapgl\"}],\"heatmap\":[{\"colorbar\":{\"outlinewidth\":0,\"ticks\":\"\"},\"colorscale\":[[0.0,\"#0d0887\"],[0.1111111111111111,\"#46039f\"],[0.2222222222222222,\"#7201a8\"],[0.3333333333333333,\"#9c179e\"],[0.4444444444444444,\"#bd3786\"],[0.5555555555555556,\"#d8576b\"],[0.6666666666666666,\"#ed7953\"],[0.7777777777777778,\"#fb9f3a\"],[0.8888888888888888,\"#fdca26\"],[1.0,\"#f0f921\"]],\"type\":\"heatmap\"}],\"histogram2dcontour\":[{\"colorbar\":{\"outlinewidth\":0,\"ticks\":\"\"},\"colorscale\":[[0.0,\"#0d0887\"],[0.1111111111111111,\"#46039f\"],[0.2222222222222222,\"#7201a8\"],[0.3333333333333333,\"#9c179e\"],[0.4444444444444444,\"#bd3786\"],[0.5555555555555556,\"#d8576b\"],[0.6666666666666666,\"#ed7953\"],[0.7777777777777778,\"#fb9f3a\"],[0.8888888888888888,\"#fdca26\"],[1.0,\"#f0f921\"]],\"type\":\"histogram2dcontour\"}],\"histogram2d\":[{\"colorbar\":{\"outlinewidth\":0,\"ticks\":\"\"},\"colorscale\":[[0.0,\"#0d0887\"],[0.1111111111111111,\"#46039f\"],[0.2222222222222222,\"#7201a8\"],[0.3333333333333333,\"#9c179e\"],[0.4444444444444444,\"#bd3786\"],[0.5555555555555556,\"#d8576b\"],[0.6666666666666666,\"#ed7953\"],[0.7777777777777778,\"#fb9f3a\"],[0.8888888888888888,\"#fdca26\"],[1.0,\"#f0f921\"]],\"type\":\"histogram2d\"}],\"histogram\":[{\"marker\":{\"pattern\":{\"fillmode\":\"overlay\",\"size\":10,\"solidity\":0.2}},\"type\":\"histogram\"}],\"mesh3d\":[{\"colorbar\":{\"outlinewidth\":0,\"ticks\":\"\"},\"type\":\"mesh3d\"}],\"parcoords\":[{\"line\":{\"colorbar\":{\"outlinewidth\":0,\"ticks\":\"\"}},\"type\":\"parcoords\"}],\"pie\":[{\"automargin\":true,\"type\":\"pie\"}],\"scatter3d\":[{\"line\":{\"colorbar\":{\"outlinewidth\":0,\"ticks\":\"\"}},\"marker\":{\"colorbar\":{\"outlinewidth\":0,\"ticks\":\"\"}},\"type\":\"scatter3d\"}],\"scattercarpet\":[{\"marker\":{\"colorbar\":{\"outlinewidth\":0,\"ticks\":\"\"}},\"type\":\"scattercarpet\"}],\"scattergeo\":[{\"marker\":{\"colorbar\":{\"outlinewidth\":0,\"ticks\":\"\"}},\"type\":\"scattergeo\"}],\"scattergl\":[{\"marker\":{\"colorbar\":{\"outlinewidth\":0,\"ticks\":\"\"}},\"type\":\"scattergl\"}],\"scattermapbox\":[{\"marker\":{\"colorbar\":{\"outlinewidth\":0,\"ticks\":\"\"}},\"type\":\"scattermapbox\"}],\"scatterpolargl\":[{\"marker\":{\"colorbar\":{\"outlinewidth\":0,\"ticks\":\"\"}},\"type\":\"scatterpolargl\"}],\"scatterpolar\":[{\"marker\":{\"colorbar\":{\"outlinewidth\":0,\"ticks\":\"\"}},\"type\":\"scatterpolar\"}],\"scatter\":[{\"fillpattern\":{\"fillmode\":\"overlay\",\"size\":10,\"solidity\":0.2},\"type\":\"scatter\"}],\"scatterternary\":[{\"marker\":{\"colorbar\":{\"outlinewidth\":0,\"ticks\":\"\"}},\"type\":\"scatterternary\"}],\"surface\":[{\"colorbar\":{\"outlinewidth\":0,\"ticks\":\"\"},\"colorscale\":[[0.0,\"#0d0887\"],[0.1111111111111111,\"#46039f\"],[0.2222222222222222,\"#7201a8\"],[0.3333333333333333,\"#9c179e\"],[0.4444444444444444,\"#bd3786\"],[0.5555555555555556,\"#d8576b\"],[0.6666666666666666,\"#ed7953\"],[0.7777777777777778,\"#fb9f3a\"],[0.8888888888888888,\"#fdca26\"],[1.0,\"#f0f921\"]],\"type\":\"surface\"}],\"table\":[{\"cells\":{\"fill\":{\"color\":\"#EBF0F8\"},\"line\":{\"color\":\"white\"}},\"header\":{\"fill\":{\"color\":\"#C8D4E3\"},\"line\":{\"color\":\"white\"}},\"type\":\"table\"}]},\"layout\":{\"annotationdefaults\":{\"arrowcolor\":\"#2a3f5f\",\"arrowhead\":0,\"arrowwidth\":1},\"autotypenumbers\":\"strict\",\"coloraxis\":{\"colorbar\":{\"outlinewidth\":0,\"ticks\":\"\"}},\"colorscale\":{\"diverging\":[[0,\"#8e0152\"],[0.1,\"#c51b7d\"],[0.2,\"#de77ae\"],[0.3,\"#f1b6da\"],[0.4,\"#fde0ef\"],[0.5,\"#f7f7f7\"],[0.6,\"#e6f5d0\"],[0.7,\"#b8e186\"],[0.8,\"#7fbc41\"],[0.9,\"#4d9221\"],[1,\"#276419\"]],\"sequential\":[[0.0,\"#0d0887\"],[0.1111111111111111,\"#46039f\"],[0.2222222222222222,\"#7201a8\"],[0.3333333333333333,\"#9c179e\"],[0.4444444444444444,\"#bd3786\"],[0.5555555555555556,\"#d8576b\"],[0.6666666666666666,\"#ed7953\"],[0.7777777777777778,\"#fb9f3a\"],[0.8888888888888888,\"#fdca26\"],[1.0,\"#f0f921\"]],\"sequentialminus\":[[0.0,\"#0d0887\"],[0.1111111111111111,\"#46039f\"],[0.2222222222222222,\"#7201a8\"],[0.3333333333333333,\"#9c179e\"],[0.4444444444444444,\"#bd3786\"],[0.5555555555555556,\"#d8576b\"],[0.6666666666666666,\"#ed7953\"],[0.7777777777777778,\"#fb9f3a\"],[0.8888888888888888,\"#fdca26\"],[1.0,\"#f0f921\"]]},\"colorway\":[\"#636efa\",\"#EF553B\",\"#00cc96\",\"#ab63fa\",\"#FFA15A\",\"#19d3f3\",\"#FF6692\",\"#B6E880\",\"#FF97FF\",\"#FECB52\"],\"font\":{\"color\":\"#2a3f5f\"},\"geo\":{\"bgcolor\":\"white\",\"lakecolor\":\"white\",\"landcolor\":\"#E5ECF6\",\"showlakes\":true,\"showland\":true,\"subunitcolor\":\"white\"},\"hoverlabel\":{\"align\":\"left\"},\"hovermode\":\"closest\",\"mapbox\":{\"style\":\"light\"},\"paper_bgcolor\":\"white\",\"plot_bgcolor\":\"#E5ECF6\",\"polar\":{\"angularaxis\":{\"gridcolor\":\"white\",\"linecolor\":\"white\",\"ticks\":\"\"},\"bgcolor\":\"#E5ECF6\",\"radialaxis\":{\"gridcolor\":\"white\",\"linecolor\":\"white\",\"ticks\":\"\"}},\"scene\":{\"xaxis\":{\"backgroundcolor\":\"#E5ECF6\",\"gridcolor\":\"white\",\"gridwidth\":2,\"linecolor\":\"white\",\"showbackground\":true,\"ticks\":\"\",\"zerolinecolor\":\"white\"},\"yaxis\":{\"backgroundcolor\":\"#E5ECF6\",\"gridcolor\":\"white\",\"gridwidth\":2,\"linecolor\":\"white\",\"showbackground\":true,\"ticks\":\"\",\"zerolinecolor\":\"white\"},\"zaxis\":{\"backgroundcolor\":\"#E5ECF6\",\"gridcolor\":\"white\",\"gridwidth\":2,\"linecolor\":\"white\",\"showbackground\":true,\"ticks\":\"\",\"zerolinecolor\":\"white\"}},\"shapedefaults\":{\"line\":{\"color\":\"#2a3f5f\"}},\"ternary\":{\"aaxis\":{\"gridcolor\":\"white\",\"linecolor\":\"white\",\"ticks\":\"\"},\"baxis\":{\"gridcolor\":\"white\",\"linecolor\":\"white\",\"ticks\":\"\"},\"bgcolor\":\"#E5ECF6\",\"caxis\":{\"gridcolor\":\"white\",\"linecolor\":\"white\",\"ticks\":\"\"}},\"title\":{\"x\":0.05},\"xaxis\":{\"automargin\":true,\"gridcolor\":\"white\",\"linecolor\":\"white\",\"ticks\":\"\",\"title\":{\"standoff\":15},\"zerolinecolor\":\"white\",\"zerolinewidth\":2},\"yaxis\":{\"automargin\":true,\"gridcolor\":\"white\",\"linecolor\":\"white\",\"ticks\":\"\",\"title\":{\"standoff\":15},\"zerolinecolor\":\"white\",\"zerolinewidth\":2}}},\"title\":{\"font\":{\"color\":\"#4D5663\"},\"text\":\"Top 100 words after removing stop words\"},\"xaxis\":{\"gridcolor\":\"#E1E5ED\",\"linecolor\":\"black\",\"showgrid\":true,\"tickfont\":{\"color\":\"#4D5663\"},\"title\":{\"font\":{\"color\":\"#4D5663\"},\"text\":\"\"},\"zerolinecolor\":\"#E1E5ED\"},\"yaxis\":{\"gridcolor\":\"#E1E5ED\",\"linecolor\":\"black\",\"showgrid\":true,\"tickfont\":{\"color\":\"#4D5663\"},\"title\":{\"font\":{\"color\":\"#4D5663\"},\"text\":\"Count\"},\"zerolinecolor\":\"#E1E5ED\"}},                        {\"showLink\": true, \"linkText\": \"Export to plot.ly\", \"plotlyServerURL\": \"https://plot.ly\", \"responsive\": true}                    ).then(function(){\n",
       "                            \n",
       "var gd = document.getElementById('d730d931-7199-47ae-b050-5e564f219001');\n",
       "var x = new MutationObserver(function (mutations, observer) {{\n",
       "        var display = window.getComputedStyle(gd).display;\n",
       "        if (!display || display === 'none') {{\n",
       "            console.log([gd, 'removed!']);\n",
       "            Plotly.purge(gd);\n",
       "            observer.disconnect();\n",
       "        }}\n",
       "}});\n",
       "\n",
       "// Listen for the removal of the full notebook cells\n",
       "var notebookContainer = gd.closest('#notebook-container');\n",
       "if (notebookContainer) {{\n",
       "    x.observe(notebookContainer, {childList: true});\n",
       "}}\n",
       "\n",
       "// Listen for the clearing of the current output cell\n",
       "var outputEl = gd.closest('.output');\n",
       "if (outputEl) {{\n",
       "    x.observe(outputEl, {childList: true});\n",
       "}}\n",
       "\n",
       "                        })                };                });            </script>        </div>"
      ]
     },
     "metadata": {},
     "output_type": "display_data"
    }
   ],
   "source": [
    "plot_model()"
   ]
  },
  {
   "cell_type": "raw",
   "id": "ba224c76",
   "metadata": {},
   "source": [
    "List of available plots (ID - Name):\n",
    "Word Token Frequency - 'frequency'\n",
    "Word Distribution Plot - 'distribution'\n",
    "Bigram Frequency Plot - 'bigram'\n",
    "Trigram Frequency Plot - 'trigram'\n",
    "Sentiment Polarity Plot - 'sentiment'\n",
    "Part of Speech Frequency - 'pos'\n",
    "t-SNE (3d) Dimension Plot - 'tsne'\n",
    "Topic Model (pyLDAvis) - 'topic_model'\n",
    "Topic Infer Distribution - 'topic_distribution'\n",
    "Wordcloud - 'wordcloud'\n",
    "UMAP Dimensionality Plot - 'umap'"
   ]
  },
  {
   "cell_type": "code",
   "execution_count": 23,
   "id": "02305ba3",
   "metadata": {},
   "outputs": [
    {
     "data": {
      "text/html": [
       "        <script type=\"text/javascript\">\n",
       "        window.PlotlyConfig = {MathJaxConfig: 'local'};\n",
       "        if (window.MathJax) {MathJax.Hub.Config({SVG: {font: \"STIX-Web\"}});}\n",
       "        if (typeof require !== 'undefined') {\n",
       "        require.undef(\"plotly\");\n",
       "        requirejs.config({\n",
       "            paths: {\n",
       "                'plotly': ['https://cdn.plot.ly/plotly-2.11.1.min']\n",
       "            }\n",
       "        });\n",
       "        require(['plotly'], function(Plotly) {\n",
       "            window._Plotly = Plotly;\n",
       "        });\n",
       "        }\n",
       "        </script>\n",
       "        "
      ]
     },
     "metadata": {},
     "output_type": "display_data"
    },
    {
     "data": {
      "application/vnd.plotly.v1+json": {
       "config": {
        "linkText": "Export to plot.ly",
        "plotlyServerURL": "https://plot.ly",
        "showLink": true
       },
       "data": [
        {
         "marker": {
          "color": "rgba(255, 153, 51, 0.6)",
          "line": {
           "color": "rgba(255, 153, 51, 1.0)",
           "width": 1
          }
         },
         "name": "count",
         "orientation": "v",
         "text": "",
         "type": "bar",
         "x": [
          "work hard",
          "pay fee",
          "hard work",
          "increase stock",
          "start small",
          "group member",
          "support family",
          "husband work",
          "start ago",
          "provide family",
          "programs_information_microfinance_ecuador services_please_visit_href",
          "live husband",
          "member group",
          "mifex_offers_client microinsurance_access_training_educational",
          "rice farmer",
          "risk_willing_accept_additional risk_making",
          "may_represent_higher_default risk_willing_accept_additional",
          "kenya_security_situation_communitie businesses_lenders_entrepreneur_aware",
          "person group",
          "businesses_lenders_entrepreneur_aware may_represent_higher_default",
          "microinsurance_access_training_educational programs_information_microfinance_ecuador",
          "plan use",
          "run small",
          "well life",
          "high demand",
          "provide well",
          "capital first_months_r",
          "customer need",
          "group promoting_savings_often_forgotten",
          "marry primary",
          "operate small",
          "order farm",
          "pay back",
          "land order",
          "intend use",
          "enough money",
          "first_months_r debt_must_paid_seventh",
          "beauty product",
          "help husband",
          "small store",
          "mifex_rural_finance program",
          "therefore request",
          "want expand",
          "group cannot_fully_repay_borrower",
          "small farmers_produce_sack",
          "boleo_spanish_hand_sowe rice",
          "pay capital",
          "request budget",
          "area small",
          "rice grow",
          "debt_must_paid_seventh final_month",
          "husband help",
          "crop boleo_spanish_hand_sowe",
          "farmers_produce_sack land",
          "grow farmers_rent_machinery",
          "add stock",
          "local community",
          "save money",
          "quality life",
          "large quantity",
          "local market",
          "family need",
          "promoting_savings_often_forgotten micro_finance_program",
          "farmers_rent_machinery helps_gather_production",
          "rural area",
          "attract new",
          "micro_finance_program mifex_believes_imperative",
          "sector rice",
          "micro entrepreneur",
          "increase revenue",
          "communal_bank_others_guarantor person",
          "farmer association_works_cooperatively",
          "meet customer",
          "need order",
          "store home",
          "use clothe",
          "sale increase",
          "rural sector",
          "capital_reserved_future_investment team_evaluating_potential_sector",
          "start help",
          "rice production",
          "program rice",
          "family member",
          "improve family",
          "repay time",
          "increase profit",
          "use money",
          "familys need",
          "mifex_believes_imperative capital_reserved_future_investment",
          "boy girl",
          "loans_prepare_land part",
          "good education",
          "improve quality",
          "part communal_bank_others_guarantor",
          "increase sale",
          "request second",
          "small shop",
          "use clothing",
          "meet need",
          "continue grow"
         ],
         "y": [
          70,
          66,
          64,
          54,
          48,
          47,
          46,
          46,
          40,
          39,
          38,
          38,
          38,
          34,
          33,
          32,
          32,
          32,
          32,
          32,
          32,
          29,
          29,
          28,
          28,
          27,
          25,
          25,
          25,
          25,
          25,
          25,
          25,
          25,
          25,
          24,
          24,
          24,
          24,
          24,
          24,
          23,
          23,
          23,
          22,
          22,
          22,
          22,
          22,
          22,
          22,
          22,
          22,
          22,
          22,
          21,
          21,
          21,
          21,
          20,
          20,
          20,
          19,
          19,
          19,
          19,
          19,
          19,
          19,
          19,
          18,
          18,
          18,
          18,
          18,
          18,
          18,
          18,
          18,
          18,
          18,
          18,
          18,
          18,
          18,
          18,
          17,
          17,
          17,
          17,
          17,
          17,
          17,
          17,
          17,
          17,
          16,
          16,
          16,
          16
         ]
        }
       ],
       "layout": {
        "legend": {
         "bgcolor": "#F5F6F9",
         "font": {
          "color": "#4D5663"
         }
        },
        "paper_bgcolor": "#F5F6F9",
        "plot_bgcolor": "#F5F6F9",
        "template": {
         "data": {
          "bar": [
           {
            "error_x": {
             "color": "#2a3f5f"
            },
            "error_y": {
             "color": "#2a3f5f"
            },
            "marker": {
             "line": {
              "color": "#E5ECF6",
              "width": 0.5
             },
             "pattern": {
              "fillmode": "overlay",
              "size": 10,
              "solidity": 0.2
             }
            },
            "type": "bar"
           }
          ],
          "barpolar": [
           {
            "marker": {
             "line": {
              "color": "#E5ECF6",
              "width": 0.5
             },
             "pattern": {
              "fillmode": "overlay",
              "size": 10,
              "solidity": 0.2
             }
            },
            "type": "barpolar"
           }
          ],
          "carpet": [
           {
            "aaxis": {
             "endlinecolor": "#2a3f5f",
             "gridcolor": "white",
             "linecolor": "white",
             "minorgridcolor": "white",
             "startlinecolor": "#2a3f5f"
            },
            "baxis": {
             "endlinecolor": "#2a3f5f",
             "gridcolor": "white",
             "linecolor": "white",
             "minorgridcolor": "white",
             "startlinecolor": "#2a3f5f"
            },
            "type": "carpet"
           }
          ],
          "choropleth": [
           {
            "colorbar": {
             "outlinewidth": 0,
             "ticks": ""
            },
            "type": "choropleth"
           }
          ],
          "contour": [
           {
            "colorbar": {
             "outlinewidth": 0,
             "ticks": ""
            },
            "colorscale": [
             [
              0,
              "#0d0887"
             ],
             [
              0.1111111111111111,
              "#46039f"
             ],
             [
              0.2222222222222222,
              "#7201a8"
             ],
             [
              0.3333333333333333,
              "#9c179e"
             ],
             [
              0.4444444444444444,
              "#bd3786"
             ],
             [
              0.5555555555555556,
              "#d8576b"
             ],
             [
              0.6666666666666666,
              "#ed7953"
             ],
             [
              0.7777777777777778,
              "#fb9f3a"
             ],
             [
              0.8888888888888888,
              "#fdca26"
             ],
             [
              1,
              "#f0f921"
             ]
            ],
            "type": "contour"
           }
          ],
          "contourcarpet": [
           {
            "colorbar": {
             "outlinewidth": 0,
             "ticks": ""
            },
            "type": "contourcarpet"
           }
          ],
          "heatmap": [
           {
            "colorbar": {
             "outlinewidth": 0,
             "ticks": ""
            },
            "colorscale": [
             [
              0,
              "#0d0887"
             ],
             [
              0.1111111111111111,
              "#46039f"
             ],
             [
              0.2222222222222222,
              "#7201a8"
             ],
             [
              0.3333333333333333,
              "#9c179e"
             ],
             [
              0.4444444444444444,
              "#bd3786"
             ],
             [
              0.5555555555555556,
              "#d8576b"
             ],
             [
              0.6666666666666666,
              "#ed7953"
             ],
             [
              0.7777777777777778,
              "#fb9f3a"
             ],
             [
              0.8888888888888888,
              "#fdca26"
             ],
             [
              1,
              "#f0f921"
             ]
            ],
            "type": "heatmap"
           }
          ],
          "heatmapgl": [
           {
            "colorbar": {
             "outlinewidth": 0,
             "ticks": ""
            },
            "colorscale": [
             [
              0,
              "#0d0887"
             ],
             [
              0.1111111111111111,
              "#46039f"
             ],
             [
              0.2222222222222222,
              "#7201a8"
             ],
             [
              0.3333333333333333,
              "#9c179e"
             ],
             [
              0.4444444444444444,
              "#bd3786"
             ],
             [
              0.5555555555555556,
              "#d8576b"
             ],
             [
              0.6666666666666666,
              "#ed7953"
             ],
             [
              0.7777777777777778,
              "#fb9f3a"
             ],
             [
              0.8888888888888888,
              "#fdca26"
             ],
             [
              1,
              "#f0f921"
             ]
            ],
            "type": "heatmapgl"
           }
          ],
          "histogram": [
           {
            "marker": {
             "pattern": {
              "fillmode": "overlay",
              "size": 10,
              "solidity": 0.2
             }
            },
            "type": "histogram"
           }
          ],
          "histogram2d": [
           {
            "colorbar": {
             "outlinewidth": 0,
             "ticks": ""
            },
            "colorscale": [
             [
              0,
              "#0d0887"
             ],
             [
              0.1111111111111111,
              "#46039f"
             ],
             [
              0.2222222222222222,
              "#7201a8"
             ],
             [
              0.3333333333333333,
              "#9c179e"
             ],
             [
              0.4444444444444444,
              "#bd3786"
             ],
             [
              0.5555555555555556,
              "#d8576b"
             ],
             [
              0.6666666666666666,
              "#ed7953"
             ],
             [
              0.7777777777777778,
              "#fb9f3a"
             ],
             [
              0.8888888888888888,
              "#fdca26"
             ],
             [
              1,
              "#f0f921"
             ]
            ],
            "type": "histogram2d"
           }
          ],
          "histogram2dcontour": [
           {
            "colorbar": {
             "outlinewidth": 0,
             "ticks": ""
            },
            "colorscale": [
             [
              0,
              "#0d0887"
             ],
             [
              0.1111111111111111,
              "#46039f"
             ],
             [
              0.2222222222222222,
              "#7201a8"
             ],
             [
              0.3333333333333333,
              "#9c179e"
             ],
             [
              0.4444444444444444,
              "#bd3786"
             ],
             [
              0.5555555555555556,
              "#d8576b"
             ],
             [
              0.6666666666666666,
              "#ed7953"
             ],
             [
              0.7777777777777778,
              "#fb9f3a"
             ],
             [
              0.8888888888888888,
              "#fdca26"
             ],
             [
              1,
              "#f0f921"
             ]
            ],
            "type": "histogram2dcontour"
           }
          ],
          "mesh3d": [
           {
            "colorbar": {
             "outlinewidth": 0,
             "ticks": ""
            },
            "type": "mesh3d"
           }
          ],
          "parcoords": [
           {
            "line": {
             "colorbar": {
              "outlinewidth": 0,
              "ticks": ""
             }
            },
            "type": "parcoords"
           }
          ],
          "pie": [
           {
            "automargin": true,
            "type": "pie"
           }
          ],
          "scatter": [
           {
            "fillpattern": {
             "fillmode": "overlay",
             "size": 10,
             "solidity": 0.2
            },
            "type": "scatter"
           }
          ],
          "scatter3d": [
           {
            "line": {
             "colorbar": {
              "outlinewidth": 0,
              "ticks": ""
             }
            },
            "marker": {
             "colorbar": {
              "outlinewidth": 0,
              "ticks": ""
             }
            },
            "type": "scatter3d"
           }
          ],
          "scattercarpet": [
           {
            "marker": {
             "colorbar": {
              "outlinewidth": 0,
              "ticks": ""
             }
            },
            "type": "scattercarpet"
           }
          ],
          "scattergeo": [
           {
            "marker": {
             "colorbar": {
              "outlinewidth": 0,
              "ticks": ""
             }
            },
            "type": "scattergeo"
           }
          ],
          "scattergl": [
           {
            "marker": {
             "colorbar": {
              "outlinewidth": 0,
              "ticks": ""
             }
            },
            "type": "scattergl"
           }
          ],
          "scattermapbox": [
           {
            "marker": {
             "colorbar": {
              "outlinewidth": 0,
              "ticks": ""
             }
            },
            "type": "scattermapbox"
           }
          ],
          "scatterpolar": [
           {
            "marker": {
             "colorbar": {
              "outlinewidth": 0,
              "ticks": ""
             }
            },
            "type": "scatterpolar"
           }
          ],
          "scatterpolargl": [
           {
            "marker": {
             "colorbar": {
              "outlinewidth": 0,
              "ticks": ""
             }
            },
            "type": "scatterpolargl"
           }
          ],
          "scatterternary": [
           {
            "marker": {
             "colorbar": {
              "outlinewidth": 0,
              "ticks": ""
             }
            },
            "type": "scatterternary"
           }
          ],
          "surface": [
           {
            "colorbar": {
             "outlinewidth": 0,
             "ticks": ""
            },
            "colorscale": [
             [
              0,
              "#0d0887"
             ],
             [
              0.1111111111111111,
              "#46039f"
             ],
             [
              0.2222222222222222,
              "#7201a8"
             ],
             [
              0.3333333333333333,
              "#9c179e"
             ],
             [
              0.4444444444444444,
              "#bd3786"
             ],
             [
              0.5555555555555556,
              "#d8576b"
             ],
             [
              0.6666666666666666,
              "#ed7953"
             ],
             [
              0.7777777777777778,
              "#fb9f3a"
             ],
             [
              0.8888888888888888,
              "#fdca26"
             ],
             [
              1,
              "#f0f921"
             ]
            ],
            "type": "surface"
           }
          ],
          "table": [
           {
            "cells": {
             "fill": {
              "color": "#EBF0F8"
             },
             "line": {
              "color": "white"
             }
            },
            "header": {
             "fill": {
              "color": "#C8D4E3"
             },
             "line": {
              "color": "white"
             }
            },
            "type": "table"
           }
          ]
         },
         "layout": {
          "annotationdefaults": {
           "arrowcolor": "#2a3f5f",
           "arrowhead": 0,
           "arrowwidth": 1
          },
          "autotypenumbers": "strict",
          "coloraxis": {
           "colorbar": {
            "outlinewidth": 0,
            "ticks": ""
           }
          },
          "colorscale": {
           "diverging": [
            [
             0,
             "#8e0152"
            ],
            [
             0.1,
             "#c51b7d"
            ],
            [
             0.2,
             "#de77ae"
            ],
            [
             0.3,
             "#f1b6da"
            ],
            [
             0.4,
             "#fde0ef"
            ],
            [
             0.5,
             "#f7f7f7"
            ],
            [
             0.6,
             "#e6f5d0"
            ],
            [
             0.7,
             "#b8e186"
            ],
            [
             0.8,
             "#7fbc41"
            ],
            [
             0.9,
             "#4d9221"
            ],
            [
             1,
             "#276419"
            ]
           ],
           "sequential": [
            [
             0,
             "#0d0887"
            ],
            [
             0.1111111111111111,
             "#46039f"
            ],
            [
             0.2222222222222222,
             "#7201a8"
            ],
            [
             0.3333333333333333,
             "#9c179e"
            ],
            [
             0.4444444444444444,
             "#bd3786"
            ],
            [
             0.5555555555555556,
             "#d8576b"
            ],
            [
             0.6666666666666666,
             "#ed7953"
            ],
            [
             0.7777777777777778,
             "#fb9f3a"
            ],
            [
             0.8888888888888888,
             "#fdca26"
            ],
            [
             1,
             "#f0f921"
            ]
           ],
           "sequentialminus": [
            [
             0,
             "#0d0887"
            ],
            [
             0.1111111111111111,
             "#46039f"
            ],
            [
             0.2222222222222222,
             "#7201a8"
            ],
            [
             0.3333333333333333,
             "#9c179e"
            ],
            [
             0.4444444444444444,
             "#bd3786"
            ],
            [
             0.5555555555555556,
             "#d8576b"
            ],
            [
             0.6666666666666666,
             "#ed7953"
            ],
            [
             0.7777777777777778,
             "#fb9f3a"
            ],
            [
             0.8888888888888888,
             "#fdca26"
            ],
            [
             1,
             "#f0f921"
            ]
           ]
          },
          "colorway": [
           "#636efa",
           "#EF553B",
           "#00cc96",
           "#ab63fa",
           "#FFA15A",
           "#19d3f3",
           "#FF6692",
           "#B6E880",
           "#FF97FF",
           "#FECB52"
          ],
          "font": {
           "color": "#2a3f5f"
          },
          "geo": {
           "bgcolor": "white",
           "lakecolor": "white",
           "landcolor": "#E5ECF6",
           "showlakes": true,
           "showland": true,
           "subunitcolor": "white"
          },
          "hoverlabel": {
           "align": "left"
          },
          "hovermode": "closest",
          "mapbox": {
           "style": "light"
          },
          "paper_bgcolor": "white",
          "plot_bgcolor": "#E5ECF6",
          "polar": {
           "angularaxis": {
            "gridcolor": "white",
            "linecolor": "white",
            "ticks": ""
           },
           "bgcolor": "#E5ECF6",
           "radialaxis": {
            "gridcolor": "white",
            "linecolor": "white",
            "ticks": ""
           }
          },
          "scene": {
           "xaxis": {
            "backgroundcolor": "#E5ECF6",
            "gridcolor": "white",
            "gridwidth": 2,
            "linecolor": "white",
            "showbackground": true,
            "ticks": "",
            "zerolinecolor": "white"
           },
           "yaxis": {
            "backgroundcolor": "#E5ECF6",
            "gridcolor": "white",
            "gridwidth": 2,
            "linecolor": "white",
            "showbackground": true,
            "ticks": "",
            "zerolinecolor": "white"
           },
           "zaxis": {
            "backgroundcolor": "#E5ECF6",
            "gridcolor": "white",
            "gridwidth": 2,
            "linecolor": "white",
            "showbackground": true,
            "ticks": "",
            "zerolinecolor": "white"
           }
          },
          "shapedefaults": {
           "line": {
            "color": "#2a3f5f"
           }
          },
          "ternary": {
           "aaxis": {
            "gridcolor": "white",
            "linecolor": "white",
            "ticks": ""
           },
           "baxis": {
            "gridcolor": "white",
            "linecolor": "white",
            "ticks": ""
           },
           "bgcolor": "#E5ECF6",
           "caxis": {
            "gridcolor": "white",
            "linecolor": "white",
            "ticks": ""
           }
          },
          "title": {
           "x": 0.05
          },
          "xaxis": {
           "automargin": true,
           "gridcolor": "white",
           "linecolor": "white",
           "ticks": "",
           "title": {
            "standoff": 15
           },
           "zerolinecolor": "white",
           "zerolinewidth": 2
          },
          "yaxis": {
           "automargin": true,
           "gridcolor": "white",
           "linecolor": "white",
           "ticks": "",
           "title": {
            "standoff": 15
           },
           "zerolinecolor": "white",
           "zerolinewidth": 2
          }
         }
        },
        "title": {
         "font": {
          "color": "#4D5663"
         },
         "text": "Top 100 bigrams after removing stop words"
        },
        "xaxis": {
         "gridcolor": "#E1E5ED",
         "linecolor": "black",
         "showgrid": true,
         "tickfont": {
          "color": "#4D5663"
         },
         "title": {
          "font": {
           "color": "#4D5663"
          },
          "text": ""
         },
         "zerolinecolor": "#E1E5ED"
        },
        "yaxis": {
         "gridcolor": "#E1E5ED",
         "linecolor": "black",
         "showgrid": true,
         "tickfont": {
          "color": "#4D5663"
         },
         "title": {
          "font": {
           "color": "#4D5663"
          },
          "text": "Count"
         },
         "zerolinecolor": "#E1E5ED"
        }
       }
      },
      "text/html": [
       "<div>                            <div id=\"493c8561-7f96-4bac-94a9-6a940807278c\" class=\"plotly-graph-div\" style=\"height:525px; width:100%;\"></div>            <script type=\"text/javascript\">                require([\"plotly\"], function(Plotly) {                    window.PLOTLYENV=window.PLOTLYENV || {};\n",
       "                    window.PLOTLYENV.BASE_URL='https://plot.ly';                                    if (document.getElementById(\"493c8561-7f96-4bac-94a9-6a940807278c\")) {                    Plotly.newPlot(                        \"493c8561-7f96-4bac-94a9-6a940807278c\",                        [{\"marker\":{\"color\":\"rgba(255, 153, 51, 0.6)\",\"line\":{\"color\":\"rgba(255, 153, 51, 1.0)\",\"width\":1}},\"name\":\"count\",\"orientation\":\"v\",\"text\":\"\",\"x\":[\"work hard\",\"pay fee\",\"hard work\",\"increase stock\",\"start small\",\"group member\",\"support family\",\"husband work\",\"start ago\",\"provide family\",\"programs_information_microfinance_ecuador services_please_visit_href\",\"live husband\",\"member group\",\"mifex_offers_client microinsurance_access_training_educational\",\"rice farmer\",\"risk_willing_accept_additional risk_making\",\"may_represent_higher_default risk_willing_accept_additional\",\"kenya_security_situation_communitie businesses_lenders_entrepreneur_aware\",\"person group\",\"businesses_lenders_entrepreneur_aware may_represent_higher_default\",\"microinsurance_access_training_educational programs_information_microfinance_ecuador\",\"plan use\",\"run small\",\"well life\",\"high demand\",\"provide well\",\"capital first_months_r\",\"customer need\",\"group promoting_savings_often_forgotten\",\"marry primary\",\"operate small\",\"order farm\",\"pay back\",\"land order\",\"intend use\",\"enough money\",\"first_months_r debt_must_paid_seventh\",\"beauty product\",\"help husband\",\"small store\",\"mifex_rural_finance program\",\"therefore request\",\"want expand\",\"group cannot_fully_repay_borrower\",\"small farmers_produce_sack\",\"boleo_spanish_hand_sowe rice\",\"pay capital\",\"request budget\",\"area small\",\"rice grow\",\"debt_must_paid_seventh final_month\",\"husband help\",\"crop boleo_spanish_hand_sowe\",\"farmers_produce_sack land\",\"grow farmers_rent_machinery\",\"add stock\",\"local community\",\"save money\",\"quality life\",\"large quantity\",\"local market\",\"family need\",\"promoting_savings_often_forgotten micro_finance_program\",\"farmers_rent_machinery helps_gather_production\",\"rural area\",\"attract new\",\"micro_finance_program mifex_believes_imperative\",\"sector rice\",\"micro entrepreneur\",\"increase revenue\",\"communal_bank_others_guarantor person\",\"farmer association_works_cooperatively\",\"meet customer\",\"need order\",\"store home\",\"use clothe\",\"sale increase\",\"rural sector\",\"capital_reserved_future_investment team_evaluating_potential_sector\",\"start help\",\"rice production\",\"program rice\",\"family member\",\"improve family\",\"repay time\",\"increase profit\",\"use money\",\"familys need\",\"mifex_believes_imperative capital_reserved_future_investment\",\"boy girl\",\"loans_prepare_land part\",\"good education\",\"improve quality\",\"part communal_bank_others_guarantor\",\"increase sale\",\"request second\",\"small shop\",\"use clothing\",\"meet need\",\"continue grow\"],\"y\":[70,66,64,54,48,47,46,46,40,39,38,38,38,34,33,32,32,32,32,32,32,29,29,28,28,27,25,25,25,25,25,25,25,25,25,24,24,24,24,24,24,23,23,23,22,22,22,22,22,22,22,22,22,22,22,21,21,21,21,20,20,20,19,19,19,19,19,19,19,19,18,18,18,18,18,18,18,18,18,18,18,18,18,18,18,18,17,17,17,17,17,17,17,17,17,17,16,16,16,16],\"type\":\"bar\"}],                        {\"legend\":{\"bgcolor\":\"#F5F6F9\",\"font\":{\"color\":\"#4D5663\"}},\"paper_bgcolor\":\"#F5F6F9\",\"plot_bgcolor\":\"#F5F6F9\",\"template\":{\"data\":{\"barpolar\":[{\"marker\":{\"line\":{\"color\":\"#E5ECF6\",\"width\":0.5},\"pattern\":{\"fillmode\":\"overlay\",\"size\":10,\"solidity\":0.2}},\"type\":\"barpolar\"}],\"bar\":[{\"error_x\":{\"color\":\"#2a3f5f\"},\"error_y\":{\"color\":\"#2a3f5f\"},\"marker\":{\"line\":{\"color\":\"#E5ECF6\",\"width\":0.5},\"pattern\":{\"fillmode\":\"overlay\",\"size\":10,\"solidity\":0.2}},\"type\":\"bar\"}],\"carpet\":[{\"aaxis\":{\"endlinecolor\":\"#2a3f5f\",\"gridcolor\":\"white\",\"linecolor\":\"white\",\"minorgridcolor\":\"white\",\"startlinecolor\":\"#2a3f5f\"},\"baxis\":{\"endlinecolor\":\"#2a3f5f\",\"gridcolor\":\"white\",\"linecolor\":\"white\",\"minorgridcolor\":\"white\",\"startlinecolor\":\"#2a3f5f\"},\"type\":\"carpet\"}],\"choropleth\":[{\"colorbar\":{\"outlinewidth\":0,\"ticks\":\"\"},\"type\":\"choropleth\"}],\"contourcarpet\":[{\"colorbar\":{\"outlinewidth\":0,\"ticks\":\"\"},\"type\":\"contourcarpet\"}],\"contour\":[{\"colorbar\":{\"outlinewidth\":0,\"ticks\":\"\"},\"colorscale\":[[0.0,\"#0d0887\"],[0.1111111111111111,\"#46039f\"],[0.2222222222222222,\"#7201a8\"],[0.3333333333333333,\"#9c179e\"],[0.4444444444444444,\"#bd3786\"],[0.5555555555555556,\"#d8576b\"],[0.6666666666666666,\"#ed7953\"],[0.7777777777777778,\"#fb9f3a\"],[0.8888888888888888,\"#fdca26\"],[1.0,\"#f0f921\"]],\"type\":\"contour\"}],\"heatmapgl\":[{\"colorbar\":{\"outlinewidth\":0,\"ticks\":\"\"},\"colorscale\":[[0.0,\"#0d0887\"],[0.1111111111111111,\"#46039f\"],[0.2222222222222222,\"#7201a8\"],[0.3333333333333333,\"#9c179e\"],[0.4444444444444444,\"#bd3786\"],[0.5555555555555556,\"#d8576b\"],[0.6666666666666666,\"#ed7953\"],[0.7777777777777778,\"#fb9f3a\"],[0.8888888888888888,\"#fdca26\"],[1.0,\"#f0f921\"]],\"type\":\"heatmapgl\"}],\"heatmap\":[{\"colorbar\":{\"outlinewidth\":0,\"ticks\":\"\"},\"colorscale\":[[0.0,\"#0d0887\"],[0.1111111111111111,\"#46039f\"],[0.2222222222222222,\"#7201a8\"],[0.3333333333333333,\"#9c179e\"],[0.4444444444444444,\"#bd3786\"],[0.5555555555555556,\"#d8576b\"],[0.6666666666666666,\"#ed7953\"],[0.7777777777777778,\"#fb9f3a\"],[0.8888888888888888,\"#fdca26\"],[1.0,\"#f0f921\"]],\"type\":\"heatmap\"}],\"histogram2dcontour\":[{\"colorbar\":{\"outlinewidth\":0,\"ticks\":\"\"},\"colorscale\":[[0.0,\"#0d0887\"],[0.1111111111111111,\"#46039f\"],[0.2222222222222222,\"#7201a8\"],[0.3333333333333333,\"#9c179e\"],[0.4444444444444444,\"#bd3786\"],[0.5555555555555556,\"#d8576b\"],[0.6666666666666666,\"#ed7953\"],[0.7777777777777778,\"#fb9f3a\"],[0.8888888888888888,\"#fdca26\"],[1.0,\"#f0f921\"]],\"type\":\"histogram2dcontour\"}],\"histogram2d\":[{\"colorbar\":{\"outlinewidth\":0,\"ticks\":\"\"},\"colorscale\":[[0.0,\"#0d0887\"],[0.1111111111111111,\"#46039f\"],[0.2222222222222222,\"#7201a8\"],[0.3333333333333333,\"#9c179e\"],[0.4444444444444444,\"#bd3786\"],[0.5555555555555556,\"#d8576b\"],[0.6666666666666666,\"#ed7953\"],[0.7777777777777778,\"#fb9f3a\"],[0.8888888888888888,\"#fdca26\"],[1.0,\"#f0f921\"]],\"type\":\"histogram2d\"}],\"histogram\":[{\"marker\":{\"pattern\":{\"fillmode\":\"overlay\",\"size\":10,\"solidity\":0.2}},\"type\":\"histogram\"}],\"mesh3d\":[{\"colorbar\":{\"outlinewidth\":0,\"ticks\":\"\"},\"type\":\"mesh3d\"}],\"parcoords\":[{\"line\":{\"colorbar\":{\"outlinewidth\":0,\"ticks\":\"\"}},\"type\":\"parcoords\"}],\"pie\":[{\"automargin\":true,\"type\":\"pie\"}],\"scatter3d\":[{\"line\":{\"colorbar\":{\"outlinewidth\":0,\"ticks\":\"\"}},\"marker\":{\"colorbar\":{\"outlinewidth\":0,\"ticks\":\"\"}},\"type\":\"scatter3d\"}],\"scattercarpet\":[{\"marker\":{\"colorbar\":{\"outlinewidth\":0,\"ticks\":\"\"}},\"type\":\"scattercarpet\"}],\"scattergeo\":[{\"marker\":{\"colorbar\":{\"outlinewidth\":0,\"ticks\":\"\"}},\"type\":\"scattergeo\"}],\"scattergl\":[{\"marker\":{\"colorbar\":{\"outlinewidth\":0,\"ticks\":\"\"}},\"type\":\"scattergl\"}],\"scattermapbox\":[{\"marker\":{\"colorbar\":{\"outlinewidth\":0,\"ticks\":\"\"}},\"type\":\"scattermapbox\"}],\"scatterpolargl\":[{\"marker\":{\"colorbar\":{\"outlinewidth\":0,\"ticks\":\"\"}},\"type\":\"scatterpolargl\"}],\"scatterpolar\":[{\"marker\":{\"colorbar\":{\"outlinewidth\":0,\"ticks\":\"\"}},\"type\":\"scatterpolar\"}],\"scatter\":[{\"fillpattern\":{\"fillmode\":\"overlay\",\"size\":10,\"solidity\":0.2},\"type\":\"scatter\"}],\"scatterternary\":[{\"marker\":{\"colorbar\":{\"outlinewidth\":0,\"ticks\":\"\"}},\"type\":\"scatterternary\"}],\"surface\":[{\"colorbar\":{\"outlinewidth\":0,\"ticks\":\"\"},\"colorscale\":[[0.0,\"#0d0887\"],[0.1111111111111111,\"#46039f\"],[0.2222222222222222,\"#7201a8\"],[0.3333333333333333,\"#9c179e\"],[0.4444444444444444,\"#bd3786\"],[0.5555555555555556,\"#d8576b\"],[0.6666666666666666,\"#ed7953\"],[0.7777777777777778,\"#fb9f3a\"],[0.8888888888888888,\"#fdca26\"],[1.0,\"#f0f921\"]],\"type\":\"surface\"}],\"table\":[{\"cells\":{\"fill\":{\"color\":\"#EBF0F8\"},\"line\":{\"color\":\"white\"}},\"header\":{\"fill\":{\"color\":\"#C8D4E3\"},\"line\":{\"color\":\"white\"}},\"type\":\"table\"}]},\"layout\":{\"annotationdefaults\":{\"arrowcolor\":\"#2a3f5f\",\"arrowhead\":0,\"arrowwidth\":1},\"autotypenumbers\":\"strict\",\"coloraxis\":{\"colorbar\":{\"outlinewidth\":0,\"ticks\":\"\"}},\"colorscale\":{\"diverging\":[[0,\"#8e0152\"],[0.1,\"#c51b7d\"],[0.2,\"#de77ae\"],[0.3,\"#f1b6da\"],[0.4,\"#fde0ef\"],[0.5,\"#f7f7f7\"],[0.6,\"#e6f5d0\"],[0.7,\"#b8e186\"],[0.8,\"#7fbc41\"],[0.9,\"#4d9221\"],[1,\"#276419\"]],\"sequential\":[[0.0,\"#0d0887\"],[0.1111111111111111,\"#46039f\"],[0.2222222222222222,\"#7201a8\"],[0.3333333333333333,\"#9c179e\"],[0.4444444444444444,\"#bd3786\"],[0.5555555555555556,\"#d8576b\"],[0.6666666666666666,\"#ed7953\"],[0.7777777777777778,\"#fb9f3a\"],[0.8888888888888888,\"#fdca26\"],[1.0,\"#f0f921\"]],\"sequentialminus\":[[0.0,\"#0d0887\"],[0.1111111111111111,\"#46039f\"],[0.2222222222222222,\"#7201a8\"],[0.3333333333333333,\"#9c179e\"],[0.4444444444444444,\"#bd3786\"],[0.5555555555555556,\"#d8576b\"],[0.6666666666666666,\"#ed7953\"],[0.7777777777777778,\"#fb9f3a\"],[0.8888888888888888,\"#fdca26\"],[1.0,\"#f0f921\"]]},\"colorway\":[\"#636efa\",\"#EF553B\",\"#00cc96\",\"#ab63fa\",\"#FFA15A\",\"#19d3f3\",\"#FF6692\",\"#B6E880\",\"#FF97FF\",\"#FECB52\"],\"font\":{\"color\":\"#2a3f5f\"},\"geo\":{\"bgcolor\":\"white\",\"lakecolor\":\"white\",\"landcolor\":\"#E5ECF6\",\"showlakes\":true,\"showland\":true,\"subunitcolor\":\"white\"},\"hoverlabel\":{\"align\":\"left\"},\"hovermode\":\"closest\",\"mapbox\":{\"style\":\"light\"},\"paper_bgcolor\":\"white\",\"plot_bgcolor\":\"#E5ECF6\",\"polar\":{\"angularaxis\":{\"gridcolor\":\"white\",\"linecolor\":\"white\",\"ticks\":\"\"},\"bgcolor\":\"#E5ECF6\",\"radialaxis\":{\"gridcolor\":\"white\",\"linecolor\":\"white\",\"ticks\":\"\"}},\"scene\":{\"xaxis\":{\"backgroundcolor\":\"#E5ECF6\",\"gridcolor\":\"white\",\"gridwidth\":2,\"linecolor\":\"white\",\"showbackground\":true,\"ticks\":\"\",\"zerolinecolor\":\"white\"},\"yaxis\":{\"backgroundcolor\":\"#E5ECF6\",\"gridcolor\":\"white\",\"gridwidth\":2,\"linecolor\":\"white\",\"showbackground\":true,\"ticks\":\"\",\"zerolinecolor\":\"white\"},\"zaxis\":{\"backgroundcolor\":\"#E5ECF6\",\"gridcolor\":\"white\",\"gridwidth\":2,\"linecolor\":\"white\",\"showbackground\":true,\"ticks\":\"\",\"zerolinecolor\":\"white\"}},\"shapedefaults\":{\"line\":{\"color\":\"#2a3f5f\"}},\"ternary\":{\"aaxis\":{\"gridcolor\":\"white\",\"linecolor\":\"white\",\"ticks\":\"\"},\"baxis\":{\"gridcolor\":\"white\",\"linecolor\":\"white\",\"ticks\":\"\"},\"bgcolor\":\"#E5ECF6\",\"caxis\":{\"gridcolor\":\"white\",\"linecolor\":\"white\",\"ticks\":\"\"}},\"title\":{\"x\":0.05},\"xaxis\":{\"automargin\":true,\"gridcolor\":\"white\",\"linecolor\":\"white\",\"ticks\":\"\",\"title\":{\"standoff\":15},\"zerolinecolor\":\"white\",\"zerolinewidth\":2},\"yaxis\":{\"automargin\":true,\"gridcolor\":\"white\",\"linecolor\":\"white\",\"ticks\":\"\",\"title\":{\"standoff\":15},\"zerolinecolor\":\"white\",\"zerolinewidth\":2}}},\"title\":{\"font\":{\"color\":\"#4D5663\"},\"text\":\"Top 100 bigrams after removing stop words\"},\"xaxis\":{\"gridcolor\":\"#E1E5ED\",\"linecolor\":\"black\",\"showgrid\":true,\"tickfont\":{\"color\":\"#4D5663\"},\"title\":{\"font\":{\"color\":\"#4D5663\"},\"text\":\"\"},\"zerolinecolor\":\"#E1E5ED\"},\"yaxis\":{\"gridcolor\":\"#E1E5ED\",\"linecolor\":\"black\",\"showgrid\":true,\"tickfont\":{\"color\":\"#4D5663\"},\"title\":{\"font\":{\"color\":\"#4D5663\"},\"text\":\"Count\"},\"zerolinecolor\":\"#E1E5ED\"}},                        {\"showLink\": true, \"linkText\": \"Export to plot.ly\", \"plotlyServerURL\": \"https://plot.ly\", \"responsive\": true}                    ).then(function(){\n",
       "                            \n",
       "var gd = document.getElementById('493c8561-7f96-4bac-94a9-6a940807278c');\n",
       "var x = new MutationObserver(function (mutations, observer) {{\n",
       "        var display = window.getComputedStyle(gd).display;\n",
       "        if (!display || display === 'none') {{\n",
       "            console.log([gd, 'removed!']);\n",
       "            Plotly.purge(gd);\n",
       "            observer.disconnect();\n",
       "        }}\n",
       "}});\n",
       "\n",
       "// Listen for the removal of the full notebook cells\n",
       "var notebookContainer = gd.closest('#notebook-container');\n",
       "if (notebookContainer) {{\n",
       "    x.observe(notebookContainer, {childList: true});\n",
       "}}\n",
       "\n",
       "// Listen for the clearing of the current output cell\n",
       "var outputEl = gd.closest('.output');\n",
       "if (outputEl) {{\n",
       "    x.observe(outputEl, {childList: true});\n",
       "}}\n",
       "\n",
       "                        })                };                });            </script>        </div>"
      ]
     },
     "metadata": {},
     "output_type": "display_data"
    }
   ],
   "source": [
    "plot_model(plot = 'bigram')"
   ]
  },
  {
   "cell_type": "code",
   "execution_count": 24,
   "id": "2fb4fa3d",
   "metadata": {},
   "outputs": [
    {
     "data": {
      "text/html": [
       "        <script type=\"text/javascript\">\n",
       "        window.PlotlyConfig = {MathJaxConfig: 'local'};\n",
       "        if (window.MathJax) {MathJax.Hub.Config({SVG: {font: \"STIX-Web\"}});}\n",
       "        if (typeof require !== 'undefined') {\n",
       "        require.undef(\"plotly\");\n",
       "        requirejs.config({\n",
       "            paths: {\n",
       "                'plotly': ['https://cdn.plot.ly/plotly-2.11.1.min']\n",
       "            }\n",
       "        });\n",
       "        require(['plotly'], function(Plotly) {\n",
       "            window._Plotly = Plotly;\n",
       "        });\n",
       "        }\n",
       "        </script>\n",
       "        "
      ]
     },
     "metadata": {},
     "output_type": "display_data"
    },
    {
     "data": {
      "application/vnd.plotly.v1+json": {
       "config": {
        "linkText": "Export to plot.ly",
        "plotlyServerURL": "https://plot.ly",
        "showLink": true
       },
       "data": [
        {
         "marker": {
          "color": "rgba(255, 153, 51, 0.6)",
          "line": {
           "color": "rgba(255, 153, 51, 1.0)",
           "width": 1
          }
         },
         "name": "count",
         "orientation": "v",
         "text": "",
         "type": "bar",
         "x": [
          "actividade",
          "ante",
          "atend",
          "cliente",
          "colindante",
          "era",
          "haca",
          "mucho",
          "pue",
          "sin",
          "vive"
         ],
         "y": [
          1,
          1,
          1,
          1,
          1,
          1,
          1,
          1,
          1,
          1,
          1
         ]
        }
       ],
       "layout": {
        "legend": {
         "bgcolor": "#F5F6F9",
         "font": {
          "color": "#4D5663"
         }
        },
        "paper_bgcolor": "#F5F6F9",
        "plot_bgcolor": "#F5F6F9",
        "template": {
         "data": {
          "bar": [
           {
            "error_x": {
             "color": "#2a3f5f"
            },
            "error_y": {
             "color": "#2a3f5f"
            },
            "marker": {
             "line": {
              "color": "#E5ECF6",
              "width": 0.5
             },
             "pattern": {
              "fillmode": "overlay",
              "size": 10,
              "solidity": 0.2
             }
            },
            "type": "bar"
           }
          ],
          "barpolar": [
           {
            "marker": {
             "line": {
              "color": "#E5ECF6",
              "width": 0.5
             },
             "pattern": {
              "fillmode": "overlay",
              "size": 10,
              "solidity": 0.2
             }
            },
            "type": "barpolar"
           }
          ],
          "carpet": [
           {
            "aaxis": {
             "endlinecolor": "#2a3f5f",
             "gridcolor": "white",
             "linecolor": "white",
             "minorgridcolor": "white",
             "startlinecolor": "#2a3f5f"
            },
            "baxis": {
             "endlinecolor": "#2a3f5f",
             "gridcolor": "white",
             "linecolor": "white",
             "minorgridcolor": "white",
             "startlinecolor": "#2a3f5f"
            },
            "type": "carpet"
           }
          ],
          "choropleth": [
           {
            "colorbar": {
             "outlinewidth": 0,
             "ticks": ""
            },
            "type": "choropleth"
           }
          ],
          "contour": [
           {
            "colorbar": {
             "outlinewidth": 0,
             "ticks": ""
            },
            "colorscale": [
             [
              0,
              "#0d0887"
             ],
             [
              0.1111111111111111,
              "#46039f"
             ],
             [
              0.2222222222222222,
              "#7201a8"
             ],
             [
              0.3333333333333333,
              "#9c179e"
             ],
             [
              0.4444444444444444,
              "#bd3786"
             ],
             [
              0.5555555555555556,
              "#d8576b"
             ],
             [
              0.6666666666666666,
              "#ed7953"
             ],
             [
              0.7777777777777778,
              "#fb9f3a"
             ],
             [
              0.8888888888888888,
              "#fdca26"
             ],
             [
              1,
              "#f0f921"
             ]
            ],
            "type": "contour"
           }
          ],
          "contourcarpet": [
           {
            "colorbar": {
             "outlinewidth": 0,
             "ticks": ""
            },
            "type": "contourcarpet"
           }
          ],
          "heatmap": [
           {
            "colorbar": {
             "outlinewidth": 0,
             "ticks": ""
            },
            "colorscale": [
             [
              0,
              "#0d0887"
             ],
             [
              0.1111111111111111,
              "#46039f"
             ],
             [
              0.2222222222222222,
              "#7201a8"
             ],
             [
              0.3333333333333333,
              "#9c179e"
             ],
             [
              0.4444444444444444,
              "#bd3786"
             ],
             [
              0.5555555555555556,
              "#d8576b"
             ],
             [
              0.6666666666666666,
              "#ed7953"
             ],
             [
              0.7777777777777778,
              "#fb9f3a"
             ],
             [
              0.8888888888888888,
              "#fdca26"
             ],
             [
              1,
              "#f0f921"
             ]
            ],
            "type": "heatmap"
           }
          ],
          "heatmapgl": [
           {
            "colorbar": {
             "outlinewidth": 0,
             "ticks": ""
            },
            "colorscale": [
             [
              0,
              "#0d0887"
             ],
             [
              0.1111111111111111,
              "#46039f"
             ],
             [
              0.2222222222222222,
              "#7201a8"
             ],
             [
              0.3333333333333333,
              "#9c179e"
             ],
             [
              0.4444444444444444,
              "#bd3786"
             ],
             [
              0.5555555555555556,
              "#d8576b"
             ],
             [
              0.6666666666666666,
              "#ed7953"
             ],
             [
              0.7777777777777778,
              "#fb9f3a"
             ],
             [
              0.8888888888888888,
              "#fdca26"
             ],
             [
              1,
              "#f0f921"
             ]
            ],
            "type": "heatmapgl"
           }
          ],
          "histogram": [
           {
            "marker": {
             "pattern": {
              "fillmode": "overlay",
              "size": 10,
              "solidity": 0.2
             }
            },
            "type": "histogram"
           }
          ],
          "histogram2d": [
           {
            "colorbar": {
             "outlinewidth": 0,
             "ticks": ""
            },
            "colorscale": [
             [
              0,
              "#0d0887"
             ],
             [
              0.1111111111111111,
              "#46039f"
             ],
             [
              0.2222222222222222,
              "#7201a8"
             ],
             [
              0.3333333333333333,
              "#9c179e"
             ],
             [
              0.4444444444444444,
              "#bd3786"
             ],
             [
              0.5555555555555556,
              "#d8576b"
             ],
             [
              0.6666666666666666,
              "#ed7953"
             ],
             [
              0.7777777777777778,
              "#fb9f3a"
             ],
             [
              0.8888888888888888,
              "#fdca26"
             ],
             [
              1,
              "#f0f921"
             ]
            ],
            "type": "histogram2d"
           }
          ],
          "histogram2dcontour": [
           {
            "colorbar": {
             "outlinewidth": 0,
             "ticks": ""
            },
            "colorscale": [
             [
              0,
              "#0d0887"
             ],
             [
              0.1111111111111111,
              "#46039f"
             ],
             [
              0.2222222222222222,
              "#7201a8"
             ],
             [
              0.3333333333333333,
              "#9c179e"
             ],
             [
              0.4444444444444444,
              "#bd3786"
             ],
             [
              0.5555555555555556,
              "#d8576b"
             ],
             [
              0.6666666666666666,
              "#ed7953"
             ],
             [
              0.7777777777777778,
              "#fb9f3a"
             ],
             [
              0.8888888888888888,
              "#fdca26"
             ],
             [
              1,
              "#f0f921"
             ]
            ],
            "type": "histogram2dcontour"
           }
          ],
          "mesh3d": [
           {
            "colorbar": {
             "outlinewidth": 0,
             "ticks": ""
            },
            "type": "mesh3d"
           }
          ],
          "parcoords": [
           {
            "line": {
             "colorbar": {
              "outlinewidth": 0,
              "ticks": ""
             }
            },
            "type": "parcoords"
           }
          ],
          "pie": [
           {
            "automargin": true,
            "type": "pie"
           }
          ],
          "scatter": [
           {
            "fillpattern": {
             "fillmode": "overlay",
             "size": 10,
             "solidity": 0.2
            },
            "type": "scatter"
           }
          ],
          "scatter3d": [
           {
            "line": {
             "colorbar": {
              "outlinewidth": 0,
              "ticks": ""
             }
            },
            "marker": {
             "colorbar": {
              "outlinewidth": 0,
              "ticks": ""
             }
            },
            "type": "scatter3d"
           }
          ],
          "scattercarpet": [
           {
            "marker": {
             "colorbar": {
              "outlinewidth": 0,
              "ticks": ""
             }
            },
            "type": "scattercarpet"
           }
          ],
          "scattergeo": [
           {
            "marker": {
             "colorbar": {
              "outlinewidth": 0,
              "ticks": ""
             }
            },
            "type": "scattergeo"
           }
          ],
          "scattergl": [
           {
            "marker": {
             "colorbar": {
              "outlinewidth": 0,
              "ticks": ""
             }
            },
            "type": "scattergl"
           }
          ],
          "scattermapbox": [
           {
            "marker": {
             "colorbar": {
              "outlinewidth": 0,
              "ticks": ""
             }
            },
            "type": "scattermapbox"
           }
          ],
          "scatterpolar": [
           {
            "marker": {
             "colorbar": {
              "outlinewidth": 0,
              "ticks": ""
             }
            },
            "type": "scatterpolar"
           }
          ],
          "scatterpolargl": [
           {
            "marker": {
             "colorbar": {
              "outlinewidth": 0,
              "ticks": ""
             }
            },
            "type": "scatterpolargl"
           }
          ],
          "scatterternary": [
           {
            "marker": {
             "colorbar": {
              "outlinewidth": 0,
              "ticks": ""
             }
            },
            "type": "scatterternary"
           }
          ],
          "surface": [
           {
            "colorbar": {
             "outlinewidth": 0,
             "ticks": ""
            },
            "colorscale": [
             [
              0,
              "#0d0887"
             ],
             [
              0.1111111111111111,
              "#46039f"
             ],
             [
              0.2222222222222222,
              "#7201a8"
             ],
             [
              0.3333333333333333,
              "#9c179e"
             ],
             [
              0.4444444444444444,
              "#bd3786"
             ],
             [
              0.5555555555555556,
              "#d8576b"
             ],
             [
              0.6666666666666666,
              "#ed7953"
             ],
             [
              0.7777777777777778,
              "#fb9f3a"
             ],
             [
              0.8888888888888888,
              "#fdca26"
             ],
             [
              1,
              "#f0f921"
             ]
            ],
            "type": "surface"
           }
          ],
          "table": [
           {
            "cells": {
             "fill": {
              "color": "#EBF0F8"
             },
             "line": {
              "color": "white"
             }
            },
            "header": {
             "fill": {
              "color": "#C8D4E3"
             },
             "line": {
              "color": "white"
             }
            },
            "type": "table"
           }
          ]
         },
         "layout": {
          "annotationdefaults": {
           "arrowcolor": "#2a3f5f",
           "arrowhead": 0,
           "arrowwidth": 1
          },
          "autotypenumbers": "strict",
          "coloraxis": {
           "colorbar": {
            "outlinewidth": 0,
            "ticks": ""
           }
          },
          "colorscale": {
           "diverging": [
            [
             0,
             "#8e0152"
            ],
            [
             0.1,
             "#c51b7d"
            ],
            [
             0.2,
             "#de77ae"
            ],
            [
             0.3,
             "#f1b6da"
            ],
            [
             0.4,
             "#fde0ef"
            ],
            [
             0.5,
             "#f7f7f7"
            ],
            [
             0.6,
             "#e6f5d0"
            ],
            [
             0.7,
             "#b8e186"
            ],
            [
             0.8,
             "#7fbc41"
            ],
            [
             0.9,
             "#4d9221"
            ],
            [
             1,
             "#276419"
            ]
           ],
           "sequential": [
            [
             0,
             "#0d0887"
            ],
            [
             0.1111111111111111,
             "#46039f"
            ],
            [
             0.2222222222222222,
             "#7201a8"
            ],
            [
             0.3333333333333333,
             "#9c179e"
            ],
            [
             0.4444444444444444,
             "#bd3786"
            ],
            [
             0.5555555555555556,
             "#d8576b"
            ],
            [
             0.6666666666666666,
             "#ed7953"
            ],
            [
             0.7777777777777778,
             "#fb9f3a"
            ],
            [
             0.8888888888888888,
             "#fdca26"
            ],
            [
             1,
             "#f0f921"
            ]
           ],
           "sequentialminus": [
            [
             0,
             "#0d0887"
            ],
            [
             0.1111111111111111,
             "#46039f"
            ],
            [
             0.2222222222222222,
             "#7201a8"
            ],
            [
             0.3333333333333333,
             "#9c179e"
            ],
            [
             0.4444444444444444,
             "#bd3786"
            ],
            [
             0.5555555555555556,
             "#d8576b"
            ],
            [
             0.6666666666666666,
             "#ed7953"
            ],
            [
             0.7777777777777778,
             "#fb9f3a"
            ],
            [
             0.8888888888888888,
             "#fdca26"
            ],
            [
             1,
             "#f0f921"
            ]
           ]
          },
          "colorway": [
           "#636efa",
           "#EF553B",
           "#00cc96",
           "#ab63fa",
           "#FFA15A",
           "#19d3f3",
           "#FF6692",
           "#B6E880",
           "#FF97FF",
           "#FECB52"
          ],
          "font": {
           "color": "#2a3f5f"
          },
          "geo": {
           "bgcolor": "white",
           "lakecolor": "white",
           "landcolor": "#E5ECF6",
           "showlakes": true,
           "showland": true,
           "subunitcolor": "white"
          },
          "hoverlabel": {
           "align": "left"
          },
          "hovermode": "closest",
          "mapbox": {
           "style": "light"
          },
          "paper_bgcolor": "white",
          "plot_bgcolor": "#E5ECF6",
          "polar": {
           "angularaxis": {
            "gridcolor": "white",
            "linecolor": "white",
            "ticks": ""
           },
           "bgcolor": "#E5ECF6",
           "radialaxis": {
            "gridcolor": "white",
            "linecolor": "white",
            "ticks": ""
           }
          },
          "scene": {
           "xaxis": {
            "backgroundcolor": "#E5ECF6",
            "gridcolor": "white",
            "gridwidth": 2,
            "linecolor": "white",
            "showbackground": true,
            "ticks": "",
            "zerolinecolor": "white"
           },
           "yaxis": {
            "backgroundcolor": "#E5ECF6",
            "gridcolor": "white",
            "gridwidth": 2,
            "linecolor": "white",
            "showbackground": true,
            "ticks": "",
            "zerolinecolor": "white"
           },
           "zaxis": {
            "backgroundcolor": "#E5ECF6",
            "gridcolor": "white",
            "gridwidth": 2,
            "linecolor": "white",
            "showbackground": true,
            "ticks": "",
            "zerolinecolor": "white"
           }
          },
          "shapedefaults": {
           "line": {
            "color": "#2a3f5f"
           }
          },
          "ternary": {
           "aaxis": {
            "gridcolor": "white",
            "linecolor": "white",
            "ticks": ""
           },
           "baxis": {
            "gridcolor": "white",
            "linecolor": "white",
            "ticks": ""
           },
           "bgcolor": "#E5ECF6",
           "caxis": {
            "gridcolor": "white",
            "linecolor": "white",
            "ticks": ""
           }
          },
          "title": {
           "x": 0.05
          },
          "xaxis": {
           "automargin": true,
           "gridcolor": "white",
           "linecolor": "white",
           "ticks": "",
           "title": {
            "standoff": 15
           },
           "zerolinecolor": "white",
           "zerolinewidth": 2
          },
          "yaxis": {
           "automargin": true,
           "gridcolor": "white",
           "linecolor": "white",
           "ticks": "",
           "title": {
            "standoff": 15
           },
           "zerolinecolor": "white",
           "zerolinewidth": 2
          }
         }
        },
        "title": {
         "font": {
          "color": "#4D5663"
         },
         "text": "Topic 1: Top 100 words after removing stop words"
        },
        "xaxis": {
         "gridcolor": "#E1E5ED",
         "linecolor": "black",
         "showgrid": true,
         "tickfont": {
          "color": "#4D5663"
         },
         "title": {
          "font": {
           "color": "#4D5663"
          },
          "text": ""
         },
         "zerolinecolor": "#E1E5ED"
        },
        "yaxis": {
         "gridcolor": "#E1E5ED",
         "linecolor": "black",
         "showgrid": true,
         "tickfont": {
          "color": "#4D5663"
         },
         "title": {
          "font": {
           "color": "#4D5663"
          },
          "text": "Count"
         },
         "zerolinecolor": "#E1E5ED"
        }
       }
      },
      "text/html": [
       "<div>                            <div id=\"4bf6dd20-8a27-4f86-976b-9a6e824704b4\" class=\"plotly-graph-div\" style=\"height:525px; width:100%;\"></div>            <script type=\"text/javascript\">                require([\"plotly\"], function(Plotly) {                    window.PLOTLYENV=window.PLOTLYENV || {};\n",
       "                    window.PLOTLYENV.BASE_URL='https://plot.ly';                                    if (document.getElementById(\"4bf6dd20-8a27-4f86-976b-9a6e824704b4\")) {                    Plotly.newPlot(                        \"4bf6dd20-8a27-4f86-976b-9a6e824704b4\",                        [{\"marker\":{\"color\":\"rgba(255, 153, 51, 0.6)\",\"line\":{\"color\":\"rgba(255, 153, 51, 1.0)\",\"width\":1}},\"name\":\"count\",\"orientation\":\"v\",\"text\":\"\",\"x\":[\"actividade\",\"ante\",\"atend\",\"cliente\",\"colindante\",\"era\",\"haca\",\"mucho\",\"pue\",\"sin\",\"vive\"],\"y\":[1,1,1,1,1,1,1,1,1,1,1],\"type\":\"bar\"}],                        {\"legend\":{\"bgcolor\":\"#F5F6F9\",\"font\":{\"color\":\"#4D5663\"}},\"paper_bgcolor\":\"#F5F6F9\",\"plot_bgcolor\":\"#F5F6F9\",\"template\":{\"data\":{\"barpolar\":[{\"marker\":{\"line\":{\"color\":\"#E5ECF6\",\"width\":0.5},\"pattern\":{\"fillmode\":\"overlay\",\"size\":10,\"solidity\":0.2}},\"type\":\"barpolar\"}],\"bar\":[{\"error_x\":{\"color\":\"#2a3f5f\"},\"error_y\":{\"color\":\"#2a3f5f\"},\"marker\":{\"line\":{\"color\":\"#E5ECF6\",\"width\":0.5},\"pattern\":{\"fillmode\":\"overlay\",\"size\":10,\"solidity\":0.2}},\"type\":\"bar\"}],\"carpet\":[{\"aaxis\":{\"endlinecolor\":\"#2a3f5f\",\"gridcolor\":\"white\",\"linecolor\":\"white\",\"minorgridcolor\":\"white\",\"startlinecolor\":\"#2a3f5f\"},\"baxis\":{\"endlinecolor\":\"#2a3f5f\",\"gridcolor\":\"white\",\"linecolor\":\"white\",\"minorgridcolor\":\"white\",\"startlinecolor\":\"#2a3f5f\"},\"type\":\"carpet\"}],\"choropleth\":[{\"colorbar\":{\"outlinewidth\":0,\"ticks\":\"\"},\"type\":\"choropleth\"}],\"contourcarpet\":[{\"colorbar\":{\"outlinewidth\":0,\"ticks\":\"\"},\"type\":\"contourcarpet\"}],\"contour\":[{\"colorbar\":{\"outlinewidth\":0,\"ticks\":\"\"},\"colorscale\":[[0.0,\"#0d0887\"],[0.1111111111111111,\"#46039f\"],[0.2222222222222222,\"#7201a8\"],[0.3333333333333333,\"#9c179e\"],[0.4444444444444444,\"#bd3786\"],[0.5555555555555556,\"#d8576b\"],[0.6666666666666666,\"#ed7953\"],[0.7777777777777778,\"#fb9f3a\"],[0.8888888888888888,\"#fdca26\"],[1.0,\"#f0f921\"]],\"type\":\"contour\"}],\"heatmapgl\":[{\"colorbar\":{\"outlinewidth\":0,\"ticks\":\"\"},\"colorscale\":[[0.0,\"#0d0887\"],[0.1111111111111111,\"#46039f\"],[0.2222222222222222,\"#7201a8\"],[0.3333333333333333,\"#9c179e\"],[0.4444444444444444,\"#bd3786\"],[0.5555555555555556,\"#d8576b\"],[0.6666666666666666,\"#ed7953\"],[0.7777777777777778,\"#fb9f3a\"],[0.8888888888888888,\"#fdca26\"],[1.0,\"#f0f921\"]],\"type\":\"heatmapgl\"}],\"heatmap\":[{\"colorbar\":{\"outlinewidth\":0,\"ticks\":\"\"},\"colorscale\":[[0.0,\"#0d0887\"],[0.1111111111111111,\"#46039f\"],[0.2222222222222222,\"#7201a8\"],[0.3333333333333333,\"#9c179e\"],[0.4444444444444444,\"#bd3786\"],[0.5555555555555556,\"#d8576b\"],[0.6666666666666666,\"#ed7953\"],[0.7777777777777778,\"#fb9f3a\"],[0.8888888888888888,\"#fdca26\"],[1.0,\"#f0f921\"]],\"type\":\"heatmap\"}],\"histogram2dcontour\":[{\"colorbar\":{\"outlinewidth\":0,\"ticks\":\"\"},\"colorscale\":[[0.0,\"#0d0887\"],[0.1111111111111111,\"#46039f\"],[0.2222222222222222,\"#7201a8\"],[0.3333333333333333,\"#9c179e\"],[0.4444444444444444,\"#bd3786\"],[0.5555555555555556,\"#d8576b\"],[0.6666666666666666,\"#ed7953\"],[0.7777777777777778,\"#fb9f3a\"],[0.8888888888888888,\"#fdca26\"],[1.0,\"#f0f921\"]],\"type\":\"histogram2dcontour\"}],\"histogram2d\":[{\"colorbar\":{\"outlinewidth\":0,\"ticks\":\"\"},\"colorscale\":[[0.0,\"#0d0887\"],[0.1111111111111111,\"#46039f\"],[0.2222222222222222,\"#7201a8\"],[0.3333333333333333,\"#9c179e\"],[0.4444444444444444,\"#bd3786\"],[0.5555555555555556,\"#d8576b\"],[0.6666666666666666,\"#ed7953\"],[0.7777777777777778,\"#fb9f3a\"],[0.8888888888888888,\"#fdca26\"],[1.0,\"#f0f921\"]],\"type\":\"histogram2d\"}],\"histogram\":[{\"marker\":{\"pattern\":{\"fillmode\":\"overlay\",\"size\":10,\"solidity\":0.2}},\"type\":\"histogram\"}],\"mesh3d\":[{\"colorbar\":{\"outlinewidth\":0,\"ticks\":\"\"},\"type\":\"mesh3d\"}],\"parcoords\":[{\"line\":{\"colorbar\":{\"outlinewidth\":0,\"ticks\":\"\"}},\"type\":\"parcoords\"}],\"pie\":[{\"automargin\":true,\"type\":\"pie\"}],\"scatter3d\":[{\"line\":{\"colorbar\":{\"outlinewidth\":0,\"ticks\":\"\"}},\"marker\":{\"colorbar\":{\"outlinewidth\":0,\"ticks\":\"\"}},\"type\":\"scatter3d\"}],\"scattercarpet\":[{\"marker\":{\"colorbar\":{\"outlinewidth\":0,\"ticks\":\"\"}},\"type\":\"scattercarpet\"}],\"scattergeo\":[{\"marker\":{\"colorbar\":{\"outlinewidth\":0,\"ticks\":\"\"}},\"type\":\"scattergeo\"}],\"scattergl\":[{\"marker\":{\"colorbar\":{\"outlinewidth\":0,\"ticks\":\"\"}},\"type\":\"scattergl\"}],\"scattermapbox\":[{\"marker\":{\"colorbar\":{\"outlinewidth\":0,\"ticks\":\"\"}},\"type\":\"scattermapbox\"}],\"scatterpolargl\":[{\"marker\":{\"colorbar\":{\"outlinewidth\":0,\"ticks\":\"\"}},\"type\":\"scatterpolargl\"}],\"scatterpolar\":[{\"marker\":{\"colorbar\":{\"outlinewidth\":0,\"ticks\":\"\"}},\"type\":\"scatterpolar\"}],\"scatter\":[{\"fillpattern\":{\"fillmode\":\"overlay\",\"size\":10,\"solidity\":0.2},\"type\":\"scatter\"}],\"scatterternary\":[{\"marker\":{\"colorbar\":{\"outlinewidth\":0,\"ticks\":\"\"}},\"type\":\"scatterternary\"}],\"surface\":[{\"colorbar\":{\"outlinewidth\":0,\"ticks\":\"\"},\"colorscale\":[[0.0,\"#0d0887\"],[0.1111111111111111,\"#46039f\"],[0.2222222222222222,\"#7201a8\"],[0.3333333333333333,\"#9c179e\"],[0.4444444444444444,\"#bd3786\"],[0.5555555555555556,\"#d8576b\"],[0.6666666666666666,\"#ed7953\"],[0.7777777777777778,\"#fb9f3a\"],[0.8888888888888888,\"#fdca26\"],[1.0,\"#f0f921\"]],\"type\":\"surface\"}],\"table\":[{\"cells\":{\"fill\":{\"color\":\"#EBF0F8\"},\"line\":{\"color\":\"white\"}},\"header\":{\"fill\":{\"color\":\"#C8D4E3\"},\"line\":{\"color\":\"white\"}},\"type\":\"table\"}]},\"layout\":{\"annotationdefaults\":{\"arrowcolor\":\"#2a3f5f\",\"arrowhead\":0,\"arrowwidth\":1},\"autotypenumbers\":\"strict\",\"coloraxis\":{\"colorbar\":{\"outlinewidth\":0,\"ticks\":\"\"}},\"colorscale\":{\"diverging\":[[0,\"#8e0152\"],[0.1,\"#c51b7d\"],[0.2,\"#de77ae\"],[0.3,\"#f1b6da\"],[0.4,\"#fde0ef\"],[0.5,\"#f7f7f7\"],[0.6,\"#e6f5d0\"],[0.7,\"#b8e186\"],[0.8,\"#7fbc41\"],[0.9,\"#4d9221\"],[1,\"#276419\"]],\"sequential\":[[0.0,\"#0d0887\"],[0.1111111111111111,\"#46039f\"],[0.2222222222222222,\"#7201a8\"],[0.3333333333333333,\"#9c179e\"],[0.4444444444444444,\"#bd3786\"],[0.5555555555555556,\"#d8576b\"],[0.6666666666666666,\"#ed7953\"],[0.7777777777777778,\"#fb9f3a\"],[0.8888888888888888,\"#fdca26\"],[1.0,\"#f0f921\"]],\"sequentialminus\":[[0.0,\"#0d0887\"],[0.1111111111111111,\"#46039f\"],[0.2222222222222222,\"#7201a8\"],[0.3333333333333333,\"#9c179e\"],[0.4444444444444444,\"#bd3786\"],[0.5555555555555556,\"#d8576b\"],[0.6666666666666666,\"#ed7953\"],[0.7777777777777778,\"#fb9f3a\"],[0.8888888888888888,\"#fdca26\"],[1.0,\"#f0f921\"]]},\"colorway\":[\"#636efa\",\"#EF553B\",\"#00cc96\",\"#ab63fa\",\"#FFA15A\",\"#19d3f3\",\"#FF6692\",\"#B6E880\",\"#FF97FF\",\"#FECB52\"],\"font\":{\"color\":\"#2a3f5f\"},\"geo\":{\"bgcolor\":\"white\",\"lakecolor\":\"white\",\"landcolor\":\"#E5ECF6\",\"showlakes\":true,\"showland\":true,\"subunitcolor\":\"white\"},\"hoverlabel\":{\"align\":\"left\"},\"hovermode\":\"closest\",\"mapbox\":{\"style\":\"light\"},\"paper_bgcolor\":\"white\",\"plot_bgcolor\":\"#E5ECF6\",\"polar\":{\"angularaxis\":{\"gridcolor\":\"white\",\"linecolor\":\"white\",\"ticks\":\"\"},\"bgcolor\":\"#E5ECF6\",\"radialaxis\":{\"gridcolor\":\"white\",\"linecolor\":\"white\",\"ticks\":\"\"}},\"scene\":{\"xaxis\":{\"backgroundcolor\":\"#E5ECF6\",\"gridcolor\":\"white\",\"gridwidth\":2,\"linecolor\":\"white\",\"showbackground\":true,\"ticks\":\"\",\"zerolinecolor\":\"white\"},\"yaxis\":{\"backgroundcolor\":\"#E5ECF6\",\"gridcolor\":\"white\",\"gridwidth\":2,\"linecolor\":\"white\",\"showbackground\":true,\"ticks\":\"\",\"zerolinecolor\":\"white\"},\"zaxis\":{\"backgroundcolor\":\"#E5ECF6\",\"gridcolor\":\"white\",\"gridwidth\":2,\"linecolor\":\"white\",\"showbackground\":true,\"ticks\":\"\",\"zerolinecolor\":\"white\"}},\"shapedefaults\":{\"line\":{\"color\":\"#2a3f5f\"}},\"ternary\":{\"aaxis\":{\"gridcolor\":\"white\",\"linecolor\":\"white\",\"ticks\":\"\"},\"baxis\":{\"gridcolor\":\"white\",\"linecolor\":\"white\",\"ticks\":\"\"},\"bgcolor\":\"#E5ECF6\",\"caxis\":{\"gridcolor\":\"white\",\"linecolor\":\"white\",\"ticks\":\"\"}},\"title\":{\"x\":0.05},\"xaxis\":{\"automargin\":true,\"gridcolor\":\"white\",\"linecolor\":\"white\",\"ticks\":\"\",\"title\":{\"standoff\":15},\"zerolinecolor\":\"white\",\"zerolinewidth\":2},\"yaxis\":{\"automargin\":true,\"gridcolor\":\"white\",\"linecolor\":\"white\",\"ticks\":\"\",\"title\":{\"standoff\":15},\"zerolinecolor\":\"white\",\"zerolinewidth\":2}}},\"title\":{\"font\":{\"color\":\"#4D5663\"},\"text\":\"Topic 1: Top 100 words after removing stop words\"},\"xaxis\":{\"gridcolor\":\"#E1E5ED\",\"linecolor\":\"black\",\"showgrid\":true,\"tickfont\":{\"color\":\"#4D5663\"},\"title\":{\"font\":{\"color\":\"#4D5663\"},\"text\":\"\"},\"zerolinecolor\":\"#E1E5ED\"},\"yaxis\":{\"gridcolor\":\"#E1E5ED\",\"linecolor\":\"black\",\"showgrid\":true,\"tickfont\":{\"color\":\"#4D5663\"},\"title\":{\"font\":{\"color\":\"#4D5663\"},\"text\":\"Count\"},\"zerolinecolor\":\"#E1E5ED\"}},                        {\"showLink\": true, \"linkText\": \"Export to plot.ly\", \"plotlyServerURL\": \"https://plot.ly\", \"responsive\": true}                    ).then(function(){\n",
       "                            \n",
       "var gd = document.getElementById('4bf6dd20-8a27-4f86-976b-9a6e824704b4');\n",
       "var x = new MutationObserver(function (mutations, observer) {{\n",
       "        var display = window.getComputedStyle(gd).display;\n",
       "        if (!display || display === 'none') {{\n",
       "            console.log([gd, 'removed!']);\n",
       "            Plotly.purge(gd);\n",
       "            observer.disconnect();\n",
       "        }}\n",
       "}});\n",
       "\n",
       "// Listen for the removal of the full notebook cells\n",
       "var notebookContainer = gd.closest('#notebook-container');\n",
       "if (notebookContainer) {{\n",
       "    x.observe(notebookContainer, {childList: true});\n",
       "}}\n",
       "\n",
       "// Listen for the clearing of the current output cell\n",
       "var outputEl = gd.closest('.output');\n",
       "if (outputEl) {{\n",
       "    x.observe(outputEl, {childList: true});\n",
       "}}\n",
       "\n",
       "                        })                };                });            </script>        </div>"
      ]
     },
     "metadata": {},
     "output_type": "display_data"
    }
   ],
   "source": [
    "plot_model(lda, plot = 'frequency', topic_num = 'Topic 1')"
   ]
  },
  {
   "cell_type": "code",
   "execution_count": 25,
   "id": "7bb2e0d1",
   "metadata": {},
   "outputs": [
    {
     "data": {
      "text/html": [
       "        <script type=\"text/javascript\">\n",
       "        window.PlotlyConfig = {MathJaxConfig: 'local'};\n",
       "        if (window.MathJax) {MathJax.Hub.Config({SVG: {font: \"STIX-Web\"}});}\n",
       "        if (typeof require !== 'undefined') {\n",
       "        require.undef(\"plotly\");\n",
       "        requirejs.config({\n",
       "            paths: {\n",
       "                'plotly': ['https://cdn.plot.ly/plotly-2.11.1.min']\n",
       "            }\n",
       "        });\n",
       "        require(['plotly'], function(Plotly) {\n",
       "            window._Plotly = Plotly;\n",
       "        });\n",
       "        }\n",
       "        </script>\n",
       "        "
      ]
     },
     "metadata": {},
     "output_type": "display_data"
    },
    {
     "data": {
      "application/vnd.plotly.v1+json": {
       "config": {
        "plotlyServerURL": "https://plot.ly"
       },
       "data": [
        {
         "alignmentgroup": "True",
         "customdata": [
          [
           "use, work, small, family, group, help, rice, start, live, husband"
          ],
          [
           "rice, farmer, land, sector, small, crop, work, farm, area, start"
          ],
          [
           "group, member, product, use, home, help, work, pay, order, husband"
          ],
          [
           "work, group, stock, family, high, increase, member, request, husband, home"
          ]
         ],
         "hovertemplate": "Topic=%{x}<br>Documents=%{y}<br>Keyword=%{customdata[0]}<extra></extra>",
         "legendgroup": "",
         "marker": {
          "color": "#636efa",
          "pattern": {
           "shape": ""
          }
         },
         "name": "",
         "offsetgroup": "",
         "orientation": "v",
         "showlegend": false,
         "textposition": "auto",
         "type": "bar",
         "x": [
          "Topic 0",
          "Topic 1",
          "Topic 2",
          "Topic 3"
         ],
         "xaxis": "x",
         "y": [
          905,
          2,
          66,
          27
         ],
         "yaxis": "y"
        }
       ],
       "layout": {
        "barmode": "relative",
        "legend": {
         "tracegroupgap": 0
        },
        "template": {
         "data": {
          "bar": [
           {
            "error_x": {
             "color": "#2a3f5f"
            },
            "error_y": {
             "color": "#2a3f5f"
            },
            "marker": {
             "line": {
              "color": "#E5ECF6",
              "width": 0.5
             },
             "pattern": {
              "fillmode": "overlay",
              "size": 10,
              "solidity": 0.2
             }
            },
            "type": "bar"
           }
          ],
          "barpolar": [
           {
            "marker": {
             "line": {
              "color": "#E5ECF6",
              "width": 0.5
             },
             "pattern": {
              "fillmode": "overlay",
              "size": 10,
              "solidity": 0.2
             }
            },
            "type": "barpolar"
           }
          ],
          "carpet": [
           {
            "aaxis": {
             "endlinecolor": "#2a3f5f",
             "gridcolor": "white",
             "linecolor": "white",
             "minorgridcolor": "white",
             "startlinecolor": "#2a3f5f"
            },
            "baxis": {
             "endlinecolor": "#2a3f5f",
             "gridcolor": "white",
             "linecolor": "white",
             "minorgridcolor": "white",
             "startlinecolor": "#2a3f5f"
            },
            "type": "carpet"
           }
          ],
          "choropleth": [
           {
            "colorbar": {
             "outlinewidth": 0,
             "ticks": ""
            },
            "type": "choropleth"
           }
          ],
          "contour": [
           {
            "colorbar": {
             "outlinewidth": 0,
             "ticks": ""
            },
            "colorscale": [
             [
              0,
              "#0d0887"
             ],
             [
              0.1111111111111111,
              "#46039f"
             ],
             [
              0.2222222222222222,
              "#7201a8"
             ],
             [
              0.3333333333333333,
              "#9c179e"
             ],
             [
              0.4444444444444444,
              "#bd3786"
             ],
             [
              0.5555555555555556,
              "#d8576b"
             ],
             [
              0.6666666666666666,
              "#ed7953"
             ],
             [
              0.7777777777777778,
              "#fb9f3a"
             ],
             [
              0.8888888888888888,
              "#fdca26"
             ],
             [
              1,
              "#f0f921"
             ]
            ],
            "type": "contour"
           }
          ],
          "contourcarpet": [
           {
            "colorbar": {
             "outlinewidth": 0,
             "ticks": ""
            },
            "type": "contourcarpet"
           }
          ],
          "heatmap": [
           {
            "colorbar": {
             "outlinewidth": 0,
             "ticks": ""
            },
            "colorscale": [
             [
              0,
              "#0d0887"
             ],
             [
              0.1111111111111111,
              "#46039f"
             ],
             [
              0.2222222222222222,
              "#7201a8"
             ],
             [
              0.3333333333333333,
              "#9c179e"
             ],
             [
              0.4444444444444444,
              "#bd3786"
             ],
             [
              0.5555555555555556,
              "#d8576b"
             ],
             [
              0.6666666666666666,
              "#ed7953"
             ],
             [
              0.7777777777777778,
              "#fb9f3a"
             ],
             [
              0.8888888888888888,
              "#fdca26"
             ],
             [
              1,
              "#f0f921"
             ]
            ],
            "type": "heatmap"
           }
          ],
          "heatmapgl": [
           {
            "colorbar": {
             "outlinewidth": 0,
             "ticks": ""
            },
            "colorscale": [
             [
              0,
              "#0d0887"
             ],
             [
              0.1111111111111111,
              "#46039f"
             ],
             [
              0.2222222222222222,
              "#7201a8"
             ],
             [
              0.3333333333333333,
              "#9c179e"
             ],
             [
              0.4444444444444444,
              "#bd3786"
             ],
             [
              0.5555555555555556,
              "#d8576b"
             ],
             [
              0.6666666666666666,
              "#ed7953"
             ],
             [
              0.7777777777777778,
              "#fb9f3a"
             ],
             [
              0.8888888888888888,
              "#fdca26"
             ],
             [
              1,
              "#f0f921"
             ]
            ],
            "type": "heatmapgl"
           }
          ],
          "histogram": [
           {
            "marker": {
             "pattern": {
              "fillmode": "overlay",
              "size": 10,
              "solidity": 0.2
             }
            },
            "type": "histogram"
           }
          ],
          "histogram2d": [
           {
            "colorbar": {
             "outlinewidth": 0,
             "ticks": ""
            },
            "colorscale": [
             [
              0,
              "#0d0887"
             ],
             [
              0.1111111111111111,
              "#46039f"
             ],
             [
              0.2222222222222222,
              "#7201a8"
             ],
             [
              0.3333333333333333,
              "#9c179e"
             ],
             [
              0.4444444444444444,
              "#bd3786"
             ],
             [
              0.5555555555555556,
              "#d8576b"
             ],
             [
              0.6666666666666666,
              "#ed7953"
             ],
             [
              0.7777777777777778,
              "#fb9f3a"
             ],
             [
              0.8888888888888888,
              "#fdca26"
             ],
             [
              1,
              "#f0f921"
             ]
            ],
            "type": "histogram2d"
           }
          ],
          "histogram2dcontour": [
           {
            "colorbar": {
             "outlinewidth": 0,
             "ticks": ""
            },
            "colorscale": [
             [
              0,
              "#0d0887"
             ],
             [
              0.1111111111111111,
              "#46039f"
             ],
             [
              0.2222222222222222,
              "#7201a8"
             ],
             [
              0.3333333333333333,
              "#9c179e"
             ],
             [
              0.4444444444444444,
              "#bd3786"
             ],
             [
              0.5555555555555556,
              "#d8576b"
             ],
             [
              0.6666666666666666,
              "#ed7953"
             ],
             [
              0.7777777777777778,
              "#fb9f3a"
             ],
             [
              0.8888888888888888,
              "#fdca26"
             ],
             [
              1,
              "#f0f921"
             ]
            ],
            "type": "histogram2dcontour"
           }
          ],
          "mesh3d": [
           {
            "colorbar": {
             "outlinewidth": 0,
             "ticks": ""
            },
            "type": "mesh3d"
           }
          ],
          "parcoords": [
           {
            "line": {
             "colorbar": {
              "outlinewidth": 0,
              "ticks": ""
             }
            },
            "type": "parcoords"
           }
          ],
          "pie": [
           {
            "automargin": true,
            "type": "pie"
           }
          ],
          "scatter": [
           {
            "fillpattern": {
             "fillmode": "overlay",
             "size": 10,
             "solidity": 0.2
            },
            "type": "scatter"
           }
          ],
          "scatter3d": [
           {
            "line": {
             "colorbar": {
              "outlinewidth": 0,
              "ticks": ""
             }
            },
            "marker": {
             "colorbar": {
              "outlinewidth": 0,
              "ticks": ""
             }
            },
            "type": "scatter3d"
           }
          ],
          "scattercarpet": [
           {
            "marker": {
             "colorbar": {
              "outlinewidth": 0,
              "ticks": ""
             }
            },
            "type": "scattercarpet"
           }
          ],
          "scattergeo": [
           {
            "marker": {
             "colorbar": {
              "outlinewidth": 0,
              "ticks": ""
             }
            },
            "type": "scattergeo"
           }
          ],
          "scattergl": [
           {
            "marker": {
             "colorbar": {
              "outlinewidth": 0,
              "ticks": ""
             }
            },
            "type": "scattergl"
           }
          ],
          "scattermapbox": [
           {
            "marker": {
             "colorbar": {
              "outlinewidth": 0,
              "ticks": ""
             }
            },
            "type": "scattermapbox"
           }
          ],
          "scatterpolar": [
           {
            "marker": {
             "colorbar": {
              "outlinewidth": 0,
              "ticks": ""
             }
            },
            "type": "scatterpolar"
           }
          ],
          "scatterpolargl": [
           {
            "marker": {
             "colorbar": {
              "outlinewidth": 0,
              "ticks": ""
             }
            },
            "type": "scatterpolargl"
           }
          ],
          "scatterternary": [
           {
            "marker": {
             "colorbar": {
              "outlinewidth": 0,
              "ticks": ""
             }
            },
            "type": "scatterternary"
           }
          ],
          "surface": [
           {
            "colorbar": {
             "outlinewidth": 0,
             "ticks": ""
            },
            "colorscale": [
             [
              0,
              "#0d0887"
             ],
             [
              0.1111111111111111,
              "#46039f"
             ],
             [
              0.2222222222222222,
              "#7201a8"
             ],
             [
              0.3333333333333333,
              "#9c179e"
             ],
             [
              0.4444444444444444,
              "#bd3786"
             ],
             [
              0.5555555555555556,
              "#d8576b"
             ],
             [
              0.6666666666666666,
              "#ed7953"
             ],
             [
              0.7777777777777778,
              "#fb9f3a"
             ],
             [
              0.8888888888888888,
              "#fdca26"
             ],
             [
              1,
              "#f0f921"
             ]
            ],
            "type": "surface"
           }
          ],
          "table": [
           {
            "cells": {
             "fill": {
              "color": "#EBF0F8"
             },
             "line": {
              "color": "white"
             }
            },
            "header": {
             "fill": {
              "color": "#C8D4E3"
             },
             "line": {
              "color": "white"
             }
            },
            "type": "table"
           }
          ]
         },
         "layout": {
          "annotationdefaults": {
           "arrowcolor": "#2a3f5f",
           "arrowhead": 0,
           "arrowwidth": 1
          },
          "autotypenumbers": "strict",
          "coloraxis": {
           "colorbar": {
            "outlinewidth": 0,
            "ticks": ""
           }
          },
          "colorscale": {
           "diverging": [
            [
             0,
             "#8e0152"
            ],
            [
             0.1,
             "#c51b7d"
            ],
            [
             0.2,
             "#de77ae"
            ],
            [
             0.3,
             "#f1b6da"
            ],
            [
             0.4,
             "#fde0ef"
            ],
            [
             0.5,
             "#f7f7f7"
            ],
            [
             0.6,
             "#e6f5d0"
            ],
            [
             0.7,
             "#b8e186"
            ],
            [
             0.8,
             "#7fbc41"
            ],
            [
             0.9,
             "#4d9221"
            ],
            [
             1,
             "#276419"
            ]
           ],
           "sequential": [
            [
             0,
             "#0d0887"
            ],
            [
             0.1111111111111111,
             "#46039f"
            ],
            [
             0.2222222222222222,
             "#7201a8"
            ],
            [
             0.3333333333333333,
             "#9c179e"
            ],
            [
             0.4444444444444444,
             "#bd3786"
            ],
            [
             0.5555555555555556,
             "#d8576b"
            ],
            [
             0.6666666666666666,
             "#ed7953"
            ],
            [
             0.7777777777777778,
             "#fb9f3a"
            ],
            [
             0.8888888888888888,
             "#fdca26"
            ],
            [
             1,
             "#f0f921"
            ]
           ],
           "sequentialminus": [
            [
             0,
             "#0d0887"
            ],
            [
             0.1111111111111111,
             "#46039f"
            ],
            [
             0.2222222222222222,
             "#7201a8"
            ],
            [
             0.3333333333333333,
             "#9c179e"
            ],
            [
             0.4444444444444444,
             "#bd3786"
            ],
            [
             0.5555555555555556,
             "#d8576b"
            ],
            [
             0.6666666666666666,
             "#ed7953"
            ],
            [
             0.7777777777777778,
             "#fb9f3a"
            ],
            [
             0.8888888888888888,
             "#fdca26"
            ],
            [
             1,
             "#f0f921"
            ]
           ]
          },
          "colorway": [
           "#636efa",
           "#EF553B",
           "#00cc96",
           "#ab63fa",
           "#FFA15A",
           "#19d3f3",
           "#FF6692",
           "#B6E880",
           "#FF97FF",
           "#FECB52"
          ],
          "font": {
           "color": "#2a3f5f"
          },
          "geo": {
           "bgcolor": "white",
           "lakecolor": "white",
           "landcolor": "#E5ECF6",
           "showlakes": true,
           "showland": true,
           "subunitcolor": "white"
          },
          "hoverlabel": {
           "align": "left"
          },
          "hovermode": "closest",
          "mapbox": {
           "style": "light"
          },
          "paper_bgcolor": "white",
          "plot_bgcolor": "#E5ECF6",
          "polar": {
           "angularaxis": {
            "gridcolor": "white",
            "linecolor": "white",
            "ticks": ""
           },
           "bgcolor": "#E5ECF6",
           "radialaxis": {
            "gridcolor": "white",
            "linecolor": "white",
            "ticks": ""
           }
          },
          "scene": {
           "xaxis": {
            "backgroundcolor": "#E5ECF6",
            "gridcolor": "white",
            "gridwidth": 2,
            "linecolor": "white",
            "showbackground": true,
            "ticks": "",
            "zerolinecolor": "white"
           },
           "yaxis": {
            "backgroundcolor": "#E5ECF6",
            "gridcolor": "white",
            "gridwidth": 2,
            "linecolor": "white",
            "showbackground": true,
            "ticks": "",
            "zerolinecolor": "white"
           },
           "zaxis": {
            "backgroundcolor": "#E5ECF6",
            "gridcolor": "white",
            "gridwidth": 2,
            "linecolor": "white",
            "showbackground": true,
            "ticks": "",
            "zerolinecolor": "white"
           }
          },
          "shapedefaults": {
           "line": {
            "color": "#2a3f5f"
           }
          },
          "ternary": {
           "aaxis": {
            "gridcolor": "white",
            "linecolor": "white",
            "ticks": ""
           },
           "baxis": {
            "gridcolor": "white",
            "linecolor": "white",
            "ticks": ""
           },
           "bgcolor": "#E5ECF6",
           "caxis": {
            "gridcolor": "white",
            "linecolor": "white",
            "ticks": ""
           }
          },
          "title": {
           "x": 0.05
          },
          "xaxis": {
           "automargin": true,
           "gridcolor": "white",
           "linecolor": "white",
           "ticks": "",
           "title": {
            "standoff": 15
           },
           "zerolinecolor": "white",
           "zerolinewidth": 2
          },
          "yaxis": {
           "automargin": true,
           "gridcolor": "white",
           "linecolor": "white",
           "ticks": "",
           "title": {
            "standoff": 15
           },
           "zerolinecolor": "white",
           "zerolinewidth": 2
          }
         }
        },
        "title": {
         "text": "Document Distribution by Topics"
        },
        "xaxis": {
         "anchor": "y",
         "domain": [
          0,
          1
         ],
         "title": {
          "text": "Topic"
         }
        },
        "yaxis": {
         "anchor": "x",
         "domain": [
          0,
          1
         ],
         "title": {
          "text": "Documents"
         }
        }
       }
      },
      "text/html": [
       "<div>                            <div id=\"8f6f1d47-0407-46de-8f13-2174517c697e\" class=\"plotly-graph-div\" style=\"height:525px; width:100%;\"></div>            <script type=\"text/javascript\">                require([\"plotly\"], function(Plotly) {                    window.PLOTLYENV=window.PLOTLYENV || {};                                    if (document.getElementById(\"8f6f1d47-0407-46de-8f13-2174517c697e\")) {                    Plotly.newPlot(                        \"8f6f1d47-0407-46de-8f13-2174517c697e\",                        [{\"alignmentgroup\":\"True\",\"customdata\":[[\"use, work, small, family, group, help, rice, start, live, husband\"],[\"rice, farmer, land, sector, small, crop, work, farm, area, start\"],[\"group, member, product, use, home, help, work, pay, order, husband\"],[\"work, group, stock, family, high, increase, member, request, husband, home\"]],\"hovertemplate\":\"Topic=%{x}<br>Documents=%{y}<br>Keyword=%{customdata[0]}<extra></extra>\",\"legendgroup\":\"\",\"marker\":{\"color\":\"#636efa\",\"pattern\":{\"shape\":\"\"}},\"name\":\"\",\"offsetgroup\":\"\",\"orientation\":\"v\",\"showlegend\":false,\"textposition\":\"auto\",\"x\":[\"Topic 0\",\"Topic 1\",\"Topic 2\",\"Topic 3\"],\"xaxis\":\"x\",\"y\":[905,2,66,27],\"yaxis\":\"y\",\"type\":\"bar\"}],                        {\"template\":{\"data\":{\"histogram2dcontour\":[{\"type\":\"histogram2dcontour\",\"colorbar\":{\"outlinewidth\":0,\"ticks\":\"\"},\"colorscale\":[[0.0,\"#0d0887\"],[0.1111111111111111,\"#46039f\"],[0.2222222222222222,\"#7201a8\"],[0.3333333333333333,\"#9c179e\"],[0.4444444444444444,\"#bd3786\"],[0.5555555555555556,\"#d8576b\"],[0.6666666666666666,\"#ed7953\"],[0.7777777777777778,\"#fb9f3a\"],[0.8888888888888888,\"#fdca26\"],[1.0,\"#f0f921\"]]}],\"choropleth\":[{\"type\":\"choropleth\",\"colorbar\":{\"outlinewidth\":0,\"ticks\":\"\"}}],\"histogram2d\":[{\"type\":\"histogram2d\",\"colorbar\":{\"outlinewidth\":0,\"ticks\":\"\"},\"colorscale\":[[0.0,\"#0d0887\"],[0.1111111111111111,\"#46039f\"],[0.2222222222222222,\"#7201a8\"],[0.3333333333333333,\"#9c179e\"],[0.4444444444444444,\"#bd3786\"],[0.5555555555555556,\"#d8576b\"],[0.6666666666666666,\"#ed7953\"],[0.7777777777777778,\"#fb9f3a\"],[0.8888888888888888,\"#fdca26\"],[1.0,\"#f0f921\"]]}],\"heatmap\":[{\"type\":\"heatmap\",\"colorbar\":{\"outlinewidth\":0,\"ticks\":\"\"},\"colorscale\":[[0.0,\"#0d0887\"],[0.1111111111111111,\"#46039f\"],[0.2222222222222222,\"#7201a8\"],[0.3333333333333333,\"#9c179e\"],[0.4444444444444444,\"#bd3786\"],[0.5555555555555556,\"#d8576b\"],[0.6666666666666666,\"#ed7953\"],[0.7777777777777778,\"#fb9f3a\"],[0.8888888888888888,\"#fdca26\"],[1.0,\"#f0f921\"]]}],\"heatmapgl\":[{\"type\":\"heatmapgl\",\"colorbar\":{\"outlinewidth\":0,\"ticks\":\"\"},\"colorscale\":[[0.0,\"#0d0887\"],[0.1111111111111111,\"#46039f\"],[0.2222222222222222,\"#7201a8\"],[0.3333333333333333,\"#9c179e\"],[0.4444444444444444,\"#bd3786\"],[0.5555555555555556,\"#d8576b\"],[0.6666666666666666,\"#ed7953\"],[0.7777777777777778,\"#fb9f3a\"],[0.8888888888888888,\"#fdca26\"],[1.0,\"#f0f921\"]]}],\"contourcarpet\":[{\"type\":\"contourcarpet\",\"colorbar\":{\"outlinewidth\":0,\"ticks\":\"\"}}],\"contour\":[{\"type\":\"contour\",\"colorbar\":{\"outlinewidth\":0,\"ticks\":\"\"},\"colorscale\":[[0.0,\"#0d0887\"],[0.1111111111111111,\"#46039f\"],[0.2222222222222222,\"#7201a8\"],[0.3333333333333333,\"#9c179e\"],[0.4444444444444444,\"#bd3786\"],[0.5555555555555556,\"#d8576b\"],[0.6666666666666666,\"#ed7953\"],[0.7777777777777778,\"#fb9f3a\"],[0.8888888888888888,\"#fdca26\"],[1.0,\"#f0f921\"]]}],\"surface\":[{\"type\":\"surface\",\"colorbar\":{\"outlinewidth\":0,\"ticks\":\"\"},\"colorscale\":[[0.0,\"#0d0887\"],[0.1111111111111111,\"#46039f\"],[0.2222222222222222,\"#7201a8\"],[0.3333333333333333,\"#9c179e\"],[0.4444444444444444,\"#bd3786\"],[0.5555555555555556,\"#d8576b\"],[0.6666666666666666,\"#ed7953\"],[0.7777777777777778,\"#fb9f3a\"],[0.8888888888888888,\"#fdca26\"],[1.0,\"#f0f921\"]]}],\"mesh3d\":[{\"type\":\"mesh3d\",\"colorbar\":{\"outlinewidth\":0,\"ticks\":\"\"}}],\"scatter\":[{\"fillpattern\":{\"fillmode\":\"overlay\",\"size\":10,\"solidity\":0.2},\"type\":\"scatter\"}],\"parcoords\":[{\"type\":\"parcoords\",\"line\":{\"colorbar\":{\"outlinewidth\":0,\"ticks\":\"\"}}}],\"scatterpolargl\":[{\"type\":\"scatterpolargl\",\"marker\":{\"colorbar\":{\"outlinewidth\":0,\"ticks\":\"\"}}}],\"bar\":[{\"error_x\":{\"color\":\"#2a3f5f\"},\"error_y\":{\"color\":\"#2a3f5f\"},\"marker\":{\"line\":{\"color\":\"#E5ECF6\",\"width\":0.5},\"pattern\":{\"fillmode\":\"overlay\",\"size\":10,\"solidity\":0.2}},\"type\":\"bar\"}],\"scattergeo\":[{\"type\":\"scattergeo\",\"marker\":{\"colorbar\":{\"outlinewidth\":0,\"ticks\":\"\"}}}],\"scatterpolar\":[{\"type\":\"scatterpolar\",\"marker\":{\"colorbar\":{\"outlinewidth\":0,\"ticks\":\"\"}}}],\"histogram\":[{\"marker\":{\"pattern\":{\"fillmode\":\"overlay\",\"size\":10,\"solidity\":0.2}},\"type\":\"histogram\"}],\"scattergl\":[{\"type\":\"scattergl\",\"marker\":{\"colorbar\":{\"outlinewidth\":0,\"ticks\":\"\"}}}],\"scatter3d\":[{\"type\":\"scatter3d\",\"line\":{\"colorbar\":{\"outlinewidth\":0,\"ticks\":\"\"}},\"marker\":{\"colorbar\":{\"outlinewidth\":0,\"ticks\":\"\"}}}],\"scattermapbox\":[{\"type\":\"scattermapbox\",\"marker\":{\"colorbar\":{\"outlinewidth\":0,\"ticks\":\"\"}}}],\"scatterternary\":[{\"type\":\"scatterternary\",\"marker\":{\"colorbar\":{\"outlinewidth\":0,\"ticks\":\"\"}}}],\"scattercarpet\":[{\"type\":\"scattercarpet\",\"marker\":{\"colorbar\":{\"outlinewidth\":0,\"ticks\":\"\"}}}],\"carpet\":[{\"aaxis\":{\"endlinecolor\":\"#2a3f5f\",\"gridcolor\":\"white\",\"linecolor\":\"white\",\"minorgridcolor\":\"white\",\"startlinecolor\":\"#2a3f5f\"},\"baxis\":{\"endlinecolor\":\"#2a3f5f\",\"gridcolor\":\"white\",\"linecolor\":\"white\",\"minorgridcolor\":\"white\",\"startlinecolor\":\"#2a3f5f\"},\"type\":\"carpet\"}],\"table\":[{\"cells\":{\"fill\":{\"color\":\"#EBF0F8\"},\"line\":{\"color\":\"white\"}},\"header\":{\"fill\":{\"color\":\"#C8D4E3\"},\"line\":{\"color\":\"white\"}},\"type\":\"table\"}],\"barpolar\":[{\"marker\":{\"line\":{\"color\":\"#E5ECF6\",\"width\":0.5},\"pattern\":{\"fillmode\":\"overlay\",\"size\":10,\"solidity\":0.2}},\"type\":\"barpolar\"}],\"pie\":[{\"automargin\":true,\"type\":\"pie\"}]},\"layout\":{\"autotypenumbers\":\"strict\",\"colorway\":[\"#636efa\",\"#EF553B\",\"#00cc96\",\"#ab63fa\",\"#FFA15A\",\"#19d3f3\",\"#FF6692\",\"#B6E880\",\"#FF97FF\",\"#FECB52\"],\"font\":{\"color\":\"#2a3f5f\"},\"hovermode\":\"closest\",\"hoverlabel\":{\"align\":\"left\"},\"paper_bgcolor\":\"white\",\"plot_bgcolor\":\"#E5ECF6\",\"polar\":{\"bgcolor\":\"#E5ECF6\",\"angularaxis\":{\"gridcolor\":\"white\",\"linecolor\":\"white\",\"ticks\":\"\"},\"radialaxis\":{\"gridcolor\":\"white\",\"linecolor\":\"white\",\"ticks\":\"\"}},\"ternary\":{\"bgcolor\":\"#E5ECF6\",\"aaxis\":{\"gridcolor\":\"white\",\"linecolor\":\"white\",\"ticks\":\"\"},\"baxis\":{\"gridcolor\":\"white\",\"linecolor\":\"white\",\"ticks\":\"\"},\"caxis\":{\"gridcolor\":\"white\",\"linecolor\":\"white\",\"ticks\":\"\"}},\"coloraxis\":{\"colorbar\":{\"outlinewidth\":0,\"ticks\":\"\"}},\"colorscale\":{\"sequential\":[[0.0,\"#0d0887\"],[0.1111111111111111,\"#46039f\"],[0.2222222222222222,\"#7201a8\"],[0.3333333333333333,\"#9c179e\"],[0.4444444444444444,\"#bd3786\"],[0.5555555555555556,\"#d8576b\"],[0.6666666666666666,\"#ed7953\"],[0.7777777777777778,\"#fb9f3a\"],[0.8888888888888888,\"#fdca26\"],[1.0,\"#f0f921\"]],\"sequentialminus\":[[0.0,\"#0d0887\"],[0.1111111111111111,\"#46039f\"],[0.2222222222222222,\"#7201a8\"],[0.3333333333333333,\"#9c179e\"],[0.4444444444444444,\"#bd3786\"],[0.5555555555555556,\"#d8576b\"],[0.6666666666666666,\"#ed7953\"],[0.7777777777777778,\"#fb9f3a\"],[0.8888888888888888,\"#fdca26\"],[1.0,\"#f0f921\"]],\"diverging\":[[0,\"#8e0152\"],[0.1,\"#c51b7d\"],[0.2,\"#de77ae\"],[0.3,\"#f1b6da\"],[0.4,\"#fde0ef\"],[0.5,\"#f7f7f7\"],[0.6,\"#e6f5d0\"],[0.7,\"#b8e186\"],[0.8,\"#7fbc41\"],[0.9,\"#4d9221\"],[1,\"#276419\"]]},\"xaxis\":{\"gridcolor\":\"white\",\"linecolor\":\"white\",\"ticks\":\"\",\"title\":{\"standoff\":15},\"zerolinecolor\":\"white\",\"automargin\":true,\"zerolinewidth\":2},\"yaxis\":{\"gridcolor\":\"white\",\"linecolor\":\"white\",\"ticks\":\"\",\"title\":{\"standoff\":15},\"zerolinecolor\":\"white\",\"automargin\":true,\"zerolinewidth\":2},\"scene\":{\"xaxis\":{\"backgroundcolor\":\"#E5ECF6\",\"gridcolor\":\"white\",\"linecolor\":\"white\",\"showbackground\":true,\"ticks\":\"\",\"zerolinecolor\":\"white\",\"gridwidth\":2},\"yaxis\":{\"backgroundcolor\":\"#E5ECF6\",\"gridcolor\":\"white\",\"linecolor\":\"white\",\"showbackground\":true,\"ticks\":\"\",\"zerolinecolor\":\"white\",\"gridwidth\":2},\"zaxis\":{\"backgroundcolor\":\"#E5ECF6\",\"gridcolor\":\"white\",\"linecolor\":\"white\",\"showbackground\":true,\"ticks\":\"\",\"zerolinecolor\":\"white\",\"gridwidth\":2}},\"shapedefaults\":{\"line\":{\"color\":\"#2a3f5f\"}},\"annotationdefaults\":{\"arrowcolor\":\"#2a3f5f\",\"arrowhead\":0,\"arrowwidth\":1},\"geo\":{\"bgcolor\":\"white\",\"landcolor\":\"#E5ECF6\",\"subunitcolor\":\"white\",\"showland\":true,\"showlakes\":true,\"lakecolor\":\"white\"},\"title\":{\"x\":0.05},\"mapbox\":{\"style\":\"light\"}}},\"xaxis\":{\"anchor\":\"y\",\"domain\":[0.0,1.0],\"title\":{\"text\":\"Topic\"}},\"yaxis\":{\"anchor\":\"x\",\"domain\":[0.0,1.0],\"title\":{\"text\":\"Documents\"}},\"legend\":{\"tracegroupgap\":0},\"title\":{\"text\":\"Document Distribution by Topics\"},\"barmode\":\"relative\"},                        {\"responsive\": true}                    ).then(function(){\n",
       "                            \n",
       "var gd = document.getElementById('8f6f1d47-0407-46de-8f13-2174517c697e');\n",
       "var x = new MutationObserver(function (mutations, observer) {{\n",
       "        var display = window.getComputedStyle(gd).display;\n",
       "        if (!display || display === 'none') {{\n",
       "            console.log([gd, 'removed!']);\n",
       "            Plotly.purge(gd);\n",
       "            observer.disconnect();\n",
       "        }}\n",
       "}});\n",
       "\n",
       "// Listen for the removal of the full notebook cells\n",
       "var notebookContainer = gd.closest('#notebook-container');\n",
       "if (notebookContainer) {{\n",
       "    x.observe(notebookContainer, {childList: true});\n",
       "}}\n",
       "\n",
       "// Listen for the clearing of the current output cell\n",
       "var outputEl = gd.closest('.output');\n",
       "if (outputEl) {{\n",
       "    x.observe(outputEl, {childList: true});\n",
       "}}\n",
       "\n",
       "                        })                };                });            </script>        </div>"
      ]
     },
     "metadata": {},
     "output_type": "display_data"
    }
   ],
   "source": [
    "plot_model(lda, plot = 'topic_distribution')"
   ]
  },
  {
   "cell_type": "code",
   "execution_count": 26,
   "id": "ef375231",
   "metadata": {
    "scrolled": true
   },
   "outputs": [
    {
     "data": {
      "text/html": [
       "        <script type=\"text/javascript\">\n",
       "        window.PlotlyConfig = {MathJaxConfig: 'local'};\n",
       "        if (window.MathJax) {MathJax.Hub.Config({SVG: {font: \"STIX-Web\"}});}\n",
       "        if (typeof require !== 'undefined') {\n",
       "        require.undef(\"plotly\");\n",
       "        requirejs.config({\n",
       "            paths: {\n",
       "                'plotly': ['https://cdn.plot.ly/plotly-2.11.1.min']\n",
       "            }\n",
       "        });\n",
       "        require(['plotly'], function(Plotly) {\n",
       "            window._Plotly = Plotly;\n",
       "        });\n",
       "        }\n",
       "        </script>\n",
       "        "
      ]
     },
     "metadata": {},
     "output_type": "display_data"
    },
    {
     "data": {
      "application/vnd.plotly.v1+json": {
       "config": {
        "plotlyServerURL": "https://plot.ly"
       },
       "data": [
        {
         "hovertemplate": "Dominant_Topic=Topic 0<br>0=%{x}<br>1=%{y}<br>2=%{z}<extra></extra>",
         "legendgroup": "Topic 0",
         "marker": {
          "color": "#636efa",
          "opacity": 0.7,
          "symbol": "circle"
         },
         "mode": "markers",
         "name": "Topic 0",
         "scene": "scene",
         "showlegend": true,
         "type": "scatter3d",
         "x": [
          4.089128494262695,
          4.835293292999268,
          -1.3698724508285522,
          -4.599944591522217,
          -5.872221946716309,
          -3.7746503353118896,
          3.065992593765259,
          -10.9649658203125,
          -0.32689186930656433,
          -6.678059101104736,
          -4.474139213562012,
          -2.267054796218872,
          5.742869853973389,
          0.27092456817626953,
          -6.971150875091553,
          3.7145464420318604,
          3.87137770652771,
          5.752100944519043,
          -1.5871788263320923,
          4.258045673370361,
          -3.1984100341796875,
          2.8039300441741943,
          -1.0280647277832031,
          0.31072765588760376,
          4.61298131942749,
          3.8092598915100098,
          -10.366134643554688,
          1.7554734945297241,
          2.751840114593506,
          -0.6664649844169617,
          -0.4311293959617615,
          -6.094231128692627,
          3.7919113636016846,
          4.135244369506836,
          4.896683216094971,
          3.1926345825195312,
          -0.0585889108479023,
          -4.4933295249938965,
          -6.646648406982422,
          0.2002718597650528,
          4.426121711730957,
          -6.441543102264404,
          0.6395496726036072,
          4.696085453033447,
          5.495500087738037,
          3.6281795501708984,
          1.3850868940353394,
          3.624673843383789,
          -2.436565637588501,
          5.048803806304932,
          3.74629545211792,
          4.721360206604004,
          4.413572788238525,
          -4.197449207305908,
          3.619847059249878,
          4.382983207702637,
          3.599144458770752,
          4.156203746795654,
          -2.890275239944458,
          3.6182339191436768,
          -0.6898183822631836,
          2.4900760650634766,
          3.8155126571655273,
          0.5893908739089966,
          3.28756046295166,
          1.2532141208648682,
          1.980549693107605,
          5.069799900054932,
          -2.360255479812622,
          3.818605422973633,
          0.7135728001594543,
          -0.05341167375445366,
          4.280045032501221,
          -1.8304502964019775,
          -4.3434224128723145,
          -10.688508033752441,
          0.6216830015182495,
          3.0773704051971436,
          1.9994369745254517,
          4.238555908203125,
          2.073606014251709,
          2.566938877105713,
          1.328621506690979,
          -6.043723106384277,
          -5.3443522453308105,
          -0.07696597278118134,
          4.0211381912231445,
          4.993997097015381,
          3.123835325241089,
          1.1384512186050415,
          1.1296021938323975,
          5.920468330383301,
          1.4924983978271484,
          0.2473325878381729,
          6.241522789001465,
          -1.5147898197174072,
          0.8014428615570068,
          4.501198768615723,
          1.5605522394180298,
          -4.2888264656066895,
          -6.415918350219727,
          -5.491629123687744,
          -2.344740390777588,
          -3.133085012435913,
          -2.8020243644714355,
          -0.027178602293133736,
          3.1590402126312256,
          3.1631736755371094,
          6.186074733734131,
          -4.094514846801758,
          2.3192362785339355,
          1.8694279193878174,
          1.0867481231689453,
          -0.30635741353034973,
          2.2889535427093506,
          -2.371830463409424,
          -2.2382194995880127,
          -3.2733426094055176,
          -5.600552558898926,
          -0.8200466632843018,
          -0.3240756392478943,
          -0.10001368075609207,
          2.3933939933776855,
          3.712007522583008,
          -1.8286528587341309,
          5.013198375701904,
          2.3383774757385254,
          1.4028745889663696,
          -5.271015167236328,
          2.527758836746216,
          -1.1375445127487183,
          4.701694011688232,
          2.8814237117767334,
          0.45049160718917847,
          4.0989670753479,
          -1.4411590099334717,
          -2.4203994274139404,
          2.393941640853882,
          4.00077486038208,
          -4.558628559112549,
          -2.769292116165161,
          -0.7559514045715332,
          4.779869079589844,
          -2.084331750869751,
          1.2159147262573242,
          6.025625705718994,
          2.6571695804595947,
          2.4005825519561768,
          1.0084658861160278,
          2.970890760421753,
          1.5258535146713257,
          3.0732614994049072,
          0.1694074124097824,
          -0.7141136527061462,
          -6.275523662567139,
          -1.4804058074951172,
          4.609230041503906,
          -0.9390074014663696,
          4.986681938171387,
          3.7569220066070557,
          -1.6496256589889526,
          0.19691112637519836,
          1.322579026222229,
          0.2544095516204834,
          2.7776830196380615,
          -4.551286220550537,
          -0.05259161442518234,
          2.749786615371704,
          0.7104453444480896,
          1.2872428894042969,
          -5.405928134918213,
          -0.18366803228855133,
          6.494339942932129,
          -5.470757961273193,
          1.7180520296096802,
          0.7261785268783569,
          4.9299397468566895,
          3.845781087875366,
          4.4334564208984375,
          -1.5771586894989014,
          -4.953007221221924,
          -0.3658393323421478,
          3.995387315750122,
          -0.420773446559906,
          2.7446095943450928,
          4.847365379333496,
          4.257199287414551,
          3.711263418197632,
          -0.15211457014083862,
          -2.3832144737243652,
          1.6401525735855103,
          -0.47671207785606384,
          -3.0394797325134277,
          1.896069049835205,
          4.8507232666015625,
          4.4296135902404785,
          -2.88150691986084,
          2.171893358230591,
          2.476655960083008,
          1.1834895610809326,
          -0.2887510657310486,
          2.7221570014953613,
          -3.870363235473633,
          0.04973484203219414,
          -1.8124905824661255,
          -0.21562620997428894,
          -4.940179347991943,
          -6.508572101593018,
          -0.04882592335343361,
          4.176917552947998,
          -4.421774387359619,
          0.19631831347942352,
          1.5814836025238037,
          0.03352029249072075,
          -5.397176265716553,
          -0.7634833455085754,
          0.9390089511871338,
          -0.7743693590164185,
          2.2792117595672607,
          5.7364583015441895,
          3.6288180351257324,
          1.9344723224639893,
          2.8767642974853516,
          -3.999462842941284,
          4.481636047363281,
          0.4130215048789978,
          2.364163637161255,
          -4.979209899902344,
          -1.375540852546692,
          -5.657201766967773,
          -10.661630630493164,
          -5.56226921081543,
          3.035508871078491,
          -5.377588748931885,
          -4.09220552444458,
          -1.8712332248687744,
          1.6715357303619385,
          5.664034843444824,
          -2.099785566329956,
          4.739185810089111,
          2.3053390979766846,
          4.303455352783203,
          3.472470760345459,
          0.19006817042827606,
          1.248547077178955,
          2.73010516166687,
          3.227055311203003,
          2.988884687423706,
          -1.7944302558898926,
          2.114896774291992,
          0.0817253589630127,
          2.934164524078369,
          -0.7743712067604065,
          1.3253633975982666,
          3.6242055892944336,
          4.570974826812744,
          3.0702216625213623,
          -2.3751931190490723,
          -11.524874687194824,
          0.5056678652763367,
          -6.128325462341309,
          -10.65770149230957,
          2.7071285247802734,
          0.008184418082237244,
          -1.2050461769104004,
          0.8863413333892822,
          -2.242344379425049,
          -1.327439785003662,
          3.7294793128967285,
          3.117185115814209,
          6.761829853057861,
          -1.5075042247772217,
          -1.346643090248108,
          -1.280525803565979,
          3.6975226402282715,
          1.9830762147903442,
          1.7205755710601807,
          4.744211673736572,
          -0.5794445872306824,
          1.699453353881836,
          3.1503748893737793,
          -5.1291937828063965,
          3.765049934387207,
          -4.2840189933776855,
          1.1826003789901733,
          0.8267784714698792,
          -3.244832992553711,
          -0.5926465392112732,
          1.0805296897888184,
          4.690642833709717,
          0.0705796331167221,
          0.801053524017334,
          4.197595596313477,
          -4.783849239349365,
          4.706132411956787,
          -11.516326904296875,
          4.685019016265869,
          -2.1445322036743164,
          1.8342331647872925,
          -0.46938470005989075,
          4.623110294342041,
          6.25142765045166,
          2.0071680545806885,
          -2.7414889335632324,
          2.3891236782073975,
          1.4730950593948364,
          3.776825189590454,
          1.3296719789505005,
          2.907102584838867,
          -3.6308491230010986,
          -1.2208635807037354,
          1.89694344997406,
          -1.3191349506378174,
          1.5358885526657104,
          -4.393792152404785,
          0.07490618526935577,
          4.433815956115723,
          -11.005717277526855,
          4.131533145904541,
          3.342076301574707,
          -8.84360408782959,
          4.102401256561279,
          -2.3426084518432617,
          -6.602761268615723,
          -1.8875083923339844,
          0.38514381647109985,
          3.684661626815796,
          0.8873512148857117,
          3.3591561317443848,
          4.499171257019043,
          4.147419452667236,
          -1.2083641290664673,
          4.066871166229248,
          4.298495292663574,
          3.3315606117248535,
          1.5783185958862305,
          2.1406543254852295,
          -1.9387706518173218,
          1.052639365196228,
          -10.540068626403809,
          -5.804820537567139,
          4.881124973297119,
          0.18770679831504822,
          4.4334564208984375,
          -2.373026132583618,
          -1.2844618558883667,
          -4.815077781677246,
          -2.4911229610443115,
          -0.317118376493454,
          -4.549912452697754,
          -0.8594291806221008,
          0.8734753727912903,
          -10.634964942932129,
          1.8561979532241821,
          -1.066123127937317,
          -0.5644555687904358,
          -0.9015110731124878,
          -0.32989612221717834,
          -4.140686511993408,
          -6.6678314208984375,
          -0.20799872279167175,
          3.633165121078491,
          -2.761528730392456,
          -5.689476013183594,
          -11.0270414352417,
          2.0914876461029053,
          -6.175765514373779,
          -5.04506254196167,
          0.611301600933075,
          4.655710697174072,
          4.630512714385986,
          3.1279797554016113,
          -4.111546039581299,
          -0.6030160188674927,
          0.11794779449701309,
          4.4430670738220215,
          3.0470521450042725,
          4.008450508117676,
          -2.3137001991271973,
          3.619300603866577,
          0.81093430519104,
          -0.5951157808303833,
          4.540772438049316,
          1.5963425636291504,
          3.771700620651245,
          0.8131614327430725,
          -0.12709134817123413,
          -10.72870922088623,
          -3.246713399887085,
          3.7345993518829346,
          5.731317520141602,
          0.9774109125137329,
          2.3863773345947266,
          0.6101399660110474,
          1.8604086637496948,
          -1.4175037145614624,
          2.148275852203369,
          0.7307615876197815,
          3.1073813438415527,
          -1.3407713174819946,
          0.7752050757408142,
          1.973435401916504,
          -3.4932913780212402,
          1.6212745904922485,
          0.7693714499473572,
          3.4898784160614014,
          -6.549724578857422,
          3.1865570545196533,
          3.0921895503997803,
          4.693020343780518,
          5.986913204193115,
          4.877028465270996,
          3.3006036281585693,
          5.328935623168945,
          4.668696403503418,
          1.9636716842651367,
          0.9557973742485046,
          -5.793814659118652,
          -5.45054817199707,
          -11.46800708770752,
          4.169631481170654,
          2.490000009536743,
          -5.292078018188477,
          -1.0597127676010132,
          -3.1747868061065674,
          -5.618612289428711,
          -3.1367011070251465,
          1.7577217817306519,
          2.7441940307617188,
          2.0449492931365967,
          -1.4381937980651855,
          -2.6411235332489014,
          2.0378193855285645,
          2.5897271633148193,
          -2.0580055713653564,
          3.928549289703369,
          -1.539796233177185,
          -1.403547763824463,
          -6.178168296813965,
          -6.3924784660339355,
          4.68817663192749,
          5.9890031814575195,
          1.3407810926437378,
          -7.105039596557617,
          0.3326941132545471,
          1.3354980945587158,
          2.0383572578430176,
          4.892364978790283,
          0.4778605103492737,
          3.5773000717163086,
          -0.004365573171526194,
          4.665449142456055,
          1.2551995515823364,
          -3.094935417175293,
          -0.7986972332000732,
          -1.285667061805725,
          -1.2599276304244995,
          1.6140024662017822,
          0.8454893231391907,
          3.3385121822357178,
          -2.4233484268188477,
          -0.2571695148944855,
          0.9495917558670044,
          -0.5039874911308289,
          3.3278093338012695,
          -0.6787109971046448,
          -0.7738986015319824,
          -3.9079067707061768,
          -9.987536430358887,
          -0.2169908732175827,
          7.130064010620117,
          1.855311393737793,
          3.730473518371582,
          4.101325511932373,
          4.6512322425842285,
          -4.743048667907715,
          3.715388536453247,
          -4.248500823974609,
          -3.2183611392974854,
          2.670654058456421,
          1.8147035837173462,
          -10.763270378112793,
          -1.0078818798065186,
          0.3691941797733307,
          4.516067028045654,
          4.7978715896606445,
          -1.1552799940109253,
          -4.535482883453369,
          0.38248738646507263,
          1.363542914390564,
          -1.3246302604675293,
          -2.3569118976593018,
          4.436254978179932,
          2.8577466011047363,
          -2.4900500774383545,
          1.4107705354690552,
          -4.988771438598633,
          4.810041904449463,
          4.970405578613281,
          -1.8263968229293823,
          -2.875971555709839,
          2.0302886962890625,
          3.832700490951538,
          0.6965951323509216,
          2.4784109592437744,
          1.8685158491134644,
          3.882103443145752,
          -3.8623971939086914,
          -0.3269232213497162,
          0.9125293493270874,
          4.075821876525879,
          -2.3083341121673584,
          2.4072399139404297,
          4.651662349700928,
          2.013770341873169,
          1.1931474208831787,
          1.3575701713562012,
          -5.502930641174316,
          -0.31719091534614563,
          0.27166053652763367,
          -10.282899856567383,
          -2.839409828186035,
          4.108880519866943,
          0.005411006044596434,
          3.5735702514648438,
          -10.36784839630127,
          4.768773078918457,
          2.6467950344085693,
          4.267763137817383,
          -1.9053417444229126,
          5.751893043518066,
          -0.029313232749700546,
          1.4937800168991089,
          6.166172027587891,
          3.763056993484497,
          2.6239984035491943,
          4.340949058532715,
          1.5842636823654175,
          -1.7072069644927979,
          -0.18513232469558716,
          1.0098168849945068,
          5.253270626068115,
          4.129206657409668,
          -2.08767032623291,
          5.415007591247559,
          2.308425188064575,
          -0.26525548100471497,
          -2.068166971206665,
          1.6822706460952759,
          4.19795560836792,
          -4.972145080566406,
          3.4210283756256104,
          3.7797625064849854,
          2.3867340087890625,
          1.8792650699615479,
          4.941202640533447,
          6.253366947174072,
          -10.273401260375977,
          1.4914710521697998,
          3.9431071281433105,
          4.343983173370361,
          -1.6708567142486572,
          4.121306419372559,
          0.9627538919448853,
          3.327083110809326,
          2.271522283554077,
          4.913288116455078,
          4.615235328674316,
          -0.03844621032476425,
          4.74461555480957,
          -0.8423478603363037,
          2.2069320678710938,
          -0.7825231552124023,
          3.2147858142852783,
          -4.917811870574951,
          -7.168567657470703,
          0.07435878366231918,
          1.1150786876678467,
          -6.079342842102051,
          2.4671735763549805,
          0.9694021344184875,
          2.3372652530670166,
          5.056548118591309,
          -0.6773978471755981,
          4.795441150665283,
          -0.5142570734024048,
          3.7340872287750244,
          -0.08048288524150848,
          2.6230459213256836,
          3.8437232971191406,
          3.854329824447632,
          2.195629119873047,
          2.3343610763549805,
          -1.2287285327911377,
          3.827397584915161,
          4.872249126434326,
          3.4023027420043945,
          2.6458933353424072,
          2.829561948776245,
          2.909965753555298,
          1.8055260181427002,
          -5.367336273193359,
          -3.1322193145751953,
          -0.17615339159965515,
          0.6488044857978821,
          -11.02807331085205,
          -1.6406171321868896,
          3.2462871074676514,
          -3.417238712310791,
          0.38340967893600464,
          2.937781572341919,
          3.9089155197143555,
          4.058708667755127,
          -10.224628448486328,
          1.4255421161651611,
          2.3772170543670654,
          0.8958585858345032,
          0.022542430087924004,
          -0.7729371190071106,
          -1.252394437789917,
          2.6800875663757324,
          1.6070553064346313,
          2.4066321849823,
          -0.13154011964797974,
          0.9311923384666443,
          -4.5162529945373535,
          6.260356426239014,
          1.5452158451080322,
          3.170604944229126,
          -2.054029703140259,
          4.701204299926758,
          4.364882469177246,
          -0.737069308757782,
          -0.31312912702560425,
          2.1917243003845215,
          3.2111105918884277,
          2.379349946975708,
          0.8996769189834595,
          3.8736908435821533,
          1.496849775314331,
          4.523629188537598,
          1.5788837671279907,
          0.4573962390422821,
          0.6271694302558899,
          -4.768369674682617,
          1.0299041271209717,
          -10.578228950500488,
          6.214536190032959,
          -3.768683671951294,
          4.690664768218994,
          -3.0973892211914062,
          3.2493643760681152,
          -1.4026057720184326,
          -0.3425963819026947,
          2.754685401916504,
          -0.42281273007392883,
          -1.8763220310211182,
          1.5019418001174927,
          2.17722225189209,
          -0.9234785437583923,
          -5.963656425476074,
          2.6113967895507812,
          -2.5854697227478027,
          -6.960479736328125,
          3.604266881942749,
          1.1349883079528809,
          -2.2617969512939453,
          5.182887077331543,
          -1.3545233011245728,
          -3.093579053878784,
          4.520445346832275,
          2.8832144737243652,
          4.786812782287598,
          -2.6111671924591064,
          3.953425407409668,
          3.3649075031280518,
          4.944571495056152,
          -0.4839162528514862,
          1.833797812461853,
          2.61023211479187,
          -3.76769757270813,
          5.553708553314209,
          1.4075435400009155,
          2.394317626953125,
          -0.4421415328979492,
          -1.8280428647994995,
          1.0917303562164307,
          1.005321979522705,
          1.8199726343154907,
          1.4149750471115112,
          1.9393917322158813,
          2.4018166065216064,
          -6.216872215270996,
          -4.690497875213623,
          5.329237461090088,
          0.18613749742507935,
          3.8213648796081543,
          -6.3052659034729,
          -2.1923654079437256,
          1.3135052919387817,
          1.8945070505142212,
          1.7499713897705078,
          -0.605266273021698,
          3.5831947326660156,
          -0.3162645399570465,
          -2.2865257263183594,
          3.815081834793091,
          0.7335308790206909,
          -2.4435203075408936,
          0.9884768724441528,
          3.449631690979004,
          -0.7951902747154236,
          6.279806613922119,
          3.022233009338379,
          0.6344212889671326,
          0.19135726988315582,
          -2.0260987281799316,
          2.719599485397339,
          3.942779779434204,
          -1.66824209690094,
          2.7198262214660645,
          -2.6518239974975586,
          -1.3513823747634888,
          4.416064739227295,
          2.7021005153656006,
          -1.2954540252685547,
          1.3649338483810425,
          -3.632885456085205,
          6.034659385681152,
          -0.8292376399040222,
          2.9267144203186035,
          -2.6810951232910156,
          4.193642616271973,
          -2.492976188659668,
          -2.41276216506958,
          -0.46012943983078003,
          -3.2341041564941406,
          0.6003350615501404,
          -5.1295976638793945,
          -6.484558582305908,
          -1.6199393272399902,
          4.8396453857421875,
          -11.125570297241211,
          2.0929155349731445,
          1.6784878969192505,
          4.486145496368408,
          3.844059944152832,
          2.367421865463257,
          -4.628823280334473,
          -3.09478497505188,
          2.018868923187256,
          4.660633563995361,
          4.515008926391602,
          -3.4570674896240234,
          5.558098316192627,
          5.628268241882324,
          1.109044075012207,
          4.548928737640381,
          4.651160717010498,
          1.5920131206512451,
          3.639775276184082,
          4.761007785797119,
          4.687398910522461,
          2.0895471572875977,
          -2.0111911296844482,
          -2.7588326930999756,
          1.7864861488342285,
          3.886303663253784,
          5.072786808013916,
          -2.9530086517333984,
          -7.09037971496582,
          2.83027982711792,
          4.236236095428467,
          -2.8489198684692383,
          1.6287717819213867,
          -5.610804557800293,
          -2.8969829082489014,
          -6.121336460113525,
          4.018324375152588,
          2.3882598876953125,
          -4.158993721008301,
          -3.167750120162964,
          -3.0562546253204346,
          -0.33613163232803345,
          -1.456636667251587,
          -2.451052665710449,
          2.83345627784729,
          -0.37026309967041016,
          4.179319858551025,
          1.1049519777297974,
          -0.7143585681915283,
          -2.5965781211853027,
          1.3785345554351807,
          -10.444634437561035,
          0.506316065788269,
          1.7933340072631836,
          4.921788215637207,
          -4.250036239624023,
          4.651222229003906,
          -1.1955585479736328,
          0.7338975667953491,
          1.675696611404419,
          -0.48381587862968445,
          -1.5988582372665405,
          -0.14816372096538544,
          0.4802882969379425,
          -4.39762020111084,
          2.9000022411346436,
          2.6438353061676025,
          3.0974864959716797,
          2.380944013595581,
          4.3038010597229,
          4.543123245239258,
          2.561450242996216,
          -0.3801214098930359,
          1.0571749210357666,
          5.678493976593018,
          5.390681266784668,
          2.208540916442871,
          1.3487271070480347,
          2.7209229469299316,
          2.0924861431121826,
          4.9320831298828125,
          0.0665871724486351,
          -5.163182735443115,
          -3.463472604751587,
          -3.093613862991333,
          -1.1090261936187744,
          -7.665453910827637,
          -3.323499917984009,
          -0.752098798751831,
          4.80909538269043,
          3.6461074352264404,
          4.757348537445068,
          -10.75302791595459,
          1.4937598705291748,
          4.421074867248535,
          -1.2415149211883545,
          -3.1721866130828857,
          -0.7429304122924805,
          1.9204802513122559,
          5.285916805267334,
          1.6805516481399536,
          -2.6324846744537354,
          4.128570556640625,
          -10.402968406677246,
          2.5431172847747803,
          4.295934200286865,
          1.0050023794174194,
          -4.425137996673584,
          4.446044445037842,
          4.857551574707031,
          4.896174907684326,
          0.7104409337043762,
          1.5837830305099487,
          4.061541557312012,
          -2.056274175643921,
          -2.8990700244903564,
          2.926055908203125,
          -2.142185926437378,
          4.238966464996338,
          -1.2812237739562988,
          0.6378859281539917,
          3.160916328430176,
          -0.7736790180206299,
          1.0506876707077026,
          3.8854739665985107,
          -2.9337995052337646,
          -4.911698818206787,
          4.177854537963867,
          -3.335017442703247,
          5.127215385437012,
          5.116622447967529,
          1.3408470153808594,
          -0.9204355478286743,
          -3.0398919582366943,
          -5.454547882080078,
          1.7491599321365356,
          -1.6389224529266357,
          0.5465998649597168,
          -1.9485218524932861,
          0.11381033807992935,
          1.7584971189498901,
          2.39477801322937,
          0.08582592010498047,
          -3.043834924697876,
          -4.802032470703125,
          5.536217212677002,
          5.065791606903076,
          -10.760791778564453,
          -5.388060092926025,
          -4.584765434265137,
          4.414567947387695,
          -4.468534469604492,
          -5.109821796417236,
          1.8600969314575195,
          -4.770593166351318,
          0.5666511058807373,
          -1.2850276231765747,
          4.142894268035889,
          -0.7973533272743225,
          3.297945499420166,
          4.791003704071045,
          -0.7178566455841064,
          -0.2398027628660202
         ],
         "y": [
          1.6972533464431763,
          0.09057255834341049,
          5.562514305114746,
          -0.5977791547775269,
          0.7290340065956116,
          0.6214529871940613,
          -0.5357822775840759,
          8.098335266113281,
          3.3577935695648193,
          -7.359629154205322,
          -0.5253311395645142,
          -5.294454574584961,
          6.706044673919678,
          -2.906954526901245,
          -7.6901655197143555,
          4.364193916320801,
          -2.0985944271087646,
          -0.158321350812912,
          -0.5184650421142578,
          8.404428482055664,
          -8.904812812805176,
          4.97980260848999,
          -5.599588394165039,
          3.260776996612549,
          3.3411550521850586,
          1.0429116487503052,
          8.498982429504395,
          -1.9603590965270996,
          -0.4948580265045166,
          -0.26634708046913147,
          -8.252452850341797,
          0.7412723302841187,
          0.28174445033073425,
          0.5150743126869202,
          -3.030545234680176,
          -2.778900384902954,
          -6.903408050537109,
          -7.757518768310547,
          -2.4489283561706543,
          -2.8040835857391357,
          9.292071342468262,
          -8.174385070800781,
          4.698219299316406,
          3.261874198913574,
          0.017096199095249176,
          -3.5450072288513184,
          -3.7629525661468506,
          10.618634223937988,
          2.084413528442383,
          1.5028892755508423,
          -3.6168081760406494,
          -0.7836949229240417,
          -1.2254642248153687,
          -7.157318115234375,
          -4.006473064422607,
          7.965695858001709,
          2.82060170173645,
          1.3973489999771118,
          2.9047951698303223,
          -3.6073410511016846,
          -5.449295520782471,
          0.22023935616016388,
          0.9828699827194214,
          2.1391029357910156,
          -1.423214316368103,
          -5.028687953948975,
          -0.28361043334007263,
          0.8896295428276062,
          4.437290668487549,
          -3.453888177871704,
          -0.2957107424736023,
          -3.8177313804626465,
          8.988682746887207,
          -6.164760589599609,
          -7.36292028427124,
          8.482751846313477,
          -4.133991241455078,
          2.4022300243377686,
          -4.811185359954834,
          2.249894380569458,
          -2.032757043838501,
          -3.5774080753326416,
          -3.751371383666992,
          -7.6822004318237305,
          0.16436384618282318,
          1.855998158454895,
          9.743142127990723,
          7.281857967376709,
          3.6040830612182617,
          3.3867058753967285,
          -1.1483715772628784,
          3.324052572250366,
          6.819637775421143,
          -3.0231404304504395,
          1.9990874528884888,
          -4.889777660369873,
          5.274004936218262,
          -2.6511240005493164,
          3.6920039653778076,
          -7.134341239929199,
          -8.163848876953125,
          -6.423823833465576,
          -6.34232759475708,
          1.172520637512207,
          1.3547909259796143,
          4.058530330657959,
          10.147174835205078,
          -4.028395652770996,
          4.234280586242676,
          -3.0596694946289062,
          -1.9624963998794556,
          -2.792088031768799,
          -3.0473146438598633,
          6.725075721740723,
          3.125359535217285,
          -2.8535218238830566,
          -2.653538227081299,
          -8.429699897766113,
          1.854997158050537,
          -4.683363437652588,
          3.0943119525909424,
          -4.719088554382324,
          -3.8917036056518555,
          9.613161087036133,
          0.48868873715400696,
          6.9824113845825195,
          -1.7306692600250244,
          2.8603320121765137,
          -6.662639617919922,
          -4.957254409790039,
          5.996103763580322,
          3.5524179935455322,
          4.339441299438477,
          -4.870455265045166,
          1.7441518306732178,
          2.2984259128570557,
          -3.1237707138061523,
          -5.027188301086426,
          -3.1450157165527344,
          -9.167319297790527,
          4.05598783493042,
          -3.5715749263763428,
          5.151459217071533,
          -6.767130374908447,
          -2.5959672927856445,
          3.0682973861694336,
          -4.938754558563232,
          -1.2670928239822388,
          -2.428678035736084,
          -3.3571865558624268,
          -7.434761047363281,
          -2.9584360122680664,
          6.034032821655273,
          -0.39163851737976074,
          1.7430239915847778,
          -6.962316513061523,
          -0.6647188663482666,
          -6.306461811065674,
          -1.039584755897522,
          -1.7338132858276367,
          -2.6792314052581787,
          4.615372180938721,
          -2.929272174835205,
          7.726646900177002,
          -4.859475612640381,
          -8.462881088256836,
          6.54247522354126,
          -2.9232351779937744,
          -7.398036003112793,
          -1.546444058418274,
          -3.4522416591644287,
          -7.137351989746094,
          4.562013626098633,
          -3.3359649181365967,
          -3.060603618621826,
          -2.817120313644409,
          5.231226921081543,
          1.1045351028442383,
          8.804767608642578,
          3.5129857063293457,
          0.05598406121134758,
          3.4867398738861084,
          11.034552574157715,
          5.396031856536865,
          -3.298300266265869,
          -2.6565072536468506,
          -0.8922311067581177,
          0.2412394881248474,
          -8.348851203918457,
          0.8046813607215881,
          6.591691017150879,
          -7.467398166656494,
          -8.375609397888184,
          -4.709464073181152,
          7.820560932159424,
          7.762366771697998,
          3.2137033939361572,
          -1.5688996315002441,
          -1.6834601163864136,
          -3.0054359436035156,
          -2.9781405925750732,
          -1.4153096675872803,
          -9.09876823425293,
          -3.949354410171509,
          1.921752691268921,
          -3.0857295989990234,
          -2.7994115352630615,
          -6.534896373748779,
          -6.9849934577941895,
          2.670711040496826,
          -7.446224689483643,
          -3.031604528427124,
          -3.584092140197754,
          1.942760705947876,
          -6.357808589935303,
          -3.8020331859588623,
          0.143999382853508,
          3.1688549518585205,
          3.9083733558654785,
          6.936246395111084,
          9.759443283081055,
          -2.4741132259368896,
          -2.0478098392486572,
          0.7693087458610535,
          0.2947254180908203,
          1.7745156288146973,
          -2.7711400985717773,
          -4.30824089050293,
          -0.33431145548820496,
          -2.9372189044952393,
          8.319329261779785,
          1.860479712486267,
          -0.10777660459280014,
          -3.0388669967651367,
          -7.440204620361328,
          -6.429551601409912,
          -3.5594475269317627,
          5.64372444152832,
          0.5265935659408569,
          2.875990152359009,
          -5.707569122314453,
          2.355855941772461,
          -1.4305291175842285,
          -7.431768894195557,
          -2.5980653762817383,
          3.043567180633545,
          -0.4427136480808258,
          1.3811792135238647,
          -5.911836624145508,
          -2.5976574420928955,
          2.9063544273376465,
          -1.5879755020141602,
          -0.22828511893749237,
          -3.0116772651672363,
          10.568525314331055,
          -0.9006613492965698,
          -2.671005964279175,
          1.632409691810608,
          7.6670660972595215,
          -2.401249885559082,
          -7.7357072830200195,
          8.522451400756836,
          -4.603155612945557,
          -3.701761245727539,
          -5.956966400146484,
          -3.7792952060699463,
          -2.695722818374634,
          -0.563850462436676,
          2.381237745285034,
          -0.8311111927032471,
          3.535886526107788,
          -5.030797481536865,
          -5.160039901733398,
          -6.623597145080566,
          1.9610120058059692,
          0.14796333014965057,
          -2.3646581172943115,
          6.915846347808838,
          3.044287919998169,
          -3.3596713542938232,
          10.199568748474121,
          -4.321794509887695,
          9.165165901184082,
          2.947383165359497,
          -1.4439114332199097,
          -1.8269973993301392,
          -7.2440876960754395,
          -1.470849871635437,
          -0.724368155002594,
          4.6522064208984375,
          -1.1956034898757935,
          6.101069450378418,
          2.7259082794189453,
          -8.626910209655762,
          -0.8009436130523682,
          7.675745964050293,
          4.064250469207764,
          -4.267595291137695,
          -3.4243593215942383,
          -5.134941577911377,
          -0.9532738924026489,
          2.0132486820220947,
          -2.433253765106201,
          -8.383423805236816,
          0.4994065761566162,
          -3.733848810195923,
          10.941509246826172,
          -5.411407947540283,
          -4.594518661499023,
          -7.653644561767578,
          -7.477351188659668,
          6.5887908935546875,
          -6.6604437828063965,
          -4.947765350341797,
          -7.962067127227783,
          -4.352085590362549,
          8.80405044555664,
          7.989884853363037,
          1.081403136253357,
          -1.0044474601745605,
          1.9678024053573608,
          -1.1123143434524536,
          1.7112672328948975,
          -6.645101070404053,
          -7.617934703826904,
          1.5463364124298096,
          -3.758986234664917,
          -2.122201442718506,
          -0.7488163709640503,
          6.049154281616211,
          6.123128890991211,
          -5.684303283691406,
          8.59427261352539,
          5.481788635253906,
          1.6664801836013794,
          -2.2811999320983887,
          -2.0800912380218506,
          -9.142908096313477,
          -1.4625990390777588,
          7.943657398223877,
          1.4959882497787476,
          4.6823883056640625,
          -7.139939308166504,
          8.804767608642578,
          -2.7136781215667725,
          -6.6444926261901855,
          0.09468702971935272,
          -2.7633469104766846,
          5.390422821044922,
          -7.964353084564209,
          -6.430697441101074,
          -4.246312618255615,
          8.202467918395996,
          -1.3261008262634277,
          -4.696699142456055,
          -6.006948471069336,
          -6.983056545257568,
          -4.41483211517334,
          -7.241701602935791,
          -6.862847328186035,
          3.3403735160827637,
          2.1094446182250977,
          -8.261602401733398,
          0.7934084534645081,
          8.112080574035645,
          -1.5956027507781982,
          -0.2551271319389343,
          -8.343372344970703,
          2.3463919162750244,
          3.259491443634033,
          7.441892623901367,
          -4.404714107513428,
          -7.462366580963135,
          1.6584193706512451,
          -6.732714653015137,
          -0.10158395767211914,
          -0.5668426752090454,
          0.1247549057006836,
          -6.25581693649292,
          9.774605751037598,
          -2.2250211238861084,
          5.164323329925537,
          2.699636459350586,
          -0.9231474995613098,
          1.9904762506484985,
          -2.6590523719787598,
          -1.7015680074691772,
          7.870053768157959,
          2.8268089294433594,
          2.2890968322753906,
          6.947979927062988,
          -3.815922975540161,
          5.715403079986572,
          -4.158156394958496,
          2.897040843963623,
          -6.657149791717529,
          2.1580302715301514,
          -3.1701178550720215,
          -0.43388301134109497,
          -6.7612690925598145,
          -2.5254781246185303,
          3.140683889389038,
          -6.760478973388672,
          -3.1386899948120117,
          4.498296737670898,
          0.9460827112197876,
          -1.102959156036377,
          -3.2050201892852783,
          9.95560359954834,
          4.116301536560059,
          2.2853591442108154,
          4.418202877044678,
          2.490884780883789,
          0.6236303448677063,
          -2.524873733520508,
          -0.5114133954048157,
          -0.8022196888923645,
          -8.348694801330566,
          -6.949169158935547,
          7.698338508605957,
          1.7032058238983154,
          0.776862382888794,
          -6.7466254234313965,
          -2.8218226432800293,
          6.763848304748535,
          -8.948068618774414,
          1.7810754776000977,
          -0.21538054943084717,
          -1.421358585357666,
          -3.385526418685913,
          -5.5599565505981445,
          -6.752403736114502,
          -3.625678062438965,
          8.040352821350098,
          -3.5243442058563232,
          6.289947509765625,
          -7.649344444274902,
          -6.802689552307129,
          -2.7899935245513916,
          -7.807403087615967,
          2.291153907775879,
          3.3691964149475098,
          1.9765608310699463,
          -7.6591339111328125,
          -9.269829750061035,
          -1.6429849863052368,
          -1.9798866510391235,
          -0.483281672000885,
          -3.9208426475524902,
          9.111186981201172,
          -4.6878743171691895,
          0.5426946878433228,
          -3.1746222972869873,
          1.742512583732605,
          -2.8917315006256104,
          -8.16420841217041,
          -7.293372631072998,
          -3.435432195663452,
          -4.121514320373535,
          -3.470669984817505,
          -9.128634452819824,
          -1.763578176498413,
          6.0140557289123535,
          3.1358237266540527,
          -0.29161110520362854,
          1.3796963691711426,
          -6.8824968338012695,
          -8.444567680358887,
          1.5506775379180908,
          -3.658095359802246,
          4.062280654907227,
          -3.6189656257629395,
          10.167881965637207,
          11.053630828857422,
          8.560667037963867,
          -9.318633079528809,
          -1.7011277675628662,
          -7.604447364807129,
          -6.243600368499756,
          -2.926445722579956,
          5.754655361175537,
          8.409534454345703,
          -7.489320755004883,
          -6.501668930053711,
          2.908332109451294,
          -3.9979100227355957,
          -5.639214515686035,
          -6.641992092132568,
          -3.5844993591308594,
          4.406674861907959,
          -7.307037830352783,
          -5.303804874420166,
          9.514335632324219,
          4.06841516494751,
          2.43772292137146,
          -4.347033977508545,
          -8.07689094543457,
          1.2418173551559448,
          -0.5083107352256775,
          6.563387870788574,
          3.6141345500946045,
          -3.2546520233154297,
          1.8293136358261108,
          -4.894484519958496,
          -5.987030506134033,
          3.2172985076904297,
          2.166551351547241,
          0.3130286931991577,
          -1.3465969562530518,
          -5.558672904968262,
          5.700438976287842,
          1.5848188400268555,
          -2.447477340698242,
          -3.97750186920166,
          7.528725624084473,
          0.16646690666675568,
          -0.15318484604358673,
          -0.2148851752281189,
          -1.2318940162658691,
          -2.7925095558166504,
          8.368395805358887,
          -5.048949241638184,
          -3.3034827709198,
          -5.023153781890869,
          6.3386101722717285,
          8.193192481994629,
          -0.5830047726631165,
          -5.312403678894043,
          7.37305212020874,
          -7.019617557525635,
          3.384148597717285,
          -7.9881720542907715,
          3.3892123699188232,
          1.4220272302627563,
          -0.6539658904075623,
          0.3608371615409851,
          3.472050189971924,
          -8.180150032043457,
          -8.959990501403809,
          -6.920472145080566,
          4.449955940246582,
          0.6629793047904968,
          4.796821117401123,
          0.3451465368270874,
          3.047283172607422,
          -0.49727997183799744,
          -1.322222113609314,
          0.4838463366031647,
          -2.630824327468872,
          -2.484889268875122,
          -8.176310539245605,
          -1.1143351793289185,
          9.061100959777832,
          -5.461207866668701,
          -2.1249120235443115,
          2.5072364807128906,
          2.5100114345550537,
          8.213011741638184,
          -0.6967012882232666,
          1.7793792486190796,
          -2.7040152549743652,
          -7.084592819213867,
          6.15437650680542,
          5.928904056549072,
          -3.082467555999756,
          2.344715118408203,
          1.03589928150177,
          8.07321548461914,
          -2.662114381790161,
          8.934502601623535,
          3.243680238723755,
          -5.399417877197266,
          -5.830605983734131,
          -0.3647609055042267,
          -8.230489730834961,
          -7.608641624450684,
          -1.9069809913635254,
          3.6343166828155518,
          -0.2523784637451172,
          -5.760764122009277,
          4.519723415374756,
          -5.791107177734375,
          3.2541959285736084,
          -5.996448993682861,
          -4.023118495941162,
          -0.5180213451385498,
          0.6948897838592529,
          5.938136100769043,
          3.410121202468872,
          9.29798412322998,
          2.159116268157959,
          -2.0184743404388428,
          2.89504075050354,
          2.958129405975342,
          1.4560693502426147,
          2.423063278198242,
          -0.04620547220110893,
          -5.510979175567627,
          3.3183765411376953,
          2.9839673042297363,
          -2.3273956775665283,
          -0.16252855956554413,
          -8.32811164855957,
          -3.181185245513916,
          -8.499967575073242,
          7.959085464477539,
          -6.7455244064331055,
          -1.3237190246582031,
          2.5856716632843018,
          -3.6868226528167725,
          7.61702299118042,
          -1.0882316827774048,
          1.3810679912567139,
          8.355448722839355,
          -3.9702134132385254,
          -4.660329818725586,
          0.13836488127708435,
          -1.7725324630737305,
          -0.6167334914207458,
          4.7914652824401855,
          -1.263568639755249,
          -2.083562135696411,
          1.0958456993103027,
          -8.14476203918457,
          5.523255825042725,
          -7.172640800476074,
          2.8586103916168213,
          -2.7933144569396973,
          -0.65272057056427,
          -8.067502975463867,
          -1.1855945587158203,
          3.331022024154663,
          -0.345986932516098,
          -1.0792478322982788,
          -5.889431476593018,
          0.45338279008865356,
          -4.78037166595459,
          -3.915454864501953,
          1.572278618812561,
          -2.258256673812866,
          -2.2177023887634277,
          -1.828664779663086,
          7.670709133148193,
          -2.6243715286254883,
          -0.37278929352760315,
          2.4398622512817383,
          8.462798118591309,
          3.770158529281616,
          -5.850796699523926,
          0.47000908851623535,
          3.129484176635742,
          2.672697067260742,
          2.907672882080078,
          -4.64400053024292,
          -3.091571569442749,
          -7.367535591125488,
          -7.796818733215332,
          -1.398019552230835,
          -3.42678165435791,
          -4.590190410614014,
          1.0981123447418213,
          -3.1888372898101807,
          -2.824254035949707,
          4.246368885040283,
          -0.06206425279378891,
          -4.877498149871826,
          -9.211077690124512,
          2.691774845123291,
          -7.181210517883301,
          -6.911835670471191,
          1.2016741037368774,
          -3.2177722454071045,
          -0.6154291033744812,
          -4.145565032958984,
          6.470170974731445,
          -3.9676859378814697,
          4.814240455627441,
          -4.277667999267578,
          -2.965848922729492,
          5.568221092224121,
          -7.848903179168701,
          6.5857930183410645,
          3.2158782482147217,
          -2.5517725944519043,
          -5.971678733825684,
          -4.505821704864502,
          -3.6219420433044434,
          -2.068502187728882,
          2.9428322315216064,
          -3.0355727672576904,
          5.718417644500732,
          -2.1577789783477783,
          0.5998695492744446,
          0.12160929292440414,
          2.9058473110198975,
          5.675598621368408,
          8.503381729125977,
          -8.018075942993164,
          3.2313642501831055,
          2.0385942459106445,
          2.5126888751983643,
          -1.6994881629943848,
          5.590458869934082,
          2.8631417751312256,
          -5.423058986663818,
          1.7175716161727905,
          5.435944080352783,
          -3.067793607711792,
          -5.291978359222412,
          -0.7949413061141968,
          2.6262753009796143,
          -0.4512963891029358,
          2.987833261489868,
          -0.2017957717180252,
          2.238253355026245,
          -6.609644889831543,
          -7.376807689666748,
          -1.6905735731124878,
          2.030160903930664,
          -7.860856533050537,
          -0.3820071220397949,
          -2.734265089035034,
          -5.899707794189453,
          0.9726212620735168,
          1.1529277563095093,
          -6.5481767654418945,
          6.905812740325928,
          6.259570121765137,
          2.274738311767578,
          -2.7007575035095215,
          0.8672357201576233,
          -6.71347188949585,
          1.3596787452697754,
          -6.388498783111572,
          1.3886104822158813,
          -2.144296169281006,
          -8.115419387817383,
          0.4438066780567169,
          -8.456761360168457,
          -2.5124289989471436,
          -7.89169979095459,
          3.365058660507202,
          7.949240207672119,
          -2.644700527191162,
          -5.115541458129883,
          6.349656581878662,
          0.08159047365188599,
          7.751007556915283,
          0.13674555718898773,
          1.742511510848999,
          -0.8067035675048828,
          0.713780403137207,
          3.1696016788482666,
          -8.416051864624023,
          5.389499664306641,
          2.64540433883667,
          2.3904621601104736,
          1.8579695224761963,
          8.561675071716309,
          3.8390889167785645,
          9.5125150680542,
          3.431748628616333,
          3.188450336456299,
          -1.5725293159484863,
          0.43762874603271484,
          -5.64068078994751,
          6.194564342498779,
          0.5054919719696045,
          5.750622272491455,
          2.7423176765441895,
          -7.854940891265869,
          0.4890642464160919,
          4.005471229553223,
          3.085226058959961,
          -7.6369781494140625,
          -8.068291664123535,
          -6.997753620147705,
          -7.845005989074707,
          9.78734302520752,
          -2.0316267013549805,
          -6.517877578735352,
          0.19033442437648773,
          -8.500798225402832,
          -6.203944683074951,
          -5.957119464874268,
          -5.3476715087890625,
          5.929549694061279,
          -2.3899266719818115,
          0.5519099831581116,
          -1.7462936639785767,
          3.580007314682007,
          2.5662448406219482,
          -4.950923919677734,
          8.046653747558594,
          -7.044530391693115,
          -7.380556106567383,
          4.8307204246521,
          2.6532700061798096,
          8.560633659362793,
          4.728257179260254,
          7.929171562194824,
          0.016974493861198425,
          3.0848443508148193,
          -7.599941730499268,
          -8.333166122436523,
          5.781894207000732,
          -7.722120761871338,
          -3.264193534851074,
          -3.6088876724243164,
          0.6145654320716858,
          -1.486390233039856,
          1.3476412296295166,
          1.9857759475708008,
          0.8464433550834656,
          5.448462009429932,
          -1.7770954370498657,
          2.5577077865600586,
          3.4122865200042725,
          2.5760929584503174,
          -4.638487815856934,
          4.252110004425049,
          3.003277540206909,
          7.309615612030029,
          -6.18076229095459,
          -8.141027450561523,
          0.5023133158683777,
          1.1820404529571533,
          2.392773151397705,
          1.0727237462997437,
          0.49388930201530457,
          -6.547913074493408,
          6.1937761306762695,
          5.928445339202881,
          8.01762866973877,
          7.859724521636963,
          -7.872225284576416,
          0.045563191175460815,
          -7.206813335418701,
          -7.267359256744385,
          6.046139717102051,
          -2.489331007003784,
          -0.25097760558128357,
          -3.5516231060028076,
          -4.188797473907471,
          2.3018434047698975,
          8.106058120727539,
          -2.6221673488616943,
          2.7300620079040527,
          -2.182321548461914,
          -7.682124137878418,
          2.447571039199829,
          6.003226280212402,
          2.9686131477355957,
          -4.24967098236084,
          -2.093803882598877,
          0.3175815939903259,
          6.805464267730713,
          -2.7496726512908936,
          4.564391136169434,
          -6.755995273590088,
          5.454308032989502,
          4.633002758026123,
          7.8359479904174805,
          2.45605206489563,
          -5.557497978210449,
          -5.490839004516602,
          -1.4367082118988037,
          3.3894710540771484,
          -7.155945301055908,
          1.4139125347137451,
          -8.337263107299805,
          8.362635612487793,
          3.6297435760498047,
          -2.4234516620635986,
          -4.9743547439575195,
          -6.931265354156494,
          -5.8697123527526855,
          -0.7591856718063354,
          -0.02675457112491131,
          -3.495816230773926,
          -5.913048267364502,
          -1.6992771625518799,
          -0.34615281224250793,
          -0.6006481051445007,
          -4.655235767364502,
          -7.119073390960693,
          -8.556840896606445,
          -0.2437179833650589,
          3.5789523124694824,
          8.332345008850098,
          0.47467541694641113,
          -8.12145709991455,
          1.0950064659118652,
          -1.4243289232254028,
          -8.319377899169922,
          1.364696741104126,
          0.9524446129798889,
          5.7864460945129395,
          -6.7813591957092285,
          6.334531307220459,
          -7.2106523513793945,
          -1.3437719345092773,
          6.29537296295166,
          3.452113151550293,
          -5.080786228179932
         ],
         "z": [
          5.73198127746582,
          -2.5609476566314697,
          3.0238842964172363,
          0.9923850893974304,
          1.1200387477874756,
          -0.3311638832092285,
          -0.44021081924438477,
          -6.025810718536377,
          4.683080673217773,
          -0.8793867230415344,
          1.1291922330856323,
          -5.007739543914795,
          -0.5108064413070679,
          -1.0748920440673828,
          -0.8501116037368774,
          -0.30995896458625793,
          -4.181360721588135,
          -0.10837513953447342,
          1.2940553426742554,
          -0.4014686048030853,
          -2.9343979358673096,
          4.035720348358154,
          1.3940070867538452,
          1.5521050691604614,
          4.63066291809082,
          5.803460121154785,
          -6.18048620223999,
          1.5551468133926392,
          -0.49139404296875,
          -3.833601474761963,
          -3.5310373306274414,
          1.1657578945159912,
          -0.8903279900550842,
          -0.9792399406433105,
          -6.090755462646484,
          -1.8794546127319336,
          -2.2359373569488525,
          -3.455066442489624,
          1.043049931526184,
          -1.624094843864441,
          -1.0606403350830078,
          -0.2519848644733429,
          1.7880281209945679,
          -2.5724375247955322,
          -3.053189992904663,
          -4.196367263793945,
          -6.4095683097839355,
          -1.9182524681091309,
          -1.0424333810806274,
          -0.2053358256816864,
          -4.991440773010254,
          -4.948002338409424,
          3.0866827964782715,
          -2.3797805309295654,
          -5.069311618804932,
          -2.1711559295654297,
          0.8598201870918274,
          4.458473205566406,
          2.254319667816162,
          0.8133353590965271,
          5.1659321784973145,
          -0.7150967121124268,
          5.757358551025391,
          -3.411703109741211,
          -2.0924787521362305,
          -3.8486905097961426,
          -3.024336814880371,
          -2.7388744354248047,
          4.136311054229736,
          -4.361632823944092,
          7.769461154937744,
          8.112435340881348,
          -0.8210238814353943,
          -3.105211019515991,
          -2.371124267578125,
          -6.487139701843262,
          7.253611087799072,
          5.425537586212158,
          -1.716559648513794,
          -0.2469090223312378,
          6.009784698486328,
          -1.3239820003509521,
          -4.609284400939941,
          -0.5393967032432556,
          1.6918379068374634,
          -3.808939218521118,
          -1.905155897140503,
          -1.1969897747039795,
          -5.572327613830566,
          2.183954954147339,
          -4.740918159484863,
          1.8505538702011108,
          2.4816548824310303,
          8.1453857421875,
          1.9076035022735596,
          4.4066643714904785,
          3.8491663932800293,
          -6.452331066131592,
          2.0472936630249023,
          -0.25558188557624817,
          -0.08953042328357697,
          1.3101433515548706,
          -5.744894504547119,
          -0.8431333899497986,
          -1.0911887884140015,
          4.141438961029053,
          -1.224206566810608,
          -1.4263180494308472,
          -1.3885414600372314,
          0.8040164709091187,
          -0.6248564720153809,
          -2.1928296089172363,
          -3.7663066387176514,
          0.6415703892707825,
          -3.401214361190796,
          -1.1839070320129395,
          -2.1830406188964844,
          -0.16980712115764618,
          2.135066270828247,
          7.65107536315918,
          5.023446083068848,
          -4.076061725616455,
          2.365351915359497,
          -1.2015448808670044,
          1.7121983766555786,
          -0.13056936860084534,
          2.2250399589538574,
          2.0729763507843018,
          2.5602784156799316,
          -2.342724561691284,
          0.9658874869346619,
          3.425166368484497,
          -3.01668381690979,
          5.7582783699035645,
          4.343108177185059,
          -5.05982780456543,
          1.7290537357330322,
          -4.362483501434326,
          -4.236514568328857,
          -1.9683371782302856,
          1.701884150505066,
          0.44651439785957336,
          3.4220290184020996,
          -5.514881610870361,
          -4.312881946563721,
          1.7458966970443726,
          1.2954031229019165,
          -1.0986868143081665,
          -5.493841648101807,
          1.9715629816055298,
          -2.883730888366699,
          -7.309640884399414,
          1.5906466245651245,
          -2.958564281463623,
          1.6573584079742432,
          -5.754685401916504,
          -5.08599328994751,
          -2.0229148864746094,
          2.4174294471740723,
          0.6054953336715698,
          2.812211036682129,
          4.266937732696533,
          3.3933329582214355,
          1.0480901002883911,
          -1.4747365713119507,
          -2.5013363361358643,
          0.9812429547309875,
          -1.3633583784103394,
          -2.816110610961914,
          -6.751240253448486,
          0.8430851101875305,
          -3.5458266735076904,
          -1.8540886640548706,
          0.8958237171173096,
          -6.907408714294434,
          7.872722148895264,
          0.2972812354564667,
          1.935689091682434,
          -2.2708470821380615,
          1.3532081842422485,
          2.2517173290252686,
          4.274507522583008,
          -2.208622455596924,
          5.124660015106201,
          -7.176043510437012,
          -4.9954423904418945,
          2.9865071773529053,
          -5.05833101272583,
          -1.7979142665863037,
          -1.5423349142074585,
          5.028108596801758,
          -0.6395883560180664,
          -3.7540361881256104,
          -1.3245056867599487,
          -0.438230961561203,
          -2.2650792598724365,
          1.6904592514038086,
          0.7102267742156982,
          7.768570423126221,
          7.024941444396973,
          -1.8748164176940918,
          -0.16028058528900146,
          -1.1923211812973022,
          8.043655395507812,
          -1.7714489698410034,
          -1.829587697982788,
          0.31377843022346497,
          -1.1357415914535522,
          -1.8058651685714722,
          0.31839337944984436,
          -0.32325437664985657,
          -3.9868710041046143,
          7.795799732208252,
          -3.7338576316833496,
          -0.32655030488967896,
          0.31685784459114075,
          7.796875953674316,
          -5.000025749206543,
          3.331557512283325,
          -1.0085874795913696,
          -1.526320457458496,
          -3.5173933506011963,
          -7.260375499725342,
          2.158830404281616,
          1.8666901588439941,
          1.8413349390029907,
          5.557365417480469,
          -0.35591456294059753,
          0.46731218695640564,
          0.8522180318832397,
          -6.680971622467041,
          1.128339409828186,
          0.8379877805709839,
          0.8339769244194031,
          -2.2576851844787598,
          -2.990077495574951,
          5.866417407989502,
          -0.12386494874954224,
          -1.7093348503112793,
          -0.9559341073036194,
          -0.57613205909729,
          -4.1098809242248535,
          -1.8165595531463623,
          -2.86700439453125,
          9.0598726272583,
          1.1816620826721191,
          4.340322971343994,
          -5.692869663238525,
          -6.151322841644287,
          5.315741539001465,
          1.7364853620529175,
          2.941340923309326,
          -4.082613945007324,
          -5.965799331665039,
          -1.81906259059906,
          -4.826306343078613,
          -0.941241979598999,
          -1.0470706224441528,
          -5.42714786529541,
          -0.8277366161346436,
          0.16219525039196014,
          -6.338044166564941,
          -4.804208755493164,
          8.343334197998047,
          -6.598065376281738,
          -3.82157564163208,
          -2.1776106357574463,
          0.34886085987091064,
          5.443302631378174,
          3.894818067550659,
          0.5156055688858032,
          4.281067848205566,
          4.24782133102417,
          -1.856979250907898,
          0.5118639469146729,
          -5.383132457733154,
          2.9304683208465576,
          -2.792287588119507,
          4.0723419189453125,
          -5.4258527755737305,
          -1.262053370475769,
          -0.5067578554153442,
          -0.4539584815502167,
          3.430004835128784,
          -7.08037805557251,
          -6.080543518066406,
          -5.162802219390869,
          5.07859468460083,
          7.538410663604736,
          2.628864049911499,
          6.645297050476074,
          4.836987495422363,
          5.116677284240723,
          -0.43455514311790466,
          -2.038876533508301,
          -5.433391094207764,
          -0.8591933250427246,
          3.477243185043335,
          5.447888374328613,
          -4.143833160400391,
          -4.83518123626709,
          2.4408316612243652,
          -3.282069206237793,
          -2.976719856262207,
          -0.8510798215866089,
          6.521011829376221,
          -2.1860668659210205,
          1.5868663787841797,
          -5.150460720062256,
          -2.8755040168762207,
          1.4325214624404907,
          5.530091762542725,
          2.3852851390838623,
          1.6333037614822388,
          -3.443787097930908,
          -3.2360076904296875,
          -2.270324230194092,
          -5.9368109703063965,
          -5.367682933807373,
          3.486863374710083,
          1.5479124784469604,
          -1.7061457633972168,
          -0.9501210451126099,
          -1.0959584712982178,
          -5.4604573249816895,
          1.488371729850769,
          -5.44547176361084,
          -0.9429879188537598,
          2.4522430896759033,
          2.7336089611053467,
          -0.5036421418190002,
          1.4291812181472778,
          -1.9233821630477905,
          2.3860926628112793,
          -5.595818519592285,
          8.57633113861084,
          7.0956926345825195,
          -1.4279963970184326,
          -0.6101502180099487,
          -6.177608013153076,
          1.3913182020187378,
          2.534620523452759,
          -3.224181652069092,
          -2.2708468437194824,
          -1.7999882698059082,
          1.2362353801727295,
          2.2809624671936035,
          -0.13086821138858795,
          4.740213871002197,
          -3.360166549682617,
          4.072216510772705,
          6.747649192810059,
          -6.695296764373779,
          -7.206385135650635,
          7.309530735015869,
          0.3220769464969635,
          -2.8194053173065186,
          7.884830474853516,
          -1.495396614074707,
          -1.1682207584381104,
          1.4581562280654907,
          0.4619593024253845,
          -3.2807185649871826,
          1.165213942527771,
          -6.022861003875732,
          6.938973426818848,
          1.504736065864563,
          -0.7461373209953308,
          -3.5295958518981934,
          4.823248863220215,
          -2.4969167709350586,
          -2.3924062252044678,
          0.016976410523056984,
          -4.016683101654053,
          -2.4436683654785156,
          2.131774663925171,
          4.465935707092285,
          -5.150735855102539,
          -5.609309673309326,
          -1.291224479675293,
          -6.7963457107543945,
          4.982240200042725,
          -1.3301292657852173,
          -7.238038063049316,
          -0.6228457093238831,
          -0.23988892138004303,
          3.875109910964966,
          -6.599647521972656,
          1.2648931741714478,
          -5.065719127655029,
          -0.6543493866920471,
          4.169600486755371,
          5.28624963760376,
          7.221829414367676,
          1.437188744544983,
          -3.581192970275879,
          -3.0610406398773193,
          -0.38168203830718994,
          -0.4582832455635071,
          2.099756956100464,
          -5.10202169418335,
          -3.3888025283813477,
          -6.07992696762085,
          -5.267395496368408,
          1.7779544591903687,
          -5.280168533325195,
          1.2272038459777832,
          -7.449511528015137,
          -1.078812599182129,
          -0.6280815601348877,
          -5.987453937530518,
          4.087106704711914,
          -5.693459987640381,
          -4.152565956115723,
          -4.960006237030029,
          -3.6151673793792725,
          1.7774478197097778,
          -0.19870544970035553,
          1.8115178346633911,
          -5.477730751037598,
          4.065421104431152,
          6.77871036529541,
          2.324100971221924,
          7.967153549194336,
          2.6715095043182373,
          -1.4130101203918457,
          1.8812949657440186,
          -5.134712219238281,
          7.118246555328369,
          5.979550838470459,
          1.4272170066833496,
          -3.83022403717041,
          -5.220187664031982,
          0.3447206914424896,
          2.5594968795776367,
          5.494713306427002,
          1.2882728576660156,
          0.1423984318971634,
          0.9600309729576111,
          0.008451603353023529,
          -2.4565482139587402,
          1.7181649208068848,
          -3.1209685802459717,
          -1.1195249557495117,
          -1.6677430868148804,
          6.9768500328063965,
          2.8623545169830322,
          3.170438289642334,
          -4.278888702392578,
          -0.17558090388774872,
          0.030551673844456673,
          -3.2695024013519287,
          8.72566032409668,
          2.198469638824463,
          8.555865287780762,
          -3.134455680847168,
          1.6616708040237427,
          6.518256187438965,
          6.487285137176514,
          -6.986892223358154,
          -1.000530481338501,
          8.400582313537598,
          5.695502758026123,
          3.9641995429992676,
          -3.005363941192627,
          -3.751701593399048,
          -4.931980133056641,
          -0.19054988026618958,
          1.8402372598648071,
          -2.2122809886932373,
          -2.2422828674316406,
          8.020232200622559,
          -1.8840084075927734,
          -2.1060492992401123,
          -0.7606604099273682,
          -2.0354466438293457,
          -2.1407735347747803,
          -3.965618133544922,
          -3.037641763687134,
          2.3811185359954834,
          6.490976810455322,
          -6.567924499511719,
          -2.5563273429870605,
          -2.3030364513397217,
          4.04796028137207,
          -4.642428874969482,
          -6.409393787384033,
          -1.3068492412567139,
          0.14352938532829285,
          3.426236629486084,
          -5.879994869232178,
          -5.165660858154297,
          -1.5869731903076172,
          -5.981899261474609,
          1.3095204830169678,
          5.59827995300293,
          1.3698455095291138,
          0.09012841433286667,
          -2.6353275775909424,
          2.194490909576416,
          3.8864667415618896,
          5.7176384925842285,
          5.708142280578613,
          1.6998215913772583,
          -1.168707013130188,
          3.3754379749298096,
          0.9815759062767029,
          -0.13667604327201843,
          5.047286033630371,
          4.224400043487549,
          -0.5792250633239746,
          -1.0874571800231934,
          8.276745796203613,
          -6.219627857208252,
          1.1602541208267212,
          7.272517204284668,
          7.116679668426514,
          1.2665181159973145,
          -4.7605109214782715,
          -5.661921501159668,
          -6.4930877685546875,
          -4.347523212432861,
          -5.816977024078369,
          1.6555134057998657,
          5.4302144050598145,
          -6.198958873748779,
          3.012878894805908,
          1.5738849639892578,
          -1.9858133792877197,
          -5.363332271575928,
          -0.8246135711669922,
          -2.2229249477386475,
          1.7560831308364868,
          2.1881470680236816,
          2.50504469871521,
          -0.6561713814735413,
          -1.2605258226394653,
          -1.1150119304656982,
          -1.6449730396270752,
          -2.1207621097564697,
          2.9844634532928467,
          1.513468861579895,
          -0.4549543857574463,
          -0.22500038146972656,
          -4.690329074859619,
          5.177361011505127,
          5.177400588989258,
          -1.7720141410827637,
          -7.0760016441345215,
          -6.452893257141113,
          1.0146793127059937,
          3.2860188484191895,
          -0.36233463883399963,
          1.6706911325454712,
          -7.271390438079834,
          -0.45987775921821594,
          1.8959447145462036,
          -6.364071846008301,
          -3.5939035415649414,
          -2.646376371383667,
          -5.9256486892700195,
          1.9264042377471924,
          -0.9425788521766663,
          5.515354633331299,
          -7.236794471740723,
          2.78944730758667,
          1.2574481964111328,
          -0.18726815283298492,
          -2.329193353652954,
          -1.5959583520889282,
          -5.043738842010498,
          -1.138127326965332,
          1.7810746431350708,
          -4.100215435028076,
          -0.9441877007484436,
          -1.1683204174041748,
          3.432180404663086,
          1.9381251335144043,
          1.2945445775985718,
          -0.8482745289802551,
          3.5749382972717285,
          -1.290773868560791,
          -1.801263451576233,
          4.260549068450928,
          -4.594077110290527,
          -3.5632731914520264,
          -4.685405731201172,
          4.073190212249756,
          -3.6531684398651123,
          -1.3070429563522339,
          -4.880532741546631,
          3.26282000541687,
          1.3509230613708496,
          -5.13795804977417,
          -0.6387952566146851,
          -2.603074789047241,
          4.72279691696167,
          1.744102120399475,
          -3.5996248722076416,
          -5.236250400543213,
          6.454766750335693,
          1.4803820848464966,
          -1.4780197143554688,
          -5.696547985076904,
          -1.6973518133163452,
          -6.011248588562012,
          -6.096129417419434,
          0.31842613220214844,
          2.7041165828704834,
          -0.10661528259515762,
          0.2004597783088684,
          -1.5624884366989136,
          3.060260772705078,
          -6.245405673980713,
          5.316937446594238,
          -4.688469409942627,
          7.7046403884887695,
          3.5457348823547363,
          -3.6607561111450195,
          2.1644115447998047,
          6.881610870361328,
          7.300413131713867,
          6.825223445892334,
          -1.26674222946167,
          2.927527666091919,
          -0.42750099301338196,
          1.552308201789856,
          -5.213338375091553,
          3.995201349258423,
          0.6877480745315552,
          -4.504848957061768,
          -0.47953203320503235,
          -3.412736654281616,
          -4.6234540939331055,
          1.881692886352539,
          -4.876862049102783,
          1.4107589721679688,
          -0.0535254068672657,
          -5.820184707641602,
          4.736419200897217,
          -5.801016330718994,
          7.5974836349487305,
          1.094606637954712,
          -0.6356091499328613,
          1.4295095205307007,
          -2.4270169734954834,
          -6.147836685180664,
          -0.9082705974578857,
          -3.5829880237579346,
          -3.4264934062957764,
          1.9387493133544922,
          -5.319256782531738,
          -5.196153163909912,
          -2.4901862144470215,
          2.2830920219421387,
          -2.8775978088378906,
          -5.709079742431641,
          7.889573574066162,
          5.991115570068359,
          -1.970739483833313,
          1.580606460571289,
          -1.6664525270462036,
          -0.17501506209373474,
          0.8307416439056396,
          7.2698869705200195,
          5.107375144958496,
          -1.298477292060852,
          -4.669217109680176,
          -3.5862321965396404e-05,
          0.8261730670928955,
          -3.697258710861206,
          2.805347204208374,
          3.2461798191070557,
          3.223862648010254,
          2.6613245010375977,
          -1.5430042743682861,
          0.35272765159606934,
          8.064142227172852,
          -1.6754506826400757,
          5.060432434082031,
          -3.3968000411987305,
          -0.3048626184463501,
          4.8957839012146,
          1.466884970664978,
          4.145887851715088,
          4.134118556976318,
          6.916177749633789,
          7.931630611419678,
          2.9855473041534424,
          -6.741391658782959,
          5.55206298828125,
          3.9808526039123535,
          1.219652533531189,
          0.37634727358818054,
          -4.50832986831665,
          4.428613185882568,
          -0.38524147868156433,
          0.7514772415161133,
          1.4433282613754272,
          -3.134533405303955,
          3.3164539337158203,
          -3.392934799194336,
          1.242398977279663,
          -3.7022266387939453,
          -3.542362689971924,
          -1.2656735181808472,
          3.624706268310547,
          -0.8401610255241394,
          -4.581719875335693,
          -4.165070533752441,
          -5.321140766143799,
          -4.4610795974731445,
          1.5219683647155762,
          -4.399809837341309,
          -3.37272572517395,
          -3.501155376434326,
          1.219596028327942,
          -1.4324544668197632,
          -5.111527919769287,
          0.750484824180603,
          6.728166103363037,
          -0.9046762585639954,
          2.5113236904144287,
          -3.4011974334716797,
          6.60001802444458,
          -3.5572316646575928,
          1.5288184881210327,
          2.3804078102111816,
          -6.035689830780029,
          8.871716499328613,
          6.123430252075195,
          -6.09269905090332,
          6.170461177825928,
          -6.399754047393799,
          2.1439900398254395,
          8.870675086975098,
          0.020875263959169388,
          7.854824542999268,
          0.31749090552330017,
          1.0235896110534668,
          -6.119055271148682,
          4.435196399688721,
          -6.013383865356445,
          -2.7208001613616943,
          -3.9918136596679688,
          2.307804822921753,
          1.996188998222351,
          0.9499642848968506,
          0.4497871398925781,
          2.198469877243042,
          5.391336917877197,
          1.6930584907531738,
          -0.2640027105808258,
          -1.258637547492981,
          0.17914867401123047,
          -5.222590923309326,
          -2.652787446975708,
          -3.699596881866455,
          -0.7592687010765076,
          1.837342619895935,
          -1.1625165939331055,
          3.746574878692627,
          -2.5306243896484375,
          0.8853701949119568,
          -1.377849817276001,
          -2.1853528022766113,
          5.457501411437988,
          -5.119214057922363,
          0.3540465533733368,
          2.22528338432312,
          -1.3862675428390503,
          -6.987623691558838,
          -1.1952447891235352,
          1.2010276317596436,
          -3.143829822540283,
          0.7012689709663391,
          0.8613801002502441,
          1.215333104133606,
          -1.9190055131912231,
          3.6693577766418457,
          -2.1941771507263184,
          3.633762836456299,
          -0.1867520958185196,
          0.008753778412938118,
          0.9961491823196411,
          -4.585926055908203,
          5.3205342292785645,
          -2.9159555435180664,
          -1.176516056060791,
          -7.144542694091797,
          5.16835355758667,
          1.240558385848999,
          4.891481399536133,
          -6.529846668243408,
          -2.8845653533935547,
          -2.3244199752807617,
          2.160313606262207,
          4.148473739624023,
          -0.7606250047683716,
          2.283534049987793,
          1.0177781581878662,
          -5.350834846496582,
          3.9611217975616455,
          -2.8789026737213135,
          -2.191971778869629,
          5.803638935089111,
          -3.2124743461608887,
          1.4782253503799438,
          -1.3764078617095947,
          -7.046055316925049,
          -7.195152759552002,
          -2.6007864475250244,
          -3.625105619430542,
          6.74554443359375,
          4.628593444824219,
          -5.887942790985107,
          -4.986841201782227,
          -0.8162606358528137,
          2.048248529434204,
          5.270017623901367,
          -6.141872882843018,
          -3.40608811378479,
          -2.3146631717681885,
          1.55222487449646,
          0.7437161803245544,
          2.656449794769287,
          -0.9049820303916931,
          3.389010190963745,
          1.5130678415298462,
          3.1063733100891113,
          2.9794888496398926,
          -3.4942142963409424,
          5.0727972984313965,
          -0.768393337726593,
          -6.241018772125244,
          -1.9829083681106567,
          2.8331596851348877,
          -3.6158812046051025,
          -5.135839939117432,
          1.481048583984375,
          5.529800891876221,
          1.1510764360427856,
          -6.599067687988281,
          3.107586622238159,
          -1.095131516456604,
          -6.570801734924316,
          -7.318859100341797,
          0.30618295073509216,
          8.531118392944336,
          -0.06114361435174942,
          4.44925594329834,
          -3.577467918395996,
          -3.9358386993408203,
          -3.7625370025634766,
          8.498852729797363,
          -1.2754771709442139,
          2.690328359603882,
          1.1039314270019531,
          -2.8306267261505127,
          1.5254020690917969,
          -0.7911596894264221,
          2.060392141342163,
          1.053478479385376,
          5.570568561553955,
          2.376512050628662,
          1.7137010097503662,
          -6.490721702575684,
          1.657473087310791,
          2.4527926445007324,
          4.383056163787842,
          -4.041198253631592,
          -1.109956979751587,
          -3.979856252670288,
          1.9517390727996826,
          6.457435607910156,
          -5.87394905090332,
          0.9563214778900146,
          -4.270748138427734,
          0.23014496266841888,
          -0.0894341692328453,
          -2.5976169109344482,
          3.5512073040008545,
          -6.604470729827881,
          6.0507354736328125,
          6.436098098754883,
          -5.251039981842041,
          -0.9228569269180298,
          -3.279229164123535,
          4.166090488433838,
          -6.617372035980225,
          1.1684153079986572,
          -3.593296766281128,
          4.854171276092529,
          0.5933370590209961,
          -0.23372459411621094,
          -1.5099390745162964,
          0.39535123109817505,
          4.86532735824585,
          -3.3297250270843506,
          -0.5580007433891296,
          -5.098049640655518,
          -4.579774379730225,
          -3.2076830863952637,
          1.5747202634811401,
          5.975528717041016
         ]
        },
        {
         "hovertemplate": "Dominant_Topic=Topic 1<br>0=%{x}<br>1=%{y}<br>2=%{z}<extra></extra>",
         "legendgroup": "Topic 1",
         "marker": {
          "color": "#EF553B",
          "opacity": 0.7,
          "symbol": "circle"
         },
         "mode": "markers",
         "name": "Topic 1",
         "scene": "scene",
         "showlegend": true,
         "type": "scatter3d",
         "x": [
          3.7304306030273438,
          3.7303922176361084
         ],
         "y": [
          10.952832221984863,
          10.9528169631958
         ],
         "z": [
          -2.137277603149414,
          -2.1372363567352295
         ]
        },
        {
         "hovertemplate": "Dominant_Topic=Topic 2<br>0=%{x}<br>1=%{y}<br>2=%{z}<extra></extra>",
         "legendgroup": "Topic 2",
         "marker": {
          "color": "#00cc96",
          "opacity": 0.7,
          "symbol": "circle"
         },
         "mode": "markers",
         "name": "Topic 2",
         "scene": "scene",
         "showlegend": true,
         "type": "scatter3d",
         "x": [
          -5.657878398895264,
          -2.1383748054504395,
          -4.427669525146484,
          -9.617303848266602,
          -1.993984580039978,
          -7.631771564483643,
          -3.7446463108062744,
          -3.380768299102783,
          -9.644173622131348,
          -2.6074767112731934,
          -8.757769584655762,
          -3.603631019592285,
          -7.814568996429443,
          -8.476700782775879,
          -6.635852813720703,
          -9.565889358520508,
          -7.9661478996276855,
          -3.637089252471924,
          -5.068853855133057,
          -9.646947860717773,
          -3.816408395767212,
          -0.42947253584861755,
          -6.806709289550781,
          -7.537564277648926,
          -8.201292037963867,
          -7.442966461181641,
          -1.9807335138320923,
          -7.7600812911987305,
          -9.143394470214844,
          -0.6247426271438599,
          -4.888960361480713,
          -6.6101861000061035,
          -6.594674110412598,
          -8.149279594421387,
          -4.380424976348877,
          -5.783387184143066,
          -1.525067687034607,
          -8.704618453979492,
          -3.425952672958374,
          -3.2458009719848633,
          -2.6357688903808594,
          -7.836734294891357,
          -6.7069315910339355,
          -8.10118579864502,
          -9.878808975219727,
          -9.863773345947266,
          -3.1987502574920654,
          0.1375524252653122,
          -9.385153770446777,
          -3.243989944458008,
          -3.108764410018921,
          -3.2497880458831787,
          -2.678351402282715,
          -6.22975492477417,
          -9.463356018066406,
          -2.4104325771331787,
          -7.455068588256836,
          -5.398446083068848,
          -8.835734367370605,
          -8.10438346862793,
          -7.952301025390625,
          -2.670182228088379,
          -0.3351796567440033,
          -4.634324550628662,
          -7.276878356933594,
          -4.314349174499512
         ],
         "y": [
          4.395988941192627,
          4.7391228675842285,
          3.5573129653930664,
          2.3038265705108643,
          4.610911846160889,
          3.7341976165771484,
          5.90453577041626,
          4.206151008605957,
          2.588529586791992,
          3.98736310005188,
          3.3295116424560547,
          5.804408073425293,
          3.6314351558685303,
          3.5211727619171143,
          3.94486665725708,
          3.03951358795166,
          3.6414635181427,
          6.00267219543457,
          4.987126350402832,
          2.519819498062134,
          3.8118574619293213,
          7.376845359802246,
          4.061394214630127,
          2.2000932693481445,
          2.7830281257629395,
          3.5827372074127197,
          6.37267541885376,
          3.9576990604400635,
          3.0647847652435303,
          6.256491661071777,
          2.7988080978393555,
          3.986531972885132,
          4.138052463531494,
          3.289740800857544,
          2.970322847366333,
          1.784855842590332,
          5.881385803222656,
          2.44289231300354,
          5.867473602294922,
          4.476468086242676,
          6.3016133308410645,
          2.438817262649536,
          4.054080963134766,
          3.216810941696167,
          2.161806106567383,
          2.2103941440582275,
          4.636085510253906,
          7.162034511566162,
          3.097843647003174,
          6.458418369293213,
          6.136503219604492,
          3.991250514984131,
          4.253870964050293,
          4.1212944984436035,
          2.662229061126709,
          6.300302505493164,
          2.3929591178894043,
          2.61334228515625,
          2.9045279026031494,
          2.2082982063293457,
          3.0821661949157715,
          6.177773475646973,
          6.59140157699585,
          5.369874000549316,
          3.8359973430633545,
          3.006776809692383
         ],
         "z": [
          1.8144522905349731,
          2.6152212619781494,
          1.9693481922149658,
          1.8691872358322144,
          1.8511325120925903,
          1.6182721853256226,
          1.8441115617752075,
          3.9348361492156982,
          1.9878253936767578,
          1.7637372016906738,
          1.2825452089309692,
          1.4805312156677246,
          2.334425687789917,
          1.8167582750320435,
          2.22416615486145,
          2.2668535709381104,
          2.1565804481506348,
          1.809390664100647,
          1.8752590417861938,
          1.9442051649093628,
          3.862731456756592,
          0.9696652293205261,
          2.0162880420684814,
          1.7150968313217163,
          1.7291473150253296,
          2.0185656547546387,
          1.2626292705535889,
          1.268068552017212,
          2.0927889347076416,
          1.3586608171463013,
          2.171510934829712,
          1.825860857963562,
          1.9289512634277344,
          2.2779383659362793,
          3.8621652126312256,
          1.7022504806518555,
          2.840688943862915,
          1.906079888343811,
          1.3304818868637085,
          3.9122939109802246,
          1.4578638076782227,
          1.7253165245056152,
          2.349437952041626,
          1.8329885005950928,
          1.950719952583313,
          1.9559657573699951,
          4.0901665687561035,
          1.4023362398147583,
          1.9569900035858154,
          2.34238600730896,
          1.3039054870605469,
          3.916135311126709,
          1.9904522895812988,
          2.4198927879333496,
          1.84819495677948,
          1.386601448059082,
          1.7930898666381836,
          1.4399195909500122,
          1.5605043172836304,
          1.7460439205169678,
          2.1343417167663574,
          1.2980146408081055,
          0.8631036281585693,
          1.7441909313201904,
          1.8400797843933105,
          3.6684012413024902
         ]
        },
        {
         "hovertemplate": "Dominant_Topic=Topic 3<br>0=%{x}<br>1=%{y}<br>2=%{z}<extra></extra>",
         "legendgroup": "Topic 3",
         "marker": {
          "color": "#ab63fa",
          "opacity": 0.7,
          "symbol": "circle"
         },
         "mode": "markers",
         "name": "Topic 3",
         "scene": "scene",
         "showlegend": true,
         "type": "scatter3d",
         "x": [
          3.505260944366455,
          4.478379726409912,
          4.4198713302612305,
          1.8879796266555786,
          2.823969841003418,
          4.2543792724609375,
          5.02851676940918,
          2.670670747756958,
          1.870633602142334,
          4.16258430480957,
          3.089348077774048,
          3.496218204498291,
          5.023146629333496,
          1.7534379959106445,
          1.9145512580871582,
          3.5097804069519043,
          1.6947287321090698,
          0.7270938754081726,
          1.042603611946106,
          1.0419360399246216,
          5.178408622741699,
          -0.24639803171157837,
          4.167518138885498,
          4.389829635620117,
          2.0392608642578125,
          0.47949129343032837,
          2.675506830215454
         ],
         "y": [
          -0.34350186586380005,
          2.0007529258728027,
          2.1236987113952637,
          -2.2652788162231445,
          7.991232395172119,
          3.291541337966919,
          3.2342097759246826,
          7.904879570007324,
          1.3525199890136719,
          1.291664481163025,
          -1.6093772649765015,
          -0.41151121258735657,
          3.289112091064453,
          6.627330303192139,
          -1.8605822324752808,
          -0.12996456027030945,
          -2.4476170539855957,
          6.461654186248779,
          6.440942287445068,
          6.995535373687744,
          2.4818012714385986,
          -2.052908420562744,
          1.1406234502792358,
          2.8474936485290527,
          -1.3517221212387085,
          5.977622032165527,
          7.952133655548096
         ],
         "z": [
          7.62107515335083,
          6.063348293304443,
          6.555016994476318,
          8.792505264282227,
          0.7659444808959961,
          6.528267860412598,
          5.043998718261719,
          0.8638032078742981,
          7.533610820770264,
          6.64823055267334,
          8.050054550170898,
          7.590394496917725,
          5.293342590332031,
          5.558902740478516,
          8.761553764343262,
          7.474811553955078,
          8.863179206848145,
          3.6208672523498535,
          3.2142670154571533,
          2.881545066833496,
          5.834319591522217,
          8.899504661560059,
          6.602802753448486,
          6.576059341430664,
          8.940364837646484,
          4.3600239753723145,
          0.7972792983055115
         ]
        }
       ],
       "layout": {
        "height": 800,
        "legend": {
         "title": {
          "text": "Dominant_Topic"
         },
         "tracegroupgap": 0
        },
        "scene": {
         "domain": {
          "x": [
           0,
           1
          ],
          "y": [
           0,
           1
          ]
         },
         "xaxis": {
          "title": {
           "text": "0"
          }
         },
         "yaxis": {
          "title": {
           "text": "1"
          }
         },
         "zaxis": {
          "title": {
           "text": "2"
          }
         }
        },
        "template": {
         "data": {
          "bar": [
           {
            "error_x": {
             "color": "#2a3f5f"
            },
            "error_y": {
             "color": "#2a3f5f"
            },
            "marker": {
             "line": {
              "color": "#E5ECF6",
              "width": 0.5
             },
             "pattern": {
              "fillmode": "overlay",
              "size": 10,
              "solidity": 0.2
             }
            },
            "type": "bar"
           }
          ],
          "barpolar": [
           {
            "marker": {
             "line": {
              "color": "#E5ECF6",
              "width": 0.5
             },
             "pattern": {
              "fillmode": "overlay",
              "size": 10,
              "solidity": 0.2
             }
            },
            "type": "barpolar"
           }
          ],
          "carpet": [
           {
            "aaxis": {
             "endlinecolor": "#2a3f5f",
             "gridcolor": "white",
             "linecolor": "white",
             "minorgridcolor": "white",
             "startlinecolor": "#2a3f5f"
            },
            "baxis": {
             "endlinecolor": "#2a3f5f",
             "gridcolor": "white",
             "linecolor": "white",
             "minorgridcolor": "white",
             "startlinecolor": "#2a3f5f"
            },
            "type": "carpet"
           }
          ],
          "choropleth": [
           {
            "colorbar": {
             "outlinewidth": 0,
             "ticks": ""
            },
            "type": "choropleth"
           }
          ],
          "contour": [
           {
            "colorbar": {
             "outlinewidth": 0,
             "ticks": ""
            },
            "colorscale": [
             [
              0,
              "#0d0887"
             ],
             [
              0.1111111111111111,
              "#46039f"
             ],
             [
              0.2222222222222222,
              "#7201a8"
             ],
             [
              0.3333333333333333,
              "#9c179e"
             ],
             [
              0.4444444444444444,
              "#bd3786"
             ],
             [
              0.5555555555555556,
              "#d8576b"
             ],
             [
              0.6666666666666666,
              "#ed7953"
             ],
             [
              0.7777777777777778,
              "#fb9f3a"
             ],
             [
              0.8888888888888888,
              "#fdca26"
             ],
             [
              1,
              "#f0f921"
             ]
            ],
            "type": "contour"
           }
          ],
          "contourcarpet": [
           {
            "colorbar": {
             "outlinewidth": 0,
             "ticks": ""
            },
            "type": "contourcarpet"
           }
          ],
          "heatmap": [
           {
            "colorbar": {
             "outlinewidth": 0,
             "ticks": ""
            },
            "colorscale": [
             [
              0,
              "#0d0887"
             ],
             [
              0.1111111111111111,
              "#46039f"
             ],
             [
              0.2222222222222222,
              "#7201a8"
             ],
             [
              0.3333333333333333,
              "#9c179e"
             ],
             [
              0.4444444444444444,
              "#bd3786"
             ],
             [
              0.5555555555555556,
              "#d8576b"
             ],
             [
              0.6666666666666666,
              "#ed7953"
             ],
             [
              0.7777777777777778,
              "#fb9f3a"
             ],
             [
              0.8888888888888888,
              "#fdca26"
             ],
             [
              1,
              "#f0f921"
             ]
            ],
            "type": "heatmap"
           }
          ],
          "heatmapgl": [
           {
            "colorbar": {
             "outlinewidth": 0,
             "ticks": ""
            },
            "colorscale": [
             [
              0,
              "#0d0887"
             ],
             [
              0.1111111111111111,
              "#46039f"
             ],
             [
              0.2222222222222222,
              "#7201a8"
             ],
             [
              0.3333333333333333,
              "#9c179e"
             ],
             [
              0.4444444444444444,
              "#bd3786"
             ],
             [
              0.5555555555555556,
              "#d8576b"
             ],
             [
              0.6666666666666666,
              "#ed7953"
             ],
             [
              0.7777777777777778,
              "#fb9f3a"
             ],
             [
              0.8888888888888888,
              "#fdca26"
             ],
             [
              1,
              "#f0f921"
             ]
            ],
            "type": "heatmapgl"
           }
          ],
          "histogram": [
           {
            "marker": {
             "pattern": {
              "fillmode": "overlay",
              "size": 10,
              "solidity": 0.2
             }
            },
            "type": "histogram"
           }
          ],
          "histogram2d": [
           {
            "colorbar": {
             "outlinewidth": 0,
             "ticks": ""
            },
            "colorscale": [
             [
              0,
              "#0d0887"
             ],
             [
              0.1111111111111111,
              "#46039f"
             ],
             [
              0.2222222222222222,
              "#7201a8"
             ],
             [
              0.3333333333333333,
              "#9c179e"
             ],
             [
              0.4444444444444444,
              "#bd3786"
             ],
             [
              0.5555555555555556,
              "#d8576b"
             ],
             [
              0.6666666666666666,
              "#ed7953"
             ],
             [
              0.7777777777777778,
              "#fb9f3a"
             ],
             [
              0.8888888888888888,
              "#fdca26"
             ],
             [
              1,
              "#f0f921"
             ]
            ],
            "type": "histogram2d"
           }
          ],
          "histogram2dcontour": [
           {
            "colorbar": {
             "outlinewidth": 0,
             "ticks": ""
            },
            "colorscale": [
             [
              0,
              "#0d0887"
             ],
             [
              0.1111111111111111,
              "#46039f"
             ],
             [
              0.2222222222222222,
              "#7201a8"
             ],
             [
              0.3333333333333333,
              "#9c179e"
             ],
             [
              0.4444444444444444,
              "#bd3786"
             ],
             [
              0.5555555555555556,
              "#d8576b"
             ],
             [
              0.6666666666666666,
              "#ed7953"
             ],
             [
              0.7777777777777778,
              "#fb9f3a"
             ],
             [
              0.8888888888888888,
              "#fdca26"
             ],
             [
              1,
              "#f0f921"
             ]
            ],
            "type": "histogram2dcontour"
           }
          ],
          "mesh3d": [
           {
            "colorbar": {
             "outlinewidth": 0,
             "ticks": ""
            },
            "type": "mesh3d"
           }
          ],
          "parcoords": [
           {
            "line": {
             "colorbar": {
              "outlinewidth": 0,
              "ticks": ""
             }
            },
            "type": "parcoords"
           }
          ],
          "pie": [
           {
            "automargin": true,
            "type": "pie"
           }
          ],
          "scatter": [
           {
            "fillpattern": {
             "fillmode": "overlay",
             "size": 10,
             "solidity": 0.2
            },
            "type": "scatter"
           }
          ],
          "scatter3d": [
           {
            "line": {
             "colorbar": {
              "outlinewidth": 0,
              "ticks": ""
             }
            },
            "marker": {
             "colorbar": {
              "outlinewidth": 0,
              "ticks": ""
             }
            },
            "type": "scatter3d"
           }
          ],
          "scattercarpet": [
           {
            "marker": {
             "colorbar": {
              "outlinewidth": 0,
              "ticks": ""
             }
            },
            "type": "scattercarpet"
           }
          ],
          "scattergeo": [
           {
            "marker": {
             "colorbar": {
              "outlinewidth": 0,
              "ticks": ""
             }
            },
            "type": "scattergeo"
           }
          ],
          "scattergl": [
           {
            "marker": {
             "colorbar": {
              "outlinewidth": 0,
              "ticks": ""
             }
            },
            "type": "scattergl"
           }
          ],
          "scattermapbox": [
           {
            "marker": {
             "colorbar": {
              "outlinewidth": 0,
              "ticks": ""
             }
            },
            "type": "scattermapbox"
           }
          ],
          "scatterpolar": [
           {
            "marker": {
             "colorbar": {
              "outlinewidth": 0,
              "ticks": ""
             }
            },
            "type": "scatterpolar"
           }
          ],
          "scatterpolargl": [
           {
            "marker": {
             "colorbar": {
              "outlinewidth": 0,
              "ticks": ""
             }
            },
            "type": "scatterpolargl"
           }
          ],
          "scatterternary": [
           {
            "marker": {
             "colorbar": {
              "outlinewidth": 0,
              "ticks": ""
             }
            },
            "type": "scatterternary"
           }
          ],
          "surface": [
           {
            "colorbar": {
             "outlinewidth": 0,
             "ticks": ""
            },
            "colorscale": [
             [
              0,
              "#0d0887"
             ],
             [
              0.1111111111111111,
              "#46039f"
             ],
             [
              0.2222222222222222,
              "#7201a8"
             ],
             [
              0.3333333333333333,
              "#9c179e"
             ],
             [
              0.4444444444444444,
              "#bd3786"
             ],
             [
              0.5555555555555556,
              "#d8576b"
             ],
             [
              0.6666666666666666,
              "#ed7953"
             ],
             [
              0.7777777777777778,
              "#fb9f3a"
             ],
             [
              0.8888888888888888,
              "#fdca26"
             ],
             [
              1,
              "#f0f921"
             ]
            ],
            "type": "surface"
           }
          ],
          "table": [
           {
            "cells": {
             "fill": {
              "color": "#EBF0F8"
             },
             "line": {
              "color": "white"
             }
            },
            "header": {
             "fill": {
              "color": "#C8D4E3"
             },
             "line": {
              "color": "white"
             }
            },
            "type": "table"
           }
          ]
         },
         "layout": {
          "annotationdefaults": {
           "arrowcolor": "#2a3f5f",
           "arrowhead": 0,
           "arrowwidth": 1
          },
          "autotypenumbers": "strict",
          "coloraxis": {
           "colorbar": {
            "outlinewidth": 0,
            "ticks": ""
           }
          },
          "colorscale": {
           "diverging": [
            [
             0,
             "#8e0152"
            ],
            [
             0.1,
             "#c51b7d"
            ],
            [
             0.2,
             "#de77ae"
            ],
            [
             0.3,
             "#f1b6da"
            ],
            [
             0.4,
             "#fde0ef"
            ],
            [
             0.5,
             "#f7f7f7"
            ],
            [
             0.6,
             "#e6f5d0"
            ],
            [
             0.7,
             "#b8e186"
            ],
            [
             0.8,
             "#7fbc41"
            ],
            [
             0.9,
             "#4d9221"
            ],
            [
             1,
             "#276419"
            ]
           ],
           "sequential": [
            [
             0,
             "#0d0887"
            ],
            [
             0.1111111111111111,
             "#46039f"
            ],
            [
             0.2222222222222222,
             "#7201a8"
            ],
            [
             0.3333333333333333,
             "#9c179e"
            ],
            [
             0.4444444444444444,
             "#bd3786"
            ],
            [
             0.5555555555555556,
             "#d8576b"
            ],
            [
             0.6666666666666666,
             "#ed7953"
            ],
            [
             0.7777777777777778,
             "#fb9f3a"
            ],
            [
             0.8888888888888888,
             "#fdca26"
            ],
            [
             1,
             "#f0f921"
            ]
           ],
           "sequentialminus": [
            [
             0,
             "#0d0887"
            ],
            [
             0.1111111111111111,
             "#46039f"
            ],
            [
             0.2222222222222222,
             "#7201a8"
            ],
            [
             0.3333333333333333,
             "#9c179e"
            ],
            [
             0.4444444444444444,
             "#bd3786"
            ],
            [
             0.5555555555555556,
             "#d8576b"
            ],
            [
             0.6666666666666666,
             "#ed7953"
            ],
            [
             0.7777777777777778,
             "#fb9f3a"
            ],
            [
             0.8888888888888888,
             "#fdca26"
            ],
            [
             1,
             "#f0f921"
            ]
           ]
          },
          "colorway": [
           "#636efa",
           "#EF553B",
           "#00cc96",
           "#ab63fa",
           "#FFA15A",
           "#19d3f3",
           "#FF6692",
           "#B6E880",
           "#FF97FF",
           "#FECB52"
          ],
          "font": {
           "color": "#2a3f5f"
          },
          "geo": {
           "bgcolor": "white",
           "lakecolor": "white",
           "landcolor": "#E5ECF6",
           "showlakes": true,
           "showland": true,
           "subunitcolor": "white"
          },
          "hoverlabel": {
           "align": "left"
          },
          "hovermode": "closest",
          "mapbox": {
           "style": "light"
          },
          "paper_bgcolor": "white",
          "plot_bgcolor": "#E5ECF6",
          "polar": {
           "angularaxis": {
            "gridcolor": "white",
            "linecolor": "white",
            "ticks": ""
           },
           "bgcolor": "#E5ECF6",
           "radialaxis": {
            "gridcolor": "white",
            "linecolor": "white",
            "ticks": ""
           }
          },
          "scene": {
           "xaxis": {
            "backgroundcolor": "#E5ECF6",
            "gridcolor": "white",
            "gridwidth": 2,
            "linecolor": "white",
            "showbackground": true,
            "ticks": "",
            "zerolinecolor": "white"
           },
           "yaxis": {
            "backgroundcolor": "#E5ECF6",
            "gridcolor": "white",
            "gridwidth": 2,
            "linecolor": "white",
            "showbackground": true,
            "ticks": "",
            "zerolinecolor": "white"
           },
           "zaxis": {
            "backgroundcolor": "#E5ECF6",
            "gridcolor": "white",
            "gridwidth": 2,
            "linecolor": "white",
            "showbackground": true,
            "ticks": "",
            "zerolinecolor": "white"
           }
          },
          "shapedefaults": {
           "line": {
            "color": "#2a3f5f"
           }
          },
          "ternary": {
           "aaxis": {
            "gridcolor": "white",
            "linecolor": "white",
            "ticks": ""
           },
           "baxis": {
            "gridcolor": "white",
            "linecolor": "white",
            "ticks": ""
           },
           "bgcolor": "#E5ECF6",
           "caxis": {
            "gridcolor": "white",
            "linecolor": "white",
            "ticks": ""
           }
          },
          "title": {
           "x": 0.05
          },
          "xaxis": {
           "automargin": true,
           "gridcolor": "white",
           "linecolor": "white",
           "ticks": "",
           "title": {
            "standoff": 15
           },
           "zerolinecolor": "white",
           "zerolinewidth": 2
          },
          "yaxis": {
           "automargin": true,
           "gridcolor": "white",
           "linecolor": "white",
           "ticks": "",
           "title": {
            "standoff": 15
           },
           "zerolinecolor": "white",
           "zerolinewidth": 2
          }
         }
        },
        "title": {
         "text": "3d TSNE Plot for Topic Model"
        },
        "width": 900
       }
      },
      "text/html": [
       "<div>                            <div id=\"eddfb1ac-36eb-47ce-b233-309dd7fa3d54\" class=\"plotly-graph-div\" style=\"height:800px; width:900px;\"></div>            <script type=\"text/javascript\">                require([\"plotly\"], function(Plotly) {                    window.PLOTLYENV=window.PLOTLYENV || {};                                    if (document.getElementById(\"eddfb1ac-36eb-47ce-b233-309dd7fa3d54\")) {                    Plotly.newPlot(                        \"eddfb1ac-36eb-47ce-b233-309dd7fa3d54\",                        [{\"hovertemplate\":\"Dominant_Topic=Topic 0<br>0=%{x}<br>1=%{y}<br>2=%{z}<extra></extra>\",\"legendgroup\":\"Topic 0\",\"marker\":{\"color\":\"#636efa\",\"opacity\":0.7,\"symbol\":\"circle\"},\"mode\":\"markers\",\"name\":\"Topic 0\",\"scene\":\"scene\",\"showlegend\":true,\"x\":[4.089128494262695,4.835293292999268,-1.3698724508285522,-4.599944591522217,-5.872221946716309,-3.7746503353118896,3.065992593765259,-10.9649658203125,-0.32689186930656433,-6.678059101104736,-4.474139213562012,-2.267054796218872,5.742869853973389,0.27092456817626953,-6.971150875091553,3.7145464420318604,3.87137770652771,5.752100944519043,-1.5871788263320923,4.258045673370361,-3.1984100341796875,2.8039300441741943,-1.0280647277832031,0.31072765588760376,4.61298131942749,3.8092598915100098,-10.366134643554688,1.7554734945297241,2.751840114593506,-0.6664649844169617,-0.4311293959617615,-6.094231128692627,3.7919113636016846,4.135244369506836,4.896683216094971,3.1926345825195312,-0.0585889108479023,-4.4933295249938965,-6.646648406982422,0.2002718597650528,4.426121711730957,-6.441543102264404,0.6395496726036072,4.696085453033447,5.495500087738037,3.6281795501708984,1.3850868940353394,3.624673843383789,-2.436565637588501,5.048803806304932,3.74629545211792,4.721360206604004,4.413572788238525,-4.197449207305908,3.619847059249878,4.382983207702637,3.599144458770752,4.156203746795654,-2.890275239944458,3.6182339191436768,-0.6898183822631836,2.4900760650634766,3.8155126571655273,0.5893908739089966,3.28756046295166,1.2532141208648682,1.980549693107605,5.069799900054932,-2.360255479812622,3.818605422973633,0.7135728001594543,-0.05341167375445366,4.280045032501221,-1.8304502964019775,-4.3434224128723145,-10.688508033752441,0.6216830015182495,3.0773704051971436,1.9994369745254517,4.238555908203125,2.073606014251709,2.566938877105713,1.328621506690979,-6.043723106384277,-5.3443522453308105,-0.07696597278118134,4.0211381912231445,4.993997097015381,3.123835325241089,1.1384512186050415,1.1296021938323975,5.920468330383301,1.4924983978271484,0.2473325878381729,6.241522789001465,-1.5147898197174072,0.8014428615570068,4.501198768615723,1.5605522394180298,-4.2888264656066895,-6.415918350219727,-5.491629123687744,-2.344740390777588,-3.133085012435913,-2.8020243644714355,-0.027178602293133736,3.1590402126312256,3.1631736755371094,6.186074733734131,-4.094514846801758,2.3192362785339355,1.8694279193878174,1.0867481231689453,-0.30635741353034973,2.2889535427093506,-2.371830463409424,-2.2382194995880127,-3.2733426094055176,-5.600552558898926,-0.8200466632843018,-0.3240756392478943,-0.10001368075609207,2.3933939933776855,3.712007522583008,-1.8286528587341309,5.013198375701904,2.3383774757385254,1.4028745889663696,-5.271015167236328,2.527758836746216,-1.1375445127487183,4.701694011688232,2.8814237117767334,0.45049160718917847,4.0989670753479,-1.4411590099334717,-2.4203994274139404,2.393941640853882,4.00077486038208,-4.558628559112549,-2.769292116165161,-0.7559514045715332,4.779869079589844,-2.084331750869751,1.2159147262573242,6.025625705718994,2.6571695804595947,2.4005825519561768,1.0084658861160278,2.970890760421753,1.5258535146713257,3.0732614994049072,0.1694074124097824,-0.7141136527061462,-6.275523662567139,-1.4804058074951172,4.609230041503906,-0.9390074014663696,4.986681938171387,3.7569220066070557,-1.6496256589889526,0.19691112637519836,1.322579026222229,0.2544095516204834,2.7776830196380615,-4.551286220550537,-0.05259161442518234,2.749786615371704,0.7104453444480896,1.2872428894042969,-5.405928134918213,-0.18366803228855133,6.494339942932129,-5.470757961273193,1.7180520296096802,0.7261785268783569,4.9299397468566895,3.845781087875366,4.4334564208984375,-1.5771586894989014,-4.953007221221924,-0.3658393323421478,3.995387315750122,-0.420773446559906,2.7446095943450928,4.847365379333496,4.257199287414551,3.711263418197632,-0.15211457014083862,-2.3832144737243652,1.6401525735855103,-0.47671207785606384,-3.0394797325134277,1.896069049835205,4.8507232666015625,4.4296135902404785,-2.88150691986084,2.171893358230591,2.476655960083008,1.1834895610809326,-0.2887510657310486,2.7221570014953613,-3.870363235473633,0.04973484203219414,-1.8124905824661255,-0.21562620997428894,-4.940179347991943,-6.508572101593018,-0.04882592335343361,4.176917552947998,-4.421774387359619,0.19631831347942352,1.5814836025238037,0.03352029249072075,-5.397176265716553,-0.7634833455085754,0.9390089511871338,-0.7743693590164185,2.2792117595672607,5.7364583015441895,3.6288180351257324,1.9344723224639893,2.8767642974853516,-3.999462842941284,4.481636047363281,0.4130215048789978,2.364163637161255,-4.979209899902344,-1.375540852546692,-5.657201766967773,-10.661630630493164,-5.56226921081543,3.035508871078491,-5.377588748931885,-4.09220552444458,-1.8712332248687744,1.6715357303619385,5.664034843444824,-2.099785566329956,4.739185810089111,2.3053390979766846,4.303455352783203,3.472470760345459,0.19006817042827606,1.248547077178955,2.73010516166687,3.227055311203003,2.988884687423706,-1.7944302558898926,2.114896774291992,0.0817253589630127,2.934164524078369,-0.7743712067604065,1.3253633975982666,3.6242055892944336,4.570974826812744,3.0702216625213623,-2.3751931190490723,-11.524874687194824,0.5056678652763367,-6.128325462341309,-10.65770149230957,2.7071285247802734,0.008184418082237244,-1.2050461769104004,0.8863413333892822,-2.242344379425049,-1.327439785003662,3.7294793128967285,3.117185115814209,6.761829853057861,-1.5075042247772217,-1.346643090248108,-1.280525803565979,3.6975226402282715,1.9830762147903442,1.7205755710601807,4.744211673736572,-0.5794445872306824,1.699453353881836,3.1503748893737793,-5.1291937828063965,3.765049934387207,-4.2840189933776855,1.1826003789901733,0.8267784714698792,-3.244832992553711,-0.5926465392112732,1.0805296897888184,4.690642833709717,0.0705796331167221,0.801053524017334,4.197595596313477,-4.783849239349365,4.706132411956787,-11.516326904296875,4.685019016265869,-2.1445322036743164,1.8342331647872925,-0.46938470005989075,4.623110294342041,6.25142765045166,2.0071680545806885,-2.7414889335632324,2.3891236782073975,1.4730950593948364,3.776825189590454,1.3296719789505005,2.907102584838867,-3.6308491230010986,-1.2208635807037354,1.89694344997406,-1.3191349506378174,1.5358885526657104,-4.393792152404785,0.07490618526935577,4.433815956115723,-11.005717277526855,4.131533145904541,3.342076301574707,-8.84360408782959,4.102401256561279,-2.3426084518432617,-6.602761268615723,-1.8875083923339844,0.38514381647109985,3.684661626815796,0.8873512148857117,3.3591561317443848,4.499171257019043,4.147419452667236,-1.2083641290664673,4.066871166229248,4.298495292663574,3.3315606117248535,1.5783185958862305,2.1406543254852295,-1.9387706518173218,1.052639365196228,-10.540068626403809,-5.804820537567139,4.881124973297119,0.18770679831504822,4.4334564208984375,-2.373026132583618,-1.2844618558883667,-4.815077781677246,-2.4911229610443115,-0.317118376493454,-4.549912452697754,-0.8594291806221008,0.8734753727912903,-10.634964942932129,1.8561979532241821,-1.066123127937317,-0.5644555687904358,-0.9015110731124878,-0.32989612221717834,-4.140686511993408,-6.6678314208984375,-0.20799872279167175,3.633165121078491,-2.761528730392456,-5.689476013183594,-11.0270414352417,2.0914876461029053,-6.175765514373779,-5.04506254196167,0.611301600933075,4.655710697174072,4.630512714385986,3.1279797554016113,-4.111546039581299,-0.6030160188674927,0.11794779449701309,4.4430670738220215,3.0470521450042725,4.008450508117676,-2.3137001991271973,3.619300603866577,0.81093430519104,-0.5951157808303833,4.540772438049316,1.5963425636291504,3.771700620651245,0.8131614327430725,-0.12709134817123413,-10.72870922088623,-3.246713399887085,3.7345993518829346,5.731317520141602,0.9774109125137329,2.3863773345947266,0.6101399660110474,1.8604086637496948,-1.4175037145614624,2.148275852203369,0.7307615876197815,3.1073813438415527,-1.3407713174819946,0.7752050757408142,1.973435401916504,-3.4932913780212402,1.6212745904922485,0.7693714499473572,3.4898784160614014,-6.549724578857422,3.1865570545196533,3.0921895503997803,4.693020343780518,5.986913204193115,4.877028465270996,3.3006036281585693,5.328935623168945,4.668696403503418,1.9636716842651367,0.9557973742485046,-5.793814659118652,-5.45054817199707,-11.46800708770752,4.169631481170654,2.490000009536743,-5.292078018188477,-1.0597127676010132,-3.1747868061065674,-5.618612289428711,-3.1367011070251465,1.7577217817306519,2.7441940307617188,2.0449492931365967,-1.4381937980651855,-2.6411235332489014,2.0378193855285645,2.5897271633148193,-2.0580055713653564,3.928549289703369,-1.539796233177185,-1.403547763824463,-6.178168296813965,-6.3924784660339355,4.68817663192749,5.9890031814575195,1.3407810926437378,-7.105039596557617,0.3326941132545471,1.3354980945587158,2.0383572578430176,4.892364978790283,0.4778605103492737,3.5773000717163086,-0.004365573171526194,4.665449142456055,1.2551995515823364,-3.094935417175293,-0.7986972332000732,-1.285667061805725,-1.2599276304244995,1.6140024662017822,0.8454893231391907,3.3385121822357178,-2.4233484268188477,-0.2571695148944855,0.9495917558670044,-0.5039874911308289,3.3278093338012695,-0.6787109971046448,-0.7738986015319824,-3.9079067707061768,-9.987536430358887,-0.2169908732175827,7.130064010620117,1.855311393737793,3.730473518371582,4.101325511932373,4.6512322425842285,-4.743048667907715,3.715388536453247,-4.248500823974609,-3.2183611392974854,2.670654058456421,1.8147035837173462,-10.763270378112793,-1.0078818798065186,0.3691941797733307,4.516067028045654,4.7978715896606445,-1.1552799940109253,-4.535482883453369,0.38248738646507263,1.363542914390564,-1.3246302604675293,-2.3569118976593018,4.436254978179932,2.8577466011047363,-2.4900500774383545,1.4107705354690552,-4.988771438598633,4.810041904449463,4.970405578613281,-1.8263968229293823,-2.875971555709839,2.0302886962890625,3.832700490951538,0.6965951323509216,2.4784109592437744,1.8685158491134644,3.882103443145752,-3.8623971939086914,-0.3269232213497162,0.9125293493270874,4.075821876525879,-2.3083341121673584,2.4072399139404297,4.651662349700928,2.013770341873169,1.1931474208831787,1.3575701713562012,-5.502930641174316,-0.31719091534614563,0.27166053652763367,-10.282899856567383,-2.839409828186035,4.108880519866943,0.005411006044596434,3.5735702514648438,-10.36784839630127,4.768773078918457,2.6467950344085693,4.267763137817383,-1.9053417444229126,5.751893043518066,-0.029313232749700546,1.4937800168991089,6.166172027587891,3.763056993484497,2.6239984035491943,4.340949058532715,1.5842636823654175,-1.7072069644927979,-0.18513232469558716,1.0098168849945068,5.253270626068115,4.129206657409668,-2.08767032623291,5.415007591247559,2.308425188064575,-0.26525548100471497,-2.068166971206665,1.6822706460952759,4.19795560836792,-4.972145080566406,3.4210283756256104,3.7797625064849854,2.3867340087890625,1.8792650699615479,4.941202640533447,6.253366947174072,-10.273401260375977,1.4914710521697998,3.9431071281433105,4.343983173370361,-1.6708567142486572,4.121306419372559,0.9627538919448853,3.327083110809326,2.271522283554077,4.913288116455078,4.615235328674316,-0.03844621032476425,4.74461555480957,-0.8423478603363037,2.2069320678710938,-0.7825231552124023,3.2147858142852783,-4.917811870574951,-7.168567657470703,0.07435878366231918,1.1150786876678467,-6.079342842102051,2.4671735763549805,0.9694021344184875,2.3372652530670166,5.056548118591309,-0.6773978471755981,4.795441150665283,-0.5142570734024048,3.7340872287750244,-0.08048288524150848,2.6230459213256836,3.8437232971191406,3.854329824447632,2.195629119873047,2.3343610763549805,-1.2287285327911377,3.827397584915161,4.872249126434326,3.4023027420043945,2.6458933353424072,2.829561948776245,2.909965753555298,1.8055260181427002,-5.367336273193359,-3.1322193145751953,-0.17615339159965515,0.6488044857978821,-11.02807331085205,-1.6406171321868896,3.2462871074676514,-3.417238712310791,0.38340967893600464,2.937781572341919,3.9089155197143555,4.058708667755127,-10.224628448486328,1.4255421161651611,2.3772170543670654,0.8958585858345032,0.022542430087924004,-0.7729371190071106,-1.252394437789917,2.6800875663757324,1.6070553064346313,2.4066321849823,-0.13154011964797974,0.9311923384666443,-4.5162529945373535,6.260356426239014,1.5452158451080322,3.170604944229126,-2.054029703140259,4.701204299926758,4.364882469177246,-0.737069308757782,-0.31312912702560425,2.1917243003845215,3.2111105918884277,2.379349946975708,0.8996769189834595,3.8736908435821533,1.496849775314331,4.523629188537598,1.5788837671279907,0.4573962390422821,0.6271694302558899,-4.768369674682617,1.0299041271209717,-10.578228950500488,6.214536190032959,-3.768683671951294,4.690664768218994,-3.0973892211914062,3.2493643760681152,-1.4026057720184326,-0.3425963819026947,2.754685401916504,-0.42281273007392883,-1.8763220310211182,1.5019418001174927,2.17722225189209,-0.9234785437583923,-5.963656425476074,2.6113967895507812,-2.5854697227478027,-6.960479736328125,3.604266881942749,1.1349883079528809,-2.2617969512939453,5.182887077331543,-1.3545233011245728,-3.093579053878784,4.520445346832275,2.8832144737243652,4.786812782287598,-2.6111671924591064,3.953425407409668,3.3649075031280518,4.944571495056152,-0.4839162528514862,1.833797812461853,2.61023211479187,-3.76769757270813,5.553708553314209,1.4075435400009155,2.394317626953125,-0.4421415328979492,-1.8280428647994995,1.0917303562164307,1.005321979522705,1.8199726343154907,1.4149750471115112,1.9393917322158813,2.4018166065216064,-6.216872215270996,-4.690497875213623,5.329237461090088,0.18613749742507935,3.8213648796081543,-6.3052659034729,-2.1923654079437256,1.3135052919387817,1.8945070505142212,1.7499713897705078,-0.605266273021698,3.5831947326660156,-0.3162645399570465,-2.2865257263183594,3.815081834793091,0.7335308790206909,-2.4435203075408936,0.9884768724441528,3.449631690979004,-0.7951902747154236,6.279806613922119,3.022233009338379,0.6344212889671326,0.19135726988315582,-2.0260987281799316,2.719599485397339,3.942779779434204,-1.66824209690094,2.7198262214660645,-2.6518239974975586,-1.3513823747634888,4.416064739227295,2.7021005153656006,-1.2954540252685547,1.3649338483810425,-3.632885456085205,6.034659385681152,-0.8292376399040222,2.9267144203186035,-2.6810951232910156,4.193642616271973,-2.492976188659668,-2.41276216506958,-0.46012943983078003,-3.2341041564941406,0.6003350615501404,-5.1295976638793945,-6.484558582305908,-1.6199393272399902,4.8396453857421875,-11.125570297241211,2.0929155349731445,1.6784878969192505,4.486145496368408,3.844059944152832,2.367421865463257,-4.628823280334473,-3.09478497505188,2.018868923187256,4.660633563995361,4.515008926391602,-3.4570674896240234,5.558098316192627,5.628268241882324,1.109044075012207,4.548928737640381,4.651160717010498,1.5920131206512451,3.639775276184082,4.761007785797119,4.687398910522461,2.0895471572875977,-2.0111911296844482,-2.7588326930999756,1.7864861488342285,3.886303663253784,5.072786808013916,-2.9530086517333984,-7.09037971496582,2.83027982711792,4.236236095428467,-2.8489198684692383,1.6287717819213867,-5.610804557800293,-2.8969829082489014,-6.121336460113525,4.018324375152588,2.3882598876953125,-4.158993721008301,-3.167750120162964,-3.0562546253204346,-0.33613163232803345,-1.456636667251587,-2.451052665710449,2.83345627784729,-0.37026309967041016,4.179319858551025,1.1049519777297974,-0.7143585681915283,-2.5965781211853027,1.3785345554351807,-10.444634437561035,0.506316065788269,1.7933340072631836,4.921788215637207,-4.250036239624023,4.651222229003906,-1.1955585479736328,0.7338975667953491,1.675696611404419,-0.48381587862968445,-1.5988582372665405,-0.14816372096538544,0.4802882969379425,-4.39762020111084,2.9000022411346436,2.6438353061676025,3.0974864959716797,2.380944013595581,4.3038010597229,4.543123245239258,2.561450242996216,-0.3801214098930359,1.0571749210357666,5.678493976593018,5.390681266784668,2.208540916442871,1.3487271070480347,2.7209229469299316,2.0924861431121826,4.9320831298828125,0.0665871724486351,-5.163182735443115,-3.463472604751587,-3.093613862991333,-1.1090261936187744,-7.665453910827637,-3.323499917984009,-0.752098798751831,4.80909538269043,3.6461074352264404,4.757348537445068,-10.75302791595459,1.4937598705291748,4.421074867248535,-1.2415149211883545,-3.1721866130828857,-0.7429304122924805,1.9204802513122559,5.285916805267334,1.6805516481399536,-2.6324846744537354,4.128570556640625,-10.402968406677246,2.5431172847747803,4.295934200286865,1.0050023794174194,-4.425137996673584,4.446044445037842,4.857551574707031,4.896174907684326,0.7104409337043762,1.5837830305099487,4.061541557312012,-2.056274175643921,-2.8990700244903564,2.926055908203125,-2.142185926437378,4.238966464996338,-1.2812237739562988,0.6378859281539917,3.160916328430176,-0.7736790180206299,1.0506876707077026,3.8854739665985107,-2.9337995052337646,-4.911698818206787,4.177854537963867,-3.335017442703247,5.127215385437012,5.116622447967529,1.3408470153808594,-0.9204355478286743,-3.0398919582366943,-5.454547882080078,1.7491599321365356,-1.6389224529266357,0.5465998649597168,-1.9485218524932861,0.11381033807992935,1.7584971189498901,2.39477801322937,0.08582592010498047,-3.043834924697876,-4.802032470703125,5.536217212677002,5.065791606903076,-10.760791778564453,-5.388060092926025,-4.584765434265137,4.414567947387695,-4.468534469604492,-5.109821796417236,1.8600969314575195,-4.770593166351318,0.5666511058807373,-1.2850276231765747,4.142894268035889,-0.7973533272743225,3.297945499420166,4.791003704071045,-0.7178566455841064,-0.2398027628660202],\"y\":[1.6972533464431763,0.09057255834341049,5.562514305114746,-0.5977791547775269,0.7290340065956116,0.6214529871940613,-0.5357822775840759,8.098335266113281,3.3577935695648193,-7.359629154205322,-0.5253311395645142,-5.294454574584961,6.706044673919678,-2.906954526901245,-7.6901655197143555,4.364193916320801,-2.0985944271087646,-0.158321350812912,-0.5184650421142578,8.404428482055664,-8.904812812805176,4.97980260848999,-5.599588394165039,3.260776996612549,3.3411550521850586,1.0429116487503052,8.498982429504395,-1.9603590965270996,-0.4948580265045166,-0.26634708046913147,-8.252452850341797,0.7412723302841187,0.28174445033073425,0.5150743126869202,-3.030545234680176,-2.778900384902954,-6.903408050537109,-7.757518768310547,-2.4489283561706543,-2.8040835857391357,9.292071342468262,-8.174385070800781,4.698219299316406,3.261874198913574,0.017096199095249176,-3.5450072288513184,-3.7629525661468506,10.618634223937988,2.084413528442383,1.5028892755508423,-3.6168081760406494,-0.7836949229240417,-1.2254642248153687,-7.157318115234375,-4.006473064422607,7.965695858001709,2.82060170173645,1.3973489999771118,2.9047951698303223,-3.6073410511016846,-5.449295520782471,0.22023935616016388,0.9828699827194214,2.1391029357910156,-1.423214316368103,-5.028687953948975,-0.28361043334007263,0.8896295428276062,4.437290668487549,-3.453888177871704,-0.2957107424736023,-3.8177313804626465,8.988682746887207,-6.164760589599609,-7.36292028427124,8.482751846313477,-4.133991241455078,2.4022300243377686,-4.811185359954834,2.249894380569458,-2.032757043838501,-3.5774080753326416,-3.751371383666992,-7.6822004318237305,0.16436384618282318,1.855998158454895,9.743142127990723,7.281857967376709,3.6040830612182617,3.3867058753967285,-1.1483715772628784,3.324052572250366,6.819637775421143,-3.0231404304504395,1.9990874528884888,-4.889777660369873,5.274004936218262,-2.6511240005493164,3.6920039653778076,-7.134341239929199,-8.163848876953125,-6.423823833465576,-6.34232759475708,1.172520637512207,1.3547909259796143,4.058530330657959,10.147174835205078,-4.028395652770996,4.234280586242676,-3.0596694946289062,-1.9624963998794556,-2.792088031768799,-3.0473146438598633,6.725075721740723,3.125359535217285,-2.8535218238830566,-2.653538227081299,-8.429699897766113,1.854997158050537,-4.683363437652588,3.0943119525909424,-4.719088554382324,-3.8917036056518555,9.613161087036133,0.48868873715400696,6.9824113845825195,-1.7306692600250244,2.8603320121765137,-6.662639617919922,-4.957254409790039,5.996103763580322,3.5524179935455322,4.339441299438477,-4.870455265045166,1.7441518306732178,2.2984259128570557,-3.1237707138061523,-5.027188301086426,-3.1450157165527344,-9.167319297790527,4.05598783493042,-3.5715749263763428,5.151459217071533,-6.767130374908447,-2.5959672927856445,3.0682973861694336,-4.938754558563232,-1.2670928239822388,-2.428678035736084,-3.3571865558624268,-7.434761047363281,-2.9584360122680664,6.034032821655273,-0.39163851737976074,1.7430239915847778,-6.962316513061523,-0.6647188663482666,-6.306461811065674,-1.039584755897522,-1.7338132858276367,-2.6792314052581787,4.615372180938721,-2.929272174835205,7.726646900177002,-4.859475612640381,-8.462881088256836,6.54247522354126,-2.9232351779937744,-7.398036003112793,-1.546444058418274,-3.4522416591644287,-7.137351989746094,4.562013626098633,-3.3359649181365967,-3.060603618621826,-2.817120313644409,5.231226921081543,1.1045351028442383,8.804767608642578,3.5129857063293457,0.05598406121134758,3.4867398738861084,11.034552574157715,5.396031856536865,-3.298300266265869,-2.6565072536468506,-0.8922311067581177,0.2412394881248474,-8.348851203918457,0.8046813607215881,6.591691017150879,-7.467398166656494,-8.375609397888184,-4.709464073181152,7.820560932159424,7.762366771697998,3.2137033939361572,-1.5688996315002441,-1.6834601163864136,-3.0054359436035156,-2.9781405925750732,-1.4153096675872803,-9.09876823425293,-3.949354410171509,1.921752691268921,-3.0857295989990234,-2.7994115352630615,-6.534896373748779,-6.9849934577941895,2.670711040496826,-7.446224689483643,-3.031604528427124,-3.584092140197754,1.942760705947876,-6.357808589935303,-3.8020331859588623,0.143999382853508,3.1688549518585205,3.9083733558654785,6.936246395111084,9.759443283081055,-2.4741132259368896,-2.0478098392486572,0.7693087458610535,0.2947254180908203,1.7745156288146973,-2.7711400985717773,-4.30824089050293,-0.33431145548820496,-2.9372189044952393,8.319329261779785,1.860479712486267,-0.10777660459280014,-3.0388669967651367,-7.440204620361328,-6.429551601409912,-3.5594475269317627,5.64372444152832,0.5265935659408569,2.875990152359009,-5.707569122314453,2.355855941772461,-1.4305291175842285,-7.431768894195557,-2.5980653762817383,3.043567180633545,-0.4427136480808258,1.3811792135238647,-5.911836624145508,-2.5976574420928955,2.9063544273376465,-1.5879755020141602,-0.22828511893749237,-3.0116772651672363,10.568525314331055,-0.9006613492965698,-2.671005964279175,1.632409691810608,7.6670660972595215,-2.401249885559082,-7.7357072830200195,8.522451400756836,-4.603155612945557,-3.701761245727539,-5.956966400146484,-3.7792952060699463,-2.695722818374634,-0.563850462436676,2.381237745285034,-0.8311111927032471,3.535886526107788,-5.030797481536865,-5.160039901733398,-6.623597145080566,1.9610120058059692,0.14796333014965057,-2.3646581172943115,6.915846347808838,3.044287919998169,-3.3596713542938232,10.199568748474121,-4.321794509887695,9.165165901184082,2.947383165359497,-1.4439114332199097,-1.8269973993301392,-7.2440876960754395,-1.470849871635437,-0.724368155002594,4.6522064208984375,-1.1956034898757935,6.101069450378418,2.7259082794189453,-8.626910209655762,-0.8009436130523682,7.675745964050293,4.064250469207764,-4.267595291137695,-3.4243593215942383,-5.134941577911377,-0.9532738924026489,2.0132486820220947,-2.433253765106201,-8.383423805236816,0.4994065761566162,-3.733848810195923,10.941509246826172,-5.411407947540283,-4.594518661499023,-7.653644561767578,-7.477351188659668,6.5887908935546875,-6.6604437828063965,-4.947765350341797,-7.962067127227783,-4.352085590362549,8.80405044555664,7.989884853363037,1.081403136253357,-1.0044474601745605,1.9678024053573608,-1.1123143434524536,1.7112672328948975,-6.645101070404053,-7.617934703826904,1.5463364124298096,-3.758986234664917,-2.122201442718506,-0.7488163709640503,6.049154281616211,6.123128890991211,-5.684303283691406,8.59427261352539,5.481788635253906,1.6664801836013794,-2.2811999320983887,-2.0800912380218506,-9.142908096313477,-1.4625990390777588,7.943657398223877,1.4959882497787476,4.6823883056640625,-7.139939308166504,8.804767608642578,-2.7136781215667725,-6.6444926261901855,0.09468702971935272,-2.7633469104766846,5.390422821044922,-7.964353084564209,-6.430697441101074,-4.246312618255615,8.202467918395996,-1.3261008262634277,-4.696699142456055,-6.006948471069336,-6.983056545257568,-4.41483211517334,-7.241701602935791,-6.862847328186035,3.3403735160827637,2.1094446182250977,-8.261602401733398,0.7934084534645081,8.112080574035645,-1.5956027507781982,-0.2551271319389343,-8.343372344970703,2.3463919162750244,3.259491443634033,7.441892623901367,-4.404714107513428,-7.462366580963135,1.6584193706512451,-6.732714653015137,-0.10158395767211914,-0.5668426752090454,0.1247549057006836,-6.25581693649292,9.774605751037598,-2.2250211238861084,5.164323329925537,2.699636459350586,-0.9231474995613098,1.9904762506484985,-2.6590523719787598,-1.7015680074691772,7.870053768157959,2.8268089294433594,2.2890968322753906,6.947979927062988,-3.815922975540161,5.715403079986572,-4.158156394958496,2.897040843963623,-6.657149791717529,2.1580302715301514,-3.1701178550720215,-0.43388301134109497,-6.7612690925598145,-2.5254781246185303,3.140683889389038,-6.760478973388672,-3.1386899948120117,4.498296737670898,0.9460827112197876,-1.102959156036377,-3.2050201892852783,9.95560359954834,4.116301536560059,2.2853591442108154,4.418202877044678,2.490884780883789,0.6236303448677063,-2.524873733520508,-0.5114133954048157,-0.8022196888923645,-8.348694801330566,-6.949169158935547,7.698338508605957,1.7032058238983154,0.776862382888794,-6.7466254234313965,-2.8218226432800293,6.763848304748535,-8.948068618774414,1.7810754776000977,-0.21538054943084717,-1.421358585357666,-3.385526418685913,-5.5599565505981445,-6.752403736114502,-3.625678062438965,8.040352821350098,-3.5243442058563232,6.289947509765625,-7.649344444274902,-6.802689552307129,-2.7899935245513916,-7.807403087615967,2.291153907775879,3.3691964149475098,1.9765608310699463,-7.6591339111328125,-9.269829750061035,-1.6429849863052368,-1.9798866510391235,-0.483281672000885,-3.9208426475524902,9.111186981201172,-4.6878743171691895,0.5426946878433228,-3.1746222972869873,1.742512583732605,-2.8917315006256104,-8.16420841217041,-7.293372631072998,-3.435432195663452,-4.121514320373535,-3.470669984817505,-9.128634452819824,-1.763578176498413,6.0140557289123535,3.1358237266540527,-0.29161110520362854,1.3796963691711426,-6.8824968338012695,-8.444567680358887,1.5506775379180908,-3.658095359802246,4.062280654907227,-3.6189656257629395,10.167881965637207,11.053630828857422,8.560667037963867,-9.318633079528809,-1.7011277675628662,-7.604447364807129,-6.243600368499756,-2.926445722579956,5.754655361175537,8.409534454345703,-7.489320755004883,-6.501668930053711,2.908332109451294,-3.9979100227355957,-5.639214515686035,-6.641992092132568,-3.5844993591308594,4.406674861907959,-7.307037830352783,-5.303804874420166,9.514335632324219,4.06841516494751,2.43772292137146,-4.347033977508545,-8.07689094543457,1.2418173551559448,-0.5083107352256775,6.563387870788574,3.6141345500946045,-3.2546520233154297,1.8293136358261108,-4.894484519958496,-5.987030506134033,3.2172985076904297,2.166551351547241,0.3130286931991577,-1.3465969562530518,-5.558672904968262,5.700438976287842,1.5848188400268555,-2.447477340698242,-3.97750186920166,7.528725624084473,0.16646690666675568,-0.15318484604358673,-0.2148851752281189,-1.2318940162658691,-2.7925095558166504,8.368395805358887,-5.048949241638184,-3.3034827709198,-5.023153781890869,6.3386101722717285,8.193192481994629,-0.5830047726631165,-5.312403678894043,7.37305212020874,-7.019617557525635,3.384148597717285,-7.9881720542907715,3.3892123699188232,1.4220272302627563,-0.6539658904075623,0.3608371615409851,3.472050189971924,-8.180150032043457,-8.959990501403809,-6.920472145080566,4.449955940246582,0.6629793047904968,4.796821117401123,0.3451465368270874,3.047283172607422,-0.49727997183799744,-1.322222113609314,0.4838463366031647,-2.630824327468872,-2.484889268875122,-8.176310539245605,-1.1143351793289185,9.061100959777832,-5.461207866668701,-2.1249120235443115,2.5072364807128906,2.5100114345550537,8.213011741638184,-0.6967012882232666,1.7793792486190796,-2.7040152549743652,-7.084592819213867,6.15437650680542,5.928904056549072,-3.082467555999756,2.344715118408203,1.03589928150177,8.07321548461914,-2.662114381790161,8.934502601623535,3.243680238723755,-5.399417877197266,-5.830605983734131,-0.3647609055042267,-8.230489730834961,-7.608641624450684,-1.9069809913635254,3.6343166828155518,-0.2523784637451172,-5.760764122009277,4.519723415374756,-5.791107177734375,3.2541959285736084,-5.996448993682861,-4.023118495941162,-0.5180213451385498,0.6948897838592529,5.938136100769043,3.410121202468872,9.29798412322998,2.159116268157959,-2.0184743404388428,2.89504075050354,2.958129405975342,1.4560693502426147,2.423063278198242,-0.04620547220110893,-5.510979175567627,3.3183765411376953,2.9839673042297363,-2.3273956775665283,-0.16252855956554413,-8.32811164855957,-3.181185245513916,-8.499967575073242,7.959085464477539,-6.7455244064331055,-1.3237190246582031,2.5856716632843018,-3.6868226528167725,7.61702299118042,-1.0882316827774048,1.3810679912567139,8.355448722839355,-3.9702134132385254,-4.660329818725586,0.13836488127708435,-1.7725324630737305,-0.6167334914207458,4.7914652824401855,-1.263568639755249,-2.083562135696411,1.0958456993103027,-8.14476203918457,5.523255825042725,-7.172640800476074,2.8586103916168213,-2.7933144569396973,-0.65272057056427,-8.067502975463867,-1.1855945587158203,3.331022024154663,-0.345986932516098,-1.0792478322982788,-5.889431476593018,0.45338279008865356,-4.78037166595459,-3.915454864501953,1.572278618812561,-2.258256673812866,-2.2177023887634277,-1.828664779663086,7.670709133148193,-2.6243715286254883,-0.37278929352760315,2.4398622512817383,8.462798118591309,3.770158529281616,-5.850796699523926,0.47000908851623535,3.129484176635742,2.672697067260742,2.907672882080078,-4.64400053024292,-3.091571569442749,-7.367535591125488,-7.796818733215332,-1.398019552230835,-3.42678165435791,-4.590190410614014,1.0981123447418213,-3.1888372898101807,-2.824254035949707,4.246368885040283,-0.06206425279378891,-4.877498149871826,-9.211077690124512,2.691774845123291,-7.181210517883301,-6.911835670471191,1.2016741037368774,-3.2177722454071045,-0.6154291033744812,-4.145565032958984,6.470170974731445,-3.9676859378814697,4.814240455627441,-4.277667999267578,-2.965848922729492,5.568221092224121,-7.848903179168701,6.5857930183410645,3.2158782482147217,-2.5517725944519043,-5.971678733825684,-4.505821704864502,-3.6219420433044434,-2.068502187728882,2.9428322315216064,-3.0355727672576904,5.718417644500732,-2.1577789783477783,0.5998695492744446,0.12160929292440414,2.9058473110198975,5.675598621368408,8.503381729125977,-8.018075942993164,3.2313642501831055,2.0385942459106445,2.5126888751983643,-1.6994881629943848,5.590458869934082,2.8631417751312256,-5.423058986663818,1.7175716161727905,5.435944080352783,-3.067793607711792,-5.291978359222412,-0.7949413061141968,2.6262753009796143,-0.4512963891029358,2.987833261489868,-0.2017957717180252,2.238253355026245,-6.609644889831543,-7.376807689666748,-1.6905735731124878,2.030160903930664,-7.860856533050537,-0.3820071220397949,-2.734265089035034,-5.899707794189453,0.9726212620735168,1.1529277563095093,-6.5481767654418945,6.905812740325928,6.259570121765137,2.274738311767578,-2.7007575035095215,0.8672357201576233,-6.71347188949585,1.3596787452697754,-6.388498783111572,1.3886104822158813,-2.144296169281006,-8.115419387817383,0.4438066780567169,-8.456761360168457,-2.5124289989471436,-7.89169979095459,3.365058660507202,7.949240207672119,-2.644700527191162,-5.115541458129883,6.349656581878662,0.08159047365188599,7.751007556915283,0.13674555718898773,1.742511510848999,-0.8067035675048828,0.713780403137207,3.1696016788482666,-8.416051864624023,5.389499664306641,2.64540433883667,2.3904621601104736,1.8579695224761963,8.561675071716309,3.8390889167785645,9.5125150680542,3.431748628616333,3.188450336456299,-1.5725293159484863,0.43762874603271484,-5.64068078994751,6.194564342498779,0.5054919719696045,5.750622272491455,2.7423176765441895,-7.854940891265869,0.4890642464160919,4.005471229553223,3.085226058959961,-7.6369781494140625,-8.068291664123535,-6.997753620147705,-7.845005989074707,9.78734302520752,-2.0316267013549805,-6.517877578735352,0.19033442437648773,-8.500798225402832,-6.203944683074951,-5.957119464874268,-5.3476715087890625,5.929549694061279,-2.3899266719818115,0.5519099831581116,-1.7462936639785767,3.580007314682007,2.5662448406219482,-4.950923919677734,8.046653747558594,-7.044530391693115,-7.380556106567383,4.8307204246521,2.6532700061798096,8.560633659362793,4.728257179260254,7.929171562194824,0.016974493861198425,3.0848443508148193,-7.599941730499268,-8.333166122436523,5.781894207000732,-7.722120761871338,-3.264193534851074,-3.6088876724243164,0.6145654320716858,-1.486390233039856,1.3476412296295166,1.9857759475708008,0.8464433550834656,5.448462009429932,-1.7770954370498657,2.5577077865600586,3.4122865200042725,2.5760929584503174,-4.638487815856934,4.252110004425049,3.003277540206909,7.309615612030029,-6.18076229095459,-8.141027450561523,0.5023133158683777,1.1820404529571533,2.392773151397705,1.0727237462997437,0.49388930201530457,-6.547913074493408,6.1937761306762695,5.928445339202881,8.01762866973877,7.859724521636963,-7.872225284576416,0.045563191175460815,-7.206813335418701,-7.267359256744385,6.046139717102051,-2.489331007003784,-0.25097760558128357,-3.5516231060028076,-4.188797473907471,2.3018434047698975,8.106058120727539,-2.6221673488616943,2.7300620079040527,-2.182321548461914,-7.682124137878418,2.447571039199829,6.003226280212402,2.9686131477355957,-4.24967098236084,-2.093803882598877,0.3175815939903259,6.805464267730713,-2.7496726512908936,4.564391136169434,-6.755995273590088,5.454308032989502,4.633002758026123,7.8359479904174805,2.45605206489563,-5.557497978210449,-5.490839004516602,-1.4367082118988037,3.3894710540771484,-7.155945301055908,1.4139125347137451,-8.337263107299805,8.362635612487793,3.6297435760498047,-2.4234516620635986,-4.9743547439575195,-6.931265354156494,-5.8697123527526855,-0.7591856718063354,-0.02675457112491131,-3.495816230773926,-5.913048267364502,-1.6992771625518799,-0.34615281224250793,-0.6006481051445007,-4.655235767364502,-7.119073390960693,-8.556840896606445,-0.2437179833650589,3.5789523124694824,8.332345008850098,0.47467541694641113,-8.12145709991455,1.0950064659118652,-1.4243289232254028,-8.319377899169922,1.364696741104126,0.9524446129798889,5.7864460945129395,-6.7813591957092285,6.334531307220459,-7.2106523513793945,-1.3437719345092773,6.29537296295166,3.452113151550293,-5.080786228179932],\"z\":[5.73198127746582,-2.5609476566314697,3.0238842964172363,0.9923850893974304,1.1200387477874756,-0.3311638832092285,-0.44021081924438477,-6.025810718536377,4.683080673217773,-0.8793867230415344,1.1291922330856323,-5.007739543914795,-0.5108064413070679,-1.0748920440673828,-0.8501116037368774,-0.30995896458625793,-4.181360721588135,-0.10837513953447342,1.2940553426742554,-0.4014686048030853,-2.9343979358673096,4.035720348358154,1.3940070867538452,1.5521050691604614,4.63066291809082,5.803460121154785,-6.18048620223999,1.5551468133926392,-0.49139404296875,-3.833601474761963,-3.5310373306274414,1.1657578945159912,-0.8903279900550842,-0.9792399406433105,-6.090755462646484,-1.8794546127319336,-2.2359373569488525,-3.455066442489624,1.043049931526184,-1.624094843864441,-1.0606403350830078,-0.2519848644733429,1.7880281209945679,-2.5724375247955322,-3.053189992904663,-4.196367263793945,-6.4095683097839355,-1.9182524681091309,-1.0424333810806274,-0.2053358256816864,-4.991440773010254,-4.948002338409424,3.0866827964782715,-2.3797805309295654,-5.069311618804932,-2.1711559295654297,0.8598201870918274,4.458473205566406,2.254319667816162,0.8133353590965271,5.1659321784973145,-0.7150967121124268,5.757358551025391,-3.411703109741211,-2.0924787521362305,-3.8486905097961426,-3.024336814880371,-2.7388744354248047,4.136311054229736,-4.361632823944092,7.769461154937744,8.112435340881348,-0.8210238814353943,-3.105211019515991,-2.371124267578125,-6.487139701843262,7.253611087799072,5.425537586212158,-1.716559648513794,-0.2469090223312378,6.009784698486328,-1.3239820003509521,-4.609284400939941,-0.5393967032432556,1.6918379068374634,-3.808939218521118,-1.905155897140503,-1.1969897747039795,-5.572327613830566,2.183954954147339,-4.740918159484863,1.8505538702011108,2.4816548824310303,8.1453857421875,1.9076035022735596,4.4066643714904785,3.8491663932800293,-6.452331066131592,2.0472936630249023,-0.25558188557624817,-0.08953042328357697,1.3101433515548706,-5.744894504547119,-0.8431333899497986,-1.0911887884140015,4.141438961029053,-1.224206566810608,-1.4263180494308472,-1.3885414600372314,0.8040164709091187,-0.6248564720153809,-2.1928296089172363,-3.7663066387176514,0.6415703892707825,-3.401214361190796,-1.1839070320129395,-2.1830406188964844,-0.16980712115764618,2.135066270828247,7.65107536315918,5.023446083068848,-4.076061725616455,2.365351915359497,-1.2015448808670044,1.7121983766555786,-0.13056936860084534,2.2250399589538574,2.0729763507843018,2.5602784156799316,-2.342724561691284,0.9658874869346619,3.425166368484497,-3.01668381690979,5.7582783699035645,4.343108177185059,-5.05982780456543,1.7290537357330322,-4.362483501434326,-4.236514568328857,-1.9683371782302856,1.701884150505066,0.44651439785957336,3.4220290184020996,-5.514881610870361,-4.312881946563721,1.7458966970443726,1.2954031229019165,-1.0986868143081665,-5.493841648101807,1.9715629816055298,-2.883730888366699,-7.309640884399414,1.5906466245651245,-2.958564281463623,1.6573584079742432,-5.754685401916504,-5.08599328994751,-2.0229148864746094,2.4174294471740723,0.6054953336715698,2.812211036682129,4.266937732696533,3.3933329582214355,1.0480901002883911,-1.4747365713119507,-2.5013363361358643,0.9812429547309875,-1.3633583784103394,-2.816110610961914,-6.751240253448486,0.8430851101875305,-3.5458266735076904,-1.8540886640548706,0.8958237171173096,-6.907408714294434,7.872722148895264,0.2972812354564667,1.935689091682434,-2.2708470821380615,1.3532081842422485,2.2517173290252686,4.274507522583008,-2.208622455596924,5.124660015106201,-7.176043510437012,-4.9954423904418945,2.9865071773529053,-5.05833101272583,-1.7979142665863037,-1.5423349142074585,5.028108596801758,-0.6395883560180664,-3.7540361881256104,-1.3245056867599487,-0.438230961561203,-2.2650792598724365,1.6904592514038086,0.7102267742156982,7.768570423126221,7.024941444396973,-1.8748164176940918,-0.16028058528900146,-1.1923211812973022,8.043655395507812,-1.7714489698410034,-1.829587697982788,0.31377843022346497,-1.1357415914535522,-1.8058651685714722,0.31839337944984436,-0.32325437664985657,-3.9868710041046143,7.795799732208252,-3.7338576316833496,-0.32655030488967896,0.31685784459114075,7.796875953674316,-5.000025749206543,3.331557512283325,-1.0085874795913696,-1.526320457458496,-3.5173933506011963,-7.260375499725342,2.158830404281616,1.8666901588439941,1.8413349390029907,5.557365417480469,-0.35591456294059753,0.46731218695640564,0.8522180318832397,-6.680971622467041,1.128339409828186,0.8379877805709839,0.8339769244194031,-2.2576851844787598,-2.990077495574951,5.866417407989502,-0.12386494874954224,-1.7093348503112793,-0.9559341073036194,-0.57613205909729,-4.1098809242248535,-1.8165595531463623,-2.86700439453125,9.0598726272583,1.1816620826721191,4.340322971343994,-5.692869663238525,-6.151322841644287,5.315741539001465,1.7364853620529175,2.941340923309326,-4.082613945007324,-5.965799331665039,-1.81906259059906,-4.826306343078613,-0.941241979598999,-1.0470706224441528,-5.42714786529541,-0.8277366161346436,0.16219525039196014,-6.338044166564941,-4.804208755493164,8.343334197998047,-6.598065376281738,-3.82157564163208,-2.1776106357574463,0.34886085987091064,5.443302631378174,3.894818067550659,0.5156055688858032,4.281067848205566,4.24782133102417,-1.856979250907898,0.5118639469146729,-5.383132457733154,2.9304683208465576,-2.792287588119507,4.0723419189453125,-5.4258527755737305,-1.262053370475769,-0.5067578554153442,-0.4539584815502167,3.430004835128784,-7.08037805557251,-6.080543518066406,-5.162802219390869,5.07859468460083,7.538410663604736,2.628864049911499,6.645297050476074,4.836987495422363,5.116677284240723,-0.43455514311790466,-2.038876533508301,-5.433391094207764,-0.8591933250427246,3.477243185043335,5.447888374328613,-4.143833160400391,-4.83518123626709,2.4408316612243652,-3.282069206237793,-2.976719856262207,-0.8510798215866089,6.521011829376221,-2.1860668659210205,1.5868663787841797,-5.150460720062256,-2.8755040168762207,1.4325214624404907,5.530091762542725,2.3852851390838623,1.6333037614822388,-3.443787097930908,-3.2360076904296875,-2.270324230194092,-5.9368109703063965,-5.367682933807373,3.486863374710083,1.5479124784469604,-1.7061457633972168,-0.9501210451126099,-1.0959584712982178,-5.4604573249816895,1.488371729850769,-5.44547176361084,-0.9429879188537598,2.4522430896759033,2.7336089611053467,-0.5036421418190002,1.4291812181472778,-1.9233821630477905,2.3860926628112793,-5.595818519592285,8.57633113861084,7.0956926345825195,-1.4279963970184326,-0.6101502180099487,-6.177608013153076,1.3913182020187378,2.534620523452759,-3.224181652069092,-2.2708468437194824,-1.7999882698059082,1.2362353801727295,2.2809624671936035,-0.13086821138858795,4.740213871002197,-3.360166549682617,4.072216510772705,6.747649192810059,-6.695296764373779,-7.206385135650635,7.309530735015869,0.3220769464969635,-2.8194053173065186,7.884830474853516,-1.495396614074707,-1.1682207584381104,1.4581562280654907,0.4619593024253845,-3.2807185649871826,1.165213942527771,-6.022861003875732,6.938973426818848,1.504736065864563,-0.7461373209953308,-3.5295958518981934,4.823248863220215,-2.4969167709350586,-2.3924062252044678,0.016976410523056984,-4.016683101654053,-2.4436683654785156,2.131774663925171,4.465935707092285,-5.150735855102539,-5.609309673309326,-1.291224479675293,-6.7963457107543945,4.982240200042725,-1.3301292657852173,-7.238038063049316,-0.6228457093238831,-0.23988892138004303,3.875109910964966,-6.599647521972656,1.2648931741714478,-5.065719127655029,-0.6543493866920471,4.169600486755371,5.28624963760376,7.221829414367676,1.437188744544983,-3.581192970275879,-3.0610406398773193,-0.38168203830718994,-0.4582832455635071,2.099756956100464,-5.10202169418335,-3.3888025283813477,-6.07992696762085,-5.267395496368408,1.7779544591903687,-5.280168533325195,1.2272038459777832,-7.449511528015137,-1.078812599182129,-0.6280815601348877,-5.987453937530518,4.087106704711914,-5.693459987640381,-4.152565956115723,-4.960006237030029,-3.6151673793792725,1.7774478197097778,-0.19870544970035553,1.8115178346633911,-5.477730751037598,4.065421104431152,6.77871036529541,2.324100971221924,7.967153549194336,2.6715095043182373,-1.4130101203918457,1.8812949657440186,-5.134712219238281,7.118246555328369,5.979550838470459,1.4272170066833496,-3.83022403717041,-5.220187664031982,0.3447206914424896,2.5594968795776367,5.494713306427002,1.2882728576660156,0.1423984318971634,0.9600309729576111,0.008451603353023529,-2.4565482139587402,1.7181649208068848,-3.1209685802459717,-1.1195249557495117,-1.6677430868148804,6.9768500328063965,2.8623545169830322,3.170438289642334,-4.278888702392578,-0.17558090388774872,0.030551673844456673,-3.2695024013519287,8.72566032409668,2.198469638824463,8.555865287780762,-3.134455680847168,1.6616708040237427,6.518256187438965,6.487285137176514,-6.986892223358154,-1.000530481338501,8.400582313537598,5.695502758026123,3.9641995429992676,-3.005363941192627,-3.751701593399048,-4.931980133056641,-0.19054988026618958,1.8402372598648071,-2.2122809886932373,-2.2422828674316406,8.020232200622559,-1.8840084075927734,-2.1060492992401123,-0.7606604099273682,-2.0354466438293457,-2.1407735347747803,-3.965618133544922,-3.037641763687134,2.3811185359954834,6.490976810455322,-6.567924499511719,-2.5563273429870605,-2.3030364513397217,4.04796028137207,-4.642428874969482,-6.409393787384033,-1.3068492412567139,0.14352938532829285,3.426236629486084,-5.879994869232178,-5.165660858154297,-1.5869731903076172,-5.981899261474609,1.3095204830169678,5.59827995300293,1.3698455095291138,0.09012841433286667,-2.6353275775909424,2.194490909576416,3.8864667415618896,5.7176384925842285,5.708142280578613,1.6998215913772583,-1.168707013130188,3.3754379749298096,0.9815759062767029,-0.13667604327201843,5.047286033630371,4.224400043487549,-0.5792250633239746,-1.0874571800231934,8.276745796203613,-6.219627857208252,1.1602541208267212,7.272517204284668,7.116679668426514,1.2665181159973145,-4.7605109214782715,-5.661921501159668,-6.4930877685546875,-4.347523212432861,-5.816977024078369,1.6555134057998657,5.4302144050598145,-6.198958873748779,3.012878894805908,1.5738849639892578,-1.9858133792877197,-5.363332271575928,-0.8246135711669922,-2.2229249477386475,1.7560831308364868,2.1881470680236816,2.50504469871521,-0.6561713814735413,-1.2605258226394653,-1.1150119304656982,-1.6449730396270752,-2.1207621097564697,2.9844634532928467,1.513468861579895,-0.4549543857574463,-0.22500038146972656,-4.690329074859619,5.177361011505127,5.177400588989258,-1.7720141410827637,-7.0760016441345215,-6.452893257141113,1.0146793127059937,3.2860188484191895,-0.36233463883399963,1.6706911325454712,-7.271390438079834,-0.45987775921821594,1.8959447145462036,-6.364071846008301,-3.5939035415649414,-2.646376371383667,-5.9256486892700195,1.9264042377471924,-0.9425788521766663,5.515354633331299,-7.236794471740723,2.78944730758667,1.2574481964111328,-0.18726815283298492,-2.329193353652954,-1.5959583520889282,-5.043738842010498,-1.138127326965332,1.7810746431350708,-4.100215435028076,-0.9441877007484436,-1.1683204174041748,3.432180404663086,1.9381251335144043,1.2945445775985718,-0.8482745289802551,3.5749382972717285,-1.290773868560791,-1.801263451576233,4.260549068450928,-4.594077110290527,-3.5632731914520264,-4.685405731201172,4.073190212249756,-3.6531684398651123,-1.3070429563522339,-4.880532741546631,3.26282000541687,1.3509230613708496,-5.13795804977417,-0.6387952566146851,-2.603074789047241,4.72279691696167,1.744102120399475,-3.5996248722076416,-5.236250400543213,6.454766750335693,1.4803820848464966,-1.4780197143554688,-5.696547985076904,-1.6973518133163452,-6.011248588562012,-6.096129417419434,0.31842613220214844,2.7041165828704834,-0.10661528259515762,0.2004597783088684,-1.5624884366989136,3.060260772705078,-6.245405673980713,5.316937446594238,-4.688469409942627,7.7046403884887695,3.5457348823547363,-3.6607561111450195,2.1644115447998047,6.881610870361328,7.300413131713867,6.825223445892334,-1.26674222946167,2.927527666091919,-0.42750099301338196,1.552308201789856,-5.213338375091553,3.995201349258423,0.6877480745315552,-4.504848957061768,-0.47953203320503235,-3.412736654281616,-4.6234540939331055,1.881692886352539,-4.876862049102783,1.4107589721679688,-0.0535254068672657,-5.820184707641602,4.736419200897217,-5.801016330718994,7.5974836349487305,1.094606637954712,-0.6356091499328613,1.4295095205307007,-2.4270169734954834,-6.147836685180664,-0.9082705974578857,-3.5829880237579346,-3.4264934062957764,1.9387493133544922,-5.319256782531738,-5.196153163909912,-2.4901862144470215,2.2830920219421387,-2.8775978088378906,-5.709079742431641,7.889573574066162,5.991115570068359,-1.970739483833313,1.580606460571289,-1.6664525270462036,-0.17501506209373474,0.8307416439056396,7.2698869705200195,5.107375144958496,-1.298477292060852,-4.669217109680176,-3.5862321965396404e-05,0.8261730670928955,-3.697258710861206,2.805347204208374,3.2461798191070557,3.223862648010254,2.6613245010375977,-1.5430042743682861,0.35272765159606934,8.064142227172852,-1.6754506826400757,5.060432434082031,-3.3968000411987305,-0.3048626184463501,4.8957839012146,1.466884970664978,4.145887851715088,4.134118556976318,6.916177749633789,7.931630611419678,2.9855473041534424,-6.741391658782959,5.55206298828125,3.9808526039123535,1.219652533531189,0.37634727358818054,-4.50832986831665,4.428613185882568,-0.38524147868156433,0.7514772415161133,1.4433282613754272,-3.134533405303955,3.3164539337158203,-3.392934799194336,1.242398977279663,-3.7022266387939453,-3.542362689971924,-1.2656735181808472,3.624706268310547,-0.8401610255241394,-4.581719875335693,-4.165070533752441,-5.321140766143799,-4.4610795974731445,1.5219683647155762,-4.399809837341309,-3.37272572517395,-3.501155376434326,1.219596028327942,-1.4324544668197632,-5.111527919769287,0.750484824180603,6.728166103363037,-0.9046762585639954,2.5113236904144287,-3.4011974334716797,6.60001802444458,-3.5572316646575928,1.5288184881210327,2.3804078102111816,-6.035689830780029,8.871716499328613,6.123430252075195,-6.09269905090332,6.170461177825928,-6.399754047393799,2.1439900398254395,8.870675086975098,0.020875263959169388,7.854824542999268,0.31749090552330017,1.0235896110534668,-6.119055271148682,4.435196399688721,-6.013383865356445,-2.7208001613616943,-3.9918136596679688,2.307804822921753,1.996188998222351,0.9499642848968506,0.4497871398925781,2.198469877243042,5.391336917877197,1.6930584907531738,-0.2640027105808258,-1.258637547492981,0.17914867401123047,-5.222590923309326,-2.652787446975708,-3.699596881866455,-0.7592687010765076,1.837342619895935,-1.1625165939331055,3.746574878692627,-2.5306243896484375,0.8853701949119568,-1.377849817276001,-2.1853528022766113,5.457501411437988,-5.119214057922363,0.3540465533733368,2.22528338432312,-1.3862675428390503,-6.987623691558838,-1.1952447891235352,1.2010276317596436,-3.143829822540283,0.7012689709663391,0.8613801002502441,1.215333104133606,-1.9190055131912231,3.6693577766418457,-2.1941771507263184,3.633762836456299,-0.1867520958185196,0.008753778412938118,0.9961491823196411,-4.585926055908203,5.3205342292785645,-2.9159555435180664,-1.176516056060791,-7.144542694091797,5.16835355758667,1.240558385848999,4.891481399536133,-6.529846668243408,-2.8845653533935547,-2.3244199752807617,2.160313606262207,4.148473739624023,-0.7606250047683716,2.283534049987793,1.0177781581878662,-5.350834846496582,3.9611217975616455,-2.8789026737213135,-2.191971778869629,5.803638935089111,-3.2124743461608887,1.4782253503799438,-1.3764078617095947,-7.046055316925049,-7.195152759552002,-2.6007864475250244,-3.625105619430542,6.74554443359375,4.628593444824219,-5.887942790985107,-4.986841201782227,-0.8162606358528137,2.048248529434204,5.270017623901367,-6.141872882843018,-3.40608811378479,-2.3146631717681885,1.55222487449646,0.7437161803245544,2.656449794769287,-0.9049820303916931,3.389010190963745,1.5130678415298462,3.1063733100891113,2.9794888496398926,-3.4942142963409424,5.0727972984313965,-0.768393337726593,-6.241018772125244,-1.9829083681106567,2.8331596851348877,-3.6158812046051025,-5.135839939117432,1.481048583984375,5.529800891876221,1.1510764360427856,-6.599067687988281,3.107586622238159,-1.095131516456604,-6.570801734924316,-7.318859100341797,0.30618295073509216,8.531118392944336,-0.06114361435174942,4.44925594329834,-3.577467918395996,-3.9358386993408203,-3.7625370025634766,8.498852729797363,-1.2754771709442139,2.690328359603882,1.1039314270019531,-2.8306267261505127,1.5254020690917969,-0.7911596894264221,2.060392141342163,1.053478479385376,5.570568561553955,2.376512050628662,1.7137010097503662,-6.490721702575684,1.657473087310791,2.4527926445007324,4.383056163787842,-4.041198253631592,-1.109956979751587,-3.979856252670288,1.9517390727996826,6.457435607910156,-5.87394905090332,0.9563214778900146,-4.270748138427734,0.23014496266841888,-0.0894341692328453,-2.5976169109344482,3.5512073040008545,-6.604470729827881,6.0507354736328125,6.436098098754883,-5.251039981842041,-0.9228569269180298,-3.279229164123535,4.166090488433838,-6.617372035980225,1.1684153079986572,-3.593296766281128,4.854171276092529,0.5933370590209961,-0.23372459411621094,-1.5099390745162964,0.39535123109817505,4.86532735824585,-3.3297250270843506,-0.5580007433891296,-5.098049640655518,-4.579774379730225,-3.2076830863952637,1.5747202634811401,5.975528717041016],\"type\":\"scatter3d\"},{\"hovertemplate\":\"Dominant_Topic=Topic 1<br>0=%{x}<br>1=%{y}<br>2=%{z}<extra></extra>\",\"legendgroup\":\"Topic 1\",\"marker\":{\"color\":\"#EF553B\",\"opacity\":0.7,\"symbol\":\"circle\"},\"mode\":\"markers\",\"name\":\"Topic 1\",\"scene\":\"scene\",\"showlegend\":true,\"x\":[3.7304306030273438,3.7303922176361084],\"y\":[10.952832221984863,10.9528169631958],\"z\":[-2.137277603149414,-2.1372363567352295],\"type\":\"scatter3d\"},{\"hovertemplate\":\"Dominant_Topic=Topic 2<br>0=%{x}<br>1=%{y}<br>2=%{z}<extra></extra>\",\"legendgroup\":\"Topic 2\",\"marker\":{\"color\":\"#00cc96\",\"opacity\":0.7,\"symbol\":\"circle\"},\"mode\":\"markers\",\"name\":\"Topic 2\",\"scene\":\"scene\",\"showlegend\":true,\"x\":[-5.657878398895264,-2.1383748054504395,-4.427669525146484,-9.617303848266602,-1.993984580039978,-7.631771564483643,-3.7446463108062744,-3.380768299102783,-9.644173622131348,-2.6074767112731934,-8.757769584655762,-3.603631019592285,-7.814568996429443,-8.476700782775879,-6.635852813720703,-9.565889358520508,-7.9661478996276855,-3.637089252471924,-5.068853855133057,-9.646947860717773,-3.816408395767212,-0.42947253584861755,-6.806709289550781,-7.537564277648926,-8.201292037963867,-7.442966461181641,-1.9807335138320923,-7.7600812911987305,-9.143394470214844,-0.6247426271438599,-4.888960361480713,-6.6101861000061035,-6.594674110412598,-8.149279594421387,-4.380424976348877,-5.783387184143066,-1.525067687034607,-8.704618453979492,-3.425952672958374,-3.2458009719848633,-2.6357688903808594,-7.836734294891357,-6.7069315910339355,-8.10118579864502,-9.878808975219727,-9.863773345947266,-3.1987502574920654,0.1375524252653122,-9.385153770446777,-3.243989944458008,-3.108764410018921,-3.2497880458831787,-2.678351402282715,-6.22975492477417,-9.463356018066406,-2.4104325771331787,-7.455068588256836,-5.398446083068848,-8.835734367370605,-8.10438346862793,-7.952301025390625,-2.670182228088379,-0.3351796567440033,-4.634324550628662,-7.276878356933594,-4.314349174499512],\"y\":[4.395988941192627,4.7391228675842285,3.5573129653930664,2.3038265705108643,4.610911846160889,3.7341976165771484,5.90453577041626,4.206151008605957,2.588529586791992,3.98736310005188,3.3295116424560547,5.804408073425293,3.6314351558685303,3.5211727619171143,3.94486665725708,3.03951358795166,3.6414635181427,6.00267219543457,4.987126350402832,2.519819498062134,3.8118574619293213,7.376845359802246,4.061394214630127,2.2000932693481445,2.7830281257629395,3.5827372074127197,6.37267541885376,3.9576990604400635,3.0647847652435303,6.256491661071777,2.7988080978393555,3.986531972885132,4.138052463531494,3.289740800857544,2.970322847366333,1.784855842590332,5.881385803222656,2.44289231300354,5.867473602294922,4.476468086242676,6.3016133308410645,2.438817262649536,4.054080963134766,3.216810941696167,2.161806106567383,2.2103941440582275,4.636085510253906,7.162034511566162,3.097843647003174,6.458418369293213,6.136503219604492,3.991250514984131,4.253870964050293,4.1212944984436035,2.662229061126709,6.300302505493164,2.3929591178894043,2.61334228515625,2.9045279026031494,2.2082982063293457,3.0821661949157715,6.177773475646973,6.59140157699585,5.369874000549316,3.8359973430633545,3.006776809692383],\"z\":[1.8144522905349731,2.6152212619781494,1.9693481922149658,1.8691872358322144,1.8511325120925903,1.6182721853256226,1.8441115617752075,3.9348361492156982,1.9878253936767578,1.7637372016906738,1.2825452089309692,1.4805312156677246,2.334425687789917,1.8167582750320435,2.22416615486145,2.2668535709381104,2.1565804481506348,1.809390664100647,1.8752590417861938,1.9442051649093628,3.862731456756592,0.9696652293205261,2.0162880420684814,1.7150968313217163,1.7291473150253296,2.0185656547546387,1.2626292705535889,1.268068552017212,2.0927889347076416,1.3586608171463013,2.171510934829712,1.825860857963562,1.9289512634277344,2.2779383659362793,3.8621652126312256,1.7022504806518555,2.840688943862915,1.906079888343811,1.3304818868637085,3.9122939109802246,1.4578638076782227,1.7253165245056152,2.349437952041626,1.8329885005950928,1.950719952583313,1.9559657573699951,4.0901665687561035,1.4023362398147583,1.9569900035858154,2.34238600730896,1.3039054870605469,3.916135311126709,1.9904522895812988,2.4198927879333496,1.84819495677948,1.386601448059082,1.7930898666381836,1.4399195909500122,1.5605043172836304,1.7460439205169678,2.1343417167663574,1.2980146408081055,0.8631036281585693,1.7441909313201904,1.8400797843933105,3.6684012413024902],\"type\":\"scatter3d\"},{\"hovertemplate\":\"Dominant_Topic=Topic 3<br>0=%{x}<br>1=%{y}<br>2=%{z}<extra></extra>\",\"legendgroup\":\"Topic 3\",\"marker\":{\"color\":\"#ab63fa\",\"opacity\":0.7,\"symbol\":\"circle\"},\"mode\":\"markers\",\"name\":\"Topic 3\",\"scene\":\"scene\",\"showlegend\":true,\"x\":[3.505260944366455,4.478379726409912,4.4198713302612305,1.8879796266555786,2.823969841003418,4.2543792724609375,5.02851676940918,2.670670747756958,1.870633602142334,4.16258430480957,3.089348077774048,3.496218204498291,5.023146629333496,1.7534379959106445,1.9145512580871582,3.5097804069519043,1.6947287321090698,0.7270938754081726,1.042603611946106,1.0419360399246216,5.178408622741699,-0.24639803171157837,4.167518138885498,4.389829635620117,2.0392608642578125,0.47949129343032837,2.675506830215454],\"y\":[-0.34350186586380005,2.0007529258728027,2.1236987113952637,-2.2652788162231445,7.991232395172119,3.291541337966919,3.2342097759246826,7.904879570007324,1.3525199890136719,1.291664481163025,-1.6093772649765015,-0.41151121258735657,3.289112091064453,6.627330303192139,-1.8605822324752808,-0.12996456027030945,-2.4476170539855957,6.461654186248779,6.440942287445068,6.995535373687744,2.4818012714385986,-2.052908420562744,1.1406234502792358,2.8474936485290527,-1.3517221212387085,5.977622032165527,7.952133655548096],\"z\":[7.62107515335083,6.063348293304443,6.555016994476318,8.792505264282227,0.7659444808959961,6.528267860412598,5.043998718261719,0.8638032078742981,7.533610820770264,6.64823055267334,8.050054550170898,7.590394496917725,5.293342590332031,5.558902740478516,8.761553764343262,7.474811553955078,8.863179206848145,3.6208672523498535,3.2142670154571533,2.881545066833496,5.834319591522217,8.899504661560059,6.602802753448486,6.576059341430664,8.940364837646484,4.3600239753723145,0.7972792983055115],\"type\":\"scatter3d\"}],                        {\"template\":{\"data\":{\"histogram2dcontour\":[{\"type\":\"histogram2dcontour\",\"colorbar\":{\"outlinewidth\":0,\"ticks\":\"\"},\"colorscale\":[[0.0,\"#0d0887\"],[0.1111111111111111,\"#46039f\"],[0.2222222222222222,\"#7201a8\"],[0.3333333333333333,\"#9c179e\"],[0.4444444444444444,\"#bd3786\"],[0.5555555555555556,\"#d8576b\"],[0.6666666666666666,\"#ed7953\"],[0.7777777777777778,\"#fb9f3a\"],[0.8888888888888888,\"#fdca26\"],[1.0,\"#f0f921\"]]}],\"choropleth\":[{\"type\":\"choropleth\",\"colorbar\":{\"outlinewidth\":0,\"ticks\":\"\"}}],\"histogram2d\":[{\"type\":\"histogram2d\",\"colorbar\":{\"outlinewidth\":0,\"ticks\":\"\"},\"colorscale\":[[0.0,\"#0d0887\"],[0.1111111111111111,\"#46039f\"],[0.2222222222222222,\"#7201a8\"],[0.3333333333333333,\"#9c179e\"],[0.4444444444444444,\"#bd3786\"],[0.5555555555555556,\"#d8576b\"],[0.6666666666666666,\"#ed7953\"],[0.7777777777777778,\"#fb9f3a\"],[0.8888888888888888,\"#fdca26\"],[1.0,\"#f0f921\"]]}],\"heatmap\":[{\"type\":\"heatmap\",\"colorbar\":{\"outlinewidth\":0,\"ticks\":\"\"},\"colorscale\":[[0.0,\"#0d0887\"],[0.1111111111111111,\"#46039f\"],[0.2222222222222222,\"#7201a8\"],[0.3333333333333333,\"#9c179e\"],[0.4444444444444444,\"#bd3786\"],[0.5555555555555556,\"#d8576b\"],[0.6666666666666666,\"#ed7953\"],[0.7777777777777778,\"#fb9f3a\"],[0.8888888888888888,\"#fdca26\"],[1.0,\"#f0f921\"]]}],\"heatmapgl\":[{\"type\":\"heatmapgl\",\"colorbar\":{\"outlinewidth\":0,\"ticks\":\"\"},\"colorscale\":[[0.0,\"#0d0887\"],[0.1111111111111111,\"#46039f\"],[0.2222222222222222,\"#7201a8\"],[0.3333333333333333,\"#9c179e\"],[0.4444444444444444,\"#bd3786\"],[0.5555555555555556,\"#d8576b\"],[0.6666666666666666,\"#ed7953\"],[0.7777777777777778,\"#fb9f3a\"],[0.8888888888888888,\"#fdca26\"],[1.0,\"#f0f921\"]]}],\"contourcarpet\":[{\"type\":\"contourcarpet\",\"colorbar\":{\"outlinewidth\":0,\"ticks\":\"\"}}],\"contour\":[{\"type\":\"contour\",\"colorbar\":{\"outlinewidth\":0,\"ticks\":\"\"},\"colorscale\":[[0.0,\"#0d0887\"],[0.1111111111111111,\"#46039f\"],[0.2222222222222222,\"#7201a8\"],[0.3333333333333333,\"#9c179e\"],[0.4444444444444444,\"#bd3786\"],[0.5555555555555556,\"#d8576b\"],[0.6666666666666666,\"#ed7953\"],[0.7777777777777778,\"#fb9f3a\"],[0.8888888888888888,\"#fdca26\"],[1.0,\"#f0f921\"]]}],\"surface\":[{\"type\":\"surface\",\"colorbar\":{\"outlinewidth\":0,\"ticks\":\"\"},\"colorscale\":[[0.0,\"#0d0887\"],[0.1111111111111111,\"#46039f\"],[0.2222222222222222,\"#7201a8\"],[0.3333333333333333,\"#9c179e\"],[0.4444444444444444,\"#bd3786\"],[0.5555555555555556,\"#d8576b\"],[0.6666666666666666,\"#ed7953\"],[0.7777777777777778,\"#fb9f3a\"],[0.8888888888888888,\"#fdca26\"],[1.0,\"#f0f921\"]]}],\"mesh3d\":[{\"type\":\"mesh3d\",\"colorbar\":{\"outlinewidth\":0,\"ticks\":\"\"}}],\"scatter\":[{\"fillpattern\":{\"fillmode\":\"overlay\",\"size\":10,\"solidity\":0.2},\"type\":\"scatter\"}],\"parcoords\":[{\"type\":\"parcoords\",\"line\":{\"colorbar\":{\"outlinewidth\":0,\"ticks\":\"\"}}}],\"scatterpolargl\":[{\"type\":\"scatterpolargl\",\"marker\":{\"colorbar\":{\"outlinewidth\":0,\"ticks\":\"\"}}}],\"bar\":[{\"error_x\":{\"color\":\"#2a3f5f\"},\"error_y\":{\"color\":\"#2a3f5f\"},\"marker\":{\"line\":{\"color\":\"#E5ECF6\",\"width\":0.5},\"pattern\":{\"fillmode\":\"overlay\",\"size\":10,\"solidity\":0.2}},\"type\":\"bar\"}],\"scattergeo\":[{\"type\":\"scattergeo\",\"marker\":{\"colorbar\":{\"outlinewidth\":0,\"ticks\":\"\"}}}],\"scatterpolar\":[{\"type\":\"scatterpolar\",\"marker\":{\"colorbar\":{\"outlinewidth\":0,\"ticks\":\"\"}}}],\"histogram\":[{\"marker\":{\"pattern\":{\"fillmode\":\"overlay\",\"size\":10,\"solidity\":0.2}},\"type\":\"histogram\"}],\"scattergl\":[{\"type\":\"scattergl\",\"marker\":{\"colorbar\":{\"outlinewidth\":0,\"ticks\":\"\"}}}],\"scatter3d\":[{\"type\":\"scatter3d\",\"line\":{\"colorbar\":{\"outlinewidth\":0,\"ticks\":\"\"}},\"marker\":{\"colorbar\":{\"outlinewidth\":0,\"ticks\":\"\"}}}],\"scattermapbox\":[{\"type\":\"scattermapbox\",\"marker\":{\"colorbar\":{\"outlinewidth\":0,\"ticks\":\"\"}}}],\"scatterternary\":[{\"type\":\"scatterternary\",\"marker\":{\"colorbar\":{\"outlinewidth\":0,\"ticks\":\"\"}}}],\"scattercarpet\":[{\"type\":\"scattercarpet\",\"marker\":{\"colorbar\":{\"outlinewidth\":0,\"ticks\":\"\"}}}],\"carpet\":[{\"aaxis\":{\"endlinecolor\":\"#2a3f5f\",\"gridcolor\":\"white\",\"linecolor\":\"white\",\"minorgridcolor\":\"white\",\"startlinecolor\":\"#2a3f5f\"},\"baxis\":{\"endlinecolor\":\"#2a3f5f\",\"gridcolor\":\"white\",\"linecolor\":\"white\",\"minorgridcolor\":\"white\",\"startlinecolor\":\"#2a3f5f\"},\"type\":\"carpet\"}],\"table\":[{\"cells\":{\"fill\":{\"color\":\"#EBF0F8\"},\"line\":{\"color\":\"white\"}},\"header\":{\"fill\":{\"color\":\"#C8D4E3\"},\"line\":{\"color\":\"white\"}},\"type\":\"table\"}],\"barpolar\":[{\"marker\":{\"line\":{\"color\":\"#E5ECF6\",\"width\":0.5},\"pattern\":{\"fillmode\":\"overlay\",\"size\":10,\"solidity\":0.2}},\"type\":\"barpolar\"}],\"pie\":[{\"automargin\":true,\"type\":\"pie\"}]},\"layout\":{\"autotypenumbers\":\"strict\",\"colorway\":[\"#636efa\",\"#EF553B\",\"#00cc96\",\"#ab63fa\",\"#FFA15A\",\"#19d3f3\",\"#FF6692\",\"#B6E880\",\"#FF97FF\",\"#FECB52\"],\"font\":{\"color\":\"#2a3f5f\"},\"hovermode\":\"closest\",\"hoverlabel\":{\"align\":\"left\"},\"paper_bgcolor\":\"white\",\"plot_bgcolor\":\"#E5ECF6\",\"polar\":{\"bgcolor\":\"#E5ECF6\",\"angularaxis\":{\"gridcolor\":\"white\",\"linecolor\":\"white\",\"ticks\":\"\"},\"radialaxis\":{\"gridcolor\":\"white\",\"linecolor\":\"white\",\"ticks\":\"\"}},\"ternary\":{\"bgcolor\":\"#E5ECF6\",\"aaxis\":{\"gridcolor\":\"white\",\"linecolor\":\"white\",\"ticks\":\"\"},\"baxis\":{\"gridcolor\":\"white\",\"linecolor\":\"white\",\"ticks\":\"\"},\"caxis\":{\"gridcolor\":\"white\",\"linecolor\":\"white\",\"ticks\":\"\"}},\"coloraxis\":{\"colorbar\":{\"outlinewidth\":0,\"ticks\":\"\"}},\"colorscale\":{\"sequential\":[[0.0,\"#0d0887\"],[0.1111111111111111,\"#46039f\"],[0.2222222222222222,\"#7201a8\"],[0.3333333333333333,\"#9c179e\"],[0.4444444444444444,\"#bd3786\"],[0.5555555555555556,\"#d8576b\"],[0.6666666666666666,\"#ed7953\"],[0.7777777777777778,\"#fb9f3a\"],[0.8888888888888888,\"#fdca26\"],[1.0,\"#f0f921\"]],\"sequentialminus\":[[0.0,\"#0d0887\"],[0.1111111111111111,\"#46039f\"],[0.2222222222222222,\"#7201a8\"],[0.3333333333333333,\"#9c179e\"],[0.4444444444444444,\"#bd3786\"],[0.5555555555555556,\"#d8576b\"],[0.6666666666666666,\"#ed7953\"],[0.7777777777777778,\"#fb9f3a\"],[0.8888888888888888,\"#fdca26\"],[1.0,\"#f0f921\"]],\"diverging\":[[0,\"#8e0152\"],[0.1,\"#c51b7d\"],[0.2,\"#de77ae\"],[0.3,\"#f1b6da\"],[0.4,\"#fde0ef\"],[0.5,\"#f7f7f7\"],[0.6,\"#e6f5d0\"],[0.7,\"#b8e186\"],[0.8,\"#7fbc41\"],[0.9,\"#4d9221\"],[1,\"#276419\"]]},\"xaxis\":{\"gridcolor\":\"white\",\"linecolor\":\"white\",\"ticks\":\"\",\"title\":{\"standoff\":15},\"zerolinecolor\":\"white\",\"automargin\":true,\"zerolinewidth\":2},\"yaxis\":{\"gridcolor\":\"white\",\"linecolor\":\"white\",\"ticks\":\"\",\"title\":{\"standoff\":15},\"zerolinecolor\":\"white\",\"automargin\":true,\"zerolinewidth\":2},\"scene\":{\"xaxis\":{\"backgroundcolor\":\"#E5ECF6\",\"gridcolor\":\"white\",\"linecolor\":\"white\",\"showbackground\":true,\"ticks\":\"\",\"zerolinecolor\":\"white\",\"gridwidth\":2},\"yaxis\":{\"backgroundcolor\":\"#E5ECF6\",\"gridcolor\":\"white\",\"linecolor\":\"white\",\"showbackground\":true,\"ticks\":\"\",\"zerolinecolor\":\"white\",\"gridwidth\":2},\"zaxis\":{\"backgroundcolor\":\"#E5ECF6\",\"gridcolor\":\"white\",\"linecolor\":\"white\",\"showbackground\":true,\"ticks\":\"\",\"zerolinecolor\":\"white\",\"gridwidth\":2}},\"shapedefaults\":{\"line\":{\"color\":\"#2a3f5f\"}},\"annotationdefaults\":{\"arrowcolor\":\"#2a3f5f\",\"arrowhead\":0,\"arrowwidth\":1},\"geo\":{\"bgcolor\":\"white\",\"landcolor\":\"#E5ECF6\",\"subunitcolor\":\"white\",\"showland\":true,\"showlakes\":true,\"lakecolor\":\"white\"},\"title\":{\"x\":0.05},\"mapbox\":{\"style\":\"light\"}}},\"scene\":{\"domain\":{\"x\":[0.0,1.0],\"y\":[0.0,1.0]},\"xaxis\":{\"title\":{\"text\":\"0\"}},\"yaxis\":{\"title\":{\"text\":\"1\"}},\"zaxis\":{\"title\":{\"text\":\"2\"}}},\"legend\":{\"title\":{\"text\":\"Dominant_Topic\"},\"tracegroupgap\":0},\"title\":{\"text\":\"3d TSNE Plot for Topic Model\"},\"height\":800,\"width\":900},                        {\"responsive\": true}                    ).then(function(){\n",
       "                            \n",
       "var gd = document.getElementById('eddfb1ac-36eb-47ce-b233-309dd7fa3d54');\n",
       "var x = new MutationObserver(function (mutations, observer) {{\n",
       "        var display = window.getComputedStyle(gd).display;\n",
       "        if (!display || display === 'none') {{\n",
       "            console.log([gd, 'removed!']);\n",
       "            Plotly.purge(gd);\n",
       "            observer.disconnect();\n",
       "        }}\n",
       "}});\n",
       "\n",
       "// Listen for the removal of the full notebook cells\n",
       "var notebookContainer = gd.closest('#notebook-container');\n",
       "if (notebookContainer) {{\n",
       "    x.observe(notebookContainer, {childList: true});\n",
       "}}\n",
       "\n",
       "// Listen for the clearing of the current output cell\n",
       "var outputEl = gd.closest('.output');\n",
       "if (outputEl) {{\n",
       "    x.observe(outputEl, {childList: true});\n",
       "}}\n",
       "\n",
       "                        })                };                });            </script>        </div>"
      ]
     },
     "metadata": {},
     "output_type": "display_data"
    }
   ],
   "source": [
    "plot_model(lda, plot = 'tsne')"
   ]
  },
  {
   "cell_type": "markdown",
   "id": "a9ace867",
   "metadata": {},
   "source": [
    "### [UMAP: Uniform Manifold Approximation and Projection for Dimension Reduction](https://umap-learn.readthedocs.io/en/latest/index.html)"
   ]
  },
  {
   "cell_type": "code",
   "execution_count": 27,
   "id": "b2bfa0ff",
   "metadata": {},
   "outputs": [
    {
     "data": {
      "text/html": [
       "        <script type=\"text/javascript\">\n",
       "        window.PlotlyConfig = {MathJaxConfig: 'local'};\n",
       "        if (window.MathJax) {MathJax.Hub.Config({SVG: {font: \"STIX-Web\"}});}\n",
       "        if (typeof require !== 'undefined') {\n",
       "        require.undef(\"plotly\");\n",
       "        requirejs.config({\n",
       "            paths: {\n",
       "                'plotly': ['https://cdn.plot.ly/plotly-2.11.1.min']\n",
       "            }\n",
       "        });\n",
       "        require(['plotly'], function(Plotly) {\n",
       "            window._Plotly = Plotly;\n",
       "        });\n",
       "        }\n",
       "        </script>\n",
       "        "
      ]
     },
     "metadata": {},
     "output_type": "display_data"
    },
    {
     "data": {
      "image/png": "[encoded data removed]",
      "text/plain": [
       "<Figure size 720x432 with 1 Axes>"
      ]
     },
     "metadata": {},
     "output_type": "display_data"
    }
   ],
   "source": [
    "plot_model(lda, plot = 'umap')"
   ]
  },
  {
   "cell_type": "code",
   "execution_count": 28,
   "id": "a7386533",
   "metadata": {},
   "outputs": [
    {
     "data": {
      "application/vnd.jupyter.widget-view+json": {
       "model_id": "88c5e0eaacfc4cac8d370c519bad36b5",
       "version_major": 2,
       "version_minor": 0
      },
      "text/plain": [
       "interactive(children=(ToggleButtons(description='Plot Type:', icons=('',), options=(('Frequency Plot', 'freque…"
      ]
     },
     "metadata": {},
     "output_type": "display_data"
    }
   ],
   "source": [
    "evaluate_model(lda)"
   ]
  },
  {
   "cell_type": "code",
   "execution_count": 29,
   "id": "f45a40b0",
   "metadata": {},
   "outputs": [
    {
     "name": "stdout",
     "output_type": "stream",
     "text": [
      "Model Succesfully Saved\n"
     ]
    },
    {
     "data": {
      "text/plain": [
       "(<gensim.models.lsimodel.LsiModel at 0x7fa114e03fa0>, './models/NLP01.pkl')"
      ]
     },
     "execution_count": 29,
     "metadata": {},
     "output_type": "execute_result"
    }
   ],
   "source": [
    "save_model(lda,'./models/NLP01')"
   ]
  },
  {
   "cell_type": "code",
   "execution_count": 30,
   "id": "392a103d",
   "metadata": {},
   "outputs": [
    {
     "name": "stdout",
     "output_type": "stream",
     "text": [
      "Model Sucessfully Loaded\n"
     ]
    }
   ],
   "source": [
    "saved_lda = load_model('./models/NLP01')"
   ]
  },
  {
   "cell_type": "code",
   "execution_count": 31,
   "id": "841c37bd",
   "metadata": {},
   "outputs": [
    {
     "name": "stdout",
     "output_type": "stream",
     "text": [
      "LsiModel(num_terms=4636, num_topics=4, decay=1.0, chunksize=20000)\n"
     ]
    }
   ],
   "source": [
    "print(saved_lda)"
   ]
  },
  {
   "cell_type": "code",
   "execution_count": null,
   "id": "85ff8183",
   "metadata": {},
   "outputs": [
    {
     "name": "stdout",
     "output_type": "stream",
     "text": [
      "[2022-04-17 20:14:02 -0300] [38239] [INFO] Starting gunicorn 20.1.0\r\n",
      "[2022-04-17 20:14:02 -0300] [38239] [INFO] Listening at: http://127.0.0.1:5000 (38239)\r\n",
      "[2022-04-17 20:14:02 -0300] [38239] [INFO] Using worker: sync\r\n",
      "[2022-04-17 20:14:02 -0300] [38240] [INFO] Booting worker with pid: 38240\r\n"
     ]
    }
   ],
   "source": [
    "!mlflow ui "
   ]
  },
  {
   "cell_type": "markdown",
   "id": "b85738f7",
   "metadata": {},
   "source": [
    "________________________________"
   ]
  }
 ],
 "metadata": {
  "kernelspec": {
   "display_name": "Python 3 (ipykernel)",
   "language": "python",
   "name": "python3"
  },
  "language_info": {
   "codemirror_mode": {
    "name": "ipython",
    "version": 3
   },
   "file_extension": ".py",
   "mimetype": "text/x-python",
   "name": "python",
   "nbconvert_exporter": "python",
   "pygments_lexer": "ipython3",
   "version": "3.9.12"
  }
 },
 "nbformat": 4,
 "nbformat_minor": 5
}
